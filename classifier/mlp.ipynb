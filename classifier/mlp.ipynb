{
 "cells": [
  {
   "cell_type": "code",
   "execution_count": 53,
   "metadata": {},
   "outputs": [],
   "source": [
    "import pandas as pd\n",
    "import numpy as np\n",
    "import matplotlib.pyplot as plt\n",
    "from sklearn.model_selection import train_test_split\n",
    "from sklearn.neural_network import MLPClassifier\n",
    "from sklearn.naive_bayes import GaussianNB\n",
    "from sklearn.metrics import accuracy_score"
   ]
  },
  {
   "cell_type": "code",
   "execution_count": 127,
   "metadata": {},
   "outputs": [],
   "source": [
    "df = pd.DataFrame({\n",
    "    'a':np.append(np.random.normal(0,1, 1000),np.random.normal(2,1, 1000)),\n",
    "    'b':[0] * 1000 + [1] * 1000\n",
    "})\n",
    "\n",
    "df = df[(df['a'] > -1) & (df['a'] < 3)]"
   ]
  },
  {
   "cell_type": "code",
   "execution_count": 128,
   "metadata": {},
   "outputs": [
    {
     "data": {
      "text/html": [
       "<div>\n",
       "<style scoped>\n",
       "    .dataframe tbody tr th:only-of-type {\n",
       "        vertical-align: middle;\n",
       "    }\n",
       "\n",
       "    .dataframe tbody tr th {\n",
       "        vertical-align: top;\n",
       "    }\n",
       "\n",
       "    .dataframe thead th {\n",
       "        text-align: right;\n",
       "    }\n",
       "</style>\n",
       "<table border=\"1\" class=\"dataframe\">\n",
       "  <thead>\n",
       "    <tr style=\"text-align: right;\">\n",
       "      <th></th>\n",
       "      <th>a</th>\n",
       "      <th>b</th>\n",
       "    </tr>\n",
       "  </thead>\n",
       "  <tbody>\n",
       "    <tr>\n",
       "      <th>0</th>\n",
       "      <td>-0.345751</td>\n",
       "      <td>0</td>\n",
       "    </tr>\n",
       "    <tr>\n",
       "      <th>1</th>\n",
       "      <td>1.002937</td>\n",
       "      <td>0</td>\n",
       "    </tr>\n",
       "    <tr>\n",
       "      <th>3</th>\n",
       "      <td>0.559296</td>\n",
       "      <td>0</td>\n",
       "    </tr>\n",
       "    <tr>\n",
       "      <th>4</th>\n",
       "      <td>-0.713429</td>\n",
       "      <td>0</td>\n",
       "    </tr>\n",
       "    <tr>\n",
       "      <th>5</th>\n",
       "      <td>-0.839322</td>\n",
       "      <td>0</td>\n",
       "    </tr>\n",
       "    <tr>\n",
       "      <th>...</th>\n",
       "      <td>...</td>\n",
       "      <td>...</td>\n",
       "    </tr>\n",
       "    <tr>\n",
       "      <th>1992</th>\n",
       "      <td>1.746829</td>\n",
       "      <td>1</td>\n",
       "    </tr>\n",
       "    <tr>\n",
       "      <th>1993</th>\n",
       "      <td>2.227420</td>\n",
       "      <td>1</td>\n",
       "    </tr>\n",
       "    <tr>\n",
       "      <th>1997</th>\n",
       "      <td>0.819749</td>\n",
       "      <td>1</td>\n",
       "    </tr>\n",
       "    <tr>\n",
       "      <th>1998</th>\n",
       "      <td>1.543499</td>\n",
       "      <td>1</td>\n",
       "    </tr>\n",
       "    <tr>\n",
       "      <th>1999</th>\n",
       "      <td>1.319628</td>\n",
       "      <td>1</td>\n",
       "    </tr>\n",
       "  </tbody>\n",
       "</table>\n",
       "<p>1677 rows × 2 columns</p>\n",
       "</div>"
      ],
      "text/plain": [
       "             a  b\n",
       "0    -0.345751  0\n",
       "1     1.002937  0\n",
       "3     0.559296  0\n",
       "4    -0.713429  0\n",
       "5    -0.839322  0\n",
       "...        ... ..\n",
       "1992  1.746829  1\n",
       "1993  2.227420  1\n",
       "1997  0.819749  1\n",
       "1998  1.543499  1\n",
       "1999  1.319628  1\n",
       "\n",
       "[1677 rows x 2 columns]"
      ]
     },
     "execution_count": 128,
     "metadata": {},
     "output_type": "execute_result"
    }
   ],
   "source": [
    "df"
   ]
  },
  {
   "cell_type": "code",
   "execution_count": 171,
   "metadata": {},
   "outputs": [],
   "source": [
    "gaussians = {i:np.random.normal(0,1 + 0.1 * i, 1000) for i in range(10)}"
   ]
  },
  {
   "cell_type": "code",
   "execution_count": 244,
   "metadata": {},
   "outputs": [],
   "source": [
    "data_col = np.concatenate([np.random.normal(0,1 + 0.1 * i, 1000) for i in range(10)])\n",
    "label_col = np.array([ i for i in range(10) for _ in range(1000)])\n",
    "\n",
    "gaussians_df = pd.DataFrame({'A':data_col, 'L':label_col})"
   ]
  },
  {
   "cell_type": "code",
   "execution_count": 246,
   "metadata": {},
   "outputs": [
    {
     "data": {
      "text/plain": [
       "<matplotlib.legend.Legend at 0x7fb222518cd0>"
      ]
     },
     "execution_count": 246,
     "metadata": {},
     "output_type": "execute_result"
    },
    {
     "data": {
      "image/png": "[encoded data removed]",
      "text/plain": [
       "<Figure size 432x288 with 1 Axes>"
      ]
     },
     "metadata": {
      "needs_background": "light"
     },
     "output_type": "display_data"
    }
   ],
   "source": [
    "# plt.hist(gaussians.values())\n",
    "bin_edges = np.linspace(-6,6,21)\n",
    "for i, arr in gaussians.items():\n",
    "    plt.hist(arr, alpha=0.4, label=f'{i}', bins=bin_edges)\n",
    "plt.legend()\n",
    "# plt.show()"
   ]
  },
  {
   "cell_type": "code",
   "execution_count": 249,
   "metadata": {},
   "outputs": [
    {
     "data": {
      "text/plain": [
       "L\n",
       "0    AxesSubplot(0.125,0.125;0.775x0.755)\n",
       "1    AxesSubplot(0.125,0.125;0.775x0.755)\n",
       "2    AxesSubplot(0.125,0.125;0.775x0.755)\n",
       "3    AxesSubplot(0.125,0.125;0.775x0.755)\n",
       "4    AxesSubplot(0.125,0.125;0.775x0.755)\n",
       "5    AxesSubplot(0.125,0.125;0.775x0.755)\n",
       "6    AxesSubplot(0.125,0.125;0.775x0.755)\n",
       "7    AxesSubplot(0.125,0.125;0.775x0.755)\n",
       "8    AxesSubplot(0.125,0.125;0.775x0.755)\n",
       "9    AxesSubplot(0.125,0.125;0.775x0.755)\n",
       "Name: A, dtype: object"
      ]
     },
     "execution_count": 249,
     "metadata": {},
     "output_type": "execute_result"
    },
    {
     "data": {
      "image/png": "[encoded data removed]",
      "text/plain": [
       "<Figure size 432x288 with 1 Axes>"
      ]
     },
     "metadata": {
      "needs_background": "light"
     },
     "output_type": "display_data"
    }
   ],
   "source": [
    "bin_edges = np.linspace(-6,6,21)\n",
    "gaussians_df.groupby('L')['A'].hist(bins=bin_edges, alpha=0.3)"
   ]
  },
  {
   "cell_type": "code",
   "execution_count": 155,
   "metadata": {},
   "outputs": [],
   "source": [
    "# nX_train, nX_test, ny_train, ny_test = train_test_split(df[['a']], df['b'], test_size=0.2, shuffle=True)"
   ]
  },
  {
   "cell_type": "code",
   "execution_count": 270,
   "metadata": {},
   "outputs": [
    {
     "name": "stdout",
     "output_type": "stream",
     "text": [
      "MLP 1.0\n",
      "MLP 0.47\n",
      "MLP 0.525\n",
      "MLP 0.54\n",
      "MLP 0.5675\n",
      "MLP 0.59\n",
      "MLP 0.6275\n",
      "MLP 0.6425\n",
      "MLP 0.615\n",
      "MLP 0.675\n"
     ]
    },
    {
     "data": {
      "text/plain": [
       "[1.0, 0.47, 0.525, 0.54, 0.5675, 0.59, 0.6275, 0.6425, 0.615, 0.675]"
      ]
     },
     "execution_count": 270,
     "metadata": {},
     "output_type": "execute_result"
    }
   ],
   "source": [
    "#  here i need to unfold a cell\n",
    "scores=[]\n",
    "log_likelihoods = {}\n",
    "for i in range(10):\n",
    "    X = gaussians_df[(gaussians_df['L'] == i) | (gaussians_df['L'] == 0)]\n",
    "    nX_train, nX_test, ny_train, ny_test = train_test_split(X[['A']], X['L'], test_size=0.2, shuffle=True)\n",
    "    mlp_clf = MLPClassifier()\n",
    "    mlp_clf.fit(nX_train, ny_train)\n",
    "    scores.append(mlp_clf.score(nX_test, ny_test))\n",
    "    print('MLP',mlp_clf.score(nX_test, ny_test))\n",
    "\n",
    "    new_test = np.random.normal(0, 1 + 0.1 * i, (1000, 1))\n",
    "\n",
    "    log_probs = mlp_clf.predict_log_proba(new_test)\n",
    "\n",
    "    log_likelihood = sum(log_probs)\n",
    "\n",
    "    log_likelihhods[i] = log_likelihood\n",
    "\n",
    "scores\n"
   ]
  },
  {
   "cell_type": "code",
   "execution_count": 265,
   "metadata": {},
   "outputs": [
    {
     "name": "stdout",
     "output_type": "stream",
     "text": [
      "MLP 0.63\n",
      "Gnb 0.6275\n",
      "0.6275\n"
     ]
    }
   ],
   "source": [
    "mlp_clf = MLPClassifier()\n",
    "mlp_clf.fit(nX_train, ny_train)\n",
    "print('MLP',mlp_clf.score(nX_test, ny_test))\n",
    "\n",
    "gnb = GaussianNB()\n",
    "\n",
    "# Train our classifier\n",
    "model = gnb.fit(nX_train, ny_train)\n",
    "\n",
    "print('Gnb',gnb.score(nX_test, ny_test))\n",
    "\n",
    "# Make predictions\n",
    "preds = gnb.predict(nX_test)\n",
    "# print(preds)\n",
    "\n",
    "# Evaluate accuracy\n",
    "print(accuracy_score(ny_test, preds))"
   ]
  },
  {
   "cell_type": "code",
   "execution_count": 266,
   "metadata": {},
   "outputs": [
    {
     "data": {
      "text/plain": [
       "[<matplotlib.lines.Line2D at 0x7fb211588160>]"
      ]
     },
     "execution_count": 266,
     "metadata": {},
     "output_type": "execute_result"
    },
    {
     "data": {
      "image/png": "[encoded data removed]",
      "text/plain": [
       "<Figure size 432x288 with 1 Axes>"
      ]
     },
     "metadata": {
      "needs_background": "light"
     },
     "output_type": "display_data"
    }
   ],
   "source": [
    "x = np.linspace(0,4,100)\n",
    "plt.plot(x, mlp_clf.predict_proba(x.reshape(100,1))[:,1])"
   ]
  },
  {
   "cell_type": "code",
   "execution_count": 267,
   "metadata": {},
   "outputs": [
    {
     "data": {
      "text/plain": [
       "[<matplotlib.lines.Line2D at 0x7fb2443885b0>]"
      ]
     },
     "execution_count": 267,
     "metadata": {},
     "output_type": "execute_result"
    },
    {
     "data": {
      "image/png": "[encoded data removed]",
      "text/plain": [
       "<Figure size 432x288 with 1 Axes>"
      ]
     },
     "metadata": {
      "needs_background": "light"
     },
     "output_type": "display_data"
    }
   ],
   "source": [
    "x = np.linspace(0,4,100)\n",
    "plt.plot(x, mlp_clf.predict_proba(x.reshape(100,1))[:,0])"
   ]
  },
  {
   "cell_type": "code",
   "execution_count": 268,
   "metadata": {},
   "outputs": [
    {
     "data": {
      "text/plain": [
       "(array([ 2.,  0.,  1.,  2.,  2.,  0.,  1.,  1.,  1.,  4.,  2.,  1.,  4.,\n",
       "         4.,  7.,  8.,  6.,  9., 12.,  8.,  6., 17., 11., 45., 59.]),\n",
       " array([0.0580463 , 0.08267097, 0.10729564, 0.13192031, 0.15654499,\n",
       "        0.18116966, 0.20579433, 0.23041901, 0.25504368, 0.27966835,\n",
       "        0.30429303, 0.3289177 , 0.35354237, 0.37816705, 0.40279172,\n",
       "        0.42741639, 0.45204107, 0.47666574, 0.50129041, 0.52591508,\n",
       "        0.55053976, 0.57516443, 0.5997891 , 0.62441378, 0.64903845,\n",
       "        0.67366312]),\n",
       " <BarContainer object of 25 artists>)"
      ]
     },
     "execution_count": 268,
     "metadata": {},
     "output_type": "execute_result"
    },
    {
     "data": {
      "image/png": "[encoded data removed]",
      "text/plain": [
       "<Figure size 432x288 with 1 Axes>"
      ]
     },
     "metadata": {
      "needs_background": "light"
     },
     "output_type": "display_data"
    }
   ],
   "source": [
    "plt.hist(gnb.predict_proba(nX_test[ny_test == 0])[:,0],bins=25, alpha=0.5)\n",
    "plt.hist(mlp_clf.predict_proba(nX_test[ny_test == 0])[:,0],bins=25, alpha=0.5)"
   ]
  },
  {
   "cell_type": "code",
   "execution_count": null,
   "metadata": {},
   "outputs": [],
   "source": []
  }
 ],
 "metadata": {
  "interpreter": {
   "hash": "d1149ae9be4f0945d1d296c076b623883e89279b6939a63f260b5649fba9c55f"
  },
  "kernelspec": {
   "display_name": "Python 3.8.5 64-bit ('base': conda)",
   "name": "python3"
  },
  "language_info": {
   "codemirror_mode": {
    "name": "ipython",
    "version": 3
   },
   "file_extension": ".py",
   "mimetype": "text/x-python",
   "name": "python",
   "nbconvert_exporter": "python",
   "pygments_lexer": "ipython3",
   "version": "3.8.5"
  },
  "orig_nbformat": 4
 },
 "nbformat": 4,
 "nbformat_minor": 2
}
