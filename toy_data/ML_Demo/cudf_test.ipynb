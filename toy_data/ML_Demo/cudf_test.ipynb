{
 "cells": [
  {
   "cell_type": "code",
   "execution_count": 31,
   "metadata": {},
   "outputs": [],
   "source": [
    "import pandas as pd\n",
    "import numpy as np\n",
    "\n",
    "import dask.dataframe as dd\n",
    "from dask.multiprocessing import get\n",
    "\n",
    "import swifter"
   ]
  },
  {
   "cell_type": "code",
   "execution_count": 5,
   "metadata": {},
   "outputs": [],
   "source": [
    "def test(row):\n",
    "    return (row['a'] + row['b']) * row['c']"
   ]
  },
  {
   "cell_type": "code",
   "execution_count": 34,
   "metadata": {},
   "outputs": [],
   "source": [
    "df = pd.DataFrame({\n",
    "    'a':np.random.random(1_000_000),\n",
    "    'b':np.random.random(1_000_000),\n",
    "    'c':np.random.random(1_000_000),\n",
    "})"
   ]
  },
  {
   "cell_type": "code",
   "execution_count": 36,
   "metadata": {},
   "outputs": [
    {
     "data": {
      "text/plain": [
       "0         0.049512\n",
       "1         0.123350\n",
       "2         0.405569\n",
       "3         0.115161\n",
       "4         0.775727\n",
       "            ...   \n",
       "999995    0.969266\n",
       "999996    0.437669\n",
       "999997    0.268619\n",
       "999998    0.194011\n",
       "999999    0.275984\n",
       "Length: 1000000, dtype: float64"
      ]
     },
     "execution_count": 36,
     "metadata": {},
     "output_type": "execute_result"
    }
   ],
   "source": [
    "df.apply(lambda row: test(row), axis=1)"
   ]
  },
  {
   "cell_type": "code",
   "execution_count": 27,
   "metadata": {},
   "outputs": [],
   "source": [
    "ddf = dd.from_pandas(df, npartitions=4)"
   ]
  },
  {
   "cell_type": "code",
   "execution_count": 29,
   "metadata": {},
   "outputs": [],
   "source": [
    "res = ddf.map_partitions(lambda df: df.apply((lambda row: test(row)), axis=1)).compute(scheduler='processes')\n",
    "# (lambda df: df.apply((lambda row: myfunc(*row)), axis=1)).compute(get=get)  "
   ]
  },
  {
   "cell_type": "code",
   "execution_count": 32,
   "metadata": {},
   "outputs": [
    {
     "data": {
      "text/plain": [
       "0         0.162302\n",
       "1         0.074910\n",
       "2         0.053201\n",
       "3         0.010646\n",
       "4         0.231488\n",
       "            ...   \n",
       "999995    0.675448\n",
       "999996    0.947361\n",
       "999997    0.781899\n",
       "999998    0.807672\n",
       "999999    0.246549\n",
       "Length: 1000000, dtype: float64"
      ]
     },
     "execution_count": 32,
     "metadata": {},
     "output_type": "execute_result"
    }
   ],
   "source": [
    "res"
   ]
  },
  {
   "cell_type": "code",
   "execution_count": 35,
   "metadata": {},
   "outputs": [
    {
     "data": {
      "text/plain": [
       "0         0.049512\n",
       "1         0.123350\n",
       "2         0.405569\n",
       "3         0.115161\n",
       "4         0.775727\n",
       "            ...   \n",
       "999995    0.969266\n",
       "999996    0.437669\n",
       "999997    0.268619\n",
       "999998    0.194011\n",
       "999999    0.275984\n",
       "Length: 1000000, dtype: float64"
      ]
     },
     "execution_count": 35,
     "metadata": {},
     "output_type": "execute_result"
    }
   ],
   "source": [
    "df.swifter.apply(lambda row: test(row), axis=1)"
   ]
  },
  {
   "cell_type": "code",
   "execution_count": null,
   "metadata": {},
   "outputs": [],
   "source": []
  }
 ],
 "metadata": {
  "interpreter": {
   "hash": "842ccaf2166e683e15d8a374bfea2ab57969a68a7c48d567b1afafa73ff2445a"
  },
  "kernelspec": {
   "display_name": "Python 3.8.8 64-bit ('base': conda)",
   "language": "python",
   "name": "python3"
  },
  "language_info": {
   "codemirror_mode": {
    "name": "ipython",
    "version": 3
   },
   "file_extension": ".py",
   "mimetype": "text/x-python",
   "name": "python",
   "nbconvert_exporter": "python",
   "pygments_lexer": "ipython3",
   "version": "3.8.8"
  },
  "orig_nbformat": 4
 },
 "nbformat": 4,
 "nbformat_minor": 2
}
