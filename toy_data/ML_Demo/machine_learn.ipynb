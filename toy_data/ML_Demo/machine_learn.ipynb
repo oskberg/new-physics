{
 "cells": [
  {
   "cell_type": "code",
   "execution_count": 57,
   "metadata": {},
   "outputs": [],
   "source": [
    "#  %%\n",
    "from sklearn.tree import DecisionTreeRegressor\n",
    "from sklearn.tree import DecisionTreeClassifier\n",
    "from sklearn.linear_model import LinearRegression\n",
    "from sklearn.model_selection import train_test_split\n",
    "from sklearn.metrics import accuracy_score\n",
    "from sklearn.neural_network import MLPRegressor \n",
    "from sklearn.neural_network import MLPClassifier\n",
    "from sklearn import preprocessing\n",
    "import numpy as np\n",
    "import pandas as pd\n",
    "\n",
    "from sklearn.preprocessing import StandardScaler\n",
    "# %%\n"
   ]
  },
  {
   "cell_type": "code",
   "execution_count": 47,
   "metadata": {},
   "outputs": [],
   "source": [
    "data_points0 = pd.read_csv('data/toy_data_c9_-0.46_c10_0.46_2021_10_29_13.csv', index_col=0)\n",
    "data_points46 = pd.read_csv('data/toy_data_c9_0_c10_0_2021_10_29_11.csv', index_col=0)\n",
    "\n",
    "data_points0['C9'] = [0] * data_points0.shape[0]\n",
    "data_points46['C9'] = [-0.46] * data_points46.shape[0]\n",
    "# data_points0['C10'] = [0] * data_points0.shape[0]\n",
    "# data_points03['C10'] = [0.3] * data_points03.shape[0]\n",
    "\n",
    "merged = pd.concat([data_points0, data_points46]).reset_index(drop=True)\n",
    "\n",
    "# x = data_points.drop(columns=['J_comp'])\n",
    "# y = data_points['J_comp']\n",
    "\n",
    "# x_train, x_test, y_train, y_test = train_test_split(x,y, test_size=0.25)\n"
   ]
  },
  {
   "cell_type": "code",
   "execution_count": 60,
   "metadata": {},
   "outputs": [
    {
     "data": {
      "text/html": [
       "<div>\n",
       "<style scoped>\n",
       "    .dataframe tbody tr th:only-of-type {\n",
       "        vertical-align: middle;\n",
       "    }\n",
       "\n",
       "    .dataframe tbody tr th {\n",
       "        vertical-align: top;\n",
       "    }\n",
       "\n",
       "    .dataframe thead th {\n",
       "        text-align: right;\n",
       "    }\n",
       "</style>\n",
       "<table border=\"1\" class=\"dataframe\">\n",
       "  <thead>\n",
       "    <tr style=\"text-align: right;\">\n",
       "      <th></th>\n",
       "      <th>q2</th>\n",
       "      <th>k</th>\n",
       "      <th>l</th>\n",
       "      <th>p</th>\n",
       "      <th>J_comp</th>\n",
       "      <th>C9</th>\n",
       "    </tr>\n",
       "  </thead>\n",
       "  <tbody>\n",
       "    <tr>\n",
       "      <th>0</th>\n",
       "      <td>14.498198</td>\n",
       "      <td>2.729491</td>\n",
       "      <td>0.605314</td>\n",
       "      <td>0.279665</td>\n",
       "      <td>0.688015</td>\n",
       "      <td>0.00</td>\n",
       "    </tr>\n",
       "    <tr>\n",
       "      <th>1</th>\n",
       "      <td>11.014711</td>\n",
       "      <td>1.692780</td>\n",
       "      <td>1.285026</td>\n",
       "      <td>-1.370453</td>\n",
       "      <td>0.530656</td>\n",
       "      <td>0.00</td>\n",
       "    </tr>\n",
       "    <tr>\n",
       "      <th>2</th>\n",
       "      <td>7.797051</td>\n",
       "      <td>0.921580</td>\n",
       "      <td>2.590832</td>\n",
       "      <td>-2.612348</td>\n",
       "      <td>0.129048</td>\n",
       "      <td>0.00</td>\n",
       "    </tr>\n",
       "    <tr>\n",
       "      <th>3</th>\n",
       "      <td>18.274971</td>\n",
       "      <td>2.735215</td>\n",
       "      <td>1.300263</td>\n",
       "      <td>-0.440819</td>\n",
       "      <td>0.790924</td>\n",
       "      <td>0.00</td>\n",
       "    </tr>\n",
       "    <tr>\n",
       "      <th>4</th>\n",
       "      <td>10.757946</td>\n",
       "      <td>0.454165</td>\n",
       "      <td>1.908450</td>\n",
       "      <td>1.632341</td>\n",
       "      <td>0.712921</td>\n",
       "      <td>0.00</td>\n",
       "    </tr>\n",
       "    <tr>\n",
       "      <th>...</th>\n",
       "      <td>...</td>\n",
       "      <td>...</td>\n",
       "      <td>...</td>\n",
       "      <td>...</td>\n",
       "      <td>...</td>\n",
       "      <td>...</td>\n",
       "    </tr>\n",
       "    <tr>\n",
       "      <th>26785</th>\n",
       "      <td>10.465174</td>\n",
       "      <td>0.129090</td>\n",
       "      <td>1.133012</td>\n",
       "      <td>-2.955900</td>\n",
       "      <td>0.917911</td>\n",
       "      <td>-0.46</td>\n",
       "    </tr>\n",
       "    <tr>\n",
       "      <th>26786</th>\n",
       "      <td>15.473061</td>\n",
       "      <td>1.219828</td>\n",
       "      <td>0.322072</td>\n",
       "      <td>-1.792927</td>\n",
       "      <td>1.059041</td>\n",
       "      <td>-0.46</td>\n",
       "    </tr>\n",
       "    <tr>\n",
       "      <th>26787</th>\n",
       "      <td>17.694974</td>\n",
       "      <td>1.902007</td>\n",
       "      <td>0.476926</td>\n",
       "      <td>-1.129403</td>\n",
       "      <td>1.039283</td>\n",
       "      <td>-0.46</td>\n",
       "    </tr>\n",
       "    <tr>\n",
       "      <th>26788</th>\n",
       "      <td>13.123620</td>\n",
       "      <td>2.528305</td>\n",
       "      <td>1.605046</td>\n",
       "      <td>2.877888</td>\n",
       "      <td>0.265772</td>\n",
       "      <td>-0.46</td>\n",
       "    </tr>\n",
       "    <tr>\n",
       "      <th>26789</th>\n",
       "      <td>6.226326</td>\n",
       "      <td>2.489922</td>\n",
       "      <td>0.794853</td>\n",
       "      <td>2.516473</td>\n",
       "      <td>0.174111</td>\n",
       "      <td>-0.46</td>\n",
       "    </tr>\n",
       "  </tbody>\n",
       "</table>\n",
       "<p>26790 rows × 6 columns</p>\n",
       "</div>"
      ],
      "text/plain": [
       "              q2         k         l         p    J_comp    C9\n",
       "0      14.498198  2.729491  0.605314  0.279665  0.688015  0.00\n",
       "1      11.014711  1.692780  1.285026 -1.370453  0.530656  0.00\n",
       "2       7.797051  0.921580  2.590832 -2.612348  0.129048  0.00\n",
       "3      18.274971  2.735215  1.300263 -0.440819  0.790924  0.00\n",
       "4      10.757946  0.454165  1.908450  1.632341  0.712921  0.00\n",
       "...          ...       ...       ...       ...       ...   ...\n",
       "26785  10.465174  0.129090  1.133012 -2.955900  0.917911 -0.46\n",
       "26786  15.473061  1.219828  0.322072 -1.792927  1.059041 -0.46\n",
       "26787  17.694974  1.902007  0.476926 -1.129403  1.039283 -0.46\n",
       "26788  13.123620  2.528305  1.605046  2.877888  0.265772 -0.46\n",
       "26789   6.226326  2.489922  0.794853  2.516473  0.174111 -0.46\n",
       "\n",
       "[26790 rows x 6 columns]"
      ]
     },
     "execution_count": 60,
     "metadata": {},
     "output_type": "execute_result"
    }
   ],
   "source": [
    "merged"
   ]
  },
  {
   "cell_type": "code",
   "execution_count": 63,
   "metadata": {},
   "outputs": [],
   "source": [
    "scaler = StandardScaler()\n",
    "\n",
    "x = merged.drop(columns=['C9'])\n",
    "y = merged[['C9']]\n",
    "\n",
    "x = scaler.fit_transform(x)\n",
    "\n",
    "x_train, x_test, y_train, y_test = train_test_split(x,y, test_size=0.20,shuffle=True)\n",
    "\n",
    "y_train = y_train.replace({-0.46:0, 0:1, 0.46:2})"
   ]
  },
  {
   "cell_type": "code",
   "execution_count": 69,
   "metadata": {},
   "outputs": [
    {
     "name": "stderr",
     "output_type": "stream",
     "text": [
      "/Users/jakubpazio/opt/anaconda3/lib/python3.8/site-packages/sklearn/utils/validation.py:72: DataConversionWarning: A column-vector y was passed when a 1d array was expected. Please change the shape of y to (n_samples, ), for example using ravel().\n",
      "  return f(**kwargs)\n"
     ]
    }
   ],
   "source": [
    "\n",
    "# model = DecisionTreeRegressor()\n",
    "# model = DecisionTreeClassifier()\n",
    "# model = LinearRegression()\n",
    "model = MLPClassifier()\n",
    "model.fit(x_train, y_train.values)\n",
    "predictions = model.predict(x_test)"
   ]
  },
  {
   "cell_type": "code",
   "execution_count": 70,
   "metadata": {},
   "outputs": [
    {
     "data": {
      "text/plain": [
       "0.4985069055617768"
      ]
     },
     "execution_count": 70,
     "metadata": {},
     "output_type": "execute_result"
    }
   ],
   "source": [
    "accuracy_score(predictions, y_test.replace({-0.46:0, 0:1, 0.46:2}))"
   ]
  },
  {
   "cell_type": "code",
   "execution_count": null,
   "metadata": {},
   "outputs": [],
   "source": []
  }
 ],
 "metadata": {
  "interpreter": {
   "hash": "d1149ae9be4f0945d1d296c076b623883e89279b6939a63f260b5649fba9c55f"
  },
  "kernelspec": {
   "display_name": "Python 3.8.5 64-bit ('base': conda)",
   "name": "python3"
  },
  "language_info": {
   "codemirror_mode": {
    "name": "ipython",
    "version": 3
   },
   "file_extension": ".py",
   "mimetype": "text/x-python",
   "name": "python",
   "nbconvert_exporter": "python",
   "pygments_lexer": "ipython3",
   "version": "3.8.5"
  },
  "orig_nbformat": 4
 },
 "nbformat": 4,
 "nbformat_minor": 2
}
