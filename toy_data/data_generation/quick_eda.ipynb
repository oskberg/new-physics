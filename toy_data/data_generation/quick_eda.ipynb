{
 "cells": [
  {
   "cell_type": "code",
   "execution_count": 2,
   "metadata": {},
   "outputs": [],
   "source": [
    "import numpy as np\n",
    "import pandas as pd\n",
    "import matplotlib.pyplot as plt"
   ]
  },
  {
   "cell_type": "code",
   "execution_count": 3,
   "metadata": {},
   "outputs": [],
   "source": [
    "data = pd.read_csv('data/datasets/toy_data_c9_0.0_c10_0.0_2022_1_31_0.csv')\n"
   ]
  },
  {
   "cell_type": "code",
   "execution_count": 8,
   "metadata": {},
   "outputs": [
    {
     "data": {
      "text/plain": [
       "(array([[ 182.,  944., 2115., 3424., 4257., 4314., 3491., 2108.,  924.,\n",
       "          170.],\n",
       "        [ 297.,  869., 1948., 2904., 3580., 3611., 2852., 1999.,  983.,\n",
       "          327.],\n",
       "        [ 478.,  834., 1407., 2069., 2332., 2350., 2062., 1543.,  904.,\n",
       "          527.],\n",
       "        [ 676.,  808.,  987., 1144., 1312., 1294., 1219., 1036.,  840.,\n",
       "          807.],\n",
       "        [ 793.,  755.,  643.,  576.,  531.,  642.,  707.,  759.,  824.,\n",
       "          913.],\n",
       "        [ 800.,  763.,  697.,  616.,  649.,  604.,  714.,  731.,  904.,\n",
       "          919.],\n",
       "        [ 662.,  779.,  999., 1222., 1266., 1239., 1175., 1024.,  914.,\n",
       "          793.],\n",
       "        [ 455.,  835., 1475., 2118., 2389., 2431., 2098., 1465.,  914.,\n",
       "          522.],\n",
       "        [ 280.,  894., 1946., 2884., 3587., 3614., 2986., 1948.,  889.,\n",
       "          321.],\n",
       "        [ 198.,  968., 2178., 3397., 4084., 4227., 3470., 2211.,  915.,\n",
       "          176.]]),\n",
       " array([1.56630481e-05, 3.14173193e-01, 6.28330722e-01, 9.42488252e-01,\n",
       "        1.25664578e+00, 1.57080331e+00, 1.88496084e+00, 2.19911837e+00,\n",
       "        2.51327590e+00, 2.82743343e+00, 3.14159096e+00]),\n",
       " array([2.29724950e-05, 3.14174732e-01, 6.28326492e-01, 9.42478252e-01,\n",
       "        1.25663001e+00, 1.57078177e+00, 1.88493353e+00, 2.19908529e+00,\n",
       "        2.51323705e+00, 2.82738881e+00, 3.14154057e+00]),\n",
       " <matplotlib.collections.QuadMesh at 0x7fae54eed160>)"
      ]
     },
     "execution_count": 8,
     "metadata": {},
     "output_type": "execute_result"
    },
    {
     "data": {
      "image/png": "[encoded data removed]",
      "text/plain": [
       "<Figure size 432x288 with 1 Axes>"
      ]
     },
     "metadata": {
      "needs_background": "light"
     },
     "output_type": "display_data"
    }
   ],
   "source": [
    "plt.hist2d(data['k'], data['l'])"
   ]
  },
  {
   "cell_type": "code",
   "execution_count": null,
   "metadata": {},
   "outputs": [],
   "source": []
  }
 ],
 "metadata": {
  "interpreter": {
   "hash": "7812ea015bdcee6f23a998adcdd2ef97c151c0c241b7b7070987d9313e41299d"
  },
  "kernelspec": {
   "display_name": "Python 3.9.2 64-bit",
   "language": "python",
   "name": "python3"
  },
  "language_info": {
   "codemirror_mode": {
    "name": "ipython",
    "version": 3
   },
   "file_extension": ".py",
   "mimetype": "text/x-python",
   "name": "python",
   "nbconvert_exporter": "python",
   "pygments_lexer": "ipython3",
   "version": "3.9.2"
  },
  "orig_nbformat": 4
 },
 "nbformat": 4,
 "nbformat_minor": 2
}
