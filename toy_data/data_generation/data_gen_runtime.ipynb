{
 "cells": [
  {
   "cell_type": "code",
   "execution_count": 17,
   "metadata": {},
   "outputs": [],
   "source": [
    "import pickle\n",
    "from datetime import datetime\n",
    "\n",
    "import numpy as np\n",
    "import pandas as pd\n",
    "import matplotlib.pyplot as plt\n",
    "\n",
    "from tqdm import tqdm\n",
    "\n",
    "from data_generation_interpolated_lib import InterpolatedDataGenerator"
   ]
  },
  {
   "cell_type": "code",
   "execution_count": 18,
   "metadata": {},
   "outputs": [],
   "source": [
    "# interp_path = '/Users/oskar/MSci/new-physics/toy_data/data_generation/data/interpolation/interp_2022_1_31_0'\n",
    "# interp_path = '/Users/oskar/MSci/new-physics/toy_data/data_generation/data/interpolation/interp_1.1-8_-3-3_2022_2_15_19'\n",
    "interp_path = '/Users/oskar/MSci/new-physics/toy_data/data_generation/data/interpolation/interp_0.1-1_-3-3_2022_2_16_16'"
   ]
  },
  {
   "cell_type": "code",
   "execution_count": 29,
   "metadata": {},
   "outputs": [],
   "source": [
    "# xx, yy = np.meshgrid(np.linspace(-3,3,100), np.linspace(-3,3,100))\n",
    "xx, yy = np.meshgrid(np.arange(-3,4), np.arange(-3,4))\n",
    "wilson_coefficients_grid = np.vstack([xx.flatten(), yy.flatten()]).T"
   ]
  },
  {
   "cell_type": "code",
   "execution_count": 33,
   "metadata": {},
   "outputs": [],
   "source": [
    "data_generator = InterpolatedDataGenerator(interp_path)\n",
    "data_generator.q2_max = 0.98\n",
    "data_generator.q2_min = 0.1\n",
    "\n",
    "c_min, c_max = -3, 3\n",
    "n_bins = 10\n",
    "\n",
    "number_points = 50_000\n",
    "sample_points = 10_000\n",
    "\n",
    "sample_points_grid = 5_000\n",
    "\n",
    "wilson_coefficients = np.random.uniform(c_min, c_max, (number_points, 2))\n",
    "\n",
    "bin_edges_qkl = [\n",
    "    np.linspace(0.1, 0.98, n_bins+1),           # q2\n",
    "    np.linspace(0, np.pi, n_bins+1),         # k\n",
    "    np.linspace(0, np.pi, n_bins+1),         # l\n",
    "    # np.linspace(-np.pi, np.pi, n_bins+1),         # p\n",
    "]\n",
    "\n",
    "# bin_edges_qklp = [\n",
    "#     np.linspace(1.1, 8, n_bins+1),           # q2\n",
    "#     np.linspace(0, np.pi, n_bins+1),         # k\n",
    "#     np.linspace(0, np.pi, n_bins+1),         # l\n",
    "#     np.linspace(-np.pi, np.pi, n_bins+1),         # p\n",
    "# ]"
   ]
  },
  {
   "cell_type": "code",
   "execution_count": 28,
   "metadata": {},
   "outputs": [
    {
     "name": "stderr",
     "output_type": "stream",
     "text": [
      "  0%|          | 1/50000 [00:00<5:44:41,  2.42it/s]\n"
     ]
    },
    {
     "ename": "ValueError",
     "evalue": "One of the requested xi is out of bounds in dimension 2",
     "output_type": "error",
     "traceback": [
      "\u001b[0;31m---------------------------------------------------------------------------\u001b[0m",
      "\u001b[0;31mValueError\u001b[0m                                Traceback (most recent call last)",
      "\u001b[0;32m<ipython-input-28-fa4d015971f1>\u001b[0m in \u001b[0;36m<module>\u001b[0;34m\u001b[0m\n\u001b[1;32m      1\u001b[0m \u001b[0mdataset\u001b[0m \u001b[0;34m=\u001b[0m \u001b[0;34m[\u001b[0m\u001b[0;34m]\u001b[0m\u001b[0;34m\u001b[0m\u001b[0;34m\u001b[0m\u001b[0m\n\u001b[1;32m      2\u001b[0m \u001b[0;32mfor\u001b[0m \u001b[0mc9\u001b[0m\u001b[0;34m,\u001b[0m \u001b[0mc10\u001b[0m \u001b[0;32min\u001b[0m \u001b[0mtqdm\u001b[0m\u001b[0;34m(\u001b[0m\u001b[0mwilson_coefficients\u001b[0m\u001b[0;34m)\u001b[0m\u001b[0;34m:\u001b[0m\u001b[0;34m\u001b[0m\u001b[0;34m\u001b[0m\u001b[0m\n\u001b[0;32m----> 3\u001b[0;31m     \u001b[0msample\u001b[0m \u001b[0;34m=\u001b[0m \u001b[0mdata_generator\u001b[0m\u001b[0;34m.\u001b[0m\u001b[0mgenerate_data\u001b[0m\u001b[0;34m(\u001b[0m\u001b[0mc9\u001b[0m\u001b[0;34m,\u001b[0m \u001b[0mc10\u001b[0m\u001b[0;34m,\u001b[0m \u001b[0msample_points\u001b[0m \u001b[0;34m*\u001b[0m \u001b[0;36m10\u001b[0m\u001b[0;34m)\u001b[0m\u001b[0;34m\u001b[0m\u001b[0;34m\u001b[0m\u001b[0m\n\u001b[0m\u001b[1;32m      4\u001b[0m \u001b[0;34m\u001b[0m\u001b[0m\n\u001b[1;32m      5\u001b[0m     values_3d_qkl, _ = np.histogramdd(\n",
      "\u001b[0;32m~/MSci/new-physics/toy_data/data_generation/data_generation_interpolated_lib.py\u001b[0m in \u001b[0;36mgenerate_data\u001b[0;34m(self, c9, c10, initial_points, clean)\u001b[0m\n\u001b[1;32m    105\u001b[0m         \u001b[0mself\u001b[0m\u001b[0;34m.\u001b[0m\u001b[0meval_points_c10\u001b[0m \u001b[0;34m=\u001b[0m \u001b[0mself\u001b[0m\u001b[0;34m.\u001b[0m\u001b[0mrandom_data\u001b[0m\u001b[0;34m[\u001b[0m\u001b[0;34m'c10'\u001b[0m\u001b[0;34m]\u001b[0m\u001b[0;34m\u001b[0m\u001b[0;34m\u001b[0m\u001b[0m\n\u001b[1;32m    106\u001b[0m \u001b[0;34m\u001b[0m\u001b[0m\n\u001b[0;32m--> 107\u001b[0;31m         \u001b[0mself\u001b[0m\u001b[0;34m.\u001b[0m\u001b[0mrandom_data\u001b[0m\u001b[0;34m[\u001b[0m\u001b[0;34m'dBR'\u001b[0m\u001b[0;34m]\u001b[0m \u001b[0;34m=\u001b[0m \u001b[0mself\u001b[0m\u001b[0;34m.\u001b[0m\u001b[0minterpolate_dBR\u001b[0m\u001b[0;34m(\u001b[0m\u001b[0;34m)\u001b[0m\u001b[0;34m\u001b[0m\u001b[0;34m\u001b[0m\u001b[0m\n\u001b[0m\u001b[1;32m    108\u001b[0m \u001b[0;34m\u001b[0m\u001b[0m\n\u001b[1;32m    109\u001b[0m         \u001b[0mself\u001b[0m\u001b[0;34m.\u001b[0m\u001b[0mq2_filtered_data\u001b[0m \u001b[0;34m=\u001b[0m \u001b[0mself\u001b[0m\u001b[0;34m.\u001b[0m\u001b[0mrandom_data\u001b[0m\u001b[0;34m[\u001b[0m\u001b[0mself\u001b[0m\u001b[0;34m.\u001b[0m\u001b[0mrandom_data\u001b[0m\u001b[0;34m[\u001b[0m\u001b[0;34m'dBR_rnd'\u001b[0m\u001b[0;34m]\u001b[0m \u001b[0;34m<\u001b[0m \u001b[0mself\u001b[0m\u001b[0;34m.\u001b[0m\u001b[0mrandom_data\u001b[0m\u001b[0;34m[\u001b[0m\u001b[0;34m'dBR'\u001b[0m\u001b[0;34m]\u001b[0m\u001b[0;34m]\u001b[0m\u001b[0;34m.\u001b[0m\u001b[0mcopy\u001b[0m\u001b[0;34m(\u001b[0m\u001b[0;34m)\u001b[0m\u001b[0;34m\u001b[0m\u001b[0;34m\u001b[0m\u001b[0m\n",
      "\u001b[0;32m~/MSci/new-physics/toy_data/data_generation/data_generation_interpolated_lib.py\u001b[0m in \u001b[0;36minterpolate_dBR\u001b[0;34m(self)\u001b[0m\n\u001b[1;32m     62\u001b[0m \u001b[0;34m\u001b[0m\u001b[0m\n\u001b[1;32m     63\u001b[0m     \u001b[0;32mdef\u001b[0m \u001b[0minterpolate_dBR\u001b[0m\u001b[0;34m(\u001b[0m\u001b[0mself\u001b[0m\u001b[0;34m)\u001b[0m\u001b[0;34m:\u001b[0m\u001b[0;34m\u001b[0m\u001b[0;34m\u001b[0m\u001b[0m\n\u001b[0;32m---> 64\u001b[0;31m         return interp.interpn(\n\u001b[0m\u001b[1;32m     65\u001b[0m             \u001b[0;34m[\u001b[0m\u001b[0mself\u001b[0m\u001b[0;34m.\u001b[0m\u001b[0mq_in\u001b[0m\u001b[0;34m,\u001b[0m \u001b[0mself\u001b[0m\u001b[0;34m.\u001b[0m\u001b[0mc9_in\u001b[0m\u001b[0;34m,\u001b[0m \u001b[0mself\u001b[0m\u001b[0;34m.\u001b[0m\u001b[0mc10_in\u001b[0m\u001b[0;34m]\u001b[0m\u001b[0;34m,\u001b[0m\u001b[0;34m\u001b[0m\u001b[0;34m\u001b[0m\u001b[0m\n\u001b[1;32m     66\u001b[0m             \u001b[0mself\u001b[0m\u001b[0;34m.\u001b[0m\u001b[0mtrue_br_vals\u001b[0m\u001b[0;34m,\u001b[0m\u001b[0;34m\u001b[0m\u001b[0;34m\u001b[0m\u001b[0m\n",
      "\u001b[0;32m/Library/Frameworks/Python.framework/Versions/3.9/lib/python3.9/site-packages/scipy/interpolate/interpolate.py\u001b[0m in \u001b[0;36minterpn\u001b[0;34m(points, values, xi, method, bounds_error, fill_value)\u001b[0m\n\u001b[1;32m   2688\u001b[0m             if not np.logical_and(np.all(grid[i][0] <= p),\n\u001b[1;32m   2689\u001b[0m                                                 np.all(p <= grid[i][-1])):\n\u001b[0;32m-> 2690\u001b[0;31m                 raise ValueError(\"One of the requested xi is out of bounds \"\n\u001b[0m\u001b[1;32m   2691\u001b[0m                                 \"in dimension %d\" % i)\n\u001b[1;32m   2692\u001b[0m \u001b[0;34m\u001b[0m\u001b[0m\n",
      "\u001b[0;31mValueError\u001b[0m: One of the requested xi is out of bounds in dimension 2"
     ]
    }
   ],
   "source": [
    "dataset = []\n",
    "for c9, c10 in tqdm(wilson_coefficients):\n",
    "    sample = data_generator.generate_data(c9, c10, sample_points * 10)\n",
    "\n",
    "    values_3d_qkl, _ = np.histogramdd(\n",
    "        sample[['q2', 'k', 'l']].values,\n",
    "        bins=bin_edges_qkl,\n",
    "        # weights=sample['weight'],\n",
    "        density=True\n",
    "    )\n",
    "\n",
    "    # values_3d_qklp, _ = np.histogramdd(\n",
    "    #     sample[['q2', 'k', 'l', 'p']].values,\n",
    "    #     bins=bin_edges_qklp,\n",
    "    #     density=True\n",
    "    # )\n",
    "\n",
    "    dataset.append({\n",
    "        'histogram_qkl': values_3d_qkl,\n",
    "        # 'histogram_qklp': values_3d_qklp,\n",
    "        'c9': c9,\n",
    "        'c10': c10\n",
    "    })\n",
    "\n",
    "\n",
    "now = datetime.now()\n",
    "output_file_name = f'dataset_q0.1-0.98_qkl_{n_bins}bins_{sample_points}n_{now.month}_{now.day}_{now.hour}.pkl'\n",
    "path_to_file = 'data/'\n",
    "with open(path_to_file + output_file_name, 'wb') as out_file:\n",
    "    pickle.dump(dataset, out_file)\n"
   ]
  },
  {
   "cell_type": "code",
   "execution_count": 34,
   "metadata": {},
   "outputs": [
    {
     "name": "stderr",
     "output_type": "stream",
     "text": [
      "100%|██████████| 49/49 [08:35<00:00, 10.53s/it]\n"
     ]
    }
   ],
   "source": [
    "dataset = []\n",
    "for c9, c10 in tqdm(wilson_coefficients_grid):\n",
    "\n",
    "    sample_big = data_generator.generate_data(c9, c10, 1_000_000)\n",
    "\n",
    "    for _ in range(1000):\n",
    "        sample = sample_big.sample(sample_points_grid)\n",
    "        values_3d_qkl, _ = np.histogramdd(\n",
    "            sample[['q2', 'k', 'l']].values,\n",
    "            bins=bin_edges_qkl,\n",
    "            # weights=sample['weight'],\n",
    "            density=True\n",
    "        )\n",
    "\n",
    "        # values_3d_qklp, _ = np.histogramdd(\n",
    "        #     sample[['q2', 'k', 'l', 'p']].values,\n",
    "        #     bins=bin_edges_qklp,\n",
    "        #     density=True\n",
    "        # )\n",
    "\n",
    "        dataset.append({\n",
    "            'histogram_qkl': values_3d_qkl,\n",
    "            # 'histogram_qklp': values_3d_qklp,\n",
    "            'c9': c9,\n",
    "            'c10': c10\n",
    "        })\n",
    "\n",
    "\n",
    "now = datetime.now()\n",
    "output_file_name = f'dataset_q0.1-0.98_qkl_{n_bins}bins_{sample_points_grid}n_{now.month}_{now.day}_{now.hour}_grid.pkl'\n",
    "path_to_file = 'data/'\n",
    "with open(path_to_file + output_file_name, 'wb') as out_file:\n",
    "    pickle.dump(dataset, out_file)\n"
   ]
  },
  {
   "cell_type": "code",
   "execution_count": null,
   "metadata": {},
   "outputs": [],
   "source": []
  }
 ],
 "metadata": {
  "interpreter": {
   "hash": "7812ea015bdcee6f23a998adcdd2ef97c151c0c241b7b7070987d9313e41299d"
  },
  "kernelspec": {
   "display_name": "Python 3.9.2 64-bit",
   "language": "python",
   "name": "python3"
  },
  "language_info": {
   "codemirror_mode": {
    "name": "ipython",
    "version": 3
   },
   "file_extension": ".py",
   "mimetype": "text/x-python",
   "name": "python",
   "nbconvert_exporter": "python",
   "pygments_lexer": "ipython3",
   "version": "3.9.2"
  },
  "orig_nbformat": 4
 },
 "nbformat": 4,
 "nbformat_minor": 2
}
