{
 "cells": [
  {
   "cell_type": "code",
   "execution_count": 4,
   "metadata": {},
   "outputs": [],
   "source": [
    "import flavio\n",
    "import numpy as np\n",
    "import pandas as pd\n",
    "import matplotlib.pyplot as plt\n",
    "from sklearn.model_selection import train_test_split"
   ]
  },
  {
   "cell_type": "code",
   "execution_count": 2,
   "metadata": {},
   "outputs": [
    {
     "name": "stdout",
     "output_type": "stream",
     "text": [
      "Collecting flavio\n",
      "  Using cached flavio-2.3.1.tar.gz (900 kB)\n",
      "Requirement already satisfied: numpy>=1.16.5 in /Users/oskar/opt/anaconda3/lib/python3.8/site-packages (from flavio) (1.20.1)\n",
      "Requirement already satisfied: scipy in /Users/oskar/opt/anaconda3/lib/python3.8/site-packages (from flavio) (1.6.2)\n",
      "Requirement already satisfied: setuptools>=3.3 in /Users/oskar/opt/anaconda3/lib/python3.8/site-packages (from flavio) (52.0.0.post20210125)\n",
      "Requirement already satisfied: pyyaml in /Users/oskar/opt/anaconda3/lib/python3.8/site-packages (from flavio) (5.4.1)\n",
      "Collecting ckmutil\n",
      "  Using cached ckmutil-0.3.2.tar.gz (6.3 kB)\n",
      "Collecting wilson>=2.0\n",
      "  Using cached wilson-2.2.1-py3-none-any.whl (554 kB)\n",
      "Collecting particle\n",
      "  Using cached particle-0.16.1-py2.py3-none-any.whl (230 kB)\n",
      "Collecting rundec>=0.5\n",
      "  Downloading rundec-0.5.2-cp38-cp38-macosx_10_9_x86_64.whl (118 kB)\n",
      "\u001b[K     |████████████████████████████████| 118 kB 105 kB/s \n",
      "\u001b[?25hCollecting pylha>=0.2\n",
      "  Using cached pylha-0.4.tar.gz (54 kB)\n",
      "Requirement already satisfied: pandas in /Users/oskar/opt/anaconda3/lib/python3.8/site-packages (from wilson>=2.0->flavio) (1.2.4)\n",
      "Collecting voluptuous\n",
      "  Using cached voluptuous-0.12.2.tar.gz (48 kB)\n",
      "Requirement already satisfied: python-dateutil>=2.7.3 in /Users/oskar/opt/anaconda3/lib/python3.8/site-packages (from pandas->wilson>=2.0->flavio) (2.8.1)\n",
      "Requirement already satisfied: pytz>=2017.3 in /Users/oskar/opt/anaconda3/lib/python3.8/site-packages (from pandas->wilson>=2.0->flavio) (2021.1)\n",
      "Requirement already satisfied: six>=1.5 in /Users/oskar/opt/anaconda3/lib/python3.8/site-packages (from python-dateutil>=2.7.3->pandas->wilson>=2.0->flavio) (1.15.0)\n",
      "Collecting hepunits>=2.0.0\n",
      "  Using cached hepunits-2.1.2-py2.py3-none-any.whl (10 kB)\n",
      "Collecting deprecated\n",
      "  Using cached Deprecated-1.2.13-py2.py3-none-any.whl (9.6 kB)\n",
      "Requirement already satisfied: attrs>=19.2 in /Users/oskar/opt/anaconda3/lib/python3.8/site-packages (from particle->flavio) (20.3.0)\n",
      "Requirement already satisfied: importlib-resources>=2.0 in /Users/oskar/opt/anaconda3/lib/python3.8/site-packages (from particle->flavio) (5.4.0)\n",
      "Requirement already satisfied: zipp>=3.1.0 in /Users/oskar/opt/anaconda3/lib/python3.8/site-packages (from importlib-resources>=2.0->particle->flavio) (3.4.1)\n",
      "Requirement already satisfied: wrapt<2,>=1.10 in /Users/oskar/opt/anaconda3/lib/python3.8/site-packages (from deprecated->particle->flavio) (1.12.1)\n",
      "Building wheels for collected packages: flavio, ckmutil, pylha, voluptuous\n",
      "  Building wheel for flavio (setup.py) ... \u001b[?25ldone\n",
      "\u001b[?25h  Created wheel for flavio: filename=flavio-2.3.1-py3-none-any.whl size=1007057 sha256=0ab4c29ef65ff18ffbd120f9cbee68e2316847d492a058587d6c67257d20d0f1\n",
      "  Stored in directory: /Users/oskar/Library/Caches/pip/wheels/11/96/33/55515ae101cf1e9d78a25f48d768c7b551206fc8f20ddc6d9b\n",
      "  Building wheel for ckmutil (setup.py) ... \u001b[?25ldone\n",
      "\u001b[?25h  Created wheel for ckmutil: filename=ckmutil-0.3.2-py3-none-any.whl size=8234 sha256=d8592060aab0faa7917b585e0673c07561035ccfc205edbe234c400f371b41d9\n",
      "  Stored in directory: /Users/oskar/Library/Caches/pip/wheels/31/ad/e7/7170b72074234404566382728604c86cd9302089d3ceb85aa2\n",
      "  Building wheel for pylha (setup.py) ... \u001b[?25ldone\n",
      "\u001b[?25h  Created wheel for pylha: filename=pylha-0.4-py3-none-any.whl size=58283 sha256=2507664a067ffc36cb8119625f3d982646999550fb432bd5d3db837ba856bf7e\n",
      "  Stored in directory: /Users/oskar/Library/Caches/pip/wheels/15/6d/14/5f8b360d39e07b30b510a71e2aac947abe98aea73d74b9816c\n",
      "  Building wheel for voluptuous (setup.py) ... \u001b[?25ldone\n",
      "\u001b[?25h  Created wheel for voluptuous: filename=voluptuous-0.12.2-py3-none-any.whl size=29552 sha256=bb414af82d2c1f4d646f922e2fd0b6883ddc86a47a34616b204c982e95c6ee7d\n",
      "  Stored in directory: /Users/oskar/Library/Caches/pip/wheels/63/c0/d7/d09babb5ec150707e09d6cabd2850c2ab322b3fb37b3081511\n",
      "Successfully built flavio ckmutil pylha voluptuous\n",
      "Installing collected packages: voluptuous, rundec, pylha, hepunits, deprecated, ckmutil, wilson, particle, flavio\n",
      "Successfully installed ckmutil-0.3.2 deprecated-1.2.13 flavio-2.3.1 hepunits-2.1.2 particle-0.16.1 pylha-0.4 rundec-0.5.2 voluptuous-0.12.2 wilson-2.2.1\n"
     ]
    }
   ],
   "source": [
    "!pip install flavio"
   ]
  },
  {
   "cell_type": "code",
   "execution_count": 3,
   "metadata": {},
   "outputs": [],
   "source": [
    "import xgboost"
   ]
  },
  {
   "cell_type": "code",
   "execution_count": 15,
   "metadata": {},
   "outputs": [],
   "source": [
    "scene1=pd.read_csv('data/toy_data_c9_-0.46_c10_0.46_2021_10_29_13.csv', index_col=0)\n",
    "scene2=pd.read_csv('data/toy_data_c9_-0.91_c10_0.18_2021_10_29_12.csv', index_col=0)\n",
    "scene3=pd.read_csv('data/toy_data_c9_0_c10_0_2021_10_29_11.csv', index_col=0)\n",
    "\n",
    "scene1['dataset'] = ['1'] * scene1.shape[0]\n",
    "scene2['dataset'] = ['2'] * scene2.shape[0]\n",
    "scene3['dataset'] = ['0'] * scene3.shape[0]\n",
    "\n",
    "for scene in [scene1, scene2, scene3]:\n",
    "    scene['k'] = np.cos(scene['k'])\n",
    "    scene['l'] = np.cos(scene['l'])"
   ]
  },
  {
   "cell_type": "code",
   "execution_count": 6,
   "metadata": {},
   "outputs": [],
   "source": [
    "from sklearn.manifold import TSNE"
   ]
  },
  {
   "cell_type": "code",
   "execution_count": 16,
   "metadata": {},
   "outputs": [],
   "source": [
    "combined = pd.concat([scene1, scene2, scene3])"
   ]
  },
  {
   "cell_type": "code",
   "execution_count": 30,
   "metadata": {},
   "outputs": [],
   "source": [
    "X_embedded = TSNE(n_components=2, perplexity=3).fit_transform(combined[['q2', 'k', 'l', 'p']])"
   ]
  },
  {
   "cell_type": "code",
   "execution_count": 32,
   "metadata": {},
   "outputs": [
    {
     "data": {
      "text/plain": [
       "<matplotlib.collections.PathCollection at 0x7fa1c5047b80>"
      ]
     },
     "execution_count": 32,
     "metadata": {},
     "output_type": "execute_result"
    },
    {
     "data": {
      "image/png": "[encoded data removed]",
      "text/plain": [
       "<Figure size 432x288 with 1 Axes>"
      ]
     },
     "metadata": {
      "needs_background": "light"
     },
     "output_type": "display_data"
    }
   ],
   "source": [
    "plt.scatter(X_embedded[combined['dataset'] == '1', 0], X_embedded[combined['dataset'] == '1', 1])\n",
    "plt.scatter(X_embedded[combined['dataset'] == '2', 0], X_embedded[combined['dataset'] == '2', 1])\n",
    "plt.scatter(X_embedded[combined['dataset'] == '0', 0], X_embedded[combined['dataset'] == '0', 1])"
   ]
  },
  {
   "cell_type": "markdown",
   "metadata": {},
   "source": [
    "# Try classifying the datasets"
   ]
  },
  {
   "cell_type": "code",
   "execution_count": 17,
   "metadata": {},
   "outputs": [],
   "source": [
    "features = ['q2','k','l','p']"
   ]
  },
  {
   "cell_type": "code",
   "execution_count": 18,
   "metadata": {},
   "outputs": [],
   "source": [
    "X_train, X_test, y_train, y_test = train_test_split(combined[features], combined[['dataset']], test_size=0.3)"
   ]
  },
  {
   "cell_type": "code",
   "execution_count": 20,
   "metadata": {},
   "outputs": [],
   "source": [
    "model = xgboost.XGBClassifier()"
   ]
  },
  {
   "cell_type": "code",
   "execution_count": 21,
   "metadata": {},
   "outputs": [
    {
     "name": "stderr",
     "output_type": "stream",
     "text": [
      "/Users/oskar/opt/anaconda3/lib/python3.8/site-packages/xgboost/sklearn.py:1224: UserWarning: The use of label encoder in XGBClassifier is deprecated and will be removed in a future release. To remove this warning, do the following: 1) Pass option use_label_encoder=False when constructing XGBClassifier object; and 2) Encode your labels (y) as integers starting with 0, i.e. 0, 1, 2, ..., [num_class - 1].\n",
      "  warnings.warn(label_encoder_deprecation_msg, UserWarning)\n",
      "/Users/oskar/opt/anaconda3/lib/python3.8/site-packages/sklearn/utils/validation.py:63: DataConversionWarning: A column-vector y was passed when a 1d array was expected. Please change the shape of y to (n_samples, ), for example using ravel().\n",
      "  return f(*args, **kwargs)\n"
     ]
    },
    {
     "name": "stdout",
     "output_type": "stream",
     "text": [
      "[17:10:18] WARNING: /Users/travis/build/dmlc/xgboost/src/learner.cc:1115: Starting in XGBoost 1.3.0, the default evaluation metric used with the objective 'multi:softprob' was changed from 'merror' to 'mlogloss'. Explicitly set eval_metric if you'd like to restore the old behavior.\n"
     ]
    },
    {
     "data": {
      "text/plain": [
       "XGBClassifier(base_score=0.5, booster='gbtree', colsample_bylevel=1,\n",
       "              colsample_bynode=1, colsample_bytree=1, enable_categorical=False,\n",
       "              gamma=0, gpu_id=-1, importance_type=None,\n",
       "              interaction_constraints='', learning_rate=0.300000012,\n",
       "              max_delta_step=0, max_depth=6, min_child_weight=1, missing=nan,\n",
       "              monotone_constraints='()', n_estimators=100, n_jobs=8,\n",
       "              num_parallel_tree=1, objective='multi:softprob', predictor='auto',\n",
       "              random_state=0, reg_alpha=0, reg_lambda=1, scale_pos_weight=None,\n",
       "              subsample=1, tree_method='exact', validate_parameters=1,\n",
       "              verbosity=None)"
      ]
     },
     "execution_count": 21,
     "metadata": {},
     "output_type": "execute_result"
    }
   ],
   "source": [
    "model.fit(X_train, y_train.astype(int))"
   ]
  },
  {
   "cell_type": "code",
   "execution_count": 22,
   "metadata": {},
   "outputs": [
    {
     "data": {
      "text/plain": [
       "0.3368753113066578"
      ]
     },
     "execution_count": 22,
     "metadata": {},
     "output_type": "execute_result"
    }
   ],
   "source": [
    "model.score(X_test, y_test.astype(int))"
   ]
  },
  {
   "cell_type": "code",
   "execution_count": null,
   "metadata": {},
   "outputs": [],
   "source": []
  }
 ],
 "metadata": {
  "interpreter": {
   "hash": "7812ea015bdcee6f23a998adcdd2ef97c151c0c241b7b7070987d9313e41299d"
  },
  "kernelspec": {
   "display_name": "Python 3.9.2 64-bit",
   "name": "python3"
  },
  "language_info": {
   "codemirror_mode": {
    "name": "ipython",
    "version": 3
   },
   "file_extension": ".py",
   "mimetype": "text/x-python",
   "name": "python",
   "nbconvert_exporter": "python",
   "pygments_lexer": "ipython3",
   "version": "3.8.8"
  },
  "orig_nbformat": 4
 },
 "nbformat": 4,
 "nbformat_minor": 2
}
