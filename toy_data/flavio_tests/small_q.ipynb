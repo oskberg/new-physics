{
 "cells": [
  {
   "cell_type": "markdown",
   "metadata": {},
   "source": [
    "# Imports"
   ]
  },
  {
   "cell_type": "code",
   "execution_count": 1,
   "metadata": {},
   "outputs": [],
   "source": [
    "import numpy as np\n",
    "import matplotlib.pyplot as plt\n",
    "from numpy.core.fromnumeric import nonzero\n",
    "# plt.rcParams.update({'text.usetex':False})\n",
    "\n",
    "from scipy import stats\n",
    "\n",
    "import flavio\n",
    "import flavio.plots\n",
    "import pandas as pd\n",
    "\n",
    "import matplotlib.ticker as tck\n",
    "\n",
    "from sklearn.model_selection import train_test_split\n",
    "from sklearn.preprocessing import LabelEncoder\n",
    "from tqdm import tqdm\n",
    "\n",
    "from sklearn.metrics import r2_score, accuracy_score"
   ]
  },
  {
   "cell_type": "code",
   "execution_count": 2,
   "metadata": {},
   "outputs": [],
   "source": [
    "# Functions\n",
    "def compute_J_from_vec(vec, wilson_coef=None):\n",
    "    obs_si = ['FL', 'AFB', 'S3', 'S4', 'S5', 'S7', 'S8', 'S9']\n",
    "    \n",
    "    if wilson_coef is None:\n",
    "        print(\"Setting wilson to sm...\")\n",
    "        #This is the SM\n",
    "        wilson_coef = flavio.WilsonCoefficients()\n",
    "        wilson_coef.set_initial({'C9_bsmumu' : 0., 'C10_bsmumu' : 0.}, scale = 100)\n",
    "\n",
    "    si = {obs: flavio.np_prediction('%s(B0->K*mumu)' % obs, wilson_coef, vec['q2']) for obs in obs_si}\n",
    "\n",
    "    return compute_J(si, vec['k'], vec['l'], vec['p'])\n",
    "\n",
    "\n",
    "def compute_J(si, k, l, p):\n",
    "    ''' Computes the differential branching factor \n",
    "    \n",
    "    si : dict\n",
    "        dictionary of all S_i terms\n",
    "    k : float\n",
    "        theta_k\n",
    "    l : float\n",
    "        theta l\n",
    "    p : float\n",
    "        phi\n",
    "    '''\n",
    "\n",
    "    fl =  3/4*(1 - si['FL']) * (np.sin(k) ** 2) + si['FL'] * (np.cos(k) ** 2) + 1/4 * (1 - si['FL']) * (np.sin(k) ** 2) * np.cos(2*l) - si['FL'] * (np.cos(k) ** 2) * np.cos(2*l)\n",
    "    s3 = si['S3'] * (np.sin(k) ** 2) * (np.sin(l) ** 2) * np.cos(2 * p)\n",
    "    s4 = si['S4'] * np.sin(2 * k) * np.sin(2*l) * np.cos(p)\n",
    "    s5 = si['S5'] * np.sin(2 * k) * np.sin(l) * np.cos(p)\n",
    "    afb = 4/3 * si['AFB'] * (np.sin(k) ** 2) * np.cos(l)\n",
    "    s7 = si['S7'] * np.sin(2 * k) * np.sin(l) * np.sin(p)\n",
    "    s8 = si['S8'] * np.sin(2 * k) * np.sin(2 * l) * np.sin(p)\n",
    "    s9 = si['S9'] * (np.sin(k) ** 2) * (np.sin(l) ** 2) * np.sin(2 * p)\n",
    "\n",
    "    return sum([fl, s3, s4, s5, afb, s7, s8, s9])\n",
    "\n",
    "\n",
    "def compute_J_from_df(df, w):\n",
    "    obs_si = ['FL', 'AFB', 'S3', 'S4', 'S5', 'S7', 'S8', 'S9']\n",
    "    \n",
    "    # si = {obs: flavio.np_prediction('%s(B0->K*mumu)' % obs, w, df['q2']) for obs in obs_si}\n",
    "    si = {}\n",
    "    for o in obs_si:\n",
    "        si[o] = df['q2'].apply(\n",
    "            lambda q2: flavio.np_prediction(f'{o}(B0->K*mumu)', w, q2)\n",
    "        )\n",
    "    si = pd.DataFrame(si)\n",
    "    return compute_J(si, df['k'], df['l'], df['p'])\n",
    "\n",
    "\n",
    "def format_range(x, a, b):\n",
    "    ''' given uniform x in range [0,1], ouptut uniform in range [a,b] '''\n",
    "    return x * (b - a) + a"
   ]
  },
  {
   "cell_type": "markdown",
   "metadata": {},
   "source": [
    "# Data Import"
   ]
  },
  {
   "cell_type": "code",
   "execution_count": 4,
   "metadata": {},
   "outputs": [],
   "source": [
    "f_name = 'toy_data_c9_0.0_c10_0.0_2021_12_6_17.csv'\n",
    "sm = pd.read_csv('data/' + f_name, index_col=0)\n",
    "sm.rename(columns={'J_comp':'BR_sm'}, inplace=True)\n",
    "sm['cos_l'] = np.cos(sm['l'])\n",
    "sm['cos_k'] = np.cos(sm['k'])"
   ]
  },
  {
   "cell_type": "code",
   "execution_count": 3,
   "metadata": {},
   "outputs": [],
   "source": [
    "obs_si = ['FL', 'AFB', 'S3', 'S4', 'S5', 'S7', 'S8', 'S9']"
   ]
  },
  {
   "cell_type": "markdown",
   "metadata": {},
   "source": [
    "# Reweighting"
   ]
  },
  {
   "cell_type": "code",
   "execution_count": 6,
   "metadata": {},
   "outputs": [],
   "source": [
    "wc_scenario_8 = flavio.WilsonCoefficients()\n",
    "\n",
    "c9_busmsm = -0.46\n",
    "c10_busmsm = 0.46\n",
    "\n",
    "wc_scenario_8.set_initial({'C9_bsmumu' : c9_busmsm, 'C10_bsmumu' : c10_busmsm}, scale = 100)\n",
    "\n",
    "\n",
    "sm['scenario_8_w'] = compute_J_from_df(sm, wc_scenario_8) / sm['BR_sm']"
   ]
  },
  {
   "cell_type": "code",
   "execution_count": 7,
   "metadata": {},
   "outputs": [],
   "source": [
    "wc_scenario_1 = flavio.WilsonCoefficients()\n",
    "\n",
    "c9_busmsm = -1\n",
    "c10_busmsm = 1\n",
    "\n",
    "wc_scenario_1.set_initial({'C9_bsmumu' : c9_busmsm, 'C10_bsmumu' : c10_busmsm}, scale = 100)\n",
    "sm['scenario_1_w'] = compute_J_from_df(sm, wc_scenario_1) / sm['BR_sm']"
   ]
  },
  {
   "cell_type": "markdown",
   "metadata": {},
   "source": [
    "# Reweighted distributions"
   ]
  },
  {
   "cell_type": "code",
   "execution_count": 22,
   "metadata": {},
   "outputs": [
    {
     "data": {
      "image/png": "[encoded data removed]",
      "text/plain": [
       "<Figure size 720x1440 with 9 Axes>"
      ]
     },
     "metadata": {
      "needs_background": "light"
     },
     "output_type": "display_data"
    }
   ],
   "source": [
    "plt.figure(figsize=(10,20))\n",
    "\n",
    "n_bins = 20\n",
    "low_q = sm[sm['q2'] < 2][['q2', 'k', 'l', 'p', 'cos_l', 'cos_k', 'BR_sm', 'scenario_8_w', 'scenario_1_w']]\n",
    "\n",
    "for i in range(1,4):\n",
    "    plt.subplot(10,3,3*i+1)\n",
    "    # plt.hist(low_q.iloc[:,i], bins=n_bins, density=True, alpha=0.5)\n",
    "    # plt.hist(low_q.iloc[:,i], weights=low_q['scenario_8_w'], bins=n_bins, density=True, alpha=0.5)\n",
    "    # plt.xlabel(low_q.columns[i])\n",
    "    plt.hist2d(low_q['q2'], low_q.iloc[:,i], density=True)\n",
    "    plt.xlabel(low_q.columns[i])\n",
    "    \n",
    "    plt.subplot(10,3,3*i+2)\n",
    "    # plt.hist2d(low_q['q2'], low_q.iloc[:,i], density=True)\n",
    "    # plt.xlabel(low_q.columns[i])\n",
    "    plt.hist2d(low_q['q2'], low_q.iloc[:,i], weights=low_q['scenario_1_w'], density=True)\n",
    "    plt.xlabel(low_q.columns[i])\n",
    "    \n",
    "    plt.subplot(10,3,3*i+3)\n",
    "    plt.hist2d(low_q['q2'], low_q.iloc[:,i], weights=low_q['scenario_8_w'], density=True)\n",
    "    plt.xlabel(low_q.columns[i])"
   ]
  },
  {
   "cell_type": "markdown",
   "metadata": {},
   "source": [
    "# Checkpoint"
   ]
  },
  {
   "cell_type": "code",
   "execution_count": 24,
   "metadata": {},
   "outputs": [],
   "source": [
    "sm.to_csv('low_q_with_weights.csv', index=False)"
   ]
  },
  {
   "cell_type": "code",
   "execution_count": 4,
   "metadata": {},
   "outputs": [],
   "source": [
    "sm = pd.read_csv('low_q_with_weights.csv')"
   ]
  },
  {
   "cell_type": "markdown",
   "metadata": {},
   "source": [
    "# XGBoost trees"
   ]
  },
  {
   "cell_type": "markdown",
   "metadata": {},
   "source": [
    "# Easy Classification"
   ]
  },
  {
   "cell_type": "code",
   "execution_count": 122,
   "metadata": {},
   "outputs": [],
   "source": [
    "garbage_df = pd.DataFrame({\n",
    "    'a':np.random.uniform(0,1,10000),\n",
    "    'b':np.random.uniform(0,1,10000),\n",
    "    'c':np.random.uniform(0,1,10000),\n",
    "})\n",
    "\n",
    "normal_df = pd.DataFrame({\n",
    "    'a':np.append(np.random.normal(-0.2,0.3,10_000), np.random.normal(0.2,0.3,10_000)),\n",
    "    'l':[0] * 10_000 + [1] * 10_000,\n",
    "    # 'c':np.random.normal(0,1,10000),\n",
    "})\n",
    "\n",
    "normal_df_test = pd.DataFrame({\n",
    "    'a':np.random.normal(-0.2,0.3,5_000),\n",
    "    'l':[0] * 5_000,\n",
    "    # 'c':np.random.normal(0,1,10000),\n",
    "})\n",
    "\n",
    "linear_df = pd.DataFrame({\n",
    "    'a':np.linspace(-1,1,10_000) + np.random.uniform(-0.1,0.1,10_000),\n",
    "    'b':np.linspace(-1,1,10_000) + np.random.uniform(-0.1,0.1,10_000),\n",
    "    'c':np.random.uniform(-1,1,10_000),\n",
    "})"
   ]
  },
  {
   "cell_type": "code",
   "execution_count": 51,
   "metadata": {},
   "outputs": [
    {
     "data": {
      "image/png": "[encoded data removed]",
      "text/plain": [
       "<Figure size 432x288 with 1 Axes>"
      ]
     },
     "metadata": {
      "needs_background": "light"
     },
     "output_type": "display_data"
    },
    {
     "data": {
      "image/png": "[encoded data removed]",
      "text/plain": [
       "<Figure size 432x288 with 1 Axes>"
      ]
     },
     "metadata": {
      "needs_background": "light"
     },
     "output_type": "display_data"
    }
   ],
   "source": [
    "normal_df = normal_df[(normal_df['a'] < 1 ) &  (normal_df['a'] > -1)]\n",
    "plt.hist(normal_df.loc[normal_df['l'] == 0, 'a'], bins=21, alpha=0.5)\n",
    "plt.hist(normal_df.loc[normal_df['l'] == 1, 'a'], bins=21, alpha=0.5)\n",
    "plt.show()\n",
    "plt.hist(normal_df_test['a'], bins=21)\n",
    "plt.xlim(-1,1)\n",
    "plt.show()"
   ]
  },
  {
   "cell_type": "markdown",
   "metadata": {},
   "source": [
    "## Using ada boost from sklearn"
   ]
  },
  {
   "cell_type": "code",
   "execution_count": 79,
   "metadata": {},
   "outputs": [],
   "source": [
    "reg = DecisionTreeClassifier(max_depth=5)\n",
    "ada_boost = AdaBoostClassifier(base_estimator=reg, n_estimators=100)\n",
    "\n",
    "ada_boost.fit(normal_df[['a']], normal_df['l'])\n",
    "ada_norm_pred = ada_boost.predict_proba(normal_df_test[['a']])[:,0]\n",
    "\n",
    "\n",
    "# xgb_bdt = xgb.XGBClassifier(n_estimators=250, subsample=0.4, max_depth=8, learning_rate=0.05)\n",
    "# xgb_bdt.fit(X_train, Y_train, sample_weight = weights_train)\n",
    "# test_prediction = xgb_bdt.predict_proba(X_test)[:,1]\n",
    "# total_test_probs.append(test_prediction)\n",
    "# total_test_sig.append(Y_test)\n",
    "# total_test_weights.append(weights_test)\n"
   ]
  },
  {
   "cell_type": "code",
   "execution_count": 80,
   "metadata": {},
   "outputs": [
    {
     "data": {
      "image/png": "[encoded data removed]",
      "text/plain": [
       "<Figure size 432x288 with 1 Axes>"
      ]
     },
     "metadata": {
      "needs_background": "light"
     },
     "output_type": "display_data"
    }
   ],
   "source": [
    "# plt.hist(ada_norm_pred, bins=np.linspace(0.45,0.55,31))\n",
    "plt.hist(np.where(ada_norm_pred > 0.5, 'l1', 'l2'))\n",
    "plt.show()"
   ]
  },
  {
   "cell_type": "code",
   "execution_count": 81,
   "metadata": {},
   "outputs": [
    {
     "data": {
      "text/plain": [
       "0.7314"
      ]
     },
     "execution_count": 81,
     "metadata": {},
     "output_type": "execute_result"
    }
   ],
   "source": [
    "sum(ada_norm_pred > 0.5)/ada_norm_pred.shape[0]"
   ]
  },
  {
   "cell_type": "code",
   "execution_count": 82,
   "metadata": {},
   "outputs": [
    {
     "data": {
      "text/plain": [
       "[<matplotlib.lines.Line2D at 0x7fb1d24c33a0>,\n",
       " <matplotlib.lines.Line2D at 0x7fb1d24c33d0>]"
      ]
     },
     "execution_count": 82,
     "metadata": {},
     "output_type": "execute_result"
    },
    {
     "data": {
      "image/png": "[encoded data removed]",
      "text/plain": [
       "<Figure size 432x288 with 1 Axes>"
      ]
     },
     "metadata": {
      "needs_background": "light"
     },
     "output_type": "display_data"
    }
   ],
   "source": [
    "xxx = np.linspace(-1,1,1000).reshape(1000,1)\n",
    "plt.plot(xxx, ada_boost.predict_proba(xxx))"
   ]
  },
  {
   "cell_type": "markdown",
   "metadata": {},
   "source": [
    "## using XGB classifier"
   ]
  },
  {
   "cell_type": "code",
   "execution_count": 97,
   "metadata": {},
   "outputs": [
    {
     "name": "stderr",
     "output_type": "stream",
     "text": [
      "/Users/oskar/opt/anaconda3/lib/python3.8/site-packages/xgboost/sklearn.py:1224: UserWarning: The use of label encoder in XGBClassifier is deprecated and will be removed in a future release. To remove this warning, do the following: 1) Pass option use_label_encoder=False when constructing XGBClassifier object; and 2) Encode your labels (y) as integers starting with 0, i.e. 0, 1, 2, ..., [num_class - 1].\n",
      "  warnings.warn(label_encoder_deprecation_msg, UserWarning)\n"
     ]
    },
    {
     "name": "stdout",
     "output_type": "stream",
     "text": [
      "[16:02:45] WARNING: /Users/travis/build/dmlc/xgboost/src/learner.cc:1115: Starting in XGBoost 1.3.0, the default evaluation metric used with the objective 'binary:logistic' was changed from 'error' to 'logloss'. Explicitly set eval_metric if you'd like to restore the old behavior.\n"
     ]
    }
   ],
   "source": [
    "bdt_clf = XGBClassifier(n_estimators=100, subsample=0.4, max_depth=5, learning_rate=0.03)\n",
    "bdt_clf.fit(normal_df[['a']], normal_df['l'])\n",
    "bdt_norm_pred = bdt_clf.predict_proba(normal_df_test[['a']])[:,0]"
   ]
  },
  {
   "cell_type": "code",
   "execution_count": 98,
   "metadata": {},
   "outputs": [
    {
     "data": {
      "text/plain": [
       "[<matplotlib.lines.Line2D at 0x7fb1d2cf4d00>,\n",
       " <matplotlib.lines.Line2D at 0x7fb1d2cf4d30>]"
      ]
     },
     "execution_count": 98,
     "metadata": {},
     "output_type": "execute_result"
    },
    {
     "data": {
      "image/png": "[encoded data removed]",
      "text/plain": [
       "<Figure size 432x288 with 1 Axes>"
      ]
     },
     "metadata": {
      "needs_background": "light"
     },
     "output_type": "display_data"
    }
   ],
   "source": [
    "xxx = np.linspace(-1,1,1000).reshape(1000,1)\n",
    "plt.plot(xxx, bdt_clf.predict_proba(xxx))"
   ]
  },
  {
   "cell_type": "code",
   "execution_count": 99,
   "metadata": {},
   "outputs": [
    {
     "data": {
      "text/plain": [
       "0.7414"
      ]
     },
     "execution_count": 99,
     "metadata": {},
     "output_type": "execute_result"
    }
   ],
   "source": [
    "sum(bdt_norm_pred > 0.5)/bdt_norm_pred.shape[0]"
   ]
  },
  {
   "cell_type": "markdown",
   "metadata": {},
   "source": [
    "# From Mark"
   ]
  },
  {
   "cell_type": "code",
   "execution_count": null,
   "metadata": {},
   "outputs": [],
   "source": [
    "xgb_bdt = xgb.XGBClassifier(n_estimators=250, subsample=0.4, max_depth=8, learning_rate=0.05)\n",
    "xgb_bdt.fit(X_train, Y_train, sample_weight = weights_train)\n",
    "test_prediction = xgb_bdt.predict_proba(X_test)[:,1]\n",
    "# total_test_probs.append(test_prediction)\n",
    "# total_test_sig.append(Y_test)\n",
    "# total_test_weights.append(weights_test)"
   ]
  },
  {
   "cell_type": "code",
   "execution_count": 43,
   "metadata": {},
   "outputs": [
    {
     "data": {
      "text/html": [
       "<div>\n",
       "<style scoped>\n",
       "    .dataframe tbody tr th:only-of-type {\n",
       "        vertical-align: middle;\n",
       "    }\n",
       "\n",
       "    .dataframe tbody tr th {\n",
       "        vertical-align: top;\n",
       "    }\n",
       "\n",
       "    .dataframe thead th {\n",
       "        text-align: right;\n",
       "    }\n",
       "</style>\n",
       "<table border=\"1\" class=\"dataframe\">\n",
       "  <thead>\n",
       "    <tr style=\"text-align: right;\">\n",
       "      <th></th>\n",
       "      <th>a</th>\n",
       "      <th>l</th>\n",
       "    </tr>\n",
       "  </thead>\n",
       "  <tbody>\n",
       "    <tr>\n",
       "      <th>0</th>\n",
       "      <td>0.254560</td>\n",
       "      <td>0</td>\n",
       "    </tr>\n",
       "    <tr>\n",
       "      <th>1</th>\n",
       "      <td>-0.306793</td>\n",
       "      <td>0</td>\n",
       "    </tr>\n",
       "    <tr>\n",
       "      <th>2</th>\n",
       "      <td>0.117737</td>\n",
       "      <td>0</td>\n",
       "    </tr>\n",
       "    <tr>\n",
       "      <th>3</th>\n",
       "      <td>-0.313050</td>\n",
       "      <td>0</td>\n",
       "    </tr>\n",
       "    <tr>\n",
       "      <th>4</th>\n",
       "      <td>-0.227512</td>\n",
       "      <td>0</td>\n",
       "    </tr>\n",
       "    <tr>\n",
       "      <th>...</th>\n",
       "      <td>...</td>\n",
       "      <td>...</td>\n",
       "    </tr>\n",
       "    <tr>\n",
       "      <th>19995</th>\n",
       "      <td>-0.071828</td>\n",
       "      <td>1</td>\n",
       "    </tr>\n",
       "    <tr>\n",
       "      <th>19996</th>\n",
       "      <td>0.052998</td>\n",
       "      <td>1</td>\n",
       "    </tr>\n",
       "    <tr>\n",
       "      <th>19997</th>\n",
       "      <td>-0.341102</td>\n",
       "      <td>1</td>\n",
       "    </tr>\n",
       "    <tr>\n",
       "      <th>19998</th>\n",
       "      <td>0.375547</td>\n",
       "      <td>1</td>\n",
       "    </tr>\n",
       "    <tr>\n",
       "      <th>19999</th>\n",
       "      <td>0.221219</td>\n",
       "      <td>1</td>\n",
       "    </tr>\n",
       "  </tbody>\n",
       "</table>\n",
       "<p>19918 rows × 2 columns</p>\n",
       "</div>"
      ],
      "text/plain": [
       "              a  l\n",
       "0      0.254560  0\n",
       "1     -0.306793  0\n",
       "2      0.117737  0\n",
       "3     -0.313050  0\n",
       "4     -0.227512  0\n",
       "...         ... ..\n",
       "19995 -0.071828  1\n",
       "19996  0.052998  1\n",
       "19997 -0.341102  1\n",
       "19998  0.375547  1\n",
       "19999  0.221219  1\n",
       "\n",
       "[19918 rows x 2 columns]"
      ]
     },
     "execution_count": 43,
     "metadata": {},
     "output_type": "execute_result"
    }
   ],
   "source": [
    "normal_df"
   ]
  },
  {
   "cell_type": "code",
   "execution_count": null,
   "metadata": {},
   "outputs": [],
   "source": []
  },
  {
   "cell_type": "code",
   "execution_count": 216,
   "metadata": {},
   "outputs": [
    {
     "data": {
      "image/png": "[encoded data removed]",
      "text/plain": [
       "<Figure size 432x288 with 1 Axes>"
      ]
     },
     "metadata": {
      "needs_background": "light"
     },
     "output_type": "display_data"
    }
   ],
   "source": [
    "norm_weights_l = stats.distributions.norm.pdf(linear_df['c'],-1,1)\n",
    "norm_weights_r = stats.distributions.norm.pdf(linear_df['c'],1,1)\n",
    "\n",
    "norm_l = np.random.normal(-1,0.3,3_000)\n",
    "norm_l = norm_l[norm_l >= -1]\n",
    "\n",
    "norm_r = np.random.normal(1,0.3,3_000)\n",
    "norm_r = norm_r[norm_r <= 1]\n",
    "\n",
    "norm_mid = np.random.normal(-0.3,0.3,3_000)\n",
    "norm_mid = norm_mid[(norm_mid <= 1) & (norm_mid >= -1)]\n",
    "\n",
    "plt.hist(linear_df['c'], bins=20, density=True, alpha=0.5)\n",
    "plt.hist(linear_df['c'][:5000], bins=20, density=True, alpha=0.5, weights=norm_weights_l[:5000])\n",
    "plt.hist(linear_df['c'][5000:], bins=20, density=True, alpha=0.5, weights=norm_weights_r[5000:])\n",
    "plt.hist(norm_l, bins=20, density=True, alpha=0.5)\n",
    "plt.hist(norm_r, bins=20, density=True, alpha=0.5)\n",
    "plt.hist(norm_mid, bins=20, density=True, alpha=0.5)\n",
    "\n",
    "plt.show()"
   ]
  },
  {
   "cell_type": "code",
   "execution_count": 217,
   "metadata": {},
   "outputs": [],
   "source": [
    "weighted_train_x = linear_df[['c']][:10_000].values\n",
    "weighted_train_weights = np.array(norm_weights_l[:5_000].tolist() + norm_weights_r[5_000:].tolist())\n",
    "weighted_train_y = np.array([0] * 5_000 + [1] * 5_000)"
   ]
  },
  {
   "cell_type": "code",
   "execution_count": 220,
   "metadata": {},
   "outputs": [
    {
     "data": {
      "image/png": "[encoded data removed]",
      "text/plain": [
       "<Figure size 432x288 with 1 Axes>"
      ]
     },
     "metadata": {
      "needs_background": "light"
     },
     "output_type": "display_data"
    }
   ],
   "source": [
    "# plt.hist(weighted_train_x, weights=weighted_train_weights, bins=30)\n",
    "plt.hist(weighted_train_x[weighted_train_y == 1], weights=weighted_train_weights[weighted_train_y == 1], bins=30, alpha=0.8)\n",
    "plt.hist(weighted_train_x[weighted_train_y == 0], weights=weighted_train_weights[weighted_train_y == 0], bins=30, alpha=0.8)\n",
    "plt.show()"
   ]
  },
  {
   "cell_type": "code",
   "execution_count": 221,
   "metadata": {},
   "outputs": [
    {
     "name": "stderr",
     "output_type": "stream",
     "text": [
      "/Users/oskar/opt/anaconda3/lib/python3.8/site-packages/xgboost/sklearn.py:1224: UserWarning: The use of label encoder in XGBClassifier is deprecated and will be removed in a future release. To remove this warning, do the following: 1) Pass option use_label_encoder=False when constructing XGBClassifier object; and 2) Encode your labels (y) as integers starting with 0, i.e. 0, 1, 2, ..., [num_class - 1].\n",
      "  warnings.warn(label_encoder_deprecation_msg, UserWarning)\n"
     ]
    },
    {
     "name": "stdout",
     "output_type": "stream",
     "text": [
      "[18:44:22] WARNING: /Users/travis/build/dmlc/xgboost/src/learner.cc:1115: Starting in XGBoost 1.3.0, the default evaluation metric used with the objective 'binary:logistic' was changed from 'error' to 'logloss'. Explicitly set eval_metric if you'd like to restore the old behavior.\n"
     ]
    },
    {
     "data": {
      "text/plain": [
       "XGBClassifier(base_score=0.5, booster='gbtree', colsample_bylevel=1,\n",
       "              colsample_bynode=1, colsample_bytree=1, enable_categorical=False,\n",
       "              gamma=0, gpu_id=-1, importance_type=None,\n",
       "              interaction_constraints='', learning_rate=0.03, max_delta_step=0,\n",
       "              max_depth=5, min_child_weight=1, missing=nan,\n",
       "              monotone_constraints='()', n_estimators=100, n_jobs=8,\n",
       "              num_parallel_tree=1, predictor='auto', random_state=0,\n",
       "              reg_alpha=0, reg_lambda=1, scale_pos_weight=1, subsample=0.4,\n",
       "              tree_method='exact', validate_parameters=1, verbosity=None)"
      ]
     },
     "execution_count": 221,
     "metadata": {},
     "output_type": "execute_result"
    }
   ],
   "source": [
    "# reg = DecisionTreeClassifier(max_depth=5)\n",
    "# boost = AdaBoostClassifier(base_estimator=reg, n_estimators=100)\n",
    "xgb_clf_weight = XGBClassifier(n_estimators=100, subsample=0.4, max_depth=5, learning_rate=0.03)\n",
    "xgb_clf_weight.fit(weighted_train_x, weighted_train_y, sample_weight=weighted_train_weights)"
   ]
  },
  {
   "cell_type": "code",
   "execution_count": 222,
   "metadata": {},
   "outputs": [],
   "source": [
    "xgb_weighted_pred_l = xgb_clf_weight.predict_proba(norm_l)[:,0]\n",
    "xgb_weighted_pred_r = xgb_clf_weight.predict_proba(norm_r)[:,0]\n",
    "xgb_weighted_pred_mid = xgb_clf_weight.predict_proba(norm_mid)[:,0]"
   ]
  },
  {
   "cell_type": "code",
   "execution_count": 232,
   "metadata": {},
   "outputs": [
    {
     "data": {
      "image/png": "[encoded data removed]",
      "text/plain": [
       "<Figure size 432x288 with 1 Axes>"
      ]
     },
     "metadata": {
      "needs_background": "light"
     },
     "output_type": "display_data"
    }
   ],
   "source": [
    "temp_bin = np.linspace(0,1,31)\n",
    "plt.hist(xgb_weighted_pred_l, density=True, alpha=0.7, bins=temp_bin)\n",
    "plt.hist(xgb_weighted_pred_r, density=True, alpha=0.7, bins=temp_bin)\n",
    "plt.hist(xgb_weighted_pred_mid, density=True, alpha=0.7, bins=temp_bin)\n",
    "plt.axvline(0.5,c='black', linestyle='--')\n",
    "plt.show()"
   ]
  },
  {
   "cell_type": "code",
   "execution_count": null,
   "metadata": {},
   "outputs": [],
   "source": []
  }
 ],
 "metadata": {
  "interpreter": {
   "hash": "842ccaf2166e683e15d8a374bfea2ab57969a68a7c48d567b1afafa73ff2445a"
  },
  "kernelspec": {
   "display_name": "Python 3.8.8 64-bit ('base': conda)",
   "language": "python",
   "name": "python3"
  },
  "language_info": {
   "codemirror_mode": {
    "name": "ipython",
    "version": 3
   },
   "file_extension": ".py",
   "mimetype": "text/x-python",
   "name": "python",
   "nbconvert_exporter": "python",
   "pygments_lexer": "ipython3",
   "version": "3.8.8"
  },
  "orig_nbformat": 4
 },
 "nbformat": 4,
 "nbformat_minor": 2
}
