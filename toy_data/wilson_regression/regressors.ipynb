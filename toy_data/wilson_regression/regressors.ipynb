{
 "cells": [
  {
   "cell_type": "markdown",
   "metadata": {},
   "source": [
    "# Imports"
   ]
  },
  {
   "cell_type": "code",
   "execution_count": 2,
   "metadata": {},
   "outputs": [],
   "source": [
    "import pandas as pd\n",
    "import numpy as np\n",
    "import matplotlib.pyplot as plt"
   ]
  },
  {
   "cell_type": "markdown",
   "metadata": {},
   "source": [
    "# Preprocessing"
   ]
  },
  {
   "cell_type": "markdown",
   "metadata": {},
   "source": [
    "## Preprocessing imports"
   ]
  },
  {
   "cell_type": "code",
   "execution_count": 3,
   "metadata": {},
   "outputs": [],
   "source": [
    "from sklearn.model_selection import train_test_split"
   ]
  },
  {
   "cell_type": "code",
   "execution_count": 4,
   "metadata": {},
   "outputs": [],
   "source": [
    "filename = 'low_q_uniform_weight'\n",
    "weighted_sm = pd.read_csv(f'data/{filename}.csv', index_col=0)"
   ]
  },
  {
   "cell_type": "code",
   "execution_count": 5,
   "metadata": {},
   "outputs": [],
   "source": [
    "features = ['l']\n",
    "# features = ['q2','k','l','p']\n",
    "targets_single = ['c9']\n",
    "targets_multi = ['c9', 'c10']\n",
    "\n",
    "X_train, X_test, y_train, y_test = train_test_split(weighted_sm[features + ['weight']], weighted_sm[targets_single])\n",
    "X_train_weight, X_test_weight = X_train['weight'], X_test['weight']\n",
    "X_train, X_test = X_train[features], X_test[features]"
   ]
  },
  {
   "cell_type": "markdown",
   "metadata": {},
   "source": [
    "## EDA"
   ]
  },
  {
   "cell_type": "code",
   "execution_count": 6,
   "metadata": {},
   "outputs": [
    {
     "data": {
      "image/png": "[encoded data removed]",
      "text/plain": [
       "<Figure size 720x432 with 1 Axes>"
      ]
     },
     "metadata": {
      "needs_background": "light"
     },
     "output_type": "display_data"
    }
   ],
   "source": [
    "plt.figure(figsize=(10,6))\n",
    "for c in weighted_sm['c9'].unique():\n",
    "    plt.hist(\n",
    "        weighted_sm.loc[weighted_sm['c9'] == 0, 'l'], \n",
    "        weights=weighted_sm.loc[weighted_sm['c9'] == c, 'weight'], \n",
    "        density=True, \n",
    "        alpha=1, \n",
    "        bins=20, \n",
    "        label=f'{c}', \n",
    "        histtype='step',\n",
    "        # color='blue'\n",
    "    )\n",
    "\n",
    "plt.xlabel('l')\n",
    "plt.legend()\n",
    "plt.show()"
   ]
  },
  {
   "cell_type": "code",
   "execution_count": 7,
   "metadata": {},
   "outputs": [],
   "source": [
    "# weighted_sm[features + targets_single].iloc[::5000]\n",
    "# pd.plotting.andrews_curves(weighted_sm[features + targets_single].iloc[:5000], 'c9')"
   ]
  },
  {
   "cell_type": "code",
   "execution_count": 8,
   "metadata": {},
   "outputs": [
    {
     "data": {
      "image/png": "[encoded data removed]",
      "text/plain": [
       "<Figure size 432x288 with 1 Axes>"
      ]
     },
     "metadata": {
      "needs_background": "light"
     },
     "output_type": "display_data"
    }
   ],
   "source": [
    "plt.hist2d(weighted_sm['l'], weighted_sm['k'])\n",
    "plt.show()"
   ]
  },
  {
   "cell_type": "markdown",
   "metadata": {},
   "source": [
    "# Model Creation and Evaluation"
   ]
  },
  {
   "cell_type": "markdown",
   "metadata": {},
   "source": [
    "## ML Imports"
   ]
  },
  {
   "cell_type": "code",
   "execution_count": 9,
   "metadata": {},
   "outputs": [],
   "source": [
    "from xgboost import XGBRegressor, XGBClassifier\n",
    "from sklearn.neural_network import MLPRegressor"
   ]
  },
  {
   "cell_type": "markdown",
   "metadata": {},
   "source": [
    "## Modelling"
   ]
  },
  {
   "cell_type": "markdown",
   "metadata": {},
   "source": [
    "### XGBoost"
   ]
  },
  {
   "cell_type": "code",
   "execution_count": 10,
   "metadata": {},
   "outputs": [
    {
     "data": {
      "text/plain": [
       "XGBRegressor(base_score=0.5, booster='gbtree', colsample_bylevel=1,\n",
       "             colsample_bynode=1, colsample_bytree=1, enable_categorical=False,\n",
       "             gamma=0, gpu_id=-1, importance_type=None,\n",
       "             interaction_constraints='', learning_rate=0.1, max_delta_step=0,\n",
       "             max_depth=3, min_child_weight=1, missing=nan,\n",
       "             monotone_constraints='()', n_estimators=300, n_jobs=8,\n",
       "             num_parallel_tree=1, predictor='auto', random_state=123123,\n",
       "             reg_alpha=0, reg_lambda=1, scale_pos_weight=1, subsample=1,\n",
       "             tree_method='exact', validate_parameters=1, verbosity=None)"
      ]
     },
     "execution_count": 10,
     "metadata": {},
     "output_type": "execute_result"
    }
   ],
   "source": [
    "#  XGB REGRESSOR\n",
    "xgb_reg = XGBRegressor(n_estimators=300, max_depth=3, learning_rate=0.1, subsample=1, random_state=123123)\n",
    "xgb_reg.fit(X_train, y_train, sample_weight=X_train_weight)\n"
   ]
  },
  {
   "cell_type": "code",
   "execution_count": 11,
   "metadata": {},
   "outputs": [],
   "source": [
    "test_sm = X_test[y_test['c9'] == 0]\n",
    "sm_prediction = xgb_reg.predict(test_sm)"
   ]
  },
  {
   "cell_type": "code",
   "execution_count": 12,
   "metadata": {},
   "outputs": [
    {
     "data": {
      "image/png": "[encoded data removed]",
      "text/plain": [
       "<Figure size 432x288 with 1 Axes>"
      ]
     },
     "metadata": {
      "needs_background": "light"
     },
     "output_type": "display_data"
    }
   ],
   "source": [
    "target_lines = y_test['c9'].unique()\n",
    "plt.hist(sm_prediction, bins=30,density=True)\n",
    "for l in target_lines:\n",
    "    plt.axvline(l, c='black', linestyle=':')\n",
    "plt.show()"
   ]
  },
  {
   "cell_type": "code",
   "execution_count": 13,
   "metadata": {},
   "outputs": [
    {
     "data": {
      "text/plain": [
       "(array([  2.,   4.,   4.,  26.,  18.,  14.,  29.,   8.,  14.,  19.,  20.,\n",
       "         35.,  22.,  27.,  31.,  76.,  60., 111., 204., 184.,  42.,  21.,\n",
       "         11.,   3.,   6.,   3.,   1.,   0.,   1.,   4.]),\n",
       " array([3.1451035, 3.2511506, 3.3571978, 3.4632447, 3.5692918, 3.675339 ,\n",
       "        3.7813861, 3.8874333, 3.9934802, 4.0995274, 4.2055745, 4.3116217,\n",
       "        4.417669 , 4.523716 , 4.629763 , 4.7358103, 4.841857 , 4.947904 ,\n",
       "        5.0539513, 5.1599984, 5.2660456, 5.3720927, 5.47814  , 5.584187 ,\n",
       "        5.690234 , 5.796281 , 5.902328 , 6.008375 , 6.1144223, 6.2204695,\n",
       "        6.3265166], dtype=float32),\n",
       " <BarContainer object of 30 artists>)"
      ]
     },
     "execution_count": 13,
     "metadata": {},
     "output_type": "execute_result"
    },
    {
     "data": {
      "image/png": "[encoded data removed]",
      "text/plain": [
       "<Figure size 432x288 with 1 Axes>"
      ]
     },
     "metadata": {
      "needs_background": "light"
     },
     "output_type": "display_data"
    }
   ],
   "source": [
    "plt.hist(xgb_reg.predict(np.linspace(0,3.14, 1000)), bins=30)"
   ]
  },
  {
   "cell_type": "code",
   "execution_count": null,
   "metadata": {},
   "outputs": [],
   "source": []
  }
 ],
 "metadata": {
  "interpreter": {
   "hash": "842ccaf2166e683e15d8a374bfea2ab57969a68a7c48d567b1afafa73ff2445a"
  },
  "kernelspec": {
   "display_name": "Python 3.8.8 64-bit ('base': conda)",
   "language": "python",
   "name": "python3"
  },
  "language_info": {
   "codemirror_mode": {
    "name": "ipython",
    "version": 3
   },
   "file_extension": ".py",
   "mimetype": "text/x-python",
   "name": "python",
   "nbconvert_exporter": "python",
   "pygments_lexer": "ipython3",
   "version": "3.8.8"
  },
  "orig_nbformat": 4
 },
 "nbformat": 4,
 "nbformat_minor": 2
}
