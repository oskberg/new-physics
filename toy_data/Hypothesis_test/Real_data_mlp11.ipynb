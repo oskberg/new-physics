{
 "cells": [
  {
   "cell_type": "code",
   "execution_count": 460,
   "metadata": {},
   "outputs": [],
   "source": [
    "import pandas as pd\n",
    "import numpy as np\n",
    "import matplotlib.pyplot as plt\n",
    "from sklearn.model_selection import train_test_split\n",
    "from sklearn.neural_network import MLPClassifier\n",
    "from sklearn.naive_bayes import GaussianNB\n",
    "from sklearn.metrics import accuracy_score\n",
    "from sklearn.preprocessing import LabelEncoder\n",
    "\n",
    "from xgboost import XGBClassifier"
   ]
  },
  {
   "cell_type": "code",
   "execution_count": 3,
   "metadata": {},
   "outputs": [],
   "source": [
    "%config InlineBackend.figure_format = 'svg'"
   ]
  },
  {
   "cell_type": "code",
   "execution_count": 700,
   "metadata": {},
   "outputs": [],
   "source": [
    "data_0_0 = pd.read_csv('/Users/jakubpazio/Imperial/Master Project/new-physics/new-physics/toy_data/flavio_tests/data/toy_data_c9_0.0_c10_0.0_2022_1_27_15.csv', index_col=0)\n",
    "data_base00 = pd.read_csv('/Users/jakubpazio/Imperial/Master Project/new-physics/new-physics/toy_data/data_generation/datasets/toy_data_c9_0.0_c10_0.0_2022_1_31_15.csv')\n",
    "big_data00 = pd.read_csv('/Users/jakubpazio/Imperial/Master Project/new-physics/new-physics/toy_data/ML_Demo/data/toy_data_c9_0_c10_0_2021_10_29_11.csv', index_col=0)\n",
    "# main_file_min3_3_50 = pd.read_csv('/Users/jakubpazio/Imperial/Master Project/new-physics/new-physics/toy_data/data_generation/datasets/mixed_data_2022_2_15_23.csv')\n",
    "# main_file_min3_3_50 = pd.read_csv('/Users/jakubpazio/Imperial/Master Project/new-physics/new-physics/toy_data/data_generation/datasets/mixed_data_2022_2_16_0.csv') # from -1 to 1\n",
    "# main_file_min3_3_50 = pd.read_csv('/Users/jakubpazio/Imperial/Master Project/new-physics/new-physics/toy_data/data_generation/datasets/mixed_data_2022_2_15_14.csv')\n",
    "main_file_min3_3_50 = pd.read_csv('/Users/jakubpazio/Imperial/Master Project/new-physics/new-physics/toy_data/data_generation/datasets/mixed_data_2022_2_3_18.csv') # feom -3 to 3\n",
    "test_data_00 = pd.read_csv('/Users/jakubpazio/Imperial/Master Project/new-physics/new-physics/toy_data/data_generation/datasets/toy_data_c9_0.0_c10_0.0_2022_2_3_17.csv')"
   ]
  },
  {
   "cell_type": "code",
   "execution_count": 701,
   "metadata": {},
   "outputs": [],
   "source": [
    "data_base00.drop(columns=['c10', 'BR_rnd','dBR_rnd','dBR','BR_interpolated'], inplace=True)\n",
    "main_file_min3_3_50.drop(columns=['c10','BR_rnd','dBR_rnd','dBR','BR_interpolated'], inplace=True)\n",
    "test_data_00.drop(columns=['c9','c10','BR_rnd','dBR_rnd','dBR','BR_interpolated'], inplace=True)"
   ]
  },
  {
   "cell_type": "code",
   "execution_count": 702,
   "metadata": {},
   "outputs": [
    {
     "data": {
      "text/html": [
       "<div>\n",
       "<style scoped>\n",
       "    .dataframe tbody tr th:only-of-type {\n",
       "        vertical-align: middle;\n",
       "    }\n",
       "\n",
       "    .dataframe tbody tr th {\n",
       "        vertical-align: top;\n",
       "    }\n",
       "\n",
       "    .dataframe thead th {\n",
       "        text-align: right;\n",
       "    }\n",
       "</style>\n",
       "<table border=\"1\" class=\"dataframe\">\n",
       "  <thead>\n",
       "    <tr style=\"text-align: right;\">\n",
       "      <th></th>\n",
       "      <th>q2</th>\n",
       "      <th>k</th>\n",
       "      <th>l</th>\n",
       "      <th>p</th>\n",
       "    </tr>\n",
       "  </thead>\n",
       "  <tbody>\n",
       "    <tr>\n",
       "      <th>0</th>\n",
       "      <td>3.873457</td>\n",
       "      <td>0.158958</td>\n",
       "      <td>1.982635</td>\n",
       "      <td>-1.604679</td>\n",
       "    </tr>\n",
       "    <tr>\n",
       "      <th>1</th>\n",
       "      <td>3.299837</td>\n",
       "      <td>2.555141</td>\n",
       "      <td>1.138187</td>\n",
       "      <td>2.767353</td>\n",
       "    </tr>\n",
       "    <tr>\n",
       "      <th>2</th>\n",
       "      <td>4.803670</td>\n",
       "      <td>2.920779</td>\n",
       "      <td>1.866995</td>\n",
       "      <td>1.718054</td>\n",
       "    </tr>\n",
       "    <tr>\n",
       "      <th>3</th>\n",
       "      <td>2.497051</td>\n",
       "      <td>0.255986</td>\n",
       "      <td>2.728457</td>\n",
       "      <td>2.557163</td>\n",
       "    </tr>\n",
       "    <tr>\n",
       "      <th>4</th>\n",
       "      <td>4.980364</td>\n",
       "      <td>0.599808</td>\n",
       "      <td>1.159502</td>\n",
       "      <td>3.080713</td>\n",
       "    </tr>\n",
       "    <tr>\n",
       "      <th>...</th>\n",
       "      <td>...</td>\n",
       "      <td>...</td>\n",
       "      <td>...</td>\n",
       "      <td>...</td>\n",
       "    </tr>\n",
       "    <tr>\n",
       "      <th>146907</th>\n",
       "      <td>4.233746</td>\n",
       "      <td>2.666052</td>\n",
       "      <td>0.898526</td>\n",
       "      <td>-1.051128</td>\n",
       "    </tr>\n",
       "    <tr>\n",
       "      <th>146908</th>\n",
       "      <td>5.405676</td>\n",
       "      <td>2.866997</td>\n",
       "      <td>0.772888</td>\n",
       "      <td>0.300893</td>\n",
       "    </tr>\n",
       "    <tr>\n",
       "      <th>146909</th>\n",
       "      <td>4.497611</td>\n",
       "      <td>1.812525</td>\n",
       "      <td>2.323906</td>\n",
       "      <td>-0.105737</td>\n",
       "    </tr>\n",
       "    <tr>\n",
       "      <th>146910</th>\n",
       "      <td>1.183180</td>\n",
       "      <td>0.127549</td>\n",
       "      <td>1.175647</td>\n",
       "      <td>-3.141073</td>\n",
       "    </tr>\n",
       "    <tr>\n",
       "      <th>146911</th>\n",
       "      <td>0.760819</td>\n",
       "      <td>2.601929</td>\n",
       "      <td>2.783469</td>\n",
       "      <td>-0.106512</td>\n",
       "    </tr>\n",
       "  </tbody>\n",
       "</table>\n",
       "<p>146912 rows × 4 columns</p>\n",
       "</div>"
      ],
      "text/plain": [
       "              q2         k         l         p\n",
       "0       3.873457  0.158958  1.982635 -1.604679\n",
       "1       3.299837  2.555141  1.138187  2.767353\n",
       "2       4.803670  2.920779  1.866995  1.718054\n",
       "3       2.497051  0.255986  2.728457  2.557163\n",
       "4       4.980364  0.599808  1.159502  3.080713\n",
       "...          ...       ...       ...       ...\n",
       "146907  4.233746  2.666052  0.898526 -1.051128\n",
       "146908  5.405676  2.866997  0.772888  0.300893\n",
       "146909  4.497611  1.812525  2.323906 -0.105737\n",
       "146910  1.183180  0.127549  1.175647 -3.141073\n",
       "146911  0.760819  2.601929  2.783469 -0.106512\n",
       "\n",
       "[146912 rows x 4 columns]"
      ]
     },
     "execution_count": 702,
     "metadata": {},
     "output_type": "execute_result"
    }
   ],
   "source": [
    "test_data_00"
   ]
  },
  {
   "cell_type": "code",
   "execution_count": 703,
   "metadata": {},
   "outputs": [],
   "source": [
    "\n",
    "test_data_05 = pd.read_csv('/Users/jakubpazio/Imperial/Master Project/new-physics/new-physics/toy_data/data_generation/datasets/mixed_data_2022_2_16_0.csv')\n",
    "test_data_05.drop(columns=['c10','BR_rnd','dBR_rnd','dBR','BR_interpolated'], inplace=True)"
   ]
  },
  {
   "cell_type": "code",
   "execution_count": 704,
   "metadata": {},
   "outputs": [
    {
     "data": {
      "text/html": [
       "<div>\n",
       "<style scoped>\n",
       "    .dataframe tbody tr th:only-of-type {\n",
       "        vertical-align: middle;\n",
       "    }\n",
       "\n",
       "    .dataframe tbody tr th {\n",
       "        vertical-align: top;\n",
       "    }\n",
       "\n",
       "    .dataframe thead th {\n",
       "        text-align: right;\n",
       "    }\n",
       "</style>\n",
       "<table border=\"1\" class=\"dataframe\">\n",
       "  <thead>\n",
       "    <tr style=\"text-align: right;\">\n",
       "      <th></th>\n",
       "      <th>q2</th>\n",
       "      <th>k</th>\n",
       "      <th>l</th>\n",
       "      <th>p</th>\n",
       "      <th>c9</th>\n",
       "    </tr>\n",
       "  </thead>\n",
       "  <tbody>\n",
       "    <tr>\n",
       "      <th>0</th>\n",
       "      <td>1.145132</td>\n",
       "      <td>2.443047</td>\n",
       "      <td>1.756614</td>\n",
       "      <td>2.853556</td>\n",
       "      <td>-1.0</td>\n",
       "    </tr>\n",
       "    <tr>\n",
       "      <th>1</th>\n",
       "      <td>1.824994</td>\n",
       "      <td>1.297778</td>\n",
       "      <td>3.056355</td>\n",
       "      <td>-1.761316</td>\n",
       "      <td>-1.0</td>\n",
       "    </tr>\n",
       "    <tr>\n",
       "      <th>2</th>\n",
       "      <td>3.271832</td>\n",
       "      <td>1.286375</td>\n",
       "      <td>2.773956</td>\n",
       "      <td>-3.091715</td>\n",
       "      <td>-1.0</td>\n",
       "    </tr>\n",
       "    <tr>\n",
       "      <th>3</th>\n",
       "      <td>0.582304</td>\n",
       "      <td>0.356602</td>\n",
       "      <td>1.637174</td>\n",
       "      <td>-1.106401</td>\n",
       "      <td>-1.0</td>\n",
       "    </tr>\n",
       "    <tr>\n",
       "      <th>4</th>\n",
       "      <td>2.228964</td>\n",
       "      <td>2.542823</td>\n",
       "      <td>0.550542</td>\n",
       "      <td>-2.373252</td>\n",
       "      <td>-1.0</td>\n",
       "    </tr>\n",
       "    <tr>\n",
       "      <th>...</th>\n",
       "      <td>...</td>\n",
       "      <td>...</td>\n",
       "      <td>...</td>\n",
       "      <td>...</td>\n",
       "      <td>...</td>\n",
       "    </tr>\n",
       "    <tr>\n",
       "      <th>625728</th>\n",
       "      <td>4.527244</td>\n",
       "      <td>2.924417</td>\n",
       "      <td>1.753723</td>\n",
       "      <td>0.190465</td>\n",
       "      <td>1.0</td>\n",
       "    </tr>\n",
       "    <tr>\n",
       "      <th>625729</th>\n",
       "      <td>4.236904</td>\n",
       "      <td>0.086646</td>\n",
       "      <td>1.539447</td>\n",
       "      <td>-1.618018</td>\n",
       "      <td>1.0</td>\n",
       "    </tr>\n",
       "    <tr>\n",
       "      <th>625730</th>\n",
       "      <td>2.990325</td>\n",
       "      <td>2.518703</td>\n",
       "      <td>0.704335</td>\n",
       "      <td>0.916711</td>\n",
       "      <td>1.0</td>\n",
       "    </tr>\n",
       "    <tr>\n",
       "      <th>625731</th>\n",
       "      <td>3.309848</td>\n",
       "      <td>2.614404</td>\n",
       "      <td>1.836207</td>\n",
       "      <td>-2.336001</td>\n",
       "      <td>1.0</td>\n",
       "    </tr>\n",
       "    <tr>\n",
       "      <th>625732</th>\n",
       "      <td>1.898716</td>\n",
       "      <td>2.996610</td>\n",
       "      <td>2.169049</td>\n",
       "      <td>-0.320068</td>\n",
       "      <td>1.0</td>\n",
       "    </tr>\n",
       "  </tbody>\n",
       "</table>\n",
       "<p>625733 rows × 5 columns</p>\n",
       "</div>"
      ],
      "text/plain": [
       "              q2         k         l         p   c9\n",
       "0       1.145132  2.443047  1.756614  2.853556 -1.0\n",
       "1       1.824994  1.297778  3.056355 -1.761316 -1.0\n",
       "2       3.271832  1.286375  2.773956 -3.091715 -1.0\n",
       "3       0.582304  0.356602  1.637174 -1.106401 -1.0\n",
       "4       2.228964  2.542823  0.550542 -2.373252 -1.0\n",
       "...          ...       ...       ...       ...  ...\n",
       "625728  4.527244  2.924417  1.753723  0.190465  1.0\n",
       "625729  4.236904  0.086646  1.539447 -1.618018  1.0\n",
       "625730  2.990325  2.518703  0.704335  0.916711  1.0\n",
       "625731  3.309848  2.614404  1.836207 -2.336001  1.0\n",
       "625732  1.898716  2.996610  2.169049 -0.320068  1.0\n",
       "\n",
       "[625733 rows x 5 columns]"
      ]
     },
     "execution_count": 704,
     "metadata": {},
     "output_type": "execute_result"
    }
   ],
   "source": [
    "test_data_05"
   ]
  },
  {
   "cell_type": "code",
   "execution_count": 705,
   "metadata": {},
   "outputs": [],
   "source": [
    "test_data_05=test_data_05[test_data_05.c9 == 0.5]"
   ]
  },
  {
   "cell_type": "code",
   "execution_count": 706,
   "metadata": {},
   "outputs": [
    {
     "name": "stderr",
     "output_type": "stream",
     "text": [
      "/Users/jakubpazio/opt/anaconda3/lib/python3.8/site-packages/pandas/core/frame.py:4163: SettingWithCopyWarning: \n",
      "A value is trying to be set on a copy of a slice from a DataFrame\n",
      "\n",
      "See the caveats in the documentation: https://pandas.pydata.org/pandas-docs/stable/user_guide/indexing.html#returning-a-view-versus-a-copy\n",
      "  return super().drop(\n"
     ]
    }
   ],
   "source": [
    "test_data_05\n",
    "test_data_05.drop(columns=['c9'], inplace=True)"
   ]
  },
  {
   "cell_type": "code",
   "execution_count": 707,
   "metadata": {},
   "outputs": [],
   "source": [
    "c9_unq = main_file_min3_3_50.c9.unique()\n",
    "np.random.shuffle(c9_unq)\n",
    "le_dict = {c9:i for i, c9 in enumerate(c9_unq)}"
   ]
  },
  {
   "cell_type": "code",
   "execution_count": 708,
   "metadata": {},
   "outputs": [],
   "source": [
    "le = LabelEncoder()\n",
    "le.fit(main_file_min3_3_50.c9)\n",
    "main_file_min3_3_50.c9 = le.transform(main_file_min3_3_50.c9)\n",
    "data_base00.c9 = le.transform(data_base00.c9)"
   ]
  },
  {
   "cell_type": "code",
   "execution_count": 709,
   "metadata": {},
   "outputs": [],
   "source": [
    "random_df = pd.DataFrame({\n",
    "    'q2':np.random.uniform(0.5,6,10000), \n",
    "    'k':np.random.uniform(0,np.pi,10000), \n",
    "    'l':np.random.uniform(0,np.pi,10000), \n",
    "    'p':np.random.uniform(-np.pi,np.pi,10000), \n",
    "    'c9':[-1]*10000\n",
    "})"
   ]
  },
  {
   "cell_type": "code",
   "execution_count": 710,
   "metadata": {},
   "outputs": [],
   "source": [
    "random_df_val = pd.DataFrame({\n",
    "    'q2':np.random.uniform(0.5,6,10000), \n",
    "    'k':np.random.uniform(0,np.pi,10000), \n",
    "    'l':np.random.uniform(0,np.pi,10000), \n",
    "    'p':np.random.uniform(-np.pi,np.pi,10000), \n",
    "    'c9':[-1]*10000\n",
    "})"
   ]
  },
  {
   "cell_type": "code",
   "execution_count": 667,
   "metadata": {},
   "outputs": [
    {
     "name": "stderr",
     "output_type": "stream",
     "text": [
      "/Users/jakubpazio/opt/anaconda3/lib/python3.8/site-packages/xgboost/sklearn.py:888: UserWarning: The use of label encoder in XGBClassifier is deprecated and will be removed in a future release. To remove this warning, do the following: 1) Pass option use_label_encoder=False when constructing XGBClassifier object; and 2) Encode your labels (y) as integers starting with 0, i.e. 0, 1, 2, ..., [num_class - 1].\n",
      "  warnings.warn(label_encoder_deprecation_msg, UserWarning)\n"
     ]
    },
    {
     "name": "stdout",
     "output_type": "stream",
     "text": [
      "[16:20:43] WARNING: /opt/concourse/worker/volumes/live/7a2b9f41-3287-451b-6691-43e9a6c0910f/volume/xgboost-split_1619728204606/work/src/learner.cc:1061: Starting in XGBoost 1.3.0, the default evaluation metric used with the objective 'multi:softprob' was changed from 'merror' to 'mlogloss'. Explicitly set eval_metric if you'd like to restore the old behavior.\n"
     ]
    },
    {
     "data": {
      "text/plain": [
       "XGBClassifier(base_score=0.5, booster='gbtree', colsample_bylevel=1,\n",
       "              colsample_bynode=1, colsample_bytree=1, gamma=0, gpu_id=-1,\n",
       "              importance_type='gain', interaction_constraints='',\n",
       "              learning_rate=0.3, max_delta_step=0, max_depth=5,\n",
       "              min_child_weight=1, missing=nan, monotone_constraints='()',\n",
       "              n_estimators=200, n_jobs=8, num_parallel_tree=1,\n",
       "              objective='multi:softprob', random_state=0, reg_alpha=0,\n",
       "              reg_lambda=1, scale_pos_weight=None, subsample=1,\n",
       "              tree_method='exact', validate_parameters=1, verbosity=None)"
      ]
     },
     "execution_count": 667,
     "metadata": {},
     "output_type": "execute_result"
    }
   ],
   "source": [
    "X = pd.concat([main_file_min3_3_50[main_file_min3_3_50.c9 == 0].sample(10000), main_file_min3_3_50[main_file_min3_3_50.c9 == 10].sample(10000), main_file_min3_3_50[main_file_min3_3_50.c9 == 20].sample(10000),random_df.sample(10000)])\n",
    "Y = X['c9']\n",
    "X = X.drop(columns=['c9'])\n",
    "\n",
    "# mlp_clf = MLPClassifier()\n",
    "# mlp_clf.fit(X.values, Y.values)\n",
    "\n",
    "xgb_clf = XGBClassifier(n_estimators=200, max_depth=5, learning_rate=0.3)\n",
    "xgb_clf.fit(X.values, Y.values)"
   ]
  },
  {
   "cell_type": "code",
   "execution_count": 711,
   "metadata": {},
   "outputs": [],
   "source": [
    "ts = main_file_min3_3_50[main_file_min3_3_50.c9 == 20].sample(10000).drop(columns='c9')\n",
    "# ts = random_df_val.sample(1000).drop(columns='c9')\n",
    "# lps = sum(mlp_clf.predict_log_proba(ts))\n",
    "lps = sum(np.log(xgb_clf.predict_proba(ts)))"
   ]
  },
  {
   "cell_type": "code",
   "execution_count": 712,
   "metadata": {},
   "outputs": [
    {
     "data": {
      "text/plain": [
       "{10: -7168.3545, 20: -7377.6055}"
      ]
     },
     "execution_count": 712,
     "metadata": {},
     "output_type": "execute_result"
    }
   ],
   "source": [
    "{c9:likelihood for c9, likelihood in zip(xgb_clf.classes_, lps)}"
   ]
  },
  {
   "cell_type": "code",
   "execution_count": 627,
   "metadata": {},
   "outputs": [],
   "source": [
    "random = np.random.uniform(10000)\n"
   ]
  },
  {
   "cell_type": "code",
   "execution_count": 683,
   "metadata": {},
   "outputs": [
    {
     "name": "stderr",
     "output_type": "stream",
     "text": [
      "/Users/jakubpazio/opt/anaconda3/lib/python3.8/site-packages/xgboost/sklearn.py:888: UserWarning: The use of label encoder in XGBClassifier is deprecated and will be removed in a future release. To remove this warning, do the following: 1) Pass option use_label_encoder=False when constructing XGBClassifier object; and 2) Encode your labels (y) as integers starting with 0, i.e. 0, 1, 2, ..., [num_class - 1].\n",
      "  warnings.warn(label_encoder_deprecation_msg, UserWarning)\n"
     ]
    },
    {
     "name": "stdout",
     "output_type": "stream",
     "text": [
      "[16:25:19] WARNING: /opt/concourse/worker/volumes/live/7a2b9f41-3287-451b-6691-43e9a6c0910f/volume/xgboost-split_1619728204606/work/src/learner.cc:1061: Starting in XGBoost 1.3.0, the default evaluation metric used with the objective 'binary:logistic' was changed from 'error' to 'logloss'. Explicitly set eval_metric if you'd like to restore the old behavior.\n"
     ]
    }
   ],
   "source": [
    "log_likelihood_models = {}\n",
    "\n",
    "X = pd.concat([random_df, main_file_min3_3_50[main_file_min3_3_50.c9 == 0].sample(10000)])\n",
    "Y = X['c9']\n",
    "X = X.drop(columns=['c9'])\n",
    "\n",
    "xgb_clf = XGBClassifier(n_estimators=200, max_depth=5, learning_rate=0.3)\n",
    "xgb_clf.fit(X.values, Y.values)\n",
    "classes = xgb_clf.classes_\n",
    "log_likelihood = {c9:[] for c9 in classes}\n",
    "\n",
    "\n",
    "\n",
    "\n",
    "log_likelihood_models = log_likelihood"
   ]
  },
  {
   "cell_type": "code",
   "execution_count": 684,
   "metadata": {},
   "outputs": [
    {
     "data": {
      "text/plain": [
       "-1    10000\n",
       " 0    10000\n",
       "Name: c9, dtype: int64"
      ]
     },
     "execution_count": 684,
     "metadata": {},
     "output_type": "execute_result"
    }
   ],
   "source": [
    "Y.value_counts()"
   ]
  },
  {
   "cell_type": "code",
   "execution_count": 687,
   "metadata": {},
   "outputs": [],
   "source": [
    "sample =  main_file_min3_3_50[main_file_min3_3_50.c9 == 0].sample(10000).drop(columns=['c9'])\n",
    "log_probs = sum(np.log(xgb_clf.predict_proba(sample)))"
   ]
  },
  {
   "cell_type": "code",
   "execution_count": 688,
   "metadata": {},
   "outputs": [
    {
     "name": "stdout",
     "output_type": "stream",
     "text": [
      "[ -6529.9624 -10252.206 ] [-1  0]\n"
     ]
    }
   ],
   "source": [
    "print(log_probs,classes)"
   ]
  },
  {
   "cell_type": "code",
   "execution_count": 645,
   "metadata": {},
   "outputs": [
    {
     "ename": "ValueError",
     "evalue": "y contains previously unseen labels: [-1]",
     "output_type": "error",
     "traceback": [
      "\u001b[0;31m---------------------------------------------------------------------------\u001b[0m",
      "\u001b[0;31mValueError\u001b[0m                                Traceback (most recent call last)",
      "\u001b[0;32m<ipython-input-645-28de3c1d2335>\u001b[0m in \u001b[0;36m<module>\u001b[0;34m\u001b[0m\n\u001b[1;32m      5\u001b[0m \u001b[0mstd_1_list\u001b[0m \u001b[0;34m=\u001b[0m\u001b[0;34m[\u001b[0m\u001b[0;34m]\u001b[0m\u001b[0;34m\u001b[0m\u001b[0;34m\u001b[0m\u001b[0m\n\u001b[1;32m      6\u001b[0m \u001b[0;32mfor\u001b[0m \u001b[0mk\u001b[0m\u001b[0;34m,\u001b[0m \u001b[0mll_dict\u001b[0m \u001b[0;32min\u001b[0m \u001b[0mlog_likelihood_models\u001b[0m\u001b[0;34m.\u001b[0m\u001b[0mitems\u001b[0m\u001b[0;34m(\u001b[0m\u001b[0;34m)\u001b[0m\u001b[0;34m:\u001b[0m\u001b[0;34m\u001b[0m\u001b[0;34m\u001b[0m\u001b[0m\n\u001b[0;32m----> 7\u001b[0;31m     \u001b[0mk_inverse\u001b[0m \u001b[0;34m=\u001b[0m \u001b[0mle\u001b[0m\u001b[0;34m.\u001b[0m\u001b[0minverse_transform\u001b[0m\u001b[0;34m(\u001b[0m\u001b[0;34m[\u001b[0m\u001b[0mk\u001b[0m\u001b[0;34m]\u001b[0m\u001b[0;34m)\u001b[0m\u001b[0;34m\u001b[0m\u001b[0;34m\u001b[0m\u001b[0m\n\u001b[0m\u001b[1;32m      8\u001b[0m     \u001b[0;32mif\u001b[0m \u001b[0mk_inverse\u001b[0m \u001b[0;34m==\u001b[0m \u001b[0;36m0\u001b[0m\u001b[0;34m:\u001b[0m\u001b[0;34m\u001b[0m\u001b[0;34m\u001b[0m\u001b[0m\n\u001b[1;32m      9\u001b[0m         \u001b[0;32mcontinue\u001b[0m\u001b[0;34m\u001b[0m\u001b[0;34m\u001b[0m\u001b[0m\n",
      "\u001b[0;32m~/opt/anaconda3/lib/python3.8/site-packages/sklearn/preprocessing/_label.py\u001b[0m in \u001b[0;36minverse_transform\u001b[0;34m(self, y)\u001b[0m\n\u001b[1;32m    298\u001b[0m         \u001b[0mdiff\u001b[0m \u001b[0;34m=\u001b[0m \u001b[0mnp\u001b[0m\u001b[0;34m.\u001b[0m\u001b[0msetdiff1d\u001b[0m\u001b[0;34m(\u001b[0m\u001b[0my\u001b[0m\u001b[0;34m,\u001b[0m \u001b[0mnp\u001b[0m\u001b[0;34m.\u001b[0m\u001b[0marange\u001b[0m\u001b[0;34m(\u001b[0m\u001b[0mlen\u001b[0m\u001b[0;34m(\u001b[0m\u001b[0mself\u001b[0m\u001b[0;34m.\u001b[0m\u001b[0mclasses_\u001b[0m\u001b[0;34m)\u001b[0m\u001b[0;34m)\u001b[0m\u001b[0;34m)\u001b[0m\u001b[0;34m\u001b[0m\u001b[0;34m\u001b[0m\u001b[0m\n\u001b[1;32m    299\u001b[0m         \u001b[0;32mif\u001b[0m \u001b[0mlen\u001b[0m\u001b[0;34m(\u001b[0m\u001b[0mdiff\u001b[0m\u001b[0;34m)\u001b[0m\u001b[0;34m:\u001b[0m\u001b[0;34m\u001b[0m\u001b[0;34m\u001b[0m\u001b[0m\n\u001b[0;32m--> 300\u001b[0;31m             raise ValueError(\n\u001b[0m\u001b[1;32m    301\u001b[0m                     \"y contains previously unseen labels: %s\" % str(diff))\n\u001b[1;32m    302\u001b[0m         \u001b[0my\u001b[0m \u001b[0;34m=\u001b[0m \u001b[0mnp\u001b[0m\u001b[0;34m.\u001b[0m\u001b[0masarray\u001b[0m\u001b[0;34m(\u001b[0m\u001b[0my\u001b[0m\u001b[0;34m)\u001b[0m\u001b[0;34m\u001b[0m\u001b[0;34m\u001b[0m\u001b[0m\n",
      "\u001b[0;31mValueError\u001b[0m: y contains previously unseen labels: [-1]"
     ]
    }
   ],
   "source": [
    "k_inverse_list =[]\n",
    "mean_0_list =[]\n",
    "mean_1_list =[]\n",
    "std_0_list =[]\n",
    "std_1_list =[]\n",
    "for k, ll_dict in log_likelihood_models.items():\n",
    "    k_inverse = le.inverse_transform([k])\n",
    "    if k_inverse == 0:\n",
    "        continue\n",
    "\n",
    "    mean_0 = np.mean(ll_dict[-1])\n",
    "    mean_1 = np.mean(ll_dict[k])\n",
    "    std_0 = np.std(ll_dict[-1])\n",
    "    std_1 = np.std(ll_dict[k])\n",
    "    # mean_0 = arr[:, 0].mean()\n",
    "    # mean_1 = arr[:, 1].mean()\n",
    "#     std_0 = arr[:, 0].std()\n",
    "#     std_1 = arr[:, 1].std()\n",
    "#     mean_0\n",
    "\n",
    "    k_inverse_list.append(k_inverse)\n",
    "    mean_0_list.append(mean_0)\n",
    "    mean_1_list.append(mean_1)\n",
    "    std_0_list.append(std_0)\n",
    "    std_1_list.append(std_1)\n",
    "\n",
    "plt.errorbar(k_inverse_list, mean_0_list, marker='.', yerr=std_0_list,c='tab:blue',ls='none', capsize=4,label='SM')\n",
    "plt.errorbar(k_inverse_list, mean_1_list, marker='.', yerr=std_1_list,c='tab:orange',ls='none', capsize=4,label='NP')\n",
    "plt.xlabel(\"C9 coef.\")\n",
    "plt.ylabel(\"Loglikelihood\")\n",
    "plt.title('MLP Classifier for SM data')\n",
    "plt.legend()\n",
    "plt.show()"
   ]
  },
  {
   "cell_type": "code",
   "execution_count": 715,
   "metadata": {},
   "outputs": [
    {
     "name": "stdout",
     "output_type": "stream",
     "text": [
      "0\n",
      "[16:42:29] WARNING: /opt/concourse/worker/volumes/live/7a2b9f41-3287-451b-6691-43e9a6c0910f/volume/xgboost-split_1619728204606/work/src/learner.cc:1061: Starting in XGBoost 1.3.0, the default evaluation metric used with the objective 'binary:logistic' was changed from 'error' to 'logloss'. Explicitly set eval_metric if you'd like to restore the old behavior.\n"
     ]
    },
    {
     "name": "stderr",
     "output_type": "stream",
     "text": [
      "/Users/jakubpazio/opt/anaconda3/lib/python3.8/site-packages/xgboost/sklearn.py:888: UserWarning: The use of label encoder in XGBClassifier is deprecated and will be removed in a future release. To remove this warning, do the following: 1) Pass option use_label_encoder=False when constructing XGBClassifier object; and 2) Encode your labels (y) as integers starting with 0, i.e. 0, 1, 2, ..., [num_class - 1].\n",
      "  warnings.warn(label_encoder_deprecation_msg, UserWarning)\n"
     ]
    },
    {
     "name": "stdout",
     "output_type": "stream",
     "text": [
      "4\n",
      "[16:42:33] WARNING: /opt/concourse/worker/volumes/live/7a2b9f41-3287-451b-6691-43e9a6c0910f/volume/xgboost-split_1619728204606/work/src/learner.cc:1061: Starting in XGBoost 1.3.0, the default evaluation metric used with the objective 'binary:logistic' was changed from 'error' to 'logloss'. Explicitly set eval_metric if you'd like to restore the old behavior.\n"
     ]
    },
    {
     "name": "stderr",
     "output_type": "stream",
     "text": [
      "/Users/jakubpazio/opt/anaconda3/lib/python3.8/site-packages/xgboost/sklearn.py:888: UserWarning: The use of label encoder in XGBClassifier is deprecated and will be removed in a future release. To remove this warning, do the following: 1) Pass option use_label_encoder=False when constructing XGBClassifier object; and 2) Encode your labels (y) as integers starting with 0, i.e. 0, 1, 2, ..., [num_class - 1].\n",
      "  warnings.warn(label_encoder_deprecation_msg, UserWarning)\n"
     ]
    },
    {
     "name": "stdout",
     "output_type": "stream",
     "text": [
      "8\n",
      "[16:42:36] WARNING: /opt/concourse/worker/volumes/live/7a2b9f41-3287-451b-6691-43e9a6c0910f/volume/xgboost-split_1619728204606/work/src/learner.cc:1061: Starting in XGBoost 1.3.0, the default evaluation metric used with the objective 'binary:logistic' was changed from 'error' to 'logloss'. Explicitly set eval_metric if you'd like to restore the old behavior.\n"
     ]
    },
    {
     "name": "stderr",
     "output_type": "stream",
     "text": [
      "/Users/jakubpazio/opt/anaconda3/lib/python3.8/site-packages/xgboost/sklearn.py:888: UserWarning: The use of label encoder in XGBClassifier is deprecated and will be removed in a future release. To remove this warning, do the following: 1) Pass option use_label_encoder=False when constructing XGBClassifier object; and 2) Encode your labels (y) as integers starting with 0, i.e. 0, 1, 2, ..., [num_class - 1].\n",
      "  warnings.warn(label_encoder_deprecation_msg, UserWarning)\n"
     ]
    },
    {
     "name": "stdout",
     "output_type": "stream",
     "text": [
      "12\n",
      "[16:42:40] WARNING: /opt/concourse/worker/volumes/live/7a2b9f41-3287-451b-6691-43e9a6c0910f/volume/xgboost-split_1619728204606/work/src/learner.cc:1061: Starting in XGBoost 1.3.0, the default evaluation metric used with the objective 'binary:logistic' was changed from 'error' to 'logloss'. Explicitly set eval_metric if you'd like to restore the old behavior.\n"
     ]
    },
    {
     "name": "stderr",
     "output_type": "stream",
     "text": [
      "/Users/jakubpazio/opt/anaconda3/lib/python3.8/site-packages/xgboost/sklearn.py:888: UserWarning: The use of label encoder in XGBClassifier is deprecated and will be removed in a future release. To remove this warning, do the following: 1) Pass option use_label_encoder=False when constructing XGBClassifier object; and 2) Encode your labels (y) as integers starting with 0, i.e. 0, 1, 2, ..., [num_class - 1].\n",
      "  warnings.warn(label_encoder_deprecation_msg, UserWarning)\n"
     ]
    },
    {
     "name": "stdout",
     "output_type": "stream",
     "text": [
      "16\n",
      "[16:42:44] WARNING: /opt/concourse/worker/volumes/live/7a2b9f41-3287-451b-6691-43e9a6c0910f/volume/xgboost-split_1619728204606/work/src/learner.cc:1061: Starting in XGBoost 1.3.0, the default evaluation metric used with the objective 'binary:logistic' was changed from 'error' to 'logloss'. Explicitly set eval_metric if you'd like to restore the old behavior.\n"
     ]
    },
    {
     "name": "stderr",
     "output_type": "stream",
     "text": [
      "/Users/jakubpazio/opt/anaconda3/lib/python3.8/site-packages/xgboost/sklearn.py:888: UserWarning: The use of label encoder in XGBClassifier is deprecated and will be removed in a future release. To remove this warning, do the following: 1) Pass option use_label_encoder=False when constructing XGBClassifier object; and 2) Encode your labels (y) as integers starting with 0, i.e. 0, 1, 2, ..., [num_class - 1].\n",
      "  warnings.warn(label_encoder_deprecation_msg, UserWarning)\n"
     ]
    },
    {
     "name": "stdout",
     "output_type": "stream",
     "text": [
      "20\n",
      "[16:42:48] WARNING: /opt/concourse/worker/volumes/live/7a2b9f41-3287-451b-6691-43e9a6c0910f/volume/xgboost-split_1619728204606/work/src/learner.cc:1061: Starting in XGBoost 1.3.0, the default evaluation metric used with the objective 'binary:logistic' was changed from 'error' to 'logloss'. Explicitly set eval_metric if you'd like to restore the old behavior.\n"
     ]
    },
    {
     "name": "stderr",
     "output_type": "stream",
     "text": [
      "/Users/jakubpazio/opt/anaconda3/lib/python3.8/site-packages/xgboost/sklearn.py:888: UserWarning: The use of label encoder in XGBClassifier is deprecated and will be removed in a future release. To remove this warning, do the following: 1) Pass option use_label_encoder=False when constructing XGBClassifier object; and 2) Encode your labels (y) as integers starting with 0, i.e. 0, 1, 2, ..., [num_class - 1].\n",
      "  warnings.warn(label_encoder_deprecation_msg, UserWarning)\n"
     ]
    },
    {
     "name": "stdout",
     "output_type": "stream",
     "text": [
      "24\n",
      "[16:42:54] WARNING: /opt/concourse/worker/volumes/live/7a2b9f41-3287-451b-6691-43e9a6c0910f/volume/xgboost-split_1619728204606/work/src/learner.cc:1061: Starting in XGBoost 1.3.0, the default evaluation metric used with the objective 'binary:logistic' was changed from 'error' to 'logloss'. Explicitly set eval_metric if you'd like to restore the old behavior.\n"
     ]
    },
    {
     "name": "stderr",
     "output_type": "stream",
     "text": [
      "/Users/jakubpazio/opt/anaconda3/lib/python3.8/site-packages/xgboost/sklearn.py:888: UserWarning: The use of label encoder in XGBClassifier is deprecated and will be removed in a future release. To remove this warning, do the following: 1) Pass option use_label_encoder=False when constructing XGBClassifier object; and 2) Encode your labels (y) as integers starting with 0, i.e. 0, 1, 2, ..., [num_class - 1].\n",
      "  warnings.warn(label_encoder_deprecation_msg, UserWarning)\n"
     ]
    },
    {
     "name": "stdout",
     "output_type": "stream",
     "text": [
      "28\n",
      "[16:42:58] WARNING: /opt/concourse/worker/volumes/live/7a2b9f41-3287-451b-6691-43e9a6c0910f/volume/xgboost-split_1619728204606/work/src/learner.cc:1061: Starting in XGBoost 1.3.0, the default evaluation metric used with the objective 'binary:logistic' was changed from 'error' to 'logloss'. Explicitly set eval_metric if you'd like to restore the old behavior.\n"
     ]
    },
    {
     "name": "stderr",
     "output_type": "stream",
     "text": [
      "/Users/jakubpazio/opt/anaconda3/lib/python3.8/site-packages/xgboost/sklearn.py:888: UserWarning: The use of label encoder in XGBClassifier is deprecated and will be removed in a future release. To remove this warning, do the following: 1) Pass option use_label_encoder=False when constructing XGBClassifier object; and 2) Encode your labels (y) as integers starting with 0, i.e. 0, 1, 2, ..., [num_class - 1].\n",
      "  warnings.warn(label_encoder_deprecation_msg, UserWarning)\n"
     ]
    },
    {
     "name": "stdout",
     "output_type": "stream",
     "text": [
      "32\n",
      "[16:43:02] WARNING: /opt/concourse/worker/volumes/live/7a2b9f41-3287-451b-6691-43e9a6c0910f/volume/xgboost-split_1619728204606/work/src/learner.cc:1061: Starting in XGBoost 1.3.0, the default evaluation metric used with the objective 'binary:logistic' was changed from 'error' to 'logloss'. Explicitly set eval_metric if you'd like to restore the old behavior.\n"
     ]
    },
    {
     "name": "stderr",
     "output_type": "stream",
     "text": [
      "/Users/jakubpazio/opt/anaconda3/lib/python3.8/site-packages/xgboost/sklearn.py:888: UserWarning: The use of label encoder in XGBClassifier is deprecated and will be removed in a future release. To remove this warning, do the following: 1) Pass option use_label_encoder=False when constructing XGBClassifier object; and 2) Encode your labels (y) as integers starting with 0, i.e. 0, 1, 2, ..., [num_class - 1].\n",
      "  warnings.warn(label_encoder_deprecation_msg, UserWarning)\n"
     ]
    },
    {
     "name": "stdout",
     "output_type": "stream",
     "text": [
      "36\n",
      "[16:43:06] WARNING: /opt/concourse/worker/volumes/live/7a2b9f41-3287-451b-6691-43e9a6c0910f/volume/xgboost-split_1619728204606/work/src/learner.cc:1061: Starting in XGBoost 1.3.0, the default evaluation metric used with the objective 'binary:logistic' was changed from 'error' to 'logloss'. Explicitly set eval_metric if you'd like to restore the old behavior.\n"
     ]
    },
    {
     "name": "stderr",
     "output_type": "stream",
     "text": [
      "/Users/jakubpazio/opt/anaconda3/lib/python3.8/site-packages/xgboost/sklearn.py:888: UserWarning: The use of label encoder in XGBClassifier is deprecated and will be removed in a future release. To remove this warning, do the following: 1) Pass option use_label_encoder=False when constructing XGBClassifier object; and 2) Encode your labels (y) as integers starting with 0, i.e. 0, 1, 2, ..., [num_class - 1].\n",
      "  warnings.warn(label_encoder_deprecation_msg, UserWarning)\n"
     ]
    },
    {
     "name": "stdout",
     "output_type": "stream",
     "text": [
      "40\n",
      "[16:43:10] WARNING: /opt/concourse/worker/volumes/live/7a2b9f41-3287-451b-6691-43e9a6c0910f/volume/xgboost-split_1619728204606/work/src/learner.cc:1061: Starting in XGBoost 1.3.0, the default evaluation metric used with the objective 'binary:logistic' was changed from 'error' to 'logloss'. Explicitly set eval_metric if you'd like to restore the old behavior.\n"
     ]
    },
    {
     "name": "stderr",
     "output_type": "stream",
     "text": [
      "/Users/jakubpazio/opt/anaconda3/lib/python3.8/site-packages/xgboost/sklearn.py:888: UserWarning: The use of label encoder in XGBClassifier is deprecated and will be removed in a future release. To remove this warning, do the following: 1) Pass option use_label_encoder=False when constructing XGBClassifier object; and 2) Encode your labels (y) as integers starting with 0, i.e. 0, 1, 2, ..., [num_class - 1].\n",
      "  warnings.warn(label_encoder_deprecation_msg, UserWarning)\n"
     ]
    },
    {
     "name": "stdout",
     "output_type": "stream",
     "text": [
      "44\n",
      "[16:43:14] WARNING: /opt/concourse/worker/volumes/live/7a2b9f41-3287-451b-6691-43e9a6c0910f/volume/xgboost-split_1619728204606/work/src/learner.cc:1061: Starting in XGBoost 1.3.0, the default evaluation metric used with the objective 'binary:logistic' was changed from 'error' to 'logloss'. Explicitly set eval_metric if you'd like to restore the old behavior.\n"
     ]
    },
    {
     "name": "stderr",
     "output_type": "stream",
     "text": [
      "/Users/jakubpazio/opt/anaconda3/lib/python3.8/site-packages/xgboost/sklearn.py:888: UserWarning: The use of label encoder in XGBClassifier is deprecated and will be removed in a future release. To remove this warning, do the following: 1) Pass option use_label_encoder=False when constructing XGBClassifier object; and 2) Encode your labels (y) as integers starting with 0, i.e. 0, 1, 2, ..., [num_class - 1].\n",
      "  warnings.warn(label_encoder_deprecation_msg, UserWarning)\n"
     ]
    },
    {
     "name": "stdout",
     "output_type": "stream",
     "text": [
      "48\n",
      "[16:43:19] WARNING: /opt/concourse/worker/volumes/live/7a2b9f41-3287-451b-6691-43e9a6c0910f/volume/xgboost-split_1619728204606/work/src/learner.cc:1061: Starting in XGBoost 1.3.0, the default evaluation metric used with the objective 'binary:logistic' was changed from 'error' to 'logloss'. Explicitly set eval_metric if you'd like to restore the old behavior.\n"
     ]
    },
    {
     "name": "stderr",
     "output_type": "stream",
     "text": [
      "/Users/jakubpazio/opt/anaconda3/lib/python3.8/site-packages/xgboost/sklearn.py:888: UserWarning: The use of label encoder in XGBClassifier is deprecated and will be removed in a future release. To remove this warning, do the following: 1) Pass option use_label_encoder=False when constructing XGBClassifier object; and 2) Encode your labels (y) as integers starting with 0, i.e. 0, 1, 2, ..., [num_class - 1].\n",
      "  warnings.warn(label_encoder_deprecation_msg, UserWarning)\n"
     ]
    },
    {
     "name": "stdout",
     "output_type": "stream",
     "text": [
      "52\n",
      "[16:43:23] WARNING: /opt/concourse/worker/volumes/live/7a2b9f41-3287-451b-6691-43e9a6c0910f/volume/xgboost-split_1619728204606/work/src/learner.cc:1061: Starting in XGBoost 1.3.0, the default evaluation metric used with the objective 'binary:logistic' was changed from 'error' to 'logloss'. Explicitly set eval_metric if you'd like to restore the old behavior.\n"
     ]
    },
    {
     "name": "stderr",
     "output_type": "stream",
     "text": [
      "/Users/jakubpazio/opt/anaconda3/lib/python3.8/site-packages/xgboost/sklearn.py:888: UserWarning: The use of label encoder in XGBClassifier is deprecated and will be removed in a future release. To remove this warning, do the following: 1) Pass option use_label_encoder=False when constructing XGBClassifier object; and 2) Encode your labels (y) as integers starting with 0, i.e. 0, 1, 2, ..., [num_class - 1].\n",
      "  warnings.warn(label_encoder_deprecation_msg, UserWarning)\n"
     ]
    },
    {
     "name": "stdout",
     "output_type": "stream",
     "text": [
      "56\n",
      "[16:43:27] WARNING: /opt/concourse/worker/volumes/live/7a2b9f41-3287-451b-6691-43e9a6c0910f/volume/xgboost-split_1619728204606/work/src/learner.cc:1061: Starting in XGBoost 1.3.0, the default evaluation metric used with the objective 'binary:logistic' was changed from 'error' to 'logloss'. Explicitly set eval_metric if you'd like to restore the old behavior.\n"
     ]
    },
    {
     "name": "stderr",
     "output_type": "stream",
     "text": [
      "/Users/jakubpazio/opt/anaconda3/lib/python3.8/site-packages/xgboost/sklearn.py:888: UserWarning: The use of label encoder in XGBClassifier is deprecated and will be removed in a future release. To remove this warning, do the following: 1) Pass option use_label_encoder=False when constructing XGBClassifier object; and 2) Encode your labels (y) as integers starting with 0, i.e. 0, 1, 2, ..., [num_class - 1].\n",
      "  warnings.warn(label_encoder_deprecation_msg, UserWarning)\n"
     ]
    },
    {
     "name": "stdout",
     "output_type": "stream",
     "text": [
      "60\n",
      "[16:43:31] WARNING: /opt/concourse/worker/volumes/live/7a2b9f41-3287-451b-6691-43e9a6c0910f/volume/xgboost-split_1619728204606/work/src/learner.cc:1061: Starting in XGBoost 1.3.0, the default evaluation metric used with the objective 'binary:logistic' was changed from 'error' to 'logloss'. Explicitly set eval_metric if you'd like to restore the old behavior.\n"
     ]
    },
    {
     "name": "stderr",
     "output_type": "stream",
     "text": [
      "/Users/jakubpazio/opt/anaconda3/lib/python3.8/site-packages/xgboost/sklearn.py:888: UserWarning: The use of label encoder in XGBClassifier is deprecated and will be removed in a future release. To remove this warning, do the following: 1) Pass option use_label_encoder=False when constructing XGBClassifier object; and 2) Encode your labels (y) as integers starting with 0, i.e. 0, 1, 2, ..., [num_class - 1].\n",
      "  warnings.warn(label_encoder_deprecation_msg, UserWarning)\n"
     ]
    }
   ],
   "source": [
    "log_likelihood_models = {}\n",
    "\n",
    "for c9_t in main_file_min3_3_50.c9.unique()[::4]:\n",
    "    print(c9_t)\n",
    "    X = pd.concat([main_file_min3_3_50[main_file_min3_3_50.c9 == 30].sample(10000), main_file_min3_3_50[main_file_min3_3_50.c9 == c9_t].sample(10000)])\n",
    "    Y = X['c9']\n",
    "    # print('Y',Y)\n",
    "    X = X.drop(columns=['c9'])\n",
    "\n",
    "\n",
    "    # display(X.head())\n",
    "    # display(Y.sample(10))\n",
    "\n",
    "    # mlp_clf = MLPClassifier(max_iter=10)\n",
    "    # mlp_clf.fit(X.values, Y.values)\n",
    "    # print('here')\n",
    "\n",
    "    xgb_clf = XGBClassifier(n_estimators=200, max_depth=5, learning_rate=0.3)\n",
    "    xgb_clf.fit(X.values, Y.values)\n",
    "\n",
    "    classes = xgb_clf.classes_\n",
    "    # print(classes)\n",
    "    \n",
    "    log_likelihood = {c9:[] for c9 in classes}\n",
    "\n",
    "    for j in range(100):\n",
    "        sample = test_data_00.sample(10000)\n",
    "    \n",
    "        log_probs = sum(np.log(xgb_clf.predict_proba(sample)))\n",
    "        # print('here1')\n",
    "        # print(log_probs)\n",
    "        # print(log_probs)\n",
    "        # print({c9:likelihood for c9, likelihood in zip(classes, log_probs)})\n",
    "        for i, c9 in enumerate(classes):\n",
    "            log_likelihood[c9].append(log_probs[i])\n",
    "    \n",
    "    # log_likelihood_models[i][ii] = np.array(log_likelihood)\n",
    "    log_likelihood_models[c9_t] = log_likelihood"
   ]
  },
  {
   "cell_type": "code",
   "execution_count": 717,
   "metadata": {},
   "outputs": [
    {
     "data": {
      "image/svg+xml": "<?xml version=\"1.0\" encoding=\"utf-8\" standalone=\"no\"?>\n<!DOCTYPE svg PUBLIC \"-//W3C//DTD SVG 1.1//EN\"\n  \"http://www.w3.org/Graphics/SVG/1.1/DTD/svg11.dtd\">\n<!-- Created with matplotlib (https://matplotlib.org/) -->\n<svg height=\"277.314375pt\" version=\"1.1\" viewBox=\"0 0 403.707812 277.314375\" width=\"403.707812pt\" xmlns=\"http://www.w3.org/2000/svg\" xmlns:xlink=\"http://www.w3.org/1999/xlink\">\n <metadata>\n  <rdf:RDF xmlns:cc=\"http://creativecommons.org/ns#\" xmlns:dc=\"http://purl.org/dc/elements/1.1/\" xmlns:rdf=\"http://www.w3.org/1999/02/22-rdf-syntax-ns#\">\n   <cc:Work>\n    <dc:type rdf:resource=\"http://purl.org/dc/dcmitype/StillImage\"/>\n    <dc:date>2022-02-21T16:43:46.012462</dc:date>\n    <dc:format>image/svg+xml</dc:format>\n    <dc:creator>\n     <cc:Agent>\n      <dc:title>Matplotlib v3.3.2, https://matplotlib.org/</dc:title>\n     </cc:Agent>\n    </dc:creator>\n   </cc:Work>\n  </rdf:RDF>\n </metadata>\n <defs>\n  <style type=\"text/css\">*{stroke-linecap:butt;stroke-linejoin:round;}</style>\n </defs>\n <g id=\"figure_1\">\n  <g id=\"patch_1\">\n   <path d=\"M 0 277.314375 \nL 403.707812 277.314375 \nL 403.707812 0 \nL 0 0 \nz\n\" style=\"fill:none;\"/>\n  </g>\n  <g id=\"axes_1\">\n   <g id=\"patch_2\">\n    <path d=\"M 61.707813 239.758125 \nL 396.507812 239.758125 \nL 396.507812 22.318125 \nL 61.707813 22.318125 \nz\n\" style=\"fill:#ffffff;\"/>\n   </g>\n   <g id=\"matplotlib.axis_1\">\n    <g id=\"xtick_1\">\n     <g id=\"line2d_1\">\n      <defs>\n       <path d=\"M 0 0 \nL 0 3.5 \n\" id=\"m9c2b164e2c\" style=\"stroke:#000000;stroke-width:0.8;\"/>\n      </defs>\n      <g>\n       <use style=\"stroke:#000000;stroke-width:0.8;\" x=\"76.925994\" xlink:href=\"#m9c2b164e2c\" y=\"239.758125\"/>\n      </g>\n     </g>\n     <g id=\"text_1\">\n      <!-- −3 -->\n      <g transform=\"translate(69.554901 254.356562)scale(0.1 -0.1)\">\n       <defs>\n        <path d=\"M 10.59375 35.5 \nL 73.1875 35.5 \nL 73.1875 27.203125 \nL 10.59375 27.203125 \nz\n\" id=\"DejaVuSans-8722\"/>\n        <path d=\"M 40.578125 39.3125 \nQ 47.65625 37.796875 51.625 33 \nQ 55.609375 28.21875 55.609375 21.1875 \nQ 55.609375 10.40625 48.1875 4.484375 \nQ 40.765625 -1.421875 27.09375 -1.421875 \nQ 22.515625 -1.421875 17.65625 -0.515625 \nQ 12.796875 0.390625 7.625 2.203125 \nL 7.625 11.71875 \nQ 11.71875 9.328125 16.59375 8.109375 \nQ 21.484375 6.890625 26.8125 6.890625 \nQ 36.078125 6.890625 40.9375 10.546875 \nQ 45.796875 14.203125 45.796875 21.1875 \nQ 45.796875 27.640625 41.28125 31.265625 \nQ 36.765625 34.90625 28.71875 34.90625 \nL 20.21875 34.90625 \nL 20.21875 43.015625 \nL 29.109375 43.015625 \nQ 36.375 43.015625 40.234375 45.921875 \nQ 44.09375 48.828125 44.09375 54.296875 \nQ 44.09375 59.90625 40.109375 62.90625 \nQ 36.140625 65.921875 28.71875 65.921875 \nQ 24.65625 65.921875 20.015625 65.03125 \nQ 15.375 64.15625 9.8125 62.3125 \nL 9.8125 71.09375 \nQ 15.4375 72.65625 20.34375 73.4375 \nQ 25.25 74.21875 29.59375 74.21875 \nQ 40.828125 74.21875 47.359375 69.109375 \nQ 53.90625 64.015625 53.90625 55.328125 \nQ 53.90625 49.265625 50.4375 45.09375 \nQ 46.96875 40.921875 40.578125 39.3125 \nz\n\" id=\"DejaVuSans-51\"/>\n       </defs>\n       <use xlink:href=\"#DejaVuSans-8722\"/>\n       <use x=\"83.789062\" xlink:href=\"#DejaVuSans-51\"/>\n      </g>\n     </g>\n    </g>\n    <g id=\"xtick_2\">\n     <g id=\"line2d_2\">\n      <g>\n       <use style=\"stroke:#000000;stroke-width:0.8;\" x=\"127.653267\" xlink:href=\"#m9c2b164e2c\" y=\"239.758125\"/>\n      </g>\n     </g>\n     <g id=\"text_2\">\n      <!-- −2 -->\n      <g transform=\"translate(120.282173 254.356562)scale(0.1 -0.1)\">\n       <defs>\n        <path d=\"M 19.1875 8.296875 \nL 53.609375 8.296875 \nL 53.609375 0 \nL 7.328125 0 \nL 7.328125 8.296875 \nQ 12.9375 14.109375 22.625 23.890625 \nQ 32.328125 33.6875 34.8125 36.53125 \nQ 39.546875 41.84375 41.421875 45.53125 \nQ 43.3125 49.21875 43.3125 52.78125 \nQ 43.3125 58.59375 39.234375 62.25 \nQ 35.15625 65.921875 28.609375 65.921875 \nQ 23.96875 65.921875 18.8125 64.3125 \nQ 13.671875 62.703125 7.8125 59.421875 \nL 7.8125 69.390625 \nQ 13.765625 71.78125 18.9375 73 \nQ 24.125 74.21875 28.421875 74.21875 \nQ 39.75 74.21875 46.484375 68.546875 \nQ 53.21875 62.890625 53.21875 53.421875 \nQ 53.21875 48.921875 51.53125 44.890625 \nQ 49.859375 40.875 45.40625 35.40625 \nQ 44.1875 33.984375 37.640625 27.21875 \nQ 31.109375 20.453125 19.1875 8.296875 \nz\n\" id=\"DejaVuSans-50\"/>\n       </defs>\n       <use xlink:href=\"#DejaVuSans-8722\"/>\n       <use x=\"83.789062\" xlink:href=\"#DejaVuSans-50\"/>\n      </g>\n     </g>\n    </g>\n    <g id=\"xtick_3\">\n     <g id=\"line2d_3\">\n      <g>\n       <use style=\"stroke:#000000;stroke-width:0.8;\" x=\"178.38054\" xlink:href=\"#m9c2b164e2c\" y=\"239.758125\"/>\n      </g>\n     </g>\n     <g id=\"text_3\">\n      <!-- −1 -->\n      <g transform=\"translate(171.009446 254.356562)scale(0.1 -0.1)\">\n       <defs>\n        <path d=\"M 12.40625 8.296875 \nL 28.515625 8.296875 \nL 28.515625 63.921875 \nL 10.984375 60.40625 \nL 10.984375 69.390625 \nL 28.421875 72.90625 \nL 38.28125 72.90625 \nL 38.28125 8.296875 \nL 54.390625 8.296875 \nL 54.390625 0 \nL 12.40625 0 \nz\n\" id=\"DejaVuSans-49\"/>\n       </defs>\n       <use xlink:href=\"#DejaVuSans-8722\"/>\n       <use x=\"83.789062\" xlink:href=\"#DejaVuSans-49\"/>\n      </g>\n     </g>\n    </g>\n    <g id=\"xtick_4\">\n     <g id=\"line2d_4\">\n      <g>\n       <use style=\"stroke:#000000;stroke-width:0.8;\" x=\"229.107813\" xlink:href=\"#m9c2b164e2c\" y=\"239.758125\"/>\n      </g>\n     </g>\n     <g id=\"text_4\">\n      <!-- 0 -->\n      <g transform=\"translate(225.926563 254.356562)scale(0.1 -0.1)\">\n       <defs>\n        <path d=\"M 31.78125 66.40625 \nQ 24.171875 66.40625 20.328125 58.90625 \nQ 16.5 51.421875 16.5 36.375 \nQ 16.5 21.390625 20.328125 13.890625 \nQ 24.171875 6.390625 31.78125 6.390625 \nQ 39.453125 6.390625 43.28125 13.890625 \nQ 47.125 21.390625 47.125 36.375 \nQ 47.125 51.421875 43.28125 58.90625 \nQ 39.453125 66.40625 31.78125 66.40625 \nz\nM 31.78125 74.21875 \nQ 44.046875 74.21875 50.515625 64.515625 \nQ 56.984375 54.828125 56.984375 36.375 \nQ 56.984375 17.96875 50.515625 8.265625 \nQ 44.046875 -1.421875 31.78125 -1.421875 \nQ 19.53125 -1.421875 13.0625 8.265625 \nQ 6.59375 17.96875 6.59375 36.375 \nQ 6.59375 54.828125 13.0625 64.515625 \nQ 19.53125 74.21875 31.78125 74.21875 \nz\n\" id=\"DejaVuSans-48\"/>\n       </defs>\n       <use xlink:href=\"#DejaVuSans-48\"/>\n      </g>\n     </g>\n    </g>\n    <g id=\"xtick_5\">\n     <g id=\"line2d_5\">\n      <g>\n       <use style=\"stroke:#000000;stroke-width:0.8;\" x=\"279.835085\" xlink:href=\"#m9c2b164e2c\" y=\"239.758125\"/>\n      </g>\n     </g>\n     <g id=\"text_5\">\n      <!-- 1 -->\n      <g transform=\"translate(276.653835 254.356562)scale(0.1 -0.1)\">\n       <use xlink:href=\"#DejaVuSans-49\"/>\n      </g>\n     </g>\n    </g>\n    <g id=\"xtick_6\">\n     <g id=\"line2d_6\">\n      <g>\n       <use style=\"stroke:#000000;stroke-width:0.8;\" x=\"330.562358\" xlink:href=\"#m9c2b164e2c\" y=\"239.758125\"/>\n      </g>\n     </g>\n     <g id=\"text_6\">\n      <!-- 2 -->\n      <g transform=\"translate(327.381108 254.356562)scale(0.1 -0.1)\">\n       <use xlink:href=\"#DejaVuSans-50\"/>\n      </g>\n     </g>\n    </g>\n    <g id=\"xtick_7\">\n     <g id=\"line2d_7\">\n      <g>\n       <use style=\"stroke:#000000;stroke-width:0.8;\" x=\"381.289631\" xlink:href=\"#m9c2b164e2c\" y=\"239.758125\"/>\n      </g>\n     </g>\n     <g id=\"text_7\">\n      <!-- 3 -->\n      <g transform=\"translate(378.108381 254.356562)scale(0.1 -0.1)\">\n       <use xlink:href=\"#DejaVuSans-51\"/>\n      </g>\n     </g>\n    </g>\n    <g id=\"text_8\">\n     <!-- C9 coef. -->\n     <g transform=\"translate(208.974219 268.034687)scale(0.1 -0.1)\">\n      <defs>\n       <path d=\"M 64.40625 67.28125 \nL 64.40625 56.890625 \nQ 59.421875 61.53125 53.78125 63.8125 \nQ 48.140625 66.109375 41.796875 66.109375 \nQ 29.296875 66.109375 22.65625 58.46875 \nQ 16.015625 50.828125 16.015625 36.375 \nQ 16.015625 21.96875 22.65625 14.328125 \nQ 29.296875 6.6875 41.796875 6.6875 \nQ 48.140625 6.6875 53.78125 8.984375 \nQ 59.421875 11.28125 64.40625 15.921875 \nL 64.40625 5.609375 \nQ 59.234375 2.09375 53.4375 0.328125 \nQ 47.65625 -1.421875 41.21875 -1.421875 \nQ 24.65625 -1.421875 15.125 8.703125 \nQ 5.609375 18.84375 5.609375 36.375 \nQ 5.609375 53.953125 15.125 64.078125 \nQ 24.65625 74.21875 41.21875 74.21875 \nQ 47.75 74.21875 53.53125 72.484375 \nQ 59.328125 70.75 64.40625 67.28125 \nz\n\" id=\"DejaVuSans-67\"/>\n       <path d=\"M 10.984375 1.515625 \nL 10.984375 10.5 \nQ 14.703125 8.734375 18.5 7.8125 \nQ 22.3125 6.890625 25.984375 6.890625 \nQ 35.75 6.890625 40.890625 13.453125 \nQ 46.046875 20.015625 46.78125 33.40625 \nQ 43.953125 29.203125 39.59375 26.953125 \nQ 35.25 24.703125 29.984375 24.703125 \nQ 19.046875 24.703125 12.671875 31.3125 \nQ 6.296875 37.9375 6.296875 49.421875 \nQ 6.296875 60.640625 12.9375 67.421875 \nQ 19.578125 74.21875 30.609375 74.21875 \nQ 43.265625 74.21875 49.921875 64.515625 \nQ 56.59375 54.828125 56.59375 36.375 \nQ 56.59375 19.140625 48.40625 8.859375 \nQ 40.234375 -1.421875 26.421875 -1.421875 \nQ 22.703125 -1.421875 18.890625 -0.6875 \nQ 15.09375 0.046875 10.984375 1.515625 \nz\nM 30.609375 32.421875 \nQ 37.25 32.421875 41.125 36.953125 \nQ 45.015625 41.5 45.015625 49.421875 \nQ 45.015625 57.28125 41.125 61.84375 \nQ 37.25 66.40625 30.609375 66.40625 \nQ 23.96875 66.40625 20.09375 61.84375 \nQ 16.21875 57.28125 16.21875 49.421875 \nQ 16.21875 41.5 20.09375 36.953125 \nQ 23.96875 32.421875 30.609375 32.421875 \nz\n\" id=\"DejaVuSans-57\"/>\n       <path id=\"DejaVuSans-32\"/>\n       <path d=\"M 48.78125 52.59375 \nL 48.78125 44.1875 \nQ 44.96875 46.296875 41.140625 47.34375 \nQ 37.3125 48.390625 33.40625 48.390625 \nQ 24.65625 48.390625 19.8125 42.84375 \nQ 14.984375 37.3125 14.984375 27.296875 \nQ 14.984375 17.28125 19.8125 11.734375 \nQ 24.65625 6.203125 33.40625 6.203125 \nQ 37.3125 6.203125 41.140625 7.25 \nQ 44.96875 8.296875 48.78125 10.40625 \nL 48.78125 2.09375 \nQ 45.015625 0.34375 40.984375 -0.53125 \nQ 36.96875 -1.421875 32.421875 -1.421875 \nQ 20.0625 -1.421875 12.78125 6.34375 \nQ 5.515625 14.109375 5.515625 27.296875 \nQ 5.515625 40.671875 12.859375 48.328125 \nQ 20.21875 56 33.015625 56 \nQ 37.15625 56 41.109375 55.140625 \nQ 45.0625 54.296875 48.78125 52.59375 \nz\n\" id=\"DejaVuSans-99\"/>\n       <path d=\"M 30.609375 48.390625 \nQ 23.390625 48.390625 19.1875 42.75 \nQ 14.984375 37.109375 14.984375 27.296875 \nQ 14.984375 17.484375 19.15625 11.84375 \nQ 23.34375 6.203125 30.609375 6.203125 \nQ 37.796875 6.203125 41.984375 11.859375 \nQ 46.1875 17.53125 46.1875 27.296875 \nQ 46.1875 37.015625 41.984375 42.703125 \nQ 37.796875 48.390625 30.609375 48.390625 \nz\nM 30.609375 56 \nQ 42.328125 56 49.015625 48.375 \nQ 55.71875 40.765625 55.71875 27.296875 \nQ 55.71875 13.875 49.015625 6.21875 \nQ 42.328125 -1.421875 30.609375 -1.421875 \nQ 18.84375 -1.421875 12.171875 6.21875 \nQ 5.515625 13.875 5.515625 27.296875 \nQ 5.515625 40.765625 12.171875 48.375 \nQ 18.84375 56 30.609375 56 \nz\n\" id=\"DejaVuSans-111\"/>\n       <path d=\"M 56.203125 29.59375 \nL 56.203125 25.203125 \nL 14.890625 25.203125 \nQ 15.484375 15.921875 20.484375 11.0625 \nQ 25.484375 6.203125 34.421875 6.203125 \nQ 39.59375 6.203125 44.453125 7.46875 \nQ 49.3125 8.734375 54.109375 11.28125 \nL 54.109375 2.78125 \nQ 49.265625 0.734375 44.1875 -0.34375 \nQ 39.109375 -1.421875 33.890625 -1.421875 \nQ 20.796875 -1.421875 13.15625 6.1875 \nQ 5.515625 13.8125 5.515625 26.8125 \nQ 5.515625 40.234375 12.765625 48.109375 \nQ 20.015625 56 32.328125 56 \nQ 43.359375 56 49.78125 48.890625 \nQ 56.203125 41.796875 56.203125 29.59375 \nz\nM 47.21875 32.234375 \nQ 47.125 39.59375 43.09375 43.984375 \nQ 39.0625 48.390625 32.421875 48.390625 \nQ 24.90625 48.390625 20.390625 44.140625 \nQ 15.875 39.890625 15.1875 32.171875 \nz\n\" id=\"DejaVuSans-101\"/>\n       <path d=\"M 37.109375 75.984375 \nL 37.109375 68.5 \nL 28.515625 68.5 \nQ 23.6875 68.5 21.796875 66.546875 \nQ 19.921875 64.59375 19.921875 59.515625 \nL 19.921875 54.6875 \nL 34.71875 54.6875 \nL 34.71875 47.703125 \nL 19.921875 47.703125 \nL 19.921875 0 \nL 10.890625 0 \nL 10.890625 47.703125 \nL 2.296875 47.703125 \nL 2.296875 54.6875 \nL 10.890625 54.6875 \nL 10.890625 58.5 \nQ 10.890625 67.625 15.140625 71.796875 \nQ 19.390625 75.984375 28.609375 75.984375 \nz\n\" id=\"DejaVuSans-102\"/>\n       <path d=\"M 10.6875 12.40625 \nL 21 12.40625 \nL 21 0 \nL 10.6875 0 \nz\n\" id=\"DejaVuSans-46\"/>\n      </defs>\n      <use xlink:href=\"#DejaVuSans-67\"/>\n      <use x=\"69.824219\" xlink:href=\"#DejaVuSans-57\"/>\n      <use x=\"133.447266\" xlink:href=\"#DejaVuSans-32\"/>\n      <use x=\"165.234375\" xlink:href=\"#DejaVuSans-99\"/>\n      <use x=\"220.214844\" xlink:href=\"#DejaVuSans-111\"/>\n      <use x=\"281.396484\" xlink:href=\"#DejaVuSans-101\"/>\n      <use x=\"342.919922\" xlink:href=\"#DejaVuSans-102\"/>\n      <use x=\"370.875\" xlink:href=\"#DejaVuSans-46\"/>\n     </g>\n    </g>\n   </g>\n   <g id=\"matplotlib.axis_2\">\n    <g id=\"ytick_1\">\n     <g id=\"line2d_8\">\n      <defs>\n       <path d=\"M 0 0 \nL -3.5 0 \n\" id=\"mc46fc80119\" style=\"stroke:#000000;stroke-width:0.8;\"/>\n      </defs>\n      <g>\n       <use style=\"stroke:#000000;stroke-width:0.8;\" x=\"61.707813\" xlink:href=\"#mc46fc80119\" y=\"220.234148\"/>\n      </g>\n     </g>\n     <g id=\"text_9\">\n      <!-- −8200 -->\n      <g transform=\"translate(20.878125 224.033366)scale(0.1 -0.1)\">\n       <defs>\n        <path d=\"M 31.78125 34.625 \nQ 24.75 34.625 20.71875 30.859375 \nQ 16.703125 27.09375 16.703125 20.515625 \nQ 16.703125 13.921875 20.71875 10.15625 \nQ 24.75 6.390625 31.78125 6.390625 \nQ 38.8125 6.390625 42.859375 10.171875 \nQ 46.921875 13.96875 46.921875 20.515625 \nQ 46.921875 27.09375 42.890625 30.859375 \nQ 38.875 34.625 31.78125 34.625 \nz\nM 21.921875 38.8125 \nQ 15.578125 40.375 12.03125 44.71875 \nQ 8.5 49.078125 8.5 55.328125 \nQ 8.5 64.0625 14.71875 69.140625 \nQ 20.953125 74.21875 31.78125 74.21875 \nQ 42.671875 74.21875 48.875 69.140625 \nQ 55.078125 64.0625 55.078125 55.328125 \nQ 55.078125 49.078125 51.53125 44.71875 \nQ 48 40.375 41.703125 38.8125 \nQ 48.828125 37.15625 52.796875 32.3125 \nQ 56.78125 27.484375 56.78125 20.515625 \nQ 56.78125 9.90625 50.3125 4.234375 \nQ 43.84375 -1.421875 31.78125 -1.421875 \nQ 19.734375 -1.421875 13.25 4.234375 \nQ 6.78125 9.90625 6.78125 20.515625 \nQ 6.78125 27.484375 10.78125 32.3125 \nQ 14.796875 37.15625 21.921875 38.8125 \nz\nM 18.3125 54.390625 \nQ 18.3125 48.734375 21.84375 45.5625 \nQ 25.390625 42.390625 31.78125 42.390625 \nQ 38.140625 42.390625 41.71875 45.5625 \nQ 45.3125 48.734375 45.3125 54.390625 \nQ 45.3125 60.0625 41.71875 63.234375 \nQ 38.140625 66.40625 31.78125 66.40625 \nQ 25.390625 66.40625 21.84375 63.234375 \nQ 18.3125 60.0625 18.3125 54.390625 \nz\n\" id=\"DejaVuSans-56\"/>\n       </defs>\n       <use xlink:href=\"#DejaVuSans-8722\"/>\n       <use x=\"83.789062\" xlink:href=\"#DejaVuSans-56\"/>\n       <use x=\"147.412109\" xlink:href=\"#DejaVuSans-50\"/>\n       <use x=\"211.035156\" xlink:href=\"#DejaVuSans-48\"/>\n       <use x=\"274.658203\" xlink:href=\"#DejaVuSans-48\"/>\n      </g>\n     </g>\n    </g>\n    <g id=\"ytick_2\">\n     <g id=\"line2d_9\">\n      <g>\n       <use style=\"stroke:#000000;stroke-width:0.8;\" x=\"61.707813\" xlink:href=\"#mc46fc80119\" y=\"191.891601\"/>\n      </g>\n     </g>\n     <g id=\"text_10\">\n      <!-- −8000 -->\n      <g transform=\"translate(20.878125 195.69082)scale(0.1 -0.1)\">\n       <use xlink:href=\"#DejaVuSans-8722\"/>\n       <use x=\"83.789062\" xlink:href=\"#DejaVuSans-56\"/>\n       <use x=\"147.412109\" xlink:href=\"#DejaVuSans-48\"/>\n       <use x=\"211.035156\" xlink:href=\"#DejaVuSans-48\"/>\n       <use x=\"274.658203\" xlink:href=\"#DejaVuSans-48\"/>\n      </g>\n     </g>\n    </g>\n    <g id=\"ytick_3\">\n     <g id=\"line2d_10\">\n      <g>\n       <use style=\"stroke:#000000;stroke-width:0.8;\" x=\"61.707813\" xlink:href=\"#mc46fc80119\" y=\"163.549054\"/>\n      </g>\n     </g>\n     <g id=\"text_11\">\n      <!-- −7800 -->\n      <g transform=\"translate(20.878125 167.348273)scale(0.1 -0.1)\">\n       <defs>\n        <path d=\"M 8.203125 72.90625 \nL 55.078125 72.90625 \nL 55.078125 68.703125 \nL 28.609375 0 \nL 18.3125 0 \nL 43.21875 64.59375 \nL 8.203125 64.59375 \nz\n\" id=\"DejaVuSans-55\"/>\n       </defs>\n       <use xlink:href=\"#DejaVuSans-8722\"/>\n       <use x=\"83.789062\" xlink:href=\"#DejaVuSans-55\"/>\n       <use x=\"147.412109\" xlink:href=\"#DejaVuSans-56\"/>\n       <use x=\"211.035156\" xlink:href=\"#DejaVuSans-48\"/>\n       <use x=\"274.658203\" xlink:href=\"#DejaVuSans-48\"/>\n      </g>\n     </g>\n    </g>\n    <g id=\"ytick_4\">\n     <g id=\"line2d_11\">\n      <g>\n       <use style=\"stroke:#000000;stroke-width:0.8;\" x=\"61.707813\" xlink:href=\"#mc46fc80119\" y=\"135.206507\"/>\n      </g>\n     </g>\n     <g id=\"text_12\">\n      <!-- −7600 -->\n      <g transform=\"translate(20.878125 139.005726)scale(0.1 -0.1)\">\n       <defs>\n        <path d=\"M 33.015625 40.375 \nQ 26.375 40.375 22.484375 35.828125 \nQ 18.609375 31.296875 18.609375 23.390625 \nQ 18.609375 15.53125 22.484375 10.953125 \nQ 26.375 6.390625 33.015625 6.390625 \nQ 39.65625 6.390625 43.53125 10.953125 \nQ 47.40625 15.53125 47.40625 23.390625 \nQ 47.40625 31.296875 43.53125 35.828125 \nQ 39.65625 40.375 33.015625 40.375 \nz\nM 52.59375 71.296875 \nL 52.59375 62.3125 \nQ 48.875 64.0625 45.09375 64.984375 \nQ 41.3125 65.921875 37.59375 65.921875 \nQ 27.828125 65.921875 22.671875 59.328125 \nQ 17.53125 52.734375 16.796875 39.40625 \nQ 19.671875 43.65625 24.015625 45.921875 \nQ 28.375 48.1875 33.59375 48.1875 \nQ 44.578125 48.1875 50.953125 41.515625 \nQ 57.328125 34.859375 57.328125 23.390625 \nQ 57.328125 12.15625 50.6875 5.359375 \nQ 44.046875 -1.421875 33.015625 -1.421875 \nQ 20.359375 -1.421875 13.671875 8.265625 \nQ 6.984375 17.96875 6.984375 36.375 \nQ 6.984375 53.65625 15.1875 63.9375 \nQ 23.390625 74.21875 37.203125 74.21875 \nQ 40.921875 74.21875 44.703125 73.484375 \nQ 48.484375 72.75 52.59375 71.296875 \nz\n\" id=\"DejaVuSans-54\"/>\n       </defs>\n       <use xlink:href=\"#DejaVuSans-8722\"/>\n       <use x=\"83.789062\" xlink:href=\"#DejaVuSans-55\"/>\n       <use x=\"147.412109\" xlink:href=\"#DejaVuSans-54\"/>\n       <use x=\"211.035156\" xlink:href=\"#DejaVuSans-48\"/>\n       <use x=\"274.658203\" xlink:href=\"#DejaVuSans-48\"/>\n      </g>\n     </g>\n    </g>\n    <g id=\"ytick_5\">\n     <g id=\"line2d_12\">\n      <g>\n       <use style=\"stroke:#000000;stroke-width:0.8;\" x=\"61.707813\" xlink:href=\"#mc46fc80119\" y=\"106.86396\"/>\n      </g>\n     </g>\n     <g id=\"text_13\">\n      <!-- −7400 -->\n      <g transform=\"translate(20.878125 110.663179)scale(0.1 -0.1)\">\n       <defs>\n        <path d=\"M 37.796875 64.3125 \nL 12.890625 25.390625 \nL 37.796875 25.390625 \nz\nM 35.203125 72.90625 \nL 47.609375 72.90625 \nL 47.609375 25.390625 \nL 58.015625 25.390625 \nL 58.015625 17.1875 \nL 47.609375 17.1875 \nL 47.609375 0 \nL 37.796875 0 \nL 37.796875 17.1875 \nL 4.890625 17.1875 \nL 4.890625 26.703125 \nz\n\" id=\"DejaVuSans-52\"/>\n       </defs>\n       <use xlink:href=\"#DejaVuSans-8722\"/>\n       <use x=\"83.789062\" xlink:href=\"#DejaVuSans-55\"/>\n       <use x=\"147.412109\" xlink:href=\"#DejaVuSans-52\"/>\n       <use x=\"211.035156\" xlink:href=\"#DejaVuSans-48\"/>\n       <use x=\"274.658203\" xlink:href=\"#DejaVuSans-48\"/>\n      </g>\n     </g>\n    </g>\n    <g id=\"ytick_6\">\n     <g id=\"line2d_13\">\n      <g>\n       <use style=\"stroke:#000000;stroke-width:0.8;\" x=\"61.707813\" xlink:href=\"#mc46fc80119\" y=\"78.521413\"/>\n      </g>\n     </g>\n     <g id=\"text_14\">\n      <!-- −7200 -->\n      <g transform=\"translate(20.878125 82.320632)scale(0.1 -0.1)\">\n       <use xlink:href=\"#DejaVuSans-8722\"/>\n       <use x=\"83.789062\" xlink:href=\"#DejaVuSans-55\"/>\n       <use x=\"147.412109\" xlink:href=\"#DejaVuSans-50\"/>\n       <use x=\"211.035156\" xlink:href=\"#DejaVuSans-48\"/>\n       <use x=\"274.658203\" xlink:href=\"#DejaVuSans-48\"/>\n      </g>\n     </g>\n    </g>\n    <g id=\"ytick_7\">\n     <g id=\"line2d_14\">\n      <g>\n       <use style=\"stroke:#000000;stroke-width:0.8;\" x=\"61.707813\" xlink:href=\"#mc46fc80119\" y=\"50.178866\"/>\n      </g>\n     </g>\n     <g id=\"text_15\">\n      <!-- −7000 -->\n      <g transform=\"translate(20.878125 53.978085)scale(0.1 -0.1)\">\n       <use xlink:href=\"#DejaVuSans-8722\"/>\n       <use x=\"83.789062\" xlink:href=\"#DejaVuSans-55\"/>\n       <use x=\"147.412109\" xlink:href=\"#DejaVuSans-48\"/>\n       <use x=\"211.035156\" xlink:href=\"#DejaVuSans-48\"/>\n       <use x=\"274.658203\" xlink:href=\"#DejaVuSans-48\"/>\n      </g>\n     </g>\n    </g>\n    <g id=\"text_16\">\n     <!-- Loglikelihood -->\n     <g transform=\"translate(14.798438 163.77875)rotate(-90)scale(0.1 -0.1)\">\n      <defs>\n       <path d=\"M 9.8125 72.90625 \nL 19.671875 72.90625 \nL 19.671875 8.296875 \nL 55.171875 8.296875 \nL 55.171875 0 \nL 9.8125 0 \nz\n\" id=\"DejaVuSans-76\"/>\n       <path d=\"M 45.40625 27.984375 \nQ 45.40625 37.75 41.375 43.109375 \nQ 37.359375 48.484375 30.078125 48.484375 \nQ 22.859375 48.484375 18.828125 43.109375 \nQ 14.796875 37.75 14.796875 27.984375 \nQ 14.796875 18.265625 18.828125 12.890625 \nQ 22.859375 7.515625 30.078125 7.515625 \nQ 37.359375 7.515625 41.375 12.890625 \nQ 45.40625 18.265625 45.40625 27.984375 \nz\nM 54.390625 6.78125 \nQ 54.390625 -7.171875 48.1875 -13.984375 \nQ 42 -20.796875 29.203125 -20.796875 \nQ 24.46875 -20.796875 20.265625 -20.09375 \nQ 16.0625 -19.390625 12.109375 -17.921875 \nL 12.109375 -9.1875 \nQ 16.0625 -11.328125 19.921875 -12.34375 \nQ 23.78125 -13.375 27.78125 -13.375 \nQ 36.625 -13.375 41.015625 -8.765625 \nQ 45.40625 -4.15625 45.40625 5.171875 \nL 45.40625 9.625 \nQ 42.625 4.78125 38.28125 2.390625 \nQ 33.9375 0 27.875 0 \nQ 17.828125 0 11.671875 7.65625 \nQ 5.515625 15.328125 5.515625 27.984375 \nQ 5.515625 40.671875 11.671875 48.328125 \nQ 17.828125 56 27.875 56 \nQ 33.9375 56 38.28125 53.609375 \nQ 42.625 51.21875 45.40625 46.390625 \nL 45.40625 54.6875 \nL 54.390625 54.6875 \nz\n\" id=\"DejaVuSans-103\"/>\n       <path d=\"M 9.421875 75.984375 \nL 18.40625 75.984375 \nL 18.40625 0 \nL 9.421875 0 \nz\n\" id=\"DejaVuSans-108\"/>\n       <path d=\"M 9.421875 54.6875 \nL 18.40625 54.6875 \nL 18.40625 0 \nL 9.421875 0 \nz\nM 9.421875 75.984375 \nL 18.40625 75.984375 \nL 18.40625 64.59375 \nL 9.421875 64.59375 \nz\n\" id=\"DejaVuSans-105\"/>\n       <path d=\"M 9.078125 75.984375 \nL 18.109375 75.984375 \nL 18.109375 31.109375 \nL 44.921875 54.6875 \nL 56.390625 54.6875 \nL 27.390625 29.109375 \nL 57.625 0 \nL 45.90625 0 \nL 18.109375 26.703125 \nL 18.109375 0 \nL 9.078125 0 \nz\n\" id=\"DejaVuSans-107\"/>\n       <path d=\"M 54.890625 33.015625 \nL 54.890625 0 \nL 45.90625 0 \nL 45.90625 32.71875 \nQ 45.90625 40.484375 42.875 44.328125 \nQ 39.84375 48.1875 33.796875 48.1875 \nQ 26.515625 48.1875 22.3125 43.546875 \nQ 18.109375 38.921875 18.109375 30.90625 \nL 18.109375 0 \nL 9.078125 0 \nL 9.078125 75.984375 \nL 18.109375 75.984375 \nL 18.109375 46.1875 \nQ 21.34375 51.125 25.703125 53.5625 \nQ 30.078125 56 35.796875 56 \nQ 45.21875 56 50.046875 50.171875 \nQ 54.890625 44.34375 54.890625 33.015625 \nz\n\" id=\"DejaVuSans-104\"/>\n       <path d=\"M 45.40625 46.390625 \nL 45.40625 75.984375 \nL 54.390625 75.984375 \nL 54.390625 0 \nL 45.40625 0 \nL 45.40625 8.203125 \nQ 42.578125 3.328125 38.25 0.953125 \nQ 33.9375 -1.421875 27.875 -1.421875 \nQ 17.96875 -1.421875 11.734375 6.484375 \nQ 5.515625 14.40625 5.515625 27.296875 \nQ 5.515625 40.1875 11.734375 48.09375 \nQ 17.96875 56 27.875 56 \nQ 33.9375 56 38.25 53.625 \nQ 42.578125 51.265625 45.40625 46.390625 \nz\nM 14.796875 27.296875 \nQ 14.796875 17.390625 18.875 11.75 \nQ 22.953125 6.109375 30.078125 6.109375 \nQ 37.203125 6.109375 41.296875 11.75 \nQ 45.40625 17.390625 45.40625 27.296875 \nQ 45.40625 37.203125 41.296875 42.84375 \nQ 37.203125 48.484375 30.078125 48.484375 \nQ 22.953125 48.484375 18.875 42.84375 \nQ 14.796875 37.203125 14.796875 27.296875 \nz\n\" id=\"DejaVuSans-100\"/>\n      </defs>\n      <use xlink:href=\"#DejaVuSans-76\"/>\n      <use x=\"53.962891\" xlink:href=\"#DejaVuSans-111\"/>\n      <use x=\"115.144531\" xlink:href=\"#DejaVuSans-103\"/>\n      <use x=\"178.621094\" xlink:href=\"#DejaVuSans-108\"/>\n      <use x=\"206.404297\" xlink:href=\"#DejaVuSans-105\"/>\n      <use x=\"234.1875\" xlink:href=\"#DejaVuSans-107\"/>\n      <use x=\"288.472656\" xlink:href=\"#DejaVuSans-101\"/>\n      <use x=\"349.996094\" xlink:href=\"#DejaVuSans-108\"/>\n      <use x=\"377.779297\" xlink:href=\"#DejaVuSans-105\"/>\n      <use x=\"405.5625\" xlink:href=\"#DejaVuSans-104\"/>\n      <use x=\"468.941406\" xlink:href=\"#DejaVuSans-111\"/>\n      <use x=\"530.123047\" xlink:href=\"#DejaVuSans-111\"/>\n      <use x=\"591.304688\" xlink:href=\"#DejaVuSans-100\"/>\n     </g>\n    </g>\n   </g>\n   <g id=\"LineCollection_1\">\n    <path clip-path=\"url(#p944c37ccce)\" d=\"M 76.925994 41.816915 \nL 76.925994 32.201761 \n\" style=\"fill:none;stroke:#1f77b4;stroke-width:1.5;\"/>\n    <path clip-path=\"url(#p944c37ccce)\" d=\"M 97.216903 52.269198 \nL 97.216903 43.853067 \n\" style=\"fill:none;stroke:#1f77b4;stroke-width:1.5;\"/>\n    <path clip-path=\"url(#p944c37ccce)\" d=\"M 117.507812 61.750735 \nL 117.507812 53.306372 \n\" style=\"fill:none;stroke:#1f77b4;stroke-width:1.5;\"/>\n    <path clip-path=\"url(#p944c37ccce)\" d=\"M 137.798722 74.512008 \nL 137.798722 65.687761 \n\" style=\"fill:none;stroke:#1f77b4;stroke-width:1.5;\"/>\n    <path clip-path=\"url(#p944c37ccce)\" d=\"M 158.089631 83.55865 \nL 158.089631 74.955829 \n\" style=\"fill:none;stroke:#1f77b4;stroke-width:1.5;\"/>\n    <path clip-path=\"url(#p944c37ccce)\" d=\"M 178.38054 86.504587 \nL 178.38054 79.10923 \n\" style=\"fill:none;stroke:#1f77b4;stroke-width:1.5;\"/>\n    <path clip-path=\"url(#p944c37ccce)\" d=\"M 198.671449 85.682819 \nL 198.671449 79.971131 \n\" style=\"fill:none;stroke:#1f77b4;stroke-width:1.5;\"/>\n    <path clip-path=\"url(#p944c37ccce)\" d=\"M 218.962358 88.615954 \nL 218.962358 81.650026 \n\" style=\"fill:none;stroke:#1f77b4;stroke-width:1.5;\"/>\n    <path clip-path=\"url(#p944c37ccce)\" d=\"M 239.253267 89.491279 \nL 239.253267 82.11336 \n\" style=\"fill:none;stroke:#1f77b4;stroke-width:1.5;\"/>\n    <path clip-path=\"url(#p944c37ccce)\" d=\"M 259.544176 85.543874 \nL 259.544176 79.047646 \n\" style=\"fill:none;stroke:#1f77b4;stroke-width:1.5;\"/>\n    <path clip-path=\"url(#p944c37ccce)\" d=\"M 279.835085 87.835842 \nL 279.835085 79.853153 \n\" style=\"fill:none;stroke:#1f77b4;stroke-width:1.5;\"/>\n    <path clip-path=\"url(#p944c37ccce)\" d=\"M 300.125994 79.95577 \nL 300.125994 72.792081 \n\" style=\"fill:none;stroke:#1f77b4;stroke-width:1.5;\"/>\n    <path clip-path=\"url(#p944c37ccce)\" d=\"M 320.416903 81.187176 \nL 320.416903 72.985967 \n\" style=\"fill:none;stroke:#1f77b4;stroke-width:1.5;\"/>\n    <path clip-path=\"url(#p944c37ccce)\" d=\"M 340.707813 81.410817 \nL 340.707813 73.038279 \n\" style=\"fill:none;stroke:#1f77b4;stroke-width:1.5;\"/>\n    <path clip-path=\"url(#p944c37ccce)\" d=\"M 360.998722 75.254408 \nL 360.998722 67.694505 \n\" style=\"fill:none;stroke:#1f77b4;stroke-width:1.5;\"/>\n    <path clip-path=\"url(#p944c37ccce)\" d=\"M 381.289631 74.113925 \nL 381.289631 66.379925 \n\" style=\"fill:none;stroke:#1f77b4;stroke-width:1.5;\"/>\n   </g>\n   <g id=\"LineCollection_2\">\n    <path clip-path=\"url(#p944c37ccce)\" d=\"M 76.925994 229.874489 \nL 76.925994 220.006632 \n\" style=\"fill:none;stroke:#ff7f0e;stroke-width:1.5;\"/>\n    <path clip-path=\"url(#p944c37ccce)\" d=\"M 97.216903 197.366639 \nL 97.216903 187.962947 \n\" style=\"fill:none;stroke:#ff7f0e;stroke-width:1.5;\"/>\n    <path clip-path=\"url(#p944c37ccce)\" d=\"M 117.507812 163.027803 \nL 117.507812 154.662185 \n\" style=\"fill:none;stroke:#ff7f0e;stroke-width:1.5;\"/>\n    <path clip-path=\"url(#p944c37ccce)\" d=\"M 137.798722 130.599805 \nL 137.798722 121.898034 \n\" style=\"fill:none;stroke:#ff7f0e;stroke-width:1.5;\"/>\n    <path clip-path=\"url(#p944c37ccce)\" d=\"M 158.089631 113.799788 \nL 158.089631 105.383518 \n\" style=\"fill:none;stroke:#ff7f0e;stroke-width:1.5;\"/>\n    <path clip-path=\"url(#p944c37ccce)\" d=\"M 178.38054 95.295966 \nL 178.38054 87.761249 \n\" style=\"fill:none;stroke:#ff7f0e;stroke-width:1.5;\"/>\n    <path clip-path=\"url(#p944c37ccce)\" d=\"M 198.671449 90.291112 \nL 198.671449 84.149304 \n\" style=\"fill:none;stroke:#ff7f0e;stroke-width:1.5;\"/>\n    <path clip-path=\"url(#p944c37ccce)\" d=\"M 218.962358 89.41551 \nL 218.962358 82.729824 \n\" style=\"fill:none;stroke:#ff7f0e;stroke-width:1.5;\"/>\n    <path clip-path=\"url(#p944c37ccce)\" d=\"M 239.253267 90.063112 \nL 239.253267 82.529641 \n\" style=\"fill:none;stroke:#ff7f0e;stroke-width:1.5;\"/>\n    <path clip-path=\"url(#p944c37ccce)\" d=\"M 259.544176 85.100953 \nL 259.544176 78.528332 \n\" style=\"fill:none;stroke:#ff7f0e;stroke-width:1.5;\"/>\n    <path clip-path=\"url(#p944c37ccce)\" d=\"M 279.835085 96.058295 \nL 279.835085 88.058445 \n\" style=\"fill:none;stroke:#ff7f0e;stroke-width:1.5;\"/>\n    <path clip-path=\"url(#p944c37ccce)\" d=\"M 300.125994 101.017756 \nL 300.125994 93.108968 \n\" style=\"fill:none;stroke:#ff7f0e;stroke-width:1.5;\"/>\n    <path clip-path=\"url(#p944c37ccce)\" d=\"M 320.416903 119.505455 \nL 320.416903 109.757584 \n\" style=\"fill:none;stroke:#ff7f0e;stroke-width:1.5;\"/>\n    <path clip-path=\"url(#p944c37ccce)\" d=\"M 340.707813 135.632475 \nL 340.707813 125.877131 \n\" style=\"fill:none;stroke:#ff7f0e;stroke-width:1.5;\"/>\n    <path clip-path=\"url(#p944c37ccce)\" d=\"M 360.998722 139.487643 \nL 360.998722 129.583667 \n\" style=\"fill:none;stroke:#ff7f0e;stroke-width:1.5;\"/>\n    <path clip-path=\"url(#p944c37ccce)\" d=\"M 381.289631 148.217023 \nL 381.289631 138.741644 \n\" style=\"fill:none;stroke:#ff7f0e;stroke-width:1.5;\"/>\n   </g>\n   <g id=\"line2d_15\">\n    <defs>\n     <path d=\"M 4 0 \nL -4 -0 \n\" id=\"m637acf307a\" style=\"stroke:#1f77b4;\"/>\n    </defs>\n    <g clip-path=\"url(#p944c37ccce)\">\n     <use style=\"fill:#1f77b4;stroke:#1f77b4;\" x=\"76.925994\" xlink:href=\"#m637acf307a\" y=\"41.816915\"/>\n     <use style=\"fill:#1f77b4;stroke:#1f77b4;\" x=\"97.216903\" xlink:href=\"#m637acf307a\" y=\"52.269198\"/>\n     <use style=\"fill:#1f77b4;stroke:#1f77b4;\" x=\"117.507812\" xlink:href=\"#m637acf307a\" y=\"61.750735\"/>\n     <use style=\"fill:#1f77b4;stroke:#1f77b4;\" x=\"137.798722\" xlink:href=\"#m637acf307a\" y=\"74.512008\"/>\n     <use style=\"fill:#1f77b4;stroke:#1f77b4;\" x=\"158.089631\" xlink:href=\"#m637acf307a\" y=\"83.55865\"/>\n     <use style=\"fill:#1f77b4;stroke:#1f77b4;\" x=\"178.38054\" xlink:href=\"#m637acf307a\" y=\"86.504587\"/>\n     <use style=\"fill:#1f77b4;stroke:#1f77b4;\" x=\"198.671449\" xlink:href=\"#m637acf307a\" y=\"85.682819\"/>\n     <use style=\"fill:#1f77b4;stroke:#1f77b4;\" x=\"218.962358\" xlink:href=\"#m637acf307a\" y=\"88.615954\"/>\n     <use style=\"fill:#1f77b4;stroke:#1f77b4;\" x=\"239.253267\" xlink:href=\"#m637acf307a\" y=\"89.491279\"/>\n     <use style=\"fill:#1f77b4;stroke:#1f77b4;\" x=\"259.544176\" xlink:href=\"#m637acf307a\" y=\"85.543874\"/>\n     <use style=\"fill:#1f77b4;stroke:#1f77b4;\" x=\"279.835085\" xlink:href=\"#m637acf307a\" y=\"87.835842\"/>\n     <use style=\"fill:#1f77b4;stroke:#1f77b4;\" x=\"300.125994\" xlink:href=\"#m637acf307a\" y=\"79.95577\"/>\n     <use style=\"fill:#1f77b4;stroke:#1f77b4;\" x=\"320.416903\" xlink:href=\"#m637acf307a\" y=\"81.187176\"/>\n     <use style=\"fill:#1f77b4;stroke:#1f77b4;\" x=\"340.707813\" xlink:href=\"#m637acf307a\" y=\"81.410817\"/>\n     <use style=\"fill:#1f77b4;stroke:#1f77b4;\" x=\"360.998722\" xlink:href=\"#m637acf307a\" y=\"75.254408\"/>\n     <use style=\"fill:#1f77b4;stroke:#1f77b4;\" x=\"381.289631\" xlink:href=\"#m637acf307a\" y=\"74.113925\"/>\n    </g>\n   </g>\n   <g id=\"line2d_16\">\n    <g clip-path=\"url(#p944c37ccce)\">\n     <use style=\"fill:#1f77b4;stroke:#1f77b4;\" x=\"76.925994\" xlink:href=\"#m637acf307a\" y=\"32.201761\"/>\n     <use style=\"fill:#1f77b4;stroke:#1f77b4;\" x=\"97.216903\" xlink:href=\"#m637acf307a\" y=\"43.853067\"/>\n     <use style=\"fill:#1f77b4;stroke:#1f77b4;\" x=\"117.507812\" xlink:href=\"#m637acf307a\" y=\"53.306372\"/>\n     <use style=\"fill:#1f77b4;stroke:#1f77b4;\" x=\"137.798722\" xlink:href=\"#m637acf307a\" y=\"65.687761\"/>\n     <use style=\"fill:#1f77b4;stroke:#1f77b4;\" x=\"158.089631\" xlink:href=\"#m637acf307a\" y=\"74.955829\"/>\n     <use style=\"fill:#1f77b4;stroke:#1f77b4;\" x=\"178.38054\" xlink:href=\"#m637acf307a\" y=\"79.10923\"/>\n     <use style=\"fill:#1f77b4;stroke:#1f77b4;\" x=\"198.671449\" xlink:href=\"#m637acf307a\" y=\"79.971131\"/>\n     <use style=\"fill:#1f77b4;stroke:#1f77b4;\" x=\"218.962358\" xlink:href=\"#m637acf307a\" y=\"81.650026\"/>\n     <use style=\"fill:#1f77b4;stroke:#1f77b4;\" x=\"239.253267\" xlink:href=\"#m637acf307a\" y=\"82.11336\"/>\n     <use style=\"fill:#1f77b4;stroke:#1f77b4;\" x=\"259.544176\" xlink:href=\"#m637acf307a\" y=\"79.047646\"/>\n     <use style=\"fill:#1f77b4;stroke:#1f77b4;\" x=\"279.835085\" xlink:href=\"#m637acf307a\" y=\"79.853153\"/>\n     <use style=\"fill:#1f77b4;stroke:#1f77b4;\" x=\"300.125994\" xlink:href=\"#m637acf307a\" y=\"72.792081\"/>\n     <use style=\"fill:#1f77b4;stroke:#1f77b4;\" x=\"320.416903\" xlink:href=\"#m637acf307a\" y=\"72.985967\"/>\n     <use style=\"fill:#1f77b4;stroke:#1f77b4;\" x=\"340.707813\" xlink:href=\"#m637acf307a\" y=\"73.038279\"/>\n     <use style=\"fill:#1f77b4;stroke:#1f77b4;\" x=\"360.998722\" xlink:href=\"#m637acf307a\" y=\"67.694505\"/>\n     <use style=\"fill:#1f77b4;stroke:#1f77b4;\" x=\"381.289631\" xlink:href=\"#m637acf307a\" y=\"66.379925\"/>\n    </g>\n   </g>\n   <g id=\"line2d_17\">\n    <defs>\n     <path d=\"M 4 0 \nL -4 -0 \n\" id=\"m595e6c0915\" style=\"stroke:#ff7f0e;\"/>\n    </defs>\n    <g clip-path=\"url(#p944c37ccce)\">\n     <use style=\"fill:#ff7f0e;stroke:#ff7f0e;\" x=\"76.925994\" xlink:href=\"#m595e6c0915\" y=\"229.874489\"/>\n     <use style=\"fill:#ff7f0e;stroke:#ff7f0e;\" x=\"97.216903\" xlink:href=\"#m595e6c0915\" y=\"197.366639\"/>\n     <use style=\"fill:#ff7f0e;stroke:#ff7f0e;\" x=\"117.507812\" xlink:href=\"#m595e6c0915\" y=\"163.027803\"/>\n     <use style=\"fill:#ff7f0e;stroke:#ff7f0e;\" x=\"137.798722\" xlink:href=\"#m595e6c0915\" y=\"130.599805\"/>\n     <use style=\"fill:#ff7f0e;stroke:#ff7f0e;\" x=\"158.089631\" xlink:href=\"#m595e6c0915\" y=\"113.799788\"/>\n     <use style=\"fill:#ff7f0e;stroke:#ff7f0e;\" x=\"178.38054\" xlink:href=\"#m595e6c0915\" y=\"95.295966\"/>\n     <use style=\"fill:#ff7f0e;stroke:#ff7f0e;\" x=\"198.671449\" xlink:href=\"#m595e6c0915\" y=\"90.291112\"/>\n     <use style=\"fill:#ff7f0e;stroke:#ff7f0e;\" x=\"218.962358\" xlink:href=\"#m595e6c0915\" y=\"89.41551\"/>\n     <use style=\"fill:#ff7f0e;stroke:#ff7f0e;\" x=\"239.253267\" xlink:href=\"#m595e6c0915\" y=\"90.063112\"/>\n     <use style=\"fill:#ff7f0e;stroke:#ff7f0e;\" x=\"259.544176\" xlink:href=\"#m595e6c0915\" y=\"85.100953\"/>\n     <use style=\"fill:#ff7f0e;stroke:#ff7f0e;\" x=\"279.835085\" xlink:href=\"#m595e6c0915\" y=\"96.058295\"/>\n     <use style=\"fill:#ff7f0e;stroke:#ff7f0e;\" x=\"300.125994\" xlink:href=\"#m595e6c0915\" y=\"101.017756\"/>\n     <use style=\"fill:#ff7f0e;stroke:#ff7f0e;\" x=\"320.416903\" xlink:href=\"#m595e6c0915\" y=\"119.505455\"/>\n     <use style=\"fill:#ff7f0e;stroke:#ff7f0e;\" x=\"340.707813\" xlink:href=\"#m595e6c0915\" y=\"135.632475\"/>\n     <use style=\"fill:#ff7f0e;stroke:#ff7f0e;\" x=\"360.998722\" xlink:href=\"#m595e6c0915\" y=\"139.487643\"/>\n     <use style=\"fill:#ff7f0e;stroke:#ff7f0e;\" x=\"381.289631\" xlink:href=\"#m595e6c0915\" y=\"148.217023\"/>\n    </g>\n   </g>\n   <g id=\"line2d_18\">\n    <g clip-path=\"url(#p944c37ccce)\">\n     <use style=\"fill:#ff7f0e;stroke:#ff7f0e;\" x=\"76.925994\" xlink:href=\"#m595e6c0915\" y=\"220.006632\"/>\n     <use style=\"fill:#ff7f0e;stroke:#ff7f0e;\" x=\"97.216903\" xlink:href=\"#m595e6c0915\" y=\"187.962947\"/>\n     <use style=\"fill:#ff7f0e;stroke:#ff7f0e;\" x=\"117.507812\" xlink:href=\"#m595e6c0915\" y=\"154.662185\"/>\n     <use style=\"fill:#ff7f0e;stroke:#ff7f0e;\" x=\"137.798722\" xlink:href=\"#m595e6c0915\" y=\"121.898034\"/>\n     <use style=\"fill:#ff7f0e;stroke:#ff7f0e;\" x=\"158.089631\" xlink:href=\"#m595e6c0915\" y=\"105.383518\"/>\n     <use style=\"fill:#ff7f0e;stroke:#ff7f0e;\" x=\"178.38054\" xlink:href=\"#m595e6c0915\" y=\"87.761249\"/>\n     <use style=\"fill:#ff7f0e;stroke:#ff7f0e;\" x=\"198.671449\" xlink:href=\"#m595e6c0915\" y=\"84.149304\"/>\n     <use style=\"fill:#ff7f0e;stroke:#ff7f0e;\" x=\"218.962358\" xlink:href=\"#m595e6c0915\" y=\"82.729824\"/>\n     <use style=\"fill:#ff7f0e;stroke:#ff7f0e;\" x=\"239.253267\" xlink:href=\"#m595e6c0915\" y=\"82.529641\"/>\n     <use style=\"fill:#ff7f0e;stroke:#ff7f0e;\" x=\"259.544176\" xlink:href=\"#m595e6c0915\" y=\"78.528332\"/>\n     <use style=\"fill:#ff7f0e;stroke:#ff7f0e;\" x=\"279.835085\" xlink:href=\"#m595e6c0915\" y=\"88.058445\"/>\n     <use style=\"fill:#ff7f0e;stroke:#ff7f0e;\" x=\"300.125994\" xlink:href=\"#m595e6c0915\" y=\"93.108968\"/>\n     <use style=\"fill:#ff7f0e;stroke:#ff7f0e;\" x=\"320.416903\" xlink:href=\"#m595e6c0915\" y=\"109.757584\"/>\n     <use style=\"fill:#ff7f0e;stroke:#ff7f0e;\" x=\"340.707813\" xlink:href=\"#m595e6c0915\" y=\"125.877131\"/>\n     <use style=\"fill:#ff7f0e;stroke:#ff7f0e;\" x=\"360.998722\" xlink:href=\"#m595e6c0915\" y=\"129.583667\"/>\n     <use style=\"fill:#ff7f0e;stroke:#ff7f0e;\" x=\"381.289631\" xlink:href=\"#m595e6c0915\" y=\"138.741644\"/>\n    </g>\n   </g>\n   <g id=\"line2d_19\">\n    <defs>\n     <path d=\"M 0 1.5 \nC 0.397805 1.5 0.77937 1.341951 1.06066 1.06066 \nC 1.341951 0.77937 1.5 0.397805 1.5 0 \nC 1.5 -0.397805 1.341951 -0.77937 1.06066 -1.06066 \nC 0.77937 -1.341951 0.397805 -1.5 0 -1.5 \nC -0.397805 -1.5 -0.77937 -1.341951 -1.06066 -1.06066 \nC -1.341951 -0.77937 -1.5 -0.397805 -1.5 0 \nC -1.5 0.397805 -1.341951 0.77937 -1.06066 1.06066 \nC -0.77937 1.341951 -0.397805 1.5 0 1.5 \nz\n\" id=\"mb4f5b362c7\" style=\"stroke:#1f77b4;\"/>\n    </defs>\n    <g clip-path=\"url(#p944c37ccce)\">\n     <use style=\"fill:#1f77b4;stroke:#1f77b4;\" x=\"76.925994\" xlink:href=\"#mb4f5b362c7\" y=\"37.009338\"/>\n     <use style=\"fill:#1f77b4;stroke:#1f77b4;\" x=\"97.216903\" xlink:href=\"#mb4f5b362c7\" y=\"48.061132\"/>\n     <use style=\"fill:#1f77b4;stroke:#1f77b4;\" x=\"117.507812\" xlink:href=\"#mb4f5b362c7\" y=\"57.528553\"/>\n     <use style=\"fill:#1f77b4;stroke:#1f77b4;\" x=\"137.798722\" xlink:href=\"#mb4f5b362c7\" y=\"70.099885\"/>\n     <use style=\"fill:#1f77b4;stroke:#1f77b4;\" x=\"158.089631\" xlink:href=\"#mb4f5b362c7\" y=\"79.25724\"/>\n     <use style=\"fill:#1f77b4;stroke:#1f77b4;\" x=\"178.38054\" xlink:href=\"#mb4f5b362c7\" y=\"82.806908\"/>\n     <use style=\"fill:#1f77b4;stroke:#1f77b4;\" x=\"198.671449\" xlink:href=\"#mb4f5b362c7\" y=\"82.826975\"/>\n     <use style=\"fill:#1f77b4;stroke:#1f77b4;\" x=\"218.962358\" xlink:href=\"#mb4f5b362c7\" y=\"85.13299\"/>\n     <use style=\"fill:#1f77b4;stroke:#1f77b4;\" x=\"239.253267\" xlink:href=\"#mb4f5b362c7\" y=\"85.80232\"/>\n     <use style=\"fill:#1f77b4;stroke:#1f77b4;\" x=\"259.544176\" xlink:href=\"#mb4f5b362c7\" y=\"82.29576\"/>\n     <use style=\"fill:#1f77b4;stroke:#1f77b4;\" x=\"279.835085\" xlink:href=\"#mb4f5b362c7\" y=\"83.844498\"/>\n     <use style=\"fill:#1f77b4;stroke:#1f77b4;\" x=\"300.125994\" xlink:href=\"#mb4f5b362c7\" y=\"76.373925\"/>\n     <use style=\"fill:#1f77b4;stroke:#1f77b4;\" x=\"320.416903\" xlink:href=\"#mb4f5b362c7\" y=\"77.086571\"/>\n     <use style=\"fill:#1f77b4;stroke:#1f77b4;\" x=\"340.707813\" xlink:href=\"#mb4f5b362c7\" y=\"77.224548\"/>\n     <use style=\"fill:#1f77b4;stroke:#1f77b4;\" x=\"360.998722\" xlink:href=\"#mb4f5b362c7\" y=\"71.474457\"/>\n     <use style=\"fill:#1f77b4;stroke:#1f77b4;\" x=\"381.289631\" xlink:href=\"#mb4f5b362c7\" y=\"70.246925\"/>\n    </g>\n   </g>\n   <g id=\"line2d_20\">\n    <defs>\n     <path d=\"M 0 1.5 \nC 0.397805 1.5 0.77937 1.341951 1.06066 1.06066 \nC 1.341951 0.77937 1.5 0.397805 1.5 0 \nC 1.5 -0.397805 1.341951 -0.77937 1.06066 -1.06066 \nC 0.77937 -1.341951 0.397805 -1.5 0 -1.5 \nC -0.397805 -1.5 -0.77937 -1.341951 -1.06066 -1.06066 \nC -1.341951 -0.77937 -1.5 -0.397805 -1.5 0 \nC -1.5 0.397805 -1.341951 0.77937 -1.06066 1.06066 \nC -0.77937 1.341951 -0.397805 1.5 0 1.5 \nz\n\" id=\"m03cbbfdfbb\" style=\"stroke:#ff7f0e;\"/>\n    </defs>\n    <g clip-path=\"url(#p944c37ccce)\">\n     <use style=\"fill:#ff7f0e;stroke:#ff7f0e;\" x=\"76.925994\" xlink:href=\"#m03cbbfdfbb\" y=\"224.94056\"/>\n     <use style=\"fill:#ff7f0e;stroke:#ff7f0e;\" x=\"97.216903\" xlink:href=\"#m03cbbfdfbb\" y=\"192.664793\"/>\n     <use style=\"fill:#ff7f0e;stroke:#ff7f0e;\" x=\"117.507812\" xlink:href=\"#m03cbbfdfbb\" y=\"158.844994\"/>\n     <use style=\"fill:#ff7f0e;stroke:#ff7f0e;\" x=\"137.798722\" xlink:href=\"#m03cbbfdfbb\" y=\"126.24892\"/>\n     <use style=\"fill:#ff7f0e;stroke:#ff7f0e;\" x=\"158.089631\" xlink:href=\"#m03cbbfdfbb\" y=\"109.591653\"/>\n     <use style=\"fill:#ff7f0e;stroke:#ff7f0e;\" x=\"178.38054\" xlink:href=\"#m03cbbfdfbb\" y=\"91.528608\"/>\n     <use style=\"fill:#ff7f0e;stroke:#ff7f0e;\" x=\"198.671449\" xlink:href=\"#m03cbbfdfbb\" y=\"87.220208\"/>\n     <use style=\"fill:#ff7f0e;stroke:#ff7f0e;\" x=\"218.962358\" xlink:href=\"#m03cbbfdfbb\" y=\"86.072667\"/>\n     <use style=\"fill:#ff7f0e;stroke:#ff7f0e;\" x=\"239.253267\" xlink:href=\"#m03cbbfdfbb\" y=\"86.296377\"/>\n     <use style=\"fill:#ff7f0e;stroke:#ff7f0e;\" x=\"259.544176\" xlink:href=\"#m03cbbfdfbb\" y=\"81.814643\"/>\n     <use style=\"fill:#ff7f0e;stroke:#ff7f0e;\" x=\"279.835085\" xlink:href=\"#m03cbbfdfbb\" y=\"92.05837\"/>\n     <use style=\"fill:#ff7f0e;stroke:#ff7f0e;\" x=\"300.125994\" xlink:href=\"#m03cbbfdfbb\" y=\"97.063362\"/>\n     <use style=\"fill:#ff7f0e;stroke:#ff7f0e;\" x=\"320.416903\" xlink:href=\"#m03cbbfdfbb\" y=\"114.63152\"/>\n     <use style=\"fill:#ff7f0e;stroke:#ff7f0e;\" x=\"340.707813\" xlink:href=\"#m03cbbfdfbb\" y=\"130.754803\"/>\n     <use style=\"fill:#ff7f0e;stroke:#ff7f0e;\" x=\"360.998722\" xlink:href=\"#m03cbbfdfbb\" y=\"134.535655\"/>\n     <use style=\"fill:#ff7f0e;stroke:#ff7f0e;\" x=\"381.289631\" xlink:href=\"#m03cbbfdfbb\" y=\"143.479334\"/>\n    </g>\n   </g>\n   <g id=\"patch_3\">\n    <path d=\"M 61.707813 239.758125 \nL 61.707813 22.318125 \n\" style=\"fill:none;stroke:#000000;stroke-linecap:square;stroke-linejoin:miter;stroke-width:0.8;\"/>\n   </g>\n   <g id=\"patch_4\">\n    <path d=\"M 396.507812 239.758125 \nL 396.507812 22.318125 \n\" style=\"fill:none;stroke:#000000;stroke-linecap:square;stroke-linejoin:miter;stroke-width:0.8;\"/>\n   </g>\n   <g id=\"patch_5\">\n    <path d=\"M 61.707813 239.758125 \nL 396.507812 239.758125 \n\" style=\"fill:none;stroke:#000000;stroke-linecap:square;stroke-linejoin:miter;stroke-width:0.8;\"/>\n   </g>\n   <g id=\"patch_6\">\n    <path d=\"M 61.707813 22.318125 \nL 396.507812 22.318125 \n\" style=\"fill:none;stroke:#000000;stroke-linecap:square;stroke-linejoin:miter;stroke-width:0.8;\"/>\n   </g>\n   <g id=\"text_17\">\n    <!-- MLP Classifier for SM data -->\n    <g transform=\"translate(151.2025 16.318125)scale(0.12 -0.12)\">\n     <defs>\n      <path d=\"M 9.8125 72.90625 \nL 24.515625 72.90625 \nL 43.109375 23.296875 \nL 61.8125 72.90625 \nL 76.515625 72.90625 \nL 76.515625 0 \nL 66.890625 0 \nL 66.890625 64.015625 \nL 48.09375 14.015625 \nL 38.1875 14.015625 \nL 19.390625 64.015625 \nL 19.390625 0 \nL 9.8125 0 \nz\n\" id=\"DejaVuSans-77\"/>\n      <path d=\"M 19.671875 64.796875 \nL 19.671875 37.40625 \nL 32.078125 37.40625 \nQ 38.96875 37.40625 42.71875 40.96875 \nQ 46.484375 44.53125 46.484375 51.125 \nQ 46.484375 57.671875 42.71875 61.234375 \nQ 38.96875 64.796875 32.078125 64.796875 \nz\nM 9.8125 72.90625 \nL 32.078125 72.90625 \nQ 44.34375 72.90625 50.609375 67.359375 \nQ 56.890625 61.8125 56.890625 51.125 \nQ 56.890625 40.328125 50.609375 34.8125 \nQ 44.34375 29.296875 32.078125 29.296875 \nL 19.671875 29.296875 \nL 19.671875 0 \nL 9.8125 0 \nz\n\" id=\"DejaVuSans-80\"/>\n      <path d=\"M 34.28125 27.484375 \nQ 23.390625 27.484375 19.1875 25 \nQ 14.984375 22.515625 14.984375 16.5 \nQ 14.984375 11.71875 18.140625 8.90625 \nQ 21.296875 6.109375 26.703125 6.109375 \nQ 34.1875 6.109375 38.703125 11.40625 \nQ 43.21875 16.703125 43.21875 25.484375 \nL 43.21875 27.484375 \nz\nM 52.203125 31.203125 \nL 52.203125 0 \nL 43.21875 0 \nL 43.21875 8.296875 \nQ 40.140625 3.328125 35.546875 0.953125 \nQ 30.953125 -1.421875 24.3125 -1.421875 \nQ 15.921875 -1.421875 10.953125 3.296875 \nQ 6 8.015625 6 15.921875 \nQ 6 25.140625 12.171875 29.828125 \nQ 18.359375 34.515625 30.609375 34.515625 \nL 43.21875 34.515625 \nL 43.21875 35.40625 \nQ 43.21875 41.609375 39.140625 45 \nQ 35.0625 48.390625 27.6875 48.390625 \nQ 23 48.390625 18.546875 47.265625 \nQ 14.109375 46.140625 10.015625 43.890625 \nL 10.015625 52.203125 \nQ 14.9375 54.109375 19.578125 55.046875 \nQ 24.21875 56 28.609375 56 \nQ 40.484375 56 46.34375 49.84375 \nQ 52.203125 43.703125 52.203125 31.203125 \nz\n\" id=\"DejaVuSans-97\"/>\n      <path d=\"M 44.28125 53.078125 \nL 44.28125 44.578125 \nQ 40.484375 46.53125 36.375 47.5 \nQ 32.28125 48.484375 27.875 48.484375 \nQ 21.1875 48.484375 17.84375 46.4375 \nQ 14.5 44.390625 14.5 40.28125 \nQ 14.5 37.15625 16.890625 35.375 \nQ 19.28125 33.59375 26.515625 31.984375 \nL 29.59375 31.296875 \nQ 39.15625 29.25 43.1875 25.515625 \nQ 47.21875 21.78125 47.21875 15.09375 \nQ 47.21875 7.46875 41.1875 3.015625 \nQ 35.15625 -1.421875 24.609375 -1.421875 \nQ 20.21875 -1.421875 15.453125 -0.5625 \nQ 10.6875 0.296875 5.421875 2 \nL 5.421875 11.28125 \nQ 10.40625 8.6875 15.234375 7.390625 \nQ 20.0625 6.109375 24.8125 6.109375 \nQ 31.15625 6.109375 34.5625 8.28125 \nQ 37.984375 10.453125 37.984375 14.40625 \nQ 37.984375 18.0625 35.515625 20.015625 \nQ 33.0625 21.96875 24.703125 23.78125 \nL 21.578125 24.515625 \nQ 13.234375 26.265625 9.515625 29.90625 \nQ 5.8125 33.546875 5.8125 39.890625 \nQ 5.8125 47.609375 11.28125 51.796875 \nQ 16.75 56 26.8125 56 \nQ 31.78125 56 36.171875 55.265625 \nQ 40.578125 54.546875 44.28125 53.078125 \nz\n\" id=\"DejaVuSans-115\"/>\n      <path d=\"M 41.109375 46.296875 \nQ 39.59375 47.171875 37.8125 47.578125 \nQ 36.03125 48 33.890625 48 \nQ 26.265625 48 22.1875 43.046875 \nQ 18.109375 38.09375 18.109375 28.8125 \nL 18.109375 0 \nL 9.078125 0 \nL 9.078125 54.6875 \nL 18.109375 54.6875 \nL 18.109375 46.1875 \nQ 20.953125 51.171875 25.484375 53.578125 \nQ 30.03125 56 36.53125 56 \nQ 37.453125 56 38.578125 55.875 \nQ 39.703125 55.765625 41.0625 55.515625 \nz\n\" id=\"DejaVuSans-114\"/>\n      <path d=\"M 53.515625 70.515625 \nL 53.515625 60.890625 \nQ 47.90625 63.578125 42.921875 64.890625 \nQ 37.9375 66.21875 33.296875 66.21875 \nQ 25.25 66.21875 20.875 63.09375 \nQ 16.5 59.96875 16.5 54.203125 \nQ 16.5 49.359375 19.40625 46.890625 \nQ 22.3125 44.4375 30.421875 42.921875 \nL 36.375 41.703125 \nQ 47.40625 39.59375 52.65625 34.296875 \nQ 57.90625 29 57.90625 20.125 \nQ 57.90625 9.515625 50.796875 4.046875 \nQ 43.703125 -1.421875 29.984375 -1.421875 \nQ 24.8125 -1.421875 18.96875 -0.25 \nQ 13.140625 0.921875 6.890625 3.21875 \nL 6.890625 13.375 \nQ 12.890625 10.015625 18.65625 8.296875 \nQ 24.421875 6.59375 29.984375 6.59375 \nQ 38.421875 6.59375 43.015625 9.90625 \nQ 47.609375 13.234375 47.609375 19.390625 \nQ 47.609375 24.75 44.3125 27.78125 \nQ 41.015625 30.8125 33.5 32.328125 \nL 27.484375 33.5 \nQ 16.453125 35.6875 11.515625 40.375 \nQ 6.59375 45.0625 6.59375 53.421875 \nQ 6.59375 63.09375 13.40625 68.65625 \nQ 20.21875 74.21875 32.171875 74.21875 \nQ 37.3125 74.21875 42.625 73.28125 \nQ 47.953125 72.359375 53.515625 70.515625 \nz\n\" id=\"DejaVuSans-83\"/>\n      <path d=\"M 18.3125 70.21875 \nL 18.3125 54.6875 \nL 36.8125 54.6875 \nL 36.8125 47.703125 \nL 18.3125 47.703125 \nL 18.3125 18.015625 \nQ 18.3125 11.328125 20.140625 9.421875 \nQ 21.96875 7.515625 27.59375 7.515625 \nL 36.8125 7.515625 \nL 36.8125 0 \nL 27.59375 0 \nQ 17.1875 0 13.234375 3.875 \nQ 9.28125 7.765625 9.28125 18.015625 \nL 9.28125 47.703125 \nL 2.6875 47.703125 \nL 2.6875 54.6875 \nL 9.28125 54.6875 \nL 9.28125 70.21875 \nz\n\" id=\"DejaVuSans-116\"/>\n     </defs>\n     <use xlink:href=\"#DejaVuSans-77\"/>\n     <use x=\"86.279297\" xlink:href=\"#DejaVuSans-76\"/>\n     <use x=\"141.992188\" xlink:href=\"#DejaVuSans-80\"/>\n     <use x=\"202.294922\" xlink:href=\"#DejaVuSans-32\"/>\n     <use x=\"234.082031\" xlink:href=\"#DejaVuSans-67\"/>\n     <use x=\"303.90625\" xlink:href=\"#DejaVuSans-108\"/>\n     <use x=\"331.689453\" xlink:href=\"#DejaVuSans-97\"/>\n     <use x=\"392.96875\" xlink:href=\"#DejaVuSans-115\"/>\n     <use x=\"445.068359\" xlink:href=\"#DejaVuSans-115\"/>\n     <use x=\"497.167969\" xlink:href=\"#DejaVuSans-105\"/>\n     <use x=\"524.951172\" xlink:href=\"#DejaVuSans-102\"/>\n     <use x=\"560.15625\" xlink:href=\"#DejaVuSans-105\"/>\n     <use x=\"587.939453\" xlink:href=\"#DejaVuSans-101\"/>\n     <use x=\"649.462891\" xlink:href=\"#DejaVuSans-114\"/>\n     <use x=\"690.576172\" xlink:href=\"#DejaVuSans-32\"/>\n     <use x=\"722.363281\" xlink:href=\"#DejaVuSans-102\"/>\n     <use x=\"757.568359\" xlink:href=\"#DejaVuSans-111\"/>\n     <use x=\"818.75\" xlink:href=\"#DejaVuSans-114\"/>\n     <use x=\"859.863281\" xlink:href=\"#DejaVuSans-32\"/>\n     <use x=\"891.650391\" xlink:href=\"#DejaVuSans-83\"/>\n     <use x=\"955.126953\" xlink:href=\"#DejaVuSans-77\"/>\n     <use x=\"1041.40625\" xlink:href=\"#DejaVuSans-32\"/>\n     <use x=\"1073.193359\" xlink:href=\"#DejaVuSans-100\"/>\n     <use x=\"1136.669922\" xlink:href=\"#DejaVuSans-97\"/>\n     <use x=\"1197.949219\" xlink:href=\"#DejaVuSans-116\"/>\n     <use x=\"1237.158203\" xlink:href=\"#DejaVuSans-97\"/>\n    </g>\n   </g>\n   <g id=\"legend_1\">\n    <g id=\"patch_7\">\n     <path d=\"M 342.53125 59.674375 \nL 389.507812 59.674375 \nQ 391.507812 59.674375 391.507812 57.674375 \nL 391.507812 29.318125 \nQ 391.507812 27.318125 389.507812 27.318125 \nL 342.53125 27.318125 \nQ 340.53125 27.318125 340.53125 29.318125 \nL 340.53125 57.674375 \nQ 340.53125 59.674375 342.53125 59.674375 \nz\n\" style=\"fill:#ffffff;opacity:0.8;stroke:#cccccc;stroke-linejoin:miter;\"/>\n    </g>\n    <g id=\"LineCollection_3\">\n     <path d=\"M 354.53125 40.416562 \nL 354.53125 30.416562 \n\" style=\"fill:none;stroke:#1f77b4;stroke-width:1.5;\"/>\n    </g>\n    <g id=\"line2d_21\">\n     <g>\n      <use style=\"fill:#1f77b4;stroke:#1f77b4;\" x=\"354.53125\" xlink:href=\"#m637acf307a\" y=\"40.416562\"/>\n     </g>\n    </g>\n    <g id=\"line2d_22\">\n     <g>\n      <use style=\"fill:#1f77b4;stroke:#1f77b4;\" x=\"354.53125\" xlink:href=\"#m637acf307a\" y=\"30.416562\"/>\n     </g>\n    </g>\n    <g id=\"line2d_23\"/>\n    <g id=\"line2d_24\">\n     <g>\n      <use style=\"fill:#1f77b4;stroke:#1f77b4;\" x=\"354.53125\" xlink:href=\"#mb4f5b362c7\" y=\"35.416562\"/>\n     </g>\n    </g>\n    <g id=\"text_18\">\n     <!-- SM -->\n     <g transform=\"translate(372.53125 38.916562)scale(0.1 -0.1)\">\n      <use xlink:href=\"#DejaVuSans-83\"/>\n      <use x=\"63.476562\" xlink:href=\"#DejaVuSans-77\"/>\n     </g>\n    </g>\n    <g id=\"LineCollection_4\">\n     <path d=\"M 354.53125 55.094687 \nL 354.53125 45.094687 \n\" style=\"fill:none;stroke:#ff7f0e;stroke-width:1.5;\"/>\n    </g>\n    <g id=\"line2d_25\">\n     <g>\n      <use style=\"fill:#ff7f0e;stroke:#ff7f0e;\" x=\"354.53125\" xlink:href=\"#m595e6c0915\" y=\"55.094687\"/>\n     </g>\n    </g>\n    <g id=\"line2d_26\">\n     <g>\n      <use style=\"fill:#ff7f0e;stroke:#ff7f0e;\" x=\"354.53125\" xlink:href=\"#m595e6c0915\" y=\"45.094687\"/>\n     </g>\n    </g>\n    <g id=\"line2d_27\"/>\n    <g id=\"line2d_28\">\n     <g>\n      <use style=\"fill:#ff7f0e;stroke:#ff7f0e;\" x=\"354.53125\" xlink:href=\"#m03cbbfdfbb\" y=\"50.094687\"/>\n     </g>\n    </g>\n    <g id=\"text_19\">\n     <!-- NP -->\n     <g transform=\"translate(372.53125 53.594687)scale(0.1 -0.1)\">\n      <defs>\n       <path d=\"M 9.8125 72.90625 \nL 23.09375 72.90625 \nL 55.421875 11.921875 \nL 55.421875 72.90625 \nL 64.984375 72.90625 \nL 64.984375 0 \nL 51.703125 0 \nL 19.390625 60.984375 \nL 19.390625 0 \nL 9.8125 0 \nz\n\" id=\"DejaVuSans-78\"/>\n      </defs>\n      <use xlink:href=\"#DejaVuSans-78\"/>\n      <use x=\"74.804688\" xlink:href=\"#DejaVuSans-80\"/>\n     </g>\n    </g>\n   </g>\n  </g>\n </g>\n <defs>\n  <clipPath id=\"p944c37ccce\">\n   <rect height=\"217.44\" width=\"334.8\" x=\"61.707813\" y=\"22.318125\"/>\n  </clipPath>\n </defs>\n</svg>\n",
      "text/plain": [
       "<Figure size 432x288 with 1 Axes>"
      ]
     },
     "metadata": {
      "needs_background": "light"
     },
     "output_type": "display_data"
    }
   ],
   "source": [
    "k_inverse_list =[]\n",
    "mean_0_list =[]\n",
    "mean_1_list =[]\n",
    "std_0_list =[]\n",
    "std_1_list =[]\n",
    "for k, ll_dict in log_likelihood_models.items():\n",
    "    k_inverse = le.inverse_transform([k])\n",
    "    if k_inverse == 0:\n",
    "        continue\n",
    "\n",
    "    mean_0 = np.mean(ll_dict[30])\n",
    "    mean_1 = np.mean(ll_dict[k])\n",
    "    std_0 = np.std(ll_dict[30])\n",
    "    std_1 = np.std(ll_dict[k])\n",
    "    # mean_0 = arr[:, 0].mean()\n",
    "    # mean_1 = arr[:, 1].mean()\n",
    "#     std_0 = arr[:, 0].std()\n",
    "#     std_1 = arr[:, 1].std()\n",
    "#     mean_0\n",
    "\n",
    "    k_inverse_list.append(k_inverse)\n",
    "    mean_0_list.append(mean_0)\n",
    "    mean_1_list.append(mean_1)\n",
    "    std_0_list.append(std_0)\n",
    "    std_1_list.append(std_1)\n",
    "\n",
    "plt.errorbar(k_inverse_list, mean_0_list, marker='.', yerr=std_0_list,c='tab:blue',ls='none', capsize=4,label='SM')\n",
    "plt.errorbar(k_inverse_list, mean_1_list, marker='.', yerr=std_1_list,c='tab:orange',ls='none', capsize=4,label='NP')\n",
    "plt.xlabel(\"C9 coef.\")\n",
    "plt.ylabel(\"Loglikelihood\")\n",
    "plt.title('MLP Classifier for SM data')\n",
    "plt.legend()\n",
    "plt.show()"
   ]
  },
  {
   "cell_type": "code",
   "execution_count": null,
   "metadata": {},
   "outputs": [],
   "source": []
  },
  {
   "cell_type": "code",
   "execution_count": 246,
   "metadata": {},
   "outputs": [
    {
     "data": {
      "image/svg+xml": "<?xml version=\"1.0\" encoding=\"utf-8\" standalone=\"no\"?>\n<!DOCTYPE svg PUBLIC \"-//W3C//DTD SVG 1.1//EN\"\n  \"http://www.w3.org/Graphics/SVG/1.1/DTD/svg11.dtd\">\n<!-- Created with matplotlib (https://matplotlib.org/) -->\n<svg height=\"277.314375pt\" version=\"1.1\" viewBox=\"0 0 397.345312 277.314375\" width=\"397.345312pt\" xmlns=\"http://www.w3.org/2000/svg\" xmlns:xlink=\"http://www.w3.org/1999/xlink\">\n <metadata>\n  <rdf:RDF xmlns:cc=\"http://creativecommons.org/ns#\" xmlns:dc=\"http://purl.org/dc/elements/1.1/\" xmlns:rdf=\"http://www.w3.org/1999/02/22-rdf-syntax-ns#\">\n   <cc:Work>\n    <dc:type rdf:resource=\"http://purl.org/dc/dcmitype/StillImage\"/>\n    <dc:date>2022-02-16T13:11:57.859797</dc:date>\n    <dc:format>image/svg+xml</dc:format>\n    <dc:creator>\n     <cc:Agent>\n      <dc:title>Matplotlib v3.3.2, https://matplotlib.org/</dc:title>\n     </cc:Agent>\n    </dc:creator>\n   </cc:Work>\n  </rdf:RDF>\n </metadata>\n <defs>\n  <style type=\"text/css\">*{stroke-linecap:butt;stroke-linejoin:round;}</style>\n </defs>\n <g id=\"figure_1\">\n  <g id=\"patch_1\">\n   <path d=\"M 0 277.314375 \nL 397.345312 277.314375 \nL 397.345312 0 \nL 0 0 \nz\n\" style=\"fill:none;\"/>\n  </g>\n  <g id=\"axes_1\">\n   <g id=\"patch_2\">\n    <path d=\"M 55.345313 239.758125 \nL 390.145312 239.758125 \nL 390.145312 22.318125 \nL 55.345313 22.318125 \nz\n\" style=\"fill:#ffffff;\"/>\n   </g>\n   <g id=\"matplotlib.axis_1\">\n    <g id=\"xtick_1\">\n     <g id=\"line2d_1\">\n      <defs>\n       <path d=\"M 0 0 \nL 0 3.5 \n\" id=\"m25a983aa95\" style=\"stroke:#000000;stroke-width:0.8;\"/>\n      </defs>\n      <g>\n       <use style=\"stroke:#000000;stroke-width:0.8;\" x=\"70.563494\" xlink:href=\"#m25a983aa95\" y=\"239.758125\"/>\n      </g>\n     </g>\n     <g id=\"text_1\">\n      <!-- −1.00 -->\n      <g transform=\"translate(55.240838 254.356562)scale(0.1 -0.1)\">\n       <defs>\n        <path d=\"M 10.59375 35.5 \nL 73.1875 35.5 \nL 73.1875 27.203125 \nL 10.59375 27.203125 \nz\n\" id=\"DejaVuSans-8722\"/>\n        <path d=\"M 12.40625 8.296875 \nL 28.515625 8.296875 \nL 28.515625 63.921875 \nL 10.984375 60.40625 \nL 10.984375 69.390625 \nL 28.421875 72.90625 \nL 38.28125 72.90625 \nL 38.28125 8.296875 \nL 54.390625 8.296875 \nL 54.390625 0 \nL 12.40625 0 \nz\n\" id=\"DejaVuSans-49\"/>\n        <path d=\"M 10.6875 12.40625 \nL 21 12.40625 \nL 21 0 \nL 10.6875 0 \nz\n\" id=\"DejaVuSans-46\"/>\n        <path d=\"M 31.78125 66.40625 \nQ 24.171875 66.40625 20.328125 58.90625 \nQ 16.5 51.421875 16.5 36.375 \nQ 16.5 21.390625 20.328125 13.890625 \nQ 24.171875 6.390625 31.78125 6.390625 \nQ 39.453125 6.390625 43.28125 13.890625 \nQ 47.125 21.390625 47.125 36.375 \nQ 47.125 51.421875 43.28125 58.90625 \nQ 39.453125 66.40625 31.78125 66.40625 \nz\nM 31.78125 74.21875 \nQ 44.046875 74.21875 50.515625 64.515625 \nQ 56.984375 54.828125 56.984375 36.375 \nQ 56.984375 17.96875 50.515625 8.265625 \nQ 44.046875 -1.421875 31.78125 -1.421875 \nQ 19.53125 -1.421875 13.0625 8.265625 \nQ 6.59375 17.96875 6.59375 36.375 \nQ 6.59375 54.828125 13.0625 64.515625 \nQ 19.53125 74.21875 31.78125 74.21875 \nz\n\" id=\"DejaVuSans-48\"/>\n       </defs>\n       <use xlink:href=\"#DejaVuSans-8722\"/>\n       <use x=\"83.789062\" xlink:href=\"#DejaVuSans-49\"/>\n       <use x=\"147.412109\" xlink:href=\"#DejaVuSans-46\"/>\n       <use x=\"179.199219\" xlink:href=\"#DejaVuSans-48\"/>\n       <use x=\"242.822266\" xlink:href=\"#DejaVuSans-48\"/>\n      </g>\n     </g>\n    </g>\n    <g id=\"xtick_2\">\n     <g id=\"line2d_2\">\n      <g>\n       <use style=\"stroke:#000000;stroke-width:0.8;\" x=\"108.608949\" xlink:href=\"#m25a983aa95\" y=\"239.758125\"/>\n      </g>\n     </g>\n     <g id=\"text_2\">\n      <!-- −0.75 -->\n      <g transform=\"translate(93.286293 254.356562)scale(0.1 -0.1)\">\n       <defs>\n        <path d=\"M 8.203125 72.90625 \nL 55.078125 72.90625 \nL 55.078125 68.703125 \nL 28.609375 0 \nL 18.3125 0 \nL 43.21875 64.59375 \nL 8.203125 64.59375 \nz\n\" id=\"DejaVuSans-55\"/>\n        <path d=\"M 10.796875 72.90625 \nL 49.515625 72.90625 \nL 49.515625 64.59375 \nL 19.828125 64.59375 \nL 19.828125 46.734375 \nQ 21.96875 47.46875 24.109375 47.828125 \nQ 26.265625 48.1875 28.421875 48.1875 \nQ 40.625 48.1875 47.75 41.5 \nQ 54.890625 34.8125 54.890625 23.390625 \nQ 54.890625 11.625 47.5625 5.09375 \nQ 40.234375 -1.421875 26.90625 -1.421875 \nQ 22.3125 -1.421875 17.546875 -0.640625 \nQ 12.796875 0.140625 7.71875 1.703125 \nL 7.71875 11.625 \nQ 12.109375 9.234375 16.796875 8.0625 \nQ 21.484375 6.890625 26.703125 6.890625 \nQ 35.15625 6.890625 40.078125 11.328125 \nQ 45.015625 15.765625 45.015625 23.390625 \nQ 45.015625 31 40.078125 35.4375 \nQ 35.15625 39.890625 26.703125 39.890625 \nQ 22.75 39.890625 18.8125 39.015625 \nQ 14.890625 38.140625 10.796875 36.28125 \nz\n\" id=\"DejaVuSans-53\"/>\n       </defs>\n       <use xlink:href=\"#DejaVuSans-8722\"/>\n       <use x=\"83.789062\" xlink:href=\"#DejaVuSans-48\"/>\n       <use x=\"147.412109\" xlink:href=\"#DejaVuSans-46\"/>\n       <use x=\"179.199219\" xlink:href=\"#DejaVuSans-55\"/>\n       <use x=\"242.822266\" xlink:href=\"#DejaVuSans-53\"/>\n      </g>\n     </g>\n    </g>\n    <g id=\"xtick_3\">\n     <g id=\"line2d_3\">\n      <g>\n       <use style=\"stroke:#000000;stroke-width:0.8;\" x=\"146.654403\" xlink:href=\"#m25a983aa95\" y=\"239.758125\"/>\n      </g>\n     </g>\n     <g id=\"text_3\">\n      <!-- −0.50 -->\n      <g transform=\"translate(131.331747 254.356562)scale(0.1 -0.1)\">\n       <use xlink:href=\"#DejaVuSans-8722\"/>\n       <use x=\"83.789062\" xlink:href=\"#DejaVuSans-48\"/>\n       <use x=\"147.412109\" xlink:href=\"#DejaVuSans-46\"/>\n       <use x=\"179.199219\" xlink:href=\"#DejaVuSans-53\"/>\n       <use x=\"242.822266\" xlink:href=\"#DejaVuSans-48\"/>\n      </g>\n     </g>\n    </g>\n    <g id=\"xtick_4\">\n     <g id=\"line2d_4\">\n      <g>\n       <use style=\"stroke:#000000;stroke-width:0.8;\" x=\"184.699858\" xlink:href=\"#m25a983aa95\" y=\"239.758125\"/>\n      </g>\n     </g>\n     <g id=\"text_4\">\n      <!-- −0.25 -->\n      <g transform=\"translate(169.377202 254.356562)scale(0.1 -0.1)\">\n       <defs>\n        <path d=\"M 19.1875 8.296875 \nL 53.609375 8.296875 \nL 53.609375 0 \nL 7.328125 0 \nL 7.328125 8.296875 \nQ 12.9375 14.109375 22.625 23.890625 \nQ 32.328125 33.6875 34.8125 36.53125 \nQ 39.546875 41.84375 41.421875 45.53125 \nQ 43.3125 49.21875 43.3125 52.78125 \nQ 43.3125 58.59375 39.234375 62.25 \nQ 35.15625 65.921875 28.609375 65.921875 \nQ 23.96875 65.921875 18.8125 64.3125 \nQ 13.671875 62.703125 7.8125 59.421875 \nL 7.8125 69.390625 \nQ 13.765625 71.78125 18.9375 73 \nQ 24.125 74.21875 28.421875 74.21875 \nQ 39.75 74.21875 46.484375 68.546875 \nQ 53.21875 62.890625 53.21875 53.421875 \nQ 53.21875 48.921875 51.53125 44.890625 \nQ 49.859375 40.875 45.40625 35.40625 \nQ 44.1875 33.984375 37.640625 27.21875 \nQ 31.109375 20.453125 19.1875 8.296875 \nz\n\" id=\"DejaVuSans-50\"/>\n       </defs>\n       <use xlink:href=\"#DejaVuSans-8722\"/>\n       <use x=\"83.789062\" xlink:href=\"#DejaVuSans-48\"/>\n       <use x=\"147.412109\" xlink:href=\"#DejaVuSans-46\"/>\n       <use x=\"179.199219\" xlink:href=\"#DejaVuSans-50\"/>\n       <use x=\"242.822266\" xlink:href=\"#DejaVuSans-53\"/>\n      </g>\n     </g>\n    </g>\n    <g id=\"xtick_5\">\n     <g id=\"line2d_5\">\n      <g>\n       <use style=\"stroke:#000000;stroke-width:0.8;\" x=\"222.745312\" xlink:href=\"#m25a983aa95\" y=\"239.758125\"/>\n      </g>\n     </g>\n     <g id=\"text_5\">\n      <!-- 0.00 -->\n      <g transform=\"translate(211.6125 254.356562)scale(0.1 -0.1)\">\n       <use xlink:href=\"#DejaVuSans-48\"/>\n       <use x=\"63.623047\" xlink:href=\"#DejaVuSans-46\"/>\n       <use x=\"95.410156\" xlink:href=\"#DejaVuSans-48\"/>\n       <use x=\"159.033203\" xlink:href=\"#DejaVuSans-48\"/>\n      </g>\n     </g>\n    </g>\n    <g id=\"xtick_6\">\n     <g id=\"line2d_6\">\n      <g>\n       <use style=\"stroke:#000000;stroke-width:0.8;\" x=\"260.790767\" xlink:href=\"#m25a983aa95\" y=\"239.758125\"/>\n      </g>\n     </g>\n     <g id=\"text_6\">\n      <!-- 0.25 -->\n      <g transform=\"translate(249.657955 254.356562)scale(0.1 -0.1)\">\n       <use xlink:href=\"#DejaVuSans-48\"/>\n       <use x=\"63.623047\" xlink:href=\"#DejaVuSans-46\"/>\n       <use x=\"95.410156\" xlink:href=\"#DejaVuSans-50\"/>\n       <use x=\"159.033203\" xlink:href=\"#DejaVuSans-53\"/>\n      </g>\n     </g>\n    </g>\n    <g id=\"xtick_7\">\n     <g id=\"line2d_7\">\n      <g>\n       <use style=\"stroke:#000000;stroke-width:0.8;\" x=\"298.836222\" xlink:href=\"#m25a983aa95\" y=\"239.758125\"/>\n      </g>\n     </g>\n     <g id=\"text_7\">\n      <!-- 0.50 -->\n      <g transform=\"translate(287.703409 254.356562)scale(0.1 -0.1)\">\n       <use xlink:href=\"#DejaVuSans-48\"/>\n       <use x=\"63.623047\" xlink:href=\"#DejaVuSans-46\"/>\n       <use x=\"95.410156\" xlink:href=\"#DejaVuSans-53\"/>\n       <use x=\"159.033203\" xlink:href=\"#DejaVuSans-48\"/>\n      </g>\n     </g>\n    </g>\n    <g id=\"xtick_8\">\n     <g id=\"line2d_8\">\n      <g>\n       <use style=\"stroke:#000000;stroke-width:0.8;\" x=\"336.881676\" xlink:href=\"#m25a983aa95\" y=\"239.758125\"/>\n      </g>\n     </g>\n     <g id=\"text_8\">\n      <!-- 0.75 -->\n      <g transform=\"translate(325.748864 254.356562)scale(0.1 -0.1)\">\n       <use xlink:href=\"#DejaVuSans-48\"/>\n       <use x=\"63.623047\" xlink:href=\"#DejaVuSans-46\"/>\n       <use x=\"95.410156\" xlink:href=\"#DejaVuSans-55\"/>\n       <use x=\"159.033203\" xlink:href=\"#DejaVuSans-53\"/>\n      </g>\n     </g>\n    </g>\n    <g id=\"xtick_9\">\n     <g id=\"line2d_9\">\n      <g>\n       <use style=\"stroke:#000000;stroke-width:0.8;\" x=\"374.927131\" xlink:href=\"#m25a983aa95\" y=\"239.758125\"/>\n      </g>\n     </g>\n     <g id=\"text_9\">\n      <!-- 1.00 -->\n      <g transform=\"translate(363.794318 254.356562)scale(0.1 -0.1)\">\n       <use xlink:href=\"#DejaVuSans-49\"/>\n       <use x=\"63.623047\" xlink:href=\"#DejaVuSans-46\"/>\n       <use x=\"95.410156\" xlink:href=\"#DejaVuSans-48\"/>\n       <use x=\"159.033203\" xlink:href=\"#DejaVuSans-48\"/>\n      </g>\n     </g>\n    </g>\n    <g id=\"text_10\">\n     <!-- C9 coef. -->\n     <g transform=\"translate(202.611719 268.034687)scale(0.1 -0.1)\">\n      <defs>\n       <path d=\"M 64.40625 67.28125 \nL 64.40625 56.890625 \nQ 59.421875 61.53125 53.78125 63.8125 \nQ 48.140625 66.109375 41.796875 66.109375 \nQ 29.296875 66.109375 22.65625 58.46875 \nQ 16.015625 50.828125 16.015625 36.375 \nQ 16.015625 21.96875 22.65625 14.328125 \nQ 29.296875 6.6875 41.796875 6.6875 \nQ 48.140625 6.6875 53.78125 8.984375 \nQ 59.421875 11.28125 64.40625 15.921875 \nL 64.40625 5.609375 \nQ 59.234375 2.09375 53.4375 0.328125 \nQ 47.65625 -1.421875 41.21875 -1.421875 \nQ 24.65625 -1.421875 15.125 8.703125 \nQ 5.609375 18.84375 5.609375 36.375 \nQ 5.609375 53.953125 15.125 64.078125 \nQ 24.65625 74.21875 41.21875 74.21875 \nQ 47.75 74.21875 53.53125 72.484375 \nQ 59.328125 70.75 64.40625 67.28125 \nz\n\" id=\"DejaVuSans-67\"/>\n       <path d=\"M 10.984375 1.515625 \nL 10.984375 10.5 \nQ 14.703125 8.734375 18.5 7.8125 \nQ 22.3125 6.890625 25.984375 6.890625 \nQ 35.75 6.890625 40.890625 13.453125 \nQ 46.046875 20.015625 46.78125 33.40625 \nQ 43.953125 29.203125 39.59375 26.953125 \nQ 35.25 24.703125 29.984375 24.703125 \nQ 19.046875 24.703125 12.671875 31.3125 \nQ 6.296875 37.9375 6.296875 49.421875 \nQ 6.296875 60.640625 12.9375 67.421875 \nQ 19.578125 74.21875 30.609375 74.21875 \nQ 43.265625 74.21875 49.921875 64.515625 \nQ 56.59375 54.828125 56.59375 36.375 \nQ 56.59375 19.140625 48.40625 8.859375 \nQ 40.234375 -1.421875 26.421875 -1.421875 \nQ 22.703125 -1.421875 18.890625 -0.6875 \nQ 15.09375 0.046875 10.984375 1.515625 \nz\nM 30.609375 32.421875 \nQ 37.25 32.421875 41.125 36.953125 \nQ 45.015625 41.5 45.015625 49.421875 \nQ 45.015625 57.28125 41.125 61.84375 \nQ 37.25 66.40625 30.609375 66.40625 \nQ 23.96875 66.40625 20.09375 61.84375 \nQ 16.21875 57.28125 16.21875 49.421875 \nQ 16.21875 41.5 20.09375 36.953125 \nQ 23.96875 32.421875 30.609375 32.421875 \nz\n\" id=\"DejaVuSans-57\"/>\n       <path id=\"DejaVuSans-32\"/>\n       <path d=\"M 48.78125 52.59375 \nL 48.78125 44.1875 \nQ 44.96875 46.296875 41.140625 47.34375 \nQ 37.3125 48.390625 33.40625 48.390625 \nQ 24.65625 48.390625 19.8125 42.84375 \nQ 14.984375 37.3125 14.984375 27.296875 \nQ 14.984375 17.28125 19.8125 11.734375 \nQ 24.65625 6.203125 33.40625 6.203125 \nQ 37.3125 6.203125 41.140625 7.25 \nQ 44.96875 8.296875 48.78125 10.40625 \nL 48.78125 2.09375 \nQ 45.015625 0.34375 40.984375 -0.53125 \nQ 36.96875 -1.421875 32.421875 -1.421875 \nQ 20.0625 -1.421875 12.78125 6.34375 \nQ 5.515625 14.109375 5.515625 27.296875 \nQ 5.515625 40.671875 12.859375 48.328125 \nQ 20.21875 56 33.015625 56 \nQ 37.15625 56 41.109375 55.140625 \nQ 45.0625 54.296875 48.78125 52.59375 \nz\n\" id=\"DejaVuSans-99\"/>\n       <path d=\"M 30.609375 48.390625 \nQ 23.390625 48.390625 19.1875 42.75 \nQ 14.984375 37.109375 14.984375 27.296875 \nQ 14.984375 17.484375 19.15625 11.84375 \nQ 23.34375 6.203125 30.609375 6.203125 \nQ 37.796875 6.203125 41.984375 11.859375 \nQ 46.1875 17.53125 46.1875 27.296875 \nQ 46.1875 37.015625 41.984375 42.703125 \nQ 37.796875 48.390625 30.609375 48.390625 \nz\nM 30.609375 56 \nQ 42.328125 56 49.015625 48.375 \nQ 55.71875 40.765625 55.71875 27.296875 \nQ 55.71875 13.875 49.015625 6.21875 \nQ 42.328125 -1.421875 30.609375 -1.421875 \nQ 18.84375 -1.421875 12.171875 6.21875 \nQ 5.515625 13.875 5.515625 27.296875 \nQ 5.515625 40.765625 12.171875 48.375 \nQ 18.84375 56 30.609375 56 \nz\n\" id=\"DejaVuSans-111\"/>\n       <path d=\"M 56.203125 29.59375 \nL 56.203125 25.203125 \nL 14.890625 25.203125 \nQ 15.484375 15.921875 20.484375 11.0625 \nQ 25.484375 6.203125 34.421875 6.203125 \nQ 39.59375 6.203125 44.453125 7.46875 \nQ 49.3125 8.734375 54.109375 11.28125 \nL 54.109375 2.78125 \nQ 49.265625 0.734375 44.1875 -0.34375 \nQ 39.109375 -1.421875 33.890625 -1.421875 \nQ 20.796875 -1.421875 13.15625 6.1875 \nQ 5.515625 13.8125 5.515625 26.8125 \nQ 5.515625 40.234375 12.765625 48.109375 \nQ 20.015625 56 32.328125 56 \nQ 43.359375 56 49.78125 48.890625 \nQ 56.203125 41.796875 56.203125 29.59375 \nz\nM 47.21875 32.234375 \nQ 47.125 39.59375 43.09375 43.984375 \nQ 39.0625 48.390625 32.421875 48.390625 \nQ 24.90625 48.390625 20.390625 44.140625 \nQ 15.875 39.890625 15.1875 32.171875 \nz\n\" id=\"DejaVuSans-101\"/>\n       <path d=\"M 37.109375 75.984375 \nL 37.109375 68.5 \nL 28.515625 68.5 \nQ 23.6875 68.5 21.796875 66.546875 \nQ 19.921875 64.59375 19.921875 59.515625 \nL 19.921875 54.6875 \nL 34.71875 54.6875 \nL 34.71875 47.703125 \nL 19.921875 47.703125 \nL 19.921875 0 \nL 10.890625 0 \nL 10.890625 47.703125 \nL 2.296875 47.703125 \nL 2.296875 54.6875 \nL 10.890625 54.6875 \nL 10.890625 58.5 \nQ 10.890625 67.625 15.140625 71.796875 \nQ 19.390625 75.984375 28.609375 75.984375 \nz\n\" id=\"DejaVuSans-102\"/>\n      </defs>\n      <use xlink:href=\"#DejaVuSans-67\"/>\n      <use x=\"69.824219\" xlink:href=\"#DejaVuSans-57\"/>\n      <use x=\"133.447266\" xlink:href=\"#DejaVuSans-32\"/>\n      <use x=\"165.234375\" xlink:href=\"#DejaVuSans-99\"/>\n      <use x=\"220.214844\" xlink:href=\"#DejaVuSans-111\"/>\n      <use x=\"281.396484\" xlink:href=\"#DejaVuSans-101\"/>\n      <use x=\"342.919922\" xlink:href=\"#DejaVuSans-102\"/>\n      <use x=\"370.875\" xlink:href=\"#DejaVuSans-46\"/>\n     </g>\n    </g>\n   </g>\n   <g id=\"matplotlib.axis_2\">\n    <g id=\"ytick_1\">\n     <g id=\"line2d_10\">\n      <defs>\n       <path d=\"M 0 0 \nL -3.5 0 \n\" id=\"mebcd07fb7a\" style=\"stroke:#000000;stroke-width:0.8;\"/>\n      </defs>\n      <g>\n       <use style=\"stroke:#000000;stroke-width:0.8;\" x=\"55.345313\" xlink:href=\"#mebcd07fb7a\" y=\"237.766219\"/>\n      </g>\n     </g>\n     <g id=\"text_11\">\n      <!-- −850 -->\n      <g transform=\"translate(20.878125 241.565438)scale(0.1 -0.1)\">\n       <defs>\n        <path d=\"M 31.78125 34.625 \nQ 24.75 34.625 20.71875 30.859375 \nQ 16.703125 27.09375 16.703125 20.515625 \nQ 16.703125 13.921875 20.71875 10.15625 \nQ 24.75 6.390625 31.78125 6.390625 \nQ 38.8125 6.390625 42.859375 10.171875 \nQ 46.921875 13.96875 46.921875 20.515625 \nQ 46.921875 27.09375 42.890625 30.859375 \nQ 38.875 34.625 31.78125 34.625 \nz\nM 21.921875 38.8125 \nQ 15.578125 40.375 12.03125 44.71875 \nQ 8.5 49.078125 8.5 55.328125 \nQ 8.5 64.0625 14.71875 69.140625 \nQ 20.953125 74.21875 31.78125 74.21875 \nQ 42.671875 74.21875 48.875 69.140625 \nQ 55.078125 64.0625 55.078125 55.328125 \nQ 55.078125 49.078125 51.53125 44.71875 \nQ 48 40.375 41.703125 38.8125 \nQ 48.828125 37.15625 52.796875 32.3125 \nQ 56.78125 27.484375 56.78125 20.515625 \nQ 56.78125 9.90625 50.3125 4.234375 \nQ 43.84375 -1.421875 31.78125 -1.421875 \nQ 19.734375 -1.421875 13.25 4.234375 \nQ 6.78125 9.90625 6.78125 20.515625 \nQ 6.78125 27.484375 10.78125 32.3125 \nQ 14.796875 37.15625 21.921875 38.8125 \nz\nM 18.3125 54.390625 \nQ 18.3125 48.734375 21.84375 45.5625 \nQ 25.390625 42.390625 31.78125 42.390625 \nQ 38.140625 42.390625 41.71875 45.5625 \nQ 45.3125 48.734375 45.3125 54.390625 \nQ 45.3125 60.0625 41.71875 63.234375 \nQ 38.140625 66.40625 31.78125 66.40625 \nQ 25.390625 66.40625 21.84375 63.234375 \nQ 18.3125 60.0625 18.3125 54.390625 \nz\n\" id=\"DejaVuSans-56\"/>\n       </defs>\n       <use xlink:href=\"#DejaVuSans-8722\"/>\n       <use x=\"83.789062\" xlink:href=\"#DejaVuSans-56\"/>\n       <use x=\"147.412109\" xlink:href=\"#DejaVuSans-53\"/>\n       <use x=\"211.035156\" xlink:href=\"#DejaVuSans-48\"/>\n      </g>\n     </g>\n    </g>\n    <g id=\"ytick_2\">\n     <g id=\"line2d_11\">\n      <g>\n       <use style=\"stroke:#000000;stroke-width:0.8;\" x=\"55.345313\" xlink:href=\"#mebcd07fb7a\" y=\"201.125592\"/>\n      </g>\n     </g>\n     <g id=\"text_12\">\n      <!-- −800 -->\n      <g transform=\"translate(20.878125 204.924811)scale(0.1 -0.1)\">\n       <use xlink:href=\"#DejaVuSans-8722\"/>\n       <use x=\"83.789062\" xlink:href=\"#DejaVuSans-56\"/>\n       <use x=\"147.412109\" xlink:href=\"#DejaVuSans-48\"/>\n       <use x=\"211.035156\" xlink:href=\"#DejaVuSans-48\"/>\n      </g>\n     </g>\n    </g>\n    <g id=\"ytick_3\">\n     <g id=\"line2d_12\">\n      <g>\n       <use style=\"stroke:#000000;stroke-width:0.8;\" x=\"55.345313\" xlink:href=\"#mebcd07fb7a\" y=\"164.484966\"/>\n      </g>\n     </g>\n     <g id=\"text_13\">\n      <!-- −750 -->\n      <g transform=\"translate(20.878125 168.284185)scale(0.1 -0.1)\">\n       <use xlink:href=\"#DejaVuSans-8722\"/>\n       <use x=\"83.789062\" xlink:href=\"#DejaVuSans-55\"/>\n       <use x=\"147.412109\" xlink:href=\"#DejaVuSans-53\"/>\n       <use x=\"211.035156\" xlink:href=\"#DejaVuSans-48\"/>\n      </g>\n     </g>\n    </g>\n    <g id=\"ytick_4\">\n     <g id=\"line2d_13\">\n      <g>\n       <use style=\"stroke:#000000;stroke-width:0.8;\" x=\"55.345313\" xlink:href=\"#mebcd07fb7a\" y=\"127.844339\"/>\n      </g>\n     </g>\n     <g id=\"text_14\">\n      <!-- −700 -->\n      <g transform=\"translate(20.878125 131.643558)scale(0.1 -0.1)\">\n       <use xlink:href=\"#DejaVuSans-8722\"/>\n       <use x=\"83.789062\" xlink:href=\"#DejaVuSans-55\"/>\n       <use x=\"147.412109\" xlink:href=\"#DejaVuSans-48\"/>\n       <use x=\"211.035156\" xlink:href=\"#DejaVuSans-48\"/>\n      </g>\n     </g>\n    </g>\n    <g id=\"ytick_5\">\n     <g id=\"line2d_14\">\n      <g>\n       <use style=\"stroke:#000000;stroke-width:0.8;\" x=\"55.345313\" xlink:href=\"#mebcd07fb7a\" y=\"91.203713\"/>\n      </g>\n     </g>\n     <g id=\"text_15\">\n      <!-- −650 -->\n      <g transform=\"translate(20.878125 95.002931)scale(0.1 -0.1)\">\n       <defs>\n        <path d=\"M 33.015625 40.375 \nQ 26.375 40.375 22.484375 35.828125 \nQ 18.609375 31.296875 18.609375 23.390625 \nQ 18.609375 15.53125 22.484375 10.953125 \nQ 26.375 6.390625 33.015625 6.390625 \nQ 39.65625 6.390625 43.53125 10.953125 \nQ 47.40625 15.53125 47.40625 23.390625 \nQ 47.40625 31.296875 43.53125 35.828125 \nQ 39.65625 40.375 33.015625 40.375 \nz\nM 52.59375 71.296875 \nL 52.59375 62.3125 \nQ 48.875 64.0625 45.09375 64.984375 \nQ 41.3125 65.921875 37.59375 65.921875 \nQ 27.828125 65.921875 22.671875 59.328125 \nQ 17.53125 52.734375 16.796875 39.40625 \nQ 19.671875 43.65625 24.015625 45.921875 \nQ 28.375 48.1875 33.59375 48.1875 \nQ 44.578125 48.1875 50.953125 41.515625 \nQ 57.328125 34.859375 57.328125 23.390625 \nQ 57.328125 12.15625 50.6875 5.359375 \nQ 44.046875 -1.421875 33.015625 -1.421875 \nQ 20.359375 -1.421875 13.671875 8.265625 \nQ 6.984375 17.96875 6.984375 36.375 \nQ 6.984375 53.65625 15.1875 63.9375 \nQ 23.390625 74.21875 37.203125 74.21875 \nQ 40.921875 74.21875 44.703125 73.484375 \nQ 48.484375 72.75 52.59375 71.296875 \nz\n\" id=\"DejaVuSans-54\"/>\n       </defs>\n       <use xlink:href=\"#DejaVuSans-8722\"/>\n       <use x=\"83.789062\" xlink:href=\"#DejaVuSans-54\"/>\n       <use x=\"147.412109\" xlink:href=\"#DejaVuSans-53\"/>\n       <use x=\"211.035156\" xlink:href=\"#DejaVuSans-48\"/>\n      </g>\n     </g>\n    </g>\n    <g id=\"ytick_6\">\n     <g id=\"line2d_15\">\n      <g>\n       <use style=\"stroke:#000000;stroke-width:0.8;\" x=\"55.345313\" xlink:href=\"#mebcd07fb7a\" y=\"54.563086\"/>\n      </g>\n     </g>\n     <g id=\"text_16\">\n      <!-- −600 -->\n      <g transform=\"translate(20.878125 58.362305)scale(0.1 -0.1)\">\n       <use xlink:href=\"#DejaVuSans-8722\"/>\n       <use x=\"83.789062\" xlink:href=\"#DejaVuSans-54\"/>\n       <use x=\"147.412109\" xlink:href=\"#DejaVuSans-48\"/>\n       <use x=\"211.035156\" xlink:href=\"#DejaVuSans-48\"/>\n      </g>\n     </g>\n    </g>\n    <g id=\"text_17\">\n     <!-- Loglikelihood -->\n     <g transform=\"translate(14.798438 163.77875)rotate(-90)scale(0.1 -0.1)\">\n      <defs>\n       <path d=\"M 9.8125 72.90625 \nL 19.671875 72.90625 \nL 19.671875 8.296875 \nL 55.171875 8.296875 \nL 55.171875 0 \nL 9.8125 0 \nz\n\" id=\"DejaVuSans-76\"/>\n       <path d=\"M 45.40625 27.984375 \nQ 45.40625 37.75 41.375 43.109375 \nQ 37.359375 48.484375 30.078125 48.484375 \nQ 22.859375 48.484375 18.828125 43.109375 \nQ 14.796875 37.75 14.796875 27.984375 \nQ 14.796875 18.265625 18.828125 12.890625 \nQ 22.859375 7.515625 30.078125 7.515625 \nQ 37.359375 7.515625 41.375 12.890625 \nQ 45.40625 18.265625 45.40625 27.984375 \nz\nM 54.390625 6.78125 \nQ 54.390625 -7.171875 48.1875 -13.984375 \nQ 42 -20.796875 29.203125 -20.796875 \nQ 24.46875 -20.796875 20.265625 -20.09375 \nQ 16.0625 -19.390625 12.109375 -17.921875 \nL 12.109375 -9.1875 \nQ 16.0625 -11.328125 19.921875 -12.34375 \nQ 23.78125 -13.375 27.78125 -13.375 \nQ 36.625 -13.375 41.015625 -8.765625 \nQ 45.40625 -4.15625 45.40625 5.171875 \nL 45.40625 9.625 \nQ 42.625 4.78125 38.28125 2.390625 \nQ 33.9375 0 27.875 0 \nQ 17.828125 0 11.671875 7.65625 \nQ 5.515625 15.328125 5.515625 27.984375 \nQ 5.515625 40.671875 11.671875 48.328125 \nQ 17.828125 56 27.875 56 \nQ 33.9375 56 38.28125 53.609375 \nQ 42.625 51.21875 45.40625 46.390625 \nL 45.40625 54.6875 \nL 54.390625 54.6875 \nz\n\" id=\"DejaVuSans-103\"/>\n       <path d=\"M 9.421875 75.984375 \nL 18.40625 75.984375 \nL 18.40625 0 \nL 9.421875 0 \nz\n\" id=\"DejaVuSans-108\"/>\n       <path d=\"M 9.421875 54.6875 \nL 18.40625 54.6875 \nL 18.40625 0 \nL 9.421875 0 \nz\nM 9.421875 75.984375 \nL 18.40625 75.984375 \nL 18.40625 64.59375 \nL 9.421875 64.59375 \nz\n\" id=\"DejaVuSans-105\"/>\n       <path d=\"M 9.078125 75.984375 \nL 18.109375 75.984375 \nL 18.109375 31.109375 \nL 44.921875 54.6875 \nL 56.390625 54.6875 \nL 27.390625 29.109375 \nL 57.625 0 \nL 45.90625 0 \nL 18.109375 26.703125 \nL 18.109375 0 \nL 9.078125 0 \nz\n\" id=\"DejaVuSans-107\"/>\n       <path d=\"M 54.890625 33.015625 \nL 54.890625 0 \nL 45.90625 0 \nL 45.90625 32.71875 \nQ 45.90625 40.484375 42.875 44.328125 \nQ 39.84375 48.1875 33.796875 48.1875 \nQ 26.515625 48.1875 22.3125 43.546875 \nQ 18.109375 38.921875 18.109375 30.90625 \nL 18.109375 0 \nL 9.078125 0 \nL 9.078125 75.984375 \nL 18.109375 75.984375 \nL 18.109375 46.1875 \nQ 21.34375 51.125 25.703125 53.5625 \nQ 30.078125 56 35.796875 56 \nQ 45.21875 56 50.046875 50.171875 \nQ 54.890625 44.34375 54.890625 33.015625 \nz\n\" id=\"DejaVuSans-104\"/>\n       <path d=\"M 45.40625 46.390625 \nL 45.40625 75.984375 \nL 54.390625 75.984375 \nL 54.390625 0 \nL 45.40625 0 \nL 45.40625 8.203125 \nQ 42.578125 3.328125 38.25 0.953125 \nQ 33.9375 -1.421875 27.875 -1.421875 \nQ 17.96875 -1.421875 11.734375 6.484375 \nQ 5.515625 14.40625 5.515625 27.296875 \nQ 5.515625 40.1875 11.734375 48.09375 \nQ 17.96875 56 27.875 56 \nQ 33.9375 56 38.25 53.625 \nQ 42.578125 51.265625 45.40625 46.390625 \nz\nM 14.796875 27.296875 \nQ 14.796875 17.390625 18.875 11.75 \nQ 22.953125 6.109375 30.078125 6.109375 \nQ 37.203125 6.109375 41.296875 11.75 \nQ 45.40625 17.390625 45.40625 27.296875 \nQ 45.40625 37.203125 41.296875 42.84375 \nQ 37.203125 48.484375 30.078125 48.484375 \nQ 22.953125 48.484375 18.875 42.84375 \nQ 14.796875 37.203125 14.796875 27.296875 \nz\n\" id=\"DejaVuSans-100\"/>\n      </defs>\n      <use xlink:href=\"#DejaVuSans-76\"/>\n      <use x=\"53.962891\" xlink:href=\"#DejaVuSans-111\"/>\n      <use x=\"115.144531\" xlink:href=\"#DejaVuSans-103\"/>\n      <use x=\"178.621094\" xlink:href=\"#DejaVuSans-108\"/>\n      <use x=\"206.404297\" xlink:href=\"#DejaVuSans-105\"/>\n      <use x=\"234.1875\" xlink:href=\"#DejaVuSans-107\"/>\n      <use x=\"288.472656\" xlink:href=\"#DejaVuSans-101\"/>\n      <use x=\"349.996094\" xlink:href=\"#DejaVuSans-108\"/>\n      <use x=\"377.779297\" xlink:href=\"#DejaVuSans-105\"/>\n      <use x=\"405.5625\" xlink:href=\"#DejaVuSans-104\"/>\n      <use x=\"468.941406\" xlink:href=\"#DejaVuSans-111\"/>\n      <use x=\"530.123047\" xlink:href=\"#DejaVuSans-111\"/>\n      <use x=\"591.304688\" xlink:href=\"#DejaVuSans-100\"/>\n     </g>\n    </g>\n   </g>\n   <g id=\"LineCollection_1\">\n    <path clip-path=\"url(#p8341c34af1)\" d=\"M 70.563494 61.580936 \nL 70.563494 58.749175 \n\" style=\"fill:none;stroke:#1f77b4;stroke-width:1.5;\"/>\n    <path clip-path=\"url(#p8341c34af1)\" d=\"M 85.781676 83.362609 \nL 85.781676 80.551494 \n\" style=\"fill:none;stroke:#1f77b4;stroke-width:1.5;\"/>\n    <path clip-path=\"url(#p8341c34af1)\" d=\"M 100.999858 70.659423 \nL 100.999858 67.659097 \n\" style=\"fill:none;stroke:#1f77b4;stroke-width:1.5;\"/>\n    <path clip-path=\"url(#p8341c34af1)\" d=\"M 116.21804 94.630727 \nL 116.21804 91.535841 \n\" style=\"fill:none;stroke:#1f77b4;stroke-width:1.5;\"/>\n    <path clip-path=\"url(#p8341c34af1)\" d=\"M 131.436222 96.608861 \nL 131.436222 94.10307 \n\" style=\"fill:none;stroke:#1f77b4;stroke-width:1.5;\"/>\n    <path clip-path=\"url(#p8341c34af1)\" d=\"M 146.654403 75.83716 \nL 146.654403 73.615233 \n\" style=\"fill:none;stroke:#1f77b4;stroke-width:1.5;\"/>\n    <path clip-path=\"url(#p8341c34af1)\" d=\"M 161.872585 81.713533 \nL 161.872585 80.174766 \n\" style=\"fill:none;stroke:#1f77b4;stroke-width:1.5;\"/>\n    <path clip-path=\"url(#p8341c34af1)\" d=\"M 177.090767 99.920692 \nL 177.090767 97.952385 \n\" style=\"fill:none;stroke:#1f77b4;stroke-width:1.5;\"/>\n    <path clip-path=\"url(#p8341c34af1)\" d=\"M 192.308949 108.426521 \nL 192.308949 106.642033 \n\" style=\"fill:none;stroke:#1f77b4;stroke-width:1.5;\"/>\n    <path clip-path=\"url(#p8341c34af1)\" d=\"M 207.527131 97.893331 \nL 207.527131 96.562271 \n\" style=\"fill:none;stroke:#1f77b4;stroke-width:1.5;\"/>\n    <path clip-path=\"url(#p8341c34af1)\" d=\"M 237.963494 149.508192 \nL 237.963494 148.041553 \n\" style=\"fill:none;stroke:#1f77b4;stroke-width:1.5;\"/>\n    <path clip-path=\"url(#p8341c34af1)\" d=\"M 253.181676 119.102001 \nL 253.181676 117.831749 \n\" style=\"fill:none;stroke:#1f77b4;stroke-width:1.5;\"/>\n    <path clip-path=\"url(#p8341c34af1)\" d=\"M 268.399858 155.598485 \nL 268.399858 153.593003 \n\" style=\"fill:none;stroke:#1f77b4;stroke-width:1.5;\"/>\n    <path clip-path=\"url(#p8341c34af1)\" d=\"M 283.61804 174.670622 \nL 283.61804 172.601032 \n\" style=\"fill:none;stroke:#1f77b4;stroke-width:1.5;\"/>\n    <path clip-path=\"url(#p8341c34af1)\" d=\"M 298.836222 163.462414 \nL 298.836222 161.665685 \n\" style=\"fill:none;stroke:#1f77b4;stroke-width:1.5;\"/>\n    <path clip-path=\"url(#p8341c34af1)\" d=\"M 314.054403 158.04669 \nL 314.054403 155.628241 \n\" style=\"fill:none;stroke:#1f77b4;stroke-width:1.5;\"/>\n    <path clip-path=\"url(#p8341c34af1)\" d=\"M 329.272585 198.348791 \nL 329.272585 196.246839 \n\" style=\"fill:none;stroke:#1f77b4;stroke-width:1.5;\"/>\n    <path clip-path=\"url(#p8341c34af1)\" d=\"M 344.490767 229.874489 \nL 344.490767 226.390944 \n\" style=\"fill:none;stroke:#1f77b4;stroke-width:1.5;\"/>\n    <path clip-path=\"url(#p8341c34af1)\" d=\"M 359.708949 183.232979 \nL 359.708949 179.962608 \n\" style=\"fill:none;stroke:#1f77b4;stroke-width:1.5;\"/>\n    <path clip-path=\"url(#p8341c34af1)\" d=\"M 374.927131 200.21615 \nL 374.927131 196.694655 \n\" style=\"fill:none;stroke:#1f77b4;stroke-width:1.5;\"/>\n   </g>\n   <g id=\"LineCollection_2\">\n    <path clip-path=\"url(#p8341c34af1)\" d=\"M 70.563494 196.345348 \nL 70.563494 193.07843 \n\" style=\"fill:none;stroke:#ff7f0e;stroke-width:1.5;\"/>\n    <path clip-path=\"url(#p8341c34af1)\" d=\"M 85.781676 170.705441 \nL 85.781676 167.643986 \n\" style=\"fill:none;stroke:#ff7f0e;stroke-width:1.5;\"/>\n    <path clip-path=\"url(#p8341c34af1)\" d=\"M 100.999858 186.021657 \nL 100.999858 182.649844 \n\" style=\"fill:none;stroke:#ff7f0e;stroke-width:1.5;\"/>\n    <path clip-path=\"url(#p8341c34af1)\" d=\"M 116.21804 159.21298 \nL 116.21804 155.896319 \n\" style=\"fill:none;stroke:#ff7f0e;stroke-width:1.5;\"/>\n    <path clip-path=\"url(#p8341c34af1)\" d=\"M 131.436222 155.017568 \nL 131.436222 152.411851 \n\" style=\"fill:none;stroke:#ff7f0e;stroke-width:1.5;\"/>\n    <path clip-path=\"url(#p8341c34af1)\" d=\"M 146.654403 177.449671 \nL 146.654403 174.982521 \n\" style=\"fill:none;stroke:#ff7f0e;stroke-width:1.5;\"/>\n    <path clip-path=\"url(#p8341c34af1)\" d=\"M 161.872585 169.173409 \nL 161.872585 167.424121 \n\" style=\"fill:none;stroke:#ff7f0e;stroke-width:1.5;\"/>\n    <path clip-path=\"url(#p8341c34af1)\" d=\"M 177.090767 149.930981 \nL 177.090767 147.883229 \n\" style=\"fill:none;stroke:#ff7f0e;stroke-width:1.5;\"/>\n    <path clip-path=\"url(#p8341c34af1)\" d=\"M 192.308949 140.604493 \nL 192.308949 138.715635 \n\" style=\"fill:none;stroke:#ff7f0e;stroke-width:1.5;\"/>\n    <path clip-path=\"url(#p8341c34af1)\" d=\"M 207.527131 150.748576 \nL 207.527131 149.302868 \n\" style=\"fill:none;stroke:#ff7f0e;stroke-width:1.5;\"/>\n    <path clip-path=\"url(#p8341c34af1)\" d=\"M 237.963494 99.168772 \nL 237.963494 97.775591 \n\" style=\"fill:none;stroke:#ff7f0e;stroke-width:1.5;\"/>\n    <path clip-path=\"url(#p8341c34af1)\" d=\"M 253.181676 128.455375 \nL 253.181676 127.147906 \n\" style=\"fill:none;stroke:#ff7f0e;stroke-width:1.5;\"/>\n    <path clip-path=\"url(#p8341c34af1)\" d=\"M 268.399858 94.546855 \nL 268.399858 92.652941 \n\" style=\"fill:none;stroke:#ff7f0e;stroke-width:1.5;\"/>\n    <path clip-path=\"url(#p8341c34af1)\" d=\"M 283.61804 77.452411 \nL 283.61804 75.607331 \n\" style=\"fill:none;stroke:#ff7f0e;stroke-width:1.5;\"/>\n    <path clip-path=\"url(#p8341c34af1)\" d=\"M 298.836222 86.84967 \nL 298.836222 85.231056 \n\" style=\"fill:none;stroke:#ff7f0e;stroke-width:1.5;\"/>\n    <path clip-path=\"url(#p8341c34af1)\" d=\"M 314.054403 93.281174 \nL 314.054403 91.003721 \n\" style=\"fill:none;stroke:#ff7f0e;stroke-width:1.5;\"/>\n    <path clip-path=\"url(#p8341c34af1)\" d=\"M 329.272585 57.309446 \nL 329.272585 55.557592 \n\" style=\"fill:none;stroke:#ff7f0e;stroke-width:1.5;\"/>\n    <path clip-path=\"url(#p8341c34af1)\" d=\"M 344.490767 34.888525 \nL 344.490767 32.201761 \n\" style=\"fill:none;stroke:#ff7f0e;stroke-width:1.5;\"/>\n    <path clip-path=\"url(#p8341c34af1)\" d=\"M 359.708949 73.226299 \nL 359.708949 70.251192 \n\" style=\"fill:none;stroke:#ff7f0e;stroke-width:1.5;\"/>\n    <path clip-path=\"url(#p8341c34af1)\" d=\"M 374.927131 58.885299 \nL 374.927131 55.875329 \n\" style=\"fill:none;stroke:#ff7f0e;stroke-width:1.5;\"/>\n   </g>\n   <g id=\"line2d_16\">\n    <defs>\n     <path d=\"M 4 0 \nL -4 -0 \n\" id=\"m457fbcc519\" style=\"stroke:#1f77b4;\"/>\n    </defs>\n    <g clip-path=\"url(#p8341c34af1)\">\n     <use style=\"fill:#1f77b4;stroke:#1f77b4;\" x=\"70.563494\" xlink:href=\"#m457fbcc519\" y=\"61.580936\"/>\n     <use style=\"fill:#1f77b4;stroke:#1f77b4;\" x=\"85.781676\" xlink:href=\"#m457fbcc519\" y=\"83.362609\"/>\n     <use style=\"fill:#1f77b4;stroke:#1f77b4;\" x=\"100.999858\" xlink:href=\"#m457fbcc519\" y=\"70.659423\"/>\n     <use style=\"fill:#1f77b4;stroke:#1f77b4;\" x=\"116.21804\" xlink:href=\"#m457fbcc519\" y=\"94.630727\"/>\n     <use style=\"fill:#1f77b4;stroke:#1f77b4;\" x=\"131.436222\" xlink:href=\"#m457fbcc519\" y=\"96.608861\"/>\n     <use style=\"fill:#1f77b4;stroke:#1f77b4;\" x=\"146.654403\" xlink:href=\"#m457fbcc519\" y=\"75.83716\"/>\n     <use style=\"fill:#1f77b4;stroke:#1f77b4;\" x=\"161.872585\" xlink:href=\"#m457fbcc519\" y=\"81.713533\"/>\n     <use style=\"fill:#1f77b4;stroke:#1f77b4;\" x=\"177.090767\" xlink:href=\"#m457fbcc519\" y=\"99.920692\"/>\n     <use style=\"fill:#1f77b4;stroke:#1f77b4;\" x=\"192.308949\" xlink:href=\"#m457fbcc519\" y=\"108.426521\"/>\n     <use style=\"fill:#1f77b4;stroke:#1f77b4;\" x=\"207.527131\" xlink:href=\"#m457fbcc519\" y=\"97.893331\"/>\n     <use style=\"fill:#1f77b4;stroke:#1f77b4;\" x=\"237.963494\" xlink:href=\"#m457fbcc519\" y=\"149.508192\"/>\n     <use style=\"fill:#1f77b4;stroke:#1f77b4;\" x=\"253.181676\" xlink:href=\"#m457fbcc519\" y=\"119.102001\"/>\n     <use style=\"fill:#1f77b4;stroke:#1f77b4;\" x=\"268.399858\" xlink:href=\"#m457fbcc519\" y=\"155.598485\"/>\n     <use style=\"fill:#1f77b4;stroke:#1f77b4;\" x=\"283.61804\" xlink:href=\"#m457fbcc519\" y=\"174.670622\"/>\n     <use style=\"fill:#1f77b4;stroke:#1f77b4;\" x=\"298.836222\" xlink:href=\"#m457fbcc519\" y=\"163.462414\"/>\n     <use style=\"fill:#1f77b4;stroke:#1f77b4;\" x=\"314.054403\" xlink:href=\"#m457fbcc519\" y=\"158.04669\"/>\n     <use style=\"fill:#1f77b4;stroke:#1f77b4;\" x=\"329.272585\" xlink:href=\"#m457fbcc519\" y=\"198.348791\"/>\n     <use style=\"fill:#1f77b4;stroke:#1f77b4;\" x=\"344.490767\" xlink:href=\"#m457fbcc519\" y=\"229.874489\"/>\n     <use style=\"fill:#1f77b4;stroke:#1f77b4;\" x=\"359.708949\" xlink:href=\"#m457fbcc519\" y=\"183.232979\"/>\n     <use style=\"fill:#1f77b4;stroke:#1f77b4;\" x=\"374.927131\" xlink:href=\"#m457fbcc519\" y=\"200.21615\"/>\n    </g>\n   </g>\n   <g id=\"line2d_17\">\n    <g clip-path=\"url(#p8341c34af1)\">\n     <use style=\"fill:#1f77b4;stroke:#1f77b4;\" x=\"70.563494\" xlink:href=\"#m457fbcc519\" y=\"58.749175\"/>\n     <use style=\"fill:#1f77b4;stroke:#1f77b4;\" x=\"85.781676\" xlink:href=\"#m457fbcc519\" y=\"80.551494\"/>\n     <use style=\"fill:#1f77b4;stroke:#1f77b4;\" x=\"100.999858\" xlink:href=\"#m457fbcc519\" y=\"67.659097\"/>\n     <use style=\"fill:#1f77b4;stroke:#1f77b4;\" x=\"116.21804\" xlink:href=\"#m457fbcc519\" y=\"91.535841\"/>\n     <use style=\"fill:#1f77b4;stroke:#1f77b4;\" x=\"131.436222\" xlink:href=\"#m457fbcc519\" y=\"94.10307\"/>\n     <use style=\"fill:#1f77b4;stroke:#1f77b4;\" x=\"146.654403\" xlink:href=\"#m457fbcc519\" y=\"73.615233\"/>\n     <use style=\"fill:#1f77b4;stroke:#1f77b4;\" x=\"161.872585\" xlink:href=\"#m457fbcc519\" y=\"80.174766\"/>\n     <use style=\"fill:#1f77b4;stroke:#1f77b4;\" x=\"177.090767\" xlink:href=\"#m457fbcc519\" y=\"97.952385\"/>\n     <use style=\"fill:#1f77b4;stroke:#1f77b4;\" x=\"192.308949\" xlink:href=\"#m457fbcc519\" y=\"106.642033\"/>\n     <use style=\"fill:#1f77b4;stroke:#1f77b4;\" x=\"207.527131\" xlink:href=\"#m457fbcc519\" y=\"96.562271\"/>\n     <use style=\"fill:#1f77b4;stroke:#1f77b4;\" x=\"237.963494\" xlink:href=\"#m457fbcc519\" y=\"148.041553\"/>\n     <use style=\"fill:#1f77b4;stroke:#1f77b4;\" x=\"253.181676\" xlink:href=\"#m457fbcc519\" y=\"117.831749\"/>\n     <use style=\"fill:#1f77b4;stroke:#1f77b4;\" x=\"268.399858\" xlink:href=\"#m457fbcc519\" y=\"153.593003\"/>\n     <use style=\"fill:#1f77b4;stroke:#1f77b4;\" x=\"283.61804\" xlink:href=\"#m457fbcc519\" y=\"172.601032\"/>\n     <use style=\"fill:#1f77b4;stroke:#1f77b4;\" x=\"298.836222\" xlink:href=\"#m457fbcc519\" y=\"161.665685\"/>\n     <use style=\"fill:#1f77b4;stroke:#1f77b4;\" x=\"314.054403\" xlink:href=\"#m457fbcc519\" y=\"155.628241\"/>\n     <use style=\"fill:#1f77b4;stroke:#1f77b4;\" x=\"329.272585\" xlink:href=\"#m457fbcc519\" y=\"196.246839\"/>\n     <use style=\"fill:#1f77b4;stroke:#1f77b4;\" x=\"344.490767\" xlink:href=\"#m457fbcc519\" y=\"226.390944\"/>\n     <use style=\"fill:#1f77b4;stroke:#1f77b4;\" x=\"359.708949\" xlink:href=\"#m457fbcc519\" y=\"179.962608\"/>\n     <use style=\"fill:#1f77b4;stroke:#1f77b4;\" x=\"374.927131\" xlink:href=\"#m457fbcc519\" y=\"196.694655\"/>\n    </g>\n   </g>\n   <g id=\"line2d_18\">\n    <defs>\n     <path d=\"M 4 0 \nL -4 -0 \n\" id=\"m5b914c5bc9\" style=\"stroke:#ff7f0e;\"/>\n    </defs>\n    <g clip-path=\"url(#p8341c34af1)\">\n     <use style=\"fill:#ff7f0e;stroke:#ff7f0e;\" x=\"70.563494\" xlink:href=\"#m5b914c5bc9\" y=\"196.345348\"/>\n     <use style=\"fill:#ff7f0e;stroke:#ff7f0e;\" x=\"85.781676\" xlink:href=\"#m5b914c5bc9\" y=\"170.705441\"/>\n     <use style=\"fill:#ff7f0e;stroke:#ff7f0e;\" x=\"100.999858\" xlink:href=\"#m5b914c5bc9\" y=\"186.021657\"/>\n     <use style=\"fill:#ff7f0e;stroke:#ff7f0e;\" x=\"116.21804\" xlink:href=\"#m5b914c5bc9\" y=\"159.21298\"/>\n     <use style=\"fill:#ff7f0e;stroke:#ff7f0e;\" x=\"131.436222\" xlink:href=\"#m5b914c5bc9\" y=\"155.017568\"/>\n     <use style=\"fill:#ff7f0e;stroke:#ff7f0e;\" x=\"146.654403\" xlink:href=\"#m5b914c5bc9\" y=\"177.449671\"/>\n     <use style=\"fill:#ff7f0e;stroke:#ff7f0e;\" x=\"161.872585\" xlink:href=\"#m5b914c5bc9\" y=\"169.173409\"/>\n     <use style=\"fill:#ff7f0e;stroke:#ff7f0e;\" x=\"177.090767\" xlink:href=\"#m5b914c5bc9\" y=\"149.930981\"/>\n     <use style=\"fill:#ff7f0e;stroke:#ff7f0e;\" x=\"192.308949\" xlink:href=\"#m5b914c5bc9\" y=\"140.604493\"/>\n     <use style=\"fill:#ff7f0e;stroke:#ff7f0e;\" x=\"207.527131\" xlink:href=\"#m5b914c5bc9\" y=\"150.748576\"/>\n     <use style=\"fill:#ff7f0e;stroke:#ff7f0e;\" x=\"237.963494\" xlink:href=\"#m5b914c5bc9\" y=\"99.168772\"/>\n     <use style=\"fill:#ff7f0e;stroke:#ff7f0e;\" x=\"253.181676\" xlink:href=\"#m5b914c5bc9\" y=\"128.455375\"/>\n     <use style=\"fill:#ff7f0e;stroke:#ff7f0e;\" x=\"268.399858\" xlink:href=\"#m5b914c5bc9\" y=\"94.546855\"/>\n     <use style=\"fill:#ff7f0e;stroke:#ff7f0e;\" x=\"283.61804\" xlink:href=\"#m5b914c5bc9\" y=\"77.452411\"/>\n     <use style=\"fill:#ff7f0e;stroke:#ff7f0e;\" x=\"298.836222\" xlink:href=\"#m5b914c5bc9\" y=\"86.84967\"/>\n     <use style=\"fill:#ff7f0e;stroke:#ff7f0e;\" x=\"314.054403\" xlink:href=\"#m5b914c5bc9\" y=\"93.281174\"/>\n     <use style=\"fill:#ff7f0e;stroke:#ff7f0e;\" x=\"329.272585\" xlink:href=\"#m5b914c5bc9\" y=\"57.309446\"/>\n     <use style=\"fill:#ff7f0e;stroke:#ff7f0e;\" x=\"344.490767\" xlink:href=\"#m5b914c5bc9\" y=\"34.888525\"/>\n     <use style=\"fill:#ff7f0e;stroke:#ff7f0e;\" x=\"359.708949\" xlink:href=\"#m5b914c5bc9\" y=\"73.226299\"/>\n     <use style=\"fill:#ff7f0e;stroke:#ff7f0e;\" x=\"374.927131\" xlink:href=\"#m5b914c5bc9\" y=\"58.885299\"/>\n    </g>\n   </g>\n   <g id=\"line2d_19\">\n    <g clip-path=\"url(#p8341c34af1)\">\n     <use style=\"fill:#ff7f0e;stroke:#ff7f0e;\" x=\"70.563494\" xlink:href=\"#m5b914c5bc9\" y=\"193.07843\"/>\n     <use style=\"fill:#ff7f0e;stroke:#ff7f0e;\" x=\"85.781676\" xlink:href=\"#m5b914c5bc9\" y=\"167.643986\"/>\n     <use style=\"fill:#ff7f0e;stroke:#ff7f0e;\" x=\"100.999858\" xlink:href=\"#m5b914c5bc9\" y=\"182.649844\"/>\n     <use style=\"fill:#ff7f0e;stroke:#ff7f0e;\" x=\"116.21804\" xlink:href=\"#m5b914c5bc9\" y=\"155.896319\"/>\n     <use style=\"fill:#ff7f0e;stroke:#ff7f0e;\" x=\"131.436222\" xlink:href=\"#m5b914c5bc9\" y=\"152.411851\"/>\n     <use style=\"fill:#ff7f0e;stroke:#ff7f0e;\" x=\"146.654403\" xlink:href=\"#m5b914c5bc9\" y=\"174.982521\"/>\n     <use style=\"fill:#ff7f0e;stroke:#ff7f0e;\" x=\"161.872585\" xlink:href=\"#m5b914c5bc9\" y=\"167.424121\"/>\n     <use style=\"fill:#ff7f0e;stroke:#ff7f0e;\" x=\"177.090767\" xlink:href=\"#m5b914c5bc9\" y=\"147.883229\"/>\n     <use style=\"fill:#ff7f0e;stroke:#ff7f0e;\" x=\"192.308949\" xlink:href=\"#m5b914c5bc9\" y=\"138.715635\"/>\n     <use style=\"fill:#ff7f0e;stroke:#ff7f0e;\" x=\"207.527131\" xlink:href=\"#m5b914c5bc9\" y=\"149.302868\"/>\n     <use style=\"fill:#ff7f0e;stroke:#ff7f0e;\" x=\"237.963494\" xlink:href=\"#m5b914c5bc9\" y=\"97.775591\"/>\n     <use style=\"fill:#ff7f0e;stroke:#ff7f0e;\" x=\"253.181676\" xlink:href=\"#m5b914c5bc9\" y=\"127.147906\"/>\n     <use style=\"fill:#ff7f0e;stroke:#ff7f0e;\" x=\"268.399858\" xlink:href=\"#m5b914c5bc9\" y=\"92.652941\"/>\n     <use style=\"fill:#ff7f0e;stroke:#ff7f0e;\" x=\"283.61804\" xlink:href=\"#m5b914c5bc9\" y=\"75.607331\"/>\n     <use style=\"fill:#ff7f0e;stroke:#ff7f0e;\" x=\"298.836222\" xlink:href=\"#m5b914c5bc9\" y=\"85.231056\"/>\n     <use style=\"fill:#ff7f0e;stroke:#ff7f0e;\" x=\"314.054403\" xlink:href=\"#m5b914c5bc9\" y=\"91.003721\"/>\n     <use style=\"fill:#ff7f0e;stroke:#ff7f0e;\" x=\"329.272585\" xlink:href=\"#m5b914c5bc9\" y=\"55.557592\"/>\n     <use style=\"fill:#ff7f0e;stroke:#ff7f0e;\" x=\"344.490767\" xlink:href=\"#m5b914c5bc9\" y=\"32.201761\"/>\n     <use style=\"fill:#ff7f0e;stroke:#ff7f0e;\" x=\"359.708949\" xlink:href=\"#m5b914c5bc9\" y=\"70.251192\"/>\n     <use style=\"fill:#ff7f0e;stroke:#ff7f0e;\" x=\"374.927131\" xlink:href=\"#m5b914c5bc9\" y=\"55.875329\"/>\n    </g>\n   </g>\n   <g id=\"line2d_20\">\n    <defs>\n     <path d=\"M 0 1.5 \nC 0.397805 1.5 0.77937 1.341951 1.06066 1.06066 \nC 1.341951 0.77937 1.5 0.397805 1.5 0 \nC 1.5 -0.397805 1.341951 -0.77937 1.06066 -1.06066 \nC 0.77937 -1.341951 0.397805 -1.5 0 -1.5 \nC -0.397805 -1.5 -0.77937 -1.341951 -1.06066 -1.06066 \nC -1.341951 -0.77937 -1.5 -0.397805 -1.5 0 \nC -1.5 0.397805 -1.341951 0.77937 -1.06066 1.06066 \nC -0.77937 1.341951 -0.397805 1.5 0 1.5 \nz\n\" id=\"md4ce5bb05b\" style=\"stroke:#1f77b4;\"/>\n    </defs>\n    <g clip-path=\"url(#p8341c34af1)\">\n     <use style=\"fill:#1f77b4;stroke:#1f77b4;\" x=\"70.563494\" xlink:href=\"#md4ce5bb05b\" y=\"60.165055\"/>\n     <use style=\"fill:#1f77b4;stroke:#1f77b4;\" x=\"85.781676\" xlink:href=\"#md4ce5bb05b\" y=\"81.957052\"/>\n     <use style=\"fill:#1f77b4;stroke:#1f77b4;\" x=\"100.999858\" xlink:href=\"#md4ce5bb05b\" y=\"69.15926\"/>\n     <use style=\"fill:#1f77b4;stroke:#1f77b4;\" x=\"116.21804\" xlink:href=\"#md4ce5bb05b\" y=\"93.083284\"/>\n     <use style=\"fill:#1f77b4;stroke:#1f77b4;\" x=\"131.436222\" xlink:href=\"#md4ce5bb05b\" y=\"95.355966\"/>\n     <use style=\"fill:#1f77b4;stroke:#1f77b4;\" x=\"146.654403\" xlink:href=\"#md4ce5bb05b\" y=\"74.726196\"/>\n     <use style=\"fill:#1f77b4;stroke:#1f77b4;\" x=\"161.872585\" xlink:href=\"#md4ce5bb05b\" y=\"80.944149\"/>\n     <use style=\"fill:#1f77b4;stroke:#1f77b4;\" x=\"177.090767\" xlink:href=\"#md4ce5bb05b\" y=\"98.936538\"/>\n     <use style=\"fill:#1f77b4;stroke:#1f77b4;\" x=\"192.308949\" xlink:href=\"#md4ce5bb05b\" y=\"107.534277\"/>\n     <use style=\"fill:#1f77b4;stroke:#1f77b4;\" x=\"207.527131\" xlink:href=\"#md4ce5bb05b\" y=\"97.227801\"/>\n     <use style=\"fill:#1f77b4;stroke:#1f77b4;\" x=\"237.963494\" xlink:href=\"#md4ce5bb05b\" y=\"148.774873\"/>\n     <use style=\"fill:#1f77b4;stroke:#1f77b4;\" x=\"253.181676\" xlink:href=\"#md4ce5bb05b\" y=\"118.466875\"/>\n     <use style=\"fill:#1f77b4;stroke:#1f77b4;\" x=\"268.399858\" xlink:href=\"#md4ce5bb05b\" y=\"154.595744\"/>\n     <use style=\"fill:#1f77b4;stroke:#1f77b4;\" x=\"283.61804\" xlink:href=\"#md4ce5bb05b\" y=\"173.635827\"/>\n     <use style=\"fill:#1f77b4;stroke:#1f77b4;\" x=\"298.836222\" xlink:href=\"#md4ce5bb05b\" y=\"162.564049\"/>\n     <use style=\"fill:#1f77b4;stroke:#1f77b4;\" x=\"314.054403\" xlink:href=\"#md4ce5bb05b\" y=\"156.837465\"/>\n     <use style=\"fill:#1f77b4;stroke:#1f77b4;\" x=\"329.272585\" xlink:href=\"#md4ce5bb05b\" y=\"197.297815\"/>\n     <use style=\"fill:#1f77b4;stroke:#1f77b4;\" x=\"344.490767\" xlink:href=\"#md4ce5bb05b\" y=\"228.132717\"/>\n     <use style=\"fill:#1f77b4;stroke:#1f77b4;\" x=\"359.708949\" xlink:href=\"#md4ce5bb05b\" y=\"181.597793\"/>\n     <use style=\"fill:#1f77b4;stroke:#1f77b4;\" x=\"374.927131\" xlink:href=\"#md4ce5bb05b\" y=\"198.455403\"/>\n    </g>\n   </g>\n   <g id=\"line2d_21\">\n    <defs>\n     <path d=\"M 0 1.5 \nC 0.397805 1.5 0.77937 1.341951 1.06066 1.06066 \nC 1.341951 0.77937 1.5 0.397805 1.5 0 \nC 1.5 -0.397805 1.341951 -0.77937 1.06066 -1.06066 \nC 0.77937 -1.341951 0.397805 -1.5 0 -1.5 \nC -0.397805 -1.5 -0.77937 -1.341951 -1.06066 -1.06066 \nC -1.341951 -0.77937 -1.5 -0.397805 -1.5 0 \nC -1.5 0.397805 -1.341951 0.77937 -1.06066 1.06066 \nC -0.77937 1.341951 -0.397805 1.5 0 1.5 \nz\n\" id=\"m7d1a2bdada\" style=\"stroke:#ff7f0e;\"/>\n    </defs>\n    <g clip-path=\"url(#p8341c34af1)\">\n     <use style=\"fill:#ff7f0e;stroke:#ff7f0e;\" x=\"70.563494\" xlink:href=\"#m7d1a2bdada\" y=\"194.711889\"/>\n     <use style=\"fill:#ff7f0e;stroke:#ff7f0e;\" x=\"85.781676\" xlink:href=\"#m7d1a2bdada\" y=\"169.174714\"/>\n     <use style=\"fill:#ff7f0e;stroke:#ff7f0e;\" x=\"100.999858\" xlink:href=\"#m7d1a2bdada\" y=\"184.33575\"/>\n     <use style=\"fill:#ff7f0e;stroke:#ff7f0e;\" x=\"116.21804\" xlink:href=\"#m7d1a2bdada\" y=\"157.55465\"/>\n     <use style=\"fill:#ff7f0e;stroke:#ff7f0e;\" x=\"131.436222\" xlink:href=\"#m7d1a2bdada\" y=\"153.714709\"/>\n     <use style=\"fill:#ff7f0e;stroke:#ff7f0e;\" x=\"146.654403\" xlink:href=\"#m7d1a2bdada\" y=\"176.216096\"/>\n     <use style=\"fill:#ff7f0e;stroke:#ff7f0e;\" x=\"161.872585\" xlink:href=\"#m7d1a2bdada\" y=\"168.298765\"/>\n     <use style=\"fill:#ff7f0e;stroke:#ff7f0e;\" x=\"177.090767\" xlink:href=\"#m7d1a2bdada\" y=\"148.907105\"/>\n     <use style=\"fill:#ff7f0e;stroke:#ff7f0e;\" x=\"192.308949\" xlink:href=\"#m7d1a2bdada\" y=\"139.660064\"/>\n     <use style=\"fill:#ff7f0e;stroke:#ff7f0e;\" x=\"207.527131\" xlink:href=\"#m7d1a2bdada\" y=\"150.025722\"/>\n     <use style=\"fill:#ff7f0e;stroke:#ff7f0e;\" x=\"237.963494\" xlink:href=\"#m7d1a2bdada\" y=\"98.472181\"/>\n     <use style=\"fill:#ff7f0e;stroke:#ff7f0e;\" x=\"253.181676\" xlink:href=\"#m7d1a2bdada\" y=\"127.801641\"/>\n     <use style=\"fill:#ff7f0e;stroke:#ff7f0e;\" x=\"268.399858\" xlink:href=\"#m7d1a2bdada\" y=\"93.599898\"/>\n     <use style=\"fill:#ff7f0e;stroke:#ff7f0e;\" x=\"283.61804\" xlink:href=\"#m7d1a2bdada\" y=\"76.529871\"/>\n     <use style=\"fill:#ff7f0e;stroke:#ff7f0e;\" x=\"298.836222\" xlink:href=\"#m7d1a2bdada\" y=\"86.040363\"/>\n     <use style=\"fill:#ff7f0e;stroke:#ff7f0e;\" x=\"314.054403\" xlink:href=\"#m7d1a2bdada\" y=\"92.142448\"/>\n     <use style=\"fill:#ff7f0e;stroke:#ff7f0e;\" x=\"329.272585\" xlink:href=\"#m7d1a2bdada\" y=\"56.433519\"/>\n     <use style=\"fill:#ff7f0e;stroke:#ff7f0e;\" x=\"344.490767\" xlink:href=\"#m7d1a2bdada\" y=\"33.545143\"/>\n     <use style=\"fill:#ff7f0e;stroke:#ff7f0e;\" x=\"359.708949\" xlink:href=\"#m7d1a2bdada\" y=\"71.738745\"/>\n     <use style=\"fill:#ff7f0e;stroke:#ff7f0e;\" x=\"374.927131\" xlink:href=\"#m7d1a2bdada\" y=\"57.380314\"/>\n    </g>\n   </g>\n   <g id=\"patch_3\">\n    <path d=\"M 55.345313 239.758125 \nL 55.345313 22.318125 \n\" style=\"fill:none;stroke:#000000;stroke-linecap:square;stroke-linejoin:miter;stroke-width:0.8;\"/>\n   </g>\n   <g id=\"patch_4\">\n    <path d=\"M 390.145312 239.758125 \nL 390.145312 22.318125 \n\" style=\"fill:none;stroke:#000000;stroke-linecap:square;stroke-linejoin:miter;stroke-width:0.8;\"/>\n   </g>\n   <g id=\"patch_5\">\n    <path d=\"M 55.345313 239.758125 \nL 390.145312 239.758125 \n\" style=\"fill:none;stroke:#000000;stroke-linecap:square;stroke-linejoin:miter;stroke-width:0.8;\"/>\n   </g>\n   <g id=\"patch_6\">\n    <path d=\"M 55.345313 22.318125 \nL 390.145312 22.318125 \n\" style=\"fill:none;stroke:#000000;stroke-linecap:square;stroke-linejoin:miter;stroke-width:0.8;\"/>\n   </g>\n   <g id=\"text_18\">\n    <!-- MLP Classifier for SM data -->\n    <g transform=\"translate(144.84 16.318125)scale(0.12 -0.12)\">\n     <defs>\n      <path d=\"M 9.8125 72.90625 \nL 24.515625 72.90625 \nL 43.109375 23.296875 \nL 61.8125 72.90625 \nL 76.515625 72.90625 \nL 76.515625 0 \nL 66.890625 0 \nL 66.890625 64.015625 \nL 48.09375 14.015625 \nL 38.1875 14.015625 \nL 19.390625 64.015625 \nL 19.390625 0 \nL 9.8125 0 \nz\n\" id=\"DejaVuSans-77\"/>\n      <path d=\"M 19.671875 64.796875 \nL 19.671875 37.40625 \nL 32.078125 37.40625 \nQ 38.96875 37.40625 42.71875 40.96875 \nQ 46.484375 44.53125 46.484375 51.125 \nQ 46.484375 57.671875 42.71875 61.234375 \nQ 38.96875 64.796875 32.078125 64.796875 \nz\nM 9.8125 72.90625 \nL 32.078125 72.90625 \nQ 44.34375 72.90625 50.609375 67.359375 \nQ 56.890625 61.8125 56.890625 51.125 \nQ 56.890625 40.328125 50.609375 34.8125 \nQ 44.34375 29.296875 32.078125 29.296875 \nL 19.671875 29.296875 \nL 19.671875 0 \nL 9.8125 0 \nz\n\" id=\"DejaVuSans-80\"/>\n      <path d=\"M 34.28125 27.484375 \nQ 23.390625 27.484375 19.1875 25 \nQ 14.984375 22.515625 14.984375 16.5 \nQ 14.984375 11.71875 18.140625 8.90625 \nQ 21.296875 6.109375 26.703125 6.109375 \nQ 34.1875 6.109375 38.703125 11.40625 \nQ 43.21875 16.703125 43.21875 25.484375 \nL 43.21875 27.484375 \nz\nM 52.203125 31.203125 \nL 52.203125 0 \nL 43.21875 0 \nL 43.21875 8.296875 \nQ 40.140625 3.328125 35.546875 0.953125 \nQ 30.953125 -1.421875 24.3125 -1.421875 \nQ 15.921875 -1.421875 10.953125 3.296875 \nQ 6 8.015625 6 15.921875 \nQ 6 25.140625 12.171875 29.828125 \nQ 18.359375 34.515625 30.609375 34.515625 \nL 43.21875 34.515625 \nL 43.21875 35.40625 \nQ 43.21875 41.609375 39.140625 45 \nQ 35.0625 48.390625 27.6875 48.390625 \nQ 23 48.390625 18.546875 47.265625 \nQ 14.109375 46.140625 10.015625 43.890625 \nL 10.015625 52.203125 \nQ 14.9375 54.109375 19.578125 55.046875 \nQ 24.21875 56 28.609375 56 \nQ 40.484375 56 46.34375 49.84375 \nQ 52.203125 43.703125 52.203125 31.203125 \nz\n\" id=\"DejaVuSans-97\"/>\n      <path d=\"M 44.28125 53.078125 \nL 44.28125 44.578125 \nQ 40.484375 46.53125 36.375 47.5 \nQ 32.28125 48.484375 27.875 48.484375 \nQ 21.1875 48.484375 17.84375 46.4375 \nQ 14.5 44.390625 14.5 40.28125 \nQ 14.5 37.15625 16.890625 35.375 \nQ 19.28125 33.59375 26.515625 31.984375 \nL 29.59375 31.296875 \nQ 39.15625 29.25 43.1875 25.515625 \nQ 47.21875 21.78125 47.21875 15.09375 \nQ 47.21875 7.46875 41.1875 3.015625 \nQ 35.15625 -1.421875 24.609375 -1.421875 \nQ 20.21875 -1.421875 15.453125 -0.5625 \nQ 10.6875 0.296875 5.421875 2 \nL 5.421875 11.28125 \nQ 10.40625 8.6875 15.234375 7.390625 \nQ 20.0625 6.109375 24.8125 6.109375 \nQ 31.15625 6.109375 34.5625 8.28125 \nQ 37.984375 10.453125 37.984375 14.40625 \nQ 37.984375 18.0625 35.515625 20.015625 \nQ 33.0625 21.96875 24.703125 23.78125 \nL 21.578125 24.515625 \nQ 13.234375 26.265625 9.515625 29.90625 \nQ 5.8125 33.546875 5.8125 39.890625 \nQ 5.8125 47.609375 11.28125 51.796875 \nQ 16.75 56 26.8125 56 \nQ 31.78125 56 36.171875 55.265625 \nQ 40.578125 54.546875 44.28125 53.078125 \nz\n\" id=\"DejaVuSans-115\"/>\n      <path d=\"M 41.109375 46.296875 \nQ 39.59375 47.171875 37.8125 47.578125 \nQ 36.03125 48 33.890625 48 \nQ 26.265625 48 22.1875 43.046875 \nQ 18.109375 38.09375 18.109375 28.8125 \nL 18.109375 0 \nL 9.078125 0 \nL 9.078125 54.6875 \nL 18.109375 54.6875 \nL 18.109375 46.1875 \nQ 20.953125 51.171875 25.484375 53.578125 \nQ 30.03125 56 36.53125 56 \nQ 37.453125 56 38.578125 55.875 \nQ 39.703125 55.765625 41.0625 55.515625 \nz\n\" id=\"DejaVuSans-114\"/>\n      <path d=\"M 53.515625 70.515625 \nL 53.515625 60.890625 \nQ 47.90625 63.578125 42.921875 64.890625 \nQ 37.9375 66.21875 33.296875 66.21875 \nQ 25.25 66.21875 20.875 63.09375 \nQ 16.5 59.96875 16.5 54.203125 \nQ 16.5 49.359375 19.40625 46.890625 \nQ 22.3125 44.4375 30.421875 42.921875 \nL 36.375 41.703125 \nQ 47.40625 39.59375 52.65625 34.296875 \nQ 57.90625 29 57.90625 20.125 \nQ 57.90625 9.515625 50.796875 4.046875 \nQ 43.703125 -1.421875 29.984375 -1.421875 \nQ 24.8125 -1.421875 18.96875 -0.25 \nQ 13.140625 0.921875 6.890625 3.21875 \nL 6.890625 13.375 \nQ 12.890625 10.015625 18.65625 8.296875 \nQ 24.421875 6.59375 29.984375 6.59375 \nQ 38.421875 6.59375 43.015625 9.90625 \nQ 47.609375 13.234375 47.609375 19.390625 \nQ 47.609375 24.75 44.3125 27.78125 \nQ 41.015625 30.8125 33.5 32.328125 \nL 27.484375 33.5 \nQ 16.453125 35.6875 11.515625 40.375 \nQ 6.59375 45.0625 6.59375 53.421875 \nQ 6.59375 63.09375 13.40625 68.65625 \nQ 20.21875 74.21875 32.171875 74.21875 \nQ 37.3125 74.21875 42.625 73.28125 \nQ 47.953125 72.359375 53.515625 70.515625 \nz\n\" id=\"DejaVuSans-83\"/>\n      <path d=\"M 18.3125 70.21875 \nL 18.3125 54.6875 \nL 36.8125 54.6875 \nL 36.8125 47.703125 \nL 18.3125 47.703125 \nL 18.3125 18.015625 \nQ 18.3125 11.328125 20.140625 9.421875 \nQ 21.96875 7.515625 27.59375 7.515625 \nL 36.8125 7.515625 \nL 36.8125 0 \nL 27.59375 0 \nQ 17.1875 0 13.234375 3.875 \nQ 9.28125 7.765625 9.28125 18.015625 \nL 9.28125 47.703125 \nL 2.6875 47.703125 \nL 2.6875 54.6875 \nL 9.28125 54.6875 \nL 9.28125 70.21875 \nz\n\" id=\"DejaVuSans-116\"/>\n     </defs>\n     <use xlink:href=\"#DejaVuSans-77\"/>\n     <use x=\"86.279297\" xlink:href=\"#DejaVuSans-76\"/>\n     <use x=\"141.992188\" xlink:href=\"#DejaVuSans-80\"/>\n     <use x=\"202.294922\" xlink:href=\"#DejaVuSans-32\"/>\n     <use x=\"234.082031\" xlink:href=\"#DejaVuSans-67\"/>\n     <use x=\"303.90625\" xlink:href=\"#DejaVuSans-108\"/>\n     <use x=\"331.689453\" xlink:href=\"#DejaVuSans-97\"/>\n     <use x=\"392.96875\" xlink:href=\"#DejaVuSans-115\"/>\n     <use x=\"445.068359\" xlink:href=\"#DejaVuSans-115\"/>\n     <use x=\"497.167969\" xlink:href=\"#DejaVuSans-105\"/>\n     <use x=\"524.951172\" xlink:href=\"#DejaVuSans-102\"/>\n     <use x=\"560.15625\" xlink:href=\"#DejaVuSans-105\"/>\n     <use x=\"587.939453\" xlink:href=\"#DejaVuSans-101\"/>\n     <use x=\"649.462891\" xlink:href=\"#DejaVuSans-114\"/>\n     <use x=\"690.576172\" xlink:href=\"#DejaVuSans-32\"/>\n     <use x=\"722.363281\" xlink:href=\"#DejaVuSans-102\"/>\n     <use x=\"757.568359\" xlink:href=\"#DejaVuSans-111\"/>\n     <use x=\"818.75\" xlink:href=\"#DejaVuSans-114\"/>\n     <use x=\"859.863281\" xlink:href=\"#DejaVuSans-32\"/>\n     <use x=\"891.650391\" xlink:href=\"#DejaVuSans-83\"/>\n     <use x=\"955.126953\" xlink:href=\"#DejaVuSans-77\"/>\n     <use x=\"1041.40625\" xlink:href=\"#DejaVuSans-32\"/>\n     <use x=\"1073.193359\" xlink:href=\"#DejaVuSans-100\"/>\n     <use x=\"1136.669922\" xlink:href=\"#DejaVuSans-97\"/>\n     <use x=\"1197.949219\" xlink:href=\"#DejaVuSans-116\"/>\n     <use x=\"1237.158203\" xlink:href=\"#DejaVuSans-97\"/>\n    </g>\n   </g>\n   <g id=\"legend_1\">\n    <g id=\"patch_7\">\n     <path d=\"M 62.345313 234.758125 \nL 109.321875 234.758125 \nQ 111.321875 234.758125 111.321875 232.758125 \nL 111.321875 204.401875 \nQ 111.321875 202.401875 109.321875 202.401875 \nL 62.345313 202.401875 \nQ 60.345313 202.401875 60.345313 204.401875 \nL 60.345313 232.758125 \nQ 60.345313 234.758125 62.345313 234.758125 \nz\n\" style=\"fill:#ffffff;opacity:0.8;stroke:#cccccc;stroke-linejoin:miter;\"/>\n    </g>\n    <g id=\"LineCollection_3\">\n     <path d=\"M 74.345313 215.500312 \nL 74.345313 205.500312 \n\" style=\"fill:none;stroke:#1f77b4;stroke-width:1.5;\"/>\n    </g>\n    <g id=\"line2d_22\">\n     <g>\n      <use style=\"fill:#1f77b4;stroke:#1f77b4;\" x=\"74.345313\" xlink:href=\"#m457fbcc519\" y=\"215.500312\"/>\n     </g>\n    </g>\n    <g id=\"line2d_23\">\n     <g>\n      <use style=\"fill:#1f77b4;stroke:#1f77b4;\" x=\"74.345313\" xlink:href=\"#m457fbcc519\" y=\"205.500312\"/>\n     </g>\n    </g>\n    <g id=\"line2d_24\"/>\n    <g id=\"line2d_25\">\n     <g>\n      <use style=\"fill:#1f77b4;stroke:#1f77b4;\" x=\"74.345313\" xlink:href=\"#md4ce5bb05b\" y=\"210.500312\"/>\n     </g>\n    </g>\n    <g id=\"text_19\">\n     <!-- SM -->\n     <g transform=\"translate(92.345313 214.000312)scale(0.1 -0.1)\">\n      <use xlink:href=\"#DejaVuSans-83\"/>\n      <use x=\"63.476562\" xlink:href=\"#DejaVuSans-77\"/>\n     </g>\n    </g>\n    <g id=\"LineCollection_4\">\n     <path d=\"M 74.345313 230.178437 \nL 74.345313 220.178437 \n\" style=\"fill:none;stroke:#ff7f0e;stroke-width:1.5;\"/>\n    </g>\n    <g id=\"line2d_26\">\n     <g>\n      <use style=\"fill:#ff7f0e;stroke:#ff7f0e;\" x=\"74.345313\" xlink:href=\"#m5b914c5bc9\" y=\"230.178437\"/>\n     </g>\n    </g>\n    <g id=\"line2d_27\">\n     <g>\n      <use style=\"fill:#ff7f0e;stroke:#ff7f0e;\" x=\"74.345313\" xlink:href=\"#m5b914c5bc9\" y=\"220.178437\"/>\n     </g>\n    </g>\n    <g id=\"line2d_28\"/>\n    <g id=\"line2d_29\">\n     <g>\n      <use style=\"fill:#ff7f0e;stroke:#ff7f0e;\" x=\"74.345313\" xlink:href=\"#m7d1a2bdada\" y=\"225.178437\"/>\n     </g>\n    </g>\n    <g id=\"text_20\">\n     <!-- NP -->\n     <g transform=\"translate(92.345313 228.678437)scale(0.1 -0.1)\">\n      <defs>\n       <path d=\"M 9.8125 72.90625 \nL 23.09375 72.90625 \nL 55.421875 11.921875 \nL 55.421875 72.90625 \nL 64.984375 72.90625 \nL 64.984375 0 \nL 51.703125 0 \nL 19.390625 60.984375 \nL 19.390625 0 \nL 9.8125 0 \nz\n\" id=\"DejaVuSans-78\"/>\n      </defs>\n      <use xlink:href=\"#DejaVuSans-78\"/>\n      <use x=\"74.804688\" xlink:href=\"#DejaVuSans-80\"/>\n     </g>\n    </g>\n   </g>\n  </g>\n </g>\n <defs>\n  <clipPath id=\"p8341c34af1\">\n   <rect height=\"217.44\" width=\"334.8\" x=\"55.345313\" y=\"22.318125\"/>\n  </clipPath>\n </defs>\n</svg>\n",
      "text/plain": [
       "<Figure size 432x288 with 1 Axes>"
      ]
     },
     "metadata": {
      "needs_background": "light"
     },
     "output_type": "display_data"
    }
   ],
   "source": [
    "k_inverse_list =[]\n",
    "mean_0_list =[]\n",
    "mean_1_list =[]\n",
    "std_0_list =[]\n",
    "std_1_list =[]\n",
    "for k, ll_dict in log_likelihood_models.items():\n",
    "    k_inverse = le.inverse_transform([k])\n",
    "    if k_inverse == 0:\n",
    "        continue\n",
    "\n",
    "    mean_0 = np.mean(ll_dict[10])\n",
    "    mean_1 = np.mean(ll_dict[k])\n",
    "    std_0 = np.std(ll_dict[10])\n",
    "    std_1 = np.std(ll_dict[k])\n",
    "    # mean_0 = arr[:, 0].mean()\n",
    "    # mean_1 = arr[:, 1].mean()\n",
    "#     std_0 = arr[:, 0].std()\n",
    "#     std_1 = arr[:, 1].std()\n",
    "#     mean_0\n",
    "\n",
    "    k_inverse_list.append(k_inverse)\n",
    "    mean_0_list.append(mean_0)\n",
    "    mean_1_list.append(mean_1)\n",
    "    std_0_list.append(std_0)\n",
    "    std_1_list.append(std_1)\n",
    "\n",
    "plt.errorbar(k_inverse_list, mean_0_list, marker='.', yerr=std_0_list,c='tab:blue',ls='none', capsize=4,label='SM')\n",
    "plt.errorbar(k_inverse_list, mean_1_list, marker='.', yerr=std_1_list,c='tab:orange',ls='none', capsize=4,label='NP')\n",
    "plt.xlabel(\"C9 coef.\")\n",
    "plt.ylabel(\"Loglikelihood\")\n",
    "plt.title('MLP Classifier for SM data')\n",
    "plt.legend()\n",
    "plt.show()"
   ]
  },
  {
   "cell_type": "code",
   "execution_count": 240,
   "metadata": {},
   "outputs": [
    {
     "data": {
      "image/svg+xml": "<?xml version=\"1.0\" encoding=\"utf-8\" standalone=\"no\"?>\n<!DOCTYPE svg PUBLIC \"-//W3C//DTD SVG 1.1//EN\"\n  \"http://www.w3.org/Graphics/SVG/1.1/DTD/svg11.dtd\">\n<!-- Created with matplotlib (https://matplotlib.org/) -->\n<svg height=\"277.314375pt\" version=\"1.1\" viewBox=\"0 0 403.707812 277.314375\" width=\"403.707812pt\" xmlns=\"http://www.w3.org/2000/svg\" xmlns:xlink=\"http://www.w3.org/1999/xlink\">\n <metadata>\n  <rdf:RDF xmlns:cc=\"http://creativecommons.org/ns#\" xmlns:dc=\"http://purl.org/dc/elements/1.1/\" xmlns:rdf=\"http://www.w3.org/1999/02/22-rdf-syntax-ns#\">\n   <cc:Work>\n    <dc:type rdf:resource=\"http://purl.org/dc/dcmitype/StillImage\"/>\n    <dc:date>2022-02-16T13:08:25.845700</dc:date>\n    <dc:format>image/svg+xml</dc:format>\n    <dc:creator>\n     <cc:Agent>\n      <dc:title>Matplotlib v3.3.2, https://matplotlib.org/</dc:title>\n     </cc:Agent>\n    </dc:creator>\n   </cc:Work>\n  </rdf:RDF>\n </metadata>\n <defs>\n  <style type=\"text/css\">*{stroke-linecap:butt;stroke-linejoin:round;}</style>\n </defs>\n <g id=\"figure_1\">\n  <g id=\"patch_1\">\n   <path d=\"M 0 277.314375 \nL 403.707812 277.314375 \nL 403.707812 0 \nL 0 0 \nz\n\" style=\"fill:none;\"/>\n  </g>\n  <g id=\"axes_1\">\n   <g id=\"patch_2\">\n    <path d=\"M 61.707813 239.758125 \nL 396.507812 239.758125 \nL 396.507812 22.318125 \nL 61.707813 22.318125 \nz\n\" style=\"fill:#ffffff;\"/>\n   </g>\n   <g id=\"matplotlib.axis_1\">\n    <g id=\"xtick_1\">\n     <g id=\"line2d_1\">\n      <defs>\n       <path d=\"M 0 0 \nL 0 3.5 \n\" id=\"m563ad0d93d\" style=\"stroke:#000000;stroke-width:0.8;\"/>\n      </defs>\n      <g>\n       <use style=\"stroke:#000000;stroke-width:0.8;\" x=\"76.925994\" xlink:href=\"#m563ad0d93d\" y=\"239.758125\"/>\n      </g>\n     </g>\n     <g id=\"text_1\">\n      <!-- −1.00 -->\n      <g transform=\"translate(61.603338 254.356562)scale(0.1 -0.1)\">\n       <defs>\n        <path d=\"M 10.59375 35.5 \nL 73.1875 35.5 \nL 73.1875 27.203125 \nL 10.59375 27.203125 \nz\n\" id=\"DejaVuSans-8722\"/>\n        <path d=\"M 12.40625 8.296875 \nL 28.515625 8.296875 \nL 28.515625 63.921875 \nL 10.984375 60.40625 \nL 10.984375 69.390625 \nL 28.421875 72.90625 \nL 38.28125 72.90625 \nL 38.28125 8.296875 \nL 54.390625 8.296875 \nL 54.390625 0 \nL 12.40625 0 \nz\n\" id=\"DejaVuSans-49\"/>\n        <path d=\"M 10.6875 12.40625 \nL 21 12.40625 \nL 21 0 \nL 10.6875 0 \nz\n\" id=\"DejaVuSans-46\"/>\n        <path d=\"M 31.78125 66.40625 \nQ 24.171875 66.40625 20.328125 58.90625 \nQ 16.5 51.421875 16.5 36.375 \nQ 16.5 21.390625 20.328125 13.890625 \nQ 24.171875 6.390625 31.78125 6.390625 \nQ 39.453125 6.390625 43.28125 13.890625 \nQ 47.125 21.390625 47.125 36.375 \nQ 47.125 51.421875 43.28125 58.90625 \nQ 39.453125 66.40625 31.78125 66.40625 \nz\nM 31.78125 74.21875 \nQ 44.046875 74.21875 50.515625 64.515625 \nQ 56.984375 54.828125 56.984375 36.375 \nQ 56.984375 17.96875 50.515625 8.265625 \nQ 44.046875 -1.421875 31.78125 -1.421875 \nQ 19.53125 -1.421875 13.0625 8.265625 \nQ 6.59375 17.96875 6.59375 36.375 \nQ 6.59375 54.828125 13.0625 64.515625 \nQ 19.53125 74.21875 31.78125 74.21875 \nz\n\" id=\"DejaVuSans-48\"/>\n       </defs>\n       <use xlink:href=\"#DejaVuSans-8722\"/>\n       <use x=\"83.789062\" xlink:href=\"#DejaVuSans-49\"/>\n       <use x=\"147.412109\" xlink:href=\"#DejaVuSans-46\"/>\n       <use x=\"179.199219\" xlink:href=\"#DejaVuSans-48\"/>\n       <use x=\"242.822266\" xlink:href=\"#DejaVuSans-48\"/>\n      </g>\n     </g>\n    </g>\n    <g id=\"xtick_2\">\n     <g id=\"line2d_2\">\n      <g>\n       <use style=\"stroke:#000000;stroke-width:0.8;\" x=\"114.971449\" xlink:href=\"#m563ad0d93d\" y=\"239.758125\"/>\n      </g>\n     </g>\n     <g id=\"text_2\">\n      <!-- −0.75 -->\n      <g transform=\"translate(99.648793 254.356562)scale(0.1 -0.1)\">\n       <defs>\n        <path d=\"M 8.203125 72.90625 \nL 55.078125 72.90625 \nL 55.078125 68.703125 \nL 28.609375 0 \nL 18.3125 0 \nL 43.21875 64.59375 \nL 8.203125 64.59375 \nz\n\" id=\"DejaVuSans-55\"/>\n        <path d=\"M 10.796875 72.90625 \nL 49.515625 72.90625 \nL 49.515625 64.59375 \nL 19.828125 64.59375 \nL 19.828125 46.734375 \nQ 21.96875 47.46875 24.109375 47.828125 \nQ 26.265625 48.1875 28.421875 48.1875 \nQ 40.625 48.1875 47.75 41.5 \nQ 54.890625 34.8125 54.890625 23.390625 \nQ 54.890625 11.625 47.5625 5.09375 \nQ 40.234375 -1.421875 26.90625 -1.421875 \nQ 22.3125 -1.421875 17.546875 -0.640625 \nQ 12.796875 0.140625 7.71875 1.703125 \nL 7.71875 11.625 \nQ 12.109375 9.234375 16.796875 8.0625 \nQ 21.484375 6.890625 26.703125 6.890625 \nQ 35.15625 6.890625 40.078125 11.328125 \nQ 45.015625 15.765625 45.015625 23.390625 \nQ 45.015625 31 40.078125 35.4375 \nQ 35.15625 39.890625 26.703125 39.890625 \nQ 22.75 39.890625 18.8125 39.015625 \nQ 14.890625 38.140625 10.796875 36.28125 \nz\n\" id=\"DejaVuSans-53\"/>\n       </defs>\n       <use xlink:href=\"#DejaVuSans-8722\"/>\n       <use x=\"83.789062\" xlink:href=\"#DejaVuSans-48\"/>\n       <use x=\"147.412109\" xlink:href=\"#DejaVuSans-46\"/>\n       <use x=\"179.199219\" xlink:href=\"#DejaVuSans-55\"/>\n       <use x=\"242.822266\" xlink:href=\"#DejaVuSans-53\"/>\n      </g>\n     </g>\n    </g>\n    <g id=\"xtick_3\">\n     <g id=\"line2d_3\">\n      <g>\n       <use style=\"stroke:#000000;stroke-width:0.8;\" x=\"153.016903\" xlink:href=\"#m563ad0d93d\" y=\"239.758125\"/>\n      </g>\n     </g>\n     <g id=\"text_3\">\n      <!-- −0.50 -->\n      <g transform=\"translate(137.694247 254.356562)scale(0.1 -0.1)\">\n       <use xlink:href=\"#DejaVuSans-8722\"/>\n       <use x=\"83.789062\" xlink:href=\"#DejaVuSans-48\"/>\n       <use x=\"147.412109\" xlink:href=\"#DejaVuSans-46\"/>\n       <use x=\"179.199219\" xlink:href=\"#DejaVuSans-53\"/>\n       <use x=\"242.822266\" xlink:href=\"#DejaVuSans-48\"/>\n      </g>\n     </g>\n    </g>\n    <g id=\"xtick_4\">\n     <g id=\"line2d_4\">\n      <g>\n       <use style=\"stroke:#000000;stroke-width:0.8;\" x=\"191.062358\" xlink:href=\"#m563ad0d93d\" y=\"239.758125\"/>\n      </g>\n     </g>\n     <g id=\"text_4\">\n      <!-- −0.25 -->\n      <g transform=\"translate(175.739702 254.356562)scale(0.1 -0.1)\">\n       <defs>\n        <path d=\"M 19.1875 8.296875 \nL 53.609375 8.296875 \nL 53.609375 0 \nL 7.328125 0 \nL 7.328125 8.296875 \nQ 12.9375 14.109375 22.625 23.890625 \nQ 32.328125 33.6875 34.8125 36.53125 \nQ 39.546875 41.84375 41.421875 45.53125 \nQ 43.3125 49.21875 43.3125 52.78125 \nQ 43.3125 58.59375 39.234375 62.25 \nQ 35.15625 65.921875 28.609375 65.921875 \nQ 23.96875 65.921875 18.8125 64.3125 \nQ 13.671875 62.703125 7.8125 59.421875 \nL 7.8125 69.390625 \nQ 13.765625 71.78125 18.9375 73 \nQ 24.125 74.21875 28.421875 74.21875 \nQ 39.75 74.21875 46.484375 68.546875 \nQ 53.21875 62.890625 53.21875 53.421875 \nQ 53.21875 48.921875 51.53125 44.890625 \nQ 49.859375 40.875 45.40625 35.40625 \nQ 44.1875 33.984375 37.640625 27.21875 \nQ 31.109375 20.453125 19.1875 8.296875 \nz\n\" id=\"DejaVuSans-50\"/>\n       </defs>\n       <use xlink:href=\"#DejaVuSans-8722\"/>\n       <use x=\"83.789062\" xlink:href=\"#DejaVuSans-48\"/>\n       <use x=\"147.412109\" xlink:href=\"#DejaVuSans-46\"/>\n       <use x=\"179.199219\" xlink:href=\"#DejaVuSans-50\"/>\n       <use x=\"242.822266\" xlink:href=\"#DejaVuSans-53\"/>\n      </g>\n     </g>\n    </g>\n    <g id=\"xtick_5\">\n     <g id=\"line2d_5\">\n      <g>\n       <use style=\"stroke:#000000;stroke-width:0.8;\" x=\"229.107813\" xlink:href=\"#m563ad0d93d\" y=\"239.758125\"/>\n      </g>\n     </g>\n     <g id=\"text_5\">\n      <!-- 0.00 -->\n      <g transform=\"translate(217.975 254.356562)scale(0.1 -0.1)\">\n       <use xlink:href=\"#DejaVuSans-48\"/>\n       <use x=\"63.623047\" xlink:href=\"#DejaVuSans-46\"/>\n       <use x=\"95.410156\" xlink:href=\"#DejaVuSans-48\"/>\n       <use x=\"159.033203\" xlink:href=\"#DejaVuSans-48\"/>\n      </g>\n     </g>\n    </g>\n    <g id=\"xtick_6\">\n     <g id=\"line2d_6\">\n      <g>\n       <use style=\"stroke:#000000;stroke-width:0.8;\" x=\"267.153267\" xlink:href=\"#m563ad0d93d\" y=\"239.758125\"/>\n      </g>\n     </g>\n     <g id=\"text_6\">\n      <!-- 0.25 -->\n      <g transform=\"translate(256.020455 254.356562)scale(0.1 -0.1)\">\n       <use xlink:href=\"#DejaVuSans-48\"/>\n       <use x=\"63.623047\" xlink:href=\"#DejaVuSans-46\"/>\n       <use x=\"95.410156\" xlink:href=\"#DejaVuSans-50\"/>\n       <use x=\"159.033203\" xlink:href=\"#DejaVuSans-53\"/>\n      </g>\n     </g>\n    </g>\n    <g id=\"xtick_7\">\n     <g id=\"line2d_7\">\n      <g>\n       <use style=\"stroke:#000000;stroke-width:0.8;\" x=\"305.198722\" xlink:href=\"#m563ad0d93d\" y=\"239.758125\"/>\n      </g>\n     </g>\n     <g id=\"text_7\">\n      <!-- 0.50 -->\n      <g transform=\"translate(294.065909 254.356562)scale(0.1 -0.1)\">\n       <use xlink:href=\"#DejaVuSans-48\"/>\n       <use x=\"63.623047\" xlink:href=\"#DejaVuSans-46\"/>\n       <use x=\"95.410156\" xlink:href=\"#DejaVuSans-53\"/>\n       <use x=\"159.033203\" xlink:href=\"#DejaVuSans-48\"/>\n      </g>\n     </g>\n    </g>\n    <g id=\"xtick_8\">\n     <g id=\"line2d_8\">\n      <g>\n       <use style=\"stroke:#000000;stroke-width:0.8;\" x=\"343.244176\" xlink:href=\"#m563ad0d93d\" y=\"239.758125\"/>\n      </g>\n     </g>\n     <g id=\"text_8\">\n      <!-- 0.75 -->\n      <g transform=\"translate(332.111364 254.356562)scale(0.1 -0.1)\">\n       <use xlink:href=\"#DejaVuSans-48\"/>\n       <use x=\"63.623047\" xlink:href=\"#DejaVuSans-46\"/>\n       <use x=\"95.410156\" xlink:href=\"#DejaVuSans-55\"/>\n       <use x=\"159.033203\" xlink:href=\"#DejaVuSans-53\"/>\n      </g>\n     </g>\n    </g>\n    <g id=\"xtick_9\">\n     <g id=\"line2d_9\">\n      <g>\n       <use style=\"stroke:#000000;stroke-width:0.8;\" x=\"381.289631\" xlink:href=\"#m563ad0d93d\" y=\"239.758125\"/>\n      </g>\n     </g>\n     <g id=\"text_9\">\n      <!-- 1.00 -->\n      <g transform=\"translate(370.156818 254.356562)scale(0.1 -0.1)\">\n       <use xlink:href=\"#DejaVuSans-49\"/>\n       <use x=\"63.623047\" xlink:href=\"#DejaVuSans-46\"/>\n       <use x=\"95.410156\" xlink:href=\"#DejaVuSans-48\"/>\n       <use x=\"159.033203\" xlink:href=\"#DejaVuSans-48\"/>\n      </g>\n     </g>\n    </g>\n    <g id=\"text_10\">\n     <!-- C9 coef. -->\n     <g transform=\"translate(208.974219 268.034687)scale(0.1 -0.1)\">\n      <defs>\n       <path d=\"M 64.40625 67.28125 \nL 64.40625 56.890625 \nQ 59.421875 61.53125 53.78125 63.8125 \nQ 48.140625 66.109375 41.796875 66.109375 \nQ 29.296875 66.109375 22.65625 58.46875 \nQ 16.015625 50.828125 16.015625 36.375 \nQ 16.015625 21.96875 22.65625 14.328125 \nQ 29.296875 6.6875 41.796875 6.6875 \nQ 48.140625 6.6875 53.78125 8.984375 \nQ 59.421875 11.28125 64.40625 15.921875 \nL 64.40625 5.609375 \nQ 59.234375 2.09375 53.4375 0.328125 \nQ 47.65625 -1.421875 41.21875 -1.421875 \nQ 24.65625 -1.421875 15.125 8.703125 \nQ 5.609375 18.84375 5.609375 36.375 \nQ 5.609375 53.953125 15.125 64.078125 \nQ 24.65625 74.21875 41.21875 74.21875 \nQ 47.75 74.21875 53.53125 72.484375 \nQ 59.328125 70.75 64.40625 67.28125 \nz\n\" id=\"DejaVuSans-67\"/>\n       <path d=\"M 10.984375 1.515625 \nL 10.984375 10.5 \nQ 14.703125 8.734375 18.5 7.8125 \nQ 22.3125 6.890625 25.984375 6.890625 \nQ 35.75 6.890625 40.890625 13.453125 \nQ 46.046875 20.015625 46.78125 33.40625 \nQ 43.953125 29.203125 39.59375 26.953125 \nQ 35.25 24.703125 29.984375 24.703125 \nQ 19.046875 24.703125 12.671875 31.3125 \nQ 6.296875 37.9375 6.296875 49.421875 \nQ 6.296875 60.640625 12.9375 67.421875 \nQ 19.578125 74.21875 30.609375 74.21875 \nQ 43.265625 74.21875 49.921875 64.515625 \nQ 56.59375 54.828125 56.59375 36.375 \nQ 56.59375 19.140625 48.40625 8.859375 \nQ 40.234375 -1.421875 26.421875 -1.421875 \nQ 22.703125 -1.421875 18.890625 -0.6875 \nQ 15.09375 0.046875 10.984375 1.515625 \nz\nM 30.609375 32.421875 \nQ 37.25 32.421875 41.125 36.953125 \nQ 45.015625 41.5 45.015625 49.421875 \nQ 45.015625 57.28125 41.125 61.84375 \nQ 37.25 66.40625 30.609375 66.40625 \nQ 23.96875 66.40625 20.09375 61.84375 \nQ 16.21875 57.28125 16.21875 49.421875 \nQ 16.21875 41.5 20.09375 36.953125 \nQ 23.96875 32.421875 30.609375 32.421875 \nz\n\" id=\"DejaVuSans-57\"/>\n       <path id=\"DejaVuSans-32\"/>\n       <path d=\"M 48.78125 52.59375 \nL 48.78125 44.1875 \nQ 44.96875 46.296875 41.140625 47.34375 \nQ 37.3125 48.390625 33.40625 48.390625 \nQ 24.65625 48.390625 19.8125 42.84375 \nQ 14.984375 37.3125 14.984375 27.296875 \nQ 14.984375 17.28125 19.8125 11.734375 \nQ 24.65625 6.203125 33.40625 6.203125 \nQ 37.3125 6.203125 41.140625 7.25 \nQ 44.96875 8.296875 48.78125 10.40625 \nL 48.78125 2.09375 \nQ 45.015625 0.34375 40.984375 -0.53125 \nQ 36.96875 -1.421875 32.421875 -1.421875 \nQ 20.0625 -1.421875 12.78125 6.34375 \nQ 5.515625 14.109375 5.515625 27.296875 \nQ 5.515625 40.671875 12.859375 48.328125 \nQ 20.21875 56 33.015625 56 \nQ 37.15625 56 41.109375 55.140625 \nQ 45.0625 54.296875 48.78125 52.59375 \nz\n\" id=\"DejaVuSans-99\"/>\n       <path d=\"M 30.609375 48.390625 \nQ 23.390625 48.390625 19.1875 42.75 \nQ 14.984375 37.109375 14.984375 27.296875 \nQ 14.984375 17.484375 19.15625 11.84375 \nQ 23.34375 6.203125 30.609375 6.203125 \nQ 37.796875 6.203125 41.984375 11.859375 \nQ 46.1875 17.53125 46.1875 27.296875 \nQ 46.1875 37.015625 41.984375 42.703125 \nQ 37.796875 48.390625 30.609375 48.390625 \nz\nM 30.609375 56 \nQ 42.328125 56 49.015625 48.375 \nQ 55.71875 40.765625 55.71875 27.296875 \nQ 55.71875 13.875 49.015625 6.21875 \nQ 42.328125 -1.421875 30.609375 -1.421875 \nQ 18.84375 -1.421875 12.171875 6.21875 \nQ 5.515625 13.875 5.515625 27.296875 \nQ 5.515625 40.765625 12.171875 48.375 \nQ 18.84375 56 30.609375 56 \nz\n\" id=\"DejaVuSans-111\"/>\n       <path d=\"M 56.203125 29.59375 \nL 56.203125 25.203125 \nL 14.890625 25.203125 \nQ 15.484375 15.921875 20.484375 11.0625 \nQ 25.484375 6.203125 34.421875 6.203125 \nQ 39.59375 6.203125 44.453125 7.46875 \nQ 49.3125 8.734375 54.109375 11.28125 \nL 54.109375 2.78125 \nQ 49.265625 0.734375 44.1875 -0.34375 \nQ 39.109375 -1.421875 33.890625 -1.421875 \nQ 20.796875 -1.421875 13.15625 6.1875 \nQ 5.515625 13.8125 5.515625 26.8125 \nQ 5.515625 40.234375 12.765625 48.109375 \nQ 20.015625 56 32.328125 56 \nQ 43.359375 56 49.78125 48.890625 \nQ 56.203125 41.796875 56.203125 29.59375 \nz\nM 47.21875 32.234375 \nQ 47.125 39.59375 43.09375 43.984375 \nQ 39.0625 48.390625 32.421875 48.390625 \nQ 24.90625 48.390625 20.390625 44.140625 \nQ 15.875 39.890625 15.1875 32.171875 \nz\n\" id=\"DejaVuSans-101\"/>\n       <path d=\"M 37.109375 75.984375 \nL 37.109375 68.5 \nL 28.515625 68.5 \nQ 23.6875 68.5 21.796875 66.546875 \nQ 19.921875 64.59375 19.921875 59.515625 \nL 19.921875 54.6875 \nL 34.71875 54.6875 \nL 34.71875 47.703125 \nL 19.921875 47.703125 \nL 19.921875 0 \nL 10.890625 0 \nL 10.890625 47.703125 \nL 2.296875 47.703125 \nL 2.296875 54.6875 \nL 10.890625 54.6875 \nL 10.890625 58.5 \nQ 10.890625 67.625 15.140625 71.796875 \nQ 19.390625 75.984375 28.609375 75.984375 \nz\n\" id=\"DejaVuSans-102\"/>\n      </defs>\n      <use xlink:href=\"#DejaVuSans-67\"/>\n      <use x=\"69.824219\" xlink:href=\"#DejaVuSans-57\"/>\n      <use x=\"133.447266\" xlink:href=\"#DejaVuSans-32\"/>\n      <use x=\"165.234375\" xlink:href=\"#DejaVuSans-99\"/>\n      <use x=\"220.214844\" xlink:href=\"#DejaVuSans-111\"/>\n      <use x=\"281.396484\" xlink:href=\"#DejaVuSans-101\"/>\n      <use x=\"342.919922\" xlink:href=\"#DejaVuSans-102\"/>\n      <use x=\"370.875\" xlink:href=\"#DejaVuSans-46\"/>\n     </g>\n    </g>\n   </g>\n   <g id=\"matplotlib.axis_2\">\n    <g id=\"ytick_1\">\n     <g id=\"line2d_10\">\n      <defs>\n       <path d=\"M 0 0 \nL -3.5 0 \n\" id=\"m8c73590624\" style=\"stroke:#000000;stroke-width:0.8;\"/>\n      </defs>\n      <g>\n       <use style=\"stroke:#000000;stroke-width:0.8;\" x=\"61.707813\" xlink:href=\"#m8c73590624\" y=\"214.793117\"/>\n      </g>\n     </g>\n     <g id=\"text_11\">\n      <!-- −1200 -->\n      <g transform=\"translate(20.878125 218.592336)scale(0.1 -0.1)\">\n       <use xlink:href=\"#DejaVuSans-8722\"/>\n       <use x=\"83.789062\" xlink:href=\"#DejaVuSans-49\"/>\n       <use x=\"147.412109\" xlink:href=\"#DejaVuSans-50\"/>\n       <use x=\"211.035156\" xlink:href=\"#DejaVuSans-48\"/>\n       <use x=\"274.658203\" xlink:href=\"#DejaVuSans-48\"/>\n      </g>\n     </g>\n    </g>\n    <g id=\"ytick_2\">\n     <g id=\"line2d_11\">\n      <g>\n       <use style=\"stroke:#000000;stroke-width:0.8;\" x=\"61.707813\" xlink:href=\"#m8c73590624\" y=\"172.723539\"/>\n      </g>\n     </g>\n     <g id=\"text_12\">\n      <!-- −1000 -->\n      <g transform=\"translate(20.878125 176.522757)scale(0.1 -0.1)\">\n       <use xlink:href=\"#DejaVuSans-8722\"/>\n       <use x=\"83.789062\" xlink:href=\"#DejaVuSans-49\"/>\n       <use x=\"147.412109\" xlink:href=\"#DejaVuSans-48\"/>\n       <use x=\"211.035156\" xlink:href=\"#DejaVuSans-48\"/>\n       <use x=\"274.658203\" xlink:href=\"#DejaVuSans-48\"/>\n      </g>\n     </g>\n    </g>\n    <g id=\"ytick_3\">\n     <g id=\"line2d_12\">\n      <g>\n       <use style=\"stroke:#000000;stroke-width:0.8;\" x=\"61.707813\" xlink:href=\"#m8c73590624\" y=\"130.65396\"/>\n      </g>\n     </g>\n     <g id=\"text_13\">\n      <!-- −800 -->\n      <g transform=\"translate(27.240625 134.453179)scale(0.1 -0.1)\">\n       <defs>\n        <path d=\"M 31.78125 34.625 \nQ 24.75 34.625 20.71875 30.859375 \nQ 16.703125 27.09375 16.703125 20.515625 \nQ 16.703125 13.921875 20.71875 10.15625 \nQ 24.75 6.390625 31.78125 6.390625 \nQ 38.8125 6.390625 42.859375 10.171875 \nQ 46.921875 13.96875 46.921875 20.515625 \nQ 46.921875 27.09375 42.890625 30.859375 \nQ 38.875 34.625 31.78125 34.625 \nz\nM 21.921875 38.8125 \nQ 15.578125 40.375 12.03125 44.71875 \nQ 8.5 49.078125 8.5 55.328125 \nQ 8.5 64.0625 14.71875 69.140625 \nQ 20.953125 74.21875 31.78125 74.21875 \nQ 42.671875 74.21875 48.875 69.140625 \nQ 55.078125 64.0625 55.078125 55.328125 \nQ 55.078125 49.078125 51.53125 44.71875 \nQ 48 40.375 41.703125 38.8125 \nQ 48.828125 37.15625 52.796875 32.3125 \nQ 56.78125 27.484375 56.78125 20.515625 \nQ 56.78125 9.90625 50.3125 4.234375 \nQ 43.84375 -1.421875 31.78125 -1.421875 \nQ 19.734375 -1.421875 13.25 4.234375 \nQ 6.78125 9.90625 6.78125 20.515625 \nQ 6.78125 27.484375 10.78125 32.3125 \nQ 14.796875 37.15625 21.921875 38.8125 \nz\nM 18.3125 54.390625 \nQ 18.3125 48.734375 21.84375 45.5625 \nQ 25.390625 42.390625 31.78125 42.390625 \nQ 38.140625 42.390625 41.71875 45.5625 \nQ 45.3125 48.734375 45.3125 54.390625 \nQ 45.3125 60.0625 41.71875 63.234375 \nQ 38.140625 66.40625 31.78125 66.40625 \nQ 25.390625 66.40625 21.84375 63.234375 \nQ 18.3125 60.0625 18.3125 54.390625 \nz\n\" id=\"DejaVuSans-56\"/>\n       </defs>\n       <use xlink:href=\"#DejaVuSans-8722\"/>\n       <use x=\"83.789062\" xlink:href=\"#DejaVuSans-56\"/>\n       <use x=\"147.412109\" xlink:href=\"#DejaVuSans-48\"/>\n       <use x=\"211.035156\" xlink:href=\"#DejaVuSans-48\"/>\n      </g>\n     </g>\n    </g>\n    <g id=\"ytick_4\">\n     <g id=\"line2d_13\">\n      <g>\n       <use style=\"stroke:#000000;stroke-width:0.8;\" x=\"61.707813\" xlink:href=\"#m8c73590624\" y=\"88.584382\"/>\n      </g>\n     </g>\n     <g id=\"text_14\">\n      <!-- −600 -->\n      <g transform=\"translate(27.240625 92.3836)scale(0.1 -0.1)\">\n       <defs>\n        <path d=\"M 33.015625 40.375 \nQ 26.375 40.375 22.484375 35.828125 \nQ 18.609375 31.296875 18.609375 23.390625 \nQ 18.609375 15.53125 22.484375 10.953125 \nQ 26.375 6.390625 33.015625 6.390625 \nQ 39.65625 6.390625 43.53125 10.953125 \nQ 47.40625 15.53125 47.40625 23.390625 \nQ 47.40625 31.296875 43.53125 35.828125 \nQ 39.65625 40.375 33.015625 40.375 \nz\nM 52.59375 71.296875 \nL 52.59375 62.3125 \nQ 48.875 64.0625 45.09375 64.984375 \nQ 41.3125 65.921875 37.59375 65.921875 \nQ 27.828125 65.921875 22.671875 59.328125 \nQ 17.53125 52.734375 16.796875 39.40625 \nQ 19.671875 43.65625 24.015625 45.921875 \nQ 28.375 48.1875 33.59375 48.1875 \nQ 44.578125 48.1875 50.953125 41.515625 \nQ 57.328125 34.859375 57.328125 23.390625 \nQ 57.328125 12.15625 50.6875 5.359375 \nQ 44.046875 -1.421875 33.015625 -1.421875 \nQ 20.359375 -1.421875 13.671875 8.265625 \nQ 6.984375 17.96875 6.984375 36.375 \nQ 6.984375 53.65625 15.1875 63.9375 \nQ 23.390625 74.21875 37.203125 74.21875 \nQ 40.921875 74.21875 44.703125 73.484375 \nQ 48.484375 72.75 52.59375 71.296875 \nz\n\" id=\"DejaVuSans-54\"/>\n       </defs>\n       <use xlink:href=\"#DejaVuSans-8722\"/>\n       <use x=\"83.789062\" xlink:href=\"#DejaVuSans-54\"/>\n       <use x=\"147.412109\" xlink:href=\"#DejaVuSans-48\"/>\n       <use x=\"211.035156\" xlink:href=\"#DejaVuSans-48\"/>\n      </g>\n     </g>\n    </g>\n    <g id=\"ytick_5\">\n     <g id=\"line2d_14\">\n      <g>\n       <use style=\"stroke:#000000;stroke-width:0.8;\" x=\"61.707813\" xlink:href=\"#m8c73590624\" y=\"46.514803\"/>\n      </g>\n     </g>\n     <g id=\"text_15\">\n      <!-- −400 -->\n      <g transform=\"translate(27.240625 50.314022)scale(0.1 -0.1)\">\n       <defs>\n        <path d=\"M 37.796875 64.3125 \nL 12.890625 25.390625 \nL 37.796875 25.390625 \nz\nM 35.203125 72.90625 \nL 47.609375 72.90625 \nL 47.609375 25.390625 \nL 58.015625 25.390625 \nL 58.015625 17.1875 \nL 47.609375 17.1875 \nL 47.609375 0 \nL 37.796875 0 \nL 37.796875 17.1875 \nL 4.890625 17.1875 \nL 4.890625 26.703125 \nz\n\" id=\"DejaVuSans-52\"/>\n       </defs>\n       <use xlink:href=\"#DejaVuSans-8722\"/>\n       <use x=\"83.789062\" xlink:href=\"#DejaVuSans-52\"/>\n       <use x=\"147.412109\" xlink:href=\"#DejaVuSans-48\"/>\n       <use x=\"211.035156\" xlink:href=\"#DejaVuSans-48\"/>\n      </g>\n     </g>\n    </g>\n    <g id=\"text_16\">\n     <!-- Loglikelihood -->\n     <g transform=\"translate(14.798438 163.77875)rotate(-90)scale(0.1 -0.1)\">\n      <defs>\n       <path d=\"M 9.8125 72.90625 \nL 19.671875 72.90625 \nL 19.671875 8.296875 \nL 55.171875 8.296875 \nL 55.171875 0 \nL 9.8125 0 \nz\n\" id=\"DejaVuSans-76\"/>\n       <path d=\"M 45.40625 27.984375 \nQ 45.40625 37.75 41.375 43.109375 \nQ 37.359375 48.484375 30.078125 48.484375 \nQ 22.859375 48.484375 18.828125 43.109375 \nQ 14.796875 37.75 14.796875 27.984375 \nQ 14.796875 18.265625 18.828125 12.890625 \nQ 22.859375 7.515625 30.078125 7.515625 \nQ 37.359375 7.515625 41.375 12.890625 \nQ 45.40625 18.265625 45.40625 27.984375 \nz\nM 54.390625 6.78125 \nQ 54.390625 -7.171875 48.1875 -13.984375 \nQ 42 -20.796875 29.203125 -20.796875 \nQ 24.46875 -20.796875 20.265625 -20.09375 \nQ 16.0625 -19.390625 12.109375 -17.921875 \nL 12.109375 -9.1875 \nQ 16.0625 -11.328125 19.921875 -12.34375 \nQ 23.78125 -13.375 27.78125 -13.375 \nQ 36.625 -13.375 41.015625 -8.765625 \nQ 45.40625 -4.15625 45.40625 5.171875 \nL 45.40625 9.625 \nQ 42.625 4.78125 38.28125 2.390625 \nQ 33.9375 0 27.875 0 \nQ 17.828125 0 11.671875 7.65625 \nQ 5.515625 15.328125 5.515625 27.984375 \nQ 5.515625 40.671875 11.671875 48.328125 \nQ 17.828125 56 27.875 56 \nQ 33.9375 56 38.28125 53.609375 \nQ 42.625 51.21875 45.40625 46.390625 \nL 45.40625 54.6875 \nL 54.390625 54.6875 \nz\n\" id=\"DejaVuSans-103\"/>\n       <path d=\"M 9.421875 75.984375 \nL 18.40625 75.984375 \nL 18.40625 0 \nL 9.421875 0 \nz\n\" id=\"DejaVuSans-108\"/>\n       <path d=\"M 9.421875 54.6875 \nL 18.40625 54.6875 \nL 18.40625 0 \nL 9.421875 0 \nz\nM 9.421875 75.984375 \nL 18.40625 75.984375 \nL 18.40625 64.59375 \nL 9.421875 64.59375 \nz\n\" id=\"DejaVuSans-105\"/>\n       <path d=\"M 9.078125 75.984375 \nL 18.109375 75.984375 \nL 18.109375 31.109375 \nL 44.921875 54.6875 \nL 56.390625 54.6875 \nL 27.390625 29.109375 \nL 57.625 0 \nL 45.90625 0 \nL 18.109375 26.703125 \nL 18.109375 0 \nL 9.078125 0 \nz\n\" id=\"DejaVuSans-107\"/>\n       <path d=\"M 54.890625 33.015625 \nL 54.890625 0 \nL 45.90625 0 \nL 45.90625 32.71875 \nQ 45.90625 40.484375 42.875 44.328125 \nQ 39.84375 48.1875 33.796875 48.1875 \nQ 26.515625 48.1875 22.3125 43.546875 \nQ 18.109375 38.921875 18.109375 30.90625 \nL 18.109375 0 \nL 9.078125 0 \nL 9.078125 75.984375 \nL 18.109375 75.984375 \nL 18.109375 46.1875 \nQ 21.34375 51.125 25.703125 53.5625 \nQ 30.078125 56 35.796875 56 \nQ 45.21875 56 50.046875 50.171875 \nQ 54.890625 44.34375 54.890625 33.015625 \nz\n\" id=\"DejaVuSans-104\"/>\n       <path d=\"M 45.40625 46.390625 \nL 45.40625 75.984375 \nL 54.390625 75.984375 \nL 54.390625 0 \nL 45.40625 0 \nL 45.40625 8.203125 \nQ 42.578125 3.328125 38.25 0.953125 \nQ 33.9375 -1.421875 27.875 -1.421875 \nQ 17.96875 -1.421875 11.734375 6.484375 \nQ 5.515625 14.40625 5.515625 27.296875 \nQ 5.515625 40.1875 11.734375 48.09375 \nQ 17.96875 56 27.875 56 \nQ 33.9375 56 38.25 53.625 \nQ 42.578125 51.265625 45.40625 46.390625 \nz\nM 14.796875 27.296875 \nQ 14.796875 17.390625 18.875 11.75 \nQ 22.953125 6.109375 30.078125 6.109375 \nQ 37.203125 6.109375 41.296875 11.75 \nQ 45.40625 17.390625 45.40625 27.296875 \nQ 45.40625 37.203125 41.296875 42.84375 \nQ 37.203125 48.484375 30.078125 48.484375 \nQ 22.953125 48.484375 18.875 42.84375 \nQ 14.796875 37.203125 14.796875 27.296875 \nz\n\" id=\"DejaVuSans-100\"/>\n      </defs>\n      <use xlink:href=\"#DejaVuSans-76\"/>\n      <use x=\"53.962891\" xlink:href=\"#DejaVuSans-111\"/>\n      <use x=\"115.144531\" xlink:href=\"#DejaVuSans-103\"/>\n      <use x=\"178.621094\" xlink:href=\"#DejaVuSans-108\"/>\n      <use x=\"206.404297\" xlink:href=\"#DejaVuSans-105\"/>\n      <use x=\"234.1875\" xlink:href=\"#DejaVuSans-107\"/>\n      <use x=\"288.472656\" xlink:href=\"#DejaVuSans-101\"/>\n      <use x=\"349.996094\" xlink:href=\"#DejaVuSans-108\"/>\n      <use x=\"377.779297\" xlink:href=\"#DejaVuSans-105\"/>\n      <use x=\"405.5625\" xlink:href=\"#DejaVuSans-104\"/>\n      <use x=\"468.941406\" xlink:href=\"#DejaVuSans-111\"/>\n      <use x=\"530.123047\" xlink:href=\"#DejaVuSans-111\"/>\n      <use x=\"591.304688\" xlink:href=\"#DejaVuSans-100\"/>\n     </g>\n    </g>\n   </g>\n   <g id=\"LineCollection_1\">\n    <path clip-path=\"url(#pe3a6937217)\" d=\"M 76.925994 186.630231 \nL 76.925994 185.254904 \n\" style=\"fill:none;stroke:#1f77b4;stroke-width:1.5;\"/>\n    <path clip-path=\"url(#pe3a6937217)\" d=\"M 92.144176 159.699777 \nL 92.144176 158.70586 \n\" style=\"fill:none;stroke:#1f77b4;stroke-width:1.5;\"/>\n    <path clip-path=\"url(#pe3a6937217)\" d=\"M 107.362358 176.165344 \nL 107.362358 175.239071 \n\" style=\"fill:none;stroke:#1f77b4;stroke-width:1.5;\"/>\n    <path clip-path=\"url(#pe3a6937217)\" d=\"M 122.58054 176.863491 \nL 122.58054 175.953722 \n\" style=\"fill:none;stroke:#1f77b4;stroke-width:1.5;\"/>\n    <path clip-path=\"url(#pe3a6937217)\" d=\"M 137.798722 174.456494 \nL 137.798722 173.486114 \n\" style=\"fill:none;stroke:#1f77b4;stroke-width:1.5;\"/>\n    <path clip-path=\"url(#pe3a6937217)\" d=\"M 153.016903 171.201253 \nL 153.016903 170.588149 \n\" style=\"fill:none;stroke:#1f77b4;stroke-width:1.5;\"/>\n    <path clip-path=\"url(#pe3a6937217)\" d=\"M 168.235085 183.17774 \nL 168.235085 182.390968 \n\" style=\"fill:none;stroke:#1f77b4;stroke-width:1.5;\"/>\n    <path clip-path=\"url(#pe3a6937217)\" d=\"M 183.453267 186.251178 \nL 183.453267 185.42167 \n\" style=\"fill:none;stroke:#1f77b4;stroke-width:1.5;\"/>\n    <path clip-path=\"url(#pe3a6937217)\" d=\"M 198.671449 188.558441 \nL 198.671449 187.961098 \n\" style=\"fill:none;stroke:#1f77b4;stroke-width:1.5;\"/>\n    <path clip-path=\"url(#pe3a6937217)\" d=\"M 213.889631 173.589884 \nL 213.889631 172.677386 \n\" style=\"fill:none;stroke:#1f77b4;stroke-width:1.5;\"/>\n    <path clip-path=\"url(#pe3a6937217)\" d=\"M 244.325994 203.944369 \nL 244.325994 203.354921 \n\" style=\"fill:none;stroke:#1f77b4;stroke-width:1.5;\"/>\n    <path clip-path=\"url(#pe3a6937217)\" d=\"M 259.544176 208.807772 \nL 259.544176 208.259927 \n\" style=\"fill:none;stroke:#1f77b4;stroke-width:1.5;\"/>\n    <path clip-path=\"url(#pe3a6937217)\" d=\"M 274.762358 197.524989 \nL 274.762358 196.897282 \n\" style=\"fill:none;stroke:#1f77b4;stroke-width:1.5;\"/>\n    <path clip-path=\"url(#pe3a6937217)\" d=\"M 289.98054 207.42319 \nL 289.98054 206.805724 \n\" style=\"fill:none;stroke:#1f77b4;stroke-width:1.5;\"/>\n    <path clip-path=\"url(#pe3a6937217)\" d=\"M 305.198722 222.85348 \nL 305.198722 222.109598 \n\" style=\"fill:none;stroke:#1f77b4;stroke-width:1.5;\"/>\n    <path clip-path=\"url(#pe3a6937217)\" d=\"M 320.416903 219.464068 \nL 320.416903 218.662212 \n\" style=\"fill:none;stroke:#1f77b4;stroke-width:1.5;\"/>\n    <path clip-path=\"url(#pe3a6937217)\" d=\"M 335.635085 209.317984 \nL 335.635085 208.474993 \n\" style=\"fill:none;stroke:#1f77b4;stroke-width:1.5;\"/>\n    <path clip-path=\"url(#pe3a6937217)\" d=\"M 350.853267 229.874489 \nL 350.853267 228.499211 \n\" style=\"fill:none;stroke:#1f77b4;stroke-width:1.5;\"/>\n    <path clip-path=\"url(#pe3a6937217)\" d=\"M 366.071449 212.024238 \nL 366.071449 210.933832 \n\" style=\"fill:none;stroke:#1f77b4;stroke-width:1.5;\"/>\n    <path clip-path=\"url(#pe3a6937217)\" d=\"M 381.289631 224.055831 \nL 381.289631 223.032075 \n\" style=\"fill:none;stroke:#1f77b4;stroke-width:1.5;\"/>\n   </g>\n   <g id=\"LineCollection_2\">\n    <path clip-path=\"url(#pe3a6937217)\" d=\"M 76.925994 52.772667 \nL 76.925994 52.080769 \n\" style=\"fill:none;stroke:#ff7f0e;stroke-width:1.5;\"/>\n    <path clip-path=\"url(#pe3a6937217)\" d=\"M 92.144176 68.06427 \nL 92.144176 67.457115 \n\" style=\"fill:none;stroke:#ff7f0e;stroke-width:1.5;\"/>\n    <path clip-path=\"url(#pe3a6937217)\" d=\"M 107.362358 57.831648 \nL 107.362358 57.321438 \n\" style=\"fill:none;stroke:#ff7f0e;stroke-width:1.5;\"/>\n    <path clip-path=\"url(#pe3a6937217)\" d=\"M 122.58054 57.422961 \nL 122.58054 56.921969 \n\" style=\"fill:none;stroke:#ff7f0e;stroke-width:1.5;\"/>\n    <path clip-path=\"url(#pe3a6937217)\" d=\"M 137.798722 58.881151 \nL 137.798722 58.333712 \n\" style=\"fill:none;stroke:#ff7f0e;stroke-width:1.5;\"/>\n    <path clip-path=\"url(#pe3a6937217)\" d=\"M 153.016903 60.320625 \nL 153.016903 59.964236 \n\" style=\"fill:none;stroke:#ff7f0e;stroke-width:1.5;\"/>\n    <path clip-path=\"url(#pe3a6937217)\" d=\"M 168.235085 53.752387 \nL 168.235085 53.330952 \n\" style=\"fill:none;stroke:#ff7f0e;stroke-width:1.5;\"/>\n    <path clip-path=\"url(#pe3a6937217)\" d=\"M 183.453267 52.098855 \nL 183.453267 51.660184 \n\" style=\"fill:none;stroke:#ff7f0e;stroke-width:1.5;\"/>\n    <path clip-path=\"url(#pe3a6937217)\" d=\"M 198.671449 50.643292 \nL 198.671449 50.329192 \n\" style=\"fill:none;stroke:#ff7f0e;stroke-width:1.5;\"/>\n    <path clip-path=\"url(#pe3a6937217)\" d=\"M 213.889631 59.363919 \nL 213.889631 58.830563 \n\" style=\"fill:none;stroke:#ff7f0e;stroke-width:1.5;\"/>\n    <path clip-path=\"url(#pe3a6937217)\" d=\"M 244.325994 43.028887 \nL 244.325994 42.748825 \n\" style=\"fill:none;stroke:#ff7f0e;stroke-width:1.5;\"/>\n    <path clip-path=\"url(#pe3a6937217)\" d=\"M 259.544176 40.759897 \nL 259.544176 40.513057 \n\" style=\"fill:none;stroke:#ff7f0e;stroke-width:1.5;\"/>\n    <path clip-path=\"url(#pe3a6937217)\" d=\"M 274.762358 46.141878 \nL 274.762358 45.837274 \n\" style=\"fill:none;stroke:#ff7f0e;stroke-width:1.5;\"/>\n    <path clip-path=\"url(#pe3a6937217)\" d=\"M 289.98054 41.456555 \nL 289.98054 41.16664 \n\" style=\"fill:none;stroke:#ff7f0e;stroke-width:1.5;\"/>\n    <path clip-path=\"url(#pe3a6937217)\" d=\"M 305.198722 34.8684 \nL 305.198722 34.560535 \n\" style=\"fill:none;stroke:#ff7f0e;stroke-width:1.5;\"/>\n    <path clip-path=\"url(#pe3a6937217)\" d=\"M 320.416903 36.330408 \nL 320.416903 36.003668 \n\" style=\"fill:none;stroke:#ff7f0e;stroke-width:1.5;\"/>\n    <path clip-path=\"url(#pe3a6937217)\" d=\"M 335.635085 40.823577 \nL 335.635085 40.441386 \n\" style=\"fill:none;stroke:#ff7f0e;stroke-width:1.5;\"/>\n    <path clip-path=\"url(#pe3a6937217)\" d=\"M 350.853267 32.807835 \nL 350.853267 32.201761 \n\" style=\"fill:none;stroke:#ff7f0e;stroke-width:1.5;\"/>\n    <path clip-path=\"url(#pe3a6937217)\" d=\"M 366.071449 39.890024 \nL 366.071449 39.400225 \n\" style=\"fill:none;stroke:#ff7f0e;stroke-width:1.5;\"/>\n    <path clip-path=\"url(#pe3a6937217)\" d=\"M 381.289631 34.713706 \nL 381.289631 34.280095 \n\" style=\"fill:none;stroke:#ff7f0e;stroke-width:1.5;\"/>\n   </g>\n   <g id=\"line2d_15\">\n    <defs>\n     <path d=\"M 4 0 \nL -4 -0 \n\" id=\"m3295a079f6\" style=\"stroke:#1f77b4;\"/>\n    </defs>\n    <g clip-path=\"url(#pe3a6937217)\">\n     <use style=\"fill:#1f77b4;stroke:#1f77b4;\" x=\"76.925994\" xlink:href=\"#m3295a079f6\" y=\"186.630231\"/>\n     <use style=\"fill:#1f77b4;stroke:#1f77b4;\" x=\"92.144176\" xlink:href=\"#m3295a079f6\" y=\"159.699777\"/>\n     <use style=\"fill:#1f77b4;stroke:#1f77b4;\" x=\"107.362358\" xlink:href=\"#m3295a079f6\" y=\"176.165344\"/>\n     <use style=\"fill:#1f77b4;stroke:#1f77b4;\" x=\"122.58054\" xlink:href=\"#m3295a079f6\" y=\"176.863491\"/>\n     <use style=\"fill:#1f77b4;stroke:#1f77b4;\" x=\"137.798722\" xlink:href=\"#m3295a079f6\" y=\"174.456494\"/>\n     <use style=\"fill:#1f77b4;stroke:#1f77b4;\" x=\"153.016903\" xlink:href=\"#m3295a079f6\" y=\"171.201253\"/>\n     <use style=\"fill:#1f77b4;stroke:#1f77b4;\" x=\"168.235085\" xlink:href=\"#m3295a079f6\" y=\"183.17774\"/>\n     <use style=\"fill:#1f77b4;stroke:#1f77b4;\" x=\"183.453267\" xlink:href=\"#m3295a079f6\" y=\"186.251178\"/>\n     <use style=\"fill:#1f77b4;stroke:#1f77b4;\" x=\"198.671449\" xlink:href=\"#m3295a079f6\" y=\"188.558441\"/>\n     <use style=\"fill:#1f77b4;stroke:#1f77b4;\" x=\"213.889631\" xlink:href=\"#m3295a079f6\" y=\"173.589884\"/>\n     <use style=\"fill:#1f77b4;stroke:#1f77b4;\" x=\"244.325994\" xlink:href=\"#m3295a079f6\" y=\"203.944369\"/>\n     <use style=\"fill:#1f77b4;stroke:#1f77b4;\" x=\"259.544176\" xlink:href=\"#m3295a079f6\" y=\"208.807772\"/>\n     <use style=\"fill:#1f77b4;stroke:#1f77b4;\" x=\"274.762358\" xlink:href=\"#m3295a079f6\" y=\"197.524989\"/>\n     <use style=\"fill:#1f77b4;stroke:#1f77b4;\" x=\"289.98054\" xlink:href=\"#m3295a079f6\" y=\"207.42319\"/>\n     <use style=\"fill:#1f77b4;stroke:#1f77b4;\" x=\"305.198722\" xlink:href=\"#m3295a079f6\" y=\"222.85348\"/>\n     <use style=\"fill:#1f77b4;stroke:#1f77b4;\" x=\"320.416903\" xlink:href=\"#m3295a079f6\" y=\"219.464068\"/>\n     <use style=\"fill:#1f77b4;stroke:#1f77b4;\" x=\"335.635085\" xlink:href=\"#m3295a079f6\" y=\"209.317984\"/>\n     <use style=\"fill:#1f77b4;stroke:#1f77b4;\" x=\"350.853267\" xlink:href=\"#m3295a079f6\" y=\"229.874489\"/>\n     <use style=\"fill:#1f77b4;stroke:#1f77b4;\" x=\"366.071449\" xlink:href=\"#m3295a079f6\" y=\"212.024238\"/>\n     <use style=\"fill:#1f77b4;stroke:#1f77b4;\" x=\"381.289631\" xlink:href=\"#m3295a079f6\" y=\"224.055831\"/>\n    </g>\n   </g>\n   <g id=\"line2d_16\">\n    <g clip-path=\"url(#pe3a6937217)\">\n     <use style=\"fill:#1f77b4;stroke:#1f77b4;\" x=\"76.925994\" xlink:href=\"#m3295a079f6\" y=\"185.254904\"/>\n     <use style=\"fill:#1f77b4;stroke:#1f77b4;\" x=\"92.144176\" xlink:href=\"#m3295a079f6\" y=\"158.70586\"/>\n     <use style=\"fill:#1f77b4;stroke:#1f77b4;\" x=\"107.362358\" xlink:href=\"#m3295a079f6\" y=\"175.239071\"/>\n     <use style=\"fill:#1f77b4;stroke:#1f77b4;\" x=\"122.58054\" xlink:href=\"#m3295a079f6\" y=\"175.953722\"/>\n     <use style=\"fill:#1f77b4;stroke:#1f77b4;\" x=\"137.798722\" xlink:href=\"#m3295a079f6\" y=\"173.486114\"/>\n     <use style=\"fill:#1f77b4;stroke:#1f77b4;\" x=\"153.016903\" xlink:href=\"#m3295a079f6\" y=\"170.588149\"/>\n     <use style=\"fill:#1f77b4;stroke:#1f77b4;\" x=\"168.235085\" xlink:href=\"#m3295a079f6\" y=\"182.390968\"/>\n     <use style=\"fill:#1f77b4;stroke:#1f77b4;\" x=\"183.453267\" xlink:href=\"#m3295a079f6\" y=\"185.42167\"/>\n     <use style=\"fill:#1f77b4;stroke:#1f77b4;\" x=\"198.671449\" xlink:href=\"#m3295a079f6\" y=\"187.961098\"/>\n     <use style=\"fill:#1f77b4;stroke:#1f77b4;\" x=\"213.889631\" xlink:href=\"#m3295a079f6\" y=\"172.677386\"/>\n     <use style=\"fill:#1f77b4;stroke:#1f77b4;\" x=\"244.325994\" xlink:href=\"#m3295a079f6\" y=\"203.354921\"/>\n     <use style=\"fill:#1f77b4;stroke:#1f77b4;\" x=\"259.544176\" xlink:href=\"#m3295a079f6\" y=\"208.259927\"/>\n     <use style=\"fill:#1f77b4;stroke:#1f77b4;\" x=\"274.762358\" xlink:href=\"#m3295a079f6\" y=\"196.897282\"/>\n     <use style=\"fill:#1f77b4;stroke:#1f77b4;\" x=\"289.98054\" xlink:href=\"#m3295a079f6\" y=\"206.805724\"/>\n     <use style=\"fill:#1f77b4;stroke:#1f77b4;\" x=\"305.198722\" xlink:href=\"#m3295a079f6\" y=\"222.109598\"/>\n     <use style=\"fill:#1f77b4;stroke:#1f77b4;\" x=\"320.416903\" xlink:href=\"#m3295a079f6\" y=\"218.662212\"/>\n     <use style=\"fill:#1f77b4;stroke:#1f77b4;\" x=\"335.635085\" xlink:href=\"#m3295a079f6\" y=\"208.474993\"/>\n     <use style=\"fill:#1f77b4;stroke:#1f77b4;\" x=\"350.853267\" xlink:href=\"#m3295a079f6\" y=\"228.499211\"/>\n     <use style=\"fill:#1f77b4;stroke:#1f77b4;\" x=\"366.071449\" xlink:href=\"#m3295a079f6\" y=\"210.933832\"/>\n     <use style=\"fill:#1f77b4;stroke:#1f77b4;\" x=\"381.289631\" xlink:href=\"#m3295a079f6\" y=\"223.032075\"/>\n    </g>\n   </g>\n   <g id=\"line2d_17\">\n    <defs>\n     <path d=\"M 4 0 \nL -4 -0 \n\" id=\"m86341a4a5d\" style=\"stroke:#ff7f0e;\"/>\n    </defs>\n    <g clip-path=\"url(#pe3a6937217)\">\n     <use style=\"fill:#ff7f0e;stroke:#ff7f0e;\" x=\"76.925994\" xlink:href=\"#m86341a4a5d\" y=\"52.772667\"/>\n     <use style=\"fill:#ff7f0e;stroke:#ff7f0e;\" x=\"92.144176\" xlink:href=\"#m86341a4a5d\" y=\"68.06427\"/>\n     <use style=\"fill:#ff7f0e;stroke:#ff7f0e;\" x=\"107.362358\" xlink:href=\"#m86341a4a5d\" y=\"57.831648\"/>\n     <use style=\"fill:#ff7f0e;stroke:#ff7f0e;\" x=\"122.58054\" xlink:href=\"#m86341a4a5d\" y=\"57.422961\"/>\n     <use style=\"fill:#ff7f0e;stroke:#ff7f0e;\" x=\"137.798722\" xlink:href=\"#m86341a4a5d\" y=\"58.881151\"/>\n     <use style=\"fill:#ff7f0e;stroke:#ff7f0e;\" x=\"153.016903\" xlink:href=\"#m86341a4a5d\" y=\"60.320625\"/>\n     <use style=\"fill:#ff7f0e;stroke:#ff7f0e;\" x=\"168.235085\" xlink:href=\"#m86341a4a5d\" y=\"53.752387\"/>\n     <use style=\"fill:#ff7f0e;stroke:#ff7f0e;\" x=\"183.453267\" xlink:href=\"#m86341a4a5d\" y=\"52.098855\"/>\n     <use style=\"fill:#ff7f0e;stroke:#ff7f0e;\" x=\"198.671449\" xlink:href=\"#m86341a4a5d\" y=\"50.643292\"/>\n     <use style=\"fill:#ff7f0e;stroke:#ff7f0e;\" x=\"213.889631\" xlink:href=\"#m86341a4a5d\" y=\"59.363919\"/>\n     <use style=\"fill:#ff7f0e;stroke:#ff7f0e;\" x=\"244.325994\" xlink:href=\"#m86341a4a5d\" y=\"43.028887\"/>\n     <use style=\"fill:#ff7f0e;stroke:#ff7f0e;\" x=\"259.544176\" xlink:href=\"#m86341a4a5d\" y=\"40.759897\"/>\n     <use style=\"fill:#ff7f0e;stroke:#ff7f0e;\" x=\"274.762358\" xlink:href=\"#m86341a4a5d\" y=\"46.141878\"/>\n     <use style=\"fill:#ff7f0e;stroke:#ff7f0e;\" x=\"289.98054\" xlink:href=\"#m86341a4a5d\" y=\"41.456555\"/>\n     <use style=\"fill:#ff7f0e;stroke:#ff7f0e;\" x=\"305.198722\" xlink:href=\"#m86341a4a5d\" y=\"34.8684\"/>\n     <use style=\"fill:#ff7f0e;stroke:#ff7f0e;\" x=\"320.416903\" xlink:href=\"#m86341a4a5d\" y=\"36.330408\"/>\n     <use style=\"fill:#ff7f0e;stroke:#ff7f0e;\" x=\"335.635085\" xlink:href=\"#m86341a4a5d\" y=\"40.823577\"/>\n     <use style=\"fill:#ff7f0e;stroke:#ff7f0e;\" x=\"350.853267\" xlink:href=\"#m86341a4a5d\" y=\"32.807835\"/>\n     <use style=\"fill:#ff7f0e;stroke:#ff7f0e;\" x=\"366.071449\" xlink:href=\"#m86341a4a5d\" y=\"39.890024\"/>\n     <use style=\"fill:#ff7f0e;stroke:#ff7f0e;\" x=\"381.289631\" xlink:href=\"#m86341a4a5d\" y=\"34.713706\"/>\n    </g>\n   </g>\n   <g id=\"line2d_18\">\n    <g clip-path=\"url(#pe3a6937217)\">\n     <use style=\"fill:#ff7f0e;stroke:#ff7f0e;\" x=\"76.925994\" xlink:href=\"#m86341a4a5d\" y=\"52.080769\"/>\n     <use style=\"fill:#ff7f0e;stroke:#ff7f0e;\" x=\"92.144176\" xlink:href=\"#m86341a4a5d\" y=\"67.457115\"/>\n     <use style=\"fill:#ff7f0e;stroke:#ff7f0e;\" x=\"107.362358\" xlink:href=\"#m86341a4a5d\" y=\"57.321438\"/>\n     <use style=\"fill:#ff7f0e;stroke:#ff7f0e;\" x=\"122.58054\" xlink:href=\"#m86341a4a5d\" y=\"56.921969\"/>\n     <use style=\"fill:#ff7f0e;stroke:#ff7f0e;\" x=\"137.798722\" xlink:href=\"#m86341a4a5d\" y=\"58.333712\"/>\n     <use style=\"fill:#ff7f0e;stroke:#ff7f0e;\" x=\"153.016903\" xlink:href=\"#m86341a4a5d\" y=\"59.964236\"/>\n     <use style=\"fill:#ff7f0e;stroke:#ff7f0e;\" x=\"168.235085\" xlink:href=\"#m86341a4a5d\" y=\"53.330952\"/>\n     <use style=\"fill:#ff7f0e;stroke:#ff7f0e;\" x=\"183.453267\" xlink:href=\"#m86341a4a5d\" y=\"51.660184\"/>\n     <use style=\"fill:#ff7f0e;stroke:#ff7f0e;\" x=\"198.671449\" xlink:href=\"#m86341a4a5d\" y=\"50.329192\"/>\n     <use style=\"fill:#ff7f0e;stroke:#ff7f0e;\" x=\"213.889631\" xlink:href=\"#m86341a4a5d\" y=\"58.830563\"/>\n     <use style=\"fill:#ff7f0e;stroke:#ff7f0e;\" x=\"244.325994\" xlink:href=\"#m86341a4a5d\" y=\"42.748825\"/>\n     <use style=\"fill:#ff7f0e;stroke:#ff7f0e;\" x=\"259.544176\" xlink:href=\"#m86341a4a5d\" y=\"40.513057\"/>\n     <use style=\"fill:#ff7f0e;stroke:#ff7f0e;\" x=\"274.762358\" xlink:href=\"#m86341a4a5d\" y=\"45.837274\"/>\n     <use style=\"fill:#ff7f0e;stroke:#ff7f0e;\" x=\"289.98054\" xlink:href=\"#m86341a4a5d\" y=\"41.16664\"/>\n     <use style=\"fill:#ff7f0e;stroke:#ff7f0e;\" x=\"305.198722\" xlink:href=\"#m86341a4a5d\" y=\"34.560535\"/>\n     <use style=\"fill:#ff7f0e;stroke:#ff7f0e;\" x=\"320.416903\" xlink:href=\"#m86341a4a5d\" y=\"36.003668\"/>\n     <use style=\"fill:#ff7f0e;stroke:#ff7f0e;\" x=\"335.635085\" xlink:href=\"#m86341a4a5d\" y=\"40.441386\"/>\n     <use style=\"fill:#ff7f0e;stroke:#ff7f0e;\" x=\"350.853267\" xlink:href=\"#m86341a4a5d\" y=\"32.201761\"/>\n     <use style=\"fill:#ff7f0e;stroke:#ff7f0e;\" x=\"366.071449\" xlink:href=\"#m86341a4a5d\" y=\"39.400225\"/>\n     <use style=\"fill:#ff7f0e;stroke:#ff7f0e;\" x=\"381.289631\" xlink:href=\"#m86341a4a5d\" y=\"34.280095\"/>\n    </g>\n   </g>\n   <g id=\"line2d_19\">\n    <defs>\n     <path d=\"M 0 1.5 \nC 0.397805 1.5 0.77937 1.341951 1.06066 1.06066 \nC 1.341951 0.77937 1.5 0.397805 1.5 0 \nC 1.5 -0.397805 1.341951 -0.77937 1.06066 -1.06066 \nC 0.77937 -1.341951 0.397805 -1.5 0 -1.5 \nC -0.397805 -1.5 -0.77937 -1.341951 -1.06066 -1.06066 \nC -1.341951 -0.77937 -1.5 -0.397805 -1.5 0 \nC -1.5 0.397805 -1.341951 0.77937 -1.06066 1.06066 \nC -0.77937 1.341951 -0.397805 1.5 0 1.5 \nz\n\" id=\"m9b5382abbc\" style=\"stroke:#1f77b4;\"/>\n    </defs>\n    <g clip-path=\"url(#pe3a6937217)\">\n     <use style=\"fill:#1f77b4;stroke:#1f77b4;\" x=\"76.925994\" xlink:href=\"#m9b5382abbc\" y=\"185.942567\"/>\n     <use style=\"fill:#1f77b4;stroke:#1f77b4;\" x=\"92.144176\" xlink:href=\"#m9b5382abbc\" y=\"159.202818\"/>\n     <use style=\"fill:#1f77b4;stroke:#1f77b4;\" x=\"107.362358\" xlink:href=\"#m9b5382abbc\" y=\"175.702208\"/>\n     <use style=\"fill:#1f77b4;stroke:#1f77b4;\" x=\"122.58054\" xlink:href=\"#m9b5382abbc\" y=\"176.408607\"/>\n     <use style=\"fill:#1f77b4;stroke:#1f77b4;\" x=\"137.798722\" xlink:href=\"#m9b5382abbc\" y=\"173.971304\"/>\n     <use style=\"fill:#1f77b4;stroke:#1f77b4;\" x=\"153.016903\" xlink:href=\"#m9b5382abbc\" y=\"170.894701\"/>\n     <use style=\"fill:#1f77b4;stroke:#1f77b4;\" x=\"168.235085\" xlink:href=\"#m9b5382abbc\" y=\"182.784354\"/>\n     <use style=\"fill:#1f77b4;stroke:#1f77b4;\" x=\"183.453267\" xlink:href=\"#m9b5382abbc\" y=\"185.836424\"/>\n     <use style=\"fill:#1f77b4;stroke:#1f77b4;\" x=\"198.671449\" xlink:href=\"#m9b5382abbc\" y=\"188.25977\"/>\n     <use style=\"fill:#1f77b4;stroke:#1f77b4;\" x=\"213.889631\" xlink:href=\"#m9b5382abbc\" y=\"173.133635\"/>\n     <use style=\"fill:#1f77b4;stroke:#1f77b4;\" x=\"244.325994\" xlink:href=\"#m9b5382abbc\" y=\"203.649645\"/>\n     <use style=\"fill:#1f77b4;stroke:#1f77b4;\" x=\"259.544176\" xlink:href=\"#m9b5382abbc\" y=\"208.53385\"/>\n     <use style=\"fill:#1f77b4;stroke:#1f77b4;\" x=\"274.762358\" xlink:href=\"#m9b5382abbc\" y=\"197.211135\"/>\n     <use style=\"fill:#1f77b4;stroke:#1f77b4;\" x=\"289.98054\" xlink:href=\"#m9b5382abbc\" y=\"207.114457\"/>\n     <use style=\"fill:#1f77b4;stroke:#1f77b4;\" x=\"305.198722\" xlink:href=\"#m9b5382abbc\" y=\"222.481539\"/>\n     <use style=\"fill:#1f77b4;stroke:#1f77b4;\" x=\"320.416903\" xlink:href=\"#m9b5382abbc\" y=\"219.06314\"/>\n     <use style=\"fill:#1f77b4;stroke:#1f77b4;\" x=\"335.635085\" xlink:href=\"#m9b5382abbc\" y=\"208.896489\"/>\n     <use style=\"fill:#1f77b4;stroke:#1f77b4;\" x=\"350.853267\" xlink:href=\"#m9b5382abbc\" y=\"229.18685\"/>\n     <use style=\"fill:#1f77b4;stroke:#1f77b4;\" x=\"366.071449\" xlink:href=\"#m9b5382abbc\" y=\"211.479035\"/>\n     <use style=\"fill:#1f77b4;stroke:#1f77b4;\" x=\"381.289631\" xlink:href=\"#m9b5382abbc\" y=\"223.543953\"/>\n    </g>\n   </g>\n   <g id=\"line2d_20\">\n    <defs>\n     <path d=\"M 0 1.5 \nC 0.397805 1.5 0.77937 1.341951 1.06066 1.06066 \nC 1.341951 0.77937 1.5 0.397805 1.5 0 \nC 1.5 -0.397805 1.341951 -0.77937 1.06066 -1.06066 \nC 0.77937 -1.341951 0.397805 -1.5 0 -1.5 \nC -0.397805 -1.5 -0.77937 -1.341951 -1.06066 -1.06066 \nC -1.341951 -0.77937 -1.5 -0.397805 -1.5 0 \nC -1.5 0.397805 -1.341951 0.77937 -1.06066 1.06066 \nC -0.77937 1.341951 -0.397805 1.5 0 1.5 \nz\n\" id=\"m538e721468\" style=\"stroke:#ff7f0e;\"/>\n    </defs>\n    <g clip-path=\"url(#pe3a6937217)\">\n     <use style=\"fill:#ff7f0e;stroke:#ff7f0e;\" x=\"76.925994\" xlink:href=\"#m538e721468\" y=\"52.426718\"/>\n     <use style=\"fill:#ff7f0e;stroke:#ff7f0e;\" x=\"92.144176\" xlink:href=\"#m538e721468\" y=\"67.760692\"/>\n     <use style=\"fill:#ff7f0e;stroke:#ff7f0e;\" x=\"107.362358\" xlink:href=\"#m538e721468\" y=\"57.576543\"/>\n     <use style=\"fill:#ff7f0e;stroke:#ff7f0e;\" x=\"122.58054\" xlink:href=\"#m538e721468\" y=\"57.172465\"/>\n     <use style=\"fill:#ff7f0e;stroke:#ff7f0e;\" x=\"137.798722\" xlink:href=\"#m538e721468\" y=\"58.607432\"/>\n     <use style=\"fill:#ff7f0e;stroke:#ff7f0e;\" x=\"153.016903\" xlink:href=\"#m538e721468\" y=\"60.14243\"/>\n     <use style=\"fill:#ff7f0e;stroke:#ff7f0e;\" x=\"168.235085\" xlink:href=\"#m538e721468\" y=\"53.54167\"/>\n     <use style=\"fill:#ff7f0e;stroke:#ff7f0e;\" x=\"183.453267\" xlink:href=\"#m538e721468\" y=\"51.879519\"/>\n     <use style=\"fill:#ff7f0e;stroke:#ff7f0e;\" x=\"198.671449\" xlink:href=\"#m538e721468\" y=\"50.486242\"/>\n     <use style=\"fill:#ff7f0e;stroke:#ff7f0e;\" x=\"213.889631\" xlink:href=\"#m538e721468\" y=\"59.097241\"/>\n     <use style=\"fill:#ff7f0e;stroke:#ff7f0e;\" x=\"244.325994\" xlink:href=\"#m538e721468\" y=\"42.888856\"/>\n     <use style=\"fill:#ff7f0e;stroke:#ff7f0e;\" x=\"259.544176\" xlink:href=\"#m538e721468\" y=\"40.636477\"/>\n     <use style=\"fill:#ff7f0e;stroke:#ff7f0e;\" x=\"274.762358\" xlink:href=\"#m538e721468\" y=\"45.989576\"/>\n     <use style=\"fill:#ff7f0e;stroke:#ff7f0e;\" x=\"289.98054\" xlink:href=\"#m538e721468\" y=\"41.311597\"/>\n     <use style=\"fill:#ff7f0e;stroke:#ff7f0e;\" x=\"305.198722\" xlink:href=\"#m538e721468\" y=\"34.714467\"/>\n     <use style=\"fill:#ff7f0e;stroke:#ff7f0e;\" x=\"320.416903\" xlink:href=\"#m538e721468\" y=\"36.167038\"/>\n     <use style=\"fill:#ff7f0e;stroke:#ff7f0e;\" x=\"335.635085\" xlink:href=\"#m538e721468\" y=\"40.632482\"/>\n     <use style=\"fill:#ff7f0e;stroke:#ff7f0e;\" x=\"350.853267\" xlink:href=\"#m538e721468\" y=\"32.504798\"/>\n     <use style=\"fill:#ff7f0e;stroke:#ff7f0e;\" x=\"366.071449\" xlink:href=\"#m538e721468\" y=\"39.645125\"/>\n     <use style=\"fill:#ff7f0e;stroke:#ff7f0e;\" x=\"381.289631\" xlink:href=\"#m538e721468\" y=\"34.496901\"/>\n    </g>\n   </g>\n   <g id=\"patch_3\">\n    <path d=\"M 61.707813 239.758125 \nL 61.707813 22.318125 \n\" style=\"fill:none;stroke:#000000;stroke-linecap:square;stroke-linejoin:miter;stroke-width:0.8;\"/>\n   </g>\n   <g id=\"patch_4\">\n    <path d=\"M 396.507812 239.758125 \nL 396.507812 22.318125 \n\" style=\"fill:none;stroke:#000000;stroke-linecap:square;stroke-linejoin:miter;stroke-width:0.8;\"/>\n   </g>\n   <g id=\"patch_5\">\n    <path d=\"M 61.707813 239.758125 \nL 396.507812 239.758125 \n\" style=\"fill:none;stroke:#000000;stroke-linecap:square;stroke-linejoin:miter;stroke-width:0.8;\"/>\n   </g>\n   <g id=\"patch_6\">\n    <path d=\"M 61.707813 22.318125 \nL 396.507812 22.318125 \n\" style=\"fill:none;stroke:#000000;stroke-linecap:square;stroke-linejoin:miter;stroke-width:0.8;\"/>\n   </g>\n   <g id=\"text_17\">\n    <!-- MLP Classifier for SM data -->\n    <g transform=\"translate(151.2025 16.318125)scale(0.12 -0.12)\">\n     <defs>\n      <path d=\"M 9.8125 72.90625 \nL 24.515625 72.90625 \nL 43.109375 23.296875 \nL 61.8125 72.90625 \nL 76.515625 72.90625 \nL 76.515625 0 \nL 66.890625 0 \nL 66.890625 64.015625 \nL 48.09375 14.015625 \nL 38.1875 14.015625 \nL 19.390625 64.015625 \nL 19.390625 0 \nL 9.8125 0 \nz\n\" id=\"DejaVuSans-77\"/>\n      <path d=\"M 19.671875 64.796875 \nL 19.671875 37.40625 \nL 32.078125 37.40625 \nQ 38.96875 37.40625 42.71875 40.96875 \nQ 46.484375 44.53125 46.484375 51.125 \nQ 46.484375 57.671875 42.71875 61.234375 \nQ 38.96875 64.796875 32.078125 64.796875 \nz\nM 9.8125 72.90625 \nL 32.078125 72.90625 \nQ 44.34375 72.90625 50.609375 67.359375 \nQ 56.890625 61.8125 56.890625 51.125 \nQ 56.890625 40.328125 50.609375 34.8125 \nQ 44.34375 29.296875 32.078125 29.296875 \nL 19.671875 29.296875 \nL 19.671875 0 \nL 9.8125 0 \nz\n\" id=\"DejaVuSans-80\"/>\n      <path d=\"M 34.28125 27.484375 \nQ 23.390625 27.484375 19.1875 25 \nQ 14.984375 22.515625 14.984375 16.5 \nQ 14.984375 11.71875 18.140625 8.90625 \nQ 21.296875 6.109375 26.703125 6.109375 \nQ 34.1875 6.109375 38.703125 11.40625 \nQ 43.21875 16.703125 43.21875 25.484375 \nL 43.21875 27.484375 \nz\nM 52.203125 31.203125 \nL 52.203125 0 \nL 43.21875 0 \nL 43.21875 8.296875 \nQ 40.140625 3.328125 35.546875 0.953125 \nQ 30.953125 -1.421875 24.3125 -1.421875 \nQ 15.921875 -1.421875 10.953125 3.296875 \nQ 6 8.015625 6 15.921875 \nQ 6 25.140625 12.171875 29.828125 \nQ 18.359375 34.515625 30.609375 34.515625 \nL 43.21875 34.515625 \nL 43.21875 35.40625 \nQ 43.21875 41.609375 39.140625 45 \nQ 35.0625 48.390625 27.6875 48.390625 \nQ 23 48.390625 18.546875 47.265625 \nQ 14.109375 46.140625 10.015625 43.890625 \nL 10.015625 52.203125 \nQ 14.9375 54.109375 19.578125 55.046875 \nQ 24.21875 56 28.609375 56 \nQ 40.484375 56 46.34375 49.84375 \nQ 52.203125 43.703125 52.203125 31.203125 \nz\n\" id=\"DejaVuSans-97\"/>\n      <path d=\"M 44.28125 53.078125 \nL 44.28125 44.578125 \nQ 40.484375 46.53125 36.375 47.5 \nQ 32.28125 48.484375 27.875 48.484375 \nQ 21.1875 48.484375 17.84375 46.4375 \nQ 14.5 44.390625 14.5 40.28125 \nQ 14.5 37.15625 16.890625 35.375 \nQ 19.28125 33.59375 26.515625 31.984375 \nL 29.59375 31.296875 \nQ 39.15625 29.25 43.1875 25.515625 \nQ 47.21875 21.78125 47.21875 15.09375 \nQ 47.21875 7.46875 41.1875 3.015625 \nQ 35.15625 -1.421875 24.609375 -1.421875 \nQ 20.21875 -1.421875 15.453125 -0.5625 \nQ 10.6875 0.296875 5.421875 2 \nL 5.421875 11.28125 \nQ 10.40625 8.6875 15.234375 7.390625 \nQ 20.0625 6.109375 24.8125 6.109375 \nQ 31.15625 6.109375 34.5625 8.28125 \nQ 37.984375 10.453125 37.984375 14.40625 \nQ 37.984375 18.0625 35.515625 20.015625 \nQ 33.0625 21.96875 24.703125 23.78125 \nL 21.578125 24.515625 \nQ 13.234375 26.265625 9.515625 29.90625 \nQ 5.8125 33.546875 5.8125 39.890625 \nQ 5.8125 47.609375 11.28125 51.796875 \nQ 16.75 56 26.8125 56 \nQ 31.78125 56 36.171875 55.265625 \nQ 40.578125 54.546875 44.28125 53.078125 \nz\n\" id=\"DejaVuSans-115\"/>\n      <path d=\"M 41.109375 46.296875 \nQ 39.59375 47.171875 37.8125 47.578125 \nQ 36.03125 48 33.890625 48 \nQ 26.265625 48 22.1875 43.046875 \nQ 18.109375 38.09375 18.109375 28.8125 \nL 18.109375 0 \nL 9.078125 0 \nL 9.078125 54.6875 \nL 18.109375 54.6875 \nL 18.109375 46.1875 \nQ 20.953125 51.171875 25.484375 53.578125 \nQ 30.03125 56 36.53125 56 \nQ 37.453125 56 38.578125 55.875 \nQ 39.703125 55.765625 41.0625 55.515625 \nz\n\" id=\"DejaVuSans-114\"/>\n      <path d=\"M 53.515625 70.515625 \nL 53.515625 60.890625 \nQ 47.90625 63.578125 42.921875 64.890625 \nQ 37.9375 66.21875 33.296875 66.21875 \nQ 25.25 66.21875 20.875 63.09375 \nQ 16.5 59.96875 16.5 54.203125 \nQ 16.5 49.359375 19.40625 46.890625 \nQ 22.3125 44.4375 30.421875 42.921875 \nL 36.375 41.703125 \nQ 47.40625 39.59375 52.65625 34.296875 \nQ 57.90625 29 57.90625 20.125 \nQ 57.90625 9.515625 50.796875 4.046875 \nQ 43.703125 -1.421875 29.984375 -1.421875 \nQ 24.8125 -1.421875 18.96875 -0.25 \nQ 13.140625 0.921875 6.890625 3.21875 \nL 6.890625 13.375 \nQ 12.890625 10.015625 18.65625 8.296875 \nQ 24.421875 6.59375 29.984375 6.59375 \nQ 38.421875 6.59375 43.015625 9.90625 \nQ 47.609375 13.234375 47.609375 19.390625 \nQ 47.609375 24.75 44.3125 27.78125 \nQ 41.015625 30.8125 33.5 32.328125 \nL 27.484375 33.5 \nQ 16.453125 35.6875 11.515625 40.375 \nQ 6.59375 45.0625 6.59375 53.421875 \nQ 6.59375 63.09375 13.40625 68.65625 \nQ 20.21875 74.21875 32.171875 74.21875 \nQ 37.3125 74.21875 42.625 73.28125 \nQ 47.953125 72.359375 53.515625 70.515625 \nz\n\" id=\"DejaVuSans-83\"/>\n      <path d=\"M 18.3125 70.21875 \nL 18.3125 54.6875 \nL 36.8125 54.6875 \nL 36.8125 47.703125 \nL 18.3125 47.703125 \nL 18.3125 18.015625 \nQ 18.3125 11.328125 20.140625 9.421875 \nQ 21.96875 7.515625 27.59375 7.515625 \nL 36.8125 7.515625 \nL 36.8125 0 \nL 27.59375 0 \nQ 17.1875 0 13.234375 3.875 \nQ 9.28125 7.765625 9.28125 18.015625 \nL 9.28125 47.703125 \nL 2.6875 47.703125 \nL 2.6875 54.6875 \nL 9.28125 54.6875 \nL 9.28125 70.21875 \nz\n\" id=\"DejaVuSans-116\"/>\n     </defs>\n     <use xlink:href=\"#DejaVuSans-77\"/>\n     <use x=\"86.279297\" xlink:href=\"#DejaVuSans-76\"/>\n     <use x=\"141.992188\" xlink:href=\"#DejaVuSans-80\"/>\n     <use x=\"202.294922\" xlink:href=\"#DejaVuSans-32\"/>\n     <use x=\"234.082031\" xlink:href=\"#DejaVuSans-67\"/>\n     <use x=\"303.90625\" xlink:href=\"#DejaVuSans-108\"/>\n     <use x=\"331.689453\" xlink:href=\"#DejaVuSans-97\"/>\n     <use x=\"392.96875\" xlink:href=\"#DejaVuSans-115\"/>\n     <use x=\"445.068359\" xlink:href=\"#DejaVuSans-115\"/>\n     <use x=\"497.167969\" xlink:href=\"#DejaVuSans-105\"/>\n     <use x=\"524.951172\" xlink:href=\"#DejaVuSans-102\"/>\n     <use x=\"560.15625\" xlink:href=\"#DejaVuSans-105\"/>\n     <use x=\"587.939453\" xlink:href=\"#DejaVuSans-101\"/>\n     <use x=\"649.462891\" xlink:href=\"#DejaVuSans-114\"/>\n     <use x=\"690.576172\" xlink:href=\"#DejaVuSans-32\"/>\n     <use x=\"722.363281\" xlink:href=\"#DejaVuSans-102\"/>\n     <use x=\"757.568359\" xlink:href=\"#DejaVuSans-111\"/>\n     <use x=\"818.75\" xlink:href=\"#DejaVuSans-114\"/>\n     <use x=\"859.863281\" xlink:href=\"#DejaVuSans-32\"/>\n     <use x=\"891.650391\" xlink:href=\"#DejaVuSans-83\"/>\n     <use x=\"955.126953\" xlink:href=\"#DejaVuSans-77\"/>\n     <use x=\"1041.40625\" xlink:href=\"#DejaVuSans-32\"/>\n     <use x=\"1073.193359\" xlink:href=\"#DejaVuSans-100\"/>\n     <use x=\"1136.669922\" xlink:href=\"#DejaVuSans-97\"/>\n     <use x=\"1197.949219\" xlink:href=\"#DejaVuSans-116\"/>\n     <use x=\"1237.158203\" xlink:href=\"#DejaVuSans-97\"/>\n    </g>\n   </g>\n   <g id=\"legend_1\">\n    <g id=\"patch_7\">\n     <path d=\"M 68.707813 234.758125 \nL 115.684375 234.758125 \nQ 117.684375 234.758125 117.684375 232.758125 \nL 117.684375 204.401875 \nQ 117.684375 202.401875 115.684375 202.401875 \nL 68.707813 202.401875 \nQ 66.707813 202.401875 66.707813 204.401875 \nL 66.707813 232.758125 \nQ 66.707813 234.758125 68.707813 234.758125 \nz\n\" style=\"fill:#ffffff;opacity:0.8;stroke:#cccccc;stroke-linejoin:miter;\"/>\n    </g>\n    <g id=\"LineCollection_3\">\n     <path d=\"M 80.707813 215.500312 \nL 80.707813 205.500312 \n\" style=\"fill:none;stroke:#1f77b4;stroke-width:1.5;\"/>\n    </g>\n    <g id=\"line2d_21\">\n     <g>\n      <use style=\"fill:#1f77b4;stroke:#1f77b4;\" x=\"80.707813\" xlink:href=\"#m3295a079f6\" y=\"215.500312\"/>\n     </g>\n    </g>\n    <g id=\"line2d_22\">\n     <g>\n      <use style=\"fill:#1f77b4;stroke:#1f77b4;\" x=\"80.707813\" xlink:href=\"#m3295a079f6\" y=\"205.500312\"/>\n     </g>\n    </g>\n    <g id=\"line2d_23\"/>\n    <g id=\"line2d_24\">\n     <g>\n      <use style=\"fill:#1f77b4;stroke:#1f77b4;\" x=\"80.707813\" xlink:href=\"#m9b5382abbc\" y=\"210.500312\"/>\n     </g>\n    </g>\n    <g id=\"text_18\">\n     <!-- SM -->\n     <g transform=\"translate(98.707813 214.000312)scale(0.1 -0.1)\">\n      <use xlink:href=\"#DejaVuSans-83\"/>\n      <use x=\"63.476562\" xlink:href=\"#DejaVuSans-77\"/>\n     </g>\n    </g>\n    <g id=\"LineCollection_4\">\n     <path d=\"M 80.707813 230.178437 \nL 80.707813 220.178437 \n\" style=\"fill:none;stroke:#ff7f0e;stroke-width:1.5;\"/>\n    </g>\n    <g id=\"line2d_25\">\n     <g>\n      <use style=\"fill:#ff7f0e;stroke:#ff7f0e;\" x=\"80.707813\" xlink:href=\"#m86341a4a5d\" y=\"230.178437\"/>\n     </g>\n    </g>\n    <g id=\"line2d_26\">\n     <g>\n      <use style=\"fill:#ff7f0e;stroke:#ff7f0e;\" x=\"80.707813\" xlink:href=\"#m86341a4a5d\" y=\"220.178437\"/>\n     </g>\n    </g>\n    <g id=\"line2d_27\"/>\n    <g id=\"line2d_28\">\n     <g>\n      <use style=\"fill:#ff7f0e;stroke:#ff7f0e;\" x=\"80.707813\" xlink:href=\"#m538e721468\" y=\"225.178437\"/>\n     </g>\n    </g>\n    <g id=\"text_19\">\n     <!-- NP -->\n     <g transform=\"translate(98.707813 228.678437)scale(0.1 -0.1)\">\n      <defs>\n       <path d=\"M 9.8125 72.90625 \nL 23.09375 72.90625 \nL 55.421875 11.921875 \nL 55.421875 72.90625 \nL 64.984375 72.90625 \nL 64.984375 0 \nL 51.703125 0 \nL 19.390625 60.984375 \nL 19.390625 0 \nL 9.8125 0 \nz\n\" id=\"DejaVuSans-78\"/>\n      </defs>\n      <use xlink:href=\"#DejaVuSans-78\"/>\n      <use x=\"74.804688\" xlink:href=\"#DejaVuSans-80\"/>\n     </g>\n    </g>\n   </g>\n  </g>\n </g>\n <defs>\n  <clipPath id=\"pe3a6937217\">\n   <rect height=\"217.44\" width=\"334.8\" x=\"61.707813\" y=\"22.318125\"/>\n  </clipPath>\n </defs>\n</svg>\n",
      "text/plain": [
       "<Figure size 432x288 with 1 Axes>"
      ]
     },
     "metadata": {
      "needs_background": "light"
     },
     "output_type": "display_data"
    }
   ],
   "source": [
    "k_inverse_list =[]\n",
    "mean_0_list =[]\n",
    "mean_1_list =[]\n",
    "std_0_list =[]\n",
    "std_1_list =[]\n",
    "for k, ll_dict in log_likelihood_models.items():\n",
    "    k_inverse = le.inverse_transform([k])\n",
    "    if k_inverse == 0:\n",
    "        continue\n",
    "\n",
    "    mean_0 = np.mean(ll_dict[10])\n",
    "    mean_1 = np.mean(ll_dict[k])\n",
    "    std_0 = np.std(ll_dict[10])\n",
    "    std_1 = np.std(ll_dict[k])\n",
    "    # mean_0 = arr[:, 0].mean()\n",
    "    # mean_1 = arr[:, 1].mean()\n",
    "#     std_0 = arr[:, 0].std()\n",
    "#     std_1 = arr[:, 1].std()\n",
    "#     mean_0\n",
    "\n",
    "    k_inverse_list.append(k_inverse)\n",
    "    mean_0_list.append(mean_0)\n",
    "    mean_1_list.append(mean_1)\n",
    "    std_0_list.append(std_0)\n",
    "    std_1_list.append(std_1)\n",
    "\n",
    "plt.errorbar(k_inverse_list, mean_0_list, marker='.', yerr=std_0_list,c='tab:blue',ls='none', capsize=4,label='SM')\n",
    "plt.errorbar(k_inverse_list, mean_1_list, marker='.', yerr=std_1_list,c='tab:orange',ls='none', capsize=4,label='NP')\n",
    "plt.xlabel(\"C9 coef.\")\n",
    "plt.ylabel(\"Loglikelihood\")\n",
    "plt.title('MLP Classifier for SM data')\n",
    "plt.legend()\n",
    "plt.show()"
   ]
  },
  {
   "cell_type": "code",
   "execution_count": 58,
   "metadata": {},
   "outputs": [
    {
     "ename": "NameError",
     "evalue": "name 'table_likelihoods' is not defined",
     "output_type": "error",
     "traceback": [
      "\u001b[0;31m---------------------------------------------------------------------------\u001b[0m",
      "\u001b[0;31mNameError\u001b[0m                                 Traceback (most recent call last)",
      "\u001b[0;32m<ipython-input-58-3f69d4323484>\u001b[0m in \u001b[0;36m<module>\u001b[0;34m\u001b[0m\n\u001b[0;32m----> 1\u001b[0;31m \u001b[0mtable\u001b[0m \u001b[0;34m=\u001b[0m \u001b[0mtable_likelihoods\u001b[0m\u001b[0;34m\u001b[0m\u001b[0;34m\u001b[0m\u001b[0m\n\u001b[0m\u001b[1;32m      2\u001b[0m \u001b[0mone\u001b[0m \u001b[0;34m=\u001b[0m \u001b[0mtable_likelihoods\u001b[0m\u001b[0;34m[\u001b[0m\u001b[0;36m0\u001b[0m\u001b[0;34m]\u001b[0m\u001b[0;34m\u001b[0m\u001b[0;34m\u001b[0m\u001b[0m\n\u001b[1;32m      3\u001b[0m \u001b[0mtwo\u001b[0m \u001b[0;34m=\u001b[0m \u001b[0mtable_likelihoods\u001b[0m\u001b[0;34m[\u001b[0m\u001b[0;36m1\u001b[0m\u001b[0;34m]\u001b[0m\u001b[0;34m\u001b[0m\u001b[0;34m\u001b[0m\u001b[0m\n",
      "\u001b[0;31mNameError\u001b[0m: name 'table_likelihoods' is not defined"
     ]
    }
   ],
   "source": [
    "table = table_likelihoods\n",
    "one = table_likelihoods[0]\n",
    "two = table_likelihoods[1]"
   ]
  },
  {
   "cell_type": "code",
   "execution_count": 116,
   "metadata": {},
   "outputs": [
    {
     "data": {
      "text/plain": [
       "(array([0.00920503, 0.        , 0.        , 0.        , 0.        ,\n",
       "        0.00920503, 0.00920503, 0.00920503, 0.0276151 , 0.0276151 ]),\n",
       " array([-1093.61572746, -1082.75210561, -1071.88848376, -1061.02486191,\n",
       "        -1050.16124006, -1039.29761821, -1028.43399636, -1017.57037451,\n",
       "        -1006.70675267,  -995.84313082,  -984.97950897]),\n",
       " <BarContainer object of 10 artists>)"
      ]
     },
     "execution_count": 116,
     "metadata": {},
     "output_type": "execute_result"
    },
    {
     "data": {
      "image/svg+xml": "<?xml version=\"1.0\" encoding=\"utf-8\" standalone=\"no\"?>\n<!DOCTYPE svg PUBLIC \"-//W3C//DTD SVG 1.1//EN\"\n  \"http://www.w3.org/Graphics/SVG/1.1/DTD/svg11.dtd\">\n<!-- Created with matplotlib (https://matplotlib.org/) -->\n<svg height=\"248.518125pt\" version=\"1.1\" viewBox=\"0 0 397.294515 248.518125\" width=\"397.294515pt\" xmlns=\"http://www.w3.org/2000/svg\" xmlns:xlink=\"http://www.w3.org/1999/xlink\">\n <metadata>\n  <rdf:RDF xmlns:cc=\"http://creativecommons.org/ns#\" xmlns:dc=\"http://purl.org/dc/elements/1.1/\" xmlns:rdf=\"http://www.w3.org/1999/02/22-rdf-syntax-ns#\">\n   <cc:Work>\n    <dc:type rdf:resource=\"http://purl.org/dc/dcmitype/StillImage\"/>\n    <dc:date>2022-02-15T13:29:16.740642</dc:date>\n    <dc:format>image/svg+xml</dc:format>\n    <dc:creator>\n     <cc:Agent>\n      <dc:title>Matplotlib v3.3.2, https://matplotlib.org/</dc:title>\n     </cc:Agent>\n    </dc:creator>\n   </cc:Work>\n  </rdf:RDF>\n </metadata>\n <defs>\n  <style type=\"text/css\">*{stroke-linecap:butt;stroke-linejoin:round;}</style>\n </defs>\n <g id=\"figure_1\">\n  <g id=\"patch_1\">\n   <path d=\"M 0 248.518125 \nL 397.294515 248.518125 \nL 397.294515 0 \nL 0 0 \nz\n\" style=\"fill:none;\"/>\n  </g>\n  <g id=\"axes_1\">\n   <g id=\"patch_2\">\n    <path d=\"M 42.828125 224.64 \nL 377.628125 224.64 \nL 377.628125 7.2 \nL 42.828125 7.2 \nz\n\" style=\"fill:#ffffff;\"/>\n   </g>\n   <g id=\"patch_3\">\n    <path clip-path=\"url(#p4a5055e00c)\" d=\"M 58.046307 224.64 \nL 88.48267 224.64 \nL 88.48267 155.611429 \nL 58.046307 155.611429 \nz\n\" style=\"fill:#1f77b4;opacity:0.7;\"/>\n   </g>\n   <g id=\"patch_4\">\n    <path clip-path=\"url(#p4a5055e00c)\" d=\"M 88.48267 224.64 \nL 118.919034 224.64 \nL 118.919034 224.64 \nL 88.48267 224.64 \nz\n\" style=\"fill:#1f77b4;opacity:0.7;\"/>\n   </g>\n   <g id=\"patch_5\">\n    <path clip-path=\"url(#p4a5055e00c)\" d=\"M 118.919034 224.64 \nL 149.355398 224.64 \nL 149.355398 224.64 \nL 118.919034 224.64 \nz\n\" style=\"fill:#1f77b4;opacity:0.7;\"/>\n   </g>\n   <g id=\"patch_6\">\n    <path clip-path=\"url(#p4a5055e00c)\" d=\"M 149.355398 224.64 \nL 179.791761 224.64 \nL 179.791761 224.64 \nL 149.355398 224.64 \nz\n\" style=\"fill:#1f77b4;opacity:0.7;\"/>\n   </g>\n   <g id=\"patch_7\">\n    <path clip-path=\"url(#p4a5055e00c)\" d=\"M 179.791761 224.64 \nL 210.228125 224.64 \nL 210.228125 224.64 \nL 179.791761 224.64 \nz\n\" style=\"fill:#1f77b4;opacity:0.7;\"/>\n   </g>\n   <g id=\"patch_8\">\n    <path clip-path=\"url(#p4a5055e00c)\" d=\"M 210.228125 224.64 \nL 240.664489 224.64 \nL 240.664489 155.611429 \nL 210.228125 155.611429 \nz\n\" style=\"fill:#1f77b4;opacity:0.7;\"/>\n   </g>\n   <g id=\"patch_9\">\n    <path clip-path=\"url(#p4a5055e00c)\" d=\"M 240.664489 224.64 \nL 271.100852 224.64 \nL 271.100852 155.611429 \nL 240.664489 155.611429 \nz\n\" style=\"fill:#1f77b4;opacity:0.7;\"/>\n   </g>\n   <g id=\"patch_10\">\n    <path clip-path=\"url(#p4a5055e00c)\" d=\"M 271.100852 224.64 \nL 301.537216 224.64 \nL 301.537216 155.611429 \nL 271.100852 155.611429 \nz\n\" style=\"fill:#1f77b4;opacity:0.7;\"/>\n   </g>\n   <g id=\"patch_11\">\n    <path clip-path=\"url(#p4a5055e00c)\" d=\"M 301.537216 224.64 \nL 331.97358 224.64 \nL 331.97358 17.554286 \nL 301.537216 17.554286 \nz\n\" style=\"fill:#1f77b4;opacity:0.7;\"/>\n   </g>\n   <g id=\"patch_12\">\n    <path clip-path=\"url(#p4a5055e00c)\" d=\"M 331.97358 224.64 \nL 362.409943 224.64 \nL 362.409943 17.554286 \nL 331.97358 17.554286 \nz\n\" style=\"fill:#1f77b4;opacity:0.7;\"/>\n   </g>\n   <g id=\"matplotlib.axis_1\">\n    <g id=\"xtick_1\">\n     <g id=\"line2d_1\">\n      <defs>\n       <path d=\"M 0 0 \nL 0 3.5 \n\" id=\"ma6ac4a34f8\" style=\"stroke:#000000;stroke-width:0.8;\"/>\n      </defs>\n      <g>\n       <use style=\"stroke:#000000;stroke-width:0.8;\" x=\"96.193182\" xlink:href=\"#ma6ac4a34f8\" y=\"224.64\"/>\n      </g>\n     </g>\n     <g id=\"text_1\">\n      <!-- −1080 -->\n      <g transform=\"translate(79.278339 239.238437)scale(0.1 -0.1)\">\n       <defs>\n        <path d=\"M 10.59375 35.5 \nL 73.1875 35.5 \nL 73.1875 27.203125 \nL 10.59375 27.203125 \nz\n\" id=\"DejaVuSans-8722\"/>\n        <path d=\"M 12.40625 8.296875 \nL 28.515625 8.296875 \nL 28.515625 63.921875 \nL 10.984375 60.40625 \nL 10.984375 69.390625 \nL 28.421875 72.90625 \nL 38.28125 72.90625 \nL 38.28125 8.296875 \nL 54.390625 8.296875 \nL 54.390625 0 \nL 12.40625 0 \nz\n\" id=\"DejaVuSans-49\"/>\n        <path d=\"M 31.78125 66.40625 \nQ 24.171875 66.40625 20.328125 58.90625 \nQ 16.5 51.421875 16.5 36.375 \nQ 16.5 21.390625 20.328125 13.890625 \nQ 24.171875 6.390625 31.78125 6.390625 \nQ 39.453125 6.390625 43.28125 13.890625 \nQ 47.125 21.390625 47.125 36.375 \nQ 47.125 51.421875 43.28125 58.90625 \nQ 39.453125 66.40625 31.78125 66.40625 \nz\nM 31.78125 74.21875 \nQ 44.046875 74.21875 50.515625 64.515625 \nQ 56.984375 54.828125 56.984375 36.375 \nQ 56.984375 17.96875 50.515625 8.265625 \nQ 44.046875 -1.421875 31.78125 -1.421875 \nQ 19.53125 -1.421875 13.0625 8.265625 \nQ 6.59375 17.96875 6.59375 36.375 \nQ 6.59375 54.828125 13.0625 64.515625 \nQ 19.53125 74.21875 31.78125 74.21875 \nz\n\" id=\"DejaVuSans-48\"/>\n        <path d=\"M 31.78125 34.625 \nQ 24.75 34.625 20.71875 30.859375 \nQ 16.703125 27.09375 16.703125 20.515625 \nQ 16.703125 13.921875 20.71875 10.15625 \nQ 24.75 6.390625 31.78125 6.390625 \nQ 38.8125 6.390625 42.859375 10.171875 \nQ 46.921875 13.96875 46.921875 20.515625 \nQ 46.921875 27.09375 42.890625 30.859375 \nQ 38.875 34.625 31.78125 34.625 \nz\nM 21.921875 38.8125 \nQ 15.578125 40.375 12.03125 44.71875 \nQ 8.5 49.078125 8.5 55.328125 \nQ 8.5 64.0625 14.71875 69.140625 \nQ 20.953125 74.21875 31.78125 74.21875 \nQ 42.671875 74.21875 48.875 69.140625 \nQ 55.078125 64.0625 55.078125 55.328125 \nQ 55.078125 49.078125 51.53125 44.71875 \nQ 48 40.375 41.703125 38.8125 \nQ 48.828125 37.15625 52.796875 32.3125 \nQ 56.78125 27.484375 56.78125 20.515625 \nQ 56.78125 9.90625 50.3125 4.234375 \nQ 43.84375 -1.421875 31.78125 -1.421875 \nQ 19.734375 -1.421875 13.25 4.234375 \nQ 6.78125 9.90625 6.78125 20.515625 \nQ 6.78125 27.484375 10.78125 32.3125 \nQ 14.796875 37.15625 21.921875 38.8125 \nz\nM 18.3125 54.390625 \nQ 18.3125 48.734375 21.84375 45.5625 \nQ 25.390625 42.390625 31.78125 42.390625 \nQ 38.140625 42.390625 41.71875 45.5625 \nQ 45.3125 48.734375 45.3125 54.390625 \nQ 45.3125 60.0625 41.71875 63.234375 \nQ 38.140625 66.40625 31.78125 66.40625 \nQ 25.390625 66.40625 21.84375 63.234375 \nQ 18.3125 60.0625 18.3125 54.390625 \nz\n\" id=\"DejaVuSans-56\"/>\n       </defs>\n       <use xlink:href=\"#DejaVuSans-8722\"/>\n       <use x=\"83.789062\" xlink:href=\"#DejaVuSans-49\"/>\n       <use x=\"147.412109\" xlink:href=\"#DejaVuSans-48\"/>\n       <use x=\"211.035156\" xlink:href=\"#DejaVuSans-56\"/>\n       <use x=\"274.658203\" xlink:href=\"#DejaVuSans-48\"/>\n      </g>\n     </g>\n    </g>\n    <g id=\"xtick_2\">\n     <g id=\"line2d_2\">\n      <g>\n       <use style=\"stroke:#000000;stroke-width:0.8;\" x=\"152.22673\" xlink:href=\"#ma6ac4a34f8\" y=\"224.64\"/>\n      </g>\n     </g>\n     <g id=\"text_2\">\n      <!-- −1060 -->\n      <g transform=\"translate(135.311886 239.238437)scale(0.1 -0.1)\">\n       <defs>\n        <path d=\"M 33.015625 40.375 \nQ 26.375 40.375 22.484375 35.828125 \nQ 18.609375 31.296875 18.609375 23.390625 \nQ 18.609375 15.53125 22.484375 10.953125 \nQ 26.375 6.390625 33.015625 6.390625 \nQ 39.65625 6.390625 43.53125 10.953125 \nQ 47.40625 15.53125 47.40625 23.390625 \nQ 47.40625 31.296875 43.53125 35.828125 \nQ 39.65625 40.375 33.015625 40.375 \nz\nM 52.59375 71.296875 \nL 52.59375 62.3125 \nQ 48.875 64.0625 45.09375 64.984375 \nQ 41.3125 65.921875 37.59375 65.921875 \nQ 27.828125 65.921875 22.671875 59.328125 \nQ 17.53125 52.734375 16.796875 39.40625 \nQ 19.671875 43.65625 24.015625 45.921875 \nQ 28.375 48.1875 33.59375 48.1875 \nQ 44.578125 48.1875 50.953125 41.515625 \nQ 57.328125 34.859375 57.328125 23.390625 \nQ 57.328125 12.15625 50.6875 5.359375 \nQ 44.046875 -1.421875 33.015625 -1.421875 \nQ 20.359375 -1.421875 13.671875 8.265625 \nQ 6.984375 17.96875 6.984375 36.375 \nQ 6.984375 53.65625 15.1875 63.9375 \nQ 23.390625 74.21875 37.203125 74.21875 \nQ 40.921875 74.21875 44.703125 73.484375 \nQ 48.484375 72.75 52.59375 71.296875 \nz\n\" id=\"DejaVuSans-54\"/>\n       </defs>\n       <use xlink:href=\"#DejaVuSans-8722\"/>\n       <use x=\"83.789062\" xlink:href=\"#DejaVuSans-49\"/>\n       <use x=\"147.412109\" xlink:href=\"#DejaVuSans-48\"/>\n       <use x=\"211.035156\" xlink:href=\"#DejaVuSans-54\"/>\n       <use x=\"274.658203\" xlink:href=\"#DejaVuSans-48\"/>\n      </g>\n     </g>\n    </g>\n    <g id=\"xtick_3\">\n     <g id=\"line2d_3\">\n      <g>\n       <use style=\"stroke:#000000;stroke-width:0.8;\" x=\"208.260278\" xlink:href=\"#ma6ac4a34f8\" y=\"224.64\"/>\n      </g>\n     </g>\n     <g id=\"text_3\">\n      <!-- −1040 -->\n      <g transform=\"translate(191.345434 239.238437)scale(0.1 -0.1)\">\n       <defs>\n        <path d=\"M 37.796875 64.3125 \nL 12.890625 25.390625 \nL 37.796875 25.390625 \nz\nM 35.203125 72.90625 \nL 47.609375 72.90625 \nL 47.609375 25.390625 \nL 58.015625 25.390625 \nL 58.015625 17.1875 \nL 47.609375 17.1875 \nL 47.609375 0 \nL 37.796875 0 \nL 37.796875 17.1875 \nL 4.890625 17.1875 \nL 4.890625 26.703125 \nz\n\" id=\"DejaVuSans-52\"/>\n       </defs>\n       <use xlink:href=\"#DejaVuSans-8722\"/>\n       <use x=\"83.789062\" xlink:href=\"#DejaVuSans-49\"/>\n       <use x=\"147.412109\" xlink:href=\"#DejaVuSans-48\"/>\n       <use x=\"211.035156\" xlink:href=\"#DejaVuSans-52\"/>\n       <use x=\"274.658203\" xlink:href=\"#DejaVuSans-48\"/>\n      </g>\n     </g>\n    </g>\n    <g id=\"xtick_4\">\n     <g id=\"line2d_4\">\n      <g>\n       <use style=\"stroke:#000000;stroke-width:0.8;\" x=\"264.293826\" xlink:href=\"#ma6ac4a34f8\" y=\"224.64\"/>\n      </g>\n     </g>\n     <g id=\"text_4\">\n      <!-- −1020 -->\n      <g transform=\"translate(247.378982 239.238437)scale(0.1 -0.1)\">\n       <defs>\n        <path d=\"M 19.1875 8.296875 \nL 53.609375 8.296875 \nL 53.609375 0 \nL 7.328125 0 \nL 7.328125 8.296875 \nQ 12.9375 14.109375 22.625 23.890625 \nQ 32.328125 33.6875 34.8125 36.53125 \nQ 39.546875 41.84375 41.421875 45.53125 \nQ 43.3125 49.21875 43.3125 52.78125 \nQ 43.3125 58.59375 39.234375 62.25 \nQ 35.15625 65.921875 28.609375 65.921875 \nQ 23.96875 65.921875 18.8125 64.3125 \nQ 13.671875 62.703125 7.8125 59.421875 \nL 7.8125 69.390625 \nQ 13.765625 71.78125 18.9375 73 \nQ 24.125 74.21875 28.421875 74.21875 \nQ 39.75 74.21875 46.484375 68.546875 \nQ 53.21875 62.890625 53.21875 53.421875 \nQ 53.21875 48.921875 51.53125 44.890625 \nQ 49.859375 40.875 45.40625 35.40625 \nQ 44.1875 33.984375 37.640625 27.21875 \nQ 31.109375 20.453125 19.1875 8.296875 \nz\n\" id=\"DejaVuSans-50\"/>\n       </defs>\n       <use xlink:href=\"#DejaVuSans-8722\"/>\n       <use x=\"83.789062\" xlink:href=\"#DejaVuSans-49\"/>\n       <use x=\"147.412109\" xlink:href=\"#DejaVuSans-48\"/>\n       <use x=\"211.035156\" xlink:href=\"#DejaVuSans-50\"/>\n       <use x=\"274.658203\" xlink:href=\"#DejaVuSans-48\"/>\n      </g>\n     </g>\n    </g>\n    <g id=\"xtick_5\">\n     <g id=\"line2d_5\">\n      <g>\n       <use style=\"stroke:#000000;stroke-width:0.8;\" x=\"320.327373\" xlink:href=\"#ma6ac4a34f8\" y=\"224.64\"/>\n      </g>\n     </g>\n     <g id=\"text_5\">\n      <!-- −1000 -->\n      <g transform=\"translate(303.412529 239.238437)scale(0.1 -0.1)\">\n       <use xlink:href=\"#DejaVuSans-8722\"/>\n       <use x=\"83.789062\" xlink:href=\"#DejaVuSans-49\"/>\n       <use x=\"147.412109\" xlink:href=\"#DejaVuSans-48\"/>\n       <use x=\"211.035156\" xlink:href=\"#DejaVuSans-48\"/>\n       <use x=\"274.658203\" xlink:href=\"#DejaVuSans-48\"/>\n      </g>\n     </g>\n    </g>\n    <g id=\"xtick_6\">\n     <g id=\"line2d_6\">\n      <g>\n       <use style=\"stroke:#000000;stroke-width:0.8;\" x=\"376.360921\" xlink:href=\"#ma6ac4a34f8\" y=\"224.64\"/>\n      </g>\n     </g>\n     <g id=\"text_6\">\n      <!-- −980 -->\n      <g transform=\"translate(362.627327 239.238437)scale(0.1 -0.1)\">\n       <defs>\n        <path d=\"M 10.984375 1.515625 \nL 10.984375 10.5 \nQ 14.703125 8.734375 18.5 7.8125 \nQ 22.3125 6.890625 25.984375 6.890625 \nQ 35.75 6.890625 40.890625 13.453125 \nQ 46.046875 20.015625 46.78125 33.40625 \nQ 43.953125 29.203125 39.59375 26.953125 \nQ 35.25 24.703125 29.984375 24.703125 \nQ 19.046875 24.703125 12.671875 31.3125 \nQ 6.296875 37.9375 6.296875 49.421875 \nQ 6.296875 60.640625 12.9375 67.421875 \nQ 19.578125 74.21875 30.609375 74.21875 \nQ 43.265625 74.21875 49.921875 64.515625 \nQ 56.59375 54.828125 56.59375 36.375 \nQ 56.59375 19.140625 48.40625 8.859375 \nQ 40.234375 -1.421875 26.421875 -1.421875 \nQ 22.703125 -1.421875 18.890625 -0.6875 \nQ 15.09375 0.046875 10.984375 1.515625 \nz\nM 30.609375 32.421875 \nQ 37.25 32.421875 41.125 36.953125 \nQ 45.015625 41.5 45.015625 49.421875 \nQ 45.015625 57.28125 41.125 61.84375 \nQ 37.25 66.40625 30.609375 66.40625 \nQ 23.96875 66.40625 20.09375 61.84375 \nQ 16.21875 57.28125 16.21875 49.421875 \nQ 16.21875 41.5 20.09375 36.953125 \nQ 23.96875 32.421875 30.609375 32.421875 \nz\n\" id=\"DejaVuSans-57\"/>\n       </defs>\n       <use xlink:href=\"#DejaVuSans-8722\"/>\n       <use x=\"83.789062\" xlink:href=\"#DejaVuSans-57\"/>\n       <use x=\"147.412109\" xlink:href=\"#DejaVuSans-56\"/>\n       <use x=\"211.035156\" xlink:href=\"#DejaVuSans-48\"/>\n      </g>\n     </g>\n    </g>\n   </g>\n   <g id=\"matplotlib.axis_2\">\n    <g id=\"ytick_1\">\n     <g id=\"line2d_7\">\n      <defs>\n       <path d=\"M 0 0 \nL -3.5 0 \n\" id=\"m49dcdcf6dc\" style=\"stroke:#000000;stroke-width:0.8;\"/>\n      </defs>\n      <g>\n       <use style=\"stroke:#000000;stroke-width:0.8;\" x=\"42.828125\" xlink:href=\"#m49dcdcf6dc\" y=\"224.64\"/>\n      </g>\n     </g>\n     <g id=\"text_7\">\n      <!-- 0.000 -->\n      <g transform=\"translate(7.2 228.439219)scale(0.1 -0.1)\">\n       <defs>\n        <path d=\"M 10.6875 12.40625 \nL 21 12.40625 \nL 21 0 \nL 10.6875 0 \nz\n\" id=\"DejaVuSans-46\"/>\n       </defs>\n       <use xlink:href=\"#DejaVuSans-48\"/>\n       <use x=\"63.623047\" xlink:href=\"#DejaVuSans-46\"/>\n       <use x=\"95.410156\" xlink:href=\"#DejaVuSans-48\"/>\n       <use x=\"159.033203\" xlink:href=\"#DejaVuSans-48\"/>\n       <use x=\"222.65625\" xlink:href=\"#DejaVuSans-48\"/>\n      </g>\n     </g>\n    </g>\n    <g id=\"ytick_2\">\n     <g id=\"line2d_8\">\n      <g>\n       <use style=\"stroke:#000000;stroke-width:0.8;\" x=\"42.828125\" xlink:href=\"#m49dcdcf6dc\" y=\"187.144985\"/>\n      </g>\n     </g>\n     <g id=\"text_8\">\n      <!-- 0.005 -->\n      <g transform=\"translate(7.2 190.944204)scale(0.1 -0.1)\">\n       <defs>\n        <path d=\"M 10.796875 72.90625 \nL 49.515625 72.90625 \nL 49.515625 64.59375 \nL 19.828125 64.59375 \nL 19.828125 46.734375 \nQ 21.96875 47.46875 24.109375 47.828125 \nQ 26.265625 48.1875 28.421875 48.1875 \nQ 40.625 48.1875 47.75 41.5 \nQ 54.890625 34.8125 54.890625 23.390625 \nQ 54.890625 11.625 47.5625 5.09375 \nQ 40.234375 -1.421875 26.90625 -1.421875 \nQ 22.3125 -1.421875 17.546875 -0.640625 \nQ 12.796875 0.140625 7.71875 1.703125 \nL 7.71875 11.625 \nQ 12.109375 9.234375 16.796875 8.0625 \nQ 21.484375 6.890625 26.703125 6.890625 \nQ 35.15625 6.890625 40.078125 11.328125 \nQ 45.015625 15.765625 45.015625 23.390625 \nQ 45.015625 31 40.078125 35.4375 \nQ 35.15625 39.890625 26.703125 39.890625 \nQ 22.75 39.890625 18.8125 39.015625 \nQ 14.890625 38.140625 10.796875 36.28125 \nz\n\" id=\"DejaVuSans-53\"/>\n       </defs>\n       <use xlink:href=\"#DejaVuSans-48\"/>\n       <use x=\"63.623047\" xlink:href=\"#DejaVuSans-46\"/>\n       <use x=\"95.410156\" xlink:href=\"#DejaVuSans-48\"/>\n       <use x=\"159.033203\" xlink:href=\"#DejaVuSans-48\"/>\n       <use x=\"222.65625\" xlink:href=\"#DejaVuSans-53\"/>\n      </g>\n     </g>\n    </g>\n    <g id=\"ytick_3\">\n     <g id=\"line2d_9\">\n      <g>\n       <use style=\"stroke:#000000;stroke-width:0.8;\" x=\"42.828125\" xlink:href=\"#m49dcdcf6dc\" y=\"149.64997\"/>\n      </g>\n     </g>\n     <g id=\"text_9\">\n      <!-- 0.010 -->\n      <g transform=\"translate(7.2 153.449189)scale(0.1 -0.1)\">\n       <use xlink:href=\"#DejaVuSans-48\"/>\n       <use x=\"63.623047\" xlink:href=\"#DejaVuSans-46\"/>\n       <use x=\"95.410156\" xlink:href=\"#DejaVuSans-48\"/>\n       <use x=\"159.033203\" xlink:href=\"#DejaVuSans-49\"/>\n       <use x=\"222.65625\" xlink:href=\"#DejaVuSans-48\"/>\n      </g>\n     </g>\n    </g>\n    <g id=\"ytick_4\">\n     <g id=\"line2d_10\">\n      <g>\n       <use style=\"stroke:#000000;stroke-width:0.8;\" x=\"42.828125\" xlink:href=\"#m49dcdcf6dc\" y=\"112.154955\"/>\n      </g>\n     </g>\n     <g id=\"text_10\">\n      <!-- 0.015 -->\n      <g transform=\"translate(7.2 115.954174)scale(0.1 -0.1)\">\n       <use xlink:href=\"#DejaVuSans-48\"/>\n       <use x=\"63.623047\" xlink:href=\"#DejaVuSans-46\"/>\n       <use x=\"95.410156\" xlink:href=\"#DejaVuSans-48\"/>\n       <use x=\"159.033203\" xlink:href=\"#DejaVuSans-49\"/>\n       <use x=\"222.65625\" xlink:href=\"#DejaVuSans-53\"/>\n      </g>\n     </g>\n    </g>\n    <g id=\"ytick_5\">\n     <g id=\"line2d_11\">\n      <g>\n       <use style=\"stroke:#000000;stroke-width:0.8;\" x=\"42.828125\" xlink:href=\"#m49dcdcf6dc\" y=\"74.659941\"/>\n      </g>\n     </g>\n     <g id=\"text_11\">\n      <!-- 0.020 -->\n      <g transform=\"translate(7.2 78.459159)scale(0.1 -0.1)\">\n       <use xlink:href=\"#DejaVuSans-48\"/>\n       <use x=\"63.623047\" xlink:href=\"#DejaVuSans-46\"/>\n       <use x=\"95.410156\" xlink:href=\"#DejaVuSans-48\"/>\n       <use x=\"159.033203\" xlink:href=\"#DejaVuSans-50\"/>\n       <use x=\"222.65625\" xlink:href=\"#DejaVuSans-48\"/>\n      </g>\n     </g>\n    </g>\n    <g id=\"ytick_6\">\n     <g id=\"line2d_12\">\n      <g>\n       <use style=\"stroke:#000000;stroke-width:0.8;\" x=\"42.828125\" xlink:href=\"#m49dcdcf6dc\" y=\"37.164926\"/>\n      </g>\n     </g>\n     <g id=\"text_12\">\n      <!-- 0.025 -->\n      <g transform=\"translate(7.2 40.964145)scale(0.1 -0.1)\">\n       <use xlink:href=\"#DejaVuSans-48\"/>\n       <use x=\"63.623047\" xlink:href=\"#DejaVuSans-46\"/>\n       <use x=\"95.410156\" xlink:href=\"#DejaVuSans-48\"/>\n       <use x=\"159.033203\" xlink:href=\"#DejaVuSans-50\"/>\n       <use x=\"222.65625\" xlink:href=\"#DejaVuSans-53\"/>\n      </g>\n     </g>\n    </g>\n   </g>\n   <g id=\"patch_13\">\n    <path d=\"M 42.828125 224.64 \nL 42.828125 7.2 \n\" style=\"fill:none;stroke:#000000;stroke-linecap:square;stroke-linejoin:miter;stroke-width:0.8;\"/>\n   </g>\n   <g id=\"patch_14\">\n    <path d=\"M 377.628125 224.64 \nL 377.628125 7.2 \n\" style=\"fill:none;stroke:#000000;stroke-linecap:square;stroke-linejoin:miter;stroke-width:0.8;\"/>\n   </g>\n   <g id=\"patch_15\">\n    <path d=\"M 42.828125 224.64 \nL 377.628125 224.64 \n\" style=\"fill:none;stroke:#000000;stroke-linecap:square;stroke-linejoin:miter;stroke-width:0.8;\"/>\n   </g>\n   <g id=\"patch_16\">\n    <path d=\"M 42.828125 7.2 \nL 377.628125 7.2 \n\" style=\"fill:none;stroke:#000000;stroke-linecap:square;stroke-linejoin:miter;stroke-width:0.8;\"/>\n   </g>\n  </g>\n </g>\n <defs>\n  <clipPath id=\"p4a5055e00c\">\n   <rect height=\"217.44\" width=\"334.8\" x=\"42.828125\" y=\"7.2\"/>\n  </clipPath>\n </defs>\n</svg>\n",
      "text/plain": [
       "<Figure size 432x288 with 1 Axes>"
      ]
     },
     "metadata": {
      "needs_background": "light"
     },
     "output_type": "display_data"
    }
   ],
   "source": [
    "plt.hist(a, alpha=0.7, bins=10, density=True)"
   ]
  },
  {
   "cell_type": "code",
   "execution_count": 117,
   "metadata": {},
   "outputs": [
    {
     "data": {
      "image/svg+xml": "<?xml version=\"1.0\" encoding=\"utf-8\" standalone=\"no\"?>\n<!DOCTYPE svg PUBLIC \"-//W3C//DTD SVG 1.1//EN\"\n  \"http://www.w3.org/Graphics/SVG/1.1/DTD/svg11.dtd\">\n<!-- Created with matplotlib (https://matplotlib.org/) -->\n<svg height=\"277.314375pt\" version=\"1.1\" viewBox=\"0 0 403.707812 277.314375\" width=\"403.707812pt\" xmlns=\"http://www.w3.org/2000/svg\" xmlns:xlink=\"http://www.w3.org/1999/xlink\">\n <metadata>\n  <rdf:RDF xmlns:cc=\"http://creativecommons.org/ns#\" xmlns:dc=\"http://purl.org/dc/elements/1.1/\" xmlns:rdf=\"http://www.w3.org/1999/02/22-rdf-syntax-ns#\">\n   <cc:Work>\n    <dc:type rdf:resource=\"http://purl.org/dc/dcmitype/StillImage\"/>\n    <dc:date>2022-02-15T13:29:23.515657</dc:date>\n    <dc:format>image/svg+xml</dc:format>\n    <dc:creator>\n     <cc:Agent>\n      <dc:title>Matplotlib v3.3.2, https://matplotlib.org/</dc:title>\n     </cc:Agent>\n    </dc:creator>\n   </cc:Work>\n  </rdf:RDF>\n </metadata>\n <defs>\n  <style type=\"text/css\">*{stroke-linecap:butt;stroke-linejoin:round;}</style>\n </defs>\n <g id=\"figure_1\">\n  <g id=\"patch_1\">\n   <path d=\"M 0 277.314375 \nL 403.707812 277.314375 \nL 403.707812 0 \nL 0 0 \nz\n\" style=\"fill:none;\"/>\n  </g>\n  <g id=\"axes_1\">\n   <g id=\"patch_2\">\n    <path d=\"M 61.707813 239.758125 \nL 396.507812 239.758125 \nL 396.507812 22.318125 \nL 61.707813 22.318125 \nz\n\" style=\"fill:#ffffff;\"/>\n   </g>\n   <g id=\"matplotlib.axis_1\">\n    <g id=\"xtick_1\">\n     <g id=\"line2d_1\">\n      <defs>\n       <path d=\"M 0 0 \nL 0 3.5 \n\" id=\"m070313ce85\" style=\"stroke:#000000;stroke-width:0.8;\"/>\n      </defs>\n      <g>\n       <use style=\"stroke:#000000;stroke-width:0.8;\" x=\"76.925994\" xlink:href=\"#m070313ce85\" y=\"239.758125\"/>\n      </g>\n     </g>\n     <g id=\"text_1\">\n      <!-- −1.0 -->\n      <g transform=\"translate(64.784588 254.356562)scale(0.1 -0.1)\">\n       <defs>\n        <path d=\"M 10.59375 35.5 \nL 73.1875 35.5 \nL 73.1875 27.203125 \nL 10.59375 27.203125 \nz\n\" id=\"DejaVuSans-8722\"/>\n        <path d=\"M 12.40625 8.296875 \nL 28.515625 8.296875 \nL 28.515625 63.921875 \nL 10.984375 60.40625 \nL 10.984375 69.390625 \nL 28.421875 72.90625 \nL 38.28125 72.90625 \nL 38.28125 8.296875 \nL 54.390625 8.296875 \nL 54.390625 0 \nL 12.40625 0 \nz\n\" id=\"DejaVuSans-49\"/>\n        <path d=\"M 10.6875 12.40625 \nL 21 12.40625 \nL 21 0 \nL 10.6875 0 \nz\n\" id=\"DejaVuSans-46\"/>\n        <path d=\"M 31.78125 66.40625 \nQ 24.171875 66.40625 20.328125 58.90625 \nQ 16.5 51.421875 16.5 36.375 \nQ 16.5 21.390625 20.328125 13.890625 \nQ 24.171875 6.390625 31.78125 6.390625 \nQ 39.453125 6.390625 43.28125 13.890625 \nQ 47.125 21.390625 47.125 36.375 \nQ 47.125 51.421875 43.28125 58.90625 \nQ 39.453125 66.40625 31.78125 66.40625 \nz\nM 31.78125 74.21875 \nQ 44.046875 74.21875 50.515625 64.515625 \nQ 56.984375 54.828125 56.984375 36.375 \nQ 56.984375 17.96875 50.515625 8.265625 \nQ 44.046875 -1.421875 31.78125 -1.421875 \nQ 19.53125 -1.421875 13.0625 8.265625 \nQ 6.59375 17.96875 6.59375 36.375 \nQ 6.59375 54.828125 13.0625 64.515625 \nQ 19.53125 74.21875 31.78125 74.21875 \nz\n\" id=\"DejaVuSans-48\"/>\n       </defs>\n       <use xlink:href=\"#DejaVuSans-8722\"/>\n       <use x=\"83.789062\" xlink:href=\"#DejaVuSans-49\"/>\n       <use x=\"147.412109\" xlink:href=\"#DejaVuSans-46\"/>\n       <use x=\"179.199219\" xlink:href=\"#DejaVuSans-48\"/>\n      </g>\n     </g>\n    </g>\n    <g id=\"xtick_2\">\n     <g id=\"line2d_2\">\n      <g>\n       <use style=\"stroke:#000000;stroke-width:0.8;\" x=\"120.406514\" xlink:href=\"#m070313ce85\" y=\"239.758125\"/>\n      </g>\n     </g>\n     <g id=\"text_2\">\n      <!-- −0.9 -->\n      <g transform=\"translate(108.265108 254.356562)scale(0.1 -0.1)\">\n       <defs>\n        <path d=\"M 10.984375 1.515625 \nL 10.984375 10.5 \nQ 14.703125 8.734375 18.5 7.8125 \nQ 22.3125 6.890625 25.984375 6.890625 \nQ 35.75 6.890625 40.890625 13.453125 \nQ 46.046875 20.015625 46.78125 33.40625 \nQ 43.953125 29.203125 39.59375 26.953125 \nQ 35.25 24.703125 29.984375 24.703125 \nQ 19.046875 24.703125 12.671875 31.3125 \nQ 6.296875 37.9375 6.296875 49.421875 \nQ 6.296875 60.640625 12.9375 67.421875 \nQ 19.578125 74.21875 30.609375 74.21875 \nQ 43.265625 74.21875 49.921875 64.515625 \nQ 56.59375 54.828125 56.59375 36.375 \nQ 56.59375 19.140625 48.40625 8.859375 \nQ 40.234375 -1.421875 26.421875 -1.421875 \nQ 22.703125 -1.421875 18.890625 -0.6875 \nQ 15.09375 0.046875 10.984375 1.515625 \nz\nM 30.609375 32.421875 \nQ 37.25 32.421875 41.125 36.953125 \nQ 45.015625 41.5 45.015625 49.421875 \nQ 45.015625 57.28125 41.125 61.84375 \nQ 37.25 66.40625 30.609375 66.40625 \nQ 23.96875 66.40625 20.09375 61.84375 \nQ 16.21875 57.28125 16.21875 49.421875 \nQ 16.21875 41.5 20.09375 36.953125 \nQ 23.96875 32.421875 30.609375 32.421875 \nz\n\" id=\"DejaVuSans-57\"/>\n       </defs>\n       <use xlink:href=\"#DejaVuSans-8722\"/>\n       <use x=\"83.789062\" xlink:href=\"#DejaVuSans-48\"/>\n       <use x=\"147.412109\" xlink:href=\"#DejaVuSans-46\"/>\n       <use x=\"179.199219\" xlink:href=\"#DejaVuSans-57\"/>\n      </g>\n     </g>\n    </g>\n    <g id=\"xtick_3\">\n     <g id=\"line2d_3\">\n      <g>\n       <use style=\"stroke:#000000;stroke-width:0.8;\" x=\"163.887033\" xlink:href=\"#m070313ce85\" y=\"239.758125\"/>\n      </g>\n     </g>\n     <g id=\"text_3\">\n      <!-- −0.8 -->\n      <g transform=\"translate(151.745627 254.356562)scale(0.1 -0.1)\">\n       <defs>\n        <path d=\"M 31.78125 34.625 \nQ 24.75 34.625 20.71875 30.859375 \nQ 16.703125 27.09375 16.703125 20.515625 \nQ 16.703125 13.921875 20.71875 10.15625 \nQ 24.75 6.390625 31.78125 6.390625 \nQ 38.8125 6.390625 42.859375 10.171875 \nQ 46.921875 13.96875 46.921875 20.515625 \nQ 46.921875 27.09375 42.890625 30.859375 \nQ 38.875 34.625 31.78125 34.625 \nz\nM 21.921875 38.8125 \nQ 15.578125 40.375 12.03125 44.71875 \nQ 8.5 49.078125 8.5 55.328125 \nQ 8.5 64.0625 14.71875 69.140625 \nQ 20.953125 74.21875 31.78125 74.21875 \nQ 42.671875 74.21875 48.875 69.140625 \nQ 55.078125 64.0625 55.078125 55.328125 \nQ 55.078125 49.078125 51.53125 44.71875 \nQ 48 40.375 41.703125 38.8125 \nQ 48.828125 37.15625 52.796875 32.3125 \nQ 56.78125 27.484375 56.78125 20.515625 \nQ 56.78125 9.90625 50.3125 4.234375 \nQ 43.84375 -1.421875 31.78125 -1.421875 \nQ 19.734375 -1.421875 13.25 4.234375 \nQ 6.78125 9.90625 6.78125 20.515625 \nQ 6.78125 27.484375 10.78125 32.3125 \nQ 14.796875 37.15625 21.921875 38.8125 \nz\nM 18.3125 54.390625 \nQ 18.3125 48.734375 21.84375 45.5625 \nQ 25.390625 42.390625 31.78125 42.390625 \nQ 38.140625 42.390625 41.71875 45.5625 \nQ 45.3125 48.734375 45.3125 54.390625 \nQ 45.3125 60.0625 41.71875 63.234375 \nQ 38.140625 66.40625 31.78125 66.40625 \nQ 25.390625 66.40625 21.84375 63.234375 \nQ 18.3125 60.0625 18.3125 54.390625 \nz\n\" id=\"DejaVuSans-56\"/>\n       </defs>\n       <use xlink:href=\"#DejaVuSans-8722\"/>\n       <use x=\"83.789062\" xlink:href=\"#DejaVuSans-48\"/>\n       <use x=\"147.412109\" xlink:href=\"#DejaVuSans-46\"/>\n       <use x=\"179.199219\" xlink:href=\"#DejaVuSans-56\"/>\n      </g>\n     </g>\n    </g>\n    <g id=\"xtick_4\">\n     <g id=\"line2d_4\">\n      <g>\n       <use style=\"stroke:#000000;stroke-width:0.8;\" x=\"207.367553\" xlink:href=\"#m070313ce85\" y=\"239.758125\"/>\n      </g>\n     </g>\n     <g id=\"text_4\">\n      <!-- −0.7 -->\n      <g transform=\"translate(195.226147 254.356562)scale(0.1 -0.1)\">\n       <defs>\n        <path d=\"M 8.203125 72.90625 \nL 55.078125 72.90625 \nL 55.078125 68.703125 \nL 28.609375 0 \nL 18.3125 0 \nL 43.21875 64.59375 \nL 8.203125 64.59375 \nz\n\" id=\"DejaVuSans-55\"/>\n       </defs>\n       <use xlink:href=\"#DejaVuSans-8722\"/>\n       <use x=\"83.789062\" xlink:href=\"#DejaVuSans-48\"/>\n       <use x=\"147.412109\" xlink:href=\"#DejaVuSans-46\"/>\n       <use x=\"179.199219\" xlink:href=\"#DejaVuSans-55\"/>\n      </g>\n     </g>\n    </g>\n    <g id=\"xtick_5\">\n     <g id=\"line2d_5\">\n      <g>\n       <use style=\"stroke:#000000;stroke-width:0.8;\" x=\"250.848072\" xlink:href=\"#m070313ce85\" y=\"239.758125\"/>\n      </g>\n     </g>\n     <g id=\"text_5\">\n      <!-- −0.6 -->\n      <g transform=\"translate(238.706666 254.356562)scale(0.1 -0.1)\">\n       <defs>\n        <path d=\"M 33.015625 40.375 \nQ 26.375 40.375 22.484375 35.828125 \nQ 18.609375 31.296875 18.609375 23.390625 \nQ 18.609375 15.53125 22.484375 10.953125 \nQ 26.375 6.390625 33.015625 6.390625 \nQ 39.65625 6.390625 43.53125 10.953125 \nQ 47.40625 15.53125 47.40625 23.390625 \nQ 47.40625 31.296875 43.53125 35.828125 \nQ 39.65625 40.375 33.015625 40.375 \nz\nM 52.59375 71.296875 \nL 52.59375 62.3125 \nQ 48.875 64.0625 45.09375 64.984375 \nQ 41.3125 65.921875 37.59375 65.921875 \nQ 27.828125 65.921875 22.671875 59.328125 \nQ 17.53125 52.734375 16.796875 39.40625 \nQ 19.671875 43.65625 24.015625 45.921875 \nQ 28.375 48.1875 33.59375 48.1875 \nQ 44.578125 48.1875 50.953125 41.515625 \nQ 57.328125 34.859375 57.328125 23.390625 \nQ 57.328125 12.15625 50.6875 5.359375 \nQ 44.046875 -1.421875 33.015625 -1.421875 \nQ 20.359375 -1.421875 13.671875 8.265625 \nQ 6.984375 17.96875 6.984375 36.375 \nQ 6.984375 53.65625 15.1875 63.9375 \nQ 23.390625 74.21875 37.203125 74.21875 \nQ 40.921875 74.21875 44.703125 73.484375 \nQ 48.484375 72.75 52.59375 71.296875 \nz\n\" id=\"DejaVuSans-54\"/>\n       </defs>\n       <use xlink:href=\"#DejaVuSans-8722\"/>\n       <use x=\"83.789062\" xlink:href=\"#DejaVuSans-48\"/>\n       <use x=\"147.412109\" xlink:href=\"#DejaVuSans-46\"/>\n       <use x=\"179.199219\" xlink:href=\"#DejaVuSans-54\"/>\n      </g>\n     </g>\n    </g>\n    <g id=\"xtick_6\">\n     <g id=\"line2d_6\">\n      <g>\n       <use style=\"stroke:#000000;stroke-width:0.8;\" x=\"294.328592\" xlink:href=\"#m070313ce85\" y=\"239.758125\"/>\n      </g>\n     </g>\n     <g id=\"text_6\">\n      <!-- −0.5 -->\n      <g transform=\"translate(282.187185 254.356562)scale(0.1 -0.1)\">\n       <defs>\n        <path d=\"M 10.796875 72.90625 \nL 49.515625 72.90625 \nL 49.515625 64.59375 \nL 19.828125 64.59375 \nL 19.828125 46.734375 \nQ 21.96875 47.46875 24.109375 47.828125 \nQ 26.265625 48.1875 28.421875 48.1875 \nQ 40.625 48.1875 47.75 41.5 \nQ 54.890625 34.8125 54.890625 23.390625 \nQ 54.890625 11.625 47.5625 5.09375 \nQ 40.234375 -1.421875 26.90625 -1.421875 \nQ 22.3125 -1.421875 17.546875 -0.640625 \nQ 12.796875 0.140625 7.71875 1.703125 \nL 7.71875 11.625 \nQ 12.109375 9.234375 16.796875 8.0625 \nQ 21.484375 6.890625 26.703125 6.890625 \nQ 35.15625 6.890625 40.078125 11.328125 \nQ 45.015625 15.765625 45.015625 23.390625 \nQ 45.015625 31 40.078125 35.4375 \nQ 35.15625 39.890625 26.703125 39.890625 \nQ 22.75 39.890625 18.8125 39.015625 \nQ 14.890625 38.140625 10.796875 36.28125 \nz\n\" id=\"DejaVuSans-53\"/>\n       </defs>\n       <use xlink:href=\"#DejaVuSans-8722\"/>\n       <use x=\"83.789062\" xlink:href=\"#DejaVuSans-48\"/>\n       <use x=\"147.412109\" xlink:href=\"#DejaVuSans-46\"/>\n       <use x=\"179.199219\" xlink:href=\"#DejaVuSans-53\"/>\n      </g>\n     </g>\n    </g>\n    <g id=\"xtick_7\">\n     <g id=\"line2d_7\">\n      <g>\n       <use style=\"stroke:#000000;stroke-width:0.8;\" x=\"337.809111\" xlink:href=\"#m070313ce85\" y=\"239.758125\"/>\n      </g>\n     </g>\n     <g id=\"text_7\">\n      <!-- −0.4 -->\n      <g transform=\"translate(325.667705 254.356562)scale(0.1 -0.1)\">\n       <defs>\n        <path d=\"M 37.796875 64.3125 \nL 12.890625 25.390625 \nL 37.796875 25.390625 \nz\nM 35.203125 72.90625 \nL 47.609375 72.90625 \nL 47.609375 25.390625 \nL 58.015625 25.390625 \nL 58.015625 17.1875 \nL 47.609375 17.1875 \nL 47.609375 0 \nL 37.796875 0 \nL 37.796875 17.1875 \nL 4.890625 17.1875 \nL 4.890625 26.703125 \nz\n\" id=\"DejaVuSans-52\"/>\n       </defs>\n       <use xlink:href=\"#DejaVuSans-8722\"/>\n       <use x=\"83.789062\" xlink:href=\"#DejaVuSans-48\"/>\n       <use x=\"147.412109\" xlink:href=\"#DejaVuSans-46\"/>\n       <use x=\"179.199219\" xlink:href=\"#DejaVuSans-52\"/>\n      </g>\n     </g>\n    </g>\n    <g id=\"xtick_8\">\n     <g id=\"line2d_8\">\n      <g>\n       <use style=\"stroke:#000000;stroke-width:0.8;\" x=\"381.289631\" xlink:href=\"#m070313ce85\" y=\"239.758125\"/>\n      </g>\n     </g>\n     <g id=\"text_8\">\n      <!-- −0.3 -->\n      <g transform=\"translate(369.148224 254.356562)scale(0.1 -0.1)\">\n       <defs>\n        <path d=\"M 40.578125 39.3125 \nQ 47.65625 37.796875 51.625 33 \nQ 55.609375 28.21875 55.609375 21.1875 \nQ 55.609375 10.40625 48.1875 4.484375 \nQ 40.765625 -1.421875 27.09375 -1.421875 \nQ 22.515625 -1.421875 17.65625 -0.515625 \nQ 12.796875 0.390625 7.625 2.203125 \nL 7.625 11.71875 \nQ 11.71875 9.328125 16.59375 8.109375 \nQ 21.484375 6.890625 26.8125 6.890625 \nQ 36.078125 6.890625 40.9375 10.546875 \nQ 45.796875 14.203125 45.796875 21.1875 \nQ 45.796875 27.640625 41.28125 31.265625 \nQ 36.765625 34.90625 28.71875 34.90625 \nL 20.21875 34.90625 \nL 20.21875 43.015625 \nL 29.109375 43.015625 \nQ 36.375 43.015625 40.234375 45.921875 \nQ 44.09375 48.828125 44.09375 54.296875 \nQ 44.09375 59.90625 40.109375 62.90625 \nQ 36.140625 65.921875 28.71875 65.921875 \nQ 24.65625 65.921875 20.015625 65.03125 \nQ 15.375 64.15625 9.8125 62.3125 \nL 9.8125 71.09375 \nQ 15.4375 72.65625 20.34375 73.4375 \nQ 25.25 74.21875 29.59375 74.21875 \nQ 40.828125 74.21875 47.359375 69.109375 \nQ 53.90625 64.015625 53.90625 55.328125 \nQ 53.90625 49.265625 50.4375 45.09375 \nQ 46.96875 40.921875 40.578125 39.3125 \nz\n\" id=\"DejaVuSans-51\"/>\n       </defs>\n       <use xlink:href=\"#DejaVuSans-8722\"/>\n       <use x=\"83.789062\" xlink:href=\"#DejaVuSans-48\"/>\n       <use x=\"147.412109\" xlink:href=\"#DejaVuSans-46\"/>\n       <use x=\"179.199219\" xlink:href=\"#DejaVuSans-51\"/>\n      </g>\n     </g>\n    </g>\n    <g id=\"text_9\">\n     <!-- C9 coef. -->\n     <g transform=\"translate(208.974219 268.034687)scale(0.1 -0.1)\">\n      <defs>\n       <path d=\"M 64.40625 67.28125 \nL 64.40625 56.890625 \nQ 59.421875 61.53125 53.78125 63.8125 \nQ 48.140625 66.109375 41.796875 66.109375 \nQ 29.296875 66.109375 22.65625 58.46875 \nQ 16.015625 50.828125 16.015625 36.375 \nQ 16.015625 21.96875 22.65625 14.328125 \nQ 29.296875 6.6875 41.796875 6.6875 \nQ 48.140625 6.6875 53.78125 8.984375 \nQ 59.421875 11.28125 64.40625 15.921875 \nL 64.40625 5.609375 \nQ 59.234375 2.09375 53.4375 0.328125 \nQ 47.65625 -1.421875 41.21875 -1.421875 \nQ 24.65625 -1.421875 15.125 8.703125 \nQ 5.609375 18.84375 5.609375 36.375 \nQ 5.609375 53.953125 15.125 64.078125 \nQ 24.65625 74.21875 41.21875 74.21875 \nQ 47.75 74.21875 53.53125 72.484375 \nQ 59.328125 70.75 64.40625 67.28125 \nz\n\" id=\"DejaVuSans-67\"/>\n       <path id=\"DejaVuSans-32\"/>\n       <path d=\"M 48.78125 52.59375 \nL 48.78125 44.1875 \nQ 44.96875 46.296875 41.140625 47.34375 \nQ 37.3125 48.390625 33.40625 48.390625 \nQ 24.65625 48.390625 19.8125 42.84375 \nQ 14.984375 37.3125 14.984375 27.296875 \nQ 14.984375 17.28125 19.8125 11.734375 \nQ 24.65625 6.203125 33.40625 6.203125 \nQ 37.3125 6.203125 41.140625 7.25 \nQ 44.96875 8.296875 48.78125 10.40625 \nL 48.78125 2.09375 \nQ 45.015625 0.34375 40.984375 -0.53125 \nQ 36.96875 -1.421875 32.421875 -1.421875 \nQ 20.0625 -1.421875 12.78125 6.34375 \nQ 5.515625 14.109375 5.515625 27.296875 \nQ 5.515625 40.671875 12.859375 48.328125 \nQ 20.21875 56 33.015625 56 \nQ 37.15625 56 41.109375 55.140625 \nQ 45.0625 54.296875 48.78125 52.59375 \nz\n\" id=\"DejaVuSans-99\"/>\n       <path d=\"M 30.609375 48.390625 \nQ 23.390625 48.390625 19.1875 42.75 \nQ 14.984375 37.109375 14.984375 27.296875 \nQ 14.984375 17.484375 19.15625 11.84375 \nQ 23.34375 6.203125 30.609375 6.203125 \nQ 37.796875 6.203125 41.984375 11.859375 \nQ 46.1875 17.53125 46.1875 27.296875 \nQ 46.1875 37.015625 41.984375 42.703125 \nQ 37.796875 48.390625 30.609375 48.390625 \nz\nM 30.609375 56 \nQ 42.328125 56 49.015625 48.375 \nQ 55.71875 40.765625 55.71875 27.296875 \nQ 55.71875 13.875 49.015625 6.21875 \nQ 42.328125 -1.421875 30.609375 -1.421875 \nQ 18.84375 -1.421875 12.171875 6.21875 \nQ 5.515625 13.875 5.515625 27.296875 \nQ 5.515625 40.765625 12.171875 48.375 \nQ 18.84375 56 30.609375 56 \nz\n\" id=\"DejaVuSans-111\"/>\n       <path d=\"M 56.203125 29.59375 \nL 56.203125 25.203125 \nL 14.890625 25.203125 \nQ 15.484375 15.921875 20.484375 11.0625 \nQ 25.484375 6.203125 34.421875 6.203125 \nQ 39.59375 6.203125 44.453125 7.46875 \nQ 49.3125 8.734375 54.109375 11.28125 \nL 54.109375 2.78125 \nQ 49.265625 0.734375 44.1875 -0.34375 \nQ 39.109375 -1.421875 33.890625 -1.421875 \nQ 20.796875 -1.421875 13.15625 6.1875 \nQ 5.515625 13.8125 5.515625 26.8125 \nQ 5.515625 40.234375 12.765625 48.109375 \nQ 20.015625 56 32.328125 56 \nQ 43.359375 56 49.78125 48.890625 \nQ 56.203125 41.796875 56.203125 29.59375 \nz\nM 47.21875 32.234375 \nQ 47.125 39.59375 43.09375 43.984375 \nQ 39.0625 48.390625 32.421875 48.390625 \nQ 24.90625 48.390625 20.390625 44.140625 \nQ 15.875 39.890625 15.1875 32.171875 \nz\n\" id=\"DejaVuSans-101\"/>\n       <path d=\"M 37.109375 75.984375 \nL 37.109375 68.5 \nL 28.515625 68.5 \nQ 23.6875 68.5 21.796875 66.546875 \nQ 19.921875 64.59375 19.921875 59.515625 \nL 19.921875 54.6875 \nL 34.71875 54.6875 \nL 34.71875 47.703125 \nL 19.921875 47.703125 \nL 19.921875 0 \nL 10.890625 0 \nL 10.890625 47.703125 \nL 2.296875 47.703125 \nL 2.296875 54.6875 \nL 10.890625 54.6875 \nL 10.890625 58.5 \nQ 10.890625 67.625 15.140625 71.796875 \nQ 19.390625 75.984375 28.609375 75.984375 \nz\n\" id=\"DejaVuSans-102\"/>\n      </defs>\n      <use xlink:href=\"#DejaVuSans-67\"/>\n      <use x=\"69.824219\" xlink:href=\"#DejaVuSans-57\"/>\n      <use x=\"133.447266\" xlink:href=\"#DejaVuSans-32\"/>\n      <use x=\"165.234375\" xlink:href=\"#DejaVuSans-99\"/>\n      <use x=\"220.214844\" xlink:href=\"#DejaVuSans-111\"/>\n      <use x=\"281.396484\" xlink:href=\"#DejaVuSans-101\"/>\n      <use x=\"342.919922\" xlink:href=\"#DejaVuSans-102\"/>\n      <use x=\"370.875\" xlink:href=\"#DejaVuSans-46\"/>\n     </g>\n    </g>\n   </g>\n   <g id=\"matplotlib.axis_2\">\n    <g id=\"ytick_1\">\n     <g id=\"line2d_9\">\n      <defs>\n       <path d=\"M 0 0 \nL -3.5 0 \n\" id=\"m3bed3c59bb\" style=\"stroke:#000000;stroke-width:0.8;\"/>\n      </defs>\n      <g>\n       <use style=\"stroke:#000000;stroke-width:0.8;\" x=\"61.707813\" xlink:href=\"#m3bed3c59bb\" y=\"225.592315\"/>\n      </g>\n     </g>\n     <g id=\"text_10\">\n      <!-- −2000 -->\n      <g transform=\"translate(20.878125 229.391534)scale(0.1 -0.1)\">\n       <defs>\n        <path d=\"M 19.1875 8.296875 \nL 53.609375 8.296875 \nL 53.609375 0 \nL 7.328125 0 \nL 7.328125 8.296875 \nQ 12.9375 14.109375 22.625 23.890625 \nQ 32.328125 33.6875 34.8125 36.53125 \nQ 39.546875 41.84375 41.421875 45.53125 \nQ 43.3125 49.21875 43.3125 52.78125 \nQ 43.3125 58.59375 39.234375 62.25 \nQ 35.15625 65.921875 28.609375 65.921875 \nQ 23.96875 65.921875 18.8125 64.3125 \nQ 13.671875 62.703125 7.8125 59.421875 \nL 7.8125 69.390625 \nQ 13.765625 71.78125 18.9375 73 \nQ 24.125 74.21875 28.421875 74.21875 \nQ 39.75 74.21875 46.484375 68.546875 \nQ 53.21875 62.890625 53.21875 53.421875 \nQ 53.21875 48.921875 51.53125 44.890625 \nQ 49.859375 40.875 45.40625 35.40625 \nQ 44.1875 33.984375 37.640625 27.21875 \nQ 31.109375 20.453125 19.1875 8.296875 \nz\n\" id=\"DejaVuSans-50\"/>\n       </defs>\n       <use xlink:href=\"#DejaVuSans-8722\"/>\n       <use x=\"83.789062\" xlink:href=\"#DejaVuSans-50\"/>\n       <use x=\"147.412109\" xlink:href=\"#DejaVuSans-48\"/>\n       <use x=\"211.035156\" xlink:href=\"#DejaVuSans-48\"/>\n       <use x=\"274.658203\" xlink:href=\"#DejaVuSans-48\"/>\n      </g>\n     </g>\n    </g>\n    <g id=\"ytick_2\">\n     <g id=\"line2d_10\">\n      <g>\n       <use style=\"stroke:#000000;stroke-width:0.8;\" x=\"61.707813\" xlink:href=\"#m3bed3c59bb\" y=\"199.606489\"/>\n      </g>\n     </g>\n     <g id=\"text_11\">\n      <!-- −1750 -->\n      <g transform=\"translate(20.878125 203.405708)scale(0.1 -0.1)\">\n       <use xlink:href=\"#DejaVuSans-8722\"/>\n       <use x=\"83.789062\" xlink:href=\"#DejaVuSans-49\"/>\n       <use x=\"147.412109\" xlink:href=\"#DejaVuSans-55\"/>\n       <use x=\"211.035156\" xlink:href=\"#DejaVuSans-53\"/>\n       <use x=\"274.658203\" xlink:href=\"#DejaVuSans-48\"/>\n      </g>\n     </g>\n    </g>\n    <g id=\"ytick_3\">\n     <g id=\"line2d_11\">\n      <g>\n       <use style=\"stroke:#000000;stroke-width:0.8;\" x=\"61.707813\" xlink:href=\"#m3bed3c59bb\" y=\"173.620663\"/>\n      </g>\n     </g>\n     <g id=\"text_12\">\n      <!-- −1500 -->\n      <g transform=\"translate(20.878125 177.419882)scale(0.1 -0.1)\">\n       <use xlink:href=\"#DejaVuSans-8722\"/>\n       <use x=\"83.789062\" xlink:href=\"#DejaVuSans-49\"/>\n       <use x=\"147.412109\" xlink:href=\"#DejaVuSans-53\"/>\n       <use x=\"211.035156\" xlink:href=\"#DejaVuSans-48\"/>\n       <use x=\"274.658203\" xlink:href=\"#DejaVuSans-48\"/>\n      </g>\n     </g>\n    </g>\n    <g id=\"ytick_4\">\n     <g id=\"line2d_12\">\n      <g>\n       <use style=\"stroke:#000000;stroke-width:0.8;\" x=\"61.707813\" xlink:href=\"#m3bed3c59bb\" y=\"147.634837\"/>\n      </g>\n     </g>\n     <g id=\"text_13\">\n      <!-- −1250 -->\n      <g transform=\"translate(20.878125 151.434056)scale(0.1 -0.1)\">\n       <use xlink:href=\"#DejaVuSans-8722\"/>\n       <use x=\"83.789062\" xlink:href=\"#DejaVuSans-49\"/>\n       <use x=\"147.412109\" xlink:href=\"#DejaVuSans-50\"/>\n       <use x=\"211.035156\" xlink:href=\"#DejaVuSans-53\"/>\n       <use x=\"274.658203\" xlink:href=\"#DejaVuSans-48\"/>\n      </g>\n     </g>\n    </g>\n    <g id=\"ytick_5\">\n     <g id=\"line2d_13\">\n      <g>\n       <use style=\"stroke:#000000;stroke-width:0.8;\" x=\"61.707813\" xlink:href=\"#m3bed3c59bb\" y=\"121.649011\"/>\n      </g>\n     </g>\n     <g id=\"text_14\">\n      <!-- −1000 -->\n      <g transform=\"translate(20.878125 125.448229)scale(0.1 -0.1)\">\n       <use xlink:href=\"#DejaVuSans-8722\"/>\n       <use x=\"83.789062\" xlink:href=\"#DejaVuSans-49\"/>\n       <use x=\"147.412109\" xlink:href=\"#DejaVuSans-48\"/>\n       <use x=\"211.035156\" xlink:href=\"#DejaVuSans-48\"/>\n       <use x=\"274.658203\" xlink:href=\"#DejaVuSans-48\"/>\n      </g>\n     </g>\n    </g>\n    <g id=\"ytick_6\">\n     <g id=\"line2d_14\">\n      <g>\n       <use style=\"stroke:#000000;stroke-width:0.8;\" x=\"61.707813\" xlink:href=\"#m3bed3c59bb\" y=\"95.663185\"/>\n      </g>\n     </g>\n     <g id=\"text_15\">\n      <!-- −750 -->\n      <g transform=\"translate(27.240625 99.462403)scale(0.1 -0.1)\">\n       <use xlink:href=\"#DejaVuSans-8722\"/>\n       <use x=\"83.789062\" xlink:href=\"#DejaVuSans-55\"/>\n       <use x=\"147.412109\" xlink:href=\"#DejaVuSans-53\"/>\n       <use x=\"211.035156\" xlink:href=\"#DejaVuSans-48\"/>\n      </g>\n     </g>\n    </g>\n    <g id=\"ytick_7\">\n     <g id=\"line2d_15\">\n      <g>\n       <use style=\"stroke:#000000;stroke-width:0.8;\" x=\"61.707813\" xlink:href=\"#m3bed3c59bb\" y=\"69.677358\"/>\n      </g>\n     </g>\n     <g id=\"text_16\">\n      <!-- −500 -->\n      <g transform=\"translate(27.240625 73.476577)scale(0.1 -0.1)\">\n       <use xlink:href=\"#DejaVuSans-8722\"/>\n       <use x=\"83.789062\" xlink:href=\"#DejaVuSans-53\"/>\n       <use x=\"147.412109\" xlink:href=\"#DejaVuSans-48\"/>\n       <use x=\"211.035156\" xlink:href=\"#DejaVuSans-48\"/>\n      </g>\n     </g>\n    </g>\n    <g id=\"ytick_8\">\n     <g id=\"line2d_16\">\n      <g>\n       <use style=\"stroke:#000000;stroke-width:0.8;\" x=\"61.707813\" xlink:href=\"#m3bed3c59bb\" y=\"43.691532\"/>\n      </g>\n     </g>\n     <g id=\"text_17\">\n      <!-- −250 -->\n      <g transform=\"translate(27.240625 47.490751)scale(0.1 -0.1)\">\n       <use xlink:href=\"#DejaVuSans-8722\"/>\n       <use x=\"83.789062\" xlink:href=\"#DejaVuSans-50\"/>\n       <use x=\"147.412109\" xlink:href=\"#DejaVuSans-53\"/>\n       <use x=\"211.035156\" xlink:href=\"#DejaVuSans-48\"/>\n      </g>\n     </g>\n    </g>\n    <g id=\"text_18\">\n     <!-- Loglikelihood -->\n     <g transform=\"translate(14.798438 163.77875)rotate(-90)scale(0.1 -0.1)\">\n      <defs>\n       <path d=\"M 9.8125 72.90625 \nL 19.671875 72.90625 \nL 19.671875 8.296875 \nL 55.171875 8.296875 \nL 55.171875 0 \nL 9.8125 0 \nz\n\" id=\"DejaVuSans-76\"/>\n       <path d=\"M 45.40625 27.984375 \nQ 45.40625 37.75 41.375 43.109375 \nQ 37.359375 48.484375 30.078125 48.484375 \nQ 22.859375 48.484375 18.828125 43.109375 \nQ 14.796875 37.75 14.796875 27.984375 \nQ 14.796875 18.265625 18.828125 12.890625 \nQ 22.859375 7.515625 30.078125 7.515625 \nQ 37.359375 7.515625 41.375 12.890625 \nQ 45.40625 18.265625 45.40625 27.984375 \nz\nM 54.390625 6.78125 \nQ 54.390625 -7.171875 48.1875 -13.984375 \nQ 42 -20.796875 29.203125 -20.796875 \nQ 24.46875 -20.796875 20.265625 -20.09375 \nQ 16.0625 -19.390625 12.109375 -17.921875 \nL 12.109375 -9.1875 \nQ 16.0625 -11.328125 19.921875 -12.34375 \nQ 23.78125 -13.375 27.78125 -13.375 \nQ 36.625 -13.375 41.015625 -8.765625 \nQ 45.40625 -4.15625 45.40625 5.171875 \nL 45.40625 9.625 \nQ 42.625 4.78125 38.28125 2.390625 \nQ 33.9375 0 27.875 0 \nQ 17.828125 0 11.671875 7.65625 \nQ 5.515625 15.328125 5.515625 27.984375 \nQ 5.515625 40.671875 11.671875 48.328125 \nQ 17.828125 56 27.875 56 \nQ 33.9375 56 38.28125 53.609375 \nQ 42.625 51.21875 45.40625 46.390625 \nL 45.40625 54.6875 \nL 54.390625 54.6875 \nz\n\" id=\"DejaVuSans-103\"/>\n       <path d=\"M 9.421875 75.984375 \nL 18.40625 75.984375 \nL 18.40625 0 \nL 9.421875 0 \nz\n\" id=\"DejaVuSans-108\"/>\n       <path d=\"M 9.421875 54.6875 \nL 18.40625 54.6875 \nL 18.40625 0 \nL 9.421875 0 \nz\nM 9.421875 75.984375 \nL 18.40625 75.984375 \nL 18.40625 64.59375 \nL 9.421875 64.59375 \nz\n\" id=\"DejaVuSans-105\"/>\n       <path d=\"M 9.078125 75.984375 \nL 18.109375 75.984375 \nL 18.109375 31.109375 \nL 44.921875 54.6875 \nL 56.390625 54.6875 \nL 27.390625 29.109375 \nL 57.625 0 \nL 45.90625 0 \nL 18.109375 26.703125 \nL 18.109375 0 \nL 9.078125 0 \nz\n\" id=\"DejaVuSans-107\"/>\n       <path d=\"M 54.890625 33.015625 \nL 54.890625 0 \nL 45.90625 0 \nL 45.90625 32.71875 \nQ 45.90625 40.484375 42.875 44.328125 \nQ 39.84375 48.1875 33.796875 48.1875 \nQ 26.515625 48.1875 22.3125 43.546875 \nQ 18.109375 38.921875 18.109375 30.90625 \nL 18.109375 0 \nL 9.078125 0 \nL 9.078125 75.984375 \nL 18.109375 75.984375 \nL 18.109375 46.1875 \nQ 21.34375 51.125 25.703125 53.5625 \nQ 30.078125 56 35.796875 56 \nQ 45.21875 56 50.046875 50.171875 \nQ 54.890625 44.34375 54.890625 33.015625 \nz\n\" id=\"DejaVuSans-104\"/>\n       <path d=\"M 45.40625 46.390625 \nL 45.40625 75.984375 \nL 54.390625 75.984375 \nL 54.390625 0 \nL 45.40625 0 \nL 45.40625 8.203125 \nQ 42.578125 3.328125 38.25 0.953125 \nQ 33.9375 -1.421875 27.875 -1.421875 \nQ 17.96875 -1.421875 11.734375 6.484375 \nQ 5.515625 14.40625 5.515625 27.296875 \nQ 5.515625 40.1875 11.734375 48.09375 \nQ 17.96875 56 27.875 56 \nQ 33.9375 56 38.25 53.625 \nQ 42.578125 51.265625 45.40625 46.390625 \nz\nM 14.796875 27.296875 \nQ 14.796875 17.390625 18.875 11.75 \nQ 22.953125 6.109375 30.078125 6.109375 \nQ 37.203125 6.109375 41.296875 11.75 \nQ 45.40625 17.390625 45.40625 27.296875 \nQ 45.40625 37.203125 41.296875 42.84375 \nQ 37.203125 48.484375 30.078125 48.484375 \nQ 22.953125 48.484375 18.875 42.84375 \nQ 14.796875 37.203125 14.796875 27.296875 \nz\n\" id=\"DejaVuSans-100\"/>\n      </defs>\n      <use xlink:href=\"#DejaVuSans-76\"/>\n      <use x=\"53.962891\" xlink:href=\"#DejaVuSans-111\"/>\n      <use x=\"115.144531\" xlink:href=\"#DejaVuSans-103\"/>\n      <use x=\"178.621094\" xlink:href=\"#DejaVuSans-108\"/>\n      <use x=\"206.404297\" xlink:href=\"#DejaVuSans-105\"/>\n      <use x=\"234.1875\" xlink:href=\"#DejaVuSans-107\"/>\n      <use x=\"288.472656\" xlink:href=\"#DejaVuSans-101\"/>\n      <use x=\"349.996094\" xlink:href=\"#DejaVuSans-108\"/>\n      <use x=\"377.779297\" xlink:href=\"#DejaVuSans-105\"/>\n      <use x=\"405.5625\" xlink:href=\"#DejaVuSans-104\"/>\n      <use x=\"468.941406\" xlink:href=\"#DejaVuSans-111\"/>\n      <use x=\"530.123047\" xlink:href=\"#DejaVuSans-111\"/>\n      <use x=\"591.304688\" xlink:href=\"#DejaVuSans-100\"/>\n     </g>\n    </g>\n   </g>\n   <g id=\"LineCollection_1\">\n    <path clip-path=\"url(#p210b808fad)\" d=\"M 76.925994 35.257175 \nL 76.925994 35.12536 \n\" style=\"fill:none;stroke:#1f77b4;stroke-width:1.5;\"/>\n    <path clip-path=\"url(#p210b808fad)\" d=\"M 120.406514 33.735636 \nL 120.406514 33.594632 \n\" style=\"fill:none;stroke:#1f77b4;stroke-width:1.5;\"/>\n    <path clip-path=\"url(#p210b808fad)\" d=\"M 163.887033 34.108427 \nL 163.887033 34.001354 \n\" style=\"fill:none;stroke:#1f77b4;stroke-width:1.5;\"/>\n    <path clip-path=\"url(#p210b808fad)\" d=\"M 207.367553 33.885905 \nL 207.367553 33.765931 \n\" style=\"fill:none;stroke:#1f77b4;stroke-width:1.5;\"/>\n    <path clip-path=\"url(#p210b808fad)\" d=\"M 250.848072 35.051807 \nL 250.848072 34.939119 \n\" style=\"fill:none;stroke:#1f77b4;stroke-width:1.5;\"/>\n    <path clip-path=\"url(#p210b808fad)\" d=\"M 294.328592 32.748347 \nL 294.328592 32.661198 \n\" style=\"fill:none;stroke:#1f77b4;stroke-width:1.5;\"/>\n    <path clip-path=\"url(#p210b808fad)\" d=\"M 337.809111 34.96602 \nL 337.809111 34.89115 \n\" style=\"fill:none;stroke:#1f77b4;stroke-width:1.5;\"/>\n    <path clip-path=\"url(#p210b808fad)\" d=\"M 381.289631 32.264319 \nL 381.289631 32.201761 \n\" style=\"fill:none;stroke:#1f77b4;stroke-width:1.5;\"/>\n   </g>\n   <g id=\"LineCollection_2\">\n    <path clip-path=\"url(#p210b808fad)\" d=\"M 76.925994 212.795801 \nL 76.925994 212.031507 \n\" style=\"fill:none;stroke:#ff7f0e;stroke-width:1.5;\"/>\n    <path clip-path=\"url(#p210b808fad)\" d=\"M 120.406514 221.897555 \nL 120.406514 221.012484 \n\" style=\"fill:none;stroke:#ff7f0e;stroke-width:1.5;\"/>\n    <path clip-path=\"url(#p210b808fad)\" d=\"M 163.887033 218.956713 \nL 163.887033 218.298343 \n\" style=\"fill:none;stroke:#ff7f0e;stroke-width:1.5;\"/>\n    <path clip-path=\"url(#p210b808fad)\" d=\"M 207.367553 220.438202 \nL 207.367553 219.716065 \n\" style=\"fill:none;stroke:#ff7f0e;stroke-width:1.5;\"/>\n    <path clip-path=\"url(#p210b808fad)\" d=\"M 250.848072 213.533904 \nL 250.848072 212.89578 \n\" style=\"fill:none;stroke:#ff7f0e;stroke-width:1.5;\"/>\n    <path clip-path=\"url(#p210b808fad)\" d=\"M 294.328592 227.065712 \nL 294.328592 226.510067 \n\" style=\"fill:none;stroke:#ff7f0e;stroke-width:1.5;\"/>\n    <path clip-path=\"url(#p210b808fad)\" d=\"M 337.809111 213.51393 \nL 337.809111 213.089037 \n\" style=\"fill:none;stroke:#ff7f0e;stroke-width:1.5;\"/>\n    <path clip-path=\"url(#p210b808fad)\" d=\"M 381.289631 229.874489 \nL 381.289631 229.462217 \n\" style=\"fill:none;stroke:#ff7f0e;stroke-width:1.5;\"/>\n   </g>\n   <g id=\"line2d_17\">\n    <defs>\n     <path d=\"M 4 0 \nL -4 -0 \n\" id=\"m619ced8e5c\" style=\"stroke:#1f77b4;\"/>\n    </defs>\n    <g clip-path=\"url(#p210b808fad)\">\n     <use style=\"fill:#1f77b4;stroke:#1f77b4;\" x=\"76.925994\" xlink:href=\"#m619ced8e5c\" y=\"35.257175\"/>\n     <use style=\"fill:#1f77b4;stroke:#1f77b4;\" x=\"120.406514\" xlink:href=\"#m619ced8e5c\" y=\"33.735636\"/>\n     <use style=\"fill:#1f77b4;stroke:#1f77b4;\" x=\"163.887033\" xlink:href=\"#m619ced8e5c\" y=\"34.108427\"/>\n     <use style=\"fill:#1f77b4;stroke:#1f77b4;\" x=\"207.367553\" xlink:href=\"#m619ced8e5c\" y=\"33.885905\"/>\n     <use style=\"fill:#1f77b4;stroke:#1f77b4;\" x=\"250.848072\" xlink:href=\"#m619ced8e5c\" y=\"35.051807\"/>\n     <use style=\"fill:#1f77b4;stroke:#1f77b4;\" x=\"294.328592\" xlink:href=\"#m619ced8e5c\" y=\"32.748347\"/>\n     <use style=\"fill:#1f77b4;stroke:#1f77b4;\" x=\"337.809111\" xlink:href=\"#m619ced8e5c\" y=\"34.96602\"/>\n     <use style=\"fill:#1f77b4;stroke:#1f77b4;\" x=\"381.289631\" xlink:href=\"#m619ced8e5c\" y=\"32.264319\"/>\n    </g>\n   </g>\n   <g id=\"line2d_18\">\n    <g clip-path=\"url(#p210b808fad)\">\n     <use style=\"fill:#1f77b4;stroke:#1f77b4;\" x=\"76.925994\" xlink:href=\"#m619ced8e5c\" y=\"35.12536\"/>\n     <use style=\"fill:#1f77b4;stroke:#1f77b4;\" x=\"120.406514\" xlink:href=\"#m619ced8e5c\" y=\"33.594632\"/>\n     <use style=\"fill:#1f77b4;stroke:#1f77b4;\" x=\"163.887033\" xlink:href=\"#m619ced8e5c\" y=\"34.001354\"/>\n     <use style=\"fill:#1f77b4;stroke:#1f77b4;\" x=\"207.367553\" xlink:href=\"#m619ced8e5c\" y=\"33.765931\"/>\n     <use style=\"fill:#1f77b4;stroke:#1f77b4;\" x=\"250.848072\" xlink:href=\"#m619ced8e5c\" y=\"34.939119\"/>\n     <use style=\"fill:#1f77b4;stroke:#1f77b4;\" x=\"294.328592\" xlink:href=\"#m619ced8e5c\" y=\"32.661198\"/>\n     <use style=\"fill:#1f77b4;stroke:#1f77b4;\" x=\"337.809111\" xlink:href=\"#m619ced8e5c\" y=\"34.89115\"/>\n     <use style=\"fill:#1f77b4;stroke:#1f77b4;\" x=\"381.289631\" xlink:href=\"#m619ced8e5c\" y=\"32.201761\"/>\n    </g>\n   </g>\n   <g id=\"line2d_19\">\n    <defs>\n     <path d=\"M 4 0 \nL -4 -0 \n\" id=\"m30e871f020\" style=\"stroke:#ff7f0e;\"/>\n    </defs>\n    <g clip-path=\"url(#p210b808fad)\">\n     <use style=\"fill:#ff7f0e;stroke:#ff7f0e;\" x=\"76.925994\" xlink:href=\"#m30e871f020\" y=\"212.795801\"/>\n     <use style=\"fill:#ff7f0e;stroke:#ff7f0e;\" x=\"120.406514\" xlink:href=\"#m30e871f020\" y=\"221.897555\"/>\n     <use style=\"fill:#ff7f0e;stroke:#ff7f0e;\" x=\"163.887033\" xlink:href=\"#m30e871f020\" y=\"218.956713\"/>\n     <use style=\"fill:#ff7f0e;stroke:#ff7f0e;\" x=\"207.367553\" xlink:href=\"#m30e871f020\" y=\"220.438202\"/>\n     <use style=\"fill:#ff7f0e;stroke:#ff7f0e;\" x=\"250.848072\" xlink:href=\"#m30e871f020\" y=\"213.533904\"/>\n     <use style=\"fill:#ff7f0e;stroke:#ff7f0e;\" x=\"294.328592\" xlink:href=\"#m30e871f020\" y=\"227.065712\"/>\n     <use style=\"fill:#ff7f0e;stroke:#ff7f0e;\" x=\"337.809111\" xlink:href=\"#m30e871f020\" y=\"213.51393\"/>\n     <use style=\"fill:#ff7f0e;stroke:#ff7f0e;\" x=\"381.289631\" xlink:href=\"#m30e871f020\" y=\"229.874489\"/>\n    </g>\n   </g>\n   <g id=\"line2d_20\">\n    <g clip-path=\"url(#p210b808fad)\">\n     <use style=\"fill:#ff7f0e;stroke:#ff7f0e;\" x=\"76.925994\" xlink:href=\"#m30e871f020\" y=\"212.031507\"/>\n     <use style=\"fill:#ff7f0e;stroke:#ff7f0e;\" x=\"120.406514\" xlink:href=\"#m30e871f020\" y=\"221.012484\"/>\n     <use style=\"fill:#ff7f0e;stroke:#ff7f0e;\" x=\"163.887033\" xlink:href=\"#m30e871f020\" y=\"218.298343\"/>\n     <use style=\"fill:#ff7f0e;stroke:#ff7f0e;\" x=\"207.367553\" xlink:href=\"#m30e871f020\" y=\"219.716065\"/>\n     <use style=\"fill:#ff7f0e;stroke:#ff7f0e;\" x=\"250.848072\" xlink:href=\"#m30e871f020\" y=\"212.89578\"/>\n     <use style=\"fill:#ff7f0e;stroke:#ff7f0e;\" x=\"294.328592\" xlink:href=\"#m30e871f020\" y=\"226.510067\"/>\n     <use style=\"fill:#ff7f0e;stroke:#ff7f0e;\" x=\"337.809111\" xlink:href=\"#m30e871f020\" y=\"213.089037\"/>\n     <use style=\"fill:#ff7f0e;stroke:#ff7f0e;\" x=\"381.289631\" xlink:href=\"#m30e871f020\" y=\"229.462217\"/>\n    </g>\n   </g>\n   <g id=\"line2d_21\">\n    <defs>\n     <path d=\"M 0 1.5 \nC 0.397805 1.5 0.77937 1.341951 1.06066 1.06066 \nC 1.341951 0.77937 1.5 0.397805 1.5 0 \nC 1.5 -0.397805 1.341951 -0.77937 1.06066 -1.06066 \nC 0.77937 -1.341951 0.397805 -1.5 0 -1.5 \nC -0.397805 -1.5 -0.77937 -1.341951 -1.06066 -1.06066 \nC -1.341951 -0.77937 -1.5 -0.397805 -1.5 0 \nC -1.5 0.397805 -1.341951 0.77937 -1.06066 1.06066 \nC -0.77937 1.341951 -0.397805 1.5 0 1.5 \nz\n\" id=\"m75c839d624\" style=\"stroke:#1f77b4;\"/>\n    </defs>\n    <g clip-path=\"url(#p210b808fad)\">\n     <use style=\"fill:#1f77b4;stroke:#1f77b4;\" x=\"76.925994\" xlink:href=\"#m75c839d624\" y=\"35.191267\"/>\n     <use style=\"fill:#1f77b4;stroke:#1f77b4;\" x=\"120.406514\" xlink:href=\"#m75c839d624\" y=\"33.665134\"/>\n     <use style=\"fill:#1f77b4;stroke:#1f77b4;\" x=\"163.887033\" xlink:href=\"#m75c839d624\" y=\"34.05489\"/>\n     <use style=\"fill:#1f77b4;stroke:#1f77b4;\" x=\"207.367553\" xlink:href=\"#m75c839d624\" y=\"33.825918\"/>\n     <use style=\"fill:#1f77b4;stroke:#1f77b4;\" x=\"250.848072\" xlink:href=\"#m75c839d624\" y=\"34.995463\"/>\n     <use style=\"fill:#1f77b4;stroke:#1f77b4;\" x=\"294.328592\" xlink:href=\"#m75c839d624\" y=\"32.704773\"/>\n     <use style=\"fill:#1f77b4;stroke:#1f77b4;\" x=\"337.809111\" xlink:href=\"#m75c839d624\" y=\"34.928585\"/>\n     <use style=\"fill:#1f77b4;stroke:#1f77b4;\" x=\"381.289631\" xlink:href=\"#m75c839d624\" y=\"32.23304\"/>\n    </g>\n   </g>\n   <g id=\"line2d_22\">\n    <defs>\n     <path d=\"M 0 1.5 \nC 0.397805 1.5 0.77937 1.341951 1.06066 1.06066 \nC 1.341951 0.77937 1.5 0.397805 1.5 0 \nC 1.5 -0.397805 1.341951 -0.77937 1.06066 -1.06066 \nC 0.77937 -1.341951 0.397805 -1.5 0 -1.5 \nC -0.397805 -1.5 -0.77937 -1.341951 -1.06066 -1.06066 \nC -1.341951 -0.77937 -1.5 -0.397805 -1.5 0 \nC -1.5 0.397805 -1.341951 0.77937 -1.06066 1.06066 \nC -0.77937 1.341951 -0.397805 1.5 0 1.5 \nz\n\" id=\"m2e6ec4d927\" style=\"stroke:#ff7f0e;\"/>\n    </defs>\n    <g clip-path=\"url(#p210b808fad)\">\n     <use style=\"fill:#ff7f0e;stroke:#ff7f0e;\" x=\"76.925994\" xlink:href=\"#m2e6ec4d927\" y=\"212.413654\"/>\n     <use style=\"fill:#ff7f0e;stroke:#ff7f0e;\" x=\"120.406514\" xlink:href=\"#m2e6ec4d927\" y=\"221.455019\"/>\n     <use style=\"fill:#ff7f0e;stroke:#ff7f0e;\" x=\"163.887033\" xlink:href=\"#m2e6ec4d927\" y=\"218.627528\"/>\n     <use style=\"fill:#ff7f0e;stroke:#ff7f0e;\" x=\"207.367553\" xlink:href=\"#m2e6ec4d927\" y=\"220.077134\"/>\n     <use style=\"fill:#ff7f0e;stroke:#ff7f0e;\" x=\"250.848072\" xlink:href=\"#m2e6ec4d927\" y=\"213.214842\"/>\n     <use style=\"fill:#ff7f0e;stroke:#ff7f0e;\" x=\"294.328592\" xlink:href=\"#m2e6ec4d927\" y=\"226.787889\"/>\n     <use style=\"fill:#ff7f0e;stroke:#ff7f0e;\" x=\"337.809111\" xlink:href=\"#m2e6ec4d927\" y=\"213.301483\"/>\n     <use style=\"fill:#ff7f0e;stroke:#ff7f0e;\" x=\"381.289631\" xlink:href=\"#m2e6ec4d927\" y=\"229.668353\"/>\n    </g>\n   </g>\n   <g id=\"patch_3\">\n    <path d=\"M 61.707813 239.758125 \nL 61.707813 22.318125 \n\" style=\"fill:none;stroke:#000000;stroke-linecap:square;stroke-linejoin:miter;stroke-width:0.8;\"/>\n   </g>\n   <g id=\"patch_4\">\n    <path d=\"M 396.507812 239.758125 \nL 396.507812 22.318125 \n\" style=\"fill:none;stroke:#000000;stroke-linecap:square;stroke-linejoin:miter;stroke-width:0.8;\"/>\n   </g>\n   <g id=\"patch_5\">\n    <path d=\"M 61.707812 239.758125 \nL 396.507812 239.758125 \n\" style=\"fill:none;stroke:#000000;stroke-linecap:square;stroke-linejoin:miter;stroke-width:0.8;\"/>\n   </g>\n   <g id=\"patch_6\">\n    <path d=\"M 61.707812 22.318125 \nL 396.507812 22.318125 \n\" style=\"fill:none;stroke:#000000;stroke-linecap:square;stroke-linejoin:miter;stroke-width:0.8;\"/>\n   </g>\n   <g id=\"text_19\">\n    <!-- MLP Classifier for SM data -->\n    <g transform=\"translate(151.2025 16.318125)scale(0.12 -0.12)\">\n     <defs>\n      <path d=\"M 9.8125 72.90625 \nL 24.515625 72.90625 \nL 43.109375 23.296875 \nL 61.8125 72.90625 \nL 76.515625 72.90625 \nL 76.515625 0 \nL 66.890625 0 \nL 66.890625 64.015625 \nL 48.09375 14.015625 \nL 38.1875 14.015625 \nL 19.390625 64.015625 \nL 19.390625 0 \nL 9.8125 0 \nz\n\" id=\"DejaVuSans-77\"/>\n      <path d=\"M 19.671875 64.796875 \nL 19.671875 37.40625 \nL 32.078125 37.40625 \nQ 38.96875 37.40625 42.71875 40.96875 \nQ 46.484375 44.53125 46.484375 51.125 \nQ 46.484375 57.671875 42.71875 61.234375 \nQ 38.96875 64.796875 32.078125 64.796875 \nz\nM 9.8125 72.90625 \nL 32.078125 72.90625 \nQ 44.34375 72.90625 50.609375 67.359375 \nQ 56.890625 61.8125 56.890625 51.125 \nQ 56.890625 40.328125 50.609375 34.8125 \nQ 44.34375 29.296875 32.078125 29.296875 \nL 19.671875 29.296875 \nL 19.671875 0 \nL 9.8125 0 \nz\n\" id=\"DejaVuSans-80\"/>\n      <path d=\"M 34.28125 27.484375 \nQ 23.390625 27.484375 19.1875 25 \nQ 14.984375 22.515625 14.984375 16.5 \nQ 14.984375 11.71875 18.140625 8.90625 \nQ 21.296875 6.109375 26.703125 6.109375 \nQ 34.1875 6.109375 38.703125 11.40625 \nQ 43.21875 16.703125 43.21875 25.484375 \nL 43.21875 27.484375 \nz\nM 52.203125 31.203125 \nL 52.203125 0 \nL 43.21875 0 \nL 43.21875 8.296875 \nQ 40.140625 3.328125 35.546875 0.953125 \nQ 30.953125 -1.421875 24.3125 -1.421875 \nQ 15.921875 -1.421875 10.953125 3.296875 \nQ 6 8.015625 6 15.921875 \nQ 6 25.140625 12.171875 29.828125 \nQ 18.359375 34.515625 30.609375 34.515625 \nL 43.21875 34.515625 \nL 43.21875 35.40625 \nQ 43.21875 41.609375 39.140625 45 \nQ 35.0625 48.390625 27.6875 48.390625 \nQ 23 48.390625 18.546875 47.265625 \nQ 14.109375 46.140625 10.015625 43.890625 \nL 10.015625 52.203125 \nQ 14.9375 54.109375 19.578125 55.046875 \nQ 24.21875 56 28.609375 56 \nQ 40.484375 56 46.34375 49.84375 \nQ 52.203125 43.703125 52.203125 31.203125 \nz\n\" id=\"DejaVuSans-97\"/>\n      <path d=\"M 44.28125 53.078125 \nL 44.28125 44.578125 \nQ 40.484375 46.53125 36.375 47.5 \nQ 32.28125 48.484375 27.875 48.484375 \nQ 21.1875 48.484375 17.84375 46.4375 \nQ 14.5 44.390625 14.5 40.28125 \nQ 14.5 37.15625 16.890625 35.375 \nQ 19.28125 33.59375 26.515625 31.984375 \nL 29.59375 31.296875 \nQ 39.15625 29.25 43.1875 25.515625 \nQ 47.21875 21.78125 47.21875 15.09375 \nQ 47.21875 7.46875 41.1875 3.015625 \nQ 35.15625 -1.421875 24.609375 -1.421875 \nQ 20.21875 -1.421875 15.453125 -0.5625 \nQ 10.6875 0.296875 5.421875 2 \nL 5.421875 11.28125 \nQ 10.40625 8.6875 15.234375 7.390625 \nQ 20.0625 6.109375 24.8125 6.109375 \nQ 31.15625 6.109375 34.5625 8.28125 \nQ 37.984375 10.453125 37.984375 14.40625 \nQ 37.984375 18.0625 35.515625 20.015625 \nQ 33.0625 21.96875 24.703125 23.78125 \nL 21.578125 24.515625 \nQ 13.234375 26.265625 9.515625 29.90625 \nQ 5.8125 33.546875 5.8125 39.890625 \nQ 5.8125 47.609375 11.28125 51.796875 \nQ 16.75 56 26.8125 56 \nQ 31.78125 56 36.171875 55.265625 \nQ 40.578125 54.546875 44.28125 53.078125 \nz\n\" id=\"DejaVuSans-115\"/>\n      <path d=\"M 41.109375 46.296875 \nQ 39.59375 47.171875 37.8125 47.578125 \nQ 36.03125 48 33.890625 48 \nQ 26.265625 48 22.1875 43.046875 \nQ 18.109375 38.09375 18.109375 28.8125 \nL 18.109375 0 \nL 9.078125 0 \nL 9.078125 54.6875 \nL 18.109375 54.6875 \nL 18.109375 46.1875 \nQ 20.953125 51.171875 25.484375 53.578125 \nQ 30.03125 56 36.53125 56 \nQ 37.453125 56 38.578125 55.875 \nQ 39.703125 55.765625 41.0625 55.515625 \nz\n\" id=\"DejaVuSans-114\"/>\n      <path d=\"M 53.515625 70.515625 \nL 53.515625 60.890625 \nQ 47.90625 63.578125 42.921875 64.890625 \nQ 37.9375 66.21875 33.296875 66.21875 \nQ 25.25 66.21875 20.875 63.09375 \nQ 16.5 59.96875 16.5 54.203125 \nQ 16.5 49.359375 19.40625 46.890625 \nQ 22.3125 44.4375 30.421875 42.921875 \nL 36.375 41.703125 \nQ 47.40625 39.59375 52.65625 34.296875 \nQ 57.90625 29 57.90625 20.125 \nQ 57.90625 9.515625 50.796875 4.046875 \nQ 43.703125 -1.421875 29.984375 -1.421875 \nQ 24.8125 -1.421875 18.96875 -0.25 \nQ 13.140625 0.921875 6.890625 3.21875 \nL 6.890625 13.375 \nQ 12.890625 10.015625 18.65625 8.296875 \nQ 24.421875 6.59375 29.984375 6.59375 \nQ 38.421875 6.59375 43.015625 9.90625 \nQ 47.609375 13.234375 47.609375 19.390625 \nQ 47.609375 24.75 44.3125 27.78125 \nQ 41.015625 30.8125 33.5 32.328125 \nL 27.484375 33.5 \nQ 16.453125 35.6875 11.515625 40.375 \nQ 6.59375 45.0625 6.59375 53.421875 \nQ 6.59375 63.09375 13.40625 68.65625 \nQ 20.21875 74.21875 32.171875 74.21875 \nQ 37.3125 74.21875 42.625 73.28125 \nQ 47.953125 72.359375 53.515625 70.515625 \nz\n\" id=\"DejaVuSans-83\"/>\n      <path d=\"M 18.3125 70.21875 \nL 18.3125 54.6875 \nL 36.8125 54.6875 \nL 36.8125 47.703125 \nL 18.3125 47.703125 \nL 18.3125 18.015625 \nQ 18.3125 11.328125 20.140625 9.421875 \nQ 21.96875 7.515625 27.59375 7.515625 \nL 36.8125 7.515625 \nL 36.8125 0 \nL 27.59375 0 \nQ 17.1875 0 13.234375 3.875 \nQ 9.28125 7.765625 9.28125 18.015625 \nL 9.28125 47.703125 \nL 2.6875 47.703125 \nL 2.6875 54.6875 \nL 9.28125 54.6875 \nL 9.28125 70.21875 \nz\n\" id=\"DejaVuSans-116\"/>\n     </defs>\n     <use xlink:href=\"#DejaVuSans-77\"/>\n     <use x=\"86.279297\" xlink:href=\"#DejaVuSans-76\"/>\n     <use x=\"141.992188\" xlink:href=\"#DejaVuSans-80\"/>\n     <use x=\"202.294922\" xlink:href=\"#DejaVuSans-32\"/>\n     <use x=\"234.082031\" xlink:href=\"#DejaVuSans-67\"/>\n     <use x=\"303.90625\" xlink:href=\"#DejaVuSans-108\"/>\n     <use x=\"331.689453\" xlink:href=\"#DejaVuSans-97\"/>\n     <use x=\"392.96875\" xlink:href=\"#DejaVuSans-115\"/>\n     <use x=\"445.068359\" xlink:href=\"#DejaVuSans-115\"/>\n     <use x=\"497.167969\" xlink:href=\"#DejaVuSans-105\"/>\n     <use x=\"524.951172\" xlink:href=\"#DejaVuSans-102\"/>\n     <use x=\"560.15625\" xlink:href=\"#DejaVuSans-105\"/>\n     <use x=\"587.939453\" xlink:href=\"#DejaVuSans-101\"/>\n     <use x=\"649.462891\" xlink:href=\"#DejaVuSans-114\"/>\n     <use x=\"690.576172\" xlink:href=\"#DejaVuSans-32\"/>\n     <use x=\"722.363281\" xlink:href=\"#DejaVuSans-102\"/>\n     <use x=\"757.568359\" xlink:href=\"#DejaVuSans-111\"/>\n     <use x=\"818.75\" xlink:href=\"#DejaVuSans-114\"/>\n     <use x=\"859.863281\" xlink:href=\"#DejaVuSans-32\"/>\n     <use x=\"891.650391\" xlink:href=\"#DejaVuSans-83\"/>\n     <use x=\"955.126953\" xlink:href=\"#DejaVuSans-77\"/>\n     <use x=\"1041.40625\" xlink:href=\"#DejaVuSans-32\"/>\n     <use x=\"1073.193359\" xlink:href=\"#DejaVuSans-100\"/>\n     <use x=\"1136.669922\" xlink:href=\"#DejaVuSans-97\"/>\n     <use x=\"1197.949219\" xlink:href=\"#DejaVuSans-116\"/>\n     <use x=\"1237.158203\" xlink:href=\"#DejaVuSans-97\"/>\n    </g>\n   </g>\n   <g id=\"legend_1\">\n    <g id=\"patch_7\">\n     <path d=\"M 319.69375 147.21625 \nL 389.507812 147.21625 \nQ 391.507812 147.21625 391.507812 145.21625 \nL 391.507812 116.86 \nQ 391.507812 114.86 389.507812 114.86 \nL 319.69375 114.86 \nQ 317.69375 114.86 317.69375 116.86 \nL 317.69375 145.21625 \nQ 317.69375 147.21625 319.69375 147.21625 \nz\n\" style=\"fill:#ffffff;opacity:0.8;stroke:#cccccc;stroke-linejoin:miter;\"/>\n    </g>\n    <g id=\"LineCollection_3\">\n     <path d=\"M 331.69375 127.958437 \nL 331.69375 117.958437 \n\" style=\"fill:none;stroke:#1f77b4;stroke-width:1.5;\"/>\n    </g>\n    <g id=\"line2d_23\">\n     <g>\n      <use style=\"fill:#1f77b4;stroke:#1f77b4;\" x=\"331.69375\" xlink:href=\"#m619ced8e5c\" y=\"127.958437\"/>\n     </g>\n    </g>\n    <g id=\"line2d_24\">\n     <g>\n      <use style=\"fill:#1f77b4;stroke:#1f77b4;\" x=\"331.69375\" xlink:href=\"#m619ced8e5c\" y=\"117.958437\"/>\n     </g>\n    </g>\n    <g id=\"line2d_25\"/>\n    <g id=\"line2d_26\">\n     <g>\n      <use style=\"fill:#1f77b4;stroke:#1f77b4;\" x=\"331.69375\" xlink:href=\"#m75c839d624\" y=\"122.958437\"/>\n     </g>\n    </g>\n    <g id=\"text_20\">\n     <!-- SM -->\n     <g transform=\"translate(349.69375 126.458437)scale(0.1 -0.1)\">\n      <use xlink:href=\"#DejaVuSans-83\"/>\n      <use x=\"63.476562\" xlink:href=\"#DejaVuSans-77\"/>\n     </g>\n    </g>\n    <g id=\"LineCollection_4\">\n     <path d=\"M 331.69375 142.636562 \nL 331.69375 132.636562 \n\" style=\"fill:none;stroke:#ff7f0e;stroke-width:1.5;\"/>\n    </g>\n    <g id=\"line2d_27\">\n     <g>\n      <use style=\"fill:#ff7f0e;stroke:#ff7f0e;\" x=\"331.69375\" xlink:href=\"#m30e871f020\" y=\"142.636562\"/>\n     </g>\n    </g>\n    <g id=\"line2d_28\">\n     <g>\n      <use style=\"fill:#ff7f0e;stroke:#ff7f0e;\" x=\"331.69375\" xlink:href=\"#m30e871f020\" y=\"132.636562\"/>\n     </g>\n    </g>\n    <g id=\"line2d_29\"/>\n    <g id=\"line2d_30\">\n     <g>\n      <use style=\"fill:#ff7f0e;stroke:#ff7f0e;\" x=\"331.69375\" xlink:href=\"#m2e6ec4d927\" y=\"137.636562\"/>\n     </g>\n    </g>\n    <g id=\"text_21\">\n     <!-- C9 coef -->\n     <g transform=\"translate(349.69375 141.136562)scale(0.1 -0.1)\">\n      <use xlink:href=\"#DejaVuSans-67\"/>\n      <use x=\"69.824219\" xlink:href=\"#DejaVuSans-57\"/>\n      <use x=\"133.447266\" xlink:href=\"#DejaVuSans-32\"/>\n      <use x=\"165.234375\" xlink:href=\"#DejaVuSans-99\"/>\n      <use x=\"220.214844\" xlink:href=\"#DejaVuSans-111\"/>\n      <use x=\"281.396484\" xlink:href=\"#DejaVuSans-101\"/>\n      <use x=\"342.919922\" xlink:href=\"#DejaVuSans-102\"/>\n     </g>\n    </g>\n   </g>\n  </g>\n </g>\n <defs>\n  <clipPath id=\"p210b808fad\">\n   <rect height=\"217.44\" width=\"334.8\" x=\"61.707813\" y=\"22.318125\"/>\n  </clipPath>\n </defs>\n</svg>\n",
      "text/plain": [
       "<Figure size 432x288 with 1 Axes>"
      ]
     },
     "metadata": {
      "needs_background": "light"
     },
     "output_type": "display_data"
    }
   ],
   "source": [
    "k_inverse_list =[]\n",
    "mean_0_list =[]\n",
    "mean_1_list =[]\n",
    "std_0_list =[]\n",
    "std_1_list =[]\n",
    "for k, arr in table_likelihoods[1].items():\n",
    "    k_inverse = le.inverse_transform([k])\n",
    "    if k_inverse == 0:\n",
    "        continue\n",
    "    mean_0 = arr[:, 0].mean()\n",
    "    mean_1 = arr[:, 1].mean()\n",
    "    std_0 = arr[:, 0].std()\n",
    "    std_1 = arr[:, 1].std()\n",
    "\n",
    "    k_inverse_list.append(k_inverse)\n",
    "    mean_0_list.append(mean_0)\n",
    "    mean_1_list.append(mean_1)\n",
    "    std_0_list.append(std_0)\n",
    "    std_1_list.append(std_1)\n",
    "\n",
    "plt.errorbar(k_inverse_list, mean_0_list, marker='.', yerr=std_0_list,c='tab:blue',ls='none', capsize=4,label='SM')\n",
    "plt.errorbar(k_inverse_list, mean_1_list, marker='.', yerr=std_1_list,c='tab:orange',ls='none', capsize=4,label='C9 coef')\n",
    "plt.xlabel(\"C9 coef.\")\n",
    "plt.ylabel(\"Loglikelihood\")\n",
    "plt.title('MLP Classifier for SM data')\n",
    "plt.legend()\n",
    "plt.show()"
   ]
  },
  {
   "cell_type": "markdown",
   "metadata": {},
   "source": [
    "MPL TEARN AND PREDICT\n",
    "\n",
    "- experiment with number of hidden neurons "
   ]
  },
  {
   "cell_type": "code",
   "execution_count": 531,
   "metadata": {},
   "outputs": [
    {
     "data": {
      "text/plain": [
       "{0: {}, 1: {}}"
      ]
     },
     "execution_count": 531,
     "metadata": {},
     "output_type": "execute_result"
    }
   ],
   "source": [
    "table_likelihoods"
   ]
  },
  {
   "cell_type": "code",
   "execution_count": 566,
   "metadata": {},
   "outputs": [
    {
     "name": "stdout",
     "output_type": "stream",
     "text": [
      "0\n",
      "[18:38:47] WARNING: /opt/concourse/worker/volumes/live/7a2b9f41-3287-451b-6691-43e9a6c0910f/volume/xgboost-split_1619728204606/work/src/learner.cc:1061: Starting in XGBoost 1.3.0, the default evaluation metric used with the objective 'binary:logistic' was changed from 'error' to 'logloss'. Explicitly set eval_metric if you'd like to restore the old behavior.\n"
     ]
    },
    {
     "name": "stderr",
     "output_type": "stream",
     "text": [
      "/Users/jakubpazio/opt/anaconda3/lib/python3.8/site-packages/xgboost/sklearn.py:888: UserWarning: The use of label encoder in XGBClassifier is deprecated and will be removed in a future release. To remove this warning, do the following: 1) Pass option use_label_encoder=False when constructing XGBClassifier object; and 2) Encode your labels (y) as integers starting with 0, i.e. 0, 1, 2, ..., [num_class - 1].\n",
      "  warnings.warn(label_encoder_deprecation_msg, UserWarning)\n"
     ]
    },
    {
     "name": "stdout",
     "output_type": "stream",
     "text": [
      "1\n",
      "[18:38:56] WARNING: /opt/concourse/worker/volumes/live/7a2b9f41-3287-451b-6691-43e9a6c0910f/volume/xgboost-split_1619728204606/work/src/learner.cc:1061: Starting in XGBoost 1.3.0, the default evaluation metric used with the objective 'binary:logistic' was changed from 'error' to 'logloss'. Explicitly set eval_metric if you'd like to restore the old behavior.\n"
     ]
    },
    {
     "name": "stderr",
     "output_type": "stream",
     "text": [
      "/Users/jakubpazio/opt/anaconda3/lib/python3.8/site-packages/xgboost/sklearn.py:888: UserWarning: The use of label encoder in XGBClassifier is deprecated and will be removed in a future release. To remove this warning, do the following: 1) Pass option use_label_encoder=False when constructing XGBClassifier object; and 2) Encode your labels (y) as integers starting with 0, i.e. 0, 1, 2, ..., [num_class - 1].\n",
      "  warnings.warn(label_encoder_deprecation_msg, UserWarning)\n"
     ]
    },
    {
     "name": "stdout",
     "output_type": "stream",
     "text": [
      "2\n",
      "[18:39:05] WARNING: /opt/concourse/worker/volumes/live/7a2b9f41-3287-451b-6691-43e9a6c0910f/volume/xgboost-split_1619728204606/work/src/learner.cc:1061: Starting in XGBoost 1.3.0, the default evaluation metric used with the objective 'binary:logistic' was changed from 'error' to 'logloss'. Explicitly set eval_metric if you'd like to restore the old behavior.\n"
     ]
    },
    {
     "name": "stderr",
     "output_type": "stream",
     "text": [
      "/Users/jakubpazio/opt/anaconda3/lib/python3.8/site-packages/xgboost/sklearn.py:888: UserWarning: The use of label encoder in XGBClassifier is deprecated and will be removed in a future release. To remove this warning, do the following: 1) Pass option use_label_encoder=False when constructing XGBClassifier object; and 2) Encode your labels (y) as integers starting with 0, i.e. 0, 1, 2, ..., [num_class - 1].\n",
      "  warnings.warn(label_encoder_deprecation_msg, UserWarning)\n"
     ]
    },
    {
     "name": "stdout",
     "output_type": "stream",
     "text": [
      "3\n",
      "[18:39:15] WARNING: /opt/concourse/worker/volumes/live/7a2b9f41-3287-451b-6691-43e9a6c0910f/volume/xgboost-split_1619728204606/work/src/learner.cc:1061: Starting in XGBoost 1.3.0, the default evaluation metric used with the objective 'binary:logistic' was changed from 'error' to 'logloss'. Explicitly set eval_metric if you'd like to restore the old behavior.\n"
     ]
    },
    {
     "name": "stderr",
     "output_type": "stream",
     "text": [
      "/Users/jakubpazio/opt/anaconda3/lib/python3.8/site-packages/xgboost/sklearn.py:888: UserWarning: The use of label encoder in XGBClassifier is deprecated and will be removed in a future release. To remove this warning, do the following: 1) Pass option use_label_encoder=False when constructing XGBClassifier object; and 2) Encode your labels (y) as integers starting with 0, i.e. 0, 1, 2, ..., [num_class - 1].\n",
      "  warnings.warn(label_encoder_deprecation_msg, UserWarning)\n"
     ]
    },
    {
     "name": "stdout",
     "output_type": "stream",
     "text": [
      "4\n",
      "[18:39:24] WARNING: /opt/concourse/worker/volumes/live/7a2b9f41-3287-451b-6691-43e9a6c0910f/volume/xgboost-split_1619728204606/work/src/learner.cc:1061: Starting in XGBoost 1.3.0, the default evaluation metric used with the objective 'binary:logistic' was changed from 'error' to 'logloss'. Explicitly set eval_metric if you'd like to restore the old behavior.\n"
     ]
    },
    {
     "name": "stderr",
     "output_type": "stream",
     "text": [
      "/Users/jakubpazio/opt/anaconda3/lib/python3.8/site-packages/xgboost/sklearn.py:888: UserWarning: The use of label encoder in XGBClassifier is deprecated and will be removed in a future release. To remove this warning, do the following: 1) Pass option use_label_encoder=False when constructing XGBClassifier object; and 2) Encode your labels (y) as integers starting with 0, i.e. 0, 1, 2, ..., [num_class - 1].\n",
      "  warnings.warn(label_encoder_deprecation_msg, UserWarning)\n"
     ]
    },
    {
     "name": "stdout",
     "output_type": "stream",
     "text": [
      "5\n",
      "[18:39:33] WARNING: /opt/concourse/worker/volumes/live/7a2b9f41-3287-451b-6691-43e9a6c0910f/volume/xgboost-split_1619728204606/work/src/learner.cc:1061: Starting in XGBoost 1.3.0, the default evaluation metric used with the objective 'binary:logistic' was changed from 'error' to 'logloss'. Explicitly set eval_metric if you'd like to restore the old behavior.\n"
     ]
    },
    {
     "name": "stderr",
     "output_type": "stream",
     "text": [
      "/Users/jakubpazio/opt/anaconda3/lib/python3.8/site-packages/xgboost/sklearn.py:888: UserWarning: The use of label encoder in XGBClassifier is deprecated and will be removed in a future release. To remove this warning, do the following: 1) Pass option use_label_encoder=False when constructing XGBClassifier object; and 2) Encode your labels (y) as integers starting with 0, i.e. 0, 1, 2, ..., [num_class - 1].\n",
      "  warnings.warn(label_encoder_deprecation_msg, UserWarning)\n"
     ]
    },
    {
     "name": "stdout",
     "output_type": "stream",
     "text": [
      "6\n",
      "[18:39:43] WARNING: /opt/concourse/worker/volumes/live/7a2b9f41-3287-451b-6691-43e9a6c0910f/volume/xgboost-split_1619728204606/work/src/learner.cc:1061: Starting in XGBoost 1.3.0, the default evaluation metric used with the objective 'binary:logistic' was changed from 'error' to 'logloss'. Explicitly set eval_metric if you'd like to restore the old behavior.\n"
     ]
    },
    {
     "name": "stderr",
     "output_type": "stream",
     "text": [
      "/Users/jakubpazio/opt/anaconda3/lib/python3.8/site-packages/xgboost/sklearn.py:888: UserWarning: The use of label encoder in XGBClassifier is deprecated and will be removed in a future release. To remove this warning, do the following: 1) Pass option use_label_encoder=False when constructing XGBClassifier object; and 2) Encode your labels (y) as integers starting with 0, i.e. 0, 1, 2, ..., [num_class - 1].\n",
      "  warnings.warn(label_encoder_deprecation_msg, UserWarning)\n"
     ]
    },
    {
     "name": "stdout",
     "output_type": "stream",
     "text": [
      "7\n",
      "[18:39:52] WARNING: /opt/concourse/worker/volumes/live/7a2b9f41-3287-451b-6691-43e9a6c0910f/volume/xgboost-split_1619728204606/work/src/learner.cc:1061: Starting in XGBoost 1.3.0, the default evaluation metric used with the objective 'binary:logistic' was changed from 'error' to 'logloss'. Explicitly set eval_metric if you'd like to restore the old behavior.\n"
     ]
    },
    {
     "name": "stderr",
     "output_type": "stream",
     "text": [
      "/Users/jakubpazio/opt/anaconda3/lib/python3.8/site-packages/xgboost/sklearn.py:888: UserWarning: The use of label encoder in XGBClassifier is deprecated and will be removed in a future release. To remove this warning, do the following: 1) Pass option use_label_encoder=False when constructing XGBClassifier object; and 2) Encode your labels (y) as integers starting with 0, i.e. 0, 1, 2, ..., [num_class - 1].\n",
      "  warnings.warn(label_encoder_deprecation_msg, UserWarning)\n"
     ]
    },
    {
     "name": "stdout",
     "output_type": "stream",
     "text": [
      "8\n",
      "[18:40:01] WARNING: /opt/concourse/worker/volumes/live/7a2b9f41-3287-451b-6691-43e9a6c0910f/volume/xgboost-split_1619728204606/work/src/learner.cc:1061: Starting in XGBoost 1.3.0, the default evaluation metric used with the objective 'binary:logistic' was changed from 'error' to 'logloss'. Explicitly set eval_metric if you'd like to restore the old behavior.\n"
     ]
    },
    {
     "name": "stderr",
     "output_type": "stream",
     "text": [
      "/Users/jakubpazio/opt/anaconda3/lib/python3.8/site-packages/xgboost/sklearn.py:888: UserWarning: The use of label encoder in XGBClassifier is deprecated and will be removed in a future release. To remove this warning, do the following: 1) Pass option use_label_encoder=False when constructing XGBClassifier object; and 2) Encode your labels (y) as integers starting with 0, i.e. 0, 1, 2, ..., [num_class - 1].\n",
      "  warnings.warn(label_encoder_deprecation_msg, UserWarning)\n"
     ]
    },
    {
     "name": "stdout",
     "output_type": "stream",
     "text": [
      "9\n",
      "[18:40:10] WARNING: /opt/concourse/worker/volumes/live/7a2b9f41-3287-451b-6691-43e9a6c0910f/volume/xgboost-split_1619728204606/work/src/learner.cc:1061: Starting in XGBoost 1.3.0, the default evaluation metric used with the objective 'binary:logistic' was changed from 'error' to 'logloss'. Explicitly set eval_metric if you'd like to restore the old behavior.\n"
     ]
    },
    {
     "name": "stderr",
     "output_type": "stream",
     "text": [
      "/Users/jakubpazio/opt/anaconda3/lib/python3.8/site-packages/xgboost/sklearn.py:888: UserWarning: The use of label encoder in XGBClassifier is deprecated and will be removed in a future release. To remove this warning, do the following: 1) Pass option use_label_encoder=False when constructing XGBClassifier object; and 2) Encode your labels (y) as integers starting with 0, i.e. 0, 1, 2, ..., [num_class - 1].\n",
      "  warnings.warn(label_encoder_deprecation_msg, UserWarning)\n"
     ]
    },
    {
     "name": "stdout",
     "output_type": "stream",
     "text": [
      "10\n",
      "[18:40:20] WARNING: /opt/concourse/worker/volumes/live/7a2b9f41-3287-451b-6691-43e9a6c0910f/volume/xgboost-split_1619728204606/work/src/learner.cc:1061: Starting in XGBoost 1.3.0, the default evaluation metric used with the objective 'binary:logistic' was changed from 'error' to 'logloss'. Explicitly set eval_metric if you'd like to restore the old behavior.\n"
     ]
    },
    {
     "name": "stderr",
     "output_type": "stream",
     "text": [
      "/Users/jakubpazio/opt/anaconda3/lib/python3.8/site-packages/xgboost/sklearn.py:888: UserWarning: The use of label encoder in XGBClassifier is deprecated and will be removed in a future release. To remove this warning, do the following: 1) Pass option use_label_encoder=False when constructing XGBClassifier object; and 2) Encode your labels (y) as integers starting with 0, i.e. 0, 1, 2, ..., [num_class - 1].\n",
      "  warnings.warn(label_encoder_deprecation_msg, UserWarning)\n"
     ]
    },
    {
     "name": "stdout",
     "output_type": "stream",
     "text": [
      "11\n",
      "[18:40:22] WARNING: /opt/concourse/worker/volumes/live/7a2b9f41-3287-451b-6691-43e9a6c0910f/volume/xgboost-split_1619728204606/work/src/learner.cc:1061: Starting in XGBoost 1.3.0, the default evaluation metric used with the objective 'binary:logistic' was changed from 'error' to 'logloss'. Explicitly set eval_metric if you'd like to restore the old behavior.\n"
     ]
    },
    {
     "name": "stderr",
     "output_type": "stream",
     "text": [
      "/Users/jakubpazio/opt/anaconda3/lib/python3.8/site-packages/xgboost/sklearn.py:888: UserWarning: The use of label encoder in XGBClassifier is deprecated and will be removed in a future release. To remove this warning, do the following: 1) Pass option use_label_encoder=False when constructing XGBClassifier object; and 2) Encode your labels (y) as integers starting with 0, i.e. 0, 1, 2, ..., [num_class - 1].\n",
      "  warnings.warn(label_encoder_deprecation_msg, UserWarning)\n"
     ]
    },
    {
     "name": "stdout",
     "output_type": "stream",
     "text": [
      "12\n",
      "[18:40:32] WARNING: /opt/concourse/worker/volumes/live/7a2b9f41-3287-451b-6691-43e9a6c0910f/volume/xgboost-split_1619728204606/work/src/learner.cc:1061: Starting in XGBoost 1.3.0, the default evaluation metric used with the objective 'binary:logistic' was changed from 'error' to 'logloss'. Explicitly set eval_metric if you'd like to restore the old behavior.\n"
     ]
    },
    {
     "name": "stderr",
     "output_type": "stream",
     "text": [
      "/Users/jakubpazio/opt/anaconda3/lib/python3.8/site-packages/xgboost/sklearn.py:888: UserWarning: The use of label encoder in XGBClassifier is deprecated and will be removed in a future release. To remove this warning, do the following: 1) Pass option use_label_encoder=False when constructing XGBClassifier object; and 2) Encode your labels (y) as integers starting with 0, i.e. 0, 1, 2, ..., [num_class - 1].\n",
      "  warnings.warn(label_encoder_deprecation_msg, UserWarning)\n"
     ]
    },
    {
     "name": "stdout",
     "output_type": "stream",
     "text": [
      "13\n",
      "[18:40:41] WARNING: /opt/concourse/worker/volumes/live/7a2b9f41-3287-451b-6691-43e9a6c0910f/volume/xgboost-split_1619728204606/work/src/learner.cc:1061: Starting in XGBoost 1.3.0, the default evaluation metric used with the objective 'binary:logistic' was changed from 'error' to 'logloss'. Explicitly set eval_metric if you'd like to restore the old behavior.\n"
     ]
    },
    {
     "name": "stderr",
     "output_type": "stream",
     "text": [
      "/Users/jakubpazio/opt/anaconda3/lib/python3.8/site-packages/xgboost/sklearn.py:888: UserWarning: The use of label encoder in XGBClassifier is deprecated and will be removed in a future release. To remove this warning, do the following: 1) Pass option use_label_encoder=False when constructing XGBClassifier object; and 2) Encode your labels (y) as integers starting with 0, i.e. 0, 1, 2, ..., [num_class - 1].\n",
      "  warnings.warn(label_encoder_deprecation_msg, UserWarning)\n"
     ]
    },
    {
     "name": "stdout",
     "output_type": "stream",
     "text": [
      "14\n",
      "[18:40:50] WARNING: /opt/concourse/worker/volumes/live/7a2b9f41-3287-451b-6691-43e9a6c0910f/volume/xgboost-split_1619728204606/work/src/learner.cc:1061: Starting in XGBoost 1.3.0, the default evaluation metric used with the objective 'binary:logistic' was changed from 'error' to 'logloss'. Explicitly set eval_metric if you'd like to restore the old behavior.\n"
     ]
    },
    {
     "name": "stderr",
     "output_type": "stream",
     "text": [
      "/Users/jakubpazio/opt/anaconda3/lib/python3.8/site-packages/xgboost/sklearn.py:888: UserWarning: The use of label encoder in XGBClassifier is deprecated and will be removed in a future release. To remove this warning, do the following: 1) Pass option use_label_encoder=False when constructing XGBClassifier object; and 2) Encode your labels (y) as integers starting with 0, i.e. 0, 1, 2, ..., [num_class - 1].\n",
      "  warnings.warn(label_encoder_deprecation_msg, UserWarning)\n"
     ]
    },
    {
     "name": "stdout",
     "output_type": "stream",
     "text": [
      "15\n",
      "[18:41:00] WARNING: /opt/concourse/worker/volumes/live/7a2b9f41-3287-451b-6691-43e9a6c0910f/volume/xgboost-split_1619728204606/work/src/learner.cc:1061: Starting in XGBoost 1.3.0, the default evaluation metric used with the objective 'binary:logistic' was changed from 'error' to 'logloss'. Explicitly set eval_metric if you'd like to restore the old behavior.\n"
     ]
    },
    {
     "name": "stderr",
     "output_type": "stream",
     "text": [
      "/Users/jakubpazio/opt/anaconda3/lib/python3.8/site-packages/xgboost/sklearn.py:888: UserWarning: The use of label encoder in XGBClassifier is deprecated and will be removed in a future release. To remove this warning, do the following: 1) Pass option use_label_encoder=False when constructing XGBClassifier object; and 2) Encode your labels (y) as integers starting with 0, i.e. 0, 1, 2, ..., [num_class - 1].\n",
      "  warnings.warn(label_encoder_deprecation_msg, UserWarning)\n"
     ]
    },
    {
     "name": "stdout",
     "output_type": "stream",
     "text": [
      "16\n",
      "[18:41:09] WARNING: /opt/concourse/worker/volumes/live/7a2b9f41-3287-451b-6691-43e9a6c0910f/volume/xgboost-split_1619728204606/work/src/learner.cc:1061: Starting in XGBoost 1.3.0, the default evaluation metric used with the objective 'binary:logistic' was changed from 'error' to 'logloss'. Explicitly set eval_metric if you'd like to restore the old behavior.\n"
     ]
    },
    {
     "name": "stderr",
     "output_type": "stream",
     "text": [
      "/Users/jakubpazio/opt/anaconda3/lib/python3.8/site-packages/xgboost/sklearn.py:888: UserWarning: The use of label encoder in XGBClassifier is deprecated and will be removed in a future release. To remove this warning, do the following: 1) Pass option use_label_encoder=False when constructing XGBClassifier object; and 2) Encode your labels (y) as integers starting with 0, i.e. 0, 1, 2, ..., [num_class - 1].\n",
      "  warnings.warn(label_encoder_deprecation_msg, UserWarning)\n"
     ]
    },
    {
     "name": "stdout",
     "output_type": "stream",
     "text": [
      "17\n",
      "[18:41:19] WARNING: /opt/concourse/worker/volumes/live/7a2b9f41-3287-451b-6691-43e9a6c0910f/volume/xgboost-split_1619728204606/work/src/learner.cc:1061: Starting in XGBoost 1.3.0, the default evaluation metric used with the objective 'binary:logistic' was changed from 'error' to 'logloss'. Explicitly set eval_metric if you'd like to restore the old behavior.\n"
     ]
    },
    {
     "name": "stderr",
     "output_type": "stream",
     "text": [
      "/Users/jakubpazio/opt/anaconda3/lib/python3.8/site-packages/xgboost/sklearn.py:888: UserWarning: The use of label encoder in XGBClassifier is deprecated and will be removed in a future release. To remove this warning, do the following: 1) Pass option use_label_encoder=False when constructing XGBClassifier object; and 2) Encode your labels (y) as integers starting with 0, i.e. 0, 1, 2, ..., [num_class - 1].\n",
      "  warnings.warn(label_encoder_deprecation_msg, UserWarning)\n"
     ]
    },
    {
     "name": "stdout",
     "output_type": "stream",
     "text": [
      "18\n",
      "[18:41:28] WARNING: /opt/concourse/worker/volumes/live/7a2b9f41-3287-451b-6691-43e9a6c0910f/volume/xgboost-split_1619728204606/work/src/learner.cc:1061: Starting in XGBoost 1.3.0, the default evaluation metric used with the objective 'binary:logistic' was changed from 'error' to 'logloss'. Explicitly set eval_metric if you'd like to restore the old behavior.\n"
     ]
    },
    {
     "name": "stderr",
     "output_type": "stream",
     "text": [
      "/Users/jakubpazio/opt/anaconda3/lib/python3.8/site-packages/xgboost/sklearn.py:888: UserWarning: The use of label encoder in XGBClassifier is deprecated and will be removed in a future release. To remove this warning, do the following: 1) Pass option use_label_encoder=False when constructing XGBClassifier object; and 2) Encode your labels (y) as integers starting with 0, i.e. 0, 1, 2, ..., [num_class - 1].\n",
      "  warnings.warn(label_encoder_deprecation_msg, UserWarning)\n"
     ]
    },
    {
     "name": "stdout",
     "output_type": "stream",
     "text": [
      "19\n",
      "[18:41:38] WARNING: /opt/concourse/worker/volumes/live/7a2b9f41-3287-451b-6691-43e9a6c0910f/volume/xgboost-split_1619728204606/work/src/learner.cc:1061: Starting in XGBoost 1.3.0, the default evaluation metric used with the objective 'binary:logistic' was changed from 'error' to 'logloss'. Explicitly set eval_metric if you'd like to restore the old behavior.\n"
     ]
    },
    {
     "name": "stderr",
     "output_type": "stream",
     "text": [
      "/Users/jakubpazio/opt/anaconda3/lib/python3.8/site-packages/xgboost/sklearn.py:888: UserWarning: The use of label encoder in XGBClassifier is deprecated and will be removed in a future release. To remove this warning, do the following: 1) Pass option use_label_encoder=False when constructing XGBClassifier object; and 2) Encode your labels (y) as integers starting with 0, i.e. 0, 1, 2, ..., [num_class - 1].\n",
      "  warnings.warn(label_encoder_deprecation_msg, UserWarning)\n"
     ]
    },
    {
     "name": "stdout",
     "output_type": "stream",
     "text": [
      "20\n",
      "[18:41:47] WARNING: /opt/concourse/worker/volumes/live/7a2b9f41-3287-451b-6691-43e9a6c0910f/volume/xgboost-split_1619728204606/work/src/learner.cc:1061: Starting in XGBoost 1.3.0, the default evaluation metric used with the objective 'binary:logistic' was changed from 'error' to 'logloss'. Explicitly set eval_metric if you'd like to restore the old behavior.\n"
     ]
    },
    {
     "name": "stderr",
     "output_type": "stream",
     "text": [
      "/Users/jakubpazio/opt/anaconda3/lib/python3.8/site-packages/xgboost/sklearn.py:888: UserWarning: The use of label encoder in XGBClassifier is deprecated and will be removed in a future release. To remove this warning, do the following: 1) Pass option use_label_encoder=False when constructing XGBClassifier object; and 2) Encode your labels (y) as integers starting with 0, i.e. 0, 1, 2, ..., [num_class - 1].\n",
      "  warnings.warn(label_encoder_deprecation_msg, UserWarning)\n"
     ]
    },
    {
     "name": "stdout",
     "output_type": "stream",
     "text": [
      "0\n",
      "[18:41:57] WARNING: /opt/concourse/worker/volumes/live/7a2b9f41-3287-451b-6691-43e9a6c0910f/volume/xgboost-split_1619728204606/work/src/learner.cc:1061: Starting in XGBoost 1.3.0, the default evaluation metric used with the objective 'binary:logistic' was changed from 'error' to 'logloss'. Explicitly set eval_metric if you'd like to restore the old behavior.\n"
     ]
    },
    {
     "name": "stderr",
     "output_type": "stream",
     "text": [
      "/Users/jakubpazio/opt/anaconda3/lib/python3.8/site-packages/xgboost/sklearn.py:888: UserWarning: The use of label encoder in XGBClassifier is deprecated and will be removed in a future release. To remove this warning, do the following: 1) Pass option use_label_encoder=False when constructing XGBClassifier object; and 2) Encode your labels (y) as integers starting with 0, i.e. 0, 1, 2, ..., [num_class - 1].\n",
      "  warnings.warn(label_encoder_deprecation_msg, UserWarning)\n"
     ]
    },
    {
     "name": "stdout",
     "output_type": "stream",
     "text": [
      "1\n",
      "[18:42:06] WARNING: /opt/concourse/worker/volumes/live/7a2b9f41-3287-451b-6691-43e9a6c0910f/volume/xgboost-split_1619728204606/work/src/learner.cc:1061: Starting in XGBoost 1.3.0, the default evaluation metric used with the objective 'binary:logistic' was changed from 'error' to 'logloss'. Explicitly set eval_metric if you'd like to restore the old behavior.\n"
     ]
    },
    {
     "name": "stderr",
     "output_type": "stream",
     "text": [
      "/Users/jakubpazio/opt/anaconda3/lib/python3.8/site-packages/xgboost/sklearn.py:888: UserWarning: The use of label encoder in XGBClassifier is deprecated and will be removed in a future release. To remove this warning, do the following: 1) Pass option use_label_encoder=False when constructing XGBClassifier object; and 2) Encode your labels (y) as integers starting with 0, i.e. 0, 1, 2, ..., [num_class - 1].\n",
      "  warnings.warn(label_encoder_deprecation_msg, UserWarning)\n"
     ]
    },
    {
     "name": "stdout",
     "output_type": "stream",
     "text": [
      "2\n",
      "[18:42:15] WARNING: /opt/concourse/worker/volumes/live/7a2b9f41-3287-451b-6691-43e9a6c0910f/volume/xgboost-split_1619728204606/work/src/learner.cc:1061: Starting in XGBoost 1.3.0, the default evaluation metric used with the objective 'binary:logistic' was changed from 'error' to 'logloss'. Explicitly set eval_metric if you'd like to restore the old behavior.\n"
     ]
    },
    {
     "name": "stderr",
     "output_type": "stream",
     "text": [
      "/Users/jakubpazio/opt/anaconda3/lib/python3.8/site-packages/xgboost/sklearn.py:888: UserWarning: The use of label encoder in XGBClassifier is deprecated and will be removed in a future release. To remove this warning, do the following: 1) Pass option use_label_encoder=False when constructing XGBClassifier object; and 2) Encode your labels (y) as integers starting with 0, i.e. 0, 1, 2, ..., [num_class - 1].\n",
      "  warnings.warn(label_encoder_deprecation_msg, UserWarning)\n"
     ]
    },
    {
     "name": "stdout",
     "output_type": "stream",
     "text": [
      "3\n",
      "[18:42:25] WARNING: /opt/concourse/worker/volumes/live/7a2b9f41-3287-451b-6691-43e9a6c0910f/volume/xgboost-split_1619728204606/work/src/learner.cc:1061: Starting in XGBoost 1.3.0, the default evaluation metric used with the objective 'binary:logistic' was changed from 'error' to 'logloss'. Explicitly set eval_metric if you'd like to restore the old behavior.\n"
     ]
    },
    {
     "name": "stderr",
     "output_type": "stream",
     "text": [
      "/Users/jakubpazio/opt/anaconda3/lib/python3.8/site-packages/xgboost/sklearn.py:888: UserWarning: The use of label encoder in XGBClassifier is deprecated and will be removed in a future release. To remove this warning, do the following: 1) Pass option use_label_encoder=False when constructing XGBClassifier object; and 2) Encode your labels (y) as integers starting with 0, i.e. 0, 1, 2, ..., [num_class - 1].\n",
      "  warnings.warn(label_encoder_deprecation_msg, UserWarning)\n"
     ]
    },
    {
     "name": "stdout",
     "output_type": "stream",
     "text": [
      "4\n",
      "[18:42:34] WARNING: /opt/concourse/worker/volumes/live/7a2b9f41-3287-451b-6691-43e9a6c0910f/volume/xgboost-split_1619728204606/work/src/learner.cc:1061: Starting in XGBoost 1.3.0, the default evaluation metric used with the objective 'binary:logistic' was changed from 'error' to 'logloss'. Explicitly set eval_metric if you'd like to restore the old behavior.\n"
     ]
    },
    {
     "name": "stderr",
     "output_type": "stream",
     "text": [
      "/Users/jakubpazio/opt/anaconda3/lib/python3.8/site-packages/xgboost/sklearn.py:888: UserWarning: The use of label encoder in XGBClassifier is deprecated and will be removed in a future release. To remove this warning, do the following: 1) Pass option use_label_encoder=False when constructing XGBClassifier object; and 2) Encode your labels (y) as integers starting with 0, i.e. 0, 1, 2, ..., [num_class - 1].\n",
      "  warnings.warn(label_encoder_deprecation_msg, UserWarning)\n"
     ]
    },
    {
     "name": "stdout",
     "output_type": "stream",
     "text": [
      "5\n",
      "[18:42:43] WARNING: /opt/concourse/worker/volumes/live/7a2b9f41-3287-451b-6691-43e9a6c0910f/volume/xgboost-split_1619728204606/work/src/learner.cc:1061: Starting in XGBoost 1.3.0, the default evaluation metric used with the objective 'binary:logistic' was changed from 'error' to 'logloss'. Explicitly set eval_metric if you'd like to restore the old behavior.\n"
     ]
    },
    {
     "name": "stderr",
     "output_type": "stream",
     "text": [
      "/Users/jakubpazio/opt/anaconda3/lib/python3.8/site-packages/xgboost/sklearn.py:888: UserWarning: The use of label encoder in XGBClassifier is deprecated and will be removed in a future release. To remove this warning, do the following: 1) Pass option use_label_encoder=False when constructing XGBClassifier object; and 2) Encode your labels (y) as integers starting with 0, i.e. 0, 1, 2, ..., [num_class - 1].\n",
      "  warnings.warn(label_encoder_deprecation_msg, UserWarning)\n"
     ]
    },
    {
     "name": "stdout",
     "output_type": "stream",
     "text": [
      "6\n",
      "[18:42:52] WARNING: /opt/concourse/worker/volumes/live/7a2b9f41-3287-451b-6691-43e9a6c0910f/volume/xgboost-split_1619728204606/work/src/learner.cc:1061: Starting in XGBoost 1.3.0, the default evaluation metric used with the objective 'binary:logistic' was changed from 'error' to 'logloss'. Explicitly set eval_metric if you'd like to restore the old behavior.\n"
     ]
    },
    {
     "name": "stderr",
     "output_type": "stream",
     "text": [
      "/Users/jakubpazio/opt/anaconda3/lib/python3.8/site-packages/xgboost/sklearn.py:888: UserWarning: The use of label encoder in XGBClassifier is deprecated and will be removed in a future release. To remove this warning, do the following: 1) Pass option use_label_encoder=False when constructing XGBClassifier object; and 2) Encode your labels (y) as integers starting with 0, i.e. 0, 1, 2, ..., [num_class - 1].\n",
      "  warnings.warn(label_encoder_deprecation_msg, UserWarning)\n"
     ]
    },
    {
     "name": "stdout",
     "output_type": "stream",
     "text": [
      "7\n",
      "[18:43:02] WARNING: /opt/concourse/worker/volumes/live/7a2b9f41-3287-451b-6691-43e9a6c0910f/volume/xgboost-split_1619728204606/work/src/learner.cc:1061: Starting in XGBoost 1.3.0, the default evaluation metric used with the objective 'binary:logistic' was changed from 'error' to 'logloss'. Explicitly set eval_metric if you'd like to restore the old behavior.\n"
     ]
    },
    {
     "name": "stderr",
     "output_type": "stream",
     "text": [
      "/Users/jakubpazio/opt/anaconda3/lib/python3.8/site-packages/xgboost/sklearn.py:888: UserWarning: The use of label encoder in XGBClassifier is deprecated and will be removed in a future release. To remove this warning, do the following: 1) Pass option use_label_encoder=False when constructing XGBClassifier object; and 2) Encode your labels (y) as integers starting with 0, i.e. 0, 1, 2, ..., [num_class - 1].\n",
      "  warnings.warn(label_encoder_deprecation_msg, UserWarning)\n"
     ]
    },
    {
     "name": "stdout",
     "output_type": "stream",
     "text": [
      "8\n",
      "[18:43:11] WARNING: /opt/concourse/worker/volumes/live/7a2b9f41-3287-451b-6691-43e9a6c0910f/volume/xgboost-split_1619728204606/work/src/learner.cc:1061: Starting in XGBoost 1.3.0, the default evaluation metric used with the objective 'binary:logistic' was changed from 'error' to 'logloss'. Explicitly set eval_metric if you'd like to restore the old behavior.\n"
     ]
    },
    {
     "name": "stderr",
     "output_type": "stream",
     "text": [
      "/Users/jakubpazio/opt/anaconda3/lib/python3.8/site-packages/xgboost/sklearn.py:888: UserWarning: The use of label encoder in XGBClassifier is deprecated and will be removed in a future release. To remove this warning, do the following: 1) Pass option use_label_encoder=False when constructing XGBClassifier object; and 2) Encode your labels (y) as integers starting with 0, i.e. 0, 1, 2, ..., [num_class - 1].\n",
      "  warnings.warn(label_encoder_deprecation_msg, UserWarning)\n"
     ]
    },
    {
     "name": "stdout",
     "output_type": "stream",
     "text": [
      "9\n",
      "[18:43:20] WARNING: /opt/concourse/worker/volumes/live/7a2b9f41-3287-451b-6691-43e9a6c0910f/volume/xgboost-split_1619728204606/work/src/learner.cc:1061: Starting in XGBoost 1.3.0, the default evaluation metric used with the objective 'binary:logistic' was changed from 'error' to 'logloss'. Explicitly set eval_metric if you'd like to restore the old behavior.\n"
     ]
    },
    {
     "name": "stderr",
     "output_type": "stream",
     "text": [
      "/Users/jakubpazio/opt/anaconda3/lib/python3.8/site-packages/xgboost/sklearn.py:888: UserWarning: The use of label encoder in XGBClassifier is deprecated and will be removed in a future release. To remove this warning, do the following: 1) Pass option use_label_encoder=False when constructing XGBClassifier object; and 2) Encode your labels (y) as integers starting with 0, i.e. 0, 1, 2, ..., [num_class - 1].\n",
      "  warnings.warn(label_encoder_deprecation_msg, UserWarning)\n"
     ]
    },
    {
     "name": "stdout",
     "output_type": "stream",
     "text": [
      "10\n",
      "[18:43:29] WARNING: /opt/concourse/worker/volumes/live/7a2b9f41-3287-451b-6691-43e9a6c0910f/volume/xgboost-split_1619728204606/work/src/learner.cc:1061: Starting in XGBoost 1.3.0, the default evaluation metric used with the objective 'binary:logistic' was changed from 'error' to 'logloss'. Explicitly set eval_metric if you'd like to restore the old behavior.\n"
     ]
    },
    {
     "name": "stderr",
     "output_type": "stream",
     "text": [
      "/Users/jakubpazio/opt/anaconda3/lib/python3.8/site-packages/xgboost/sklearn.py:888: UserWarning: The use of label encoder in XGBClassifier is deprecated and will be removed in a future release. To remove this warning, do the following: 1) Pass option use_label_encoder=False when constructing XGBClassifier object; and 2) Encode your labels (y) as integers starting with 0, i.e. 0, 1, 2, ..., [num_class - 1].\n",
      "  warnings.warn(label_encoder_deprecation_msg, UserWarning)\n"
     ]
    },
    {
     "name": "stdout",
     "output_type": "stream",
     "text": [
      "11\n",
      "[18:43:32] WARNING: /opt/concourse/worker/volumes/live/7a2b9f41-3287-451b-6691-43e9a6c0910f/volume/xgboost-split_1619728204606/work/src/learner.cc:1061: Starting in XGBoost 1.3.0, the default evaluation metric used with the objective 'binary:logistic' was changed from 'error' to 'logloss'. Explicitly set eval_metric if you'd like to restore the old behavior.\n"
     ]
    },
    {
     "name": "stderr",
     "output_type": "stream",
     "text": [
      "/Users/jakubpazio/opt/anaconda3/lib/python3.8/site-packages/xgboost/sklearn.py:888: UserWarning: The use of label encoder in XGBClassifier is deprecated and will be removed in a future release. To remove this warning, do the following: 1) Pass option use_label_encoder=False when constructing XGBClassifier object; and 2) Encode your labels (y) as integers starting with 0, i.e. 0, 1, 2, ..., [num_class - 1].\n",
      "  warnings.warn(label_encoder_deprecation_msg, UserWarning)\n"
     ]
    },
    {
     "name": "stdout",
     "output_type": "stream",
     "text": [
      "12\n",
      "[18:43:41] WARNING: /opt/concourse/worker/volumes/live/7a2b9f41-3287-451b-6691-43e9a6c0910f/volume/xgboost-split_1619728204606/work/src/learner.cc:1061: Starting in XGBoost 1.3.0, the default evaluation metric used with the objective 'binary:logistic' was changed from 'error' to 'logloss'. Explicitly set eval_metric if you'd like to restore the old behavior.\n"
     ]
    },
    {
     "name": "stderr",
     "output_type": "stream",
     "text": [
      "/Users/jakubpazio/opt/anaconda3/lib/python3.8/site-packages/xgboost/sklearn.py:888: UserWarning: The use of label encoder in XGBClassifier is deprecated and will be removed in a future release. To remove this warning, do the following: 1) Pass option use_label_encoder=False when constructing XGBClassifier object; and 2) Encode your labels (y) as integers starting with 0, i.e. 0, 1, 2, ..., [num_class - 1].\n",
      "  warnings.warn(label_encoder_deprecation_msg, UserWarning)\n"
     ]
    },
    {
     "name": "stdout",
     "output_type": "stream",
     "text": [
      "13\n",
      "[18:43:51] WARNING: /opt/concourse/worker/volumes/live/7a2b9f41-3287-451b-6691-43e9a6c0910f/volume/xgboost-split_1619728204606/work/src/learner.cc:1061: Starting in XGBoost 1.3.0, the default evaluation metric used with the objective 'binary:logistic' was changed from 'error' to 'logloss'. Explicitly set eval_metric if you'd like to restore the old behavior.\n"
     ]
    },
    {
     "name": "stderr",
     "output_type": "stream",
     "text": [
      "/Users/jakubpazio/opt/anaconda3/lib/python3.8/site-packages/xgboost/sklearn.py:888: UserWarning: The use of label encoder in XGBClassifier is deprecated and will be removed in a future release. To remove this warning, do the following: 1) Pass option use_label_encoder=False when constructing XGBClassifier object; and 2) Encode your labels (y) as integers starting with 0, i.e. 0, 1, 2, ..., [num_class - 1].\n",
      "  warnings.warn(label_encoder_deprecation_msg, UserWarning)\n"
     ]
    },
    {
     "name": "stdout",
     "output_type": "stream",
     "text": [
      "14\n",
      "[18:44:00] WARNING: /opt/concourse/worker/volumes/live/7a2b9f41-3287-451b-6691-43e9a6c0910f/volume/xgboost-split_1619728204606/work/src/learner.cc:1061: Starting in XGBoost 1.3.0, the default evaluation metric used with the objective 'binary:logistic' was changed from 'error' to 'logloss'. Explicitly set eval_metric if you'd like to restore the old behavior.\n"
     ]
    },
    {
     "name": "stderr",
     "output_type": "stream",
     "text": [
      "/Users/jakubpazio/opt/anaconda3/lib/python3.8/site-packages/xgboost/sklearn.py:888: UserWarning: The use of label encoder in XGBClassifier is deprecated and will be removed in a future release. To remove this warning, do the following: 1) Pass option use_label_encoder=False when constructing XGBClassifier object; and 2) Encode your labels (y) as integers starting with 0, i.e. 0, 1, 2, ..., [num_class - 1].\n",
      "  warnings.warn(label_encoder_deprecation_msg, UserWarning)\n"
     ]
    },
    {
     "name": "stdout",
     "output_type": "stream",
     "text": [
      "15\n",
      "[18:44:10] WARNING: /opt/concourse/worker/volumes/live/7a2b9f41-3287-451b-6691-43e9a6c0910f/volume/xgboost-split_1619728204606/work/src/learner.cc:1061: Starting in XGBoost 1.3.0, the default evaluation metric used with the objective 'binary:logistic' was changed from 'error' to 'logloss'. Explicitly set eval_metric if you'd like to restore the old behavior.\n"
     ]
    },
    {
     "name": "stderr",
     "output_type": "stream",
     "text": [
      "/Users/jakubpazio/opt/anaconda3/lib/python3.8/site-packages/xgboost/sklearn.py:888: UserWarning: The use of label encoder in XGBClassifier is deprecated and will be removed in a future release. To remove this warning, do the following: 1) Pass option use_label_encoder=False when constructing XGBClassifier object; and 2) Encode your labels (y) as integers starting with 0, i.e. 0, 1, 2, ..., [num_class - 1].\n",
      "  warnings.warn(label_encoder_deprecation_msg, UserWarning)\n"
     ]
    },
    {
     "name": "stdout",
     "output_type": "stream",
     "text": [
      "16\n",
      "[18:44:19] WARNING: /opt/concourse/worker/volumes/live/7a2b9f41-3287-451b-6691-43e9a6c0910f/volume/xgboost-split_1619728204606/work/src/learner.cc:1061: Starting in XGBoost 1.3.0, the default evaluation metric used with the objective 'binary:logistic' was changed from 'error' to 'logloss'. Explicitly set eval_metric if you'd like to restore the old behavior.\n"
     ]
    },
    {
     "name": "stderr",
     "output_type": "stream",
     "text": [
      "/Users/jakubpazio/opt/anaconda3/lib/python3.8/site-packages/xgboost/sklearn.py:888: UserWarning: The use of label encoder in XGBClassifier is deprecated and will be removed in a future release. To remove this warning, do the following: 1) Pass option use_label_encoder=False when constructing XGBClassifier object; and 2) Encode your labels (y) as integers starting with 0, i.e. 0, 1, 2, ..., [num_class - 1].\n",
      "  warnings.warn(label_encoder_deprecation_msg, UserWarning)\n"
     ]
    },
    {
     "name": "stdout",
     "output_type": "stream",
     "text": [
      "17\n",
      "[18:44:29] WARNING: /opt/concourse/worker/volumes/live/7a2b9f41-3287-451b-6691-43e9a6c0910f/volume/xgboost-split_1619728204606/work/src/learner.cc:1061: Starting in XGBoost 1.3.0, the default evaluation metric used with the objective 'binary:logistic' was changed from 'error' to 'logloss'. Explicitly set eval_metric if you'd like to restore the old behavior.\n"
     ]
    },
    {
     "name": "stderr",
     "output_type": "stream",
     "text": [
      "/Users/jakubpazio/opt/anaconda3/lib/python3.8/site-packages/xgboost/sklearn.py:888: UserWarning: The use of label encoder in XGBClassifier is deprecated and will be removed in a future release. To remove this warning, do the following: 1) Pass option use_label_encoder=False when constructing XGBClassifier object; and 2) Encode your labels (y) as integers starting with 0, i.e. 0, 1, 2, ..., [num_class - 1].\n",
      "  warnings.warn(label_encoder_deprecation_msg, UserWarning)\n"
     ]
    },
    {
     "name": "stdout",
     "output_type": "stream",
     "text": [
      "18\n",
      "[18:44:39] WARNING: /opt/concourse/worker/volumes/live/7a2b9f41-3287-451b-6691-43e9a6c0910f/volume/xgboost-split_1619728204606/work/src/learner.cc:1061: Starting in XGBoost 1.3.0, the default evaluation metric used with the objective 'binary:logistic' was changed from 'error' to 'logloss'. Explicitly set eval_metric if you'd like to restore the old behavior.\n"
     ]
    },
    {
     "name": "stderr",
     "output_type": "stream",
     "text": [
      "/Users/jakubpazio/opt/anaconda3/lib/python3.8/site-packages/xgboost/sklearn.py:888: UserWarning: The use of label encoder in XGBClassifier is deprecated and will be removed in a future release. To remove this warning, do the following: 1) Pass option use_label_encoder=False when constructing XGBClassifier object; and 2) Encode your labels (y) as integers starting with 0, i.e. 0, 1, 2, ..., [num_class - 1].\n",
      "  warnings.warn(label_encoder_deprecation_msg, UserWarning)\n"
     ]
    },
    {
     "name": "stdout",
     "output_type": "stream",
     "text": [
      "19\n",
      "[18:44:48] WARNING: /opt/concourse/worker/volumes/live/7a2b9f41-3287-451b-6691-43e9a6c0910f/volume/xgboost-split_1619728204606/work/src/learner.cc:1061: Starting in XGBoost 1.3.0, the default evaluation metric used with the objective 'binary:logistic' was changed from 'error' to 'logloss'. Explicitly set eval_metric if you'd like to restore the old behavior.\n"
     ]
    },
    {
     "name": "stderr",
     "output_type": "stream",
     "text": [
      "/Users/jakubpazio/opt/anaconda3/lib/python3.8/site-packages/xgboost/sklearn.py:888: UserWarning: The use of label encoder in XGBClassifier is deprecated and will be removed in a future release. To remove this warning, do the following: 1) Pass option use_label_encoder=False when constructing XGBClassifier object; and 2) Encode your labels (y) as integers starting with 0, i.e. 0, 1, 2, ..., [num_class - 1].\n",
      "  warnings.warn(label_encoder_deprecation_msg, UserWarning)\n"
     ]
    },
    {
     "name": "stdout",
     "output_type": "stream",
     "text": [
      "20\n",
      "[18:44:58] WARNING: /opt/concourse/worker/volumes/live/7a2b9f41-3287-451b-6691-43e9a6c0910f/volume/xgboost-split_1619728204606/work/src/learner.cc:1061: Starting in XGBoost 1.3.0, the default evaluation metric used with the objective 'binary:logistic' was changed from 'error' to 'logloss'. Explicitly set eval_metric if you'd like to restore the old behavior.\n"
     ]
    },
    {
     "name": "stderr",
     "output_type": "stream",
     "text": [
      "/Users/jakubpazio/opt/anaconda3/lib/python3.8/site-packages/xgboost/sklearn.py:888: UserWarning: The use of label encoder in XGBClassifier is deprecated and will be removed in a future release. To remove this warning, do the following: 1) Pass option use_label_encoder=False when constructing XGBClassifier object; and 2) Encode your labels (y) as integers starting with 0, i.e. 0, 1, 2, ..., [num_class - 1].\n",
      "  warnings.warn(label_encoder_deprecation_msg, UserWarning)\n"
     ]
    }
   ],
   "source": [
    "table_likelihoods = {}\n",
    "for t in range(2):  \n",
    "    log_likelihood_models = {}\n",
    "    log_likelihood_models = {}\n",
    "\n",
    "    for c9_t in main_file_min3_3_50.c9.unique():\n",
    "        print(c9_t)\n",
    "        X = pd.concat([sm_base, main_file_min3_3_50[main_file_min3_3_50.c9 == c9_t]]).sample(frac=1)\n",
    "        Y = X['c9']\n",
    "        # print('Y',Y)\n",
    "        X = X.drop(columns=['c9'])\n",
    "        xgb_clf = XGBClassifier(n_estimators=200, max_depth=5, learning_rate=0.3)\n",
    "        xgb_clf.fit(X.values, Y.values)\n",
    "\n",
    "        classes = xgb_clf.classes_\n",
    "        \n",
    "        log_likelihood = {c9:[] for c9 in classes}\n",
    "\n",
    "        for j in range(100):\n",
    "            sample = test_data_00.sample(10000)\n",
    "        \n",
    "            log_probs = sum(np.log(xgb_clf.predict_proba(sample)))\n",
    "            for i, c9 in enumerate(classes):\n",
    "                log_likelihood[c9].append(log_probs[i])\n",
    "        \n",
    "        # log_likelihood_models[i][ii] = np.array(log_likelihood)\n",
    "        log_likelihood_models[c9_t] = log_likelihood\n",
    "        table_likelihoods[t] = log_likelihood_models\n",
    "        # print('table:',table_likelihoods)"
   ]
  },
  {
   "cell_type": "code",
   "execution_count": 129,
   "metadata": {},
   "outputs": [
    {
     "name": "stdout",
     "output_type": "stream",
     "text": [
      "0\n",
      "1\n",
      "2\n",
      "3\n",
      "4\n",
      "5\n",
      "6\n",
      "7\n",
      "8\n",
      "9\n",
      "10\n"
     ]
    },
    {
     "name": "stderr",
     "output_type": "stream",
     "text": [
      "/Users/jakubpazio/opt/anaconda3/lib/python3.8/site-packages/sklearn/neural_network/_multilayer_perceptron.py:582: ConvergenceWarning: Stochastic Optimizer: Maximum iterations (1000) reached and the optimization hasn't converged yet.\n",
      "  warnings.warn(\n"
     ]
    },
    {
     "name": "stdout",
     "output_type": "stream",
     "text": [
      "11\n",
      "12\n",
      "13\n",
      "14\n",
      "15\n",
      "16\n",
      "17\n",
      "18\n",
      "19\n",
      "20\n",
      "0\n",
      "1\n",
      "2\n",
      "3\n",
      "4\n",
      "5\n",
      "6\n",
      "7\n",
      "8\n",
      "9\n",
      "10\n"
     ]
    },
    {
     "name": "stderr",
     "output_type": "stream",
     "text": [
      "/Users/jakubpazio/opt/anaconda3/lib/python3.8/site-packages/sklearn/neural_network/_multilayer_perceptron.py:582: ConvergenceWarning: Stochastic Optimizer: Maximum iterations (1000) reached and the optimization hasn't converged yet.\n",
      "  warnings.warn(\n"
     ]
    },
    {
     "name": "stdout",
     "output_type": "stream",
     "text": [
      "11\n",
      "12\n",
      "13\n",
      "14\n",
      "15\n",
      "16\n",
      "17\n",
      "18\n",
      "19\n",
      "20\n",
      "0\n",
      "1\n",
      "2\n",
      "3\n",
      "4\n",
      "5\n",
      "6\n",
      "7\n",
      "8\n",
      "9\n",
      "10\n"
     ]
    },
    {
     "name": "stderr",
     "output_type": "stream",
     "text": [
      "/Users/jakubpazio/opt/anaconda3/lib/python3.8/site-packages/sklearn/neural_network/_multilayer_perceptron.py:582: ConvergenceWarning: Stochastic Optimizer: Maximum iterations (1000) reached and the optimization hasn't converged yet.\n",
      "  warnings.warn(\n"
     ]
    },
    {
     "name": "stdout",
     "output_type": "stream",
     "text": [
      "11\n",
      "12\n",
      "13\n",
      "14\n",
      "15\n",
      "16\n",
      "17\n",
      "18\n",
      "19\n",
      "20\n",
      "0\n",
      "1\n",
      "2\n",
      "3\n",
      "4\n",
      "5\n",
      "6\n",
      "7\n",
      "8\n",
      "9\n",
      "10\n"
     ]
    },
    {
     "name": "stderr",
     "output_type": "stream",
     "text": [
      "/Users/jakubpazio/opt/anaconda3/lib/python3.8/site-packages/sklearn/neural_network/_multilayer_perceptron.py:582: ConvergenceWarning: Stochastic Optimizer: Maximum iterations (1000) reached and the optimization hasn't converged yet.\n",
      "  warnings.warn(\n"
     ]
    },
    {
     "name": "stdout",
     "output_type": "stream",
     "text": [
      "11\n",
      "12\n",
      "13\n",
      "14\n",
      "15\n",
      "16\n",
      "17\n",
      "18\n",
      "19\n",
      "20\n",
      "0\n",
      "1\n",
      "2\n",
      "3\n",
      "4\n",
      "5\n",
      "6\n",
      "7\n",
      "8\n",
      "9\n",
      "10\n"
     ]
    },
    {
     "name": "stderr",
     "output_type": "stream",
     "text": [
      "/Users/jakubpazio/opt/anaconda3/lib/python3.8/site-packages/sklearn/neural_network/_multilayer_perceptron.py:582: ConvergenceWarning: Stochastic Optimizer: Maximum iterations (1000) reached and the optimization hasn't converged yet.\n",
      "  warnings.warn(\n"
     ]
    },
    {
     "name": "stdout",
     "output_type": "stream",
     "text": [
      "11\n",
      "12\n",
      "13\n",
      "14\n",
      "15\n",
      "16\n",
      "17\n",
      "18\n",
      "19\n",
      "20\n",
      "0\n",
      "1\n",
      "2\n",
      "3\n",
      "4\n",
      "5\n",
      "6\n",
      "7\n",
      "8\n",
      "9\n",
      "10\n"
     ]
    },
    {
     "name": "stderr",
     "output_type": "stream",
     "text": [
      "/Users/jakubpazio/opt/anaconda3/lib/python3.8/site-packages/sklearn/neural_network/_multilayer_perceptron.py:582: ConvergenceWarning: Stochastic Optimizer: Maximum iterations (1000) reached and the optimization hasn't converged yet.\n",
      "  warnings.warn(\n"
     ]
    },
    {
     "name": "stdout",
     "output_type": "stream",
     "text": [
      "11\n",
      "12\n",
      "13\n",
      "14\n",
      "15\n",
      "16\n",
      "17\n",
      "18\n",
      "19\n",
      "20\n",
      "0\n",
      "1\n",
      "2\n",
      "3\n",
      "4\n",
      "5\n",
      "6\n",
      "7\n",
      "8\n",
      "9\n",
      "10\n"
     ]
    },
    {
     "name": "stderr",
     "output_type": "stream",
     "text": [
      "/Users/jakubpazio/opt/anaconda3/lib/python3.8/site-packages/sklearn/neural_network/_multilayer_perceptron.py:582: ConvergenceWarning: Stochastic Optimizer: Maximum iterations (1000) reached and the optimization hasn't converged yet.\n",
      "  warnings.warn(\n"
     ]
    },
    {
     "name": "stdout",
     "output_type": "stream",
     "text": [
      "11\n",
      "12\n",
      "13\n",
      "14\n",
      "15\n",
      "16\n",
      "17\n",
      "18\n",
      "19\n",
      "20\n",
      "0\n",
      "1\n",
      "2\n",
      "3\n",
      "4\n",
      "5\n",
      "6\n",
      "7\n",
      "8\n",
      "9\n",
      "10\n"
     ]
    },
    {
     "name": "stderr",
     "output_type": "stream",
     "text": [
      "/Users/jakubpazio/opt/anaconda3/lib/python3.8/site-packages/sklearn/neural_network/_multilayer_perceptron.py:582: ConvergenceWarning: Stochastic Optimizer: Maximum iterations (1000) reached and the optimization hasn't converged yet.\n",
      "  warnings.warn(\n"
     ]
    },
    {
     "name": "stdout",
     "output_type": "stream",
     "text": [
      "11\n",
      "12\n",
      "13\n",
      "14\n",
      "15\n",
      "16\n",
      "17\n",
      "18\n",
      "19\n",
      "20\n",
      "0\n",
      "1\n",
      "2\n",
      "3\n",
      "4\n",
      "5\n",
      "6\n",
      "7\n",
      "8\n",
      "9\n",
      "10\n"
     ]
    },
    {
     "name": "stderr",
     "output_type": "stream",
     "text": [
      "/Users/jakubpazio/opt/anaconda3/lib/python3.8/site-packages/sklearn/neural_network/_multilayer_perceptron.py:582: ConvergenceWarning: Stochastic Optimizer: Maximum iterations (1000) reached and the optimization hasn't converged yet.\n",
      "  warnings.warn(\n"
     ]
    },
    {
     "name": "stdout",
     "output_type": "stream",
     "text": [
      "11\n",
      "12\n",
      "13\n",
      "14\n",
      "15\n",
      "16\n",
      "17\n",
      "18\n",
      "19\n",
      "20\n",
      "0\n",
      "1\n",
      "2\n",
      "3\n",
      "4\n",
      "5\n",
      "6\n",
      "7\n",
      "8\n",
      "9\n",
      "10\n"
     ]
    },
    {
     "name": "stderr",
     "output_type": "stream",
     "text": [
      "/Users/jakubpazio/opt/anaconda3/lib/python3.8/site-packages/sklearn/neural_network/_multilayer_perceptron.py:582: ConvergenceWarning: Stochastic Optimizer: Maximum iterations (1000) reached and the optimization hasn't converged yet.\n",
      "  warnings.warn(\n"
     ]
    },
    {
     "name": "stdout",
     "output_type": "stream",
     "text": [
      "11\n",
      "12\n",
      "13\n",
      "14\n",
      "15\n",
      "16\n",
      "17\n",
      "18\n",
      "19\n",
      "20\n",
      "0\n",
      "1\n",
      "2\n",
      "3\n",
      "4\n",
      "5\n",
      "6\n",
      "7\n",
      "8\n",
      "9\n",
      "10\n"
     ]
    },
    {
     "name": "stderr",
     "output_type": "stream",
     "text": [
      "/Users/jakubpazio/opt/anaconda3/lib/python3.8/site-packages/sklearn/neural_network/_multilayer_perceptron.py:582: ConvergenceWarning: Stochastic Optimizer: Maximum iterations (1000) reached and the optimization hasn't converged yet.\n",
      "  warnings.warn(\n"
     ]
    },
    {
     "name": "stdout",
     "output_type": "stream",
     "text": [
      "11\n",
      "12\n",
      "13\n",
      "14\n",
      "15\n",
      "16\n",
      "17\n",
      "18\n",
      "19\n",
      "20\n",
      "0\n",
      "1\n",
      "2\n",
      "3\n",
      "4\n",
      "5\n",
      "6\n",
      "7\n",
      "8\n",
      "9\n",
      "10\n"
     ]
    },
    {
     "name": "stderr",
     "output_type": "stream",
     "text": [
      "/Users/jakubpazio/opt/anaconda3/lib/python3.8/site-packages/sklearn/neural_network/_multilayer_perceptron.py:582: ConvergenceWarning: Stochastic Optimizer: Maximum iterations (1000) reached and the optimization hasn't converged yet.\n",
      "  warnings.warn(\n"
     ]
    },
    {
     "name": "stdout",
     "output_type": "stream",
     "text": [
      "11\n",
      "12\n",
      "13\n",
      "14\n",
      "15\n",
      "16\n",
      "17\n",
      "18\n",
      "19\n",
      "20\n",
      "0\n",
      "1\n",
      "2\n",
      "3\n",
      "4\n",
      "5\n",
      "6\n",
      "7\n",
      "8\n",
      "9\n",
      "10\n"
     ]
    },
    {
     "name": "stderr",
     "output_type": "stream",
     "text": [
      "/Users/jakubpazio/opt/anaconda3/lib/python3.8/site-packages/sklearn/neural_network/_multilayer_perceptron.py:582: ConvergenceWarning: Stochastic Optimizer: Maximum iterations (1000) reached and the optimization hasn't converged yet.\n",
      "  warnings.warn(\n"
     ]
    },
    {
     "name": "stdout",
     "output_type": "stream",
     "text": [
      "11\n",
      "12\n",
      "13\n",
      "14\n",
      "15\n",
      "16\n",
      "17\n",
      "18\n",
      "19\n",
      "20\n",
      "0\n",
      "1\n",
      "2\n",
      "3\n",
      "4\n",
      "5\n",
      "6\n",
      "7\n",
      "8\n",
      "9\n",
      "10\n"
     ]
    },
    {
     "name": "stderr",
     "output_type": "stream",
     "text": [
      "/Users/jakubpazio/opt/anaconda3/lib/python3.8/site-packages/sklearn/neural_network/_multilayer_perceptron.py:582: ConvergenceWarning: Stochastic Optimizer: Maximum iterations (1000) reached and the optimization hasn't converged yet.\n",
      "  warnings.warn(\n"
     ]
    },
    {
     "name": "stdout",
     "output_type": "stream",
     "text": [
      "11\n",
      "12\n",
      "13\n",
      "14\n",
      "15\n",
      "16\n",
      "17\n",
      "18\n",
      "19\n",
      "20\n",
      "0\n",
      "1\n",
      "2\n",
      "3\n",
      "4\n",
      "5\n",
      "6\n",
      "7\n",
      "8\n",
      "9\n",
      "10\n"
     ]
    },
    {
     "name": "stderr",
     "output_type": "stream",
     "text": [
      "/Users/jakubpazio/opt/anaconda3/lib/python3.8/site-packages/sklearn/neural_network/_multilayer_perceptron.py:582: ConvergenceWarning: Stochastic Optimizer: Maximum iterations (1000) reached and the optimization hasn't converged yet.\n",
      "  warnings.warn(\n"
     ]
    },
    {
     "name": "stdout",
     "output_type": "stream",
     "text": [
      "11\n",
      "12\n",
      "13\n",
      "14\n",
      "15\n",
      "16\n",
      "17\n",
      "18\n",
      "19\n",
      "20\n",
      "0\n",
      "1\n",
      "2\n",
      "3\n",
      "4\n",
      "5\n",
      "6\n",
      "7\n",
      "8\n",
      "9\n",
      "10\n"
     ]
    },
    {
     "name": "stderr",
     "output_type": "stream",
     "text": [
      "/Users/jakubpazio/opt/anaconda3/lib/python3.8/site-packages/sklearn/neural_network/_multilayer_perceptron.py:582: ConvergenceWarning: Stochastic Optimizer: Maximum iterations (1000) reached and the optimization hasn't converged yet.\n",
      "  warnings.warn(\n"
     ]
    },
    {
     "name": "stdout",
     "output_type": "stream",
     "text": [
      "11\n",
      "12\n",
      "13\n",
      "14\n",
      "15\n",
      "16\n",
      "17\n",
      "18\n",
      "19\n",
      "20\n",
      "0\n",
      "1\n",
      "2\n",
      "3\n",
      "4\n",
      "5\n",
      "6\n",
      "7\n",
      "8\n",
      "9\n",
      "10\n"
     ]
    },
    {
     "name": "stderr",
     "output_type": "stream",
     "text": [
      "/Users/jakubpazio/opt/anaconda3/lib/python3.8/site-packages/sklearn/neural_network/_multilayer_perceptron.py:582: ConvergenceWarning: Stochastic Optimizer: Maximum iterations (1000) reached and the optimization hasn't converged yet.\n",
      "  warnings.warn(\n"
     ]
    },
    {
     "name": "stdout",
     "output_type": "stream",
     "text": [
      "11\n",
      "12\n",
      "13\n",
      "14\n",
      "15\n",
      "16\n",
      "17\n",
      "18\n",
      "19\n",
      "20\n",
      "0\n",
      "1\n",
      "2\n",
      "3\n",
      "4\n",
      "5\n",
      "6\n",
      "7\n",
      "8\n",
      "9\n",
      "10\n"
     ]
    },
    {
     "name": "stderr",
     "output_type": "stream",
     "text": [
      "/Users/jakubpazio/opt/anaconda3/lib/python3.8/site-packages/sklearn/neural_network/_multilayer_perceptron.py:582: ConvergenceWarning: Stochastic Optimizer: Maximum iterations (1000) reached and the optimization hasn't converged yet.\n",
      "  warnings.warn(\n"
     ]
    },
    {
     "name": "stdout",
     "output_type": "stream",
     "text": [
      "11\n",
      "12\n",
      "13\n",
      "14\n",
      "15\n",
      "16\n",
      "17\n",
      "18\n",
      "19\n",
      "20\n",
      "0\n",
      "1\n",
      "2\n",
      "3\n",
      "4\n",
      "5\n",
      "6\n",
      "7\n",
      "8\n",
      "9\n",
      "10\n"
     ]
    },
    {
     "name": "stderr",
     "output_type": "stream",
     "text": [
      "/Users/jakubpazio/opt/anaconda3/lib/python3.8/site-packages/sklearn/neural_network/_multilayer_perceptron.py:582: ConvergenceWarning: Stochastic Optimizer: Maximum iterations (1000) reached and the optimization hasn't converged yet.\n",
      "  warnings.warn(\n"
     ]
    },
    {
     "name": "stdout",
     "output_type": "stream",
     "text": [
      "11\n",
      "12\n",
      "13\n",
      "14\n",
      "15\n",
      "16\n",
      "17\n",
      "18\n",
      "19\n",
      "20\n",
      "0\n",
      "1\n",
      "2\n",
      "3\n",
      "4\n",
      "5\n",
      "6\n",
      "7\n",
      "8\n",
      "9\n",
      "10\n"
     ]
    },
    {
     "name": "stderr",
     "output_type": "stream",
     "text": [
      "/Users/jakubpazio/opt/anaconda3/lib/python3.8/site-packages/sklearn/neural_network/_multilayer_perceptron.py:582: ConvergenceWarning: Stochastic Optimizer: Maximum iterations (1000) reached and the optimization hasn't converged yet.\n",
      "  warnings.warn(\n"
     ]
    },
    {
     "name": "stdout",
     "output_type": "stream",
     "text": [
      "11\n",
      "12\n",
      "13\n",
      "14\n",
      "15\n",
      "16\n",
      "17\n",
      "18\n",
      "19\n",
      "20\n",
      "0\n",
      "1\n",
      "2\n",
      "3\n",
      "4\n",
      "5\n",
      "6\n",
      "7\n",
      "8\n",
      "9\n",
      "10\n"
     ]
    },
    {
     "name": "stderr",
     "output_type": "stream",
     "text": [
      "/Users/jakubpazio/opt/anaconda3/lib/python3.8/site-packages/sklearn/neural_network/_multilayer_perceptron.py:582: ConvergenceWarning: Stochastic Optimizer: Maximum iterations (1000) reached and the optimization hasn't converged yet.\n",
      "  warnings.warn(\n"
     ]
    },
    {
     "name": "stdout",
     "output_type": "stream",
     "text": [
      "11\n",
      "12\n",
      "13\n",
      "14\n",
      "15\n",
      "16\n",
      "17\n",
      "18\n",
      "19\n",
      "20\n",
      "0\n",
      "1\n",
      "2\n",
      "3\n",
      "4\n",
      "5\n",
      "6\n",
      "7\n",
      "8\n",
      "9\n",
      "10\n"
     ]
    },
    {
     "name": "stderr",
     "output_type": "stream",
     "text": [
      "/Users/jakubpazio/opt/anaconda3/lib/python3.8/site-packages/sklearn/neural_network/_multilayer_perceptron.py:582: ConvergenceWarning: Stochastic Optimizer: Maximum iterations (1000) reached and the optimization hasn't converged yet.\n",
      "  warnings.warn(\n"
     ]
    },
    {
     "name": "stdout",
     "output_type": "stream",
     "text": [
      "11\n",
      "12\n",
      "13\n",
      "14\n",
      "15\n",
      "16\n",
      "17\n",
      "18\n",
      "19\n",
      "20\n",
      "0\n",
      "1\n",
      "2\n",
      "3\n",
      "4\n",
      "5\n",
      "6\n",
      "7\n",
      "8\n",
      "9\n",
      "10\n"
     ]
    },
    {
     "name": "stderr",
     "output_type": "stream",
     "text": [
      "/Users/jakubpazio/opt/anaconda3/lib/python3.8/site-packages/sklearn/neural_network/_multilayer_perceptron.py:582: ConvergenceWarning: Stochastic Optimizer: Maximum iterations (1000) reached and the optimization hasn't converged yet.\n",
      "  warnings.warn(\n"
     ]
    },
    {
     "name": "stdout",
     "output_type": "stream",
     "text": [
      "11\n",
      "12\n",
      "13\n",
      "14\n",
      "15\n",
      "16\n",
      "17\n",
      "18\n",
      "19\n",
      "20\n",
      "0\n",
      "1\n",
      "2\n",
      "3\n",
      "4\n",
      "5\n",
      "6\n",
      "7\n",
      "8\n",
      "9\n",
      "10\n"
     ]
    },
    {
     "name": "stderr",
     "output_type": "stream",
     "text": [
      "/Users/jakubpazio/opt/anaconda3/lib/python3.8/site-packages/sklearn/neural_network/_multilayer_perceptron.py:582: ConvergenceWarning: Stochastic Optimizer: Maximum iterations (1000) reached and the optimization hasn't converged yet.\n",
      "  warnings.warn(\n"
     ]
    },
    {
     "name": "stdout",
     "output_type": "stream",
     "text": [
      "11\n",
      "12\n",
      "13\n",
      "14\n",
      "15\n",
      "16\n",
      "17\n",
      "18\n",
      "19\n",
      "20\n",
      "0\n",
      "1\n",
      "2\n",
      "3\n",
      "4\n",
      "5\n",
      "6\n",
      "7\n",
      "8\n",
      "9\n",
      "10\n"
     ]
    },
    {
     "name": "stderr",
     "output_type": "stream",
     "text": [
      "/Users/jakubpazio/opt/anaconda3/lib/python3.8/site-packages/sklearn/neural_network/_multilayer_perceptron.py:582: ConvergenceWarning: Stochastic Optimizer: Maximum iterations (1000) reached and the optimization hasn't converged yet.\n",
      "  warnings.warn(\n"
     ]
    },
    {
     "name": "stdout",
     "output_type": "stream",
     "text": [
      "11\n",
      "12\n",
      "13\n",
      "14\n",
      "15\n",
      "16\n",
      "17\n",
      "18\n",
      "19\n",
      "20\n",
      "0\n",
      "1\n",
      "2\n",
      "3\n",
      "4\n",
      "5\n",
      "6\n",
      "7\n",
      "8\n",
      "9\n",
      "10\n"
     ]
    },
    {
     "name": "stderr",
     "output_type": "stream",
     "text": [
      "/Users/jakubpazio/opt/anaconda3/lib/python3.8/site-packages/sklearn/neural_network/_multilayer_perceptron.py:582: ConvergenceWarning: Stochastic Optimizer: Maximum iterations (1000) reached and the optimization hasn't converged yet.\n",
      "  warnings.warn(\n"
     ]
    },
    {
     "name": "stdout",
     "output_type": "stream",
     "text": [
      "11\n",
      "12\n",
      "13\n",
      "14\n",
      "15\n",
      "16\n",
      "17\n",
      "18\n",
      "19\n",
      "20\n",
      "0\n",
      "1\n",
      "2\n",
      "3\n",
      "4\n",
      "5\n",
      "6\n",
      "7\n",
      "8\n",
      "9\n",
      "10\n"
     ]
    },
    {
     "name": "stderr",
     "output_type": "stream",
     "text": [
      "/Users/jakubpazio/opt/anaconda3/lib/python3.8/site-packages/sklearn/neural_network/_multilayer_perceptron.py:582: ConvergenceWarning: Stochastic Optimizer: Maximum iterations (1000) reached and the optimization hasn't converged yet.\n",
      "  warnings.warn(\n"
     ]
    },
    {
     "name": "stdout",
     "output_type": "stream",
     "text": [
      "11\n",
      "12\n",
      "13\n",
      "14\n",
      "15\n",
      "16\n",
      "17\n",
      "18\n",
      "19\n",
      "20\n",
      "0\n",
      "1\n",
      "2\n",
      "3\n",
      "4\n",
      "5\n",
      "6\n",
      "7\n",
      "8\n",
      "9\n",
      "10\n"
     ]
    },
    {
     "name": "stderr",
     "output_type": "stream",
     "text": [
      "/Users/jakubpazio/opt/anaconda3/lib/python3.8/site-packages/sklearn/neural_network/_multilayer_perceptron.py:582: ConvergenceWarning: Stochastic Optimizer: Maximum iterations (1000) reached and the optimization hasn't converged yet.\n",
      "  warnings.warn(\n"
     ]
    },
    {
     "name": "stdout",
     "output_type": "stream",
     "text": [
      "11\n",
      "12\n",
      "13\n",
      "14\n",
      "15\n",
      "16\n",
      "17\n",
      "18\n",
      "19\n",
      "20\n",
      "0\n",
      "1\n",
      "2\n",
      "3\n",
      "4\n",
      "5\n",
      "6\n",
      "7\n",
      "8\n",
      "9\n",
      "10\n"
     ]
    },
    {
     "name": "stderr",
     "output_type": "stream",
     "text": [
      "/Users/jakubpazio/opt/anaconda3/lib/python3.8/site-packages/sklearn/neural_network/_multilayer_perceptron.py:582: ConvergenceWarning: Stochastic Optimizer: Maximum iterations (1000) reached and the optimization hasn't converged yet.\n",
      "  warnings.warn(\n"
     ]
    },
    {
     "name": "stdout",
     "output_type": "stream",
     "text": [
      "11\n",
      "12\n",
      "13\n",
      "14\n",
      "15\n",
      "16\n",
      "17\n",
      "18\n",
      "19\n",
      "20\n",
      "0\n",
      "1\n",
      "2\n",
      "3\n",
      "4\n",
      "5\n",
      "6\n",
      "7\n",
      "8\n",
      "9\n",
      "10\n"
     ]
    },
    {
     "name": "stderr",
     "output_type": "stream",
     "text": [
      "/Users/jakubpazio/opt/anaconda3/lib/python3.8/site-packages/sklearn/neural_network/_multilayer_perceptron.py:582: ConvergenceWarning: Stochastic Optimizer: Maximum iterations (1000) reached and the optimization hasn't converged yet.\n",
      "  warnings.warn(\n"
     ]
    },
    {
     "name": "stdout",
     "output_type": "stream",
     "text": [
      "11\n",
      "12\n",
      "13\n",
      "14\n",
      "15\n",
      "16\n",
      "17\n",
      "18\n",
      "19\n",
      "20\n",
      "0\n",
      "1\n",
      "2\n",
      "3\n",
      "4\n",
      "5\n",
      "6\n",
      "7\n",
      "8\n",
      "9\n",
      "10\n"
     ]
    },
    {
     "name": "stderr",
     "output_type": "stream",
     "text": [
      "/Users/jakubpazio/opt/anaconda3/lib/python3.8/site-packages/sklearn/neural_network/_multilayer_perceptron.py:582: ConvergenceWarning: Stochastic Optimizer: Maximum iterations (1000) reached and the optimization hasn't converged yet.\n",
      "  warnings.warn(\n"
     ]
    },
    {
     "name": "stdout",
     "output_type": "stream",
     "text": [
      "11\n",
      "12\n",
      "13\n",
      "14\n",
      "15\n",
      "16\n",
      "17\n",
      "18\n",
      "19\n",
      "20\n",
      "0\n",
      "1\n",
      "2\n",
      "3\n",
      "4\n",
      "5\n",
      "6\n",
      "7\n",
      "8\n",
      "9\n",
      "10\n"
     ]
    },
    {
     "name": "stderr",
     "output_type": "stream",
     "text": [
      "/Users/jakubpazio/opt/anaconda3/lib/python3.8/site-packages/sklearn/neural_network/_multilayer_perceptron.py:582: ConvergenceWarning: Stochastic Optimizer: Maximum iterations (1000) reached and the optimization hasn't converged yet.\n",
      "  warnings.warn(\n"
     ]
    },
    {
     "name": "stdout",
     "output_type": "stream",
     "text": [
      "11\n",
      "12\n",
      "13\n",
      "14\n",
      "15\n",
      "16\n",
      "17\n",
      "18\n",
      "19\n",
      "20\n",
      "0\n",
      "1\n",
      "2\n",
      "3\n",
      "4\n",
      "5\n",
      "6\n",
      "7\n",
      "8\n",
      "9\n",
      "10\n"
     ]
    },
    {
     "name": "stderr",
     "output_type": "stream",
     "text": [
      "/Users/jakubpazio/opt/anaconda3/lib/python3.8/site-packages/sklearn/neural_network/_multilayer_perceptron.py:582: ConvergenceWarning: Stochastic Optimizer: Maximum iterations (1000) reached and the optimization hasn't converged yet.\n",
      "  warnings.warn(\n"
     ]
    },
    {
     "name": "stdout",
     "output_type": "stream",
     "text": [
      "11\n",
      "12\n",
      "13\n",
      "14\n",
      "15\n",
      "16\n",
      "17\n",
      "18\n",
      "19\n",
      "20\n",
      "0\n",
      "1\n",
      "2\n",
      "3\n",
      "4\n",
      "5\n",
      "6\n",
      "7\n",
      "8\n",
      "9\n",
      "10\n"
     ]
    },
    {
     "name": "stderr",
     "output_type": "stream",
     "text": [
      "/Users/jakubpazio/opt/anaconda3/lib/python3.8/site-packages/sklearn/neural_network/_multilayer_perceptron.py:582: ConvergenceWarning: Stochastic Optimizer: Maximum iterations (1000) reached and the optimization hasn't converged yet.\n",
      "  warnings.warn(\n"
     ]
    },
    {
     "name": "stdout",
     "output_type": "stream",
     "text": [
      "11\n",
      "12\n",
      "13\n",
      "14\n",
      "15\n",
      "16\n",
      "17\n",
      "18\n",
      "19\n",
      "20\n"
     ]
    },
    {
     "ename": "KeyboardInterrupt",
     "evalue": "",
     "output_type": "error",
     "traceback": [
      "\u001b[0;31m---------------------------------------------------------------------------\u001b[0m",
      "\u001b[0;31mKeyboardInterrupt\u001b[0m                         Traceback (most recent call last)",
      "\u001b[0;32m<ipython-input-129-4602ce35cc1d>\u001b[0m in \u001b[0;36m<module>\u001b[0;34m\u001b[0m\n\u001b[1;32m     22\u001b[0m             \u001b[0msample\u001b[0m \u001b[0;34m=\u001b[0m \u001b[0mtest_data_00\u001b[0m\u001b[0;34m.\u001b[0m\u001b[0msample\u001b[0m\u001b[0;34m(\u001b[0m\u001b[0;36m1000\u001b[0m\u001b[0;34m)\u001b[0m\u001b[0;34m\u001b[0m\u001b[0;34m\u001b[0m\u001b[0m\n\u001b[1;32m     23\u001b[0m \u001b[0;34m\u001b[0m\u001b[0m\n\u001b[0;32m---> 24\u001b[0;31m             \u001b[0mlog_probs\u001b[0m \u001b[0;34m=\u001b[0m \u001b[0mmlp_clf\u001b[0m\u001b[0;34m.\u001b[0m\u001b[0mpredict_log_proba\u001b[0m\u001b[0;34m(\u001b[0m\u001b[0msample\u001b[0m\u001b[0;34m)\u001b[0m\u001b[0;34m\u001b[0m\u001b[0;34m\u001b[0m\u001b[0m\n\u001b[0m\u001b[1;32m     25\u001b[0m             \u001b[0;31m# print('here1')\u001b[0m\u001b[0;34m\u001b[0m\u001b[0;34m\u001b[0m\u001b[0;34m\u001b[0m\u001b[0m\n\u001b[1;32m     26\u001b[0m             \u001b[0;31m# print(log_probs)\u001b[0m\u001b[0;34m\u001b[0m\u001b[0;34m\u001b[0m\u001b[0;34m\u001b[0m\u001b[0m\n",
      "\u001b[0;32m~/opt/anaconda3/lib/python3.8/site-packages/sklearn/neural_network/_multilayer_perceptron.py\u001b[0m in \u001b[0;36mpredict_log_proba\u001b[0;34m(self, X)\u001b[0m\n\u001b[1;32m   1085\u001b[0m             \u001b[0;31m`\u001b[0m\u001b[0mself\u001b[0m\u001b[0;34m.\u001b[0m\u001b[0mclasses_\u001b[0m\u001b[0;31m`\u001b[0m\u001b[0;34m.\u001b[0m \u001b[0mEquivalent\u001b[0m \u001b[0mto\u001b[0m \u001b[0mlog\u001b[0m\u001b[0;34m(\u001b[0m\u001b[0mpredict_proba\u001b[0m\u001b[0;34m(\u001b[0m\u001b[0mX\u001b[0m\u001b[0;34m)\u001b[0m\u001b[0;34m)\u001b[0m\u001b[0;34m\u001b[0m\u001b[0;34m\u001b[0m\u001b[0m\n\u001b[1;32m   1086\u001b[0m         \"\"\"\n\u001b[0;32m-> 1087\u001b[0;31m         \u001b[0my_prob\u001b[0m \u001b[0;34m=\u001b[0m \u001b[0mself\u001b[0m\u001b[0;34m.\u001b[0m\u001b[0mpredict_proba\u001b[0m\u001b[0;34m(\u001b[0m\u001b[0mX\u001b[0m\u001b[0;34m)\u001b[0m\u001b[0;34m\u001b[0m\u001b[0;34m\u001b[0m\u001b[0m\n\u001b[0m\u001b[1;32m   1088\u001b[0m         \u001b[0;32mreturn\u001b[0m \u001b[0mnp\u001b[0m\u001b[0;34m.\u001b[0m\u001b[0mlog\u001b[0m\u001b[0;34m(\u001b[0m\u001b[0my_prob\u001b[0m\u001b[0;34m,\u001b[0m \u001b[0mout\u001b[0m\u001b[0;34m=\u001b[0m\u001b[0my_prob\u001b[0m\u001b[0;34m)\u001b[0m\u001b[0;34m\u001b[0m\u001b[0;34m\u001b[0m\u001b[0m\n\u001b[1;32m   1089\u001b[0m \u001b[0;34m\u001b[0m\u001b[0m\n",
      "\u001b[0;32m~/opt/anaconda3/lib/python3.8/site-packages/sklearn/neural_network/_multilayer_perceptron.py\u001b[0m in \u001b[0;36mpredict_proba\u001b[0;34m(self, X)\u001b[0m\n\u001b[1;32m   1103\u001b[0m         \"\"\"\n\u001b[1;32m   1104\u001b[0m         \u001b[0mcheck_is_fitted\u001b[0m\u001b[0;34m(\u001b[0m\u001b[0mself\u001b[0m\u001b[0;34m)\u001b[0m\u001b[0;34m\u001b[0m\u001b[0;34m\u001b[0m\u001b[0m\n\u001b[0;32m-> 1105\u001b[0;31m         \u001b[0my_pred\u001b[0m \u001b[0;34m=\u001b[0m \u001b[0mself\u001b[0m\u001b[0;34m.\u001b[0m\u001b[0m_predict\u001b[0m\u001b[0;34m(\u001b[0m\u001b[0mX\u001b[0m\u001b[0;34m)\u001b[0m\u001b[0;34m\u001b[0m\u001b[0;34m\u001b[0m\u001b[0m\n\u001b[0m\u001b[1;32m   1106\u001b[0m \u001b[0;34m\u001b[0m\u001b[0m\n\u001b[1;32m   1107\u001b[0m         \u001b[0;32mif\u001b[0m \u001b[0mself\u001b[0m\u001b[0;34m.\u001b[0m\u001b[0mn_outputs_\u001b[0m \u001b[0;34m==\u001b[0m \u001b[0;36m1\u001b[0m\u001b[0;34m:\u001b[0m\u001b[0;34m\u001b[0m\u001b[0;34m\u001b[0m\u001b[0m\n",
      "\u001b[0;32m~/opt/anaconda3/lib/python3.8/site-packages/sklearn/neural_network/_multilayer_perceptron.py\u001b[0m in \u001b[0;36m_predict\u001b[0;34m(self, X)\u001b[0m\n\u001b[1;32m    697\u001b[0m                                          layer_units[i + 1])))\n\u001b[1;32m    698\u001b[0m         \u001b[0;31m# forward propagate\u001b[0m\u001b[0;34m\u001b[0m\u001b[0;34m\u001b[0m\u001b[0;34m\u001b[0m\u001b[0m\n\u001b[0;32m--> 699\u001b[0;31m         \u001b[0mself\u001b[0m\u001b[0;34m.\u001b[0m\u001b[0m_forward_pass\u001b[0m\u001b[0;34m(\u001b[0m\u001b[0mactivations\u001b[0m\u001b[0;34m)\u001b[0m\u001b[0;34m\u001b[0m\u001b[0;34m\u001b[0m\u001b[0m\n\u001b[0m\u001b[1;32m    700\u001b[0m         \u001b[0my_pred\u001b[0m \u001b[0;34m=\u001b[0m \u001b[0mactivations\u001b[0m\u001b[0;34m[\u001b[0m\u001b[0;34m-\u001b[0m\u001b[0;36m1\u001b[0m\u001b[0;34m]\u001b[0m\u001b[0;34m\u001b[0m\u001b[0;34m\u001b[0m\u001b[0m\n\u001b[1;32m    701\u001b[0m \u001b[0;34m\u001b[0m\u001b[0m\n",
      "\u001b[0;32m~/opt/anaconda3/lib/python3.8/site-packages/sklearn/neural_network/_multilayer_perceptron.py\u001b[0m in \u001b[0;36m_forward_pass\u001b[0;34m(self, activations)\u001b[0m\n\u001b[1;32m    104\u001b[0m             activations[i + 1] = safe_sparse_dot(activations[i],\n\u001b[1;32m    105\u001b[0m                                                  self.coefs_[i])\n\u001b[0;32m--> 106\u001b[0;31m             \u001b[0mactivations\u001b[0m\u001b[0;34m[\u001b[0m\u001b[0mi\u001b[0m \u001b[0;34m+\u001b[0m \u001b[0;36m1\u001b[0m\u001b[0;34m]\u001b[0m \u001b[0;34m+=\u001b[0m \u001b[0mself\u001b[0m\u001b[0;34m.\u001b[0m\u001b[0mintercepts_\u001b[0m\u001b[0;34m[\u001b[0m\u001b[0mi\u001b[0m\u001b[0;34m]\u001b[0m\u001b[0;34m\u001b[0m\u001b[0;34m\u001b[0m\u001b[0m\n\u001b[0m\u001b[1;32m    107\u001b[0m \u001b[0;34m\u001b[0m\u001b[0m\n\u001b[1;32m    108\u001b[0m             \u001b[0;31m# For the hidden layers\u001b[0m\u001b[0;34m\u001b[0m\u001b[0;34m\u001b[0m\u001b[0;34m\u001b[0m\u001b[0m\n",
      "\u001b[0;31mKeyboardInterrupt\u001b[0m: "
     ]
    }
   ],
   "source": [
    "table_likelihoods = {}\n",
    "for t in range(40):  \n",
    "    log_likelihood_models = {}\n",
    "    table_likelihoods[t] = log_likelihood_models\n",
    "    log_likelihood_models = {}\n",
    "\n",
    "    for c9_t in main_file_min3_3_50.c9.unique():\n",
    "        print(c9_t)\n",
    "        X = pd.concat([sm_base, main_file_min3_3_50[main_file_min3_3_50.c9 == c9_t]]).sample(frac=1)\n",
    "        Y = X['c9']\n",
    "        # print('Y',Y)\n",
    "        X = X.drop(columns=['c9'])\n",
    "        xgb_clf = XGBClassifier(n_estimators=200, max_depth=5, learning_rate=0.3)\n",
    "        xgb_clf.fit(X.values, Y.values)\n",
    "\n",
    "        classes = xgb_clf.classes_\n",
    "        \n",
    "        log_likelihood = {c9:[] for c9 in classes}\n",
    "\n",
    "        for j in range(100):\n",
    "            sample = test_data_00.sample(10000)\n",
    "        \n",
    "            log_probs = sum(np.log(xgb_clf.predict_proba(sample)))\n",
    "            for i, c9 in enumerate(classes):\n",
    "                log_likelihood[c9].append(log_probs[i])\n",
    "        \n",
    "        # log_likelihood_models[i][ii] = np.array(log_likelihood)\n",
    "        log_likelihood_models[c9_t] = log_likelihood\n",
    "\n",
    "    \n",
    "\n",
    "table_likelihoods = {}\n",
    "for t in range(40):  \n",
    "    log_likelihood_models = {}\n",
    "    table_likelihoods[t] = log_likelihood_models\n",
    "\n",
    "    for c9_t in main_file_min3_3_50.c9.unique():\n",
    "        print(c9_t)\n",
    "        X = pd.concat([data_base00, main_file_min3_3_50[main_file_min3_3_50.c9 == c9_t]]).sample(frac=1)\n",
    "        Y = X['c9']\n",
    "        # print('Y',Y)\n",
    "        X = X.drop(columns=['c9'])\n",
    "\n",
    "        # display(X.head())\n",
    "        # display(Y.sample(10))\n",
    "\n",
    "        mlp_clf = MLPClassifier(max_iter=1000,hidden_layer_sizes=800, tol = 1e-16)\n",
    "        mlp_clf.fit(X.values, Y.values)\n",
    "        # print('here')\n",
    "        \n",
    "        log_likelihood = []\n",
    "        for j in range(1000):\n",
    "            sample = test_data_00.sample(1000)\n",
    "        \n",
    "            log_probs = mlp_clf.predict_log_proba(sample)\n",
    "            # print('here1')\n",
    "            # print(log_probs)\n",
    "            log_likelihood.append(sum(log_probs))\n",
    "        \n",
    "        # log_likelihood_models[i][ii] = np.array(log_likelihood)\n",
    "        log_likelihood_models[c9_t] = np.array(log_likelihood)\n",
    "\n",
    "\n"
   ]
  },
  {
   "cell_type": "markdown",
   "metadata": {},
   "source": [
    "CODE THAT PLOTS GRAPHS"
   ]
  },
  {
   "cell_type": "code",
   "execution_count": 594,
   "metadata": {},
   "outputs": [
    {
     "name": "stdout",
     "output_type": "stream",
     "text": [
      "-16644.691\n",
      "-16607.46\n",
      "-16314.662\n",
      "-16287.345\n",
      "-16127.889\n",
      "-16062.763\n",
      "-15850.5\n",
      "-15735.37\n",
      "-15548.371\n",
      "-15352.188\n",
      "-15046.165\n",
      "-14973.781\n",
      "-14773.162\n",
      "-14766.532\n",
      "-14488.224\n",
      "-14417.897\n",
      "-14229.433\n",
      "-14093.541\n",
      "-13880.607\n",
      "-13818.478\n",
      "-16648.314\n",
      "-16610.518\n",
      "-16321.684\n",
      "-16288.906\n",
      "-16129.974\n",
      "-16069.067\n",
      "-15850.47\n",
      "-15736.617\n",
      "-15545.92\n",
      "-15353.326\n",
      "-15045.481\n",
      "-14974.942\n",
      "-14773.941\n",
      "-14768.692\n",
      "-14487.139\n",
      "-14416.99\n",
      "-14228.063\n",
      "-14092.624\n",
      "-13878.531\n",
      "-13819.514\n"
     ]
    },
    {
     "data": {
      "image/svg+xml": "<?xml version=\"1.0\" encoding=\"utf-8\" standalone=\"no\"?>\n<!DOCTYPE svg PUBLIC \"-//W3C//DTD SVG 1.1//EN\"\n  \"http://www.w3.org/Graphics/SVG/1.1/DTD/svg11.dtd\">\n<!-- Created with matplotlib (https://matplotlib.org/) -->\n<svg height=\"277.314375pt\" version=\"1.1\" viewBox=\"0 0 410.070312 277.314375\" width=\"410.070312pt\" xmlns=\"http://www.w3.org/2000/svg\" xmlns:xlink=\"http://www.w3.org/1999/xlink\">\n <metadata>\n  <rdf:RDF xmlns:cc=\"http://creativecommons.org/ns#\" xmlns:dc=\"http://purl.org/dc/elements/1.1/\" xmlns:rdf=\"http://www.w3.org/1999/02/22-rdf-syntax-ns#\">\n   <cc:Work>\n    <dc:type rdf:resource=\"http://purl.org/dc/dcmitype/StillImage\"/>\n    <dc:date>2022-02-21T15:36:01.046538</dc:date>\n    <dc:format>image/svg+xml</dc:format>\n    <dc:creator>\n     <cc:Agent>\n      <dc:title>Matplotlib v3.3.2, https://matplotlib.org/</dc:title>\n     </cc:Agent>\n    </dc:creator>\n   </cc:Work>\n  </rdf:RDF>\n </metadata>\n <defs>\n  <style type=\"text/css\">*{stroke-linecap:butt;stroke-linejoin:round;}</style>\n </defs>\n <g id=\"figure_1\">\n  <g id=\"patch_1\">\n   <path d=\"M 0 277.314375 \nL 410.070312 277.314375 \nL 410.070312 0 \nL 0 0 \nz\n\" style=\"fill:none;\"/>\n  </g>\n  <g id=\"axes_1\">\n   <g id=\"patch_2\">\n    <path d=\"M 68.070312 239.758125 \nL 402.870313 239.758125 \nL 402.870313 22.318125 \nL 68.070312 22.318125 \nz\n\" style=\"fill:#ffffff;\"/>\n   </g>\n   <g id=\"matplotlib.axis_1\">\n    <g id=\"xtick_1\">\n     <g id=\"line2d_1\">\n      <defs>\n       <path d=\"M 0 0 \nL 0 3.5 \n\" id=\"m3e161fa218\" style=\"stroke:#000000;stroke-width:0.8;\"/>\n      </defs>\n      <g>\n       <use style=\"stroke:#000000;stroke-width:0.8;\" x=\"83.288494\" xlink:href=\"#m3e161fa218\" y=\"239.758125\"/>\n      </g>\n     </g>\n     <g id=\"text_1\">\n      <!-- −1.00 -->\n      <g transform=\"translate(67.965838 254.356562)scale(0.1 -0.1)\">\n       <defs>\n        <path d=\"M 10.59375 35.5 \nL 73.1875 35.5 \nL 73.1875 27.203125 \nL 10.59375 27.203125 \nz\n\" id=\"DejaVuSans-8722\"/>\n        <path d=\"M 12.40625 8.296875 \nL 28.515625 8.296875 \nL 28.515625 63.921875 \nL 10.984375 60.40625 \nL 10.984375 69.390625 \nL 28.421875 72.90625 \nL 38.28125 72.90625 \nL 38.28125 8.296875 \nL 54.390625 8.296875 \nL 54.390625 0 \nL 12.40625 0 \nz\n\" id=\"DejaVuSans-49\"/>\n        <path d=\"M 10.6875 12.40625 \nL 21 12.40625 \nL 21 0 \nL 10.6875 0 \nz\n\" id=\"DejaVuSans-46\"/>\n        <path d=\"M 31.78125 66.40625 \nQ 24.171875 66.40625 20.328125 58.90625 \nQ 16.5 51.421875 16.5 36.375 \nQ 16.5 21.390625 20.328125 13.890625 \nQ 24.171875 6.390625 31.78125 6.390625 \nQ 39.453125 6.390625 43.28125 13.890625 \nQ 47.125 21.390625 47.125 36.375 \nQ 47.125 51.421875 43.28125 58.90625 \nQ 39.453125 66.40625 31.78125 66.40625 \nz\nM 31.78125 74.21875 \nQ 44.046875 74.21875 50.515625 64.515625 \nQ 56.984375 54.828125 56.984375 36.375 \nQ 56.984375 17.96875 50.515625 8.265625 \nQ 44.046875 -1.421875 31.78125 -1.421875 \nQ 19.53125 -1.421875 13.0625 8.265625 \nQ 6.59375 17.96875 6.59375 36.375 \nQ 6.59375 54.828125 13.0625 64.515625 \nQ 19.53125 74.21875 31.78125 74.21875 \nz\n\" id=\"DejaVuSans-48\"/>\n       </defs>\n       <use xlink:href=\"#DejaVuSans-8722\"/>\n       <use x=\"83.789062\" xlink:href=\"#DejaVuSans-49\"/>\n       <use x=\"147.412109\" xlink:href=\"#DejaVuSans-46\"/>\n       <use x=\"179.199219\" xlink:href=\"#DejaVuSans-48\"/>\n       <use x=\"242.822266\" xlink:href=\"#DejaVuSans-48\"/>\n      </g>\n     </g>\n    </g>\n    <g id=\"xtick_2\">\n     <g id=\"line2d_2\">\n      <g>\n       <use style=\"stroke:#000000;stroke-width:0.8;\" x=\"121.333949\" xlink:href=\"#m3e161fa218\" y=\"239.758125\"/>\n      </g>\n     </g>\n     <g id=\"text_2\">\n      <!-- −0.75 -->\n      <g transform=\"translate(106.011293 254.356562)scale(0.1 -0.1)\">\n       <defs>\n        <path d=\"M 8.203125 72.90625 \nL 55.078125 72.90625 \nL 55.078125 68.703125 \nL 28.609375 0 \nL 18.3125 0 \nL 43.21875 64.59375 \nL 8.203125 64.59375 \nz\n\" id=\"DejaVuSans-55\"/>\n        <path d=\"M 10.796875 72.90625 \nL 49.515625 72.90625 \nL 49.515625 64.59375 \nL 19.828125 64.59375 \nL 19.828125 46.734375 \nQ 21.96875 47.46875 24.109375 47.828125 \nQ 26.265625 48.1875 28.421875 48.1875 \nQ 40.625 48.1875 47.75 41.5 \nQ 54.890625 34.8125 54.890625 23.390625 \nQ 54.890625 11.625 47.5625 5.09375 \nQ 40.234375 -1.421875 26.90625 -1.421875 \nQ 22.3125 -1.421875 17.546875 -0.640625 \nQ 12.796875 0.140625 7.71875 1.703125 \nL 7.71875 11.625 \nQ 12.109375 9.234375 16.796875 8.0625 \nQ 21.484375 6.890625 26.703125 6.890625 \nQ 35.15625 6.890625 40.078125 11.328125 \nQ 45.015625 15.765625 45.015625 23.390625 \nQ 45.015625 31 40.078125 35.4375 \nQ 35.15625 39.890625 26.703125 39.890625 \nQ 22.75 39.890625 18.8125 39.015625 \nQ 14.890625 38.140625 10.796875 36.28125 \nz\n\" id=\"DejaVuSans-53\"/>\n       </defs>\n       <use xlink:href=\"#DejaVuSans-8722\"/>\n       <use x=\"83.789062\" xlink:href=\"#DejaVuSans-48\"/>\n       <use x=\"147.412109\" xlink:href=\"#DejaVuSans-46\"/>\n       <use x=\"179.199219\" xlink:href=\"#DejaVuSans-55\"/>\n       <use x=\"242.822266\" xlink:href=\"#DejaVuSans-53\"/>\n      </g>\n     </g>\n    </g>\n    <g id=\"xtick_3\">\n     <g id=\"line2d_3\">\n      <g>\n       <use style=\"stroke:#000000;stroke-width:0.8;\" x=\"159.379403\" xlink:href=\"#m3e161fa218\" y=\"239.758125\"/>\n      </g>\n     </g>\n     <g id=\"text_3\">\n      <!-- −0.50 -->\n      <g transform=\"translate(144.056747 254.356562)scale(0.1 -0.1)\">\n       <use xlink:href=\"#DejaVuSans-8722\"/>\n       <use x=\"83.789062\" xlink:href=\"#DejaVuSans-48\"/>\n       <use x=\"147.412109\" xlink:href=\"#DejaVuSans-46\"/>\n       <use x=\"179.199219\" xlink:href=\"#DejaVuSans-53\"/>\n       <use x=\"242.822266\" xlink:href=\"#DejaVuSans-48\"/>\n      </g>\n     </g>\n    </g>\n    <g id=\"xtick_4\">\n     <g id=\"line2d_4\">\n      <g>\n       <use style=\"stroke:#000000;stroke-width:0.8;\" x=\"197.424858\" xlink:href=\"#m3e161fa218\" y=\"239.758125\"/>\n      </g>\n     </g>\n     <g id=\"text_4\">\n      <!-- −0.25 -->\n      <g transform=\"translate(182.102202 254.356562)scale(0.1 -0.1)\">\n       <defs>\n        <path d=\"M 19.1875 8.296875 \nL 53.609375 8.296875 \nL 53.609375 0 \nL 7.328125 0 \nL 7.328125 8.296875 \nQ 12.9375 14.109375 22.625 23.890625 \nQ 32.328125 33.6875 34.8125 36.53125 \nQ 39.546875 41.84375 41.421875 45.53125 \nQ 43.3125 49.21875 43.3125 52.78125 \nQ 43.3125 58.59375 39.234375 62.25 \nQ 35.15625 65.921875 28.609375 65.921875 \nQ 23.96875 65.921875 18.8125 64.3125 \nQ 13.671875 62.703125 7.8125 59.421875 \nL 7.8125 69.390625 \nQ 13.765625 71.78125 18.9375 73 \nQ 24.125 74.21875 28.421875 74.21875 \nQ 39.75 74.21875 46.484375 68.546875 \nQ 53.21875 62.890625 53.21875 53.421875 \nQ 53.21875 48.921875 51.53125 44.890625 \nQ 49.859375 40.875 45.40625 35.40625 \nQ 44.1875 33.984375 37.640625 27.21875 \nQ 31.109375 20.453125 19.1875 8.296875 \nz\n\" id=\"DejaVuSans-50\"/>\n       </defs>\n       <use xlink:href=\"#DejaVuSans-8722\"/>\n       <use x=\"83.789062\" xlink:href=\"#DejaVuSans-48\"/>\n       <use x=\"147.412109\" xlink:href=\"#DejaVuSans-46\"/>\n       <use x=\"179.199219\" xlink:href=\"#DejaVuSans-50\"/>\n       <use x=\"242.822266\" xlink:href=\"#DejaVuSans-53\"/>\n      </g>\n     </g>\n    </g>\n    <g id=\"xtick_5\">\n     <g id=\"line2d_5\">\n      <g>\n       <use style=\"stroke:#000000;stroke-width:0.8;\" x=\"235.470313\" xlink:href=\"#m3e161fa218\" y=\"239.758125\"/>\n      </g>\n     </g>\n     <g id=\"text_5\">\n      <!-- 0.00 -->\n      <g transform=\"translate(224.3375 254.356562)scale(0.1 -0.1)\">\n       <use xlink:href=\"#DejaVuSans-48\"/>\n       <use x=\"63.623047\" xlink:href=\"#DejaVuSans-46\"/>\n       <use x=\"95.410156\" xlink:href=\"#DejaVuSans-48\"/>\n       <use x=\"159.033203\" xlink:href=\"#DejaVuSans-48\"/>\n      </g>\n     </g>\n    </g>\n    <g id=\"xtick_6\">\n     <g id=\"line2d_6\">\n      <g>\n       <use style=\"stroke:#000000;stroke-width:0.8;\" x=\"273.515767\" xlink:href=\"#m3e161fa218\" y=\"239.758125\"/>\n      </g>\n     </g>\n     <g id=\"text_6\">\n      <!-- 0.25 -->\n      <g transform=\"translate(262.382955 254.356562)scale(0.1 -0.1)\">\n       <use xlink:href=\"#DejaVuSans-48\"/>\n       <use x=\"63.623047\" xlink:href=\"#DejaVuSans-46\"/>\n       <use x=\"95.410156\" xlink:href=\"#DejaVuSans-50\"/>\n       <use x=\"159.033203\" xlink:href=\"#DejaVuSans-53\"/>\n      </g>\n     </g>\n    </g>\n    <g id=\"xtick_7\">\n     <g id=\"line2d_7\">\n      <g>\n       <use style=\"stroke:#000000;stroke-width:0.8;\" x=\"311.561222\" xlink:href=\"#m3e161fa218\" y=\"239.758125\"/>\n      </g>\n     </g>\n     <g id=\"text_7\">\n      <!-- 0.50 -->\n      <g transform=\"translate(300.428409 254.356562)scale(0.1 -0.1)\">\n       <use xlink:href=\"#DejaVuSans-48\"/>\n       <use x=\"63.623047\" xlink:href=\"#DejaVuSans-46\"/>\n       <use x=\"95.410156\" xlink:href=\"#DejaVuSans-53\"/>\n       <use x=\"159.033203\" xlink:href=\"#DejaVuSans-48\"/>\n      </g>\n     </g>\n    </g>\n    <g id=\"xtick_8\">\n     <g id=\"line2d_8\">\n      <g>\n       <use style=\"stroke:#000000;stroke-width:0.8;\" x=\"349.606676\" xlink:href=\"#m3e161fa218\" y=\"239.758125\"/>\n      </g>\n     </g>\n     <g id=\"text_8\">\n      <!-- 0.75 -->\n      <g transform=\"translate(338.473864 254.356562)scale(0.1 -0.1)\">\n       <use xlink:href=\"#DejaVuSans-48\"/>\n       <use x=\"63.623047\" xlink:href=\"#DejaVuSans-46\"/>\n       <use x=\"95.410156\" xlink:href=\"#DejaVuSans-55\"/>\n       <use x=\"159.033203\" xlink:href=\"#DejaVuSans-53\"/>\n      </g>\n     </g>\n    </g>\n    <g id=\"xtick_9\">\n     <g id=\"line2d_9\">\n      <g>\n       <use style=\"stroke:#000000;stroke-width:0.8;\" x=\"387.652131\" xlink:href=\"#m3e161fa218\" y=\"239.758125\"/>\n      </g>\n     </g>\n     <g id=\"text_9\">\n      <!-- 1.00 -->\n      <g transform=\"translate(376.519318 254.356562)scale(0.1 -0.1)\">\n       <use xlink:href=\"#DejaVuSans-49\"/>\n       <use x=\"63.623047\" xlink:href=\"#DejaVuSans-46\"/>\n       <use x=\"95.410156\" xlink:href=\"#DejaVuSans-48\"/>\n       <use x=\"159.033203\" xlink:href=\"#DejaVuSans-48\"/>\n      </g>\n     </g>\n    </g>\n    <g id=\"text_10\">\n     <!-- C9 coef. -->\n     <g transform=\"translate(215.336719 268.034687)scale(0.1 -0.1)\">\n      <defs>\n       <path d=\"M 64.40625 67.28125 \nL 64.40625 56.890625 \nQ 59.421875 61.53125 53.78125 63.8125 \nQ 48.140625 66.109375 41.796875 66.109375 \nQ 29.296875 66.109375 22.65625 58.46875 \nQ 16.015625 50.828125 16.015625 36.375 \nQ 16.015625 21.96875 22.65625 14.328125 \nQ 29.296875 6.6875 41.796875 6.6875 \nQ 48.140625 6.6875 53.78125 8.984375 \nQ 59.421875 11.28125 64.40625 15.921875 \nL 64.40625 5.609375 \nQ 59.234375 2.09375 53.4375 0.328125 \nQ 47.65625 -1.421875 41.21875 -1.421875 \nQ 24.65625 -1.421875 15.125 8.703125 \nQ 5.609375 18.84375 5.609375 36.375 \nQ 5.609375 53.953125 15.125 64.078125 \nQ 24.65625 74.21875 41.21875 74.21875 \nQ 47.75 74.21875 53.53125 72.484375 \nQ 59.328125 70.75 64.40625 67.28125 \nz\n\" id=\"DejaVuSans-67\"/>\n       <path d=\"M 10.984375 1.515625 \nL 10.984375 10.5 \nQ 14.703125 8.734375 18.5 7.8125 \nQ 22.3125 6.890625 25.984375 6.890625 \nQ 35.75 6.890625 40.890625 13.453125 \nQ 46.046875 20.015625 46.78125 33.40625 \nQ 43.953125 29.203125 39.59375 26.953125 \nQ 35.25 24.703125 29.984375 24.703125 \nQ 19.046875 24.703125 12.671875 31.3125 \nQ 6.296875 37.9375 6.296875 49.421875 \nQ 6.296875 60.640625 12.9375 67.421875 \nQ 19.578125 74.21875 30.609375 74.21875 \nQ 43.265625 74.21875 49.921875 64.515625 \nQ 56.59375 54.828125 56.59375 36.375 \nQ 56.59375 19.140625 48.40625 8.859375 \nQ 40.234375 -1.421875 26.421875 -1.421875 \nQ 22.703125 -1.421875 18.890625 -0.6875 \nQ 15.09375 0.046875 10.984375 1.515625 \nz\nM 30.609375 32.421875 \nQ 37.25 32.421875 41.125 36.953125 \nQ 45.015625 41.5 45.015625 49.421875 \nQ 45.015625 57.28125 41.125 61.84375 \nQ 37.25 66.40625 30.609375 66.40625 \nQ 23.96875 66.40625 20.09375 61.84375 \nQ 16.21875 57.28125 16.21875 49.421875 \nQ 16.21875 41.5 20.09375 36.953125 \nQ 23.96875 32.421875 30.609375 32.421875 \nz\n\" id=\"DejaVuSans-57\"/>\n       <path id=\"DejaVuSans-32\"/>\n       <path d=\"M 48.78125 52.59375 \nL 48.78125 44.1875 \nQ 44.96875 46.296875 41.140625 47.34375 \nQ 37.3125 48.390625 33.40625 48.390625 \nQ 24.65625 48.390625 19.8125 42.84375 \nQ 14.984375 37.3125 14.984375 27.296875 \nQ 14.984375 17.28125 19.8125 11.734375 \nQ 24.65625 6.203125 33.40625 6.203125 \nQ 37.3125 6.203125 41.140625 7.25 \nQ 44.96875 8.296875 48.78125 10.40625 \nL 48.78125 2.09375 \nQ 45.015625 0.34375 40.984375 -0.53125 \nQ 36.96875 -1.421875 32.421875 -1.421875 \nQ 20.0625 -1.421875 12.78125 6.34375 \nQ 5.515625 14.109375 5.515625 27.296875 \nQ 5.515625 40.671875 12.859375 48.328125 \nQ 20.21875 56 33.015625 56 \nQ 37.15625 56 41.109375 55.140625 \nQ 45.0625 54.296875 48.78125 52.59375 \nz\n\" id=\"DejaVuSans-99\"/>\n       <path d=\"M 30.609375 48.390625 \nQ 23.390625 48.390625 19.1875 42.75 \nQ 14.984375 37.109375 14.984375 27.296875 \nQ 14.984375 17.484375 19.15625 11.84375 \nQ 23.34375 6.203125 30.609375 6.203125 \nQ 37.796875 6.203125 41.984375 11.859375 \nQ 46.1875 17.53125 46.1875 27.296875 \nQ 46.1875 37.015625 41.984375 42.703125 \nQ 37.796875 48.390625 30.609375 48.390625 \nz\nM 30.609375 56 \nQ 42.328125 56 49.015625 48.375 \nQ 55.71875 40.765625 55.71875 27.296875 \nQ 55.71875 13.875 49.015625 6.21875 \nQ 42.328125 -1.421875 30.609375 -1.421875 \nQ 18.84375 -1.421875 12.171875 6.21875 \nQ 5.515625 13.875 5.515625 27.296875 \nQ 5.515625 40.765625 12.171875 48.375 \nQ 18.84375 56 30.609375 56 \nz\n\" id=\"DejaVuSans-111\"/>\n       <path d=\"M 56.203125 29.59375 \nL 56.203125 25.203125 \nL 14.890625 25.203125 \nQ 15.484375 15.921875 20.484375 11.0625 \nQ 25.484375 6.203125 34.421875 6.203125 \nQ 39.59375 6.203125 44.453125 7.46875 \nQ 49.3125 8.734375 54.109375 11.28125 \nL 54.109375 2.78125 \nQ 49.265625 0.734375 44.1875 -0.34375 \nQ 39.109375 -1.421875 33.890625 -1.421875 \nQ 20.796875 -1.421875 13.15625 6.1875 \nQ 5.515625 13.8125 5.515625 26.8125 \nQ 5.515625 40.234375 12.765625 48.109375 \nQ 20.015625 56 32.328125 56 \nQ 43.359375 56 49.78125 48.890625 \nQ 56.203125 41.796875 56.203125 29.59375 \nz\nM 47.21875 32.234375 \nQ 47.125 39.59375 43.09375 43.984375 \nQ 39.0625 48.390625 32.421875 48.390625 \nQ 24.90625 48.390625 20.390625 44.140625 \nQ 15.875 39.890625 15.1875 32.171875 \nz\n\" id=\"DejaVuSans-101\"/>\n       <path d=\"M 37.109375 75.984375 \nL 37.109375 68.5 \nL 28.515625 68.5 \nQ 23.6875 68.5 21.796875 66.546875 \nQ 19.921875 64.59375 19.921875 59.515625 \nL 19.921875 54.6875 \nL 34.71875 54.6875 \nL 34.71875 47.703125 \nL 19.921875 47.703125 \nL 19.921875 0 \nL 10.890625 0 \nL 10.890625 47.703125 \nL 2.296875 47.703125 \nL 2.296875 54.6875 \nL 10.890625 54.6875 \nL 10.890625 58.5 \nQ 10.890625 67.625 15.140625 71.796875 \nQ 19.390625 75.984375 28.609375 75.984375 \nz\n\" id=\"DejaVuSans-102\"/>\n      </defs>\n      <use xlink:href=\"#DejaVuSans-67\"/>\n      <use x=\"69.824219\" xlink:href=\"#DejaVuSans-57\"/>\n      <use x=\"133.447266\" xlink:href=\"#DejaVuSans-32\"/>\n      <use x=\"165.234375\" xlink:href=\"#DejaVuSans-99\"/>\n      <use x=\"220.214844\" xlink:href=\"#DejaVuSans-111\"/>\n      <use x=\"281.396484\" xlink:href=\"#DejaVuSans-101\"/>\n      <use x=\"342.919922\" xlink:href=\"#DejaVuSans-102\"/>\n      <use x=\"370.875\" xlink:href=\"#DejaVuSans-46\"/>\n     </g>\n    </g>\n   </g>\n   <g id=\"matplotlib.axis_2\">\n    <g id=\"ytick_1\">\n     <g id=\"line2d_10\">\n      <defs>\n       <path d=\"M 0 0 \nL -3.5 0 \n\" id=\"m082bdee9fd\" style=\"stroke:#000000;stroke-width:0.8;\"/>\n      </defs>\n      <g>\n       <use style=\"stroke:#000000;stroke-width:0.8;\" x=\"68.070312\" xlink:href=\"#m082bdee9fd\" y=\"220.687274\"/>\n      </g>\n     </g>\n     <g id=\"text_11\">\n      <!-- −16000 -->\n      <g transform=\"translate(20.878125 224.486492)scale(0.1 -0.1)\">\n       <defs>\n        <path d=\"M 33.015625 40.375 \nQ 26.375 40.375 22.484375 35.828125 \nQ 18.609375 31.296875 18.609375 23.390625 \nQ 18.609375 15.53125 22.484375 10.953125 \nQ 26.375 6.390625 33.015625 6.390625 \nQ 39.65625 6.390625 43.53125 10.953125 \nQ 47.40625 15.53125 47.40625 23.390625 \nQ 47.40625 31.296875 43.53125 35.828125 \nQ 39.65625 40.375 33.015625 40.375 \nz\nM 52.59375 71.296875 \nL 52.59375 62.3125 \nQ 48.875 64.0625 45.09375 64.984375 \nQ 41.3125 65.921875 37.59375 65.921875 \nQ 27.828125 65.921875 22.671875 59.328125 \nQ 17.53125 52.734375 16.796875 39.40625 \nQ 19.671875 43.65625 24.015625 45.921875 \nQ 28.375 48.1875 33.59375 48.1875 \nQ 44.578125 48.1875 50.953125 41.515625 \nQ 57.328125 34.859375 57.328125 23.390625 \nQ 57.328125 12.15625 50.6875 5.359375 \nQ 44.046875 -1.421875 33.015625 -1.421875 \nQ 20.359375 -1.421875 13.671875 8.265625 \nQ 6.984375 17.96875 6.984375 36.375 \nQ 6.984375 53.65625 15.1875 63.9375 \nQ 23.390625 74.21875 37.203125 74.21875 \nQ 40.921875 74.21875 44.703125 73.484375 \nQ 48.484375 72.75 52.59375 71.296875 \nz\n\" id=\"DejaVuSans-54\"/>\n       </defs>\n       <use xlink:href=\"#DejaVuSans-8722\"/>\n       <use x=\"83.789062\" xlink:href=\"#DejaVuSans-49\"/>\n       <use x=\"147.412109\" xlink:href=\"#DejaVuSans-54\"/>\n       <use x=\"211.035156\" xlink:href=\"#DejaVuSans-48\"/>\n       <use x=\"274.658203\" xlink:href=\"#DejaVuSans-48\"/>\n       <use x=\"338.28125\" xlink:href=\"#DejaVuSans-48\"/>\n      </g>\n     </g>\n    </g>\n    <g id=\"ytick_2\">\n     <g id=\"line2d_11\">\n      <g>\n       <use style=\"stroke:#000000;stroke-width:0.8;\" x=\"68.070312\" xlink:href=\"#m082bdee9fd\" y=\"193.389358\"/>\n      </g>\n     </g>\n     <g id=\"text_12\">\n      <!-- −14000 -->\n      <g transform=\"translate(20.878125 197.188576)scale(0.1 -0.1)\">\n       <defs>\n        <path d=\"M 37.796875 64.3125 \nL 12.890625 25.390625 \nL 37.796875 25.390625 \nz\nM 35.203125 72.90625 \nL 47.609375 72.90625 \nL 47.609375 25.390625 \nL 58.015625 25.390625 \nL 58.015625 17.1875 \nL 47.609375 17.1875 \nL 47.609375 0 \nL 37.796875 0 \nL 37.796875 17.1875 \nL 4.890625 17.1875 \nL 4.890625 26.703125 \nz\n\" id=\"DejaVuSans-52\"/>\n       </defs>\n       <use xlink:href=\"#DejaVuSans-8722\"/>\n       <use x=\"83.789062\" xlink:href=\"#DejaVuSans-49\"/>\n       <use x=\"147.412109\" xlink:href=\"#DejaVuSans-52\"/>\n       <use x=\"211.035156\" xlink:href=\"#DejaVuSans-48\"/>\n       <use x=\"274.658203\" xlink:href=\"#DejaVuSans-48\"/>\n       <use x=\"338.28125\" xlink:href=\"#DejaVuSans-48\"/>\n      </g>\n     </g>\n    </g>\n    <g id=\"ytick_3\">\n     <g id=\"line2d_12\">\n      <g>\n       <use style=\"stroke:#000000;stroke-width:0.8;\" x=\"68.070312\" xlink:href=\"#m082bdee9fd\" y=\"166.091442\"/>\n      </g>\n     </g>\n     <g id=\"text_13\">\n      <!-- −12000 -->\n      <g transform=\"translate(20.878125 169.89066)scale(0.1 -0.1)\">\n       <use xlink:href=\"#DejaVuSans-8722\"/>\n       <use x=\"83.789062\" xlink:href=\"#DejaVuSans-49\"/>\n       <use x=\"147.412109\" xlink:href=\"#DejaVuSans-50\"/>\n       <use x=\"211.035156\" xlink:href=\"#DejaVuSans-48\"/>\n       <use x=\"274.658203\" xlink:href=\"#DejaVuSans-48\"/>\n       <use x=\"338.28125\" xlink:href=\"#DejaVuSans-48\"/>\n      </g>\n     </g>\n    </g>\n    <g id=\"ytick_4\">\n     <g id=\"line2d_13\">\n      <g>\n       <use style=\"stroke:#000000;stroke-width:0.8;\" x=\"68.070312\" xlink:href=\"#m082bdee9fd\" y=\"138.793526\"/>\n      </g>\n     </g>\n     <g id=\"text_14\">\n      <!-- −10000 -->\n      <g transform=\"translate(20.878125 142.592744)scale(0.1 -0.1)\">\n       <use xlink:href=\"#DejaVuSans-8722\"/>\n       <use x=\"83.789062\" xlink:href=\"#DejaVuSans-49\"/>\n       <use x=\"147.412109\" xlink:href=\"#DejaVuSans-48\"/>\n       <use x=\"211.035156\" xlink:href=\"#DejaVuSans-48\"/>\n       <use x=\"274.658203\" xlink:href=\"#DejaVuSans-48\"/>\n       <use x=\"338.28125\" xlink:href=\"#DejaVuSans-48\"/>\n      </g>\n     </g>\n    </g>\n    <g id=\"ytick_5\">\n     <g id=\"line2d_14\">\n      <g>\n       <use style=\"stroke:#000000;stroke-width:0.8;\" x=\"68.070312\" xlink:href=\"#m082bdee9fd\" y=\"111.49561\"/>\n      </g>\n     </g>\n     <g id=\"text_15\">\n      <!-- −8000 -->\n      <g transform=\"translate(27.240625 115.294828)scale(0.1 -0.1)\">\n       <defs>\n        <path d=\"M 31.78125 34.625 \nQ 24.75 34.625 20.71875 30.859375 \nQ 16.703125 27.09375 16.703125 20.515625 \nQ 16.703125 13.921875 20.71875 10.15625 \nQ 24.75 6.390625 31.78125 6.390625 \nQ 38.8125 6.390625 42.859375 10.171875 \nQ 46.921875 13.96875 46.921875 20.515625 \nQ 46.921875 27.09375 42.890625 30.859375 \nQ 38.875 34.625 31.78125 34.625 \nz\nM 21.921875 38.8125 \nQ 15.578125 40.375 12.03125 44.71875 \nQ 8.5 49.078125 8.5 55.328125 \nQ 8.5 64.0625 14.71875 69.140625 \nQ 20.953125 74.21875 31.78125 74.21875 \nQ 42.671875 74.21875 48.875 69.140625 \nQ 55.078125 64.0625 55.078125 55.328125 \nQ 55.078125 49.078125 51.53125 44.71875 \nQ 48 40.375 41.703125 38.8125 \nQ 48.828125 37.15625 52.796875 32.3125 \nQ 56.78125 27.484375 56.78125 20.515625 \nQ 56.78125 9.90625 50.3125 4.234375 \nQ 43.84375 -1.421875 31.78125 -1.421875 \nQ 19.734375 -1.421875 13.25 4.234375 \nQ 6.78125 9.90625 6.78125 20.515625 \nQ 6.78125 27.484375 10.78125 32.3125 \nQ 14.796875 37.15625 21.921875 38.8125 \nz\nM 18.3125 54.390625 \nQ 18.3125 48.734375 21.84375 45.5625 \nQ 25.390625 42.390625 31.78125 42.390625 \nQ 38.140625 42.390625 41.71875 45.5625 \nQ 45.3125 48.734375 45.3125 54.390625 \nQ 45.3125 60.0625 41.71875 63.234375 \nQ 38.140625 66.40625 31.78125 66.40625 \nQ 25.390625 66.40625 21.84375 63.234375 \nQ 18.3125 60.0625 18.3125 54.390625 \nz\n\" id=\"DejaVuSans-56\"/>\n       </defs>\n       <use xlink:href=\"#DejaVuSans-8722\"/>\n       <use x=\"83.789062\" xlink:href=\"#DejaVuSans-56\"/>\n       <use x=\"147.412109\" xlink:href=\"#DejaVuSans-48\"/>\n       <use x=\"211.035156\" xlink:href=\"#DejaVuSans-48\"/>\n       <use x=\"274.658203\" xlink:href=\"#DejaVuSans-48\"/>\n      </g>\n     </g>\n    </g>\n    <g id=\"ytick_6\">\n     <g id=\"line2d_15\">\n      <g>\n       <use style=\"stroke:#000000;stroke-width:0.8;\" x=\"68.070312\" xlink:href=\"#m082bdee9fd\" y=\"84.197694\"/>\n      </g>\n     </g>\n     <g id=\"text_16\">\n      <!-- −6000 -->\n      <g transform=\"translate(27.240625 87.996912)scale(0.1 -0.1)\">\n       <use xlink:href=\"#DejaVuSans-8722\"/>\n       <use x=\"83.789062\" xlink:href=\"#DejaVuSans-54\"/>\n       <use x=\"147.412109\" xlink:href=\"#DejaVuSans-48\"/>\n       <use x=\"211.035156\" xlink:href=\"#DejaVuSans-48\"/>\n       <use x=\"274.658203\" xlink:href=\"#DejaVuSans-48\"/>\n      </g>\n     </g>\n    </g>\n    <g id=\"ytick_7\">\n     <g id=\"line2d_16\">\n      <g>\n       <use style=\"stroke:#000000;stroke-width:0.8;\" x=\"68.070312\" xlink:href=\"#m082bdee9fd\" y=\"56.899777\"/>\n      </g>\n     </g>\n     <g id=\"text_17\">\n      <!-- −4000 -->\n      <g transform=\"translate(27.240625 60.698996)scale(0.1 -0.1)\">\n       <use xlink:href=\"#DejaVuSans-8722\"/>\n       <use x=\"83.789062\" xlink:href=\"#DejaVuSans-52\"/>\n       <use x=\"147.412109\" xlink:href=\"#DejaVuSans-48\"/>\n       <use x=\"211.035156\" xlink:href=\"#DejaVuSans-48\"/>\n       <use x=\"274.658203\" xlink:href=\"#DejaVuSans-48\"/>\n      </g>\n     </g>\n    </g>\n    <g id=\"ytick_8\">\n     <g id=\"line2d_17\">\n      <g>\n       <use style=\"stroke:#000000;stroke-width:0.8;\" x=\"68.070312\" xlink:href=\"#m082bdee9fd\" y=\"29.601861\"/>\n      </g>\n     </g>\n     <g id=\"text_18\">\n      <!-- −2000 -->\n      <g transform=\"translate(27.240625 33.40108)scale(0.1 -0.1)\">\n       <use xlink:href=\"#DejaVuSans-8722\"/>\n       <use x=\"83.789062\" xlink:href=\"#DejaVuSans-50\"/>\n       <use x=\"147.412109\" xlink:href=\"#DejaVuSans-48\"/>\n       <use x=\"211.035156\" xlink:href=\"#DejaVuSans-48\"/>\n       <use x=\"274.658203\" xlink:href=\"#DejaVuSans-48\"/>\n      </g>\n     </g>\n    </g>\n    <g id=\"text_19\">\n     <!-- Loglikelihood -->\n     <g transform=\"translate(14.798437 163.77875)rotate(-90)scale(0.1 -0.1)\">\n      <defs>\n       <path d=\"M 9.8125 72.90625 \nL 19.671875 72.90625 \nL 19.671875 8.296875 \nL 55.171875 8.296875 \nL 55.171875 0 \nL 9.8125 0 \nz\n\" id=\"DejaVuSans-76\"/>\n       <path d=\"M 45.40625 27.984375 \nQ 45.40625 37.75 41.375 43.109375 \nQ 37.359375 48.484375 30.078125 48.484375 \nQ 22.859375 48.484375 18.828125 43.109375 \nQ 14.796875 37.75 14.796875 27.984375 \nQ 14.796875 18.265625 18.828125 12.890625 \nQ 22.859375 7.515625 30.078125 7.515625 \nQ 37.359375 7.515625 41.375 12.890625 \nQ 45.40625 18.265625 45.40625 27.984375 \nz\nM 54.390625 6.78125 \nQ 54.390625 -7.171875 48.1875 -13.984375 \nQ 42 -20.796875 29.203125 -20.796875 \nQ 24.46875 -20.796875 20.265625 -20.09375 \nQ 16.0625 -19.390625 12.109375 -17.921875 \nL 12.109375 -9.1875 \nQ 16.0625 -11.328125 19.921875 -12.34375 \nQ 23.78125 -13.375 27.78125 -13.375 \nQ 36.625 -13.375 41.015625 -8.765625 \nQ 45.40625 -4.15625 45.40625 5.171875 \nL 45.40625 9.625 \nQ 42.625 4.78125 38.28125 2.390625 \nQ 33.9375 0 27.875 0 \nQ 17.828125 0 11.671875 7.65625 \nQ 5.515625 15.328125 5.515625 27.984375 \nQ 5.515625 40.671875 11.671875 48.328125 \nQ 17.828125 56 27.875 56 \nQ 33.9375 56 38.28125 53.609375 \nQ 42.625 51.21875 45.40625 46.390625 \nL 45.40625 54.6875 \nL 54.390625 54.6875 \nz\n\" id=\"DejaVuSans-103\"/>\n       <path d=\"M 9.421875 75.984375 \nL 18.40625 75.984375 \nL 18.40625 0 \nL 9.421875 0 \nz\n\" id=\"DejaVuSans-108\"/>\n       <path d=\"M 9.421875 54.6875 \nL 18.40625 54.6875 \nL 18.40625 0 \nL 9.421875 0 \nz\nM 9.421875 75.984375 \nL 18.40625 75.984375 \nL 18.40625 64.59375 \nL 9.421875 64.59375 \nz\n\" id=\"DejaVuSans-105\"/>\n       <path d=\"M 9.078125 75.984375 \nL 18.109375 75.984375 \nL 18.109375 31.109375 \nL 44.921875 54.6875 \nL 56.390625 54.6875 \nL 27.390625 29.109375 \nL 57.625 0 \nL 45.90625 0 \nL 18.109375 26.703125 \nL 18.109375 0 \nL 9.078125 0 \nz\n\" id=\"DejaVuSans-107\"/>\n       <path d=\"M 54.890625 33.015625 \nL 54.890625 0 \nL 45.90625 0 \nL 45.90625 32.71875 \nQ 45.90625 40.484375 42.875 44.328125 \nQ 39.84375 48.1875 33.796875 48.1875 \nQ 26.515625 48.1875 22.3125 43.546875 \nQ 18.109375 38.921875 18.109375 30.90625 \nL 18.109375 0 \nL 9.078125 0 \nL 9.078125 75.984375 \nL 18.109375 75.984375 \nL 18.109375 46.1875 \nQ 21.34375 51.125 25.703125 53.5625 \nQ 30.078125 56 35.796875 56 \nQ 45.21875 56 50.046875 50.171875 \nQ 54.890625 44.34375 54.890625 33.015625 \nz\n\" id=\"DejaVuSans-104\"/>\n       <path d=\"M 45.40625 46.390625 \nL 45.40625 75.984375 \nL 54.390625 75.984375 \nL 54.390625 0 \nL 45.40625 0 \nL 45.40625 8.203125 \nQ 42.578125 3.328125 38.25 0.953125 \nQ 33.9375 -1.421875 27.875 -1.421875 \nQ 17.96875 -1.421875 11.734375 6.484375 \nQ 5.515625 14.40625 5.515625 27.296875 \nQ 5.515625 40.1875 11.734375 48.09375 \nQ 17.96875 56 27.875 56 \nQ 33.9375 56 38.25 53.625 \nQ 42.578125 51.265625 45.40625 46.390625 \nz\nM 14.796875 27.296875 \nQ 14.796875 17.390625 18.875 11.75 \nQ 22.953125 6.109375 30.078125 6.109375 \nQ 37.203125 6.109375 41.296875 11.75 \nQ 45.40625 17.390625 45.40625 27.296875 \nQ 45.40625 37.203125 41.296875 42.84375 \nQ 37.203125 48.484375 30.078125 48.484375 \nQ 22.953125 48.484375 18.875 42.84375 \nQ 14.796875 37.203125 14.796875 27.296875 \nz\n\" id=\"DejaVuSans-100\"/>\n      </defs>\n      <use xlink:href=\"#DejaVuSans-76\"/>\n      <use x=\"53.962891\" xlink:href=\"#DejaVuSans-111\"/>\n      <use x=\"115.144531\" xlink:href=\"#DejaVuSans-103\"/>\n      <use x=\"178.621094\" xlink:href=\"#DejaVuSans-108\"/>\n      <use x=\"206.404297\" xlink:href=\"#DejaVuSans-105\"/>\n      <use x=\"234.1875\" xlink:href=\"#DejaVuSans-107\"/>\n      <use x=\"288.472656\" xlink:href=\"#DejaVuSans-101\"/>\n      <use x=\"349.996094\" xlink:href=\"#DejaVuSans-108\"/>\n      <use x=\"377.779297\" xlink:href=\"#DejaVuSans-105\"/>\n      <use x=\"405.5625\" xlink:href=\"#DejaVuSans-104\"/>\n      <use x=\"468.941406\" xlink:href=\"#DejaVuSans-111\"/>\n      <use x=\"530.123047\" xlink:href=\"#DejaVuSans-111\"/>\n      <use x=\"591.304688\" xlink:href=\"#DejaVuSans-100\"/>\n     </g>\n    </g>\n   </g>\n   <g id=\"LineCollection_1\">\n    <path clip-path=\"url(#pe334774ec5)\" d=\"M 83.288494 32.388385 \nL 83.288494 32.209989 \n\" style=\"fill:none;stroke:#1f77b4;stroke-width:1.5;\"/>\n    <path clip-path=\"url(#pe334774ec5)\" d=\"M 98.506676 32.445157 \nL 98.506676 32.252912 \n\" style=\"fill:none;stroke:#1f77b4;stroke-width:1.5;\"/>\n    <path clip-path=\"url(#pe334774ec5)\" d=\"M 113.724858 33.288746 \nL 113.724858 33.124845 \n\" style=\"fill:none;stroke:#1f77b4;stroke-width:1.5;\"/>\n    <path clip-path=\"url(#pe334774ec5)\" d=\"M 128.94304 33.409441 \nL 128.94304 33.231858 \n\" style=\"fill:none;stroke:#1f77b4;stroke-width:1.5;\"/>\n    <path clip-path=\"url(#pe334774ec5)\" d=\"M 144.161222 33.846844 \nL 144.161222 33.672333 \n\" style=\"fill:none;stroke:#1f77b4;stroke-width:1.5;\"/>\n    <path clip-path=\"url(#pe334774ec5)\" d=\"M 159.379403 34.063798 \nL 159.379403 33.897551 \n\" style=\"fill:none;stroke:#1f77b4;stroke-width:1.5;\"/>\n    <path clip-path=\"url(#pe334774ec5)\" d=\"M 174.597585 34.718305 \nL 174.597585 34.565294 \n\" style=\"fill:none;stroke:#1f77b4;stroke-width:1.5;\"/>\n    <path clip-path=\"url(#pe334774ec5)\" d=\"M 189.815767 35.136987 \nL 189.815767 34.967921 \n\" style=\"fill:none;stroke:#1f77b4;stroke-width:1.5;\"/>\n    <path clip-path=\"url(#pe334774ec5)\" d=\"M 205.033949 35.820748 \nL 205.033949 35.636487 \n\" style=\"fill:none;stroke:#1f77b4;stroke-width:1.5;\"/>\n    <path clip-path=\"url(#pe334774ec5)\" d=\"M 220.252131 36.530081 \nL 220.252131 36.364907 \n\" style=\"fill:none;stroke:#1f77b4;stroke-width:1.5;\"/>\n    <path clip-path=\"url(#pe334774ec5)\" d=\"M 250.688494 37.66462 \nL 250.688494 37.50018 \n\" style=\"fill:none;stroke:#1f77b4;stroke-width:1.5;\"/>\n    <path clip-path=\"url(#pe334774ec5)\" d=\"M 265.906676 38.022599 \nL 265.906676 37.858918 \n\" style=\"fill:none;stroke:#1f77b4;stroke-width:1.5;\"/>\n    <path clip-path=\"url(#pe334774ec5)\" d=\"M 281.124858 38.772352 \nL 281.124858 38.619854 \n\" style=\"fill:none;stroke:#1f77b4;stroke-width:1.5;\"/>\n    <path clip-path=\"url(#pe334774ec5)\" d=\"M 296.34304 38.836728 \nL 296.34304 38.655199 \n\" style=\"fill:none;stroke:#1f77b4;stroke-width:1.5;\"/>\n    <path clip-path=\"url(#pe334774ec5)\" d=\"M 311.561222 39.982297 \nL 311.561222 39.810692 \n\" style=\"fill:none;stroke:#1f77b4;stroke-width:1.5;\"/>\n    <path clip-path=\"url(#pe334774ec5)\" d=\"M 326.779403 40.279245 \nL 326.779403 40.099003 \n\" style=\"fill:none;stroke:#1f77b4;stroke-width:1.5;\"/>\n    <path clip-path=\"url(#pe334774ec5)\" d=\"M 341.997585 41.212416 \nL 341.997585 41.033674 \n\" style=\"fill:none;stroke:#1f77b4;stroke-width:1.5;\"/>\n    <path clip-path=\"url(#pe334774ec5)\" d=\"M 357.215767 41.840415 \nL 357.215767 41.665878 \n\" style=\"fill:none;stroke:#1f77b4;stroke-width:1.5;\"/>\n    <path clip-path=\"url(#pe334774ec5)\" d=\"M 372.433949 42.85313 \nL 372.433949 42.66795 \n\" style=\"fill:none;stroke:#1f77b4;stroke-width:1.5;\"/>\n    <path clip-path=\"url(#pe334774ec5)\" d=\"M 387.652131 43.109775 \nL 387.652131 42.935051 \n\" style=\"fill:none;stroke:#1f77b4;stroke-width:1.5;\"/>\n   </g>\n   <g id=\"LineCollection_2\">\n    <path clip-path=\"url(#pe334774ec5)\" d=\"M 83.288494 229.825038 \nL 83.288494 229.148241 \n\" style=\"fill:none;stroke:#ff7f0e;stroke-width:1.5;\"/>\n    <path clip-path=\"url(#pe334774ec5)\" d=\"M 98.506676 229.303712 \nL 98.506676 228.653253 \n\" style=\"fill:none;stroke:#ff7f0e;stroke-width:1.5;\"/>\n    <path clip-path=\"url(#pe334774ec5)\" d=\"M 113.724858 225.264207 \nL 113.724858 224.699961 \n\" style=\"fill:none;stroke:#ff7f0e;stroke-width:1.5;\"/>\n    <path clip-path=\"url(#pe334774ec5)\" d=\"M 128.94304 224.921876 \nL 128.94304 224.296583 \n\" style=\"fill:none;stroke:#ff7f0e;stroke-width:1.5;\"/>\n    <path clip-path=\"url(#pe334774ec5)\" d=\"M 144.161222 222.751719 \nL 144.161222 222.113923 \n\" style=\"fill:none;stroke:#ff7f0e;stroke-width:1.5;\"/>\n    <path clip-path=\"url(#pe334774ec5)\" d=\"M 159.379403 221.836532 \nL 159.379403 221.251306 \n\" style=\"fill:none;stroke:#ff7f0e;stroke-width:1.5;\"/>\n    <path clip-path=\"url(#pe334774ec5)\" d=\"M 174.597585 218.896408 \nL 174.597585 218.397101 \n\" style=\"fill:none;stroke:#ff7f0e;stroke-width:1.5;\"/>\n    <path clip-path=\"url(#pe334774ec5)\" d=\"M 189.815767 217.3828 \nL 189.815767 216.767903 \n\" style=\"fill:none;stroke:#ff7f0e;stroke-width:1.5;\"/>\n    <path clip-path=\"url(#pe334774ec5)\" d=\"M 205.033949 214.827619 \nL 205.033949 214.218401 \n\" style=\"fill:none;stroke:#ff7f0e;stroke-width:1.5;\"/>\n    <path clip-path=\"url(#pe334774ec5)\" d=\"M 220.252131 212.115222 \nL 220.252131 211.575421 \n\" style=\"fill:none;stroke:#ff7f0e;stroke-width:1.5;\"/>\n    <path clip-path=\"url(#pe334774ec5)\" d=\"M 250.688494 207.930163 \nL 250.688494 207.406678 \n\" style=\"fill:none;stroke:#ff7f0e;stroke-width:1.5;\"/>\n    <path clip-path=\"url(#pe334774ec5)\" d=\"M 265.906676 206.929124 \nL 265.906676 206.43179 \n\" style=\"fill:none;stroke:#ff7f0e;stroke-width:1.5;\"/>\n    <path clip-path=\"url(#pe334774ec5)\" d=\"M 281.124858 204.181538 \nL 281.124858 203.702892 \n\" style=\"fill:none;stroke:#ff7f0e;stroke-width:1.5;\"/>\n    <path clip-path=\"url(#pe334774ec5)\" d=\"M 296.34304 204.135073 \nL 296.34304 203.568375 \n\" style=\"fill:none;stroke:#ff7f0e;stroke-width:1.5;\"/>\n    <path clip-path=\"url(#pe334774ec5)\" d=\"M 311.561222 200.316697 \nL 311.561222 199.789506 \n\" style=\"fill:none;stroke:#ff7f0e;stroke-width:1.5;\"/>\n    <path clip-path=\"url(#pe334774ec5)\" d=\"M 326.779403 199.378051 \nL 326.779403 198.808394 \n\" style=\"fill:none;stroke:#ff7f0e;stroke-width:1.5;\"/>\n    <path clip-path=\"url(#pe334774ec5)\" d=\"M 341.997585 196.8129 \nL 341.997585 196.228847 \n\" style=\"fill:none;stroke:#ff7f0e;stroke-width:1.5;\"/>\n    <path clip-path=\"url(#pe334774ec5)\" d=\"M 357.215767 194.936848 \nL 357.215767 194.395342 \n\" style=\"fill:none;stroke:#ff7f0e;stroke-width:1.5;\"/>\n    <path clip-path=\"url(#pe334774ec5)\" d=\"M 372.433949 192.037764 \nL 372.433949 191.481782 \n\" style=\"fill:none;stroke:#ff7f0e;stroke-width:1.5;\"/>\n    <path clip-path=\"url(#pe334774ec5)\" d=\"M 387.652131 191.169696 \nL 387.652131 190.653835 \n\" style=\"fill:none;stroke:#ff7f0e;stroke-width:1.5;\"/>\n   </g>\n   <g id=\"LineCollection_3\">\n    <path clip-path=\"url(#pe334774ec5)\" d=\"M 83.288494 32.380158 \nL 83.288494 32.201761 \n\" style=\"fill:none;stroke:#2ca02c;stroke-width:1.5;\"/>\n    <path clip-path=\"url(#pe334774ec5)\" d=\"M 98.506676 32.438649 \nL 98.506676 32.246404 \n\" style=\"fill:none;stroke:#2ca02c;stroke-width:1.5;\"/>\n    <path clip-path=\"url(#pe334774ec5)\" d=\"M 113.724858 33.263424 \nL 113.724858 33.099524 \n\" style=\"fill:none;stroke:#2ca02c;stroke-width:1.5;\"/>\n    <path clip-path=\"url(#pe334774ec5)\" d=\"M 128.94304 33.405662 \nL 128.94304 33.228079 \n\" style=\"fill:none;stroke:#2ca02c;stroke-width:1.5;\"/>\n    <path clip-path=\"url(#pe334774ec5)\" d=\"M 144.161222 33.83971 \nL 144.161222 33.665199 \n\" style=\"fill:none;stroke:#2ca02c;stroke-width:1.5;\"/>\n    <path clip-path=\"url(#pe334774ec5)\" d=\"M 159.379403 34.03562 \nL 159.379403 33.869373 \n\" style=\"fill:none;stroke:#2ca02c;stroke-width:1.5;\"/>\n    <path clip-path=\"url(#pe334774ec5)\" d=\"M 174.597585 34.719877 \nL 174.597585 34.566867 \n\" style=\"fill:none;stroke:#2ca02c;stroke-width:1.5;\"/>\n    <path clip-path=\"url(#pe334774ec5)\" d=\"M 189.815767 35.130986 \nL 189.815767 34.96192 \n\" style=\"fill:none;stroke:#2ca02c;stroke-width:1.5;\"/>\n    <path clip-path=\"url(#pe334774ec5)\" d=\"M 205.033949 35.827436 \nL 205.033949 35.643175 \n\" style=\"fill:none;stroke:#2ca02c;stroke-width:1.5;\"/>\n    <path clip-path=\"url(#pe334774ec5)\" d=\"M 220.252131 36.527311 \nL 220.252131 36.362138 \n\" style=\"fill:none;stroke:#2ca02c;stroke-width:1.5;\"/>\n    <path clip-path=\"url(#pe334774ec5)\" d=\"M 250.688494 37.656303 \nL 250.688494 37.491862 \n\" style=\"fill:none;stroke:#2ca02c;stroke-width:1.5;\"/>\n    <path clip-path=\"url(#pe334774ec5)\" d=\"M 265.906676 38.013088 \nL 265.906676 37.849408 \n\" style=\"fill:none;stroke:#2ca02c;stroke-width:1.5;\"/>\n    <path clip-path=\"url(#pe334774ec5)\" d=\"M 281.124858 38.771182 \nL 281.124858 38.618684 \n\" style=\"fill:none;stroke:#2ca02c;stroke-width:1.5;\"/>\n    <path clip-path=\"url(#pe334774ec5)\" d=\"M 296.34304 38.829413 \nL 296.34304 38.647885 \n\" style=\"fill:none;stroke:#2ca02c;stroke-width:1.5;\"/>\n    <path clip-path=\"url(#pe334774ec5)\" d=\"M 311.561222 39.991328 \nL 311.561222 39.819723 \n\" style=\"fill:none;stroke:#2ca02c;stroke-width:1.5;\"/>\n    <path clip-path=\"url(#pe334774ec5)\" d=\"M 326.779403 40.281365 \nL 326.779403 40.101122 \n\" style=\"fill:none;stroke:#2ca02c;stroke-width:1.5;\"/>\n    <path clip-path=\"url(#pe334774ec5)\" d=\"M 341.997585 41.2202 \nL 341.997585 41.041458 \n\" style=\"fill:none;stroke:#2ca02c;stroke-width:1.5;\"/>\n    <path clip-path=\"url(#pe334774ec5)\" d=\"M 357.215767 41.845273 \nL 357.215767 41.670736 \n\" style=\"fill:none;stroke:#2ca02c;stroke-width:1.5;\"/>\n    <path clip-path=\"url(#pe334774ec5)\" d=\"M 372.433949 42.863227 \nL 372.433949 42.678046 \n\" style=\"fill:none;stroke:#2ca02c;stroke-width:1.5;\"/>\n    <path clip-path=\"url(#pe334774ec5)\" d=\"M 387.652131 43.107515 \nL 387.652131 42.932791 \n\" style=\"fill:none;stroke:#2ca02c;stroke-width:1.5;\"/>\n   </g>\n   <g id=\"LineCollection_4\">\n    <path clip-path=\"url(#pe334774ec5)\" d=\"M 83.288494 229.874489 \nL 83.288494 229.197692 \n\" style=\"fill:none;stroke:#d62728;stroke-width:1.5;\"/>\n    <path clip-path=\"url(#pe334774ec5)\" d=\"M 98.506676 229.345432 \nL 98.506676 228.694973 \n\" style=\"fill:none;stroke:#d62728;stroke-width:1.5;\"/>\n    <path clip-path=\"url(#pe334774ec5)\" d=\"M 113.724858 225.360042 \nL 113.724858 224.795797 \n\" style=\"fill:none;stroke:#d62728;stroke-width:1.5;\"/>\n    <path clip-path=\"url(#pe334774ec5)\" d=\"M 128.94304 224.943189 \nL 128.94304 224.317897 \n\" style=\"fill:none;stroke:#d62728;stroke-width:1.5;\"/>\n    <path clip-path=\"url(#pe334774ec5)\" d=\"M 144.161222 222.780176 \nL 144.161222 222.142381 \n\" style=\"fill:none;stroke:#d62728;stroke-width:1.5;\"/>\n    <path clip-path=\"url(#pe334774ec5)\" d=\"M 159.379403 221.922584 \nL 159.379403 221.337359 \n\" style=\"fill:none;stroke:#d62728;stroke-width:1.5;\"/>\n    <path clip-path=\"url(#pe334774ec5)\" d=\"M 174.597585 218.895995 \nL 174.597585 218.396688 \n\" style=\"fill:none;stroke:#d62728;stroke-width:1.5;\"/>\n    <path clip-path=\"url(#pe334774ec5)\" d=\"M 189.815767 217.399821 \nL 189.815767 216.784925 \n\" style=\"fill:none;stroke:#d62728;stroke-width:1.5;\"/>\n    <path clip-path=\"url(#pe334774ec5)\" d=\"M 205.033949 214.794163 \nL 205.033949 214.184945 \n\" style=\"fill:none;stroke:#d62728;stroke-width:1.5;\"/>\n    <path clip-path=\"url(#pe334774ec5)\" d=\"M 220.252131 212.13075 \nL 220.252131 211.59095 \n\" style=\"fill:none;stroke:#d62728;stroke-width:1.5;\"/>\n    <path clip-path=\"url(#pe334774ec5)\" d=\"M 250.688494 207.920833 \nL 250.688494 207.397347 \n\" style=\"fill:none;stroke:#d62728;stroke-width:1.5;\"/>\n    <path clip-path=\"url(#pe334774ec5)\" d=\"M 265.906676 206.944972 \nL 265.906676 206.447638 \n\" style=\"fill:none;stroke:#d62728;stroke-width:1.5;\"/>\n    <path clip-path=\"url(#pe334774ec5)\" d=\"M 281.124858 204.192175 \nL 281.124858 203.713528 \n\" style=\"fill:none;stroke:#d62728;stroke-width:1.5;\"/>\n    <path clip-path=\"url(#pe334774ec5)\" d=\"M 296.34304 204.164557 \nL 296.34304 203.597859 \n\" style=\"fill:none;stroke:#d62728;stroke-width:1.5;\"/>\n    <path clip-path=\"url(#pe334774ec5)\" d=\"M 311.561222 200.301888 \nL 311.561222 199.774697 \n\" style=\"fill:none;stroke:#d62728;stroke-width:1.5;\"/>\n    <path clip-path=\"url(#pe334774ec5)\" d=\"M 326.779403 199.365669 \nL 326.779403 198.796011 \n\" style=\"fill:none;stroke:#d62728;stroke-width:1.5;\"/>\n    <path clip-path=\"url(#pe334774ec5)\" d=\"M 341.997585 196.794213 \nL 341.997585 196.21016 \n\" style=\"fill:none;stroke:#d62728;stroke-width:1.5;\"/>\n    <path clip-path=\"url(#pe334774ec5)\" d=\"M 357.215767 194.924332 \nL 357.215767 194.382826 \n\" style=\"fill:none;stroke:#d62728;stroke-width:1.5;\"/>\n    <path clip-path=\"url(#pe334774ec5)\" d=\"M 372.433949 192.009427 \nL 372.433949 191.453445 \n\" style=\"fill:none;stroke:#d62728;stroke-width:1.5;\"/>\n    <path clip-path=\"url(#pe334774ec5)\" d=\"M 387.652131 191.183838 \nL 387.652131 190.667977 \n\" style=\"fill:none;stroke:#d62728;stroke-width:1.5;\"/>\n   </g>\n   <g id=\"line2d_18\">\n    <defs>\n     <path d=\"M 4 0 \nL -4 -0 \n\" id=\"me79e3f7a16\" style=\"stroke:#1f77b4;\"/>\n    </defs>\n    <g clip-path=\"url(#pe334774ec5)\">\n     <use style=\"fill:#1f77b4;stroke:#1f77b4;\" x=\"83.288494\" xlink:href=\"#me79e3f7a16\" y=\"32.388385\"/>\n     <use style=\"fill:#1f77b4;stroke:#1f77b4;\" x=\"98.506676\" xlink:href=\"#me79e3f7a16\" y=\"32.445157\"/>\n     <use style=\"fill:#1f77b4;stroke:#1f77b4;\" x=\"113.724858\" xlink:href=\"#me79e3f7a16\" y=\"33.288746\"/>\n     <use style=\"fill:#1f77b4;stroke:#1f77b4;\" x=\"128.94304\" xlink:href=\"#me79e3f7a16\" y=\"33.409441\"/>\n     <use style=\"fill:#1f77b4;stroke:#1f77b4;\" x=\"144.161222\" xlink:href=\"#me79e3f7a16\" y=\"33.846844\"/>\n     <use style=\"fill:#1f77b4;stroke:#1f77b4;\" x=\"159.379403\" xlink:href=\"#me79e3f7a16\" y=\"34.063798\"/>\n     <use style=\"fill:#1f77b4;stroke:#1f77b4;\" x=\"174.597585\" xlink:href=\"#me79e3f7a16\" y=\"34.718305\"/>\n     <use style=\"fill:#1f77b4;stroke:#1f77b4;\" x=\"189.815767\" xlink:href=\"#me79e3f7a16\" y=\"35.136987\"/>\n     <use style=\"fill:#1f77b4;stroke:#1f77b4;\" x=\"205.033949\" xlink:href=\"#me79e3f7a16\" y=\"35.820748\"/>\n     <use style=\"fill:#1f77b4;stroke:#1f77b4;\" x=\"220.252131\" xlink:href=\"#me79e3f7a16\" y=\"36.530081\"/>\n     <use style=\"fill:#1f77b4;stroke:#1f77b4;\" x=\"250.688494\" xlink:href=\"#me79e3f7a16\" y=\"37.66462\"/>\n     <use style=\"fill:#1f77b4;stroke:#1f77b4;\" x=\"265.906676\" xlink:href=\"#me79e3f7a16\" y=\"38.022599\"/>\n     <use style=\"fill:#1f77b4;stroke:#1f77b4;\" x=\"281.124858\" xlink:href=\"#me79e3f7a16\" y=\"38.772352\"/>\n     <use style=\"fill:#1f77b4;stroke:#1f77b4;\" x=\"296.34304\" xlink:href=\"#me79e3f7a16\" y=\"38.836728\"/>\n     <use style=\"fill:#1f77b4;stroke:#1f77b4;\" x=\"311.561222\" xlink:href=\"#me79e3f7a16\" y=\"39.982297\"/>\n     <use style=\"fill:#1f77b4;stroke:#1f77b4;\" x=\"326.779403\" xlink:href=\"#me79e3f7a16\" y=\"40.279245\"/>\n     <use style=\"fill:#1f77b4;stroke:#1f77b4;\" x=\"341.997585\" xlink:href=\"#me79e3f7a16\" y=\"41.212416\"/>\n     <use style=\"fill:#1f77b4;stroke:#1f77b4;\" x=\"357.215767\" xlink:href=\"#me79e3f7a16\" y=\"41.840415\"/>\n     <use style=\"fill:#1f77b4;stroke:#1f77b4;\" x=\"372.433949\" xlink:href=\"#me79e3f7a16\" y=\"42.85313\"/>\n     <use style=\"fill:#1f77b4;stroke:#1f77b4;\" x=\"387.652131\" xlink:href=\"#me79e3f7a16\" y=\"43.109775\"/>\n    </g>\n   </g>\n   <g id=\"line2d_19\">\n    <g clip-path=\"url(#pe334774ec5)\">\n     <use style=\"fill:#1f77b4;stroke:#1f77b4;\" x=\"83.288494\" xlink:href=\"#me79e3f7a16\" y=\"32.209989\"/>\n     <use style=\"fill:#1f77b4;stroke:#1f77b4;\" x=\"98.506676\" xlink:href=\"#me79e3f7a16\" y=\"32.252912\"/>\n     <use style=\"fill:#1f77b4;stroke:#1f77b4;\" x=\"113.724858\" xlink:href=\"#me79e3f7a16\" y=\"33.124845\"/>\n     <use style=\"fill:#1f77b4;stroke:#1f77b4;\" x=\"128.94304\" xlink:href=\"#me79e3f7a16\" y=\"33.231858\"/>\n     <use style=\"fill:#1f77b4;stroke:#1f77b4;\" x=\"144.161222\" xlink:href=\"#me79e3f7a16\" y=\"33.672333\"/>\n     <use style=\"fill:#1f77b4;stroke:#1f77b4;\" x=\"159.379403\" xlink:href=\"#me79e3f7a16\" y=\"33.897551\"/>\n     <use style=\"fill:#1f77b4;stroke:#1f77b4;\" x=\"174.597585\" xlink:href=\"#me79e3f7a16\" y=\"34.565294\"/>\n     <use style=\"fill:#1f77b4;stroke:#1f77b4;\" x=\"189.815767\" xlink:href=\"#me79e3f7a16\" y=\"34.967921\"/>\n     <use style=\"fill:#1f77b4;stroke:#1f77b4;\" x=\"205.033949\" xlink:href=\"#me79e3f7a16\" y=\"35.636487\"/>\n     <use style=\"fill:#1f77b4;stroke:#1f77b4;\" x=\"220.252131\" xlink:href=\"#me79e3f7a16\" y=\"36.364907\"/>\n     <use style=\"fill:#1f77b4;stroke:#1f77b4;\" x=\"250.688494\" xlink:href=\"#me79e3f7a16\" y=\"37.50018\"/>\n     <use style=\"fill:#1f77b4;stroke:#1f77b4;\" x=\"265.906676\" xlink:href=\"#me79e3f7a16\" y=\"37.858918\"/>\n     <use style=\"fill:#1f77b4;stroke:#1f77b4;\" x=\"281.124858\" xlink:href=\"#me79e3f7a16\" y=\"38.619854\"/>\n     <use style=\"fill:#1f77b4;stroke:#1f77b4;\" x=\"296.34304\" xlink:href=\"#me79e3f7a16\" y=\"38.655199\"/>\n     <use style=\"fill:#1f77b4;stroke:#1f77b4;\" x=\"311.561222\" xlink:href=\"#me79e3f7a16\" y=\"39.810692\"/>\n     <use style=\"fill:#1f77b4;stroke:#1f77b4;\" x=\"326.779403\" xlink:href=\"#me79e3f7a16\" y=\"40.099003\"/>\n     <use style=\"fill:#1f77b4;stroke:#1f77b4;\" x=\"341.997585\" xlink:href=\"#me79e3f7a16\" y=\"41.033674\"/>\n     <use style=\"fill:#1f77b4;stroke:#1f77b4;\" x=\"357.215767\" xlink:href=\"#me79e3f7a16\" y=\"41.665878\"/>\n     <use style=\"fill:#1f77b4;stroke:#1f77b4;\" x=\"372.433949\" xlink:href=\"#me79e3f7a16\" y=\"42.66795\"/>\n     <use style=\"fill:#1f77b4;stroke:#1f77b4;\" x=\"387.652131\" xlink:href=\"#me79e3f7a16\" y=\"42.935051\"/>\n    </g>\n   </g>\n   <g id=\"line2d_20\">\n    <defs>\n     <path d=\"M 4 0 \nL -4 -0 \n\" id=\"m48c96f031f\" style=\"stroke:#ff7f0e;\"/>\n    </defs>\n    <g clip-path=\"url(#pe334774ec5)\">\n     <use style=\"fill:#ff7f0e;stroke:#ff7f0e;\" x=\"83.288494\" xlink:href=\"#m48c96f031f\" y=\"229.825038\"/>\n     <use style=\"fill:#ff7f0e;stroke:#ff7f0e;\" x=\"98.506676\" xlink:href=\"#m48c96f031f\" y=\"229.303712\"/>\n     <use style=\"fill:#ff7f0e;stroke:#ff7f0e;\" x=\"113.724858\" xlink:href=\"#m48c96f031f\" y=\"225.264207\"/>\n     <use style=\"fill:#ff7f0e;stroke:#ff7f0e;\" x=\"128.94304\" xlink:href=\"#m48c96f031f\" y=\"224.921876\"/>\n     <use style=\"fill:#ff7f0e;stroke:#ff7f0e;\" x=\"144.161222\" xlink:href=\"#m48c96f031f\" y=\"222.751719\"/>\n     <use style=\"fill:#ff7f0e;stroke:#ff7f0e;\" x=\"159.379403\" xlink:href=\"#m48c96f031f\" y=\"221.836532\"/>\n     <use style=\"fill:#ff7f0e;stroke:#ff7f0e;\" x=\"174.597585\" xlink:href=\"#m48c96f031f\" y=\"218.896408\"/>\n     <use style=\"fill:#ff7f0e;stroke:#ff7f0e;\" x=\"189.815767\" xlink:href=\"#m48c96f031f\" y=\"217.3828\"/>\n     <use style=\"fill:#ff7f0e;stroke:#ff7f0e;\" x=\"205.033949\" xlink:href=\"#m48c96f031f\" y=\"214.827619\"/>\n     <use style=\"fill:#ff7f0e;stroke:#ff7f0e;\" x=\"220.252131\" xlink:href=\"#m48c96f031f\" y=\"212.115222\"/>\n     <use style=\"fill:#ff7f0e;stroke:#ff7f0e;\" x=\"250.688494\" xlink:href=\"#m48c96f031f\" y=\"207.930163\"/>\n     <use style=\"fill:#ff7f0e;stroke:#ff7f0e;\" x=\"265.906676\" xlink:href=\"#m48c96f031f\" y=\"206.929124\"/>\n     <use style=\"fill:#ff7f0e;stroke:#ff7f0e;\" x=\"281.124858\" xlink:href=\"#m48c96f031f\" y=\"204.181538\"/>\n     <use style=\"fill:#ff7f0e;stroke:#ff7f0e;\" x=\"296.34304\" xlink:href=\"#m48c96f031f\" y=\"204.135073\"/>\n     <use style=\"fill:#ff7f0e;stroke:#ff7f0e;\" x=\"311.561222\" xlink:href=\"#m48c96f031f\" y=\"200.316697\"/>\n     <use style=\"fill:#ff7f0e;stroke:#ff7f0e;\" x=\"326.779403\" xlink:href=\"#m48c96f031f\" y=\"199.378051\"/>\n     <use style=\"fill:#ff7f0e;stroke:#ff7f0e;\" x=\"341.997585\" xlink:href=\"#m48c96f031f\" y=\"196.8129\"/>\n     <use style=\"fill:#ff7f0e;stroke:#ff7f0e;\" x=\"357.215767\" xlink:href=\"#m48c96f031f\" y=\"194.936848\"/>\n     <use style=\"fill:#ff7f0e;stroke:#ff7f0e;\" x=\"372.433949\" xlink:href=\"#m48c96f031f\" y=\"192.037764\"/>\n     <use style=\"fill:#ff7f0e;stroke:#ff7f0e;\" x=\"387.652131\" xlink:href=\"#m48c96f031f\" y=\"191.169696\"/>\n    </g>\n   </g>\n   <g id=\"line2d_21\">\n    <g clip-path=\"url(#pe334774ec5)\">\n     <use style=\"fill:#ff7f0e;stroke:#ff7f0e;\" x=\"83.288494\" xlink:href=\"#m48c96f031f\" y=\"229.148241\"/>\n     <use style=\"fill:#ff7f0e;stroke:#ff7f0e;\" x=\"98.506676\" xlink:href=\"#m48c96f031f\" y=\"228.653253\"/>\n     <use style=\"fill:#ff7f0e;stroke:#ff7f0e;\" x=\"113.724858\" xlink:href=\"#m48c96f031f\" y=\"224.699961\"/>\n     <use style=\"fill:#ff7f0e;stroke:#ff7f0e;\" x=\"128.94304\" xlink:href=\"#m48c96f031f\" y=\"224.296583\"/>\n     <use style=\"fill:#ff7f0e;stroke:#ff7f0e;\" x=\"144.161222\" xlink:href=\"#m48c96f031f\" y=\"222.113923\"/>\n     <use style=\"fill:#ff7f0e;stroke:#ff7f0e;\" x=\"159.379403\" xlink:href=\"#m48c96f031f\" y=\"221.251306\"/>\n     <use style=\"fill:#ff7f0e;stroke:#ff7f0e;\" x=\"174.597585\" xlink:href=\"#m48c96f031f\" y=\"218.397101\"/>\n     <use style=\"fill:#ff7f0e;stroke:#ff7f0e;\" x=\"189.815767\" xlink:href=\"#m48c96f031f\" y=\"216.767903\"/>\n     <use style=\"fill:#ff7f0e;stroke:#ff7f0e;\" x=\"205.033949\" xlink:href=\"#m48c96f031f\" y=\"214.218401\"/>\n     <use style=\"fill:#ff7f0e;stroke:#ff7f0e;\" x=\"220.252131\" xlink:href=\"#m48c96f031f\" y=\"211.575421\"/>\n     <use style=\"fill:#ff7f0e;stroke:#ff7f0e;\" x=\"250.688494\" xlink:href=\"#m48c96f031f\" y=\"207.406678\"/>\n     <use style=\"fill:#ff7f0e;stroke:#ff7f0e;\" x=\"265.906676\" xlink:href=\"#m48c96f031f\" y=\"206.43179\"/>\n     <use style=\"fill:#ff7f0e;stroke:#ff7f0e;\" x=\"281.124858\" xlink:href=\"#m48c96f031f\" y=\"203.702892\"/>\n     <use style=\"fill:#ff7f0e;stroke:#ff7f0e;\" x=\"296.34304\" xlink:href=\"#m48c96f031f\" y=\"203.568375\"/>\n     <use style=\"fill:#ff7f0e;stroke:#ff7f0e;\" x=\"311.561222\" xlink:href=\"#m48c96f031f\" y=\"199.789506\"/>\n     <use style=\"fill:#ff7f0e;stroke:#ff7f0e;\" x=\"326.779403\" xlink:href=\"#m48c96f031f\" y=\"198.808394\"/>\n     <use style=\"fill:#ff7f0e;stroke:#ff7f0e;\" x=\"341.997585\" xlink:href=\"#m48c96f031f\" y=\"196.228847\"/>\n     <use style=\"fill:#ff7f0e;stroke:#ff7f0e;\" x=\"357.215767\" xlink:href=\"#m48c96f031f\" y=\"194.395342\"/>\n     <use style=\"fill:#ff7f0e;stroke:#ff7f0e;\" x=\"372.433949\" xlink:href=\"#m48c96f031f\" y=\"191.481782\"/>\n     <use style=\"fill:#ff7f0e;stroke:#ff7f0e;\" x=\"387.652131\" xlink:href=\"#m48c96f031f\" y=\"190.653835\"/>\n    </g>\n   </g>\n   <g id=\"line2d_22\">\n    <defs>\n     <path d=\"M 4 0 \nL -4 -0 \n\" id=\"m96e4428c10\" style=\"stroke:#2ca02c;\"/>\n    </defs>\n    <g clip-path=\"url(#pe334774ec5)\">\n     <use style=\"fill:#2ca02c;stroke:#2ca02c;\" x=\"83.288494\" xlink:href=\"#m96e4428c10\" y=\"32.380158\"/>\n     <use style=\"fill:#2ca02c;stroke:#2ca02c;\" x=\"98.506676\" xlink:href=\"#m96e4428c10\" y=\"32.438649\"/>\n     <use style=\"fill:#2ca02c;stroke:#2ca02c;\" x=\"113.724858\" xlink:href=\"#m96e4428c10\" y=\"33.263424\"/>\n     <use style=\"fill:#2ca02c;stroke:#2ca02c;\" x=\"128.94304\" xlink:href=\"#m96e4428c10\" y=\"33.405662\"/>\n     <use style=\"fill:#2ca02c;stroke:#2ca02c;\" x=\"144.161222\" xlink:href=\"#m96e4428c10\" y=\"33.83971\"/>\n     <use style=\"fill:#2ca02c;stroke:#2ca02c;\" x=\"159.379403\" xlink:href=\"#m96e4428c10\" y=\"34.03562\"/>\n     <use style=\"fill:#2ca02c;stroke:#2ca02c;\" x=\"174.597585\" xlink:href=\"#m96e4428c10\" y=\"34.719877\"/>\n     <use style=\"fill:#2ca02c;stroke:#2ca02c;\" x=\"189.815767\" xlink:href=\"#m96e4428c10\" y=\"35.130986\"/>\n     <use style=\"fill:#2ca02c;stroke:#2ca02c;\" x=\"205.033949\" xlink:href=\"#m96e4428c10\" y=\"35.827436\"/>\n     <use style=\"fill:#2ca02c;stroke:#2ca02c;\" x=\"220.252131\" xlink:href=\"#m96e4428c10\" y=\"36.527311\"/>\n     <use style=\"fill:#2ca02c;stroke:#2ca02c;\" x=\"250.688494\" xlink:href=\"#m96e4428c10\" y=\"37.656303\"/>\n     <use style=\"fill:#2ca02c;stroke:#2ca02c;\" x=\"265.906676\" xlink:href=\"#m96e4428c10\" y=\"38.013088\"/>\n     <use style=\"fill:#2ca02c;stroke:#2ca02c;\" x=\"281.124858\" xlink:href=\"#m96e4428c10\" y=\"38.771182\"/>\n     <use style=\"fill:#2ca02c;stroke:#2ca02c;\" x=\"296.34304\" xlink:href=\"#m96e4428c10\" y=\"38.829413\"/>\n     <use style=\"fill:#2ca02c;stroke:#2ca02c;\" x=\"311.561222\" xlink:href=\"#m96e4428c10\" y=\"39.991328\"/>\n     <use style=\"fill:#2ca02c;stroke:#2ca02c;\" x=\"326.779403\" xlink:href=\"#m96e4428c10\" y=\"40.281365\"/>\n     <use style=\"fill:#2ca02c;stroke:#2ca02c;\" x=\"341.997585\" xlink:href=\"#m96e4428c10\" y=\"41.2202\"/>\n     <use style=\"fill:#2ca02c;stroke:#2ca02c;\" x=\"357.215767\" xlink:href=\"#m96e4428c10\" y=\"41.845273\"/>\n     <use style=\"fill:#2ca02c;stroke:#2ca02c;\" x=\"372.433949\" xlink:href=\"#m96e4428c10\" y=\"42.863227\"/>\n     <use style=\"fill:#2ca02c;stroke:#2ca02c;\" x=\"387.652131\" xlink:href=\"#m96e4428c10\" y=\"43.107515\"/>\n    </g>\n   </g>\n   <g id=\"line2d_23\">\n    <g clip-path=\"url(#pe334774ec5)\">\n     <use style=\"fill:#2ca02c;stroke:#2ca02c;\" x=\"83.288494\" xlink:href=\"#m96e4428c10\" y=\"32.201761\"/>\n     <use style=\"fill:#2ca02c;stroke:#2ca02c;\" x=\"98.506676\" xlink:href=\"#m96e4428c10\" y=\"32.246404\"/>\n     <use style=\"fill:#2ca02c;stroke:#2ca02c;\" x=\"113.724858\" xlink:href=\"#m96e4428c10\" y=\"33.099524\"/>\n     <use style=\"fill:#2ca02c;stroke:#2ca02c;\" x=\"128.94304\" xlink:href=\"#m96e4428c10\" y=\"33.228079\"/>\n     <use style=\"fill:#2ca02c;stroke:#2ca02c;\" x=\"144.161222\" xlink:href=\"#m96e4428c10\" y=\"33.665199\"/>\n     <use style=\"fill:#2ca02c;stroke:#2ca02c;\" x=\"159.379403\" xlink:href=\"#m96e4428c10\" y=\"33.869373\"/>\n     <use style=\"fill:#2ca02c;stroke:#2ca02c;\" x=\"174.597585\" xlink:href=\"#m96e4428c10\" y=\"34.566867\"/>\n     <use style=\"fill:#2ca02c;stroke:#2ca02c;\" x=\"189.815767\" xlink:href=\"#m96e4428c10\" y=\"34.96192\"/>\n     <use style=\"fill:#2ca02c;stroke:#2ca02c;\" x=\"205.033949\" xlink:href=\"#m96e4428c10\" y=\"35.643175\"/>\n     <use style=\"fill:#2ca02c;stroke:#2ca02c;\" x=\"220.252131\" xlink:href=\"#m96e4428c10\" y=\"36.362138\"/>\n     <use style=\"fill:#2ca02c;stroke:#2ca02c;\" x=\"250.688494\" xlink:href=\"#m96e4428c10\" y=\"37.491862\"/>\n     <use style=\"fill:#2ca02c;stroke:#2ca02c;\" x=\"265.906676\" xlink:href=\"#m96e4428c10\" y=\"37.849408\"/>\n     <use style=\"fill:#2ca02c;stroke:#2ca02c;\" x=\"281.124858\" xlink:href=\"#m96e4428c10\" y=\"38.618684\"/>\n     <use style=\"fill:#2ca02c;stroke:#2ca02c;\" x=\"296.34304\" xlink:href=\"#m96e4428c10\" y=\"38.647885\"/>\n     <use style=\"fill:#2ca02c;stroke:#2ca02c;\" x=\"311.561222\" xlink:href=\"#m96e4428c10\" y=\"39.819723\"/>\n     <use style=\"fill:#2ca02c;stroke:#2ca02c;\" x=\"326.779403\" xlink:href=\"#m96e4428c10\" y=\"40.101122\"/>\n     <use style=\"fill:#2ca02c;stroke:#2ca02c;\" x=\"341.997585\" xlink:href=\"#m96e4428c10\" y=\"41.041458\"/>\n     <use style=\"fill:#2ca02c;stroke:#2ca02c;\" x=\"357.215767\" xlink:href=\"#m96e4428c10\" y=\"41.670736\"/>\n     <use style=\"fill:#2ca02c;stroke:#2ca02c;\" x=\"372.433949\" xlink:href=\"#m96e4428c10\" y=\"42.678046\"/>\n     <use style=\"fill:#2ca02c;stroke:#2ca02c;\" x=\"387.652131\" xlink:href=\"#m96e4428c10\" y=\"42.932791\"/>\n    </g>\n   </g>\n   <g id=\"line2d_24\">\n    <defs>\n     <path d=\"M 4 0 \nL -4 -0 \n\" id=\"m3164c81a0b\" style=\"stroke:#d62728;\"/>\n    </defs>\n    <g clip-path=\"url(#pe334774ec5)\">\n     <use style=\"fill:#d62728;stroke:#d62728;\" x=\"83.288494\" xlink:href=\"#m3164c81a0b\" y=\"229.874489\"/>\n     <use style=\"fill:#d62728;stroke:#d62728;\" x=\"98.506676\" xlink:href=\"#m3164c81a0b\" y=\"229.345432\"/>\n     <use style=\"fill:#d62728;stroke:#d62728;\" x=\"113.724858\" xlink:href=\"#m3164c81a0b\" y=\"225.360042\"/>\n     <use style=\"fill:#d62728;stroke:#d62728;\" x=\"128.94304\" xlink:href=\"#m3164c81a0b\" y=\"224.943189\"/>\n     <use style=\"fill:#d62728;stroke:#d62728;\" x=\"144.161222\" xlink:href=\"#m3164c81a0b\" y=\"222.780176\"/>\n     <use style=\"fill:#d62728;stroke:#d62728;\" x=\"159.379403\" xlink:href=\"#m3164c81a0b\" y=\"221.922584\"/>\n     <use style=\"fill:#d62728;stroke:#d62728;\" x=\"174.597585\" xlink:href=\"#m3164c81a0b\" y=\"218.895995\"/>\n     <use style=\"fill:#d62728;stroke:#d62728;\" x=\"189.815767\" xlink:href=\"#m3164c81a0b\" y=\"217.399821\"/>\n     <use style=\"fill:#d62728;stroke:#d62728;\" x=\"205.033949\" xlink:href=\"#m3164c81a0b\" y=\"214.794163\"/>\n     <use style=\"fill:#d62728;stroke:#d62728;\" x=\"220.252131\" xlink:href=\"#m3164c81a0b\" y=\"212.13075\"/>\n     <use style=\"fill:#d62728;stroke:#d62728;\" x=\"250.688494\" xlink:href=\"#m3164c81a0b\" y=\"207.920833\"/>\n     <use style=\"fill:#d62728;stroke:#d62728;\" x=\"265.906676\" xlink:href=\"#m3164c81a0b\" y=\"206.944972\"/>\n     <use style=\"fill:#d62728;stroke:#d62728;\" x=\"281.124858\" xlink:href=\"#m3164c81a0b\" y=\"204.192175\"/>\n     <use style=\"fill:#d62728;stroke:#d62728;\" x=\"296.34304\" xlink:href=\"#m3164c81a0b\" y=\"204.164557\"/>\n     <use style=\"fill:#d62728;stroke:#d62728;\" x=\"311.561222\" xlink:href=\"#m3164c81a0b\" y=\"200.301888\"/>\n     <use style=\"fill:#d62728;stroke:#d62728;\" x=\"326.779403\" xlink:href=\"#m3164c81a0b\" y=\"199.365669\"/>\n     <use style=\"fill:#d62728;stroke:#d62728;\" x=\"341.997585\" xlink:href=\"#m3164c81a0b\" y=\"196.794213\"/>\n     <use style=\"fill:#d62728;stroke:#d62728;\" x=\"357.215767\" xlink:href=\"#m3164c81a0b\" y=\"194.924332\"/>\n     <use style=\"fill:#d62728;stroke:#d62728;\" x=\"372.433949\" xlink:href=\"#m3164c81a0b\" y=\"192.009427\"/>\n     <use style=\"fill:#d62728;stroke:#d62728;\" x=\"387.652131\" xlink:href=\"#m3164c81a0b\" y=\"191.183838\"/>\n    </g>\n   </g>\n   <g id=\"line2d_25\">\n    <g clip-path=\"url(#pe334774ec5)\">\n     <use style=\"fill:#d62728;stroke:#d62728;\" x=\"83.288494\" xlink:href=\"#m3164c81a0b\" y=\"229.197692\"/>\n     <use style=\"fill:#d62728;stroke:#d62728;\" x=\"98.506676\" xlink:href=\"#m3164c81a0b\" y=\"228.694973\"/>\n     <use style=\"fill:#d62728;stroke:#d62728;\" x=\"113.724858\" xlink:href=\"#m3164c81a0b\" y=\"224.795797\"/>\n     <use style=\"fill:#d62728;stroke:#d62728;\" x=\"128.94304\" xlink:href=\"#m3164c81a0b\" y=\"224.317897\"/>\n     <use style=\"fill:#d62728;stroke:#d62728;\" x=\"144.161222\" xlink:href=\"#m3164c81a0b\" y=\"222.142381\"/>\n     <use style=\"fill:#d62728;stroke:#d62728;\" x=\"159.379403\" xlink:href=\"#m3164c81a0b\" y=\"221.337359\"/>\n     <use style=\"fill:#d62728;stroke:#d62728;\" x=\"174.597585\" xlink:href=\"#m3164c81a0b\" y=\"218.396688\"/>\n     <use style=\"fill:#d62728;stroke:#d62728;\" x=\"189.815767\" xlink:href=\"#m3164c81a0b\" y=\"216.784925\"/>\n     <use style=\"fill:#d62728;stroke:#d62728;\" x=\"205.033949\" xlink:href=\"#m3164c81a0b\" y=\"214.184945\"/>\n     <use style=\"fill:#d62728;stroke:#d62728;\" x=\"220.252131\" xlink:href=\"#m3164c81a0b\" y=\"211.59095\"/>\n     <use style=\"fill:#d62728;stroke:#d62728;\" x=\"250.688494\" xlink:href=\"#m3164c81a0b\" y=\"207.397347\"/>\n     <use style=\"fill:#d62728;stroke:#d62728;\" x=\"265.906676\" xlink:href=\"#m3164c81a0b\" y=\"206.447638\"/>\n     <use style=\"fill:#d62728;stroke:#d62728;\" x=\"281.124858\" xlink:href=\"#m3164c81a0b\" y=\"203.713528\"/>\n     <use style=\"fill:#d62728;stroke:#d62728;\" x=\"296.34304\" xlink:href=\"#m3164c81a0b\" y=\"203.597859\"/>\n     <use style=\"fill:#d62728;stroke:#d62728;\" x=\"311.561222\" xlink:href=\"#m3164c81a0b\" y=\"199.774697\"/>\n     <use style=\"fill:#d62728;stroke:#d62728;\" x=\"326.779403\" xlink:href=\"#m3164c81a0b\" y=\"198.796011\"/>\n     <use style=\"fill:#d62728;stroke:#d62728;\" x=\"341.997585\" xlink:href=\"#m3164c81a0b\" y=\"196.21016\"/>\n     <use style=\"fill:#d62728;stroke:#d62728;\" x=\"357.215767\" xlink:href=\"#m3164c81a0b\" y=\"194.382826\"/>\n     <use style=\"fill:#d62728;stroke:#d62728;\" x=\"372.433949\" xlink:href=\"#m3164c81a0b\" y=\"191.453445\"/>\n     <use style=\"fill:#d62728;stroke:#d62728;\" x=\"387.652131\" xlink:href=\"#m3164c81a0b\" y=\"190.667977\"/>\n    </g>\n   </g>\n   <g id=\"line2d_26\">\n    <defs>\n     <path d=\"M 0 1.5 \nC 0.397805 1.5 0.77937 1.341951 1.06066 1.06066 \nC 1.341951 0.77937 1.5 0.397805 1.5 0 \nC 1.5 -0.397805 1.341951 -0.77937 1.06066 -1.06066 \nC 0.77937 -1.341951 0.397805 -1.5 0 -1.5 \nC -0.397805 -1.5 -0.77937 -1.341951 -1.06066 -1.06066 \nC -1.341951 -0.77937 -1.5 -0.397805 -1.5 0 \nC -1.5 0.397805 -1.341951 0.77937 -1.06066 1.06066 \nC -0.77937 1.341951 -0.397805 1.5 0 1.5 \nz\n\" id=\"m1db1ed2af7\" style=\"stroke:#1f77b4;\"/>\n    </defs>\n    <g clip-path=\"url(#pe334774ec5)\">\n     <use style=\"fill:#1f77b4;stroke:#1f77b4;\" x=\"83.288494\" xlink:href=\"#m1db1ed2af7\" y=\"32.299187\"/>\n     <use style=\"fill:#1f77b4;stroke:#1f77b4;\" x=\"98.506676\" xlink:href=\"#m1db1ed2af7\" y=\"32.349034\"/>\n     <use style=\"fill:#1f77b4;stroke:#1f77b4;\" x=\"113.724858\" xlink:href=\"#m1db1ed2af7\" y=\"33.206796\"/>\n     <use style=\"fill:#1f77b4;stroke:#1f77b4;\" x=\"128.94304\" xlink:href=\"#m1db1ed2af7\" y=\"33.320649\"/>\n     <use style=\"fill:#1f77b4;stroke:#1f77b4;\" x=\"144.161222\" xlink:href=\"#m1db1ed2af7\" y=\"33.759589\"/>\n     <use style=\"fill:#1f77b4;stroke:#1f77b4;\" x=\"159.379403\" xlink:href=\"#m1db1ed2af7\" y=\"33.980674\"/>\n     <use style=\"fill:#1f77b4;stroke:#1f77b4;\" x=\"174.597585\" xlink:href=\"#m1db1ed2af7\" y=\"34.641799\"/>\n     <use style=\"fill:#1f77b4;stroke:#1f77b4;\" x=\"189.815767\" xlink:href=\"#m1db1ed2af7\" y=\"35.052454\"/>\n     <use style=\"fill:#1f77b4;stroke:#1f77b4;\" x=\"205.033949\" xlink:href=\"#m1db1ed2af7\" y=\"35.728617\"/>\n     <use style=\"fill:#1f77b4;stroke:#1f77b4;\" x=\"220.252131\" xlink:href=\"#m1db1ed2af7\" y=\"36.447494\"/>\n     <use style=\"fill:#1f77b4;stroke:#1f77b4;\" x=\"250.688494\" xlink:href=\"#m1db1ed2af7\" y=\"37.5824\"/>\n     <use style=\"fill:#1f77b4;stroke:#1f77b4;\" x=\"265.906676\" xlink:href=\"#m1db1ed2af7\" y=\"37.940758\"/>\n     <use style=\"fill:#1f77b4;stroke:#1f77b4;\" x=\"281.124858\" xlink:href=\"#m1db1ed2af7\" y=\"38.696103\"/>\n     <use style=\"fill:#1f77b4;stroke:#1f77b4;\" x=\"296.34304\" xlink:href=\"#m1db1ed2af7\" y=\"38.745964\"/>\n     <use style=\"fill:#1f77b4;stroke:#1f77b4;\" x=\"311.561222\" xlink:href=\"#m1db1ed2af7\" y=\"39.896495\"/>\n     <use style=\"fill:#1f77b4;stroke:#1f77b4;\" x=\"326.779403\" xlink:href=\"#m1db1ed2af7\" y=\"40.189124\"/>\n     <use style=\"fill:#1f77b4;stroke:#1f77b4;\" x=\"341.997585\" xlink:href=\"#m1db1ed2af7\" y=\"41.123045\"/>\n     <use style=\"fill:#1f77b4;stroke:#1f77b4;\" x=\"357.215767\" xlink:href=\"#m1db1ed2af7\" y=\"41.753146\"/>\n     <use style=\"fill:#1f77b4;stroke:#1f77b4;\" x=\"372.433949\" xlink:href=\"#m1db1ed2af7\" y=\"42.76054\"/>\n     <use style=\"fill:#1f77b4;stroke:#1f77b4;\" x=\"387.652131\" xlink:href=\"#m1db1ed2af7\" y=\"43.022413\"/>\n    </g>\n   </g>\n   <g id=\"line2d_27\">\n    <defs>\n     <path d=\"M 0 1.5 \nC 0.397805 1.5 0.77937 1.341951 1.06066 1.06066 \nC 1.341951 0.77937 1.5 0.397805 1.5 0 \nC 1.5 -0.397805 1.341951 -0.77937 1.06066 -1.06066 \nC 0.77937 -1.341951 0.397805 -1.5 0 -1.5 \nC -0.397805 -1.5 -0.77937 -1.341951 -1.06066 -1.06066 \nC -1.341951 -0.77937 -1.5 -0.397805 -1.5 0 \nC -1.5 0.397805 -1.341951 0.77937 -1.06066 1.06066 \nC -0.77937 1.341951 -0.397805 1.5 0 1.5 \nz\n\" id=\"m489dd2fb67\" style=\"stroke:#ff7f0e;\"/>\n    </defs>\n    <g clip-path=\"url(#pe334774ec5)\">\n     <use style=\"fill:#ff7f0e;stroke:#ff7f0e;\" x=\"83.288494\" xlink:href=\"#m489dd2fb67\" y=\"229.48664\"/>\n     <use style=\"fill:#ff7f0e;stroke:#ff7f0e;\" x=\"98.506676\" xlink:href=\"#m489dd2fb67\" y=\"228.978483\"/>\n     <use style=\"fill:#ff7f0e;stroke:#ff7f0e;\" x=\"113.724858\" xlink:href=\"#m489dd2fb67\" y=\"224.982084\"/>\n     <use style=\"fill:#ff7f0e;stroke:#ff7f0e;\" x=\"128.94304\" xlink:href=\"#m489dd2fb67\" y=\"224.60923\"/>\n     <use style=\"fill:#ff7f0e;stroke:#ff7f0e;\" x=\"144.161222\" xlink:href=\"#m489dd2fb67\" y=\"222.432821\"/>\n     <use style=\"fill:#ff7f0e;stroke:#ff7f0e;\" x=\"159.379403\" xlink:href=\"#m489dd2fb67\" y=\"221.543919\"/>\n     <use style=\"fill:#ff7f0e;stroke:#ff7f0e;\" x=\"174.597585\" xlink:href=\"#m489dd2fb67\" y=\"218.646754\"/>\n     <use style=\"fill:#ff7f0e;stroke:#ff7f0e;\" x=\"189.815767\" xlink:href=\"#m489dd2fb67\" y=\"217.075352\"/>\n     <use style=\"fill:#ff7f0e;stroke:#ff7f0e;\" x=\"205.033949\" xlink:href=\"#m489dd2fb67\" y=\"214.52301\"/>\n     <use style=\"fill:#ff7f0e;stroke:#ff7f0e;\" x=\"220.252131\" xlink:href=\"#m489dd2fb67\" y=\"211.845321\"/>\n     <use style=\"fill:#ff7f0e;stroke:#ff7f0e;\" x=\"250.688494\" xlink:href=\"#m489dd2fb67\" y=\"207.66842\"/>\n     <use style=\"fill:#ff7f0e;stroke:#ff7f0e;\" x=\"265.906676\" xlink:href=\"#m489dd2fb67\" y=\"206.680457\"/>\n     <use style=\"fill:#ff7f0e;stroke:#ff7f0e;\" x=\"281.124858\" xlink:href=\"#m489dd2fb67\" y=\"203.942215\"/>\n     <use style=\"fill:#ff7f0e;stroke:#ff7f0e;\" x=\"296.34304\" xlink:href=\"#m489dd2fb67\" y=\"203.851724\"/>\n     <use style=\"fill:#ff7f0e;stroke:#ff7f0e;\" x=\"311.561222\" xlink:href=\"#m489dd2fb67\" y=\"200.053102\"/>\n     <use style=\"fill:#ff7f0e;stroke:#ff7f0e;\" x=\"326.779403\" xlink:href=\"#m489dd2fb67\" y=\"199.093223\"/>\n     <use style=\"fill:#ff7f0e;stroke:#ff7f0e;\" x=\"341.997585\" xlink:href=\"#m489dd2fb67\" y=\"196.520874\"/>\n     <use style=\"fill:#ff7f0e;stroke:#ff7f0e;\" x=\"357.215767\" xlink:href=\"#m489dd2fb67\" y=\"194.666095\"/>\n     <use style=\"fill:#ff7f0e;stroke:#ff7f0e;\" x=\"372.433949\" xlink:href=\"#m489dd2fb67\" y=\"191.759773\"/>\n     <use style=\"fill:#ff7f0e;stroke:#ff7f0e;\" x=\"387.652131\" xlink:href=\"#m489dd2fb67\" y=\"190.911765\"/>\n    </g>\n   </g>\n   <g id=\"line2d_28\">\n    <defs>\n     <path d=\"M 0 1.5 \nC 0.397805 1.5 0.77937 1.341951 1.06066 1.06066 \nC 1.341951 0.77937 1.5 0.397805 1.5 0 \nC 1.5 -0.397805 1.341951 -0.77937 1.06066 -1.06066 \nC 0.77937 -1.341951 0.397805 -1.5 0 -1.5 \nC -0.397805 -1.5 -0.77937 -1.341951 -1.06066 -1.06066 \nC -1.341951 -0.77937 -1.5 -0.397805 -1.5 0 \nC -1.5 0.397805 -1.341951 0.77937 -1.06066 1.06066 \nC -0.77937 1.341951 -0.397805 1.5 0 1.5 \nz\n\" id=\"m9fc0a56317\" style=\"stroke:#2ca02c;\"/>\n    </defs>\n    <g clip-path=\"url(#pe334774ec5)\">\n     <use style=\"fill:#2ca02c;stroke:#2ca02c;\" x=\"83.288494\" xlink:href=\"#m9fc0a56317\" y=\"32.290959\"/>\n     <use style=\"fill:#2ca02c;stroke:#2ca02c;\" x=\"98.506676\" xlink:href=\"#m9fc0a56317\" y=\"32.342526\"/>\n     <use style=\"fill:#2ca02c;stroke:#2ca02c;\" x=\"113.724858\" xlink:href=\"#m9fc0a56317\" y=\"33.181474\"/>\n     <use style=\"fill:#2ca02c;stroke:#2ca02c;\" x=\"128.94304\" xlink:href=\"#m9fc0a56317\" y=\"33.316871\"/>\n     <use style=\"fill:#2ca02c;stroke:#2ca02c;\" x=\"144.161222\" xlink:href=\"#m9fc0a56317\" y=\"33.752454\"/>\n     <use style=\"fill:#2ca02c;stroke:#2ca02c;\" x=\"159.379403\" xlink:href=\"#m9fc0a56317\" y=\"33.952497\"/>\n     <use style=\"fill:#2ca02c;stroke:#2ca02c;\" x=\"174.597585\" xlink:href=\"#m9fc0a56317\" y=\"34.643372\"/>\n     <use style=\"fill:#2ca02c;stroke:#2ca02c;\" x=\"189.815767\" xlink:href=\"#m9fc0a56317\" y=\"35.046453\"/>\n     <use style=\"fill:#2ca02c;stroke:#2ca02c;\" x=\"205.033949\" xlink:href=\"#m9fc0a56317\" y=\"35.735305\"/>\n     <use style=\"fill:#2ca02c;stroke:#2ca02c;\" x=\"220.252131\" xlink:href=\"#m9fc0a56317\" y=\"36.444725\"/>\n     <use style=\"fill:#2ca02c;stroke:#2ca02c;\" x=\"250.688494\" xlink:href=\"#m9fc0a56317\" y=\"37.574083\"/>\n     <use style=\"fill:#2ca02c;stroke:#2ca02c;\" x=\"265.906676\" xlink:href=\"#m9fc0a56317\" y=\"37.931248\"/>\n     <use style=\"fill:#2ca02c;stroke:#2ca02c;\" x=\"281.124858\" xlink:href=\"#m9fc0a56317\" y=\"38.694933\"/>\n     <use style=\"fill:#2ca02c;stroke:#2ca02c;\" x=\"296.34304\" xlink:href=\"#m9fc0a56317\" y=\"38.738649\"/>\n     <use style=\"fill:#2ca02c;stroke:#2ca02c;\" x=\"311.561222\" xlink:href=\"#m9fc0a56317\" y=\"39.905525\"/>\n     <use style=\"fill:#2ca02c;stroke:#2ca02c;\" x=\"326.779403\" xlink:href=\"#m9fc0a56317\" y=\"40.191244\"/>\n     <use style=\"fill:#2ca02c;stroke:#2ca02c;\" x=\"341.997585\" xlink:href=\"#m9fc0a56317\" y=\"41.130829\"/>\n     <use style=\"fill:#2ca02c;stroke:#2ca02c;\" x=\"357.215767\" xlink:href=\"#m9fc0a56317\" y=\"41.758005\"/>\n     <use style=\"fill:#2ca02c;stroke:#2ca02c;\" x=\"372.433949\" xlink:href=\"#m9fc0a56317\" y=\"42.770637\"/>\n     <use style=\"fill:#2ca02c;stroke:#2ca02c;\" x=\"387.652131\" xlink:href=\"#m9fc0a56317\" y=\"43.020153\"/>\n    </g>\n   </g>\n   <g id=\"line2d_29\">\n    <defs>\n     <path d=\"M 0 1.5 \nC 0.397805 1.5 0.77937 1.341951 1.06066 1.06066 \nC 1.341951 0.77937 1.5 0.397805 1.5 0 \nC 1.5 -0.397805 1.341951 -0.77937 1.06066 -1.06066 \nC 0.77937 -1.341951 0.397805 -1.5 0 -1.5 \nC -0.397805 -1.5 -0.77937 -1.341951 -1.06066 -1.06066 \nC -1.341951 -0.77937 -1.5 -0.397805 -1.5 0 \nC -1.5 0.397805 -1.341951 0.77937 -1.06066 1.06066 \nC -0.77937 1.341951 -0.397805 1.5 0 1.5 \nz\n\" id=\"mb2c96d9bba\" style=\"stroke:#d62728;\"/>\n    </defs>\n    <g clip-path=\"url(#pe334774ec5)\">\n     <use style=\"fill:#d62728;stroke:#d62728;\" x=\"83.288494\" xlink:href=\"#mb2c96d9bba\" y=\"229.53609\"/>\n     <use style=\"fill:#d62728;stroke:#d62728;\" x=\"98.506676\" xlink:href=\"#mb2c96d9bba\" y=\"229.020202\"/>\n     <use style=\"fill:#d62728;stroke:#d62728;\" x=\"113.724858\" xlink:href=\"#mb2c96d9bba\" y=\"225.07792\"/>\n     <use style=\"fill:#d62728;stroke:#d62728;\" x=\"128.94304\" xlink:href=\"#mb2c96d9bba\" y=\"224.630543\"/>\n     <use style=\"fill:#d62728;stroke:#d62728;\" x=\"144.161222\" xlink:href=\"#mb2c96d9bba\" y=\"222.461278\"/>\n     <use style=\"fill:#d62728;stroke:#d62728;\" x=\"159.379403\" xlink:href=\"#mb2c96d9bba\" y=\"221.629972\"/>\n     <use style=\"fill:#d62728;stroke:#d62728;\" x=\"174.597585\" xlink:href=\"#mb2c96d9bba\" y=\"218.646341\"/>\n     <use style=\"fill:#d62728;stroke:#d62728;\" x=\"189.815767\" xlink:href=\"#mb2c96d9bba\" y=\"217.092373\"/>\n     <use style=\"fill:#d62728;stroke:#d62728;\" x=\"205.033949\" xlink:href=\"#mb2c96d9bba\" y=\"214.489554\"/>\n     <use style=\"fill:#d62728;stroke:#d62728;\" x=\"220.252131\" xlink:href=\"#mb2c96d9bba\" y=\"211.86085\"/>\n     <use style=\"fill:#d62728;stroke:#d62728;\" x=\"250.688494\" xlink:href=\"#mb2c96d9bba\" y=\"207.65909\"/>\n     <use style=\"fill:#d62728;stroke:#d62728;\" x=\"265.906676\" xlink:href=\"#mb2c96d9bba\" y=\"206.696305\"/>\n     <use style=\"fill:#d62728;stroke:#d62728;\" x=\"281.124858\" xlink:href=\"#mb2c96d9bba\" y=\"203.952851\"/>\n     <use style=\"fill:#d62728;stroke:#d62728;\" x=\"296.34304\" xlink:href=\"#mb2c96d9bba\" y=\"203.881208\"/>\n     <use style=\"fill:#d62728;stroke:#d62728;\" x=\"311.561222\" xlink:href=\"#mb2c96d9bba\" y=\"200.038293\"/>\n     <use style=\"fill:#d62728;stroke:#d62728;\" x=\"326.779403\" xlink:href=\"#mb2c96d9bba\" y=\"199.08084\"/>\n     <use style=\"fill:#d62728;stroke:#d62728;\" x=\"341.997585\" xlink:href=\"#mb2c96d9bba\" y=\"196.502186\"/>\n     <use style=\"fill:#d62728;stroke:#d62728;\" x=\"357.215767\" xlink:href=\"#mb2c96d9bba\" y=\"194.653579\"/>\n     <use style=\"fill:#d62728;stroke:#d62728;\" x=\"372.433949\" xlink:href=\"#mb2c96d9bba\" y=\"191.731436\"/>\n     <use style=\"fill:#d62728;stroke:#d62728;\" x=\"387.652131\" xlink:href=\"#mb2c96d9bba\" y=\"190.925907\"/>\n    </g>\n   </g>\n   <g id=\"patch_3\">\n    <path d=\"M 68.070312 239.758125 \nL 68.070312 22.318125 \n\" style=\"fill:none;stroke:#000000;stroke-linecap:square;stroke-linejoin:miter;stroke-width:0.8;\"/>\n   </g>\n   <g id=\"patch_4\">\n    <path d=\"M 402.870313 239.758125 \nL 402.870313 22.318125 \n\" style=\"fill:none;stroke:#000000;stroke-linecap:square;stroke-linejoin:miter;stroke-width:0.8;\"/>\n   </g>\n   <g id=\"patch_5\">\n    <path d=\"M 68.070312 239.758125 \nL 402.870313 239.758125 \n\" style=\"fill:none;stroke:#000000;stroke-linecap:square;stroke-linejoin:miter;stroke-width:0.8;\"/>\n   </g>\n   <g id=\"patch_6\">\n    <path d=\"M 68.070312 22.318125 \nL 402.870313 22.318125 \n\" style=\"fill:none;stroke:#000000;stroke-linecap:square;stroke-linejoin:miter;stroke-width:0.8;\"/>\n   </g>\n   <g id=\"text_20\">\n    <!-- MLP Classifier for SM data -->\n    <g transform=\"translate(157.565 16.318125)scale(0.12 -0.12)\">\n     <defs>\n      <path d=\"M 9.8125 72.90625 \nL 24.515625 72.90625 \nL 43.109375 23.296875 \nL 61.8125 72.90625 \nL 76.515625 72.90625 \nL 76.515625 0 \nL 66.890625 0 \nL 66.890625 64.015625 \nL 48.09375 14.015625 \nL 38.1875 14.015625 \nL 19.390625 64.015625 \nL 19.390625 0 \nL 9.8125 0 \nz\n\" id=\"DejaVuSans-77\"/>\n      <path d=\"M 19.671875 64.796875 \nL 19.671875 37.40625 \nL 32.078125 37.40625 \nQ 38.96875 37.40625 42.71875 40.96875 \nQ 46.484375 44.53125 46.484375 51.125 \nQ 46.484375 57.671875 42.71875 61.234375 \nQ 38.96875 64.796875 32.078125 64.796875 \nz\nM 9.8125 72.90625 \nL 32.078125 72.90625 \nQ 44.34375 72.90625 50.609375 67.359375 \nQ 56.890625 61.8125 56.890625 51.125 \nQ 56.890625 40.328125 50.609375 34.8125 \nQ 44.34375 29.296875 32.078125 29.296875 \nL 19.671875 29.296875 \nL 19.671875 0 \nL 9.8125 0 \nz\n\" id=\"DejaVuSans-80\"/>\n      <path d=\"M 34.28125 27.484375 \nQ 23.390625 27.484375 19.1875 25 \nQ 14.984375 22.515625 14.984375 16.5 \nQ 14.984375 11.71875 18.140625 8.90625 \nQ 21.296875 6.109375 26.703125 6.109375 \nQ 34.1875 6.109375 38.703125 11.40625 \nQ 43.21875 16.703125 43.21875 25.484375 \nL 43.21875 27.484375 \nz\nM 52.203125 31.203125 \nL 52.203125 0 \nL 43.21875 0 \nL 43.21875 8.296875 \nQ 40.140625 3.328125 35.546875 0.953125 \nQ 30.953125 -1.421875 24.3125 -1.421875 \nQ 15.921875 -1.421875 10.953125 3.296875 \nQ 6 8.015625 6 15.921875 \nQ 6 25.140625 12.171875 29.828125 \nQ 18.359375 34.515625 30.609375 34.515625 \nL 43.21875 34.515625 \nL 43.21875 35.40625 \nQ 43.21875 41.609375 39.140625 45 \nQ 35.0625 48.390625 27.6875 48.390625 \nQ 23 48.390625 18.546875 47.265625 \nQ 14.109375 46.140625 10.015625 43.890625 \nL 10.015625 52.203125 \nQ 14.9375 54.109375 19.578125 55.046875 \nQ 24.21875 56 28.609375 56 \nQ 40.484375 56 46.34375 49.84375 \nQ 52.203125 43.703125 52.203125 31.203125 \nz\n\" id=\"DejaVuSans-97\"/>\n      <path d=\"M 44.28125 53.078125 \nL 44.28125 44.578125 \nQ 40.484375 46.53125 36.375 47.5 \nQ 32.28125 48.484375 27.875 48.484375 \nQ 21.1875 48.484375 17.84375 46.4375 \nQ 14.5 44.390625 14.5 40.28125 \nQ 14.5 37.15625 16.890625 35.375 \nQ 19.28125 33.59375 26.515625 31.984375 \nL 29.59375 31.296875 \nQ 39.15625 29.25 43.1875 25.515625 \nQ 47.21875 21.78125 47.21875 15.09375 \nQ 47.21875 7.46875 41.1875 3.015625 \nQ 35.15625 -1.421875 24.609375 -1.421875 \nQ 20.21875 -1.421875 15.453125 -0.5625 \nQ 10.6875 0.296875 5.421875 2 \nL 5.421875 11.28125 \nQ 10.40625 8.6875 15.234375 7.390625 \nQ 20.0625 6.109375 24.8125 6.109375 \nQ 31.15625 6.109375 34.5625 8.28125 \nQ 37.984375 10.453125 37.984375 14.40625 \nQ 37.984375 18.0625 35.515625 20.015625 \nQ 33.0625 21.96875 24.703125 23.78125 \nL 21.578125 24.515625 \nQ 13.234375 26.265625 9.515625 29.90625 \nQ 5.8125 33.546875 5.8125 39.890625 \nQ 5.8125 47.609375 11.28125 51.796875 \nQ 16.75 56 26.8125 56 \nQ 31.78125 56 36.171875 55.265625 \nQ 40.578125 54.546875 44.28125 53.078125 \nz\n\" id=\"DejaVuSans-115\"/>\n      <path d=\"M 41.109375 46.296875 \nQ 39.59375 47.171875 37.8125 47.578125 \nQ 36.03125 48 33.890625 48 \nQ 26.265625 48 22.1875 43.046875 \nQ 18.109375 38.09375 18.109375 28.8125 \nL 18.109375 0 \nL 9.078125 0 \nL 9.078125 54.6875 \nL 18.109375 54.6875 \nL 18.109375 46.1875 \nQ 20.953125 51.171875 25.484375 53.578125 \nQ 30.03125 56 36.53125 56 \nQ 37.453125 56 38.578125 55.875 \nQ 39.703125 55.765625 41.0625 55.515625 \nz\n\" id=\"DejaVuSans-114\"/>\n      <path d=\"M 53.515625 70.515625 \nL 53.515625 60.890625 \nQ 47.90625 63.578125 42.921875 64.890625 \nQ 37.9375 66.21875 33.296875 66.21875 \nQ 25.25 66.21875 20.875 63.09375 \nQ 16.5 59.96875 16.5 54.203125 \nQ 16.5 49.359375 19.40625 46.890625 \nQ 22.3125 44.4375 30.421875 42.921875 \nL 36.375 41.703125 \nQ 47.40625 39.59375 52.65625 34.296875 \nQ 57.90625 29 57.90625 20.125 \nQ 57.90625 9.515625 50.796875 4.046875 \nQ 43.703125 -1.421875 29.984375 -1.421875 \nQ 24.8125 -1.421875 18.96875 -0.25 \nQ 13.140625 0.921875 6.890625 3.21875 \nL 6.890625 13.375 \nQ 12.890625 10.015625 18.65625 8.296875 \nQ 24.421875 6.59375 29.984375 6.59375 \nQ 38.421875 6.59375 43.015625 9.90625 \nQ 47.609375 13.234375 47.609375 19.390625 \nQ 47.609375 24.75 44.3125 27.78125 \nQ 41.015625 30.8125 33.5 32.328125 \nL 27.484375 33.5 \nQ 16.453125 35.6875 11.515625 40.375 \nQ 6.59375 45.0625 6.59375 53.421875 \nQ 6.59375 63.09375 13.40625 68.65625 \nQ 20.21875 74.21875 32.171875 74.21875 \nQ 37.3125 74.21875 42.625 73.28125 \nQ 47.953125 72.359375 53.515625 70.515625 \nz\n\" id=\"DejaVuSans-83\"/>\n      <path d=\"M 18.3125 70.21875 \nL 18.3125 54.6875 \nL 36.8125 54.6875 \nL 36.8125 47.703125 \nL 18.3125 47.703125 \nL 18.3125 18.015625 \nQ 18.3125 11.328125 20.140625 9.421875 \nQ 21.96875 7.515625 27.59375 7.515625 \nL 36.8125 7.515625 \nL 36.8125 0 \nL 27.59375 0 \nQ 17.1875 0 13.234375 3.875 \nQ 9.28125 7.765625 9.28125 18.015625 \nL 9.28125 47.703125 \nL 2.6875 47.703125 \nL 2.6875 54.6875 \nL 9.28125 54.6875 \nL 9.28125 70.21875 \nz\n\" id=\"DejaVuSans-116\"/>\n     </defs>\n     <use xlink:href=\"#DejaVuSans-77\"/>\n     <use x=\"86.279297\" xlink:href=\"#DejaVuSans-76\"/>\n     <use x=\"141.992188\" xlink:href=\"#DejaVuSans-80\"/>\n     <use x=\"202.294922\" xlink:href=\"#DejaVuSans-32\"/>\n     <use x=\"234.082031\" xlink:href=\"#DejaVuSans-67\"/>\n     <use x=\"303.90625\" xlink:href=\"#DejaVuSans-108\"/>\n     <use x=\"331.689453\" xlink:href=\"#DejaVuSans-97\"/>\n     <use x=\"392.96875\" xlink:href=\"#DejaVuSans-115\"/>\n     <use x=\"445.068359\" xlink:href=\"#DejaVuSans-115\"/>\n     <use x=\"497.167969\" xlink:href=\"#DejaVuSans-105\"/>\n     <use x=\"524.951172\" xlink:href=\"#DejaVuSans-102\"/>\n     <use x=\"560.15625\" xlink:href=\"#DejaVuSans-105\"/>\n     <use x=\"587.939453\" xlink:href=\"#DejaVuSans-101\"/>\n     <use x=\"649.462891\" xlink:href=\"#DejaVuSans-114\"/>\n     <use x=\"690.576172\" xlink:href=\"#DejaVuSans-32\"/>\n     <use x=\"722.363281\" xlink:href=\"#DejaVuSans-102\"/>\n     <use x=\"757.568359\" xlink:href=\"#DejaVuSans-111\"/>\n     <use x=\"818.75\" xlink:href=\"#DejaVuSans-114\"/>\n     <use x=\"859.863281\" xlink:href=\"#DejaVuSans-32\"/>\n     <use x=\"891.650391\" xlink:href=\"#DejaVuSans-83\"/>\n     <use x=\"955.126953\" xlink:href=\"#DejaVuSans-77\"/>\n     <use x=\"1041.40625\" xlink:href=\"#DejaVuSans-32\"/>\n     <use x=\"1073.193359\" xlink:href=\"#DejaVuSans-100\"/>\n     <use x=\"1136.669922\" xlink:href=\"#DejaVuSans-97\"/>\n     <use x=\"1197.949219\" xlink:href=\"#DejaVuSans-116\"/>\n     <use x=\"1237.158203\" xlink:href=\"#DejaVuSans-97\"/>\n    </g>\n   </g>\n   <g id=\"legend_1\">\n    <g id=\"patch_7\">\n     <path d=\"M 326.05625 161.894375 \nL 395.870312 161.894375 \nQ 397.870312 161.894375 397.870312 159.894375 \nL 397.870312 102.181875 \nQ 397.870312 100.181875 395.870312 100.181875 \nL 326.05625 100.181875 \nQ 324.05625 100.181875 324.05625 102.181875 \nL 324.05625 159.894375 \nQ 324.05625 161.894375 326.05625 161.894375 \nz\n\" style=\"fill:#ffffff;opacity:0.8;stroke:#cccccc;stroke-linejoin:miter;\"/>\n    </g>\n    <g id=\"LineCollection_5\">\n     <path d=\"M 338.05625 113.280312 \nL 338.05625 103.280312 \n\" style=\"fill:none;stroke:#1f77b4;stroke-width:1.5;\"/>\n    </g>\n    <g id=\"line2d_30\">\n     <g>\n      <use style=\"fill:#1f77b4;stroke:#1f77b4;\" x=\"338.05625\" xlink:href=\"#me79e3f7a16\" y=\"113.280312\"/>\n     </g>\n    </g>\n    <g id=\"line2d_31\">\n     <g>\n      <use style=\"fill:#1f77b4;stroke:#1f77b4;\" x=\"338.05625\" xlink:href=\"#me79e3f7a16\" y=\"103.280312\"/>\n     </g>\n    </g>\n    <g id=\"line2d_32\"/>\n    <g id=\"line2d_33\">\n     <g>\n      <use style=\"fill:#1f77b4;stroke:#1f77b4;\" x=\"338.05625\" xlink:href=\"#m1db1ed2af7\" y=\"108.280312\"/>\n     </g>\n    </g>\n    <g id=\"text_21\">\n     <!-- SM -->\n     <g transform=\"translate(356.05625 111.780312)scale(0.1 -0.1)\">\n      <use xlink:href=\"#DejaVuSans-83\"/>\n      <use x=\"63.476562\" xlink:href=\"#DejaVuSans-77\"/>\n     </g>\n    </g>\n    <g id=\"LineCollection_6\">\n     <path d=\"M 338.05625 127.958437 \nL 338.05625 117.958437 \n\" style=\"fill:none;stroke:#ff7f0e;stroke-width:1.5;\"/>\n    </g>\n    <g id=\"line2d_34\">\n     <g>\n      <use style=\"fill:#ff7f0e;stroke:#ff7f0e;\" x=\"338.05625\" xlink:href=\"#m48c96f031f\" y=\"127.958437\"/>\n     </g>\n    </g>\n    <g id=\"line2d_35\">\n     <g>\n      <use style=\"fill:#ff7f0e;stroke:#ff7f0e;\" x=\"338.05625\" xlink:href=\"#m48c96f031f\" y=\"117.958437\"/>\n     </g>\n    </g>\n    <g id=\"line2d_36\"/>\n    <g id=\"line2d_37\">\n     <g>\n      <use style=\"fill:#ff7f0e;stroke:#ff7f0e;\" x=\"338.05625\" xlink:href=\"#m489dd2fb67\" y=\"122.958437\"/>\n     </g>\n    </g>\n    <g id=\"text_22\">\n     <!-- C9 coef -->\n     <g transform=\"translate(356.05625 126.458437)scale(0.1 -0.1)\">\n      <use xlink:href=\"#DejaVuSans-67\"/>\n      <use x=\"69.824219\" xlink:href=\"#DejaVuSans-57\"/>\n      <use x=\"133.447266\" xlink:href=\"#DejaVuSans-32\"/>\n      <use x=\"165.234375\" xlink:href=\"#DejaVuSans-99\"/>\n      <use x=\"220.214844\" xlink:href=\"#DejaVuSans-111\"/>\n      <use x=\"281.396484\" xlink:href=\"#DejaVuSans-101\"/>\n      <use x=\"342.919922\" xlink:href=\"#DejaVuSans-102\"/>\n     </g>\n    </g>\n    <g id=\"LineCollection_7\">\n     <path d=\"M 338.05625 142.636562 \nL 338.05625 132.636562 \n\" style=\"fill:none;stroke:#2ca02c;stroke-width:1.5;\"/>\n    </g>\n    <g id=\"line2d_38\">\n     <g>\n      <use style=\"fill:#2ca02c;stroke:#2ca02c;\" x=\"338.05625\" xlink:href=\"#m96e4428c10\" y=\"142.636562\"/>\n     </g>\n    </g>\n    <g id=\"line2d_39\">\n     <g>\n      <use style=\"fill:#2ca02c;stroke:#2ca02c;\" x=\"338.05625\" xlink:href=\"#m96e4428c10\" y=\"132.636562\"/>\n     </g>\n    </g>\n    <g id=\"line2d_40\"/>\n    <g id=\"line2d_41\">\n     <g>\n      <use style=\"fill:#2ca02c;stroke:#2ca02c;\" x=\"338.05625\" xlink:href=\"#m9fc0a56317\" y=\"137.636562\"/>\n     </g>\n    </g>\n    <g id=\"text_23\">\n     <!-- SM -->\n     <g transform=\"translate(356.05625 141.136562)scale(0.1 -0.1)\">\n      <use xlink:href=\"#DejaVuSans-83\"/>\n      <use x=\"63.476562\" xlink:href=\"#DejaVuSans-77\"/>\n     </g>\n    </g>\n    <g id=\"LineCollection_8\">\n     <path d=\"M 338.05625 157.314687 \nL 338.05625 147.314687 \n\" style=\"fill:none;stroke:#d62728;stroke-width:1.5;\"/>\n    </g>\n    <g id=\"line2d_42\">\n     <g>\n      <use style=\"fill:#d62728;stroke:#d62728;\" x=\"338.05625\" xlink:href=\"#m3164c81a0b\" y=\"157.314687\"/>\n     </g>\n    </g>\n    <g id=\"line2d_43\">\n     <g>\n      <use style=\"fill:#d62728;stroke:#d62728;\" x=\"338.05625\" xlink:href=\"#m3164c81a0b\" y=\"147.314687\"/>\n     </g>\n    </g>\n    <g id=\"line2d_44\"/>\n    <g id=\"line2d_45\">\n     <g>\n      <use style=\"fill:#d62728;stroke:#d62728;\" x=\"338.05625\" xlink:href=\"#mb2c96d9bba\" y=\"152.314687\"/>\n     </g>\n    </g>\n    <g id=\"text_24\">\n     <!-- C9 coef -->\n     <g transform=\"translate(356.05625 155.814687)scale(0.1 -0.1)\">\n      <use xlink:href=\"#DejaVuSans-67\"/>\n      <use x=\"69.824219\" xlink:href=\"#DejaVuSans-57\"/>\n      <use x=\"133.447266\" xlink:href=\"#DejaVuSans-32\"/>\n      <use x=\"165.234375\" xlink:href=\"#DejaVuSans-99\"/>\n      <use x=\"220.214844\" xlink:href=\"#DejaVuSans-111\"/>\n      <use x=\"281.396484\" xlink:href=\"#DejaVuSans-101\"/>\n      <use x=\"342.919922\" xlink:href=\"#DejaVuSans-102\"/>\n     </g>\n    </g>\n   </g>\n  </g>\n </g>\n <defs>\n  <clipPath id=\"pe334774ec5\">\n   <rect height=\"217.44\" width=\"334.8\" x=\"68.070312\" y=\"22.318125\"/>\n  </clipPath>\n </defs>\n</svg>\n",
      "text/plain": [
       "<Figure size 432x288 with 1 Axes>"
      ]
     },
     "metadata": {
      "needs_background": "light"
     },
     "output_type": "display_data"
    }
   ],
   "source": [
    "mean_av_0 = []\n",
    "mean_av_1 = []\n",
    "for i in range(2):\n",
    "\n",
    "    k_inverse_list =[]\n",
    "    mean_0_list =[]\n",
    "    mean_1_list =[]\n",
    "    std_0_list =[]\n",
    "    std_1_list =[]\n",
    "    for k, arr in table_likelihoods[i].items():\n",
    "        k_inverse = le.inverse_transform([k])\n",
    "        if k_inverse == 0:\n",
    "            continue\n",
    "        print(np.mean(arr[k]))\n",
    "        mean_0 = np.mean(arr[10])\n",
    "        mean_1 = np.mean(arr[k])\n",
    "        std_0 = np.std(arr[10])\n",
    "        std_1 = np.std(arr[k])\n",
    "\n",
    "        k_inverse_list.append(k_inverse)\n",
    "        mean_0_list.append(mean_0)\n",
    "        mean_1_list.append(mean_1)\n",
    "        std_0_list.append(std_0)\n",
    "        std_1_list.append(std_1)\n",
    "        \n",
    "    mean_av_0.append(mean_0_list)\n",
    "    mean_av_1.append(mean_1_list)\n",
    "\n",
    "plt.errorbar(k_inverse_list, mean_av_0[0], marker='.', yerr=std_0_list,c='tab:blue',ls='none', capsize=4,label='SM')\n",
    "plt.errorbar(k_inverse_list, mean_av_1[0], marker='.', yerr=std_1_list,c='tab:orange',ls='none', capsize=4,label='C9 coef')\n",
    "plt.errorbar(k_inverse_list, mean_av_0[1], marker='.', yerr=std_0_list,c='tab:green',ls='none', capsize=4,label='SM')\n",
    "plt.errorbar(k_inverse_list, mean_av_1[1], marker='.', yerr=std_1_list,c='tab:red',ls='none', capsize=4,label='C9 coef')\n",
    "# plt.errorbar(k_inverse_list, mean_av_0[2], marker='.', yerr=std_0_list,c='tab:blue',ls='none', capsize=4,label='SM')\n",
    "# plt.errorbar(k_inverse_list, mean_av_1[2], marker='.', yerr=std_1_list,c='tab:orange',ls='none', capsize=4,label='C9 coef')\n",
    "# plt.errorbar(k_inverse_list, mean_av_0[3], marker='.', yerr=std_0_list,c='tab:blue',ls='none', capsize=4,label='SM')\n",
    "# plt.errorbar(k_inverse_list, mean_av_1[3], marker='.', yerr=std_1_list,c='tab:orange',ls='none', capsize=4,label='C9 coef')\n",
    "# plt.errorbar(k_inverse_list, mean_av_0[4], marker='.', yerr=std_0_list,c='tab:blue',ls='none', capsize=4,label='SM')\n",
    "# plt.errorbar(k_inverse_list, mean_av_1[4], marker='.', yerr=std_1_list,c='tab:orange',ls='none', capsize=4,label='C9 coef')\n",
    "# plt.errorbar(k_inverse_list, mean_av_0[5], marker='.', yerr=std_0_list,c='tab:blue',ls='none', capsize=4,label='SM')\n",
    "# plt.errorbar(k_inverse_list, mean_av_1[5], marker='.', yerr=std_1_list,c='tab:orange',ls='none', capsize=4,label='C9 coef')\n",
    "plt.xlabel(\"C9 coef.\")\n",
    "plt.ylabel(\"Loglikelihood\")\n",
    "plt.title('MLP Classifier for SM data')\n",
    "plt.legend()\n",
    "plt.show()\n",
    "\n"
   ]
  },
  {
   "cell_type": "code",
   "execution_count": 94,
   "metadata": {},
   "outputs": [
    {
     "data": {
      "text/plain": [
       "20"
      ]
     },
     "execution_count": 94,
     "metadata": {},
     "output_type": "execute_result"
    }
   ],
   "source": [
    "len(mean_av_0[0])"
   ]
  },
  {
   "cell_type": "code",
   "execution_count": 134,
   "metadata": {},
   "outputs": [
    {
     "data": {
      "text/plain": [
       "34"
      ]
     },
     "execution_count": 134,
     "metadata": {},
     "output_type": "execute_result"
    }
   ],
   "source": [
    "len(table_likelihoods)"
   ]
  },
  {
   "cell_type": "code",
   "execution_count": 586,
   "metadata": {},
   "outputs": [],
   "source": [
    "av_0=[]\n",
    "av_1=[]\n",
    "std_av0 =[]\n",
    "std_av1 =[]\n",
    "diff = []\n",
    "for i in range(20):\n",
    "    a=[]\n",
    "    b=[]\n",
    "    c=[]\n",
    "    d=[]\n",
    "    for j in range(2):\n",
    "        a.append(mean_av_0[j][i])\n",
    "        b.append(mean_av_1[j][i])\n",
    "        c.append(mean_av_1[j][i])\n",
    "        d.append(mean_av_1[j][i])\n",
    "        \n",
    "        \n",
    "    diff.append(np.mean(b)-np.mean(a))\n",
    "    av_0.append(np.mean(a))\n",
    "    av_1.append(np.mean(b))\n",
    "    std_av0.append(np.std(c))\n",
    "    std_av1.append(np.std(d))"
   ]
  },
  {
   "cell_type": "code",
   "execution_count": 587,
   "metadata": {},
   "outputs": [
    {
     "name": "stdout",
     "output_type": "stream",
     "text": [
      "0.16091798\n",
      "0.04887785\n"
     ]
    }
   ],
   "source": [
    "print(np.mean(std_av0)/np.mean(std_0_list))\n",
    "print(np.mean(std_av1)/np.mean(std_1_list))"
   ]
  },
  {
   "cell_type": "code",
   "execution_count": 144,
   "metadata": {},
   "outputs": [
    {
     "data": {
      "image/svg+xml": "<?xml version=\"1.0\" encoding=\"utf-8\" standalone=\"no\"?>\n<!DOCTYPE svg PUBLIC \"-//W3C//DTD SVG 1.1//EN\"\n  \"http://www.w3.org/Graphics/SVG/1.1/DTD/svg11.dtd\">\n<!-- Created with matplotlib (https://matplotlib.org/) -->\n<svg height=\"277.314375pt\" version=\"1.1\" viewBox=\"0 0 388.965625 277.314375\" width=\"388.965625pt\" xmlns=\"http://www.w3.org/2000/svg\" xmlns:xlink=\"http://www.w3.org/1999/xlink\">\n <metadata>\n  <rdf:RDF xmlns:cc=\"http://creativecommons.org/ns#\" xmlns:dc=\"http://purl.org/dc/elements/1.1/\" xmlns:rdf=\"http://www.w3.org/1999/02/22-rdf-syntax-ns#\">\n   <cc:Work>\n    <dc:type rdf:resource=\"http://purl.org/dc/dcmitype/StillImage\"/>\n    <dc:date>2022-02-16T12:20:27.645542</dc:date>\n    <dc:format>image/svg+xml</dc:format>\n    <dc:creator>\n     <cc:Agent>\n      <dc:title>Matplotlib v3.3.2, https://matplotlib.org/</dc:title>\n     </cc:Agent>\n    </dc:creator>\n   </cc:Work>\n  </rdf:RDF>\n </metadata>\n <defs>\n  <style type=\"text/css\">*{stroke-linecap:butt;stroke-linejoin:round;}</style>\n </defs>\n <g id=\"figure_1\">\n  <g id=\"patch_1\">\n   <path d=\"M 0 277.314375 \nL 388.965625 277.314375 \nL 388.965625 0 \nL 0 0 \nz\n\" style=\"fill:none;\"/>\n  </g>\n  <g id=\"axes_1\">\n   <g id=\"patch_2\">\n    <path d=\"M 46.965625 239.758125 \nL 381.765625 239.758125 \nL 381.765625 22.318125 \nL 46.965625 22.318125 \nz\n\" style=\"fill:#ffffff;\"/>\n   </g>\n   <g id=\"matplotlib.axis_1\">\n    <g id=\"xtick_1\">\n     <g id=\"line2d_1\">\n      <defs>\n       <path d=\"M 0 0 \nL 0 3.5 \n\" id=\"md9717d5ebf\" style=\"stroke:#000000;stroke-width:0.8;\"/>\n      </defs>\n      <g>\n       <use style=\"stroke:#000000;stroke-width:0.8;\" x=\"62.183807\" xlink:href=\"#md9717d5ebf\" y=\"239.758125\"/>\n      </g>\n     </g>\n     <g id=\"text_1\">\n      <!-- −1.00 -->\n      <g transform=\"translate(46.861151 254.356562)scale(0.1 -0.1)\">\n       <defs>\n        <path d=\"M 10.59375 35.5 \nL 73.1875 35.5 \nL 73.1875 27.203125 \nL 10.59375 27.203125 \nz\n\" id=\"DejaVuSans-8722\"/>\n        <path d=\"M 12.40625 8.296875 \nL 28.515625 8.296875 \nL 28.515625 63.921875 \nL 10.984375 60.40625 \nL 10.984375 69.390625 \nL 28.421875 72.90625 \nL 38.28125 72.90625 \nL 38.28125 8.296875 \nL 54.390625 8.296875 \nL 54.390625 0 \nL 12.40625 0 \nz\n\" id=\"DejaVuSans-49\"/>\n        <path d=\"M 10.6875 12.40625 \nL 21 12.40625 \nL 21 0 \nL 10.6875 0 \nz\n\" id=\"DejaVuSans-46\"/>\n        <path d=\"M 31.78125 66.40625 \nQ 24.171875 66.40625 20.328125 58.90625 \nQ 16.5 51.421875 16.5 36.375 \nQ 16.5 21.390625 20.328125 13.890625 \nQ 24.171875 6.390625 31.78125 6.390625 \nQ 39.453125 6.390625 43.28125 13.890625 \nQ 47.125 21.390625 47.125 36.375 \nQ 47.125 51.421875 43.28125 58.90625 \nQ 39.453125 66.40625 31.78125 66.40625 \nz\nM 31.78125 74.21875 \nQ 44.046875 74.21875 50.515625 64.515625 \nQ 56.984375 54.828125 56.984375 36.375 \nQ 56.984375 17.96875 50.515625 8.265625 \nQ 44.046875 -1.421875 31.78125 -1.421875 \nQ 19.53125 -1.421875 13.0625 8.265625 \nQ 6.59375 17.96875 6.59375 36.375 \nQ 6.59375 54.828125 13.0625 64.515625 \nQ 19.53125 74.21875 31.78125 74.21875 \nz\n\" id=\"DejaVuSans-48\"/>\n       </defs>\n       <use xlink:href=\"#DejaVuSans-8722\"/>\n       <use x=\"83.789062\" xlink:href=\"#DejaVuSans-49\"/>\n       <use x=\"147.412109\" xlink:href=\"#DejaVuSans-46\"/>\n       <use x=\"179.199219\" xlink:href=\"#DejaVuSans-48\"/>\n       <use x=\"242.822266\" xlink:href=\"#DejaVuSans-48\"/>\n      </g>\n     </g>\n    </g>\n    <g id=\"xtick_2\">\n     <g id=\"line2d_2\">\n      <g>\n       <use style=\"stroke:#000000;stroke-width:0.8;\" x=\"100.229261\" xlink:href=\"#md9717d5ebf\" y=\"239.758125\"/>\n      </g>\n     </g>\n     <g id=\"text_2\">\n      <!-- −0.75 -->\n      <g transform=\"translate(84.906605 254.356562)scale(0.1 -0.1)\">\n       <defs>\n        <path d=\"M 8.203125 72.90625 \nL 55.078125 72.90625 \nL 55.078125 68.703125 \nL 28.609375 0 \nL 18.3125 0 \nL 43.21875 64.59375 \nL 8.203125 64.59375 \nz\n\" id=\"DejaVuSans-55\"/>\n        <path d=\"M 10.796875 72.90625 \nL 49.515625 72.90625 \nL 49.515625 64.59375 \nL 19.828125 64.59375 \nL 19.828125 46.734375 \nQ 21.96875 47.46875 24.109375 47.828125 \nQ 26.265625 48.1875 28.421875 48.1875 \nQ 40.625 48.1875 47.75 41.5 \nQ 54.890625 34.8125 54.890625 23.390625 \nQ 54.890625 11.625 47.5625 5.09375 \nQ 40.234375 -1.421875 26.90625 -1.421875 \nQ 22.3125 -1.421875 17.546875 -0.640625 \nQ 12.796875 0.140625 7.71875 1.703125 \nL 7.71875 11.625 \nQ 12.109375 9.234375 16.796875 8.0625 \nQ 21.484375 6.890625 26.703125 6.890625 \nQ 35.15625 6.890625 40.078125 11.328125 \nQ 45.015625 15.765625 45.015625 23.390625 \nQ 45.015625 31 40.078125 35.4375 \nQ 35.15625 39.890625 26.703125 39.890625 \nQ 22.75 39.890625 18.8125 39.015625 \nQ 14.890625 38.140625 10.796875 36.28125 \nz\n\" id=\"DejaVuSans-53\"/>\n       </defs>\n       <use xlink:href=\"#DejaVuSans-8722\"/>\n       <use x=\"83.789062\" xlink:href=\"#DejaVuSans-48\"/>\n       <use x=\"147.412109\" xlink:href=\"#DejaVuSans-46\"/>\n       <use x=\"179.199219\" xlink:href=\"#DejaVuSans-55\"/>\n       <use x=\"242.822266\" xlink:href=\"#DejaVuSans-53\"/>\n      </g>\n     </g>\n    </g>\n    <g id=\"xtick_3\">\n     <g id=\"line2d_3\">\n      <g>\n       <use style=\"stroke:#000000;stroke-width:0.8;\" x=\"138.274716\" xlink:href=\"#md9717d5ebf\" y=\"239.758125\"/>\n      </g>\n     </g>\n     <g id=\"text_3\">\n      <!-- −0.50 -->\n      <g transform=\"translate(122.95206 254.356562)scale(0.1 -0.1)\">\n       <use xlink:href=\"#DejaVuSans-8722\"/>\n       <use x=\"83.789062\" xlink:href=\"#DejaVuSans-48\"/>\n       <use x=\"147.412109\" xlink:href=\"#DejaVuSans-46\"/>\n       <use x=\"179.199219\" xlink:href=\"#DejaVuSans-53\"/>\n       <use x=\"242.822266\" xlink:href=\"#DejaVuSans-48\"/>\n      </g>\n     </g>\n    </g>\n    <g id=\"xtick_4\">\n     <g id=\"line2d_4\">\n      <g>\n       <use style=\"stroke:#000000;stroke-width:0.8;\" x=\"176.32017\" xlink:href=\"#md9717d5ebf\" y=\"239.758125\"/>\n      </g>\n     </g>\n     <g id=\"text_4\">\n      <!-- −0.25 -->\n      <g transform=\"translate(160.997514 254.356562)scale(0.1 -0.1)\">\n       <defs>\n        <path d=\"M 19.1875 8.296875 \nL 53.609375 8.296875 \nL 53.609375 0 \nL 7.328125 0 \nL 7.328125 8.296875 \nQ 12.9375 14.109375 22.625 23.890625 \nQ 32.328125 33.6875 34.8125 36.53125 \nQ 39.546875 41.84375 41.421875 45.53125 \nQ 43.3125 49.21875 43.3125 52.78125 \nQ 43.3125 58.59375 39.234375 62.25 \nQ 35.15625 65.921875 28.609375 65.921875 \nQ 23.96875 65.921875 18.8125 64.3125 \nQ 13.671875 62.703125 7.8125 59.421875 \nL 7.8125 69.390625 \nQ 13.765625 71.78125 18.9375 73 \nQ 24.125 74.21875 28.421875 74.21875 \nQ 39.75 74.21875 46.484375 68.546875 \nQ 53.21875 62.890625 53.21875 53.421875 \nQ 53.21875 48.921875 51.53125 44.890625 \nQ 49.859375 40.875 45.40625 35.40625 \nQ 44.1875 33.984375 37.640625 27.21875 \nQ 31.109375 20.453125 19.1875 8.296875 \nz\n\" id=\"DejaVuSans-50\"/>\n       </defs>\n       <use xlink:href=\"#DejaVuSans-8722\"/>\n       <use x=\"83.789062\" xlink:href=\"#DejaVuSans-48\"/>\n       <use x=\"147.412109\" xlink:href=\"#DejaVuSans-46\"/>\n       <use x=\"179.199219\" xlink:href=\"#DejaVuSans-50\"/>\n       <use x=\"242.822266\" xlink:href=\"#DejaVuSans-53\"/>\n      </g>\n     </g>\n    </g>\n    <g id=\"xtick_5\">\n     <g id=\"line2d_5\">\n      <g>\n       <use style=\"stroke:#000000;stroke-width:0.8;\" x=\"214.365625\" xlink:href=\"#md9717d5ebf\" y=\"239.758125\"/>\n      </g>\n     </g>\n     <g id=\"text_5\">\n      <!-- 0.00 -->\n      <g transform=\"translate(203.232813 254.356562)scale(0.1 -0.1)\">\n       <use xlink:href=\"#DejaVuSans-48\"/>\n       <use x=\"63.623047\" xlink:href=\"#DejaVuSans-46\"/>\n       <use x=\"95.410156\" xlink:href=\"#DejaVuSans-48\"/>\n       <use x=\"159.033203\" xlink:href=\"#DejaVuSans-48\"/>\n      </g>\n     </g>\n    </g>\n    <g id=\"xtick_6\">\n     <g id=\"line2d_6\">\n      <g>\n       <use style=\"stroke:#000000;stroke-width:0.8;\" x=\"252.41108\" xlink:href=\"#md9717d5ebf\" y=\"239.758125\"/>\n      </g>\n     </g>\n     <g id=\"text_6\">\n      <!-- 0.25 -->\n      <g transform=\"translate(241.278267 254.356562)scale(0.1 -0.1)\">\n       <use xlink:href=\"#DejaVuSans-48\"/>\n       <use x=\"63.623047\" xlink:href=\"#DejaVuSans-46\"/>\n       <use x=\"95.410156\" xlink:href=\"#DejaVuSans-50\"/>\n       <use x=\"159.033203\" xlink:href=\"#DejaVuSans-53\"/>\n      </g>\n     </g>\n    </g>\n    <g id=\"xtick_7\">\n     <g id=\"line2d_7\">\n      <g>\n       <use style=\"stroke:#000000;stroke-width:0.8;\" x=\"290.456534\" xlink:href=\"#md9717d5ebf\" y=\"239.758125\"/>\n      </g>\n     </g>\n     <g id=\"text_7\">\n      <!-- 0.50 -->\n      <g transform=\"translate(279.323722 254.356562)scale(0.1 -0.1)\">\n       <use xlink:href=\"#DejaVuSans-48\"/>\n       <use x=\"63.623047\" xlink:href=\"#DejaVuSans-46\"/>\n       <use x=\"95.410156\" xlink:href=\"#DejaVuSans-53\"/>\n       <use x=\"159.033203\" xlink:href=\"#DejaVuSans-48\"/>\n      </g>\n     </g>\n    </g>\n    <g id=\"xtick_8\">\n     <g id=\"line2d_8\">\n      <g>\n       <use style=\"stroke:#000000;stroke-width:0.8;\" x=\"328.501989\" xlink:href=\"#md9717d5ebf\" y=\"239.758125\"/>\n      </g>\n     </g>\n     <g id=\"text_8\">\n      <!-- 0.75 -->\n      <g transform=\"translate(317.369176 254.356562)scale(0.1 -0.1)\">\n       <use xlink:href=\"#DejaVuSans-48\"/>\n       <use x=\"63.623047\" xlink:href=\"#DejaVuSans-46\"/>\n       <use x=\"95.410156\" xlink:href=\"#DejaVuSans-55\"/>\n       <use x=\"159.033203\" xlink:href=\"#DejaVuSans-53\"/>\n      </g>\n     </g>\n    </g>\n    <g id=\"xtick_9\">\n     <g id=\"line2d_9\">\n      <g>\n       <use style=\"stroke:#000000;stroke-width:0.8;\" x=\"366.547443\" xlink:href=\"#md9717d5ebf\" y=\"239.758125\"/>\n      </g>\n     </g>\n     <g id=\"text_9\">\n      <!-- 1.00 -->\n      <g transform=\"translate(355.414631 254.356562)scale(0.1 -0.1)\">\n       <use xlink:href=\"#DejaVuSans-49\"/>\n       <use x=\"63.623047\" xlink:href=\"#DejaVuSans-46\"/>\n       <use x=\"95.410156\" xlink:href=\"#DejaVuSans-48\"/>\n       <use x=\"159.033203\" xlink:href=\"#DejaVuSans-48\"/>\n      </g>\n     </g>\n    </g>\n    <g id=\"text_10\">\n     <!-- C9 coef. -->\n     <g transform=\"translate(194.232031 268.034687)scale(0.1 -0.1)\">\n      <defs>\n       <path d=\"M 64.40625 67.28125 \nL 64.40625 56.890625 \nQ 59.421875 61.53125 53.78125 63.8125 \nQ 48.140625 66.109375 41.796875 66.109375 \nQ 29.296875 66.109375 22.65625 58.46875 \nQ 16.015625 50.828125 16.015625 36.375 \nQ 16.015625 21.96875 22.65625 14.328125 \nQ 29.296875 6.6875 41.796875 6.6875 \nQ 48.140625 6.6875 53.78125 8.984375 \nQ 59.421875 11.28125 64.40625 15.921875 \nL 64.40625 5.609375 \nQ 59.234375 2.09375 53.4375 0.328125 \nQ 47.65625 -1.421875 41.21875 -1.421875 \nQ 24.65625 -1.421875 15.125 8.703125 \nQ 5.609375 18.84375 5.609375 36.375 \nQ 5.609375 53.953125 15.125 64.078125 \nQ 24.65625 74.21875 41.21875 74.21875 \nQ 47.75 74.21875 53.53125 72.484375 \nQ 59.328125 70.75 64.40625 67.28125 \nz\n\" id=\"DejaVuSans-67\"/>\n       <path d=\"M 10.984375 1.515625 \nL 10.984375 10.5 \nQ 14.703125 8.734375 18.5 7.8125 \nQ 22.3125 6.890625 25.984375 6.890625 \nQ 35.75 6.890625 40.890625 13.453125 \nQ 46.046875 20.015625 46.78125 33.40625 \nQ 43.953125 29.203125 39.59375 26.953125 \nQ 35.25 24.703125 29.984375 24.703125 \nQ 19.046875 24.703125 12.671875 31.3125 \nQ 6.296875 37.9375 6.296875 49.421875 \nQ 6.296875 60.640625 12.9375 67.421875 \nQ 19.578125 74.21875 30.609375 74.21875 \nQ 43.265625 74.21875 49.921875 64.515625 \nQ 56.59375 54.828125 56.59375 36.375 \nQ 56.59375 19.140625 48.40625 8.859375 \nQ 40.234375 -1.421875 26.421875 -1.421875 \nQ 22.703125 -1.421875 18.890625 -0.6875 \nQ 15.09375 0.046875 10.984375 1.515625 \nz\nM 30.609375 32.421875 \nQ 37.25 32.421875 41.125 36.953125 \nQ 45.015625 41.5 45.015625 49.421875 \nQ 45.015625 57.28125 41.125 61.84375 \nQ 37.25 66.40625 30.609375 66.40625 \nQ 23.96875 66.40625 20.09375 61.84375 \nQ 16.21875 57.28125 16.21875 49.421875 \nQ 16.21875 41.5 20.09375 36.953125 \nQ 23.96875 32.421875 30.609375 32.421875 \nz\n\" id=\"DejaVuSans-57\"/>\n       <path id=\"DejaVuSans-32\"/>\n       <path d=\"M 48.78125 52.59375 \nL 48.78125 44.1875 \nQ 44.96875 46.296875 41.140625 47.34375 \nQ 37.3125 48.390625 33.40625 48.390625 \nQ 24.65625 48.390625 19.8125 42.84375 \nQ 14.984375 37.3125 14.984375 27.296875 \nQ 14.984375 17.28125 19.8125 11.734375 \nQ 24.65625 6.203125 33.40625 6.203125 \nQ 37.3125 6.203125 41.140625 7.25 \nQ 44.96875 8.296875 48.78125 10.40625 \nL 48.78125 2.09375 \nQ 45.015625 0.34375 40.984375 -0.53125 \nQ 36.96875 -1.421875 32.421875 -1.421875 \nQ 20.0625 -1.421875 12.78125 6.34375 \nQ 5.515625 14.109375 5.515625 27.296875 \nQ 5.515625 40.671875 12.859375 48.328125 \nQ 20.21875 56 33.015625 56 \nQ 37.15625 56 41.109375 55.140625 \nQ 45.0625 54.296875 48.78125 52.59375 \nz\n\" id=\"DejaVuSans-99\"/>\n       <path d=\"M 30.609375 48.390625 \nQ 23.390625 48.390625 19.1875 42.75 \nQ 14.984375 37.109375 14.984375 27.296875 \nQ 14.984375 17.484375 19.15625 11.84375 \nQ 23.34375 6.203125 30.609375 6.203125 \nQ 37.796875 6.203125 41.984375 11.859375 \nQ 46.1875 17.53125 46.1875 27.296875 \nQ 46.1875 37.015625 41.984375 42.703125 \nQ 37.796875 48.390625 30.609375 48.390625 \nz\nM 30.609375 56 \nQ 42.328125 56 49.015625 48.375 \nQ 55.71875 40.765625 55.71875 27.296875 \nQ 55.71875 13.875 49.015625 6.21875 \nQ 42.328125 -1.421875 30.609375 -1.421875 \nQ 18.84375 -1.421875 12.171875 6.21875 \nQ 5.515625 13.875 5.515625 27.296875 \nQ 5.515625 40.765625 12.171875 48.375 \nQ 18.84375 56 30.609375 56 \nz\n\" id=\"DejaVuSans-111\"/>\n       <path d=\"M 56.203125 29.59375 \nL 56.203125 25.203125 \nL 14.890625 25.203125 \nQ 15.484375 15.921875 20.484375 11.0625 \nQ 25.484375 6.203125 34.421875 6.203125 \nQ 39.59375 6.203125 44.453125 7.46875 \nQ 49.3125 8.734375 54.109375 11.28125 \nL 54.109375 2.78125 \nQ 49.265625 0.734375 44.1875 -0.34375 \nQ 39.109375 -1.421875 33.890625 -1.421875 \nQ 20.796875 -1.421875 13.15625 6.1875 \nQ 5.515625 13.8125 5.515625 26.8125 \nQ 5.515625 40.234375 12.765625 48.109375 \nQ 20.015625 56 32.328125 56 \nQ 43.359375 56 49.78125 48.890625 \nQ 56.203125 41.796875 56.203125 29.59375 \nz\nM 47.21875 32.234375 \nQ 47.125 39.59375 43.09375 43.984375 \nQ 39.0625 48.390625 32.421875 48.390625 \nQ 24.90625 48.390625 20.390625 44.140625 \nQ 15.875 39.890625 15.1875 32.171875 \nz\n\" id=\"DejaVuSans-101\"/>\n       <path d=\"M 37.109375 75.984375 \nL 37.109375 68.5 \nL 28.515625 68.5 \nQ 23.6875 68.5 21.796875 66.546875 \nQ 19.921875 64.59375 19.921875 59.515625 \nL 19.921875 54.6875 \nL 34.71875 54.6875 \nL 34.71875 47.703125 \nL 19.921875 47.703125 \nL 19.921875 0 \nL 10.890625 0 \nL 10.890625 47.703125 \nL 2.296875 47.703125 \nL 2.296875 54.6875 \nL 10.890625 54.6875 \nL 10.890625 58.5 \nQ 10.890625 67.625 15.140625 71.796875 \nQ 19.390625 75.984375 28.609375 75.984375 \nz\n\" id=\"DejaVuSans-102\"/>\n      </defs>\n      <use xlink:href=\"#DejaVuSans-67\"/>\n      <use x=\"69.824219\" xlink:href=\"#DejaVuSans-57\"/>\n      <use x=\"133.447266\" xlink:href=\"#DejaVuSans-32\"/>\n      <use x=\"165.234375\" xlink:href=\"#DejaVuSans-99\"/>\n      <use x=\"220.214844\" xlink:href=\"#DejaVuSans-111\"/>\n      <use x=\"281.396484\" xlink:href=\"#DejaVuSans-101\"/>\n      <use x=\"342.919922\" xlink:href=\"#DejaVuSans-102\"/>\n      <use x=\"370.875\" xlink:href=\"#DejaVuSans-46\"/>\n     </g>\n    </g>\n   </g>\n   <g id=\"matplotlib.axis_2\">\n    <g id=\"ytick_1\">\n     <g id=\"line2d_10\">\n      <defs>\n       <path d=\"M 0 0 \nL -3.5 0 \n\" id=\"mc9b2eb0129\" style=\"stroke:#000000;stroke-width:0.8;\"/>\n      </defs>\n      <g>\n       <use style=\"stroke:#000000;stroke-width:0.8;\" x=\"46.965625\" xlink:href=\"#mc9b2eb0129\" y=\"232.270149\"/>\n      </g>\n     </g>\n     <g id=\"text_11\">\n      <!-- 0 -->\n      <g transform=\"translate(33.603125 236.069368)scale(0.1 -0.1)\">\n       <use xlink:href=\"#DejaVuSans-48\"/>\n      </g>\n     </g>\n    </g>\n    <g id=\"ytick_2\">\n     <g id=\"line2d_11\">\n      <g>\n       <use style=\"stroke:#000000;stroke-width:0.8;\" x=\"46.965625\" xlink:href=\"#mc9b2eb0129\" y=\"185.827454\"/>\n      </g>\n     </g>\n     <g id=\"text_12\">\n      <!-- 50 -->\n      <g transform=\"translate(27.240625 189.626673)scale(0.1 -0.1)\">\n       <use xlink:href=\"#DejaVuSans-53\"/>\n       <use x=\"63.623047\" xlink:href=\"#DejaVuSans-48\"/>\n      </g>\n     </g>\n    </g>\n    <g id=\"ytick_3\">\n     <g id=\"line2d_12\">\n      <g>\n       <use style=\"stroke:#000000;stroke-width:0.8;\" x=\"46.965625\" xlink:href=\"#mc9b2eb0129\" y=\"139.38476\"/>\n      </g>\n     </g>\n     <g id=\"text_13\">\n      <!-- 100 -->\n      <g transform=\"translate(20.878125 143.183979)scale(0.1 -0.1)\">\n       <use xlink:href=\"#DejaVuSans-49\"/>\n       <use x=\"63.623047\" xlink:href=\"#DejaVuSans-48\"/>\n       <use x=\"127.246094\" xlink:href=\"#DejaVuSans-48\"/>\n      </g>\n     </g>\n    </g>\n    <g id=\"ytick_4\">\n     <g id=\"line2d_13\">\n      <g>\n       <use style=\"stroke:#000000;stroke-width:0.8;\" x=\"46.965625\" xlink:href=\"#mc9b2eb0129\" y=\"92.942065\"/>\n      </g>\n     </g>\n     <g id=\"text_14\">\n      <!-- 150 -->\n      <g transform=\"translate(20.878125 96.741284)scale(0.1 -0.1)\">\n       <use xlink:href=\"#DejaVuSans-49\"/>\n       <use x=\"63.623047\" xlink:href=\"#DejaVuSans-53\"/>\n       <use x=\"127.246094\" xlink:href=\"#DejaVuSans-48\"/>\n      </g>\n     </g>\n    </g>\n    <g id=\"ytick_5\">\n     <g id=\"line2d_14\">\n      <g>\n       <use style=\"stroke:#000000;stroke-width:0.8;\" x=\"46.965625\" xlink:href=\"#mc9b2eb0129\" y=\"46.499371\"/>\n      </g>\n     </g>\n     <g id=\"text_15\">\n      <!-- 200 -->\n      <g transform=\"translate(20.878125 50.298589)scale(0.1 -0.1)\">\n       <use xlink:href=\"#DejaVuSans-50\"/>\n       <use x=\"63.623047\" xlink:href=\"#DejaVuSans-48\"/>\n       <use x=\"127.246094\" xlink:href=\"#DejaVuSans-48\"/>\n      </g>\n     </g>\n    </g>\n    <g id=\"text_16\">\n     <!-- Diff Loglikelihood -->\n     <g transform=\"translate(14.798438 174.127187)rotate(-90)scale(0.1 -0.1)\">\n      <defs>\n       <path d=\"M 19.671875 64.796875 \nL 19.671875 8.109375 \nL 31.59375 8.109375 \nQ 46.6875 8.109375 53.6875 14.9375 \nQ 60.6875 21.78125 60.6875 36.53125 \nQ 60.6875 51.171875 53.6875 57.984375 \nQ 46.6875 64.796875 31.59375 64.796875 \nz\nM 9.8125 72.90625 \nL 30.078125 72.90625 \nQ 51.265625 72.90625 61.171875 64.09375 \nQ 71.09375 55.28125 71.09375 36.53125 \nQ 71.09375 17.671875 61.125 8.828125 \nQ 51.171875 0 30.078125 0 \nL 9.8125 0 \nz\n\" id=\"DejaVuSans-68\"/>\n       <path d=\"M 9.421875 54.6875 \nL 18.40625 54.6875 \nL 18.40625 0 \nL 9.421875 0 \nz\nM 9.421875 75.984375 \nL 18.40625 75.984375 \nL 18.40625 64.59375 \nL 9.421875 64.59375 \nz\n\" id=\"DejaVuSans-105\"/>\n       <path d=\"M 9.8125 72.90625 \nL 19.671875 72.90625 \nL 19.671875 8.296875 \nL 55.171875 8.296875 \nL 55.171875 0 \nL 9.8125 0 \nz\n\" id=\"DejaVuSans-76\"/>\n       <path d=\"M 45.40625 27.984375 \nQ 45.40625 37.75 41.375 43.109375 \nQ 37.359375 48.484375 30.078125 48.484375 \nQ 22.859375 48.484375 18.828125 43.109375 \nQ 14.796875 37.75 14.796875 27.984375 \nQ 14.796875 18.265625 18.828125 12.890625 \nQ 22.859375 7.515625 30.078125 7.515625 \nQ 37.359375 7.515625 41.375 12.890625 \nQ 45.40625 18.265625 45.40625 27.984375 \nz\nM 54.390625 6.78125 \nQ 54.390625 -7.171875 48.1875 -13.984375 \nQ 42 -20.796875 29.203125 -20.796875 \nQ 24.46875 -20.796875 20.265625 -20.09375 \nQ 16.0625 -19.390625 12.109375 -17.921875 \nL 12.109375 -9.1875 \nQ 16.0625 -11.328125 19.921875 -12.34375 \nQ 23.78125 -13.375 27.78125 -13.375 \nQ 36.625 -13.375 41.015625 -8.765625 \nQ 45.40625 -4.15625 45.40625 5.171875 \nL 45.40625 9.625 \nQ 42.625 4.78125 38.28125 2.390625 \nQ 33.9375 0 27.875 0 \nQ 17.828125 0 11.671875 7.65625 \nQ 5.515625 15.328125 5.515625 27.984375 \nQ 5.515625 40.671875 11.671875 48.328125 \nQ 17.828125 56 27.875 56 \nQ 33.9375 56 38.28125 53.609375 \nQ 42.625 51.21875 45.40625 46.390625 \nL 45.40625 54.6875 \nL 54.390625 54.6875 \nz\n\" id=\"DejaVuSans-103\"/>\n       <path d=\"M 9.421875 75.984375 \nL 18.40625 75.984375 \nL 18.40625 0 \nL 9.421875 0 \nz\n\" id=\"DejaVuSans-108\"/>\n       <path d=\"M 9.078125 75.984375 \nL 18.109375 75.984375 \nL 18.109375 31.109375 \nL 44.921875 54.6875 \nL 56.390625 54.6875 \nL 27.390625 29.109375 \nL 57.625 0 \nL 45.90625 0 \nL 18.109375 26.703125 \nL 18.109375 0 \nL 9.078125 0 \nz\n\" id=\"DejaVuSans-107\"/>\n       <path d=\"M 54.890625 33.015625 \nL 54.890625 0 \nL 45.90625 0 \nL 45.90625 32.71875 \nQ 45.90625 40.484375 42.875 44.328125 \nQ 39.84375 48.1875 33.796875 48.1875 \nQ 26.515625 48.1875 22.3125 43.546875 \nQ 18.109375 38.921875 18.109375 30.90625 \nL 18.109375 0 \nL 9.078125 0 \nL 9.078125 75.984375 \nL 18.109375 75.984375 \nL 18.109375 46.1875 \nQ 21.34375 51.125 25.703125 53.5625 \nQ 30.078125 56 35.796875 56 \nQ 45.21875 56 50.046875 50.171875 \nQ 54.890625 44.34375 54.890625 33.015625 \nz\n\" id=\"DejaVuSans-104\"/>\n       <path d=\"M 45.40625 46.390625 \nL 45.40625 75.984375 \nL 54.390625 75.984375 \nL 54.390625 0 \nL 45.40625 0 \nL 45.40625 8.203125 \nQ 42.578125 3.328125 38.25 0.953125 \nQ 33.9375 -1.421875 27.875 -1.421875 \nQ 17.96875 -1.421875 11.734375 6.484375 \nQ 5.515625 14.40625 5.515625 27.296875 \nQ 5.515625 40.1875 11.734375 48.09375 \nQ 17.96875 56 27.875 56 \nQ 33.9375 56 38.25 53.625 \nQ 42.578125 51.265625 45.40625 46.390625 \nz\nM 14.796875 27.296875 \nQ 14.796875 17.390625 18.875 11.75 \nQ 22.953125 6.109375 30.078125 6.109375 \nQ 37.203125 6.109375 41.296875 11.75 \nQ 45.40625 17.390625 45.40625 27.296875 \nQ 45.40625 37.203125 41.296875 42.84375 \nQ 37.203125 48.484375 30.078125 48.484375 \nQ 22.953125 48.484375 18.875 42.84375 \nQ 14.796875 37.203125 14.796875 27.296875 \nz\n\" id=\"DejaVuSans-100\"/>\n      </defs>\n      <use xlink:href=\"#DejaVuSans-68\"/>\n      <use x=\"77.001953\" xlink:href=\"#DejaVuSans-105\"/>\n      <use x=\"104.785156\" xlink:href=\"#DejaVuSans-102\"/>\n      <use x=\"139.990234\" xlink:href=\"#DejaVuSans-102\"/>\n      <use x=\"175.195312\" xlink:href=\"#DejaVuSans-32\"/>\n      <use x=\"206.982422\" xlink:href=\"#DejaVuSans-76\"/>\n      <use x=\"260.945312\" xlink:href=\"#DejaVuSans-111\"/>\n      <use x=\"322.126953\" xlink:href=\"#DejaVuSans-103\"/>\n      <use x=\"385.603516\" xlink:href=\"#DejaVuSans-108\"/>\n      <use x=\"413.386719\" xlink:href=\"#DejaVuSans-105\"/>\n      <use x=\"441.169922\" xlink:href=\"#DejaVuSans-107\"/>\n      <use x=\"495.455078\" xlink:href=\"#DejaVuSans-101\"/>\n      <use x=\"556.978516\" xlink:href=\"#DejaVuSans-108\"/>\n      <use x=\"584.761719\" xlink:href=\"#DejaVuSans-105\"/>\n      <use x=\"612.544922\" xlink:href=\"#DejaVuSans-104\"/>\n      <use x=\"675.923828\" xlink:href=\"#DejaVuSans-111\"/>\n      <use x=\"737.105469\" xlink:href=\"#DejaVuSans-111\"/>\n      <use x=\"798.287109\" xlink:href=\"#DejaVuSans-100\"/>\n     </g>\n    </g>\n   </g>\n   <g id=\"LineCollection_1\">\n    <path clip-path=\"url(#p04cdf9f428)\" d=\"M 62.183807 74.974438 \nL 62.183807 32.201761 \n\" style=\"fill:none;stroke:#1f77b4;stroke-width:1.5;\"/>\n    <path clip-path=\"url(#p04cdf9f428)\" d=\"M 77.401989 73.668166 \nL 77.401989 58.179151 \n\" style=\"fill:none;stroke:#1f77b4;stroke-width:1.5;\"/>\n    <path clip-path=\"url(#p04cdf9f428)\" d=\"M 92.62017 97.86732 \nL 92.62017 85.081866 \n\" style=\"fill:none;stroke:#1f77b4;stroke-width:1.5;\"/>\n    <path clip-path=\"url(#p04cdf9f428)\" d=\"M 107.838352 136.251795 \nL 107.838352 118.183358 \n\" style=\"fill:none;stroke:#1f77b4;stroke-width:1.5;\"/>\n    <path clip-path=\"url(#p04cdf9f428)\" d=\"M 123.056534 131.629484 \nL 123.056534 121.632631 \n\" style=\"fill:none;stroke:#1f77b4;stroke-width:1.5;\"/>\n    <path clip-path=\"url(#p04cdf9f428)\" d=\"M 138.274716 144.030147 \nL 138.274716 138.283134 \n\" style=\"fill:none;stroke:#1f77b4;stroke-width:1.5;\"/>\n    <path clip-path=\"url(#p04cdf9f428)\" d=\"M 153.492898 163.372324 \nL 153.492898 156.995182 \n\" style=\"fill:none;stroke:#1f77b4;stroke-width:1.5;\"/>\n    <path clip-path=\"url(#p04cdf9f428)\" d=\"M 168.71108 213.934332 \nL 168.71108 184.229931 \n\" style=\"fill:none;stroke:#1f77b4;stroke-width:1.5;\"/>\n    <path clip-path=\"url(#p04cdf9f428)\" d=\"M 183.929261 196.919618 \nL 183.929261 192.191593 \n\" style=\"fill:none;stroke:#1f77b4;stroke-width:1.5;\"/>\n    <path clip-path=\"url(#p04cdf9f428)\" d=\"M 199.147443 229.874489 \nL 199.147443 215.425414 \n\" style=\"fill:none;stroke:#1f77b4;stroke-width:1.5;\"/>\n    <path clip-path=\"url(#p04cdf9f428)\" d=\"M 229.583807 219.213324 \nL 229.583807 211.010809 \n\" style=\"fill:none;stroke:#1f77b4;stroke-width:1.5;\"/>\n    <path clip-path=\"url(#p04cdf9f428)\" d=\"M 244.801989 212.239321 \nL 244.801989 191.959051 \n\" style=\"fill:none;stroke:#1f77b4;stroke-width:1.5;\"/>\n    <path clip-path=\"url(#p04cdf9f428)\" d=\"M 260.02017 186.276698 \nL 260.02017 172.151435 \n\" style=\"fill:none;stroke:#1f77b4;stroke-width:1.5;\"/>\n    <path clip-path=\"url(#p04cdf9f428)\" d=\"M 275.238352 170.007365 \nL 275.238352 160.878404 \n\" style=\"fill:none;stroke:#1f77b4;stroke-width:1.5;\"/>\n    <path clip-path=\"url(#p04cdf9f428)\" d=\"M 290.456534 142.316273 \nL 290.456534 138.42658 \n\" style=\"fill:none;stroke:#1f77b4;stroke-width:1.5;\"/>\n    <path clip-path=\"url(#p04cdf9f428)\" d=\"M 305.674716 172.637258 \nL 305.674716 145.659917 \n\" style=\"fill:none;stroke:#1f77b4;stroke-width:1.5;\"/>\n    <path clip-path=\"url(#p04cdf9f428)\" d=\"M 320.892898 86.983049 \nL 320.892898 70.520591 \n\" style=\"fill:none;stroke:#1f77b4;stroke-width:1.5;\"/>\n    <path clip-path=\"url(#p04cdf9f428)\" d=\"M 336.11108 120.306717 \nL 336.11108 100.939681 \n\" style=\"fill:none;stroke:#1f77b4;stroke-width:1.5;\"/>\n    <path clip-path=\"url(#p04cdf9f428)\" d=\"M 351.329261 88.716427 \nL 351.329261 76.728462 \n\" style=\"fill:none;stroke:#1f77b4;stroke-width:1.5;\"/>\n    <path clip-path=\"url(#p04cdf9f428)\" d=\"M 366.547443 83.936684 \nL 366.547443 75.444678 \n\" style=\"fill:none;stroke:#1f77b4;stroke-width:1.5;\"/>\n   </g>\n   <g id=\"line2d_15\">\n    <defs>\n     <path d=\"M 4 0 \nL -4 -0 \n\" id=\"md69582e4c9\" style=\"stroke:#1f77b4;\"/>\n    </defs>\n    <g clip-path=\"url(#p04cdf9f428)\">\n     <use style=\"fill:#1f77b4;stroke:#1f77b4;\" x=\"62.183807\" xlink:href=\"#md69582e4c9\" y=\"74.974438\"/>\n     <use style=\"fill:#1f77b4;stroke:#1f77b4;\" x=\"77.401989\" xlink:href=\"#md69582e4c9\" y=\"73.668166\"/>\n     <use style=\"fill:#1f77b4;stroke:#1f77b4;\" x=\"92.62017\" xlink:href=\"#md69582e4c9\" y=\"97.86732\"/>\n     <use style=\"fill:#1f77b4;stroke:#1f77b4;\" x=\"107.838352\" xlink:href=\"#md69582e4c9\" y=\"136.251795\"/>\n     <use style=\"fill:#1f77b4;stroke:#1f77b4;\" x=\"123.056534\" xlink:href=\"#md69582e4c9\" y=\"131.629484\"/>\n     <use style=\"fill:#1f77b4;stroke:#1f77b4;\" x=\"138.274716\" xlink:href=\"#md69582e4c9\" y=\"144.030147\"/>\n     <use style=\"fill:#1f77b4;stroke:#1f77b4;\" x=\"153.492898\" xlink:href=\"#md69582e4c9\" y=\"163.372324\"/>\n     <use style=\"fill:#1f77b4;stroke:#1f77b4;\" x=\"168.71108\" xlink:href=\"#md69582e4c9\" y=\"213.934332\"/>\n     <use style=\"fill:#1f77b4;stroke:#1f77b4;\" x=\"183.929261\" xlink:href=\"#md69582e4c9\" y=\"196.919618\"/>\n     <use style=\"fill:#1f77b4;stroke:#1f77b4;\" x=\"199.147443\" xlink:href=\"#md69582e4c9\" y=\"229.874489\"/>\n     <use style=\"fill:#1f77b4;stroke:#1f77b4;\" x=\"229.583807\" xlink:href=\"#md69582e4c9\" y=\"219.213324\"/>\n     <use style=\"fill:#1f77b4;stroke:#1f77b4;\" x=\"244.801989\" xlink:href=\"#md69582e4c9\" y=\"212.239321\"/>\n     <use style=\"fill:#1f77b4;stroke:#1f77b4;\" x=\"260.02017\" xlink:href=\"#md69582e4c9\" y=\"186.276698\"/>\n     <use style=\"fill:#1f77b4;stroke:#1f77b4;\" x=\"275.238352\" xlink:href=\"#md69582e4c9\" y=\"170.007365\"/>\n     <use style=\"fill:#1f77b4;stroke:#1f77b4;\" x=\"290.456534\" xlink:href=\"#md69582e4c9\" y=\"142.316273\"/>\n     <use style=\"fill:#1f77b4;stroke:#1f77b4;\" x=\"305.674716\" xlink:href=\"#md69582e4c9\" y=\"172.637258\"/>\n     <use style=\"fill:#1f77b4;stroke:#1f77b4;\" x=\"320.892898\" xlink:href=\"#md69582e4c9\" y=\"86.983049\"/>\n     <use style=\"fill:#1f77b4;stroke:#1f77b4;\" x=\"336.11108\" xlink:href=\"#md69582e4c9\" y=\"120.306717\"/>\n     <use style=\"fill:#1f77b4;stroke:#1f77b4;\" x=\"351.329261\" xlink:href=\"#md69582e4c9\" y=\"88.716427\"/>\n     <use style=\"fill:#1f77b4;stroke:#1f77b4;\" x=\"366.547443\" xlink:href=\"#md69582e4c9\" y=\"83.936684\"/>\n    </g>\n   </g>\n   <g id=\"line2d_16\">\n    <g clip-path=\"url(#p04cdf9f428)\">\n     <use style=\"fill:#1f77b4;stroke:#1f77b4;\" x=\"62.183807\" xlink:href=\"#md69582e4c9\" y=\"32.201761\"/>\n     <use style=\"fill:#1f77b4;stroke:#1f77b4;\" x=\"77.401989\" xlink:href=\"#md69582e4c9\" y=\"58.179151\"/>\n     <use style=\"fill:#1f77b4;stroke:#1f77b4;\" x=\"92.62017\" xlink:href=\"#md69582e4c9\" y=\"85.081866\"/>\n     <use style=\"fill:#1f77b4;stroke:#1f77b4;\" x=\"107.838352\" xlink:href=\"#md69582e4c9\" y=\"118.183358\"/>\n     <use style=\"fill:#1f77b4;stroke:#1f77b4;\" x=\"123.056534\" xlink:href=\"#md69582e4c9\" y=\"121.632631\"/>\n     <use style=\"fill:#1f77b4;stroke:#1f77b4;\" x=\"138.274716\" xlink:href=\"#md69582e4c9\" y=\"138.283134\"/>\n     <use style=\"fill:#1f77b4;stroke:#1f77b4;\" x=\"153.492898\" xlink:href=\"#md69582e4c9\" y=\"156.995182\"/>\n     <use style=\"fill:#1f77b4;stroke:#1f77b4;\" x=\"168.71108\" xlink:href=\"#md69582e4c9\" y=\"184.229931\"/>\n     <use style=\"fill:#1f77b4;stroke:#1f77b4;\" x=\"183.929261\" xlink:href=\"#md69582e4c9\" y=\"192.191593\"/>\n     <use style=\"fill:#1f77b4;stroke:#1f77b4;\" x=\"199.147443\" xlink:href=\"#md69582e4c9\" y=\"215.425414\"/>\n     <use style=\"fill:#1f77b4;stroke:#1f77b4;\" x=\"229.583807\" xlink:href=\"#md69582e4c9\" y=\"211.010809\"/>\n     <use style=\"fill:#1f77b4;stroke:#1f77b4;\" x=\"244.801989\" xlink:href=\"#md69582e4c9\" y=\"191.959051\"/>\n     <use style=\"fill:#1f77b4;stroke:#1f77b4;\" x=\"260.02017\" xlink:href=\"#md69582e4c9\" y=\"172.151435\"/>\n     <use style=\"fill:#1f77b4;stroke:#1f77b4;\" x=\"275.238352\" xlink:href=\"#md69582e4c9\" y=\"160.878404\"/>\n     <use style=\"fill:#1f77b4;stroke:#1f77b4;\" x=\"290.456534\" xlink:href=\"#md69582e4c9\" y=\"138.42658\"/>\n     <use style=\"fill:#1f77b4;stroke:#1f77b4;\" x=\"305.674716\" xlink:href=\"#md69582e4c9\" y=\"145.659917\"/>\n     <use style=\"fill:#1f77b4;stroke:#1f77b4;\" x=\"320.892898\" xlink:href=\"#md69582e4c9\" y=\"70.520591\"/>\n     <use style=\"fill:#1f77b4;stroke:#1f77b4;\" x=\"336.11108\" xlink:href=\"#md69582e4c9\" y=\"100.939681\"/>\n     <use style=\"fill:#1f77b4;stroke:#1f77b4;\" x=\"351.329261\" xlink:href=\"#md69582e4c9\" y=\"76.728462\"/>\n     <use style=\"fill:#1f77b4;stroke:#1f77b4;\" x=\"366.547443\" xlink:href=\"#md69582e4c9\" y=\"75.444678\"/>\n    </g>\n   </g>\n   <g id=\"line2d_17\">\n    <defs>\n     <path d=\"M 0 1.5 \nC 0.397805 1.5 0.77937 1.341951 1.06066 1.06066 \nC 1.341951 0.77937 1.5 0.397805 1.5 0 \nC 1.5 -0.397805 1.341951 -0.77937 1.06066 -1.06066 \nC 0.77937 -1.341951 0.397805 -1.5 0 -1.5 \nC -0.397805 -1.5 -0.77937 -1.341951 -1.06066 -1.06066 \nC -1.341951 -0.77937 -1.5 -0.397805 -1.5 0 \nC -1.5 0.397805 -1.341951 0.77937 -1.06066 1.06066 \nC -0.77937 1.341951 -0.397805 1.5 0 1.5 \nz\n\" id=\"m2a769babc1\" style=\"stroke:#1f77b4;\"/>\n    </defs>\n    <g clip-path=\"url(#p04cdf9f428)\">\n     <use style=\"fill:#1f77b4;stroke:#1f77b4;\" x=\"62.183807\" xlink:href=\"#m2a769babc1\" y=\"53.5881\"/>\n     <use style=\"fill:#1f77b4;stroke:#1f77b4;\" x=\"77.401989\" xlink:href=\"#m2a769babc1\" y=\"65.923658\"/>\n     <use style=\"fill:#1f77b4;stroke:#1f77b4;\" x=\"92.62017\" xlink:href=\"#m2a769babc1\" y=\"91.474593\"/>\n     <use style=\"fill:#1f77b4;stroke:#1f77b4;\" x=\"107.838352\" xlink:href=\"#m2a769babc1\" y=\"127.217577\"/>\n     <use style=\"fill:#1f77b4;stroke:#1f77b4;\" x=\"123.056534\" xlink:href=\"#m2a769babc1\" y=\"126.631057\"/>\n     <use style=\"fill:#1f77b4;stroke:#1f77b4;\" x=\"138.274716\" xlink:href=\"#m2a769babc1\" y=\"141.156641\"/>\n     <use style=\"fill:#1f77b4;stroke:#1f77b4;\" x=\"153.492898\" xlink:href=\"#m2a769babc1\" y=\"160.183753\"/>\n     <use style=\"fill:#1f77b4;stroke:#1f77b4;\" x=\"168.71108\" xlink:href=\"#m2a769babc1\" y=\"199.082132\"/>\n     <use style=\"fill:#1f77b4;stroke:#1f77b4;\" x=\"183.929261\" xlink:href=\"#m2a769babc1\" y=\"194.555606\"/>\n     <use style=\"fill:#1f77b4;stroke:#1f77b4;\" x=\"199.147443\" xlink:href=\"#m2a769babc1\" y=\"222.649951\"/>\n     <use style=\"fill:#1f77b4;stroke:#1f77b4;\" x=\"229.583807\" xlink:href=\"#m2a769babc1\" y=\"215.112067\"/>\n     <use style=\"fill:#1f77b4;stroke:#1f77b4;\" x=\"244.801989\" xlink:href=\"#m2a769babc1\" y=\"202.099186\"/>\n     <use style=\"fill:#1f77b4;stroke:#1f77b4;\" x=\"260.02017\" xlink:href=\"#m2a769babc1\" y=\"179.214066\"/>\n     <use style=\"fill:#1f77b4;stroke:#1f77b4;\" x=\"275.238352\" xlink:href=\"#m2a769babc1\" y=\"165.442884\"/>\n     <use style=\"fill:#1f77b4;stroke:#1f77b4;\" x=\"290.456534\" xlink:href=\"#m2a769babc1\" y=\"140.371426\"/>\n     <use style=\"fill:#1f77b4;stroke:#1f77b4;\" x=\"305.674716\" xlink:href=\"#m2a769babc1\" y=\"159.148588\"/>\n     <use style=\"fill:#1f77b4;stroke:#1f77b4;\" x=\"320.892898\" xlink:href=\"#m2a769babc1\" y=\"78.75182\"/>\n     <use style=\"fill:#1f77b4;stroke:#1f77b4;\" x=\"336.11108\" xlink:href=\"#m2a769babc1\" y=\"110.623199\"/>\n     <use style=\"fill:#1f77b4;stroke:#1f77b4;\" x=\"351.329261\" xlink:href=\"#m2a769babc1\" y=\"82.722445\"/>\n     <use style=\"fill:#1f77b4;stroke:#1f77b4;\" x=\"366.547443\" xlink:href=\"#m2a769babc1\" y=\"79.690681\"/>\n    </g>\n   </g>\n   <g id=\"patch_3\">\n    <path d=\"M 46.965625 239.758125 \nL 46.965625 22.318125 \n\" style=\"fill:none;stroke:#000000;stroke-linecap:square;stroke-linejoin:miter;stroke-width:0.8;\"/>\n   </g>\n   <g id=\"patch_4\">\n    <path d=\"M 381.765625 239.758125 \nL 381.765625 22.318125 \n\" style=\"fill:none;stroke:#000000;stroke-linecap:square;stroke-linejoin:miter;stroke-width:0.8;\"/>\n   </g>\n   <g id=\"patch_5\">\n    <path d=\"M 46.965625 239.758125 \nL 381.765625 239.758125 \n\" style=\"fill:none;stroke:#000000;stroke-linecap:square;stroke-linejoin:miter;stroke-width:0.8;\"/>\n   </g>\n   <g id=\"patch_6\">\n    <path d=\"M 46.965625 22.318125 \nL 381.765625 22.318125 \n\" style=\"fill:none;stroke:#000000;stroke-linecap:square;stroke-linejoin:miter;stroke-width:0.8;\"/>\n   </g>\n   <g id=\"text_17\">\n    <!-- MLP Classifier for SM data -->\n    <g transform=\"translate(136.460313 16.318125)scale(0.12 -0.12)\">\n     <defs>\n      <path d=\"M 9.8125 72.90625 \nL 24.515625 72.90625 \nL 43.109375 23.296875 \nL 61.8125 72.90625 \nL 76.515625 72.90625 \nL 76.515625 0 \nL 66.890625 0 \nL 66.890625 64.015625 \nL 48.09375 14.015625 \nL 38.1875 14.015625 \nL 19.390625 64.015625 \nL 19.390625 0 \nL 9.8125 0 \nz\n\" id=\"DejaVuSans-77\"/>\n      <path d=\"M 19.671875 64.796875 \nL 19.671875 37.40625 \nL 32.078125 37.40625 \nQ 38.96875 37.40625 42.71875 40.96875 \nQ 46.484375 44.53125 46.484375 51.125 \nQ 46.484375 57.671875 42.71875 61.234375 \nQ 38.96875 64.796875 32.078125 64.796875 \nz\nM 9.8125 72.90625 \nL 32.078125 72.90625 \nQ 44.34375 72.90625 50.609375 67.359375 \nQ 56.890625 61.8125 56.890625 51.125 \nQ 56.890625 40.328125 50.609375 34.8125 \nQ 44.34375 29.296875 32.078125 29.296875 \nL 19.671875 29.296875 \nL 19.671875 0 \nL 9.8125 0 \nz\n\" id=\"DejaVuSans-80\"/>\n      <path d=\"M 34.28125 27.484375 \nQ 23.390625 27.484375 19.1875 25 \nQ 14.984375 22.515625 14.984375 16.5 \nQ 14.984375 11.71875 18.140625 8.90625 \nQ 21.296875 6.109375 26.703125 6.109375 \nQ 34.1875 6.109375 38.703125 11.40625 \nQ 43.21875 16.703125 43.21875 25.484375 \nL 43.21875 27.484375 \nz\nM 52.203125 31.203125 \nL 52.203125 0 \nL 43.21875 0 \nL 43.21875 8.296875 \nQ 40.140625 3.328125 35.546875 0.953125 \nQ 30.953125 -1.421875 24.3125 -1.421875 \nQ 15.921875 -1.421875 10.953125 3.296875 \nQ 6 8.015625 6 15.921875 \nQ 6 25.140625 12.171875 29.828125 \nQ 18.359375 34.515625 30.609375 34.515625 \nL 43.21875 34.515625 \nL 43.21875 35.40625 \nQ 43.21875 41.609375 39.140625 45 \nQ 35.0625 48.390625 27.6875 48.390625 \nQ 23 48.390625 18.546875 47.265625 \nQ 14.109375 46.140625 10.015625 43.890625 \nL 10.015625 52.203125 \nQ 14.9375 54.109375 19.578125 55.046875 \nQ 24.21875 56 28.609375 56 \nQ 40.484375 56 46.34375 49.84375 \nQ 52.203125 43.703125 52.203125 31.203125 \nz\n\" id=\"DejaVuSans-97\"/>\n      <path d=\"M 44.28125 53.078125 \nL 44.28125 44.578125 \nQ 40.484375 46.53125 36.375 47.5 \nQ 32.28125 48.484375 27.875 48.484375 \nQ 21.1875 48.484375 17.84375 46.4375 \nQ 14.5 44.390625 14.5 40.28125 \nQ 14.5 37.15625 16.890625 35.375 \nQ 19.28125 33.59375 26.515625 31.984375 \nL 29.59375 31.296875 \nQ 39.15625 29.25 43.1875 25.515625 \nQ 47.21875 21.78125 47.21875 15.09375 \nQ 47.21875 7.46875 41.1875 3.015625 \nQ 35.15625 -1.421875 24.609375 -1.421875 \nQ 20.21875 -1.421875 15.453125 -0.5625 \nQ 10.6875 0.296875 5.421875 2 \nL 5.421875 11.28125 \nQ 10.40625 8.6875 15.234375 7.390625 \nQ 20.0625 6.109375 24.8125 6.109375 \nQ 31.15625 6.109375 34.5625 8.28125 \nQ 37.984375 10.453125 37.984375 14.40625 \nQ 37.984375 18.0625 35.515625 20.015625 \nQ 33.0625 21.96875 24.703125 23.78125 \nL 21.578125 24.515625 \nQ 13.234375 26.265625 9.515625 29.90625 \nQ 5.8125 33.546875 5.8125 39.890625 \nQ 5.8125 47.609375 11.28125 51.796875 \nQ 16.75 56 26.8125 56 \nQ 31.78125 56 36.171875 55.265625 \nQ 40.578125 54.546875 44.28125 53.078125 \nz\n\" id=\"DejaVuSans-115\"/>\n      <path d=\"M 41.109375 46.296875 \nQ 39.59375 47.171875 37.8125 47.578125 \nQ 36.03125 48 33.890625 48 \nQ 26.265625 48 22.1875 43.046875 \nQ 18.109375 38.09375 18.109375 28.8125 \nL 18.109375 0 \nL 9.078125 0 \nL 9.078125 54.6875 \nL 18.109375 54.6875 \nL 18.109375 46.1875 \nQ 20.953125 51.171875 25.484375 53.578125 \nQ 30.03125 56 36.53125 56 \nQ 37.453125 56 38.578125 55.875 \nQ 39.703125 55.765625 41.0625 55.515625 \nz\n\" id=\"DejaVuSans-114\"/>\n      <path d=\"M 53.515625 70.515625 \nL 53.515625 60.890625 \nQ 47.90625 63.578125 42.921875 64.890625 \nQ 37.9375 66.21875 33.296875 66.21875 \nQ 25.25 66.21875 20.875 63.09375 \nQ 16.5 59.96875 16.5 54.203125 \nQ 16.5 49.359375 19.40625 46.890625 \nQ 22.3125 44.4375 30.421875 42.921875 \nL 36.375 41.703125 \nQ 47.40625 39.59375 52.65625 34.296875 \nQ 57.90625 29 57.90625 20.125 \nQ 57.90625 9.515625 50.796875 4.046875 \nQ 43.703125 -1.421875 29.984375 -1.421875 \nQ 24.8125 -1.421875 18.96875 -0.25 \nQ 13.140625 0.921875 6.890625 3.21875 \nL 6.890625 13.375 \nQ 12.890625 10.015625 18.65625 8.296875 \nQ 24.421875 6.59375 29.984375 6.59375 \nQ 38.421875 6.59375 43.015625 9.90625 \nQ 47.609375 13.234375 47.609375 19.390625 \nQ 47.609375 24.75 44.3125 27.78125 \nQ 41.015625 30.8125 33.5 32.328125 \nL 27.484375 33.5 \nQ 16.453125 35.6875 11.515625 40.375 \nQ 6.59375 45.0625 6.59375 53.421875 \nQ 6.59375 63.09375 13.40625 68.65625 \nQ 20.21875 74.21875 32.171875 74.21875 \nQ 37.3125 74.21875 42.625 73.28125 \nQ 47.953125 72.359375 53.515625 70.515625 \nz\n\" id=\"DejaVuSans-83\"/>\n      <path d=\"M 18.3125 70.21875 \nL 18.3125 54.6875 \nL 36.8125 54.6875 \nL 36.8125 47.703125 \nL 18.3125 47.703125 \nL 18.3125 18.015625 \nQ 18.3125 11.328125 20.140625 9.421875 \nQ 21.96875 7.515625 27.59375 7.515625 \nL 36.8125 7.515625 \nL 36.8125 0 \nL 27.59375 0 \nQ 17.1875 0 13.234375 3.875 \nQ 9.28125 7.765625 9.28125 18.015625 \nL 9.28125 47.703125 \nL 2.6875 47.703125 \nL 2.6875 54.6875 \nL 9.28125 54.6875 \nL 9.28125 70.21875 \nz\n\" id=\"DejaVuSans-116\"/>\n     </defs>\n     <use xlink:href=\"#DejaVuSans-77\"/>\n     <use x=\"86.279297\" xlink:href=\"#DejaVuSans-76\"/>\n     <use x=\"141.992188\" xlink:href=\"#DejaVuSans-80\"/>\n     <use x=\"202.294922\" xlink:href=\"#DejaVuSans-32\"/>\n     <use x=\"234.082031\" xlink:href=\"#DejaVuSans-67\"/>\n     <use x=\"303.90625\" xlink:href=\"#DejaVuSans-108\"/>\n     <use x=\"331.689453\" xlink:href=\"#DejaVuSans-97\"/>\n     <use x=\"392.96875\" xlink:href=\"#DejaVuSans-115\"/>\n     <use x=\"445.068359\" xlink:href=\"#DejaVuSans-115\"/>\n     <use x=\"497.167969\" xlink:href=\"#DejaVuSans-105\"/>\n     <use x=\"524.951172\" xlink:href=\"#DejaVuSans-102\"/>\n     <use x=\"560.15625\" xlink:href=\"#DejaVuSans-105\"/>\n     <use x=\"587.939453\" xlink:href=\"#DejaVuSans-101\"/>\n     <use x=\"649.462891\" xlink:href=\"#DejaVuSans-114\"/>\n     <use x=\"690.576172\" xlink:href=\"#DejaVuSans-32\"/>\n     <use x=\"722.363281\" xlink:href=\"#DejaVuSans-102\"/>\n     <use x=\"757.568359\" xlink:href=\"#DejaVuSans-111\"/>\n     <use x=\"818.75\" xlink:href=\"#DejaVuSans-114\"/>\n     <use x=\"859.863281\" xlink:href=\"#DejaVuSans-32\"/>\n     <use x=\"891.650391\" xlink:href=\"#DejaVuSans-83\"/>\n     <use x=\"955.126953\" xlink:href=\"#DejaVuSans-77\"/>\n     <use x=\"1041.40625\" xlink:href=\"#DejaVuSans-32\"/>\n     <use x=\"1073.193359\" xlink:href=\"#DejaVuSans-100\"/>\n     <use x=\"1136.669922\" xlink:href=\"#DejaVuSans-97\"/>\n     <use x=\"1197.949219\" xlink:href=\"#DejaVuSans-116\"/>\n     <use x=\"1237.158203\" xlink:href=\"#DejaVuSans-97\"/>\n    </g>\n   </g>\n   <g id=\"legend_1\">\n    <g id=\"patch_7\">\n     <path d=\"M 327.789062 44.99625 \nL 374.765625 44.99625 \nQ 376.765625 44.99625 376.765625 42.99625 \nL 376.765625 29.318125 \nQ 376.765625 27.318125 374.765625 27.318125 \nL 327.789062 27.318125 \nQ 325.789062 27.318125 325.789062 29.318125 \nL 325.789062 42.99625 \nQ 325.789062 44.99625 327.789062 44.99625 \nz\n\" style=\"fill:#ffffff;opacity:0.8;stroke:#cccccc;stroke-linejoin:miter;\"/>\n    </g>\n    <g id=\"LineCollection_2\">\n     <path d=\"M 339.789062 40.416562 \nL 339.789062 30.416562 \n\" style=\"fill:none;stroke:#1f77b4;stroke-width:1.5;\"/>\n    </g>\n    <g id=\"line2d_18\">\n     <g>\n      <use style=\"fill:#1f77b4;stroke:#1f77b4;\" x=\"339.789062\" xlink:href=\"#md69582e4c9\" y=\"40.416562\"/>\n     </g>\n    </g>\n    <g id=\"line2d_19\">\n     <g>\n      <use style=\"fill:#1f77b4;stroke:#1f77b4;\" x=\"339.789062\" xlink:href=\"#md69582e4c9\" y=\"30.416562\"/>\n     </g>\n    </g>\n    <g id=\"line2d_20\"/>\n    <g id=\"line2d_21\">\n     <g>\n      <use style=\"fill:#1f77b4;stroke:#1f77b4;\" x=\"339.789062\" xlink:href=\"#m2a769babc1\" y=\"35.416562\"/>\n     </g>\n    </g>\n    <g id=\"text_18\">\n     <!-- SM -->\n     <g transform=\"translate(357.789062 38.916562)scale(0.1 -0.1)\">\n      <use xlink:href=\"#DejaVuSans-83\"/>\n      <use x=\"63.476562\" xlink:href=\"#DejaVuSans-77\"/>\n     </g>\n    </g>\n   </g>\n  </g>\n </g>\n <defs>\n  <clipPath id=\"p04cdf9f428\">\n   <rect height=\"217.44\" width=\"334.8\" x=\"46.965625\" y=\"22.318125\"/>\n  </clipPath>\n </defs>\n</svg>\n",
      "text/plain": [
       "<Figure size 432x288 with 1 Axes>"
      ]
     },
     "metadata": {
      "needs_background": "light"
     },
     "output_type": "display_data"
    }
   ],
   "source": [
    "plt.errorbar(k_inverse_list, diff, marker='.', yerr=std_av0,c='tab:blue',ls='none', capsize=4,label='SM')\n",
    "# plt.errorbar(k_inverse_list, av_1, marker='.', yerr=std_av1,c='tab:orange',ls='none', capsize=4,label='C9 coef')\n",
    "plt.xlabel(\"C9 coef.\")\n",
    "plt.ylabel(\"Diff Loglikelihood\")\n",
    "plt.title('MLP Classifier for SM data')\n",
    "plt.legend()\n",
    "plt.show()"
   ]
  },
  {
   "cell_type": "code",
   "execution_count": 103,
   "metadata": {},
   "outputs": [
    {
     "data": {
      "image/svg+xml": "<?xml version=\"1.0\" encoding=\"utf-8\" standalone=\"no\"?>\n<!DOCTYPE svg PUBLIC \"-//W3C//DTD SVG 1.1//EN\"\n  \"http://www.w3.org/Graphics/SVG/1.1/DTD/svg11.dtd\">\n<!-- Created with matplotlib (https://matplotlib.org/) -->\n<svg height=\"277.314375pt\" version=\"1.1\" viewBox=\"0 0 392.14375 277.314375\" width=\"392.14375pt\" xmlns=\"http://www.w3.org/2000/svg\" xmlns:xlink=\"http://www.w3.org/1999/xlink\">\n <metadata>\n  <rdf:RDF xmlns:cc=\"http://creativecommons.org/ns#\" xmlns:dc=\"http://purl.org/dc/elements/1.1/\" xmlns:rdf=\"http://www.w3.org/1999/02/22-rdf-syntax-ns#\">\n   <cc:Work>\n    <dc:type rdf:resource=\"http://purl.org/dc/dcmitype/StillImage\"/>\n    <dc:date>2022-02-15T23:40:09.090030</dc:date>\n    <dc:format>image/svg+xml</dc:format>\n    <dc:creator>\n     <cc:Agent>\n      <dc:title>Matplotlib v3.3.2, https://matplotlib.org/</dc:title>\n     </cc:Agent>\n    </dc:creator>\n   </cc:Work>\n  </rdf:RDF>\n </metadata>\n <defs>\n  <style type=\"text/css\">*{stroke-linecap:butt;stroke-linejoin:round;}</style>\n </defs>\n <g id=\"figure_1\">\n  <g id=\"patch_1\">\n   <path d=\"M 0 277.314375 \nL 392.14375 277.314375 \nL 392.14375 0 \nL 0 0 \nz\n\" style=\"fill:none;\"/>\n  </g>\n  <g id=\"axes_1\">\n   <g id=\"patch_2\">\n    <path d=\"M 50.14375 239.758125 \nL 384.94375 239.758125 \nL 384.94375 22.318125 \nL 50.14375 22.318125 \nz\n\" style=\"fill:#ffffff;\"/>\n   </g>\n   <g id=\"matplotlib.axis_1\">\n    <g id=\"xtick_1\">\n     <g id=\"line2d_1\">\n      <defs>\n       <path d=\"M 0 0 \nL 0 3.5 \n\" id=\"m8a0e4e923c\" style=\"stroke:#000000;stroke-width:0.8;\"/>\n      </defs>\n      <g>\n       <use style=\"stroke:#000000;stroke-width:0.8;\" x=\"65.361932\" xlink:href=\"#m8a0e4e923c\" y=\"239.758125\"/>\n      </g>\n     </g>\n     <g id=\"text_1\">\n      <!-- −1.00 -->\n      <g transform=\"translate(50.039276 254.356562)scale(0.1 -0.1)\">\n       <defs>\n        <path d=\"M 10.59375 35.5 \nL 73.1875 35.5 \nL 73.1875 27.203125 \nL 10.59375 27.203125 \nz\n\" id=\"DejaVuSans-8722\"/>\n        <path d=\"M 12.40625 8.296875 \nL 28.515625 8.296875 \nL 28.515625 63.921875 \nL 10.984375 60.40625 \nL 10.984375 69.390625 \nL 28.421875 72.90625 \nL 38.28125 72.90625 \nL 38.28125 8.296875 \nL 54.390625 8.296875 \nL 54.390625 0 \nL 12.40625 0 \nz\n\" id=\"DejaVuSans-49\"/>\n        <path d=\"M 10.6875 12.40625 \nL 21 12.40625 \nL 21 0 \nL 10.6875 0 \nz\n\" id=\"DejaVuSans-46\"/>\n        <path d=\"M 31.78125 66.40625 \nQ 24.171875 66.40625 20.328125 58.90625 \nQ 16.5 51.421875 16.5 36.375 \nQ 16.5 21.390625 20.328125 13.890625 \nQ 24.171875 6.390625 31.78125 6.390625 \nQ 39.453125 6.390625 43.28125 13.890625 \nQ 47.125 21.390625 47.125 36.375 \nQ 47.125 51.421875 43.28125 58.90625 \nQ 39.453125 66.40625 31.78125 66.40625 \nz\nM 31.78125 74.21875 \nQ 44.046875 74.21875 50.515625 64.515625 \nQ 56.984375 54.828125 56.984375 36.375 \nQ 56.984375 17.96875 50.515625 8.265625 \nQ 44.046875 -1.421875 31.78125 -1.421875 \nQ 19.53125 -1.421875 13.0625 8.265625 \nQ 6.59375 17.96875 6.59375 36.375 \nQ 6.59375 54.828125 13.0625 64.515625 \nQ 19.53125 74.21875 31.78125 74.21875 \nz\n\" id=\"DejaVuSans-48\"/>\n       </defs>\n       <use xlink:href=\"#DejaVuSans-8722\"/>\n       <use x=\"83.789062\" xlink:href=\"#DejaVuSans-49\"/>\n       <use x=\"147.412109\" xlink:href=\"#DejaVuSans-46\"/>\n       <use x=\"179.199219\" xlink:href=\"#DejaVuSans-48\"/>\n       <use x=\"242.822266\" xlink:href=\"#DejaVuSans-48\"/>\n      </g>\n     </g>\n    </g>\n    <g id=\"xtick_2\">\n     <g id=\"line2d_2\">\n      <g>\n       <use style=\"stroke:#000000;stroke-width:0.8;\" x=\"103.407386\" xlink:href=\"#m8a0e4e923c\" y=\"239.758125\"/>\n      </g>\n     </g>\n     <g id=\"text_2\">\n      <!-- −0.75 -->\n      <g transform=\"translate(88.08473 254.356562)scale(0.1 -0.1)\">\n       <defs>\n        <path d=\"M 8.203125 72.90625 \nL 55.078125 72.90625 \nL 55.078125 68.703125 \nL 28.609375 0 \nL 18.3125 0 \nL 43.21875 64.59375 \nL 8.203125 64.59375 \nz\n\" id=\"DejaVuSans-55\"/>\n        <path d=\"M 10.796875 72.90625 \nL 49.515625 72.90625 \nL 49.515625 64.59375 \nL 19.828125 64.59375 \nL 19.828125 46.734375 \nQ 21.96875 47.46875 24.109375 47.828125 \nQ 26.265625 48.1875 28.421875 48.1875 \nQ 40.625 48.1875 47.75 41.5 \nQ 54.890625 34.8125 54.890625 23.390625 \nQ 54.890625 11.625 47.5625 5.09375 \nQ 40.234375 -1.421875 26.90625 -1.421875 \nQ 22.3125 -1.421875 17.546875 -0.640625 \nQ 12.796875 0.140625 7.71875 1.703125 \nL 7.71875 11.625 \nQ 12.109375 9.234375 16.796875 8.0625 \nQ 21.484375 6.890625 26.703125 6.890625 \nQ 35.15625 6.890625 40.078125 11.328125 \nQ 45.015625 15.765625 45.015625 23.390625 \nQ 45.015625 31 40.078125 35.4375 \nQ 35.15625 39.890625 26.703125 39.890625 \nQ 22.75 39.890625 18.8125 39.015625 \nQ 14.890625 38.140625 10.796875 36.28125 \nz\n\" id=\"DejaVuSans-53\"/>\n       </defs>\n       <use xlink:href=\"#DejaVuSans-8722\"/>\n       <use x=\"83.789062\" xlink:href=\"#DejaVuSans-48\"/>\n       <use x=\"147.412109\" xlink:href=\"#DejaVuSans-46\"/>\n       <use x=\"179.199219\" xlink:href=\"#DejaVuSans-55\"/>\n       <use x=\"242.822266\" xlink:href=\"#DejaVuSans-53\"/>\n      </g>\n     </g>\n    </g>\n    <g id=\"xtick_3\">\n     <g id=\"line2d_3\">\n      <g>\n       <use style=\"stroke:#000000;stroke-width:0.8;\" x=\"141.452841\" xlink:href=\"#m8a0e4e923c\" y=\"239.758125\"/>\n      </g>\n     </g>\n     <g id=\"text_3\">\n      <!-- −0.50 -->\n      <g transform=\"translate(126.130185 254.356562)scale(0.1 -0.1)\">\n       <use xlink:href=\"#DejaVuSans-8722\"/>\n       <use x=\"83.789062\" xlink:href=\"#DejaVuSans-48\"/>\n       <use x=\"147.412109\" xlink:href=\"#DejaVuSans-46\"/>\n       <use x=\"179.199219\" xlink:href=\"#DejaVuSans-53\"/>\n       <use x=\"242.822266\" xlink:href=\"#DejaVuSans-48\"/>\n      </g>\n     </g>\n    </g>\n    <g id=\"xtick_4\">\n     <g id=\"line2d_4\">\n      <g>\n       <use style=\"stroke:#000000;stroke-width:0.8;\" x=\"179.498295\" xlink:href=\"#m8a0e4e923c\" y=\"239.758125\"/>\n      </g>\n     </g>\n     <g id=\"text_4\">\n      <!-- −0.25 -->\n      <g transform=\"translate(164.175639 254.356562)scale(0.1 -0.1)\">\n       <defs>\n        <path d=\"M 19.1875 8.296875 \nL 53.609375 8.296875 \nL 53.609375 0 \nL 7.328125 0 \nL 7.328125 8.296875 \nQ 12.9375 14.109375 22.625 23.890625 \nQ 32.328125 33.6875 34.8125 36.53125 \nQ 39.546875 41.84375 41.421875 45.53125 \nQ 43.3125 49.21875 43.3125 52.78125 \nQ 43.3125 58.59375 39.234375 62.25 \nQ 35.15625 65.921875 28.609375 65.921875 \nQ 23.96875 65.921875 18.8125 64.3125 \nQ 13.671875 62.703125 7.8125 59.421875 \nL 7.8125 69.390625 \nQ 13.765625 71.78125 18.9375 73 \nQ 24.125 74.21875 28.421875 74.21875 \nQ 39.75 74.21875 46.484375 68.546875 \nQ 53.21875 62.890625 53.21875 53.421875 \nQ 53.21875 48.921875 51.53125 44.890625 \nQ 49.859375 40.875 45.40625 35.40625 \nQ 44.1875 33.984375 37.640625 27.21875 \nQ 31.109375 20.453125 19.1875 8.296875 \nz\n\" id=\"DejaVuSans-50\"/>\n       </defs>\n       <use xlink:href=\"#DejaVuSans-8722\"/>\n       <use x=\"83.789062\" xlink:href=\"#DejaVuSans-48\"/>\n       <use x=\"147.412109\" xlink:href=\"#DejaVuSans-46\"/>\n       <use x=\"179.199219\" xlink:href=\"#DejaVuSans-50\"/>\n       <use x=\"242.822266\" xlink:href=\"#DejaVuSans-53\"/>\n      </g>\n     </g>\n    </g>\n    <g id=\"xtick_5\">\n     <g id=\"line2d_5\">\n      <g>\n       <use style=\"stroke:#000000;stroke-width:0.8;\" x=\"217.54375\" xlink:href=\"#m8a0e4e923c\" y=\"239.758125\"/>\n      </g>\n     </g>\n     <g id=\"text_5\">\n      <!-- 0.00 -->\n      <g transform=\"translate(206.410938 254.356562)scale(0.1 -0.1)\">\n       <use xlink:href=\"#DejaVuSans-48\"/>\n       <use x=\"63.623047\" xlink:href=\"#DejaVuSans-46\"/>\n       <use x=\"95.410156\" xlink:href=\"#DejaVuSans-48\"/>\n       <use x=\"159.033203\" xlink:href=\"#DejaVuSans-48\"/>\n      </g>\n     </g>\n    </g>\n    <g id=\"xtick_6\">\n     <g id=\"line2d_6\">\n      <g>\n       <use style=\"stroke:#000000;stroke-width:0.8;\" x=\"255.589205\" xlink:href=\"#m8a0e4e923c\" y=\"239.758125\"/>\n      </g>\n     </g>\n     <g id=\"text_6\">\n      <!-- 0.25 -->\n      <g transform=\"translate(244.456392 254.356562)scale(0.1 -0.1)\">\n       <use xlink:href=\"#DejaVuSans-48\"/>\n       <use x=\"63.623047\" xlink:href=\"#DejaVuSans-46\"/>\n       <use x=\"95.410156\" xlink:href=\"#DejaVuSans-50\"/>\n       <use x=\"159.033203\" xlink:href=\"#DejaVuSans-53\"/>\n      </g>\n     </g>\n    </g>\n    <g id=\"xtick_7\">\n     <g id=\"line2d_7\">\n      <g>\n       <use style=\"stroke:#000000;stroke-width:0.8;\" x=\"293.634659\" xlink:href=\"#m8a0e4e923c\" y=\"239.758125\"/>\n      </g>\n     </g>\n     <g id=\"text_7\">\n      <!-- 0.50 -->\n      <g transform=\"translate(282.501847 254.356562)scale(0.1 -0.1)\">\n       <use xlink:href=\"#DejaVuSans-48\"/>\n       <use x=\"63.623047\" xlink:href=\"#DejaVuSans-46\"/>\n       <use x=\"95.410156\" xlink:href=\"#DejaVuSans-53\"/>\n       <use x=\"159.033203\" xlink:href=\"#DejaVuSans-48\"/>\n      </g>\n     </g>\n    </g>\n    <g id=\"xtick_8\">\n     <g id=\"line2d_8\">\n      <g>\n       <use style=\"stroke:#000000;stroke-width:0.8;\" x=\"331.680114\" xlink:href=\"#m8a0e4e923c\" y=\"239.758125\"/>\n      </g>\n     </g>\n     <g id=\"text_8\">\n      <!-- 0.75 -->\n      <g transform=\"translate(320.547301 254.356562)scale(0.1 -0.1)\">\n       <use xlink:href=\"#DejaVuSans-48\"/>\n       <use x=\"63.623047\" xlink:href=\"#DejaVuSans-46\"/>\n       <use x=\"95.410156\" xlink:href=\"#DejaVuSans-55\"/>\n       <use x=\"159.033203\" xlink:href=\"#DejaVuSans-53\"/>\n      </g>\n     </g>\n    </g>\n    <g id=\"xtick_9\">\n     <g id=\"line2d_9\">\n      <g>\n       <use style=\"stroke:#000000;stroke-width:0.8;\" x=\"369.725568\" xlink:href=\"#m8a0e4e923c\" y=\"239.758125\"/>\n      </g>\n     </g>\n     <g id=\"text_9\">\n      <!-- 1.00 -->\n      <g transform=\"translate(358.592756 254.356562)scale(0.1 -0.1)\">\n       <use xlink:href=\"#DejaVuSans-49\"/>\n       <use x=\"63.623047\" xlink:href=\"#DejaVuSans-46\"/>\n       <use x=\"95.410156\" xlink:href=\"#DejaVuSans-48\"/>\n       <use x=\"159.033203\" xlink:href=\"#DejaVuSans-48\"/>\n      </g>\n     </g>\n    </g>\n    <g id=\"text_10\">\n     <!-- C9 coef. -->\n     <g transform=\"translate(197.410156 268.034687)scale(0.1 -0.1)\">\n      <defs>\n       <path d=\"M 64.40625 67.28125 \nL 64.40625 56.890625 \nQ 59.421875 61.53125 53.78125 63.8125 \nQ 48.140625 66.109375 41.796875 66.109375 \nQ 29.296875 66.109375 22.65625 58.46875 \nQ 16.015625 50.828125 16.015625 36.375 \nQ 16.015625 21.96875 22.65625 14.328125 \nQ 29.296875 6.6875 41.796875 6.6875 \nQ 48.140625 6.6875 53.78125 8.984375 \nQ 59.421875 11.28125 64.40625 15.921875 \nL 64.40625 5.609375 \nQ 59.234375 2.09375 53.4375 0.328125 \nQ 47.65625 -1.421875 41.21875 -1.421875 \nQ 24.65625 -1.421875 15.125 8.703125 \nQ 5.609375 18.84375 5.609375 36.375 \nQ 5.609375 53.953125 15.125 64.078125 \nQ 24.65625 74.21875 41.21875 74.21875 \nQ 47.75 74.21875 53.53125 72.484375 \nQ 59.328125 70.75 64.40625 67.28125 \nz\n\" id=\"DejaVuSans-67\"/>\n       <path d=\"M 10.984375 1.515625 \nL 10.984375 10.5 \nQ 14.703125 8.734375 18.5 7.8125 \nQ 22.3125 6.890625 25.984375 6.890625 \nQ 35.75 6.890625 40.890625 13.453125 \nQ 46.046875 20.015625 46.78125 33.40625 \nQ 43.953125 29.203125 39.59375 26.953125 \nQ 35.25 24.703125 29.984375 24.703125 \nQ 19.046875 24.703125 12.671875 31.3125 \nQ 6.296875 37.9375 6.296875 49.421875 \nQ 6.296875 60.640625 12.9375 67.421875 \nQ 19.578125 74.21875 30.609375 74.21875 \nQ 43.265625 74.21875 49.921875 64.515625 \nQ 56.59375 54.828125 56.59375 36.375 \nQ 56.59375 19.140625 48.40625 8.859375 \nQ 40.234375 -1.421875 26.421875 -1.421875 \nQ 22.703125 -1.421875 18.890625 -0.6875 \nQ 15.09375 0.046875 10.984375 1.515625 \nz\nM 30.609375 32.421875 \nQ 37.25 32.421875 41.125 36.953125 \nQ 45.015625 41.5 45.015625 49.421875 \nQ 45.015625 57.28125 41.125 61.84375 \nQ 37.25 66.40625 30.609375 66.40625 \nQ 23.96875 66.40625 20.09375 61.84375 \nQ 16.21875 57.28125 16.21875 49.421875 \nQ 16.21875 41.5 20.09375 36.953125 \nQ 23.96875 32.421875 30.609375 32.421875 \nz\n\" id=\"DejaVuSans-57\"/>\n       <path id=\"DejaVuSans-32\"/>\n       <path d=\"M 48.78125 52.59375 \nL 48.78125 44.1875 \nQ 44.96875 46.296875 41.140625 47.34375 \nQ 37.3125 48.390625 33.40625 48.390625 \nQ 24.65625 48.390625 19.8125 42.84375 \nQ 14.984375 37.3125 14.984375 27.296875 \nQ 14.984375 17.28125 19.8125 11.734375 \nQ 24.65625 6.203125 33.40625 6.203125 \nQ 37.3125 6.203125 41.140625 7.25 \nQ 44.96875 8.296875 48.78125 10.40625 \nL 48.78125 2.09375 \nQ 45.015625 0.34375 40.984375 -0.53125 \nQ 36.96875 -1.421875 32.421875 -1.421875 \nQ 20.0625 -1.421875 12.78125 6.34375 \nQ 5.515625 14.109375 5.515625 27.296875 \nQ 5.515625 40.671875 12.859375 48.328125 \nQ 20.21875 56 33.015625 56 \nQ 37.15625 56 41.109375 55.140625 \nQ 45.0625 54.296875 48.78125 52.59375 \nz\n\" id=\"DejaVuSans-99\"/>\n       <path d=\"M 30.609375 48.390625 \nQ 23.390625 48.390625 19.1875 42.75 \nQ 14.984375 37.109375 14.984375 27.296875 \nQ 14.984375 17.484375 19.15625 11.84375 \nQ 23.34375 6.203125 30.609375 6.203125 \nQ 37.796875 6.203125 41.984375 11.859375 \nQ 46.1875 17.53125 46.1875 27.296875 \nQ 46.1875 37.015625 41.984375 42.703125 \nQ 37.796875 48.390625 30.609375 48.390625 \nz\nM 30.609375 56 \nQ 42.328125 56 49.015625 48.375 \nQ 55.71875 40.765625 55.71875 27.296875 \nQ 55.71875 13.875 49.015625 6.21875 \nQ 42.328125 -1.421875 30.609375 -1.421875 \nQ 18.84375 -1.421875 12.171875 6.21875 \nQ 5.515625 13.875 5.515625 27.296875 \nQ 5.515625 40.765625 12.171875 48.375 \nQ 18.84375 56 30.609375 56 \nz\n\" id=\"DejaVuSans-111\"/>\n       <path d=\"M 56.203125 29.59375 \nL 56.203125 25.203125 \nL 14.890625 25.203125 \nQ 15.484375 15.921875 20.484375 11.0625 \nQ 25.484375 6.203125 34.421875 6.203125 \nQ 39.59375 6.203125 44.453125 7.46875 \nQ 49.3125 8.734375 54.109375 11.28125 \nL 54.109375 2.78125 \nQ 49.265625 0.734375 44.1875 -0.34375 \nQ 39.109375 -1.421875 33.890625 -1.421875 \nQ 20.796875 -1.421875 13.15625 6.1875 \nQ 5.515625 13.8125 5.515625 26.8125 \nQ 5.515625 40.234375 12.765625 48.109375 \nQ 20.015625 56 32.328125 56 \nQ 43.359375 56 49.78125 48.890625 \nQ 56.203125 41.796875 56.203125 29.59375 \nz\nM 47.21875 32.234375 \nQ 47.125 39.59375 43.09375 43.984375 \nQ 39.0625 48.390625 32.421875 48.390625 \nQ 24.90625 48.390625 20.390625 44.140625 \nQ 15.875 39.890625 15.1875 32.171875 \nz\n\" id=\"DejaVuSans-101\"/>\n       <path d=\"M 37.109375 75.984375 \nL 37.109375 68.5 \nL 28.515625 68.5 \nQ 23.6875 68.5 21.796875 66.546875 \nQ 19.921875 64.59375 19.921875 59.515625 \nL 19.921875 54.6875 \nL 34.71875 54.6875 \nL 34.71875 47.703125 \nL 19.921875 47.703125 \nL 19.921875 0 \nL 10.890625 0 \nL 10.890625 47.703125 \nL 2.296875 47.703125 \nL 2.296875 54.6875 \nL 10.890625 54.6875 \nL 10.890625 58.5 \nQ 10.890625 67.625 15.140625 71.796875 \nQ 19.390625 75.984375 28.609375 75.984375 \nz\n\" id=\"DejaVuSans-102\"/>\n      </defs>\n      <use xlink:href=\"#DejaVuSans-67\"/>\n      <use x=\"69.824219\" xlink:href=\"#DejaVuSans-57\"/>\n      <use x=\"133.447266\" xlink:href=\"#DejaVuSans-32\"/>\n      <use x=\"165.234375\" xlink:href=\"#DejaVuSans-99\"/>\n      <use x=\"220.214844\" xlink:href=\"#DejaVuSans-111\"/>\n      <use x=\"281.396484\" xlink:href=\"#DejaVuSans-101\"/>\n      <use x=\"342.919922\" xlink:href=\"#DejaVuSans-102\"/>\n      <use x=\"370.875\" xlink:href=\"#DejaVuSans-46\"/>\n     </g>\n    </g>\n   </g>\n   <g id=\"matplotlib.axis_2\">\n    <g id=\"ytick_1\">\n     <g id=\"line2d_10\">\n      <defs>\n       <path d=\"M 0 0 \nL -3.5 0 \n\" id=\"mfb6366f050\" style=\"stroke:#000000;stroke-width:0.8;\"/>\n      </defs>\n      <g>\n       <use style=\"stroke:#000000;stroke-width:0.8;\" x=\"50.14375\" xlink:href=\"#mfb6366f050\" y=\"239.644587\"/>\n      </g>\n     </g>\n     <g id=\"text_11\">\n      <!-- 0.0 -->\n      <g transform=\"translate(27.240625 243.443806)scale(0.1 -0.1)\">\n       <use xlink:href=\"#DejaVuSans-48\"/>\n       <use x=\"63.623047\" xlink:href=\"#DejaVuSans-46\"/>\n       <use x=\"95.410156\" xlink:href=\"#DejaVuSans-48\"/>\n      </g>\n     </g>\n    </g>\n    <g id=\"ytick_2\">\n     <g id=\"line2d_11\">\n      <g>\n       <use style=\"stroke:#000000;stroke-width:0.8;\" x=\"50.14375\" xlink:href=\"#mfb6366f050\" y=\"215.354359\"/>\n      </g>\n     </g>\n     <g id=\"text_12\">\n      <!-- 2.5 -->\n      <g transform=\"translate(27.240625 219.153578)scale(0.1 -0.1)\">\n       <use xlink:href=\"#DejaVuSans-50\"/>\n       <use x=\"63.623047\" xlink:href=\"#DejaVuSans-46\"/>\n       <use x=\"95.410156\" xlink:href=\"#DejaVuSans-53\"/>\n      </g>\n     </g>\n    </g>\n    <g id=\"ytick_3\">\n     <g id=\"line2d_12\">\n      <g>\n       <use style=\"stroke:#000000;stroke-width:0.8;\" x=\"50.14375\" xlink:href=\"#mfb6366f050\" y=\"191.064131\"/>\n      </g>\n     </g>\n     <g id=\"text_13\">\n      <!-- 5.0 -->\n      <g transform=\"translate(27.240625 194.86335)scale(0.1 -0.1)\">\n       <use xlink:href=\"#DejaVuSans-53\"/>\n       <use x=\"63.623047\" xlink:href=\"#DejaVuSans-46\"/>\n       <use x=\"95.410156\" xlink:href=\"#DejaVuSans-48\"/>\n      </g>\n     </g>\n    </g>\n    <g id=\"ytick_4\">\n     <g id=\"line2d_13\">\n      <g>\n       <use style=\"stroke:#000000;stroke-width:0.8;\" x=\"50.14375\" xlink:href=\"#mfb6366f050\" y=\"166.773903\"/>\n      </g>\n     </g>\n     <g id=\"text_14\">\n      <!-- 7.5 -->\n      <g transform=\"translate(27.240625 170.573122)scale(0.1 -0.1)\">\n       <use xlink:href=\"#DejaVuSans-55\"/>\n       <use x=\"63.623047\" xlink:href=\"#DejaVuSans-46\"/>\n       <use x=\"95.410156\" xlink:href=\"#DejaVuSans-53\"/>\n      </g>\n     </g>\n    </g>\n    <g id=\"ytick_5\">\n     <g id=\"line2d_14\">\n      <g>\n       <use style=\"stroke:#000000;stroke-width:0.8;\" x=\"50.14375\" xlink:href=\"#mfb6366f050\" y=\"142.483675\"/>\n      </g>\n     </g>\n     <g id=\"text_15\">\n      <!-- 10.0 -->\n      <g transform=\"translate(20.878125 146.282894)scale(0.1 -0.1)\">\n       <use xlink:href=\"#DejaVuSans-49\"/>\n       <use x=\"63.623047\" xlink:href=\"#DejaVuSans-48\"/>\n       <use x=\"127.246094\" xlink:href=\"#DejaVuSans-46\"/>\n       <use x=\"159.033203\" xlink:href=\"#DejaVuSans-48\"/>\n      </g>\n     </g>\n    </g>\n    <g id=\"ytick_6\">\n     <g id=\"line2d_15\">\n      <g>\n       <use style=\"stroke:#000000;stroke-width:0.8;\" x=\"50.14375\" xlink:href=\"#mfb6366f050\" y=\"118.193447\"/>\n      </g>\n     </g>\n     <g id=\"text_16\">\n      <!-- 12.5 -->\n      <g transform=\"translate(20.878125 121.992666)scale(0.1 -0.1)\">\n       <use xlink:href=\"#DejaVuSans-49\"/>\n       <use x=\"63.623047\" xlink:href=\"#DejaVuSans-50\"/>\n       <use x=\"127.246094\" xlink:href=\"#DejaVuSans-46\"/>\n       <use x=\"159.033203\" xlink:href=\"#DejaVuSans-53\"/>\n      </g>\n     </g>\n    </g>\n    <g id=\"ytick_7\">\n     <g id=\"line2d_16\">\n      <g>\n       <use style=\"stroke:#000000;stroke-width:0.8;\" x=\"50.14375\" xlink:href=\"#mfb6366f050\" y=\"93.903219\"/>\n      </g>\n     </g>\n     <g id=\"text_17\">\n      <!-- 15.0 -->\n      <g transform=\"translate(20.878125 97.702437)scale(0.1 -0.1)\">\n       <use xlink:href=\"#DejaVuSans-49\"/>\n       <use x=\"63.623047\" xlink:href=\"#DejaVuSans-53\"/>\n       <use x=\"127.246094\" xlink:href=\"#DejaVuSans-46\"/>\n       <use x=\"159.033203\" xlink:href=\"#DejaVuSans-48\"/>\n      </g>\n     </g>\n    </g>\n    <g id=\"ytick_8\">\n     <g id=\"line2d_17\">\n      <g>\n       <use style=\"stroke:#000000;stroke-width:0.8;\" x=\"50.14375\" xlink:href=\"#mfb6366f050\" y=\"69.612991\"/>\n      </g>\n     </g>\n     <g id=\"text_18\">\n      <!-- 17.5 -->\n      <g transform=\"translate(20.878125 73.412209)scale(0.1 -0.1)\">\n       <use xlink:href=\"#DejaVuSans-49\"/>\n       <use x=\"63.623047\" xlink:href=\"#DejaVuSans-55\"/>\n       <use x=\"127.246094\" xlink:href=\"#DejaVuSans-46\"/>\n       <use x=\"159.033203\" xlink:href=\"#DejaVuSans-53\"/>\n      </g>\n     </g>\n    </g>\n    <g id=\"ytick_9\">\n     <g id=\"line2d_18\">\n      <g>\n       <use style=\"stroke:#000000;stroke-width:0.8;\" x=\"50.14375\" xlink:href=\"#mfb6366f050\" y=\"45.322762\"/>\n      </g>\n     </g>\n     <g id=\"text_19\">\n      <!-- 20.0 -->\n      <g transform=\"translate(20.878125 49.121981)scale(0.1 -0.1)\">\n       <use xlink:href=\"#DejaVuSans-50\"/>\n       <use x=\"63.623047\" xlink:href=\"#DejaVuSans-48\"/>\n       <use x=\"127.246094\" xlink:href=\"#DejaVuSans-46\"/>\n       <use x=\"159.033203\" xlink:href=\"#DejaVuSans-48\"/>\n      </g>\n     </g>\n    </g>\n    <g id=\"text_20\">\n     <!-- Loglikelihood -->\n     <g transform=\"translate(14.798438 163.77875)rotate(-90)scale(0.1 -0.1)\">\n      <defs>\n       <path d=\"M 9.8125 72.90625 \nL 19.671875 72.90625 \nL 19.671875 8.296875 \nL 55.171875 8.296875 \nL 55.171875 0 \nL 9.8125 0 \nz\n\" id=\"DejaVuSans-76\"/>\n       <path d=\"M 45.40625 27.984375 \nQ 45.40625 37.75 41.375 43.109375 \nQ 37.359375 48.484375 30.078125 48.484375 \nQ 22.859375 48.484375 18.828125 43.109375 \nQ 14.796875 37.75 14.796875 27.984375 \nQ 14.796875 18.265625 18.828125 12.890625 \nQ 22.859375 7.515625 30.078125 7.515625 \nQ 37.359375 7.515625 41.375 12.890625 \nQ 45.40625 18.265625 45.40625 27.984375 \nz\nM 54.390625 6.78125 \nQ 54.390625 -7.171875 48.1875 -13.984375 \nQ 42 -20.796875 29.203125 -20.796875 \nQ 24.46875 -20.796875 20.265625 -20.09375 \nQ 16.0625 -19.390625 12.109375 -17.921875 \nL 12.109375 -9.1875 \nQ 16.0625 -11.328125 19.921875 -12.34375 \nQ 23.78125 -13.375 27.78125 -13.375 \nQ 36.625 -13.375 41.015625 -8.765625 \nQ 45.40625 -4.15625 45.40625 5.171875 \nL 45.40625 9.625 \nQ 42.625 4.78125 38.28125 2.390625 \nQ 33.9375 0 27.875 0 \nQ 17.828125 0 11.671875 7.65625 \nQ 5.515625 15.328125 5.515625 27.984375 \nQ 5.515625 40.671875 11.671875 48.328125 \nQ 17.828125 56 27.875 56 \nQ 33.9375 56 38.28125 53.609375 \nQ 42.625 51.21875 45.40625 46.390625 \nL 45.40625 54.6875 \nL 54.390625 54.6875 \nz\n\" id=\"DejaVuSans-103\"/>\n       <path d=\"M 9.421875 75.984375 \nL 18.40625 75.984375 \nL 18.40625 0 \nL 9.421875 0 \nz\n\" id=\"DejaVuSans-108\"/>\n       <path d=\"M 9.421875 54.6875 \nL 18.40625 54.6875 \nL 18.40625 0 \nL 9.421875 0 \nz\nM 9.421875 75.984375 \nL 18.40625 75.984375 \nL 18.40625 64.59375 \nL 9.421875 64.59375 \nz\n\" id=\"DejaVuSans-105\"/>\n       <path d=\"M 9.078125 75.984375 \nL 18.109375 75.984375 \nL 18.109375 31.109375 \nL 44.921875 54.6875 \nL 56.390625 54.6875 \nL 27.390625 29.109375 \nL 57.625 0 \nL 45.90625 0 \nL 18.109375 26.703125 \nL 18.109375 0 \nL 9.078125 0 \nz\n\" id=\"DejaVuSans-107\"/>\n       <path d=\"M 54.890625 33.015625 \nL 54.890625 0 \nL 45.90625 0 \nL 45.90625 32.71875 \nQ 45.90625 40.484375 42.875 44.328125 \nQ 39.84375 48.1875 33.796875 48.1875 \nQ 26.515625 48.1875 22.3125 43.546875 \nQ 18.109375 38.921875 18.109375 30.90625 \nL 18.109375 0 \nL 9.078125 0 \nL 9.078125 75.984375 \nL 18.109375 75.984375 \nL 18.109375 46.1875 \nQ 21.34375 51.125 25.703125 53.5625 \nQ 30.078125 56 35.796875 56 \nQ 45.21875 56 50.046875 50.171875 \nQ 54.890625 44.34375 54.890625 33.015625 \nz\n\" id=\"DejaVuSans-104\"/>\n       <path d=\"M 45.40625 46.390625 \nL 45.40625 75.984375 \nL 54.390625 75.984375 \nL 54.390625 0 \nL 45.40625 0 \nL 45.40625 8.203125 \nQ 42.578125 3.328125 38.25 0.953125 \nQ 33.9375 -1.421875 27.875 -1.421875 \nQ 17.96875 -1.421875 11.734375 6.484375 \nQ 5.515625 14.40625 5.515625 27.296875 \nQ 5.515625 40.1875 11.734375 48.09375 \nQ 17.96875 56 27.875 56 \nQ 33.9375 56 38.25 53.625 \nQ 42.578125 51.265625 45.40625 46.390625 \nz\nM 14.796875 27.296875 \nQ 14.796875 17.390625 18.875 11.75 \nQ 22.953125 6.109375 30.078125 6.109375 \nQ 37.203125 6.109375 41.296875 11.75 \nQ 45.40625 17.390625 45.40625 27.296875 \nQ 45.40625 37.203125 41.296875 42.84375 \nQ 37.203125 48.484375 30.078125 48.484375 \nQ 22.953125 48.484375 18.875 42.84375 \nQ 14.796875 37.203125 14.796875 27.296875 \nz\n\" id=\"DejaVuSans-100\"/>\n      </defs>\n      <use xlink:href=\"#DejaVuSans-76\"/>\n      <use x=\"53.962891\" xlink:href=\"#DejaVuSans-111\"/>\n      <use x=\"115.144531\" xlink:href=\"#DejaVuSans-103\"/>\n      <use x=\"178.621094\" xlink:href=\"#DejaVuSans-108\"/>\n      <use x=\"206.404297\" xlink:href=\"#DejaVuSans-105\"/>\n      <use x=\"234.1875\" xlink:href=\"#DejaVuSans-107\"/>\n      <use x=\"288.472656\" xlink:href=\"#DejaVuSans-101\"/>\n      <use x=\"349.996094\" xlink:href=\"#DejaVuSans-108\"/>\n      <use x=\"377.779297\" xlink:href=\"#DejaVuSans-105\"/>\n      <use x=\"405.5625\" xlink:href=\"#DejaVuSans-104\"/>\n      <use x=\"468.941406\" xlink:href=\"#DejaVuSans-111\"/>\n      <use x=\"530.123047\" xlink:href=\"#DejaVuSans-111\"/>\n      <use x=\"591.304688\" xlink:href=\"#DejaVuSans-100\"/>\n     </g>\n    </g>\n   </g>\n   <g id=\"line2d_19\">\n    <defs>\n     <path d=\"M 0 1.5 \nC 0.397805 1.5 0.77937 1.341951 1.06066 1.06066 \nC 1.341951 0.77937 1.5 0.397805 1.5 0 \nC 1.5 -0.397805 1.341951 -0.77937 1.06066 -1.06066 \nC 0.77937 -1.341951 0.397805 -1.5 0 -1.5 \nC -0.397805 -1.5 -0.77937 -1.341951 -1.06066 -1.06066 \nC -1.341951 -0.77937 -1.5 -0.397805 -1.5 0 \nC -1.5 0.397805 -1.341951 0.77937 -1.06066 1.06066 \nC -0.77937 1.341951 -0.397805 1.5 0 1.5 \nz\n\" id=\"m76c6cd6e46\" style=\"stroke:#1f77b4;\"/>\n    </defs>\n    <g clip-path=\"url(#p64575828db)\">\n     <use style=\"fill:#1f77b4;stroke:#1f77b4;\" x=\"65.361932\" xlink:href=\"#m76c6cd6e46\" y=\"52.478326\"/>\n     <use style=\"fill:#1f77b4;stroke:#1f77b4;\" x=\"80.580114\" xlink:href=\"#m76c6cd6e46\" y=\"129.200923\"/>\n     <use style=\"fill:#1f77b4;stroke:#1f77b4;\" x=\"95.798295\" xlink:href=\"#m76c6cd6e46\" y=\"75.610904\"/>\n     <use style=\"fill:#1f77b4;stroke:#1f77b4;\" x=\"111.016477\" xlink:href=\"#m76c6cd6e46\" y=\"224.304914\"/>\n     <use style=\"fill:#1f77b4;stroke:#1f77b4;\" x=\"126.234659\" xlink:href=\"#m76c6cd6e46\" y=\"155.595534\"/>\n     <use style=\"fill:#1f77b4;stroke:#1f77b4;\" x=\"141.452841\" xlink:href=\"#m76c6cd6e46\" y=\"165.807182\"/>\n     <use style=\"fill:#1f77b4;stroke:#1f77b4;\" x=\"156.671023\" xlink:href=\"#m76c6cd6e46\" y=\"152.484263\"/>\n     <use style=\"fill:#1f77b4;stroke:#1f77b4;\" x=\"171.889205\" xlink:href=\"#m76c6cd6e46\" y=\"223.943272\"/>\n     <use style=\"fill:#1f77b4;stroke:#1f77b4;\" x=\"187.107386\" xlink:href=\"#m76c6cd6e46\" y=\"92.267402\"/>\n     <use style=\"fill:#1f77b4;stroke:#1f77b4;\" x=\"202.325568\" xlink:href=\"#m76c6cd6e46\" y=\"136.916138\"/>\n     <use style=\"fill:#1f77b4;stroke:#1f77b4;\" x=\"232.761932\" xlink:href=\"#m76c6cd6e46\" y=\"32.201761\"/>\n     <use style=\"fill:#1f77b4;stroke:#1f77b4;\" x=\"247.980114\" xlink:href=\"#m76c6cd6e46\" y=\"196.770606\"/>\n     <use style=\"fill:#1f77b4;stroke:#1f77b4;\" x=\"263.198295\" xlink:href=\"#m76c6cd6e46\" y=\"134.181523\"/>\n     <use style=\"fill:#1f77b4;stroke:#1f77b4;\" x=\"278.416477\" xlink:href=\"#m76c6cd6e46\" y=\"221.628836\"/>\n     <use style=\"fill:#1f77b4;stroke:#1f77b4;\" x=\"293.634659\" xlink:href=\"#m76c6cd6e46\" y=\"80.50601\"/>\n     <use style=\"fill:#1f77b4;stroke:#1f77b4;\" x=\"308.852841\" xlink:href=\"#m76c6cd6e46\" y=\"196.179042\"/>\n     <use style=\"fill:#1f77b4;stroke:#1f77b4;\" x=\"324.071023\" xlink:href=\"#m76c6cd6e46\" y=\"181.887813\"/>\n     <use style=\"fill:#1f77b4;stroke:#1f77b4;\" x=\"339.289205\" xlink:href=\"#m76c6cd6e46\" y=\"137.397002\"/>\n     <use style=\"fill:#1f77b4;stroke:#1f77b4;\" x=\"354.507386\" xlink:href=\"#m76c6cd6e46\" y=\"162.461873\"/>\n     <use style=\"fill:#1f77b4;stroke:#1f77b4;\" x=\"369.725568\" xlink:href=\"#m76c6cd6e46\" y=\"185.515427\"/>\n    </g>\n   </g>\n   <g id=\"line2d_20\">\n    <g clip-path=\"url(#p64575828db)\">\n     <use style=\"fill:#1f77b4;stroke:#1f77b4;\" x=\"65.361932\" xlink:href=\"#m76c6cd6e46\" y=\"217.007598\"/>\n     <use style=\"fill:#1f77b4;stroke:#1f77b4;\" x=\"80.580114\" xlink:href=\"#m76c6cd6e46\" y=\"214.348582\"/>\n     <use style=\"fill:#1f77b4;stroke:#1f77b4;\" x=\"95.798295\" xlink:href=\"#m76c6cd6e46\" y=\"212.365741\"/>\n     <use style=\"fill:#1f77b4;stroke:#1f77b4;\" x=\"111.016477\" xlink:href=\"#m76c6cd6e46\" y=\"209.692524\"/>\n     <use style=\"fill:#1f77b4;stroke:#1f77b4;\" x=\"126.234659\" xlink:href=\"#m76c6cd6e46\" y=\"222.944895\"/>\n     <use style=\"fill:#1f77b4;stroke:#1f77b4;\" x=\"141.452841\" xlink:href=\"#m76c6cd6e46\" y=\"220.752979\"/>\n     <use style=\"fill:#1f77b4;stroke:#1f77b4;\" x=\"156.671023\" xlink:href=\"#m76c6cd6e46\" y=\"224.872037\"/>\n     <use style=\"fill:#1f77b4;stroke:#1f77b4;\" x=\"171.889205\" xlink:href=\"#m76c6cd6e46\" y=\"226.409598\"/>\n     <use style=\"fill:#1f77b4;stroke:#1f77b4;\" x=\"187.107386\" xlink:href=\"#m76c6cd6e46\" y=\"223.966649\"/>\n     <use style=\"fill:#1f77b4;stroke:#1f77b4;\" x=\"202.325568\" xlink:href=\"#m76c6cd6e46\" y=\"226.953597\"/>\n     <use style=\"fill:#1f77b4;stroke:#1f77b4;\" x=\"232.761932\" xlink:href=\"#m76c6cd6e46\" y=\"221.545689\"/>\n     <use style=\"fill:#1f77b4;stroke:#1f77b4;\" x=\"247.980114\" xlink:href=\"#m76c6cd6e46\" y=\"218.122011\"/>\n     <use style=\"fill:#1f77b4;stroke:#1f77b4;\" x=\"263.198295\" xlink:href=\"#m76c6cd6e46\" y=\"223.621053\"/>\n     <use style=\"fill:#1f77b4;stroke:#1f77b4;\" x=\"278.416477\" xlink:href=\"#m76c6cd6e46\" y=\"223.475995\"/>\n     <use style=\"fill:#1f77b4;stroke:#1f77b4;\" x=\"293.634659\" xlink:href=\"#m76c6cd6e46\" y=\"229.874489\"/>\n     <use style=\"fill:#1f77b4;stroke:#1f77b4;\" x=\"308.852841\" xlink:href=\"#m76c6cd6e46\" y=\"223.456753\"/>\n     <use style=\"fill:#1f77b4;stroke:#1f77b4;\" x=\"324.071023\" xlink:href=\"#m76c6cd6e46\" y=\"215.38809\"/>\n     <use style=\"fill:#1f77b4;stroke:#1f77b4;\" x=\"339.289205\" xlink:href=\"#m76c6cd6e46\" y=\"214.43424\"/>\n     <use style=\"fill:#1f77b4;stroke:#1f77b4;\" x=\"354.507386\" xlink:href=\"#m76c6cd6e46\" y=\"219.684511\"/>\n     <use style=\"fill:#1f77b4;stroke:#1f77b4;\" x=\"369.725568\" xlink:href=\"#m76c6cd6e46\" y=\"216.028015\"/>\n    </g>\n   </g>\n   <g id=\"patch_3\">\n    <path d=\"M 50.14375 239.758125 \nL 50.14375 22.318125 \n\" style=\"fill:none;stroke:#000000;stroke-linecap:square;stroke-linejoin:miter;stroke-width:0.8;\"/>\n   </g>\n   <g id=\"patch_4\">\n    <path d=\"M 384.94375 239.758125 \nL 384.94375 22.318125 \n\" style=\"fill:none;stroke:#000000;stroke-linecap:square;stroke-linejoin:miter;stroke-width:0.8;\"/>\n   </g>\n   <g id=\"patch_5\">\n    <path d=\"M 50.14375 239.758125 \nL 384.94375 239.758125 \n\" style=\"fill:none;stroke:#000000;stroke-linecap:square;stroke-linejoin:miter;stroke-width:0.8;\"/>\n   </g>\n   <g id=\"patch_6\">\n    <path d=\"M 50.14375 22.318125 \nL 384.94375 22.318125 \n\" style=\"fill:none;stroke:#000000;stroke-linecap:square;stroke-linejoin:miter;stroke-width:0.8;\"/>\n   </g>\n   <g id=\"text_21\">\n    <!-- MLP Classifier for SM data -->\n    <g transform=\"translate(139.638438 16.318125)scale(0.12 -0.12)\">\n     <defs>\n      <path d=\"M 9.8125 72.90625 \nL 24.515625 72.90625 \nL 43.109375 23.296875 \nL 61.8125 72.90625 \nL 76.515625 72.90625 \nL 76.515625 0 \nL 66.890625 0 \nL 66.890625 64.015625 \nL 48.09375 14.015625 \nL 38.1875 14.015625 \nL 19.390625 64.015625 \nL 19.390625 0 \nL 9.8125 0 \nz\n\" id=\"DejaVuSans-77\"/>\n      <path d=\"M 19.671875 64.796875 \nL 19.671875 37.40625 \nL 32.078125 37.40625 \nQ 38.96875 37.40625 42.71875 40.96875 \nQ 46.484375 44.53125 46.484375 51.125 \nQ 46.484375 57.671875 42.71875 61.234375 \nQ 38.96875 64.796875 32.078125 64.796875 \nz\nM 9.8125 72.90625 \nL 32.078125 72.90625 \nQ 44.34375 72.90625 50.609375 67.359375 \nQ 56.890625 61.8125 56.890625 51.125 \nQ 56.890625 40.328125 50.609375 34.8125 \nQ 44.34375 29.296875 32.078125 29.296875 \nL 19.671875 29.296875 \nL 19.671875 0 \nL 9.8125 0 \nz\n\" id=\"DejaVuSans-80\"/>\n      <path d=\"M 34.28125 27.484375 \nQ 23.390625 27.484375 19.1875 25 \nQ 14.984375 22.515625 14.984375 16.5 \nQ 14.984375 11.71875 18.140625 8.90625 \nQ 21.296875 6.109375 26.703125 6.109375 \nQ 34.1875 6.109375 38.703125 11.40625 \nQ 43.21875 16.703125 43.21875 25.484375 \nL 43.21875 27.484375 \nz\nM 52.203125 31.203125 \nL 52.203125 0 \nL 43.21875 0 \nL 43.21875 8.296875 \nQ 40.140625 3.328125 35.546875 0.953125 \nQ 30.953125 -1.421875 24.3125 -1.421875 \nQ 15.921875 -1.421875 10.953125 3.296875 \nQ 6 8.015625 6 15.921875 \nQ 6 25.140625 12.171875 29.828125 \nQ 18.359375 34.515625 30.609375 34.515625 \nL 43.21875 34.515625 \nL 43.21875 35.40625 \nQ 43.21875 41.609375 39.140625 45 \nQ 35.0625 48.390625 27.6875 48.390625 \nQ 23 48.390625 18.546875 47.265625 \nQ 14.109375 46.140625 10.015625 43.890625 \nL 10.015625 52.203125 \nQ 14.9375 54.109375 19.578125 55.046875 \nQ 24.21875 56 28.609375 56 \nQ 40.484375 56 46.34375 49.84375 \nQ 52.203125 43.703125 52.203125 31.203125 \nz\n\" id=\"DejaVuSans-97\"/>\n      <path d=\"M 44.28125 53.078125 \nL 44.28125 44.578125 \nQ 40.484375 46.53125 36.375 47.5 \nQ 32.28125 48.484375 27.875 48.484375 \nQ 21.1875 48.484375 17.84375 46.4375 \nQ 14.5 44.390625 14.5 40.28125 \nQ 14.5 37.15625 16.890625 35.375 \nQ 19.28125 33.59375 26.515625 31.984375 \nL 29.59375 31.296875 \nQ 39.15625 29.25 43.1875 25.515625 \nQ 47.21875 21.78125 47.21875 15.09375 \nQ 47.21875 7.46875 41.1875 3.015625 \nQ 35.15625 -1.421875 24.609375 -1.421875 \nQ 20.21875 -1.421875 15.453125 -0.5625 \nQ 10.6875 0.296875 5.421875 2 \nL 5.421875 11.28125 \nQ 10.40625 8.6875 15.234375 7.390625 \nQ 20.0625 6.109375 24.8125 6.109375 \nQ 31.15625 6.109375 34.5625 8.28125 \nQ 37.984375 10.453125 37.984375 14.40625 \nQ 37.984375 18.0625 35.515625 20.015625 \nQ 33.0625 21.96875 24.703125 23.78125 \nL 21.578125 24.515625 \nQ 13.234375 26.265625 9.515625 29.90625 \nQ 5.8125 33.546875 5.8125 39.890625 \nQ 5.8125 47.609375 11.28125 51.796875 \nQ 16.75 56 26.8125 56 \nQ 31.78125 56 36.171875 55.265625 \nQ 40.578125 54.546875 44.28125 53.078125 \nz\n\" id=\"DejaVuSans-115\"/>\n      <path d=\"M 41.109375 46.296875 \nQ 39.59375 47.171875 37.8125 47.578125 \nQ 36.03125 48 33.890625 48 \nQ 26.265625 48 22.1875 43.046875 \nQ 18.109375 38.09375 18.109375 28.8125 \nL 18.109375 0 \nL 9.078125 0 \nL 9.078125 54.6875 \nL 18.109375 54.6875 \nL 18.109375 46.1875 \nQ 20.953125 51.171875 25.484375 53.578125 \nQ 30.03125 56 36.53125 56 \nQ 37.453125 56 38.578125 55.875 \nQ 39.703125 55.765625 41.0625 55.515625 \nz\n\" id=\"DejaVuSans-114\"/>\n      <path d=\"M 53.515625 70.515625 \nL 53.515625 60.890625 \nQ 47.90625 63.578125 42.921875 64.890625 \nQ 37.9375 66.21875 33.296875 66.21875 \nQ 25.25 66.21875 20.875 63.09375 \nQ 16.5 59.96875 16.5 54.203125 \nQ 16.5 49.359375 19.40625 46.890625 \nQ 22.3125 44.4375 30.421875 42.921875 \nL 36.375 41.703125 \nQ 47.40625 39.59375 52.65625 34.296875 \nQ 57.90625 29 57.90625 20.125 \nQ 57.90625 9.515625 50.796875 4.046875 \nQ 43.703125 -1.421875 29.984375 -1.421875 \nQ 24.8125 -1.421875 18.96875 -0.25 \nQ 13.140625 0.921875 6.890625 3.21875 \nL 6.890625 13.375 \nQ 12.890625 10.015625 18.65625 8.296875 \nQ 24.421875 6.59375 29.984375 6.59375 \nQ 38.421875 6.59375 43.015625 9.90625 \nQ 47.609375 13.234375 47.609375 19.390625 \nQ 47.609375 24.75 44.3125 27.78125 \nQ 41.015625 30.8125 33.5 32.328125 \nL 27.484375 33.5 \nQ 16.453125 35.6875 11.515625 40.375 \nQ 6.59375 45.0625 6.59375 53.421875 \nQ 6.59375 63.09375 13.40625 68.65625 \nQ 20.21875 74.21875 32.171875 74.21875 \nQ 37.3125 74.21875 42.625 73.28125 \nQ 47.953125 72.359375 53.515625 70.515625 \nz\n\" id=\"DejaVuSans-83\"/>\n      <path d=\"M 18.3125 70.21875 \nL 18.3125 54.6875 \nL 36.8125 54.6875 \nL 36.8125 47.703125 \nL 18.3125 47.703125 \nL 18.3125 18.015625 \nQ 18.3125 11.328125 20.140625 9.421875 \nQ 21.96875 7.515625 27.59375 7.515625 \nL 36.8125 7.515625 \nL 36.8125 0 \nL 27.59375 0 \nQ 17.1875 0 13.234375 3.875 \nQ 9.28125 7.765625 9.28125 18.015625 \nL 9.28125 47.703125 \nL 2.6875 47.703125 \nL 2.6875 54.6875 \nL 9.28125 54.6875 \nL 9.28125 70.21875 \nz\n\" id=\"DejaVuSans-116\"/>\n     </defs>\n     <use xlink:href=\"#DejaVuSans-77\"/>\n     <use x=\"86.279297\" xlink:href=\"#DejaVuSans-76\"/>\n     <use x=\"141.992188\" xlink:href=\"#DejaVuSans-80\"/>\n     <use x=\"202.294922\" xlink:href=\"#DejaVuSans-32\"/>\n     <use x=\"234.082031\" xlink:href=\"#DejaVuSans-67\"/>\n     <use x=\"303.90625\" xlink:href=\"#DejaVuSans-108\"/>\n     <use x=\"331.689453\" xlink:href=\"#DejaVuSans-97\"/>\n     <use x=\"392.96875\" xlink:href=\"#DejaVuSans-115\"/>\n     <use x=\"445.068359\" xlink:href=\"#DejaVuSans-115\"/>\n     <use x=\"497.167969\" xlink:href=\"#DejaVuSans-105\"/>\n     <use x=\"524.951172\" xlink:href=\"#DejaVuSans-102\"/>\n     <use x=\"560.15625\" xlink:href=\"#DejaVuSans-105\"/>\n     <use x=\"587.939453\" xlink:href=\"#DejaVuSans-101\"/>\n     <use x=\"649.462891\" xlink:href=\"#DejaVuSans-114\"/>\n     <use x=\"690.576172\" xlink:href=\"#DejaVuSans-32\"/>\n     <use x=\"722.363281\" xlink:href=\"#DejaVuSans-102\"/>\n     <use x=\"757.568359\" xlink:href=\"#DejaVuSans-111\"/>\n     <use x=\"818.75\" xlink:href=\"#DejaVuSans-114\"/>\n     <use x=\"859.863281\" xlink:href=\"#DejaVuSans-32\"/>\n     <use x=\"891.650391\" xlink:href=\"#DejaVuSans-83\"/>\n     <use x=\"955.126953\" xlink:href=\"#DejaVuSans-77\"/>\n     <use x=\"1041.40625\" xlink:href=\"#DejaVuSans-32\"/>\n     <use x=\"1073.193359\" xlink:href=\"#DejaVuSans-100\"/>\n     <use x=\"1136.669922\" xlink:href=\"#DejaVuSans-97\"/>\n     <use x=\"1197.949219\" xlink:href=\"#DejaVuSans-116\"/>\n     <use x=\"1237.158203\" xlink:href=\"#DejaVuSans-97\"/>\n    </g>\n   </g>\n   <g id=\"legend_1\">\n    <g id=\"patch_7\">\n     <path d=\"M 330.967188 59.674375 \nL 377.94375 59.674375 \nQ 379.94375 59.674375 379.94375 57.674375 \nL 379.94375 29.318125 \nQ 379.94375 27.318125 377.94375 27.318125 \nL 330.967188 27.318125 \nQ 328.967188 27.318125 328.967188 29.318125 \nL 328.967188 57.674375 \nQ 328.967188 59.674375 330.967188 59.674375 \nz\n\" style=\"fill:#ffffff;opacity:0.8;stroke:#cccccc;stroke-linejoin:miter;\"/>\n    </g>\n    <g id=\"line2d_21\"/>\n    <g id=\"line2d_22\">\n     <g>\n      <use style=\"fill:#1f77b4;stroke:#1f77b4;\" x=\"342.967188\" xlink:href=\"#m76c6cd6e46\" y=\"35.416562\"/>\n     </g>\n    </g>\n    <g id=\"text_22\">\n     <!-- SM -->\n     <g transform=\"translate(360.967188 38.916562)scale(0.1 -0.1)\">\n      <use xlink:href=\"#DejaVuSans-83\"/>\n      <use x=\"63.476562\" xlink:href=\"#DejaVuSans-77\"/>\n     </g>\n    </g>\n    <g id=\"line2d_23\"/>\n    <g id=\"line2d_24\">\n     <g>\n      <use style=\"fill:#1f77b4;stroke:#1f77b4;\" x=\"342.967188\" xlink:href=\"#m76c6cd6e46\" y=\"50.094687\"/>\n     </g>\n    </g>\n    <g id=\"text_23\">\n     <!-- SM -->\n     <g transform=\"translate(360.967188 53.594687)scale(0.1 -0.1)\">\n      <use xlink:href=\"#DejaVuSans-83\"/>\n      <use x=\"63.476562\" xlink:href=\"#DejaVuSans-77\"/>\n     </g>\n    </g>\n   </g>\n  </g>\n </g>\n <defs>\n  <clipPath id=\"p64575828db\">\n   <rect height=\"217.44\" width=\"334.8\" x=\"50.14375\" y=\"22.318125\"/>\n  </clipPath>\n </defs>\n</svg>\n",
      "text/plain": [
       "<Figure size 432x288 with 1 Axes>"
      ]
     },
     "metadata": {
      "needs_background": "light"
     },
     "output_type": "display_data"
    }
   ],
   "source": [
    "plt.plot(k_inverse_list, std_av0, marker='.',c='tab:blue',ls='none',label='SM')\n",
    "plt.plot(k_inverse_list, std_1_list, marker='.',c='tab:blue',ls='none',label='SM')\n",
    "\n",
    "plt.xlabel(\"C9 coef.\")\n",
    "plt.ylabel(\"Loglikelihood\")\n",
    "plt.title('MLP Classifier for SM data')\n",
    "plt.legend()\n",
    "plt.show()"
   ]
  },
  {
   "cell_type": "code",
   "execution_count": 85,
   "metadata": {},
   "outputs": [
    {
     "name": "stdout",
     "output_type": "stream",
     "text": [
      "11.440406351423823\n",
      "12.534573628778206\n"
     ]
    }
   ],
   "source": [
    "print(np.mean(std_av0)/np.mean(std_0_list))\n",
    "print(np.mean(std_av1)/np.mean(std_1_list))"
   ]
  },
  {
   "cell_type": "code",
   "execution_count": null,
   "metadata": {},
   "outputs": [],
   "source": []
  }
 ],
 "metadata": {
  "interpreter": {
   "hash": "d1149ae9be4f0945d1d296c076b623883e89279b6939a63f260b5649fba9c55f"
  },
  "kernelspec": {
   "display_name": "Python 3.8.5 64-bit ('base': conda)",
   "name": "python3"
  },
  "language_info": {
   "codemirror_mode": {
    "name": "ipython",
    "version": 3
   },
   "file_extension": ".py",
   "mimetype": "text/x-python",
   "name": "python",
   "nbconvert_exporter": "python",
   "pygments_lexer": "ipython3",
   "version": "3.8.5"
  },
  "orig_nbformat": 4
 },
 "nbformat": 4,
 "nbformat_minor": 2
}
